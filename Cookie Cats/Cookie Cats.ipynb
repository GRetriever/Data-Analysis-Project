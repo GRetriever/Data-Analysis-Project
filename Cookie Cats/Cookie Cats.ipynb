{
 "cells": [
  {
   "cell_type": "code",
   "execution_count": null,
   "metadata": {},
   "outputs": [],
   "source": [
    "import pandas as pd\n",
    "import numpy as np\n",
    "import seaborn as sns\n",
    "from scipy import stats\n",
    "from matplotlib import pyplot as plt\n",
    "from scipy.stats import chi2_contingency\n"
   ]
  },
  {
   "cell_type": "code",
   "execution_count": null,
   "metadata": {},
   "outputs": [],
   "source": [
    "# 1번 자료\n",
    "\n",
    "df = pd.read_csv('./data/cookie_cats.csv')\n",
    "df"
   ]
  },
  {
   "cell_type": "code",
   "execution_count": null,
   "metadata": {},
   "outputs": [],
   "source": [
    "# 2번 자료\n",
    "\n",
    "df.info()"
   ]
  },
  {
   "cell_type": "code",
   "execution_count": null,
   "metadata": {},
   "outputs": [],
   "source": [
    "# 3번 자료\n",
    "\n",
    "df.isnull().sum()"
   ]
  },
  {
   "cell_type": "code",
   "execution_count": null,
   "metadata": {},
   "outputs": [],
   "source": [
    "# 4번 자료\n",
    "\n",
    "df.nunique()"
   ]
  },
  {
   "cell_type": "code",
   "execution_count": null,
   "metadata": {},
   "outputs": [],
   "source": [
    "# 5번 자료\n",
    "# version 개별 수 파악\n",
    "\n",
    "version_count = df['version'].value_counts()\n",
    "\n",
    "sns.set_style('whitegrid')\n",
    "version_count.plot(kind='bar')\n",
    "plt.title('Count version')\n",
    "plt.text(0,45489,45489)\n",
    "plt.text(1,44699,44699)\n",
    "_=plt.xticks(rotation=0)"
   ]
  },
  {
   "cell_type": "code",
   "execution_count": null,
   "metadata": {},
   "outputs": [],
   "source": [
    "# 6번\n",
    "# 전체 범위 파악\n",
    "\n",
    "df[['userid','sum_gamerounds']].sort_values('sum_gamerounds')\n",
    "\n",
    "# 약 5만 값 1개 ==> 무의미 판단 ==> drop\n",
    "\n",
    "df = df.drop(df[df['userid'] == 6390605].index,axis = 0)\n",
    "\n",
    "sns.scatterplot(\n",
    "    data = df,\n",
    "    x = 'userid',\n",
    "    y = 'sum_gamerounds'\n",
    ").set(title='Gamerounds by Scatterplot')"
   ]
  },
  {
   "cell_type": "code",
   "execution_count": null,
   "metadata": {},
   "outputs": [],
   "source": [
    "# 6-1번\n",
    "\n",
    "# 전체 범위 파악\n",
    "df['sum_gamerounds'].sort_values()\n",
    "\n",
    "# 그래프 그리기\n",
    "df['sum_gamerounds'].plot(kind='hist',bins=np.arange(0,250,3))\n",
    "plt.title('Gamerounds by Histogram')"
   ]
  },
  {
   "cell_type": "code",
   "execution_count": null,
   "metadata": {},
   "outputs": [],
   "source": [
    "# 7번 자료\n",
    "# version별 게임 라운드진행 산포도 그래프\n",
    "\n",
    "sns.stripplot(\n",
    "    data = df,\n",
    "    x = 'version',\n",
    "    y = 'sum_gamerounds',\n",
    "    size = 3,\n",
    "    palette = 'pastel'\n",
    ").set(title = 'Gamerounds by Version')\n",
    "plt.ylim(0,2500)"
   ]
  },
  {
   "cell_type": "code",
   "execution_count": null,
   "metadata": {},
   "outputs": [],
   "source": [
    "print(df[df['version'] == 'gate_30']['sum_gamerounds'].mean())\n",
    "print(df[df['version'] == 'gate_40']['sum_gamerounds'].mean())"
   ]
  },
  {
   "cell_type": "code",
   "execution_count": null,
   "metadata": {},
   "outputs": [],
   "source": [
    "plt.figure(figsize=(12,5))\n",
    "\n",
    "plt.subplot(1,2,1)\n",
    "sns.countplot(\n",
    "    data = df,\n",
    "    x = 'version',\n",
    "    hue = 'retention_1'\n",
    "    ).set(title = 'retention_1 by version')\n",
    "\n",
    "plt.subplot(1,2,2)\n",
    "sns.countplot(\n",
    "    data = df,\n",
    "    x = 'version',\n",
    "    hue = 'retention_7'\n",
    "    ).set(title = 'retention_7 by version')\n",
    "\n"
   ]
  },
  {
   "cell_type": "code",
   "execution_count": null,
   "metadata": {},
   "outputs": [],
   "source": [
    "test_names = ['sum_gamerounds']\n",
    "\n",
    "gate_30 = df[df['version'] == 'gate_30'][['sum_gamerounds']]\n",
    "gate_40 = df[df['version'] == 'gate_40'][['sum_gamerounds']]\n",
    "\n",
    "for test_name in test_names:\n",
    "    statistic,p_value = stats.levene(gate_30[test_name], gate_40[test_name])\n",
    "    if p_value > 0.05:\n",
    "        print(f\"{test_name} p-value: {p_value}, 등분산 가정 만족\")\n",
    "    else:\n",
    "        print(f\"{test_name} p-value: {p_value}, 이분산 가정 만족\")"
   ]
  },
  {
   "cell_type": "code",
   "execution_count": null,
   "metadata": {},
   "outputs": [],
   "source": [
    "for test_name in test_names:\n",
    "    t_statistic,pvalue = stats.ttest_ind(\n",
    "        a = gate_30[test_name],\n",
    "        b = gate_40[test_name],\n",
    "        alternative = 'two-sided',\n",
    "        equal_var = True\n",
    ")\n",
    "print(f\"p-value: {p_value}\")\n",
    "print(f\"귀무 가설 기각: {p_value < 0.05}\")"
   ]
  },
  {
   "cell_type": "code",
   "execution_count": null,
   "metadata": {},
   "outputs": [],
   "source": [
    "df_3 = df.sort_values(by=\"sum_gamerounds\",ascending=False,ignore_index=True)[:9018]\n",
    "test_names = [\"sum_gamerounds\"]\n",
    "\n",
    "df_3.groupby([\"version\"])[[\"sum_gamerounds\"]].mean()\n",
    "\n",
    "version_30 = df_3[df_3[\"version\"] ==\"gate_30\" ][[\"sum_gamerounds\"]]\n",
    "version_40 = df_3[df_3[\"version\"]==\"gate_40\"][[\"sum_gamerounds\"]]\n",
    "\n",
    "for test_name in test_names:\n",
    "    _, p_value_levene = stats.levene(version_30[test_name], version_40[test_name])\n",
    "    if p_value_levene > 0.05:\n",
    "        print(f\"{test_name} p-value: {p_value_levene}, 등분산 가정 만족\")\n",
    "    else:\n",
    "        print(f\"{test_name} p-value: {p_value_levene}, 이분산 가정 만족\")"
   ]
  },
  {
   "cell_type": "code",
   "execution_count": null,
   "metadata": {},
   "outputs": [],
   "source": [
    "t_statistic, p_value = stats.ttest_ind(\n",
    "    a=version_30,\n",
    "    b=version_40,\n",
    "    alternative=\"greater\",\n",
    "    equal_var=True\n",
    ")\n",
    "print(f\"p-value: {p_value}\")\n",
    "print(f\"귀무 가설 기각: {p_value < 0.05}\")"
   ]
  },
  {
   "cell_type": "code",
   "execution_count": null,
   "metadata": {},
   "outputs": [],
   "source": [
    "retention_1 = pd.crosstab(df['version'],df['retention_1'])\n",
    "\n",
    "retention_7 = pd.crosstab(df['version'],df['retention_7'])"
   ]
  },
  {
   "cell_type": "code",
   "execution_count": null,
   "metadata": {},
   "outputs": [],
   "source": [
    "retention_1"
   ]
  },
  {
   "cell_type": "code",
   "execution_count": null,
   "metadata": {},
   "outputs": [],
   "source": [
    "retention_7"
   ]
  },
  {
   "cell_type": "code",
   "execution_count": null,
   "metadata": {},
   "outputs": [],
   "source": [
    "chi2_statistics,pvalue,_,_=chi2_contingency(retention_1)\n",
    "\n",
    "print(f'카이제곱 통계량 : {chi2_statistics}')\n",
    "print(f'p value : {pvalue}')"
   ]
  },
  {
   "cell_type": "code",
   "execution_count": null,
   "metadata": {},
   "outputs": [],
   "source": [
    "chi2_statistics,pvalue,_,_=chi2_contingency(retention_7)\n",
    "\n",
    "print(f'카이제곱 통계량 : {chi2_statistics}')\n",
    "print(f'p value : {pvalue}')"
   ]
  },
  {
   "cell_type": "code",
   "execution_count": null,
   "metadata": {},
   "outputs": [],
   "source": [
    "a = df[df['version'] == 'gate_30']['retention_7']"
   ]
  },
  {
   "cell_type": "code",
   "execution_count": null,
   "metadata": {},
   "outputs": [],
   "source": [
    "b = df[df['version'] == 'gate_40']['retention_7']"
   ]
  },
  {
   "cell_type": "code",
   "execution_count": null,
   "metadata": {},
   "outputs": [],
   "source": [
    "plt.figure(figsize=(12,5))\n",
    "colors = ['lightskyblue', 'lightcoral']\n",
    "color = ['lightskyblue','lightcoral']\n",
    "\n",
    "plt.subplot(1,2,1)\n",
    "plt.pie(a.value_counts(),colors=colors,labels=a.unique(),autopct='%1.1f%%', startangle=140)\n",
    "plt.title('Retention 7 Ratio for Gate 30')\n",
    "\n",
    "plt.subplot(1,2,2)\n",
    "plt.pie(b.value_counts(),colors=color,labels=b.unique(),autopct='%1.1f%%', startangle=140)\n",
    "plt.title('Retention 7 Ratio for Gate 40')"
   ]
  },
  {
   "cell_type": "code",
   "execution_count": null,
   "metadata": {},
   "outputs": [],
   "source": [
    "# gamerounds 상위 25%\n",
    "\n",
    "\n",
    "df_4 = df.sort_values(by=\"sum_gamerounds\",ascending=False,ignore_index=True)[:22545]\n",
    "df_4.groupby([\"version\"])[[\"sum_gamerounds\"]].mean()\n",
    "test_names = [\"sum_gamerounds\"]\n",
    "\n",
    "version_30 = df_4[df_4[\"version\"] ==\"gate_30\" ][[\"sum_gamerounds\"]]\n",
    "version_40 = df_4[df_4[\"version\"]==\"gate_40\"][[\"sum_gamerounds\"]]\n",
    "\n",
    "for test_name in test_names:\n",
    "    _, p_value_levene = stats.levene(version_30[test_name], version_40[test_name])\n",
    "    if p_value_levene > 0.05:\n",
    "        print(f\"{test_name} p-value: {p_value_levene}, 등분산 가정 만족\")\n",
    "    else:\n",
    "        print(f\"{test_name} p-value: {p_value_levene}, 이분산 가정 만족\")"
   ]
  },
  {
   "cell_type": "code",
   "execution_count": null,
   "metadata": {},
   "outputs": [],
   "source": [
    "# T-5-5\n",
    "\n",
    "t_statistic, p_value = stats.ttest_ind(\n",
    "    a=version_30,\n",
    "    b=version_40,\n",
    "    alternative=\"greater\",\n",
    "    equal_var=True\n",
    ")\n",
    "print(f\"p-value: {p_value}\")\n",
    "print(f\"귀무 가설 기각: {p_value < 0.05}\")"
   ]
  },
  {
   "cell_type": "code",
   "execution_count": null,
   "metadata": {},
   "outputs": [],
   "source": [
    "df_4.groupby([\"version\"])[[\"sum_gamerounds\"]].mean()"
   ]
  },
  {
   "cell_type": "markdown",
   "metadata": {},
   "source": [
    "The END"
   ]
  }
 ],
 "metadata": {
  "kernelspec": {
   "display_name": "mulcam_3_9",
   "language": "python",
   "name": "mulcam_3_9"
  },
  "language_info": {
   "codemirror_mode": {
    "name": "ipython",
    "version": 3
   },
   "file_extension": ".py",
   "mimetype": "text/x-python",
   "name": "python",
   "nbconvert_exporter": "python",
   "pygments_lexer": "ipython3",
   "version": "3.9.18"
  }
 },
 "nbformat": 4,
 "nbformat_minor": 2
}
