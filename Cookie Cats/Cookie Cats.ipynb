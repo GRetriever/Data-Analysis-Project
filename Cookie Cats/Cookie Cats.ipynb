{
 "cells": [
  {
   "cell_type": "markdown",
   "metadata": {},
   "source": [
    "### 요구사항\n",
    "- 기본적인 EDA와 전처리를 진행하세요\n",
    "- t-test를 이용하여 gate_30 그룹과 gate_40 그룹의 플레이 라운드 수의 평균이 같은지, 다른지 검정하세요.\n",
    "- chi_squre test를 이용하여 version과 retention_1이 서로 독립인지 검정하세요.\n",
    "- chi_squre test를 이용하여 version과 retention_2이 서로 독립인지 검정하세요.\n",
    "- 검정 결과를 해석하고, AB 테스트의 결론을 내려보세요."
   ]
  },
  {
   "cell_type": "code",
   "execution_count": 1,
   "metadata": {},
   "outputs": [],
   "source": [
    "import pandas as pd\n",
    "import numpy as np\n",
    "import seaborn as sns\n",
    "from scipy import stats\n",
    "from matplotlib import pyplot as plt\n",
    "from scipy.stats import chi2_contingency\n"
   ]
  },
  {
   "cell_type": "code",
   "execution_count": null,
   "metadata": {},
   "outputs": [],
   "source": [
    "# 1번 자료\n",
    "\n",
    "df = pd.read_csv('./data/cookie_cats.csv')\n",
    "df"
   ]
  },
  {
   "cell_type": "code",
   "execution_count": null,
   "metadata": {},
   "outputs": [],
   "source": [
    "# 2번 자료\n",
    "\n",
    "df.shape"
   ]
  },
  {
   "cell_type": "code",
   "execution_count": null,
   "metadata": {},
   "outputs": [],
   "source": [
    "# 3번 자료\n",
    "\n",
    "df.isnull().sum()"
   ]
  },
  {
   "cell_type": "code",
   "execution_count": null,
   "metadata": {},
   "outputs": [],
   "source": [
    "# 4번 자료\n",
    "\n",
    "df.nunique()"
   ]
  },
  {
   "cell_type": "code",
   "execution_count": null,
   "metadata": {},
   "outputs": [],
   "source": [
    "# 5번 자료\n",
    "# version 개별 수 파악\n",
    "\n",
    "version_count = df['version'].value_counts()\n",
    "\n",
    "sns.set_style('whitegrid')\n",
    "version_count.plot(kind='bar')\n",
    "plt.title('Count version')\n",
    "_=plt.xticks(rotation=0)"
   ]
  },
  {
   "cell_type": "code",
   "execution_count": null,
   "metadata": {},
   "outputs": [],
   "source": [
    "# 6번\n",
    "# 전체 범위 파악\n",
    "\n",
    "df[['userid','sum_gamerounds']].sort_values('sum_gamerounds')\n",
    "\n",
    "# 약 5만 값 1개 ==> 무의미 판단 ==> drop\n",
    "\n",
    "df = df.drop(df[df['userid'] == 6390605].index,axis = 0)\n",
    "\n",
    "sns.scatterplot(\n",
    "    data = df,\n",
    "    x = 'userid',\n",
    "    y = 'sum_gamerounds'\n",
    ").set(title='Gamerounds by Scatterplot')"
   ]
  },
  {
   "cell_type": "code",
   "execution_count": null,
   "metadata": {},
   "outputs": [],
   "source": [
    "# 6-1번\n",
    "\n",
    "# 전체 범위 파악\n",
    "df['sum_gamerounds'].sort_values()\n",
    "\n",
    "# 그래프 그리기\n",
    "df['sum_gamerounds'].plot(kind='hist',bins=np.arange(0,250,3))\n",
    "plt.title('Gamerounds by Histogram')"
   ]
  },
  {
   "cell_type": "code",
   "execution_count": null,
   "metadata": {},
   "outputs": [],
   "source": [
    "# 7번 자료\n",
    "# version별 게임 라운드진행 산포도 그래프\n",
    "\n",
    "sns.stripplot(\n",
    "    data = df,\n",
    "    x = 'version',\n",
    "    y = 'sum_gamerounds',\n",
    "    size = 3,\n",
    "    palette = 'pastel'\n",
    ").set(title = 'Gamerounds by Version')\n",
    "plt.ylim(0,2500)"
   ]
  },
  {
   "cell_type": "code",
   "execution_count": null,
   "metadata": {},
   "outputs": [],
   "source": [
    "# 이거 추가하기  *******************\n",
    "# 난 40라까지가 무료라 40라 평균이 더 높을줄 알았음\n",
    "# 근데 별로 차이 안남\n",
    "# 과금 여부보다 게임 자체 재미가 중요?\n",
    "\n",
    "\n",
    "df[df['version'] == 'gate_30']['sum_gamerounds'].mean()\n",
    "df[df['version'] == 'gate_40']['sum_gamerounds'].mean()"
   ]
  },
  {
   "cell_type": "code",
   "execution_count": null,
   "metadata": {},
   "outputs": [],
   "source": [
    "# 8번 자료\n",
    "# retention_1 , retention_7\n",
    "# True, False 시각화\n",
    "\n",
    "plt.figure(figsize=(12,5))\n",
    "\n",
    "plt.subplot(1,2,1)\n",
    "sns.countplot(\n",
    "    data = df,\n",
    "    x = 'version',\n",
    "    hue = 'retention_1'\n",
    "    ).set(title = 'retention_1 by version')\n",
    "\n",
    "plt.subplot(1,2,2)\n",
    "sns.countplot(\n",
    "    data = df,\n",
    "    x = 'version',\n",
    "    hue = 'retention_7'\n",
    "    ).set(title = 'retention_7 by version')\n",
    "\n"
   ]
  },
  {
   "cell_type": "code",
   "execution_count": null,
   "metadata": {},
   "outputs": [],
   "source": []
  },
  {
   "cell_type": "code",
   "execution_count": null,
   "metadata": {},
   "outputs": [],
   "source": []
  },
  {
   "cell_type": "code",
   "execution_count": null,
   "metadata": {},
   "outputs": [],
   "source": []
  },
  {
   "cell_type": "markdown",
   "metadata": {},
   "source": [
    "T-Test 가설검정\n",
    "\n",
    "two sample t test\n",
    "\n",
    "\n",
    "귀무가설 : gate_30과 gate_40의 sum_gamerounds의 평균 점수 차는 0이다\n",
    "\n",
    "대립가설 : gate_30과 gate_40의 sum_gamerounds의 평균 점수 차는 0보다 크다"
   ]
  },
  {
   "cell_type": "code",
   "execution_count": null,
   "metadata": {},
   "outputs": [],
   "source": [
    "# gate_30 은 0   //   gate_40 은 1  로 바꿔주기\n",
    "# 종류가 2가지라 label_encoding 필요 없음\n",
    "\n",
    "# df.loc[df['version'] == 'gate_30','version'] = 0\n",
    "# df.loc[df['version'] == 'gate_40','version'] = 1\n",
    "# df['version']"
   ]
  },
  {
   "cell_type": "code",
   "execution_count": 22,
   "metadata": {},
   "outputs": [],
   "source": [
    "gate_30 = df[df['version'] == 'gate_30'][['sum_gamerounds']]\n",
    "gate_40 = df[df['version'] == 'gate_40'][['sum_gamerounds']]"
   ]
  },
  {
   "cell_type": "code",
   "execution_count": 23,
   "metadata": {},
   "outputs": [
    {
     "name": "stdout",
     "output_type": "stream",
     "text": [
      "sum_gamerounds p-value: 0.46694516772623273, 등분산 가정 만족\n"
     ]
    }
   ],
   "source": [
    "# T-1\n",
    "test_names = ['sum_gamerounds']\n",
    "\n",
    "for test_name in test_names:\n",
    "    statistic,p_value = stats.levene(gate_30[test_name], gate_40[test_name])\n",
    "    if p_value > 0.05:\n",
    "        print(f\"{test_name} p-value: {p_value}, 등분산 가정 만족\")\n",
    "    else:\n",
    "        print(f\"{test_name} p-value: {p_value}, 이분산 가정 만족\")"
   ]
  },
  {
   "cell_type": "code",
   "execution_count": 24,
   "metadata": {},
   "outputs": [
    {
     "name": "stdout",
     "output_type": "stream",
     "text": [
      "sum_gamerounds 0.37592438409326223 귀무가설 기각 불가\n"
     ]
    }
   ],
   "source": [
    "# T-2\n",
    "for test_name in test_names:\n",
    "    t_statistic,pvalue = stats.ttest_ind(\n",
    "        a = gate_30[test_name],\n",
    "        b = gate_40[test_name],\n",
    "        alternative = 'two-sided',  # 양측검정, 기본적\n",
    "        equal_var = False\n",
    ")\n",
    "    if pvalue<0.05:\n",
    "        print(test_name,pvalue,'귀무가설 기각')\n",
    "    else:\n",
    "        print(test_name,pvalue,'귀무가설 기각 불가')\n",
    "        \n",
    "\n",
    "# 귀무가설 기각 불가 ==> 두 집단의 평균 점수는 같다!"
   ]
  },
  {
   "cell_type": "markdown",
   "metadata": {},
   "source": [
    "카이제곱 테스트\n",
    "\n",
    "\n",
    "1. retention_1의 경우\n",
    "\n",
    "2. retention_7의 경우"
   ]
  },
  {
   "cell_type": "code",
   "execution_count": 25,
   "metadata": {},
   "outputs": [
    {
     "data": {
      "text/html": [
       "<div>\n",
       "<style scoped>\n",
       "    .dataframe tbody tr th:only-of-type {\n",
       "        vertical-align: middle;\n",
       "    }\n",
       "\n",
       "    .dataframe tbody tr th {\n",
       "        vertical-align: top;\n",
       "    }\n",
       "\n",
       "    .dataframe thead th {\n",
       "        text-align: right;\n",
       "    }\n",
       "</style>\n",
       "<table border=\"1\" class=\"dataframe\">\n",
       "  <thead>\n",
       "    <tr style=\"text-align: right;\">\n",
       "      <th>retention_1</th>\n",
       "      <th>False</th>\n",
       "      <th>True</th>\n",
       "    </tr>\n",
       "    <tr>\n",
       "      <th>version</th>\n",
       "      <th></th>\n",
       "      <th></th>\n",
       "    </tr>\n",
       "  </thead>\n",
       "  <tbody>\n",
       "    <tr>\n",
       "      <th>gate_30</th>\n",
       "      <td>24666</td>\n",
       "      <td>20034</td>\n",
       "    </tr>\n",
       "    <tr>\n",
       "      <th>gate_40</th>\n",
       "      <td>25370</td>\n",
       "      <td>20119</td>\n",
       "    </tr>\n",
       "  </tbody>\n",
       "</table>\n",
       "</div>"
      ],
      "text/plain": [
       "retention_1  False  True \n",
       "version                  \n",
       "gate_30      24666  20034\n",
       "gate_40      25370  20119"
      ]
     },
     "execution_count": 25,
     "metadata": {},
     "output_type": "execute_result"
    }
   ],
   "source": [
    "# T-3-1\n",
    "# 상대도수 분할표 그려보기\n",
    "\n",
    "\n",
    "retention_1 = pd.crosstab(df['version'],df['retention_1'])\n",
    "retention_1"
   ]
  },
  {
   "cell_type": "code",
   "execution_count": 26,
   "metadata": {},
   "outputs": [
    {
     "name": "stdout",
     "output_type": "stream",
     "text": [
      "카이제곱 통계량 : 3.1591007878782262\n",
      "p value : 0.07550476210309086\n"
     ]
    }
   ],
   "source": [
    "# T-4-1\n",
    "chi2_statistics,pvalue,_,_=chi2_contingency(retention_1)\n",
    "\n",
    "print(f'카이제곱 통계량 : {chi2_statistics}')\n",
    "print(f'p value : {pvalue}')\n",
    "\n",
    "\n",
    "# 결론 : 두 집단은 독립이다"
   ]
  },
  {
   "cell_type": "code",
   "execution_count": 27,
   "metadata": {},
   "outputs": [
    {
     "data": {
      "text/html": [
       "<div>\n",
       "<style scoped>\n",
       "    .dataframe tbody tr th:only-of-type {\n",
       "        vertical-align: middle;\n",
       "    }\n",
       "\n",
       "    .dataframe tbody tr th {\n",
       "        vertical-align: top;\n",
       "    }\n",
       "\n",
       "    .dataframe thead th {\n",
       "        text-align: right;\n",
       "    }\n",
       "</style>\n",
       "<table border=\"1\" class=\"dataframe\">\n",
       "  <thead>\n",
       "    <tr style=\"text-align: right;\">\n",
       "      <th>retention_7</th>\n",
       "      <th>False</th>\n",
       "      <th>True</th>\n",
       "    </tr>\n",
       "    <tr>\n",
       "      <th>version</th>\n",
       "      <th></th>\n",
       "      <th></th>\n",
       "    </tr>\n",
       "  </thead>\n",
       "  <tbody>\n",
       "    <tr>\n",
       "      <th>gate_30</th>\n",
       "      <td>36198</td>\n",
       "      <td>8502</td>\n",
       "    </tr>\n",
       "    <tr>\n",
       "      <th>gate_40</th>\n",
       "      <td>37210</td>\n",
       "      <td>8279</td>\n",
       "    </tr>\n",
       "  </tbody>\n",
       "</table>\n",
       "</div>"
      ],
      "text/plain": [
       "retention_7  False  True \n",
       "version                  \n",
       "gate_30      36198   8502\n",
       "gate_40      37210   8279"
      ]
     },
     "execution_count": 27,
     "metadata": {},
     "output_type": "execute_result"
    }
   ],
   "source": [
    "# T-3-2\n",
    "retention_7 = pd.crosstab(df['version'],df['retention_7'])\n",
    "retention_7"
   ]
  },
  {
   "cell_type": "code",
   "execution_count": 29,
   "metadata": {},
   "outputs": [
    {
     "name": "stdout",
     "output_type": "stream",
     "text": [
      "카이제곱 통계량 : 9.959086799559167\n",
      "p value : 0.0016005742679058301\n"
     ]
    }
   ],
   "source": [
    "# T-4-2\n",
    "chi2_statistics,pvalue,_,_=chi2_contingency(retention_7)\n",
    "\n",
    "print(f'카이제곱 통계량 : {chi2_statistics}')\n",
    "print(f'p value : {pvalue}')\n",
    "\n",
    "# 결론 : 두 집단은 종속이다"
   ]
  },
  {
   "cell_type": "code",
   "execution_count": 5,
   "metadata": {},
   "outputs": [
    {
     "data": {
      "text/html": [
       "<div>\n",
       "<style scoped>\n",
       "    .dataframe tbody tr th:only-of-type {\n",
       "        vertical-align: middle;\n",
       "    }\n",
       "\n",
       "    .dataframe tbody tr th {\n",
       "        vertical-align: top;\n",
       "    }\n",
       "\n",
       "    .dataframe thead th {\n",
       "        text-align: right;\n",
       "    }\n",
       "</style>\n",
       "<table border=\"1\" class=\"dataframe\">\n",
       "  <thead>\n",
       "    <tr style=\"text-align: right;\">\n",
       "      <th>retention_1</th>\n",
       "      <th>False</th>\n",
       "      <th>True</th>\n",
       "      <th>All</th>\n",
       "    </tr>\n",
       "    <tr>\n",
       "      <th>version</th>\n",
       "      <th></th>\n",
       "      <th></th>\n",
       "      <th></th>\n",
       "    </tr>\n",
       "  </thead>\n",
       "  <tbody>\n",
       "    <tr>\n",
       "      <th>gate_30</th>\n",
       "      <td>0.273492</td>\n",
       "      <td>0.222134</td>\n",
       "      <td>0.495626</td>\n",
       "    </tr>\n",
       "    <tr>\n",
       "      <th>gate_40</th>\n",
       "      <td>0.281298</td>\n",
       "      <td>0.223076</td>\n",
       "      <td>0.504374</td>\n",
       "    </tr>\n",
       "    <tr>\n",
       "      <th>All</th>\n",
       "      <td>0.554790</td>\n",
       "      <td>0.445210</td>\n",
       "      <td>1.000000</td>\n",
       "    </tr>\n",
       "  </tbody>\n",
       "</table>\n",
       "</div>"
      ],
      "text/plain": [
       "retention_1     False      True       All\n",
       "version                                  \n",
       "gate_30      0.273492  0.222134  0.495626\n",
       "gate_40      0.281298  0.223076  0.504374\n",
       "All          0.554790  0.445210  1.000000"
      ]
     },
     "execution_count": 5,
     "metadata": {},
     "output_type": "execute_result"
    }
   ],
   "source": [
    "retention_1 = pd.crosstab(df['version'],df['retention_1'],margins=True,normalize=True)\n",
    "retention_1"
   ]
  },
  {
   "cell_type": "code",
   "execution_count": 8,
   "metadata": {},
   "outputs": [
    {
     "data": {
      "text/html": [
       "<div>\n",
       "<style scoped>\n",
       "    .dataframe tbody tr th:only-of-type {\n",
       "        vertical-align: middle;\n",
       "    }\n",
       "\n",
       "    .dataframe tbody tr th {\n",
       "        vertical-align: top;\n",
       "    }\n",
       "\n",
       "    .dataframe thead th {\n",
       "        text-align: right;\n",
       "    }\n",
       "</style>\n",
       "<table border=\"1\" class=\"dataframe\">\n",
       "  <thead>\n",
       "    <tr style=\"text-align: right;\">\n",
       "      <th>retention_7</th>\n",
       "      <th>False</th>\n",
       "      <th>True</th>\n",
       "      <th>All</th>\n",
       "    </tr>\n",
       "    <tr>\n",
       "      <th>version</th>\n",
       "      <th></th>\n",
       "      <th></th>\n",
       "      <th></th>\n",
       "    </tr>\n",
       "  </thead>\n",
       "  <tbody>\n",
       "    <tr>\n",
       "      <th>gate_30</th>\n",
       "      <td>0.401357</td>\n",
       "      <td>0.094269</td>\n",
       "      <td>0.495626</td>\n",
       "    </tr>\n",
       "    <tr>\n",
       "      <th>gate_40</th>\n",
       "      <td>0.412578</td>\n",
       "      <td>0.091796</td>\n",
       "      <td>0.504374</td>\n",
       "    </tr>\n",
       "    <tr>\n",
       "      <th>All</th>\n",
       "      <td>0.813935</td>\n",
       "      <td>0.186065</td>\n",
       "      <td>1.000000</td>\n",
       "    </tr>\n",
       "  </tbody>\n",
       "</table>\n",
       "</div>"
      ],
      "text/plain": [
       "retention_7     False      True       All\n",
       "version                                  \n",
       "gate_30      0.401357  0.094269  0.495626\n",
       "gate_40      0.412578  0.091796  0.504374\n",
       "All          0.813935  0.186065  1.000000"
      ]
     },
     "execution_count": 8,
     "metadata": {},
     "output_type": "execute_result"
    }
   ],
   "source": [
    "retention_7 = pd.crosstab(df['version'],df['retention_7'],margins=True,normalize=True)\n",
    "retention_7"
   ]
  },
  {
   "cell_type": "markdown",
   "metadata": {},
   "source": [
    "두 변수가 종속이다\n",
    "\n",
    "두 변수가 모종의 상관관계를 보인다\n",
    "\n",
    "두 변수의 상관관계 파악을 위해 시각화를 진행해본다.\n",
    "\n",
    "\n",
    "가설을 세워보자\n",
    "\n",
    "1. gate_40 그룹이 retention_7 True 확률이 높을 것이다.\n",
    "\n",
    "이유 1: "
   ]
  },
  {
   "cell_type": "code",
   "execution_count": null,
   "metadata": {},
   "outputs": [],
   "source": []
  }
 ],
 "metadata": {
  "kernelspec": {
   "display_name": "mulcam_3_9",
   "language": "python",
   "name": "mulcam_3_9"
  },
  "language_info": {
   "codemirror_mode": {
    "name": "ipython",
    "version": 3
   },
   "file_extension": ".py",
   "mimetype": "text/x-python",
   "name": "python",
   "nbconvert_exporter": "python",
   "pygments_lexer": "ipython3",
   "version": "3.9.18"
  }
 },
 "nbformat": 4,
 "nbformat_minor": 2
}
