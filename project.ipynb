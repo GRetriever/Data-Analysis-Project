{
 "cells": [
  {
   "cell_type": "code",
   "execution_count": 1,
   "metadata": {},
   "outputs": [
    {
     "name": "stdout",
     "output_type": "stream",
     "text": [
      "Requirement already satisfied: google-cloud-bigquery in c:\\users\\xzv22\\.conda\\envs\\mulcam_3_9\\lib\\site-packages (3.13.0)\n",
      "Requirement already satisfied: google-auth in c:\\users\\xzv22\\.conda\\envs\\mulcam_3_9\\lib\\site-packages (2.23.4)\n",
      "Requirement already satisfied: db-dtypes in c:\\users\\xzv22\\.conda\\envs\\mulcam_3_9\\lib\\site-packages (1.1.1)\n",
      "Requirement already satisfied: grpcio<2.0dev,>=1.47.0 in c:\\users\\xzv22\\.conda\\envs\\mulcam_3_9\\lib\\site-packages (from google-cloud-bigquery) (1.59.2)\n",
      "Requirement already satisfied: google-api-core[grpc]!=2.0.*,!=2.1.*,!=2.2.*,!=2.3.0,<3.0.0dev,>=1.31.5 in c:\\users\\xzv22\\.conda\\envs\\mulcam_3_9\\lib\\site-packages (from google-cloud-bigquery) (2.14.0)\n",
      "Requirement already satisfied: proto-plus<2.0.0dev,>=1.15.0 in c:\\users\\xzv22\\.conda\\envs\\mulcam_3_9\\lib\\site-packages (from google-cloud-bigquery) (1.22.3)\n",
      "Requirement already satisfied: google-cloud-core<3.0.0dev,>=1.6.0 in c:\\users\\xzv22\\.conda\\envs\\mulcam_3_9\\lib\\site-packages (from google-cloud-bigquery) (2.3.3)\n",
      "Requirement already satisfied: google-resumable-media<3.0dev,>=0.6.0 in c:\\users\\xzv22\\.conda\\envs\\mulcam_3_9\\lib\\site-packages (from google-cloud-bigquery) (2.6.0)\n",
      "Requirement already satisfied: packaging>=20.0.0 in c:\\users\\xzv22\\.conda\\envs\\mulcam_3_9\\lib\\site-packages (from google-cloud-bigquery) (23.1)\n",
      "Requirement already satisfied: protobuf!=3.20.0,!=3.20.1,!=4.21.0,!=4.21.1,!=4.21.2,!=4.21.3,!=4.21.4,!=4.21.5,<5.0.0dev,>=3.19.5 in c:\\users\\xzv22\\.conda\\envs\\mulcam_3_9\\lib\\site-packages (from google-cloud-bigquery) (4.25.0)\n",
      "Requirement already satisfied: python-dateutil<3.0dev,>=2.7.2 in c:\\users\\xzv22\\.conda\\envs\\mulcam_3_9\\lib\\site-packages (from google-cloud-bigquery) (2.8.2)\n",
      "Requirement already satisfied: requests<3.0.0dev,>=2.21.0 in c:\\users\\xzv22\\.conda\\envs\\mulcam_3_9\\lib\\site-packages (from google-cloud-bigquery) (2.31.0)\n",
      "Requirement already satisfied: cachetools<6.0,>=2.0.0 in c:\\users\\xzv22\\.conda\\envs\\mulcam_3_9\\lib\\site-packages (from google-auth) (5.3.2)\n",
      "Requirement already satisfied: pyasn1-modules>=0.2.1 in c:\\users\\xzv22\\.conda\\envs\\mulcam_3_9\\lib\\site-packages (from google-auth) (0.3.0)\n",
      "Requirement already satisfied: rsa<5,>=3.1.4 in c:\\users\\xzv22\\.conda\\envs\\mulcam_3_9\\lib\\site-packages (from google-auth) (4.9)\n",
      "Requirement already satisfied: pandas>=0.24.2 in c:\\users\\xzv22\\.conda\\envs\\mulcam_3_9\\lib\\site-packages (from db-dtypes) (2.1.1)\n",
      "Requirement already satisfied: pyarrow>=3.0.0 in c:\\users\\xzv22\\.conda\\envs\\mulcam_3_9\\lib\\site-packages (from db-dtypes) (14.0.1)\n",
      "Requirement already satisfied: numpy>=1.16.6 in c:\\users\\xzv22\\.conda\\envs\\mulcam_3_9\\lib\\site-packages (from db-dtypes) (1.26.1)\n",
      "Requirement already satisfied: googleapis-common-protos<2.0.dev0,>=1.56.2 in c:\\users\\xzv22\\.conda\\envs\\mulcam_3_9\\lib\\site-packages (from google-api-core[grpc]!=2.0.*,!=2.1.*,!=2.2.*,!=2.3.0,<3.0.0dev,>=1.31.5->google-cloud-bigquery) (1.61.0)\n",
      "Requirement already satisfied: grpcio-status<2.0.dev0,>=1.33.2 in c:\\users\\xzv22\\.conda\\envs\\mulcam_3_9\\lib\\site-packages (from google-api-core[grpc]!=2.0.*,!=2.1.*,!=2.2.*,!=2.3.0,<3.0.0dev,>=1.31.5->google-cloud-bigquery) (1.59.2)\n",
      "Requirement already satisfied: google-crc32c<2.0dev,>=1.0 in c:\\users\\xzv22\\.conda\\envs\\mulcam_3_9\\lib\\site-packages (from google-resumable-media<3.0dev,>=0.6.0->google-cloud-bigquery) (1.5.0)\n",
      "Requirement already satisfied: pytz>=2020.1 in c:\\users\\xzv22\\.conda\\envs\\mulcam_3_9\\lib\\site-packages (from pandas>=0.24.2->db-dtypes) (2023.3.post1)\n",
      "Requirement already satisfied: tzdata>=2022.1 in c:\\users\\xzv22\\.conda\\envs\\mulcam_3_9\\lib\\site-packages (from pandas>=0.24.2->db-dtypes) (2023.3)\n",
      "Requirement already satisfied: pyasn1<0.6.0,>=0.4.6 in c:\\users\\xzv22\\.conda\\envs\\mulcam_3_9\\lib\\site-packages (from pyasn1-modules>=0.2.1->google-auth) (0.5.0)\n",
      "Requirement already satisfied: six>=1.5 in c:\\users\\xzv22\\.conda\\envs\\mulcam_3_9\\lib\\site-packages (from python-dateutil<3.0dev,>=2.7.2->google-cloud-bigquery) (1.16.0)\n",
      "Requirement already satisfied: charset-normalizer<4,>=2 in c:\\users\\xzv22\\.conda\\envs\\mulcam_3_9\\lib\\site-packages (from requests<3.0.0dev,>=2.21.0->google-cloud-bigquery) (2.0.4)\n",
      "Requirement already satisfied: idna<4,>=2.5 in c:\\users\\xzv22\\.conda\\envs\\mulcam_3_9\\lib\\site-packages (from requests<3.0.0dev,>=2.21.0->google-cloud-bigquery) (3.4)\n",
      "Requirement already satisfied: urllib3<3,>=1.21.1 in c:\\users\\xzv22\\.conda\\envs\\mulcam_3_9\\lib\\site-packages (from requests<3.0.0dev,>=2.21.0->google-cloud-bigquery) (1.26.16)\n",
      "Requirement already satisfied: certifi>=2017.4.17 in c:\\users\\xzv22\\.conda\\envs\\mulcam_3_9\\lib\\site-packages (from requests<3.0.0dev,>=2.21.0->google-cloud-bigquery) (2023.7.22)\n"
     ]
    }
   ],
   "source": [
    "!pip install google-cloud-bigquery google-auth db-dtypes"
   ]
  },
  {
   "cell_type": "code",
   "execution_count": 68,
   "metadata": {},
   "outputs": [],
   "source": [
    "import seaborn as sns\n",
    "import matplotlib.pyplot as plt\n",
    "plt.rc('font', family='Malgun Gothic')\n",
    "import pandas as pd"
   ]
  },
  {
   "cell_type": "code",
   "execution_count": 4,
   "metadata": {},
   "outputs": [],
   "source": [
    "from google.oauth2 import service_account\n",
    "\n",
    "credentials = service_account.Credentials.from_service_account_file('./multicampus_project_first_account.json')"
   ]
  },
  {
   "cell_type": "code",
   "execution_count": 5,
   "metadata": {},
   "outputs": [],
   "source": [
    "from google.cloud import bigquery\n",
    "\n",
    "client = bigquery.Client(\n",
    "    credentials = credentials,\n",
    "    project = credentials.project_id\n",
    ")"
   ]
  },
  {
   "cell_type": "markdown",
   "metadata": {},
   "source": [
    "==============================================================================================================================================================================================================================="
   ]
  },
  {
   "cell_type": "code",
   "execution_count": 41,
   "metadata": {},
   "outputs": [],
   "source": [
    "# 1번 : 자동차 등록 수 자료\n",
    "# 기준 : 2023년 10월 31일\n",
    "\n",
    "sql = '''\n",
    "SELECT\n",
    "  Year,\n",
    "  Total\n",
    "FROM\n",
    "  project_1.Registration_All\n",
    "'''"
   ]
  },
  {
   "cell_type": "code",
   "execution_count": 42,
   "metadata": {},
   "outputs": [
    {
     "data": {
      "text/html": [
       "<div>\n",
       "<style scoped>\n",
       "    .dataframe tbody tr th:only-of-type {\n",
       "        vertical-align: middle;\n",
       "    }\n",
       "\n",
       "    .dataframe tbody tr th {\n",
       "        vertical-align: top;\n",
       "    }\n",
       "\n",
       "    .dataframe thead th {\n",
       "        text-align: right;\n",
       "    }\n",
       "</style>\n",
       "<table border=\"1\" class=\"dataframe\">\n",
       "  <thead>\n",
       "    <tr style=\"text-align: right;\">\n",
       "      <th></th>\n",
       "      <th>Year</th>\n",
       "      <th>Total</th>\n",
       "    </tr>\n",
       "  </thead>\n",
       "  <tbody>\n",
       "    <tr>\n",
       "      <th>0</th>\n",
       "      <td>2012</td>\n",
       "      <td>18799947</td>\n",
       "    </tr>\n",
       "    <tr>\n",
       "      <th>1</th>\n",
       "      <td>2013</td>\n",
       "      <td>19342840</td>\n",
       "    </tr>\n",
       "    <tr>\n",
       "      <th>2</th>\n",
       "      <td>2014</td>\n",
       "      <td>20007761</td>\n",
       "    </tr>\n",
       "    <tr>\n",
       "      <th>3</th>\n",
       "      <td>2015</td>\n",
       "      <td>20834381</td>\n",
       "    </tr>\n",
       "    <tr>\n",
       "      <th>4</th>\n",
       "      <td>2016</td>\n",
       "      <td>21672995</td>\n",
       "    </tr>\n",
       "    <tr>\n",
       "      <th>5</th>\n",
       "      <td>2017</td>\n",
       "      <td>22417307</td>\n",
       "    </tr>\n",
       "    <tr>\n",
       "      <th>6</th>\n",
       "      <td>2018</td>\n",
       "      <td>23091327</td>\n",
       "    </tr>\n",
       "    <tr>\n",
       "      <th>7</th>\n",
       "      <td>2019</td>\n",
       "      <td>23594014</td>\n",
       "    </tr>\n",
       "    <tr>\n",
       "      <th>8</th>\n",
       "      <td>2020</td>\n",
       "      <td>24250946</td>\n",
       "    </tr>\n",
       "    <tr>\n",
       "      <th>9</th>\n",
       "      <td>2021</td>\n",
       "      <td>24810637</td>\n",
       "    </tr>\n",
       "    <tr>\n",
       "      <th>10</th>\n",
       "      <td>2022</td>\n",
       "      <td>25402634</td>\n",
       "    </tr>\n",
       "    <tr>\n",
       "      <th>11</th>\n",
       "      <td>2023</td>\n",
       "      <td>25870152</td>\n",
       "    </tr>\n",
       "  </tbody>\n",
       "</table>\n",
       "</div>"
      ],
      "text/plain": [
       "    Year     Total\n",
       "0   2012  18799947\n",
       "1   2013  19342840\n",
       "2   2014  20007761\n",
       "3   2015  20834381\n",
       "4   2016  21672995\n",
       "5   2017  22417307\n",
       "6   2018  23091327\n",
       "7   2019  23594014\n",
       "8   2020  24250946\n",
       "9   2021  24810637\n",
       "10  2022  25402634\n",
       "11  2023  25870152"
      ]
     },
     "execution_count": 42,
     "metadata": {},
     "output_type": "execute_result"
    }
   ],
   "source": [
    "df = client.query(sql).to_dataframe()\n",
    "df"
   ]
  },
  {
   "cell_type": "code",
   "execution_count": 43,
   "metadata": {},
   "outputs": [
    {
     "data": {
      "text/plain": [
       "Text(0, 0.5, '')"
      ]
     },
     "execution_count": 43,
     "metadata": {},
     "output_type": "execute_result"
    },
    {
     "data": {
      "image/png": "[encoded data removed]",
      "text/plain": [
       "<Figure size 640x480 with 1 Axes>"
      ]
     },
     "metadata": {},
     "output_type": "display_data"
    }
   ],
   "source": [
    "sns.barplot(\n",
    "    data = df,\n",
    "    x = 'Year',\n",
    "    y = 'Total'\n",
    "    ).set(\n",
    "        title = '자동차 등록대수'\n",
    "        )\n",
    "plt.xlabel('연도')   # https://wikidocs.net/92081  x축,y축 레이블 설정\n",
    "plt.ylabel('')\n"
   ]
  },
  {
   "cell_type": "code",
   "execution_count": 44,
   "metadata": {},
   "outputs": [
    {
     "name": "stdout",
     "output_type": "stream",
     "text": [
      "[2.89, 3.44, 4.13, 4.03, 3.43, 3.01, 2.18, 2.78, 2.31, 2.39, 1.84]\n",
      "2.9481818181818182\n"
     ]
    }
   ],
   "source": [
    "# 상승률 계산\n",
    "\n",
    "\n",
    "answer = []\n",
    "num = df['Total']\n",
    "\n",
    "for i in range(len(df['Total'])-1):\n",
    "    answer.append(round((num[i+1]-num[i])/num[i]*100,2))\n",
    "print(answer)\n",
    "print(sum(answer)/len(answer))"
   ]
  },
  {
   "cell_type": "code",
   "execution_count": 18,
   "metadata": {},
   "outputs": [
    {
     "data": {
      "image/png": "[encoded data removed]",
      "text/plain": [
       "<Figure size 640x480 with 1 Axes>"
      ]
     },
     "metadata": {},
     "output_type": "display_data"
    }
   ],
   "source": [
    "years = [2013,2014,2015,2016,2017,2018,2019,2020,2021,2022,2023]\n",
    "plt.plot(years,answer)\n",
    "plt.xlim(2012,2024)\n",
    "plt.ylim(0,5)\n",
    "plt.show()\n",
    "\n",
    "# 그래프 그리기 : https://wikidocs.net/92082"
   ]
  },
  {
   "cell_type": "markdown",
   "metadata": {},
   "source": [
    "==============================================================================================================================================================================================================================="
   ]
  },
  {
   "cell_type": "markdown",
   "metadata": {},
   "source": []
  },
  {
   "cell_type": "code",
   "execution_count": 45,
   "metadata": {},
   "outputs": [],
   "source": [
    "# 2번 : 전기차 등록 수 자료\n",
    "# 기준 : 2023년 10월 31일\n",
    "\n",
    "sql = '''\n",
    "SELECT\n",
    "  Year,\n",
    "  Total\n",
    "FROM\n",
    "  project_1.Registration_EV\n",
    "'''"
   ]
  },
  {
   "cell_type": "code",
   "execution_count": 46,
   "metadata": {},
   "outputs": [
    {
     "data": {
      "text/html": [
       "<div>\n",
       "<style scoped>\n",
       "    .dataframe tbody tr th:only-of-type {\n",
       "        vertical-align: middle;\n",
       "    }\n",
       "\n",
       "    .dataframe tbody tr th {\n",
       "        vertical-align: top;\n",
       "    }\n",
       "\n",
       "    .dataframe thead th {\n",
       "        text-align: right;\n",
       "    }\n",
       "</style>\n",
       "<table border=\"1\" class=\"dataframe\">\n",
       "  <thead>\n",
       "    <tr style=\"text-align: right;\">\n",
       "      <th></th>\n",
       "      <th>Year</th>\n",
       "      <th>Total</th>\n",
       "    </tr>\n",
       "  </thead>\n",
       "  <tbody>\n",
       "    <tr>\n",
       "      <th>0</th>\n",
       "      <td>2012</td>\n",
       "      <td>413</td>\n",
       "    </tr>\n",
       "    <tr>\n",
       "      <th>1</th>\n",
       "      <td>2013</td>\n",
       "      <td>436</td>\n",
       "    </tr>\n",
       "    <tr>\n",
       "      <th>2</th>\n",
       "      <td>2014</td>\n",
       "      <td>1452</td>\n",
       "    </tr>\n",
       "    <tr>\n",
       "      <th>3</th>\n",
       "      <td>2015</td>\n",
       "      <td>3559</td>\n",
       "    </tr>\n",
       "    <tr>\n",
       "      <th>4</th>\n",
       "      <td>2016</td>\n",
       "      <td>4605</td>\n",
       "    </tr>\n",
       "    <tr>\n",
       "      <th>5</th>\n",
       "      <td>2017</td>\n",
       "      <td>7447</td>\n",
       "    </tr>\n",
       "    <tr>\n",
       "      <th>6</th>\n",
       "      <td>2018</td>\n",
       "      <td>26791</td>\n",
       "    </tr>\n",
       "    <tr>\n",
       "      <th>7</th>\n",
       "      <td>2019</td>\n",
       "      <td>61258</td>\n",
       "    </tr>\n",
       "    <tr>\n",
       "      <th>8</th>\n",
       "      <td>2020</td>\n",
       "      <td>98446</td>\n",
       "    </tr>\n",
       "    <tr>\n",
       "      <th>9</th>\n",
       "      <td>2021</td>\n",
       "      <td>189664</td>\n",
       "    </tr>\n",
       "    <tr>\n",
       "      <th>10</th>\n",
       "      <td>2022</td>\n",
       "      <td>310800</td>\n",
       "    </tr>\n",
       "    <tr>\n",
       "      <th>11</th>\n",
       "      <td>2023</td>\n",
       "      <td>420905</td>\n",
       "    </tr>\n",
       "  </tbody>\n",
       "</table>\n",
       "</div>"
      ],
      "text/plain": [
       "    Year   Total\n",
       "0   2012     413\n",
       "1   2013     436\n",
       "2   2014    1452\n",
       "3   2015    3559\n",
       "4   2016    4605\n",
       "5   2017    7447\n",
       "6   2018   26791\n",
       "7   2019   61258\n",
       "8   2020   98446\n",
       "9   2021  189664\n",
       "10  2022  310800\n",
       "11  2023  420905"
      ]
     },
     "execution_count": 46,
     "metadata": {},
     "output_type": "execute_result"
    }
   ],
   "source": [
    "df = client.query(sql).to_dataframe()\n",
    "df"
   ]
  },
  {
   "cell_type": "code",
   "execution_count": 47,
   "metadata": {},
   "outputs": [
    {
     "data": {
      "text/plain": [
       "Text(0, 0.5, '')"
      ]
     },
     "execution_count": 47,
     "metadata": {},
     "output_type": "execute_result"
    },
    {
     "data": {
      "image/png": "[encoded data removed]",
      "text/plain": [
       "<Figure size 640x480 with 1 Axes>"
      ]
     },
     "metadata": {},
     "output_type": "display_data"
    }
   ],
   "source": [
    "plt.xticks(rotation=45)\n",
    "sns.barplot(\n",
    "    data = df,\n",
    "    x = 'Year',\n",
    "    y = 'Total'\n",
    "    ).set(\n",
    "        title = '전기차 등록대수'\n",
    "        )\n",
    "plt.xlabel('연도')\n",
    "plt.ylabel('')"
   ]
  },
  {
   "cell_type": "code",
   "execution_count": 50,
   "metadata": {},
   "outputs": [
    {
     "name": "stdout",
     "output_type": "stream",
     "text": [
      "[5.57, 233.03, 145.11, 29.39, 61.72, 259.76, 128.65, 60.71, 92.66, 63.87, 35.43]\n",
      "101.44545454545455\n"
     ]
    }
   ],
   "source": [
    "# 상승률 계산\n",
    "\n",
    "\n",
    "answer = []\n",
    "num = df['Total']\n",
    "\n",
    "for i in range(len(df['Total'])-1):\n",
    "    answer.append(round((num[i+1]-num[i])/num[i]*100,2))\n",
    "print(answer)\n",
    "print(sum(answer)/len(answer))"
   ]
  },
  {
   "cell_type": "code",
   "execution_count": 19,
   "metadata": {},
   "outputs": [
    {
     "data": {
      "image/png": "[encoded data removed]",
      "text/plain": [
       "<Figure size 640x480 with 1 Axes>"
      ]
     },
     "metadata": {},
     "output_type": "display_data"
    }
   ],
   "source": [
    "years = [2013,2014,2015,2016,2017,2018,2019,2020,2021,2022,2023]\n",
    "plt.plot(years,answer)\n",
    "plt.xlim(2012,2024)\n",
    "plt.ylim(0,300)\n",
    "plt.show()"
   ]
  },
  {
   "cell_type": "markdown",
   "metadata": {},
   "source": [
    "==============================================================================================================================================================================================================================="
   ]
  },
  {
   "cell_type": "code",
   "execution_count": 74,
   "metadata": {},
   "outputs": [],
   "source": [
    "# 3  번 : 전체 충전소 vs 고속도로 충전소 수 비교\n",
    "# 기준 : 2023년 11월 14일[Text(0.5, 1.0, 'The Number of Registered EV')]\n",
    "\n",
    "\n",
    "sql = '''\n",
    "SELECT\n",
    "  COUNT(Facility_2)\n",
    "FROM\n",
    "  project_1.ChargingStations\n",
    "WHERE\n",
    "  Facility_2 LIKE '%휴게소%'\n",
    "'''"
   ]
  },
  {
   "cell_type": "code",
   "execution_count": 75,
   "metadata": {},
   "outputs": [
    {
     "data": {
      "text/html": [
       "<div>\n",
       "<style scoped>\n",
       "    .dataframe tbody tr th:only-of-type {\n",
       "        vertical-align: middle;\n",
       "    }\n",
       "\n",
       "    .dataframe tbody tr th {\n",
       "        vertical-align: top;\n",
       "    }\n",
       "\n",
       "    .dataframe thead th {\n",
       "        text-align: right;\n",
       "    }\n",
       "</style>\n",
       "<table border=\"1\" class=\"dataframe\">\n",
       "  <thead>\n",
       "    <tr style=\"text-align: right;\">\n",
       "      <th></th>\n",
       "      <th>f0_</th>\n",
       "    </tr>\n",
       "  </thead>\n",
       "  <tbody>\n",
       "    <tr>\n",
       "      <th>0</th>\n",
       "      <td>1390</td>\n",
       "    </tr>\n",
       "  </tbody>\n",
       "</table>\n",
       "</div>"
      ],
      "text/plain": [
       "    f0_\n",
       "0  1390"
      ]
     },
     "execution_count": 75,
     "metadata": {},
     "output_type": "execute_result"
    }
   ],
   "source": [
    "df = client.query(sql).to_dataframe()\n",
    "df"
   ]
  },
  {
   "cell_type": "code",
   "execution_count": 76,
   "metadata": {},
   "outputs": [],
   "source": [
    "sql = '''\n",
    "SELECT\n",
    "  COUNT(Facility_2)\n",
    "FROM\n",
    "  project_1.ChargingStations\n",
    "'''"
   ]
  },
  {
   "cell_type": "code",
   "execution_count": 77,
   "metadata": {},
   "outputs": [
    {
     "data": {
      "text/html": [
       "<div>\n",
       "<style scoped>\n",
       "    .dataframe tbody tr th:only-of-type {\n",
       "        vertical-align: middle;\n",
       "    }\n",
       "\n",
       "    .dataframe tbody tr th {\n",
       "        vertical-align: top;\n",
       "    }\n",
       "\n",
       "    .dataframe thead th {\n",
       "        text-align: right;\n",
       "    }\n",
       "</style>\n",
       "<table border=\"1\" class=\"dataframe\">\n",
       "  <thead>\n",
       "    <tr style=\"text-align: right;\">\n",
       "      <th></th>\n",
       "      <th>f0_</th>\n",
       "    </tr>\n",
       "  </thead>\n",
       "  <tbody>\n",
       "    <tr>\n",
       "      <th>0</th>\n",
       "      <td>265457</td>\n",
       "    </tr>\n",
       "  </tbody>\n",
       "</table>\n",
       "</div>"
      ],
      "text/plain": [
       "      f0_\n",
       "0  265457"
      ]
     },
     "execution_count": 77,
     "metadata": {},
     "output_type": "execute_result"
    }
   ],
   "source": [
    "df = client.query(sql).to_dataframe()\n",
    "df"
   ]
  },
  {
   "cell_type": "code",
   "execution_count": 22,
   "metadata": {},
   "outputs": [
    {
     "data": {
      "text/plain": [
       "Text(0.5, 1.0, '충전소 등록대수')"
      ]
     },
     "execution_count": 22,
     "metadata": {},
     "output_type": "execute_result"
    },
    {
     "data": {
      "image/png": "[encoded data removed]",
      "text/plain": [
       "<Figure size 800x500 with 1 Axes>"
      ]
     },
     "metadata": {},
     "output_type": "display_data"
    }
   ],
   "source": [
    "y = ['총합','고속도로']\n",
    "x = [265457,1390]\n",
    "\n",
    "# sns.set_style('whitegrid')\n",
    "plt.figure(figsize=(8, 5))   # https://rfriend.tistory.com/710\n",
    "bar = sns.barplot(x=x,y=y)\n",
    "plt.title('충전소 등록대수')\n"
   ]
  },
  {
   "cell_type": "markdown",
   "metadata": {},
   "source": [
    "==============================================================================================================================================================================================================================="
   ]
  },
  {
   "cell_type": "code",
   "execution_count": 220,
   "metadata": {},
   "outputs": [],
   "source": [
    "# 4 - 1 번 : 고속도로 평균 충전량\n",
    "#timestamp_diff 구하기 https://dev-jwblog.tistory.com/137\n",
    "\n",
    "sql = '''\n",
    "SELECT\n",
    "  COUNT(Type) AS number,\n",
    "  Type,\n",
    "  AVG(Amount) AS amount,\n",
    "  AVG(TIMESTAMP_DIFF(End_Time,Start_Time,MINUTE)) AS time\n",
    "FROM\n",
    "  `apt-rite-404708.project_1.ChargingData_2023*`\n",
    "WHERE\n",
    "  Station_Name LIKE '%휴게소%'\n",
    "GROUP BY\n",
    "  Type\n",
    "'''"
   ]
  },
  {
   "cell_type": "code",
   "execution_count": 221,
   "metadata": {},
   "outputs": [
    {
     "data": {
      "text/html": [
       "<div>\n",
       "<style scoped>\n",
       "    .dataframe tbody tr th:only-of-type {\n",
       "        vertical-align: middle;\n",
       "    }\n",
       "\n",
       "    .dataframe tbody tr th {\n",
       "        vertical-align: top;\n",
       "    }\n",
       "\n",
       "    .dataframe thead th {\n",
       "        text-align: right;\n",
       "    }\n",
       "</style>\n",
       "<table border=\"1\" class=\"dataframe\">\n",
       "  <thead>\n",
       "    <tr style=\"text-align: right;\">\n",
       "      <th></th>\n",
       "      <th>number</th>\n",
       "      <th>Type</th>\n",
       "      <th>amount</th>\n",
       "      <th>time</th>\n",
       "    </tr>\n",
       "  </thead>\n",
       "  <tbody>\n",
       "    <tr>\n",
       "      <th>0</th>\n",
       "      <td>162768</td>\n",
       "      <td>급속</td>\n",
       "      <td>23.233272</td>\n",
       "      <td>29.968292</td>\n",
       "    </tr>\n",
       "  </tbody>\n",
       "</table>\n",
       "</div>"
      ],
      "text/plain": [
       "   number Type     amount       time\n",
       "0  162768   급속  23.233272  29.968292"
      ]
     },
     "execution_count": 221,
     "metadata": {},
     "output_type": "execute_result"
    }
   ],
   "source": [
    "df = client.query(sql).to_dataframe()\n",
    "df"
   ]
  },
  {
   "cell_type": "code",
   "execution_count": 227,
   "metadata": {},
   "outputs": [
    {
     "data": {
      "text/html": [
       "<div>\n",
       "<style scoped>\n",
       "    .dataframe tbody tr th:only-of-type {\n",
       "        vertical-align: middle;\n",
       "    }\n",
       "\n",
       "    .dataframe tbody tr th {\n",
       "        vertical-align: top;\n",
       "    }\n",
       "\n",
       "    .dataframe thead th {\n",
       "        text-align: right;\n",
       "    }\n",
       "</style>\n",
       "<table border=\"1\" class=\"dataframe\">\n",
       "  <thead>\n",
       "    <tr style=\"text-align: right;\">\n",
       "      <th></th>\n",
       "      <th>Type</th>\n",
       "      <th>Amount</th>\n",
       "    </tr>\n",
       "  </thead>\n",
       "  <tbody>\n",
       "    <tr>\n",
       "      <th>0</th>\n",
       "      <td>급속</td>\n",
       "      <td>21.83</td>\n",
       "    </tr>\n",
       "    <tr>\n",
       "      <th>1</th>\n",
       "      <td>급속</td>\n",
       "      <td>38.92</td>\n",
       "    </tr>\n",
       "    <tr>\n",
       "      <th>2</th>\n",
       "      <td>급속</td>\n",
       "      <td>2.95</td>\n",
       "    </tr>\n",
       "    <tr>\n",
       "      <th>3</th>\n",
       "      <td>급속</td>\n",
       "      <td>15.49</td>\n",
       "    </tr>\n",
       "    <tr>\n",
       "      <th>4</th>\n",
       "      <td>급속</td>\n",
       "      <td>7.76</td>\n",
       "    </tr>\n",
       "    <tr>\n",
       "      <th>...</th>\n",
       "      <td>...</td>\n",
       "      <td>...</td>\n",
       "    </tr>\n",
       "    <tr>\n",
       "      <th>162763</th>\n",
       "      <td>급속</td>\n",
       "      <td>34.24</td>\n",
       "    </tr>\n",
       "    <tr>\n",
       "      <th>162764</th>\n",
       "      <td>급속</td>\n",
       "      <td>20.38</td>\n",
       "    </tr>\n",
       "    <tr>\n",
       "      <th>162765</th>\n",
       "      <td>급속</td>\n",
       "      <td>2.99</td>\n",
       "    </tr>\n",
       "    <tr>\n",
       "      <th>162766</th>\n",
       "      <td>급속</td>\n",
       "      <td>40.76</td>\n",
       "    </tr>\n",
       "    <tr>\n",
       "      <th>162767</th>\n",
       "      <td>급속</td>\n",
       "      <td>13.81</td>\n",
       "    </tr>\n",
       "  </tbody>\n",
       "</table>\n",
       "<p>162768 rows × 2 columns</p>\n",
       "</div>"
      ],
      "text/plain": [
       "       Type  Amount\n",
       "0        급속   21.83\n",
       "1        급속   38.92\n",
       "2        급속    2.95\n",
       "3        급속   15.49\n",
       "4        급속    7.76\n",
       "...     ...     ...\n",
       "162763   급속   34.24\n",
       "162764   급속   20.38\n",
       "162765   급속    2.99\n",
       "162766   급속   40.76\n",
       "162767   급속   13.81\n",
       "\n",
       "[162768 rows x 2 columns]"
      ]
     },
     "execution_count": 227,
     "metadata": {},
     "output_type": "execute_result"
    }
   ],
   "source": [
    "# 4 - 2 번 : 고속도로 충전량 \n",
    "\n",
    "sql = '''\n",
    "SELECT\n",
    "  Type,\n",
    "  Amount\n",
    "FROM\n",
    "  `apt-rite-404708.project_1.ChargingData_2023*`\n",
    "WHERE\n",
    " Station_Name LIKE '%휴게소%'\n",
    "'''\n",
    "\n",
    "df = client.query(sql).to_dataframe()\n",
    "df"
   ]
  },
  {
   "cell_type": "code",
   "execution_count": 229,
   "metadata": {},
   "outputs": [
    {
     "data": {
      "text/plain": [
       "<Axes: xlabel='Amount', ylabel='Count'>"
      ]
     },
     "execution_count": 229,
     "metadata": {},
     "output_type": "execute_result"
    },
    {
     "data": {
      "image/png": "[encoded data removed]",
      "text/plain": [
       "<Figure size 1300x700 with 1 Axes>"
      ]
     },
     "metadata": {},
     "output_type": "display_data"
    }
   ],
   "source": [
    "plt.figure(figsize=(13, 7))\n",
    "sns.histplot(\n",
    "    data = df,\n",
    "    x = 'Amount',\n",
    "    bins=[x for x in range(0,100,2)]\n",
    "    )"
   ]
  },
  {
   "cell_type": "code",
   "execution_count": 230,
   "metadata": {},
   "outputs": [
    {
     "data": {
      "text/html": [
       "<div>\n",
       "<style scoped>\n",
       "    .dataframe tbody tr th:only-of-type {\n",
       "        vertical-align: middle;\n",
       "    }\n",
       "\n",
       "    .dataframe tbody tr th {\n",
       "        vertical-align: top;\n",
       "    }\n",
       "\n",
       "    .dataframe thead th {\n",
       "        text-align: right;\n",
       "    }\n",
       "</style>\n",
       "<table border=\"1\" class=\"dataframe\">\n",
       "  <thead>\n",
       "    <tr style=\"text-align: right;\">\n",
       "      <th></th>\n",
       "      <th>Type</th>\n",
       "      <th>time</th>\n",
       "    </tr>\n",
       "  </thead>\n",
       "  <tbody>\n",
       "    <tr>\n",
       "      <th>0</th>\n",
       "      <td>급속</td>\n",
       "      <td>63</td>\n",
       "    </tr>\n",
       "    <tr>\n",
       "      <th>1</th>\n",
       "      <td>급속</td>\n",
       "      <td>96</td>\n",
       "    </tr>\n",
       "    <tr>\n",
       "      <th>2</th>\n",
       "      <td>급속</td>\n",
       "      <td>98</td>\n",
       "    </tr>\n",
       "    <tr>\n",
       "      <th>3</th>\n",
       "      <td>급속</td>\n",
       "      <td>97</td>\n",
       "    </tr>\n",
       "    <tr>\n",
       "      <th>4</th>\n",
       "      <td>급속</td>\n",
       "      <td>63</td>\n",
       "    </tr>\n",
       "    <tr>\n",
       "      <th>...</th>\n",
       "      <td>...</td>\n",
       "      <td>...</td>\n",
       "    </tr>\n",
       "    <tr>\n",
       "      <th>162763</th>\n",
       "      <td>급속</td>\n",
       "      <td>60</td>\n",
       "    </tr>\n",
       "    <tr>\n",
       "      <th>162764</th>\n",
       "      <td>급속</td>\n",
       "      <td>60</td>\n",
       "    </tr>\n",
       "    <tr>\n",
       "      <th>162765</th>\n",
       "      <td>급속</td>\n",
       "      <td>60</td>\n",
       "    </tr>\n",
       "    <tr>\n",
       "      <th>162766</th>\n",
       "      <td>급속</td>\n",
       "      <td>60</td>\n",
       "    </tr>\n",
       "    <tr>\n",
       "      <th>162767</th>\n",
       "      <td>급속</td>\n",
       "      <td>60</td>\n",
       "    </tr>\n",
       "  </tbody>\n",
       "</table>\n",
       "<p>162768 rows × 2 columns</p>\n",
       "</div>"
      ],
      "text/plain": [
       "       Type  time\n",
       "0        급속    63\n",
       "1        급속    96\n",
       "2        급속    98\n",
       "3        급속    97\n",
       "4        급속    63\n",
       "...     ...   ...\n",
       "162763   급속    60\n",
       "162764   급속    60\n",
       "162765   급속    60\n",
       "162766   급속    60\n",
       "162767   급속    60\n",
       "\n",
       "[162768 rows x 2 columns]"
      ]
     },
     "execution_count": 230,
     "metadata": {},
     "output_type": "execute_result"
    }
   ],
   "source": [
    "# 4 - 3 번 : 고속도로 충전시간\n",
    "\n",
    "sql = '''\n",
    "SELECT\n",
    "  Type,\n",
    "  TIMESTAMP_DIFF(End_Time,Start_Time,MINUTE) AS time\n",
    "FROM\n",
    "  `apt-rite-404708.project_1.ChargingData_2023*`\n",
    "WHERE\n",
    " Station_Name LIKE '%휴게소%'\n",
    "'''\n",
    "\n",
    "df = client.query(sql).to_dataframe()\n",
    "df"
   ]
  },
  {
   "cell_type": "code",
   "execution_count": 231,
   "metadata": {},
   "outputs": [
    {
     "data": {
      "text/plain": [
       "<Axes: xlabel='time', ylabel='Count'>"
      ]
     },
     "execution_count": 231,
     "metadata": {},
     "output_type": "execute_result"
    },
    {
     "data": {
      "image/png": "[encoded data removed]",
      "text/plain": [
       "<Figure size 1300x700 with 1 Axes>"
      ]
     },
     "metadata": {},
     "output_type": "display_data"
    }
   ],
   "source": [
    "plt.figure(figsize=(13, 7))\n",
    "sns.histplot(\n",
    "    data = df,\n",
    "    x = 'time',\n",
    "    bins=[x for x in range(0,100,2)]\n",
    "    )"
   ]
  },
  {
   "cell_type": "code",
   "execution_count": null,
   "metadata": {},
   "outputs": [],
   "source": [
    "# 고속도로 노선 수 \n",
    "sql = '''\n",
    "SELECT\n",
    "  COUNT(Route_Name),\n",
    "  Route_Name\n",
    "FROM\n",
    "  project_1.Traffic_2023_11_12\n",
    "GROUP BY\n",
    "  Route_Name\n",
    "'''\n",
    "\n",
    "df = client.query(sql).to_dataframe()\n",
    "df"
   ]
  },
  {
   "cell_type": "code",
   "execution_count": 30,
   "metadata": {},
   "outputs": [],
   "source": [
    "# 5번 : 고속도로 통행량\n",
    "\n",
    "sql = '''\n",
    "SELECT\n",
    "  Route_Name,\n",
    "  SUM(Traffic_Volume) AS traffic\n",
    "FROM\n",
    "  project_1.Traffic_2023_11_12\n",
    "GROUP BY\n",
    "  Route_Name\n",
    "ORDER BY\n",
    "  traffic DESC\n",
    "LIMIT\n",
    " 15\n",
    "'''"
   ]
  },
  {
   "cell_type": "code",
   "execution_count": 31,
   "metadata": {},
   "outputs": [
    {
     "data": {
      "text/html": [
       "<div>\n",
       "<style scoped>\n",
       "    .dataframe tbody tr th:only-of-type {\n",
       "        vertical-align: middle;\n",
       "    }\n",
       "\n",
       "    .dataframe tbody tr th {\n",
       "        vertical-align: top;\n",
       "    }\n",
       "\n",
       "    .dataframe thead th {\n",
       "        text-align: right;\n",
       "    }\n",
       "</style>\n",
       "<table border=\"1\" class=\"dataframe\">\n",
       "  <thead>\n",
       "    <tr style=\"text-align: right;\">\n",
       "      <th></th>\n",
       "      <th>Route_Name</th>\n",
       "      <th>traffic</th>\n",
       "    </tr>\n",
       "  </thead>\n",
       "  <tbody>\n",
       "    <tr>\n",
       "      <th>0</th>\n",
       "      <td>경부선</td>\n",
       "      <td>5789176</td>\n",
       "    </tr>\n",
       "    <tr>\n",
       "      <th>1</th>\n",
       "      <td>영동선</td>\n",
       "      <td>3237706</td>\n",
       "    </tr>\n",
       "    <tr>\n",
       "      <th>2</th>\n",
       "      <td>중부선-대전통영선A</td>\n",
       "      <td>2575357</td>\n",
       "    </tr>\n",
       "    <tr>\n",
       "      <th>3</th>\n",
       "      <td>남해선A</td>\n",
       "      <td>2466450</td>\n",
       "    </tr>\n",
       "    <tr>\n",
       "      <th>4</th>\n",
       "      <td>서해안선</td>\n",
       "      <td>2241936</td>\n",
       "    </tr>\n",
       "    <tr>\n",
       "      <th>5</th>\n",
       "      <td>중부내륙선</td>\n",
       "      <td>1670689</td>\n",
       "    </tr>\n",
       "    <tr>\n",
       "      <th>6</th>\n",
       "      <td>호남선A</td>\n",
       "      <td>1347689</td>\n",
       "    </tr>\n",
       "    <tr>\n",
       "      <th>7</th>\n",
       "      <td>수도권제2순환선</td>\n",
       "      <td>1128954</td>\n",
       "    </tr>\n",
       "    <tr>\n",
       "      <th>8</th>\n",
       "      <td>중앙선</td>\n",
       "      <td>1114516</td>\n",
       "    </tr>\n",
       "    <tr>\n",
       "      <th>9</th>\n",
       "      <td>당진상주선</td>\n",
       "      <td>1108760</td>\n",
       "    </tr>\n",
       "    <tr>\n",
       "      <th>10</th>\n",
       "      <td>평택-음성선</td>\n",
       "      <td>872116</td>\n",
       "    </tr>\n",
       "    <tr>\n",
       "      <th>11</th>\n",
       "      <td>서울춘천선</td>\n",
       "      <td>732236</td>\n",
       "    </tr>\n",
       "    <tr>\n",
       "      <th>12</th>\n",
       "      <td>대구-부산선</td>\n",
       "      <td>661537</td>\n",
       "    </tr>\n",
       "    <tr>\n",
       "      <th>13</th>\n",
       "      <td>호남선지선</td>\n",
       "      <td>569138</td>\n",
       "    </tr>\n",
       "    <tr>\n",
       "      <th>14</th>\n",
       "      <td>제2영동선</td>\n",
       "      <td>562438</td>\n",
       "    </tr>\n",
       "  </tbody>\n",
       "</table>\n",
       "</div>"
      ],
      "text/plain": [
       "    Route_Name  traffic\n",
       "0          경부선  5789176\n",
       "1          영동선  3237706\n",
       "2   중부선-대전통영선A  2575357\n",
       "3         남해선A  2466450\n",
       "4         서해안선  2241936\n",
       "5        중부내륙선  1670689\n",
       "6         호남선A  1347689\n",
       "7     수도권제2순환선  1128954\n",
       "8          중앙선  1114516\n",
       "9        당진상주선  1108760\n",
       "10      평택-음성선   872116\n",
       "11       서울춘천선   732236\n",
       "12      대구-부산선   661537\n",
       "13       호남선지선   569138\n",
       "14       제2영동선   562438"
      ]
     },
     "execution_count": 31,
     "metadata": {},
     "output_type": "execute_result"
    }
   ],
   "source": [
    "df = client.query(sql).to_dataframe()\n",
    "df"
   ]
  },
  {
   "cell_type": "code",
   "execution_count": 32,
   "metadata": {},
   "outputs": [
    {
     "data": {
      "text/plain": [
       "Text(0, 0.5, '노선명')"
      ]
     },
     "execution_count": 32,
     "metadata": {},
     "output_type": "execute_result"
    },
    {
     "data": {
      "image/png": "[encoded data removed]",
      "text/plain": [
       "<Figure size 1200x800 with 1 Axes>"
      ]
     },
     "metadata": {},
     "output_type": "display_data"
    }
   ],
   "source": [
    "plt.figure(figsize=(12, 8))\n",
    "sns.barplot(\n",
    "    data = df,\n",
    "    x = 'traffic',\n",
    "    y = 'Route_Name'\n",
    ").set(\n",
    "    \n",
    "    title = '고속도로 교통량 상위 15'\n",
    ")\n",
    "plt.xlabel('교통량')\n",
    "plt.ylabel('노선명')"
   ]
  },
  {
   "cell_type": "markdown",
   "metadata": {},
   "source": [
    "==============================================================================================================================================================================================================================="
   ]
  },
  {
   "cell_type": "code",
   "execution_count": 33,
   "metadata": {},
   "outputs": [],
   "source": [
    "# 6번 : 고속도로 통행량\n",
    "# 기준 : 2022년 일평균\n",
    "\n",
    "\n",
    "sql = '''\n",
    "SELECT\n",
    "  Section,\n",
    "  SUM(DailyAverage) AS DA\n",
    "FROM\n",
    "  project_1.Traffic_2022\n",
    "GROUP BY\n",
    "  Section\n",
    "ORDER BY\n",
    "  SUM(DailyAverage) DESC\n",
    "LIMIT\n",
    "  15\n",
    "'''"
   ]
  },
  {
   "cell_type": "code",
   "execution_count": 34,
   "metadata": {},
   "outputs": [
    {
     "data": {
      "text/html": [
       "<div>\n",
       "<style scoped>\n",
       "    .dataframe tbody tr th:only-of-type {\n",
       "        vertical-align: middle;\n",
       "    }\n",
       "\n",
       "    .dataframe tbody tr th {\n",
       "        vertical-align: top;\n",
       "    }\n",
       "\n",
       "    .dataframe thead th {\n",
       "        text-align: right;\n",
       "    }\n",
       "</style>\n",
       "<table border=\"1\" class=\"dataframe\">\n",
       "  <thead>\n",
       "    <tr style=\"text-align: right;\">\n",
       "      <th></th>\n",
       "      <th>Section</th>\n",
       "      <th>DA</th>\n",
       "    </tr>\n",
       "  </thead>\n",
       "  <tbody>\n",
       "    <tr>\n",
       "      <th>0</th>\n",
       "      <td>신갈JC~수원신갈</td>\n",
       "      <td>230936</td>\n",
       "    </tr>\n",
       "    <tr>\n",
       "      <th>1</th>\n",
       "      <td>남사진위~안성JC</td>\n",
       "      <td>219215</td>\n",
       "    </tr>\n",
       "    <tr>\n",
       "      <th>2</th>\n",
       "      <td>안성JC~안성</td>\n",
       "      <td>206406</td>\n",
       "    </tr>\n",
       "    <tr>\n",
       "      <th>3</th>\n",
       "      <td>동탄JC~오산</td>\n",
       "      <td>205811</td>\n",
       "    </tr>\n",
       "    <tr>\n",
       "      <th>4</th>\n",
       "      <td>서울~신갈JC</td>\n",
       "      <td>204767</td>\n",
       "    </tr>\n",
       "    <tr>\n",
       "      <th>5</th>\n",
       "      <td>수원신갈~기흥</td>\n",
       "      <td>202461</td>\n",
       "    </tr>\n",
       "    <tr>\n",
       "      <th>6</th>\n",
       "      <td>오산~안성JC</td>\n",
       "      <td>199993</td>\n",
       "    </tr>\n",
       "    <tr>\n",
       "      <th>7</th>\n",
       "      <td>오산~남사진위</td>\n",
       "      <td>199293</td>\n",
       "    </tr>\n",
       "    <tr>\n",
       "      <th>8</th>\n",
       "      <td>북천안~천안</td>\n",
       "      <td>192403</td>\n",
       "    </tr>\n",
       "    <tr>\n",
       "      <th>9</th>\n",
       "      <td>서서울~안산JC</td>\n",
       "      <td>191079</td>\n",
       "    </tr>\n",
       "    <tr>\n",
       "      <th>10</th>\n",
       "      <td>금호JC~북대구</td>\n",
       "      <td>186866</td>\n",
       "    </tr>\n",
       "    <tr>\n",
       "      <th>11</th>\n",
       "      <td>안성~북천안</td>\n",
       "      <td>184968</td>\n",
       "    </tr>\n",
       "    <tr>\n",
       "      <th>12</th>\n",
       "      <td>남이JC~청주JC</td>\n",
       "      <td>180655</td>\n",
       "    </tr>\n",
       "    <tr>\n",
       "      <th>13</th>\n",
       "      <td>북수원~동수원</td>\n",
       "      <td>175881</td>\n",
       "    </tr>\n",
       "    <tr>\n",
       "      <th>14</th>\n",
       "      <td>기흥~기흥동탄</td>\n",
       "      <td>175596</td>\n",
       "    </tr>\n",
       "  </tbody>\n",
       "</table>\n",
       "</div>"
      ],
      "text/plain": [
       "      Section      DA\n",
       "0   신갈JC~수원신갈  230936\n",
       "1   남사진위~안성JC  219215\n",
       "2     안성JC~안성  206406\n",
       "3     동탄JC~오산  205811\n",
       "4     서울~신갈JC  204767\n",
       "5     수원신갈~기흥  202461\n",
       "6     오산~안성JC  199993\n",
       "7     오산~남사진위  199293\n",
       "8      북천안~천안  192403\n",
       "9    서서울~안산JC  191079\n",
       "10   금호JC~북대구  186866\n",
       "11     안성~북천안  184968\n",
       "12  남이JC~청주JC  180655\n",
       "13    북수원~동수원  175881\n",
       "14    기흥~기흥동탄  175596"
      ]
     },
     "execution_count": 34,
     "metadata": {},
     "output_type": "execute_result"
    }
   ],
   "source": [
    "df = client.query(sql).to_dataframe()\n",
    "df"
   ]
  },
  {
   "cell_type": "code",
   "execution_count": 35,
   "metadata": {},
   "outputs": [
    {
     "data": {
      "text/plain": [
       "Text(0, 0.5, '고속도로 구간')"
      ]
     },
     "execution_count": 35,
     "metadata": {},
     "output_type": "execute_result"
    },
    {
     "data": {
      "image/png": "[encoded data removed]",
      "text/plain": [
       "<Figure size 1000x700 with 1 Axes>"
      ]
     },
     "metadata": {},
     "output_type": "display_data"
    }
   ],
   "source": [
    "plt.figure(figsize=(10, 7))\n",
    "sns.barplot(\n",
    "    data=df,\n",
    "    y='Section',\n",
    "    x='DA'\n",
    ").set(\n",
    "    title = '고속도로 구간별 일일 교통량 상위'\n",
    ")\n",
    "plt.xlabel('교통량')\n",
    "plt.ylabel('고속도로 구간')"
   ]
  },
  {
   "cell_type": "markdown",
   "metadata": {},
   "source": [
    "==============================================================================================================================================================================================================================="
   ]
  },
  {
   "cell_type": "markdown",
   "metadata": {},
   "source": [
    "이건 좀 아니잖아...............\n",
    "그래프 다 해봤는데 너무많아서 다 이상함\n",
    "결론 : 못씀\n",
    "그럼 우짜라고?"
   ]
  },
  {
   "cell_type": "code",
   "execution_count": 51,
   "metadata": {},
   "outputs": [
    {
     "data": {
      "text/html": [
       "<div>\n",
       "<style scoped>\n",
       "    .dataframe tbody tr th:only-of-type {\n",
       "        vertical-align: middle;\n",
       "    }\n",
       "\n",
       "    .dataframe tbody tr th {\n",
       "        vertical-align: top;\n",
       "    }\n",
       "\n",
       "    .dataframe thead th {\n",
       "        text-align: right;\n",
       "    }\n",
       "</style>\n",
       "<table border=\"1\" class=\"dataframe\">\n",
       "  <thead>\n",
       "    <tr style=\"text-align: right;\">\n",
       "      <th></th>\n",
       "      <th>f0_</th>\n",
       "    </tr>\n",
       "  </thead>\n",
       "  <tbody>\n",
       "    <tr>\n",
       "      <th>0</th>\n",
       "      <td>207</td>\n",
       "    </tr>\n",
       "  </tbody>\n",
       "</table>\n",
       "</div>"
      ],
      "text/plain": [
       "   f0_\n",
       "0  207"
      ]
     },
     "execution_count": 51,
     "metadata": {},
     "output_type": "execute_result"
    }
   ],
   "source": [
    "sql = '''\n",
    "SELECT\n",
    "  COUNT(*)\n",
    "FROM\n",
    " project_1.Traffic_RestArea\n",
    "'''\n",
    "\n",
    "df = client.query(sql).to_dataframe()\n",
    "df"
   ]
  },
  {
   "cell_type": "code",
   "execution_count": 36,
   "metadata": {},
   "outputs": [],
   "source": [
    "# 7번 : 휴게소 이용객\n",
    "# 기준 : 23년 8월 24일\n",
    "\n",
    "sql = '''\n",
    "SELECT\n",
    "  Rest_Area_Name,\n",
    "  Daily_Visitors\n",
    "FROM\n",
    "  project_1.Traffic_RestArea\n",
    "WHERE\n",
    "  Daily_Visitors IS NOT NULL\n",
    "ORDER BY\n",
    "  Daily_Visitors DESC\n",
    "LIMIT\n",
    "  15\n",
    "'''"
   ]
  },
  {
   "cell_type": "code",
   "execution_count": 37,
   "metadata": {},
   "outputs": [
    {
     "data": {
      "text/html": [
       "<div>\n",
       "<style scoped>\n",
       "    .dataframe tbody tr th:only-of-type {\n",
       "        vertical-align: middle;\n",
       "    }\n",
       "\n",
       "    .dataframe tbody tr th {\n",
       "        vertical-align: top;\n",
       "    }\n",
       "\n",
       "    .dataframe thead th {\n",
       "        text-align: right;\n",
       "    }\n",
       "</style>\n",
       "<table border=\"1\" class=\"dataframe\">\n",
       "  <thead>\n",
       "    <tr style=\"text-align: right;\">\n",
       "      <th></th>\n",
       "      <th>Rest_Area_Name</th>\n",
       "      <th>Daily_Visitors</th>\n",
       "    </tr>\n",
       "  </thead>\n",
       "  <tbody>\n",
       "    <tr>\n",
       "      <th>0</th>\n",
       "      <td>입장거봉포도(서울)</td>\n",
       "      <td>30425</td>\n",
       "    </tr>\n",
       "    <tr>\n",
       "      <th>1</th>\n",
       "      <td>안성(부산)</td>\n",
       "      <td>19540</td>\n",
       "    </tr>\n",
       "    <tr>\n",
       "      <th>2</th>\n",
       "      <td>천안삼거리(서울)</td>\n",
       "      <td>19488</td>\n",
       "    </tr>\n",
       "    <tr>\n",
       "      <th>3</th>\n",
       "      <td>화성(목포)</td>\n",
       "      <td>18970</td>\n",
       "    </tr>\n",
       "    <tr>\n",
       "      <th>4</th>\n",
       "      <td>선산(양평)</td>\n",
       "      <td>18577</td>\n",
       "    </tr>\n",
       "    <tr>\n",
       "      <th>5</th>\n",
       "      <td>안성(서울)</td>\n",
       "      <td>18381</td>\n",
       "    </tr>\n",
       "    <tr>\n",
       "      <th>6</th>\n",
       "      <td>죽전(서울)</td>\n",
       "      <td>18253</td>\n",
       "    </tr>\n",
       "    <tr>\n",
       "      <th>7</th>\n",
       "      <td>여주(강릉)</td>\n",
       "      <td>18032</td>\n",
       "    </tr>\n",
       "    <tr>\n",
       "      <th>8</th>\n",
       "      <td>선산(창원)</td>\n",
       "      <td>17814</td>\n",
       "    </tr>\n",
       "    <tr>\n",
       "      <th>9</th>\n",
       "      <td>행담도</td>\n",
       "      <td>16911</td>\n",
       "    </tr>\n",
       "    <tr>\n",
       "      <th>10</th>\n",
       "      <td>칠곡(서울)</td>\n",
       "      <td>16447</td>\n",
       "    </tr>\n",
       "    <tr>\n",
       "      <th>11</th>\n",
       "      <td>죽암(부산)</td>\n",
       "      <td>15986</td>\n",
       "    </tr>\n",
       "    <tr>\n",
       "      <th>12</th>\n",
       "      <td>용인(강릉)</td>\n",
       "      <td>15870</td>\n",
       "    </tr>\n",
       "    <tr>\n",
       "      <th>13</th>\n",
       "      <td>망향(부산)</td>\n",
       "      <td>14077</td>\n",
       "    </tr>\n",
       "    <tr>\n",
       "      <th>14</th>\n",
       "      <td>하남드림</td>\n",
       "      <td>13632</td>\n",
       "    </tr>\n",
       "  </tbody>\n",
       "</table>\n",
       "</div>"
      ],
      "text/plain": [
       "   Rest_Area_Name  Daily_Visitors\n",
       "0      입장거봉포도(서울)           30425\n",
       "1          안성(부산)           19540\n",
       "2       천안삼거리(서울)           19488\n",
       "3          화성(목포)           18970\n",
       "4          선산(양평)           18577\n",
       "5          안성(서울)           18381\n",
       "6          죽전(서울)           18253\n",
       "7          여주(강릉)           18032\n",
       "8          선산(창원)           17814\n",
       "9             행담도           16911\n",
       "10         칠곡(서울)           16447\n",
       "11         죽암(부산)           15986\n",
       "12         용인(강릉)           15870\n",
       "13         망향(부산)           14077\n",
       "14           하남드림           13632"
      ]
     },
     "execution_count": 37,
     "metadata": {},
     "output_type": "execute_result"
    }
   ],
   "source": [
    "df = client.query(sql).to_dataframe()\n",
    "df"
   ]
  },
  {
   "cell_type": "code",
   "execution_count": 39,
   "metadata": {},
   "outputs": [
    {
     "data": {
      "text/plain": [
       "[Text(0.5, 1.0, '휴게소 방문객 상위 15')]"
      ]
     },
     "execution_count": 39,
     "metadata": {},
     "output_type": "execute_result"
    },
    {
     "data": {
      "image/png": "[encoded data removed]",
      "text/plain": [
       "<Figure size 640x480 with 1 Axes>"
      ]
     },
     "metadata": {},
     "output_type": "display_data"
    }
   ],
   "source": [
    "barplot = sns.barplot(\n",
    "    data = df,\n",
    "    y = 'Rest_Area_Name',\n",
    "    x = 'Daily_Visitors'\n",
    ").set(\n",
    "    \n",
    "    title = '휴게소 방문객 상위 15'\n",
    ")\n",
    "\n",
    "plt.xlabel('방문객수')\n",
    "plt.ylabel('휴게소명')\n",
    "\n",
    "barplot"
   ]
  },
  {
   "cell_type": "markdown",
   "metadata": {},
   "source": [
    "===============================================================================================================================================================================================================================\n",
    "\n",
    "결론도출 ( 함 해보고 )\n",
    "\n",
    "고속도로 노선 교통량 상위 10개 -> 그중 노선 상위 10개 -> 그중 휴게소 방문대수 상위 10개"
   ]
  },
  {
   "cell_type": "markdown",
   "metadata": {},
   "source": [
    "==============================================================================================================================================================================================================================="
   ]
  },
  {
   "cell_type": "code",
   "execution_count": 63,
   "metadata": {},
   "outputs": [
    {
     "data": {
      "text/html": [
       "<div>\n",
       "<style scoped>\n",
       "    .dataframe tbody tr th:only-of-type {\n",
       "        vertical-align: middle;\n",
       "    }\n",
       "\n",
       "    .dataframe tbody tr th {\n",
       "        vertical-align: top;\n",
       "    }\n",
       "\n",
       "    .dataframe thead th {\n",
       "        text-align: right;\n",
       "    }\n",
       "</style>\n",
       "<table border=\"1\" class=\"dataframe\">\n",
       "  <thead>\n",
       "    <tr style=\"text-align: right;\">\n",
       "      <th></th>\n",
       "      <th>Route_Name</th>\n",
       "      <th>traffic</th>\n",
       "    </tr>\n",
       "  </thead>\n",
       "  <tbody>\n",
       "    <tr>\n",
       "      <th>0</th>\n",
       "      <td>경부선</td>\n",
       "      <td>5789176</td>\n",
       "    </tr>\n",
       "    <tr>\n",
       "      <th>1</th>\n",
       "      <td>영동선</td>\n",
       "      <td>3237706</td>\n",
       "    </tr>\n",
       "    <tr>\n",
       "      <th>2</th>\n",
       "      <td>중부선-대전통영선A</td>\n",
       "      <td>2575357</td>\n",
       "    </tr>\n",
       "    <tr>\n",
       "      <th>3</th>\n",
       "      <td>남해선A</td>\n",
       "      <td>2466450</td>\n",
       "    </tr>\n",
       "    <tr>\n",
       "      <th>4</th>\n",
       "      <td>서해안선</td>\n",
       "      <td>2241936</td>\n",
       "    </tr>\n",
       "  </tbody>\n",
       "</table>\n",
       "</div>"
      ],
      "text/plain": [
       "   Route_Name  traffic\n",
       "0         경부선  5789176\n",
       "1         영동선  3237706\n",
       "2  중부선-대전통영선A  2575357\n",
       "3        남해선A  2466450\n",
       "4        서해안선  2241936"
      ]
     },
     "execution_count": 63,
     "metadata": {},
     "output_type": "execute_result"
    }
   ],
   "source": [
    "# 1 : 고속도로 노선 교통량 상위 5개\n",
    "sql = '''\n",
    "SELECT\n",
    "  Route_Name,\n",
    "  SUM(Traffic_Volume) AS traffic\n",
    "FROM\n",
    "  project_1.Traffic_2023_11_12\n",
    "GROUP BY\n",
    "  Route_Name\n",
    "ORDER BY\n",
    "  traffic DESC\n",
    "LIMIT\n",
    " 5\n",
    "'''\n",
    "df = client.query(sql).to_dataframe()\n",
    "df"
   ]
  },
  {
   "cell_type": "code",
   "execution_count": 73,
   "metadata": {},
   "outputs": [
    {
     "data": {
      "text/html": [
       "<div>\n",
       "<style scoped>\n",
       "    .dataframe tbody tr th:only-of-type {\n",
       "        vertical-align: middle;\n",
       "    }\n",
       "\n",
       "    .dataframe tbody tr th {\n",
       "        vertical-align: top;\n",
       "    }\n",
       "\n",
       "    .dataframe thead th {\n",
       "        text-align: right;\n",
       "    }\n",
       "</style>\n",
       "<table border=\"1\" class=\"dataframe\">\n",
       "  <thead>\n",
       "    <tr style=\"text-align: right;\">\n",
       "      <th></th>\n",
       "      <th>Rest_Area_Name</th>\n",
       "      <th>Daily_Visitors</th>\n",
       "    </tr>\n",
       "  </thead>\n",
       "  <tbody>\n",
       "    <tr>\n",
       "      <th>0</th>\n",
       "      <td>입장거봉포도(서울)</td>\n",
       "      <td>30425</td>\n",
       "    </tr>\n",
       "    <tr>\n",
       "      <th>1</th>\n",
       "      <td>안성(부산)</td>\n",
       "      <td>19540</td>\n",
       "    </tr>\n",
       "    <tr>\n",
       "      <th>2</th>\n",
       "      <td>천안삼거리(서울)</td>\n",
       "      <td>19488</td>\n",
       "    </tr>\n",
       "    <tr>\n",
       "      <th>3</th>\n",
       "      <td>안성(서울)</td>\n",
       "      <td>18381</td>\n",
       "    </tr>\n",
       "    <tr>\n",
       "      <th>4</th>\n",
       "      <td>죽전(서울)</td>\n",
       "      <td>18253</td>\n",
       "    </tr>\n",
       "  </tbody>\n",
       "</table>\n",
       "</div>"
      ],
      "text/plain": [
       "  Rest_Area_Name  Daily_Visitors\n",
       "0     입장거봉포도(서울)           30425\n",
       "1         안성(부산)           19540\n",
       "2      천안삼거리(서울)           19488\n",
       "3         안성(서울)           18381\n",
       "4         죽전(서울)           18253"
      ]
     },
     "execution_count": 73,
     "metadata": {},
     "output_type": "execute_result"
    }
   ],
   "source": [
    "sql = '''\n",
    "SELECT\n",
    "  Rest_Area_Name,\n",
    "  Daily_Visitors\n",
    "FROM\n",
    "  project_1.Traffic_RestArea\n",
    "WHERE\n",
    " Route_Name IN ('경부선')\n",
    "ORDER BY\n",
    "  Daily_Visitors DESC\n",
    "LIMIT\n",
    " 5\n",
    "'''\n",
    "df = client.query(sql).to_dataframe()\n",
    "df"
   ]
  },
  {
   "cell_type": "code",
   "execution_count": 74,
   "metadata": {},
   "outputs": [
    {
     "data": {
      "text/html": [
       "<div>\n",
       "<style scoped>\n",
       "    .dataframe tbody tr th:only-of-type {\n",
       "        vertical-align: middle;\n",
       "    }\n",
       "\n",
       "    .dataframe tbody tr th {\n",
       "        vertical-align: top;\n",
       "    }\n",
       "\n",
       "    .dataframe thead th {\n",
       "        text-align: right;\n",
       "    }\n",
       "</style>\n",
       "<table border=\"1\" class=\"dataframe\">\n",
       "  <thead>\n",
       "    <tr style=\"text-align: right;\">\n",
       "      <th></th>\n",
       "      <th>Rest_Area_Name</th>\n",
       "      <th>Daily_Visitors</th>\n",
       "    </tr>\n",
       "  </thead>\n",
       "  <tbody>\n",
       "    <tr>\n",
       "      <th>0</th>\n",
       "      <td>여주(강릉)</td>\n",
       "      <td>18032</td>\n",
       "    </tr>\n",
       "    <tr>\n",
       "      <th>1</th>\n",
       "      <td>용인(강릉)</td>\n",
       "      <td>15870</td>\n",
       "    </tr>\n",
       "    <tr>\n",
       "      <th>2</th>\n",
       "      <td>횡성(강릉)</td>\n",
       "      <td>13411</td>\n",
       "    </tr>\n",
       "    <tr>\n",
       "      <th>3</th>\n",
       "      <td>여주(인천)</td>\n",
       "      <td>11043</td>\n",
       "    </tr>\n",
       "    <tr>\n",
       "      <th>4</th>\n",
       "      <td>용인(인천)</td>\n",
       "      <td>10372</td>\n",
       "    </tr>\n",
       "  </tbody>\n",
       "</table>\n",
       "</div>"
      ],
      "text/plain": [
       "  Rest_Area_Name  Daily_Visitors\n",
       "0         여주(강릉)           18032\n",
       "1         용인(강릉)           15870\n",
       "2         횡성(강릉)           13411\n",
       "3         여주(인천)           11043\n",
       "4         용인(인천)           10372"
      ]
     },
     "execution_count": 74,
     "metadata": {},
     "output_type": "execute_result"
    }
   ],
   "source": [
    "sql = '''\n",
    "SELECT\n",
    "  Rest_Area_Name,\n",
    "  Daily_Visitors\n",
    "FROM\n",
    "  project_1.Traffic_RestArea\n",
    "WHERE\n",
    " Route_Name IN ('영동선')\n",
    "ORDER BY\n",
    "  Daily_Visitors DESC\n",
    "LIMIT\n",
    " 5\n",
    "'''\n",
    "df = client.query(sql).to_dataframe()\n",
    "df"
   ]
  },
  {
   "cell_type": "code",
   "execution_count": 77,
   "metadata": {},
   "outputs": [
    {
     "data": {
      "text/html": [
       "<div>\n",
       "<style scoped>\n",
       "    .dataframe tbody tr th:only-of-type {\n",
       "        vertical-align: middle;\n",
       "    }\n",
       "\n",
       "    .dataframe tbody tr th {\n",
       "        vertical-align: top;\n",
       "    }\n",
       "\n",
       "    .dataframe thead th {\n",
       "        text-align: right;\n",
       "    }\n",
       "</style>\n",
       "<table border=\"1\" class=\"dataframe\">\n",
       "  <thead>\n",
       "    <tr style=\"text-align: right;\">\n",
       "      <th></th>\n",
       "      <th>Rest_Area_Name</th>\n",
       "      <th>Daily_Visitors</th>\n",
       "    </tr>\n",
       "  </thead>\n",
       "  <tbody>\n",
       "    <tr>\n",
       "      <th>0</th>\n",
       "      <td>하남드림</td>\n",
       "      <td>13632</td>\n",
       "    </tr>\n",
       "    <tr>\n",
       "      <th>1</th>\n",
       "      <td>이천(하남)</td>\n",
       "      <td>10785</td>\n",
       "    </tr>\n",
       "    <tr>\n",
       "      <th>2</th>\n",
       "      <td>마장</td>\n",
       "      <td>10596</td>\n",
       "    </tr>\n",
       "    <tr>\n",
       "      <th>3</th>\n",
       "      <td>오창(남이)</td>\n",
       "      <td>7973</td>\n",
       "    </tr>\n",
       "    <tr>\n",
       "      <th>4</th>\n",
       "      <td>오창(하남)</td>\n",
       "      <td>7751</td>\n",
       "    </tr>\n",
       "  </tbody>\n",
       "</table>\n",
       "</div>"
      ],
      "text/plain": [
       "  Rest_Area_Name  Daily_Visitors\n",
       "0           하남드림           13632\n",
       "1         이천(하남)           10785\n",
       "2             마장           10596\n",
       "3         오창(남이)            7973\n",
       "4         오창(하남)            7751"
      ]
     },
     "execution_count": 77,
     "metadata": {},
     "output_type": "execute_result"
    }
   ],
   "source": [
    "sql = '''\n",
    "SELECT\n",
    "  Rest_Area_Name,\n",
    "  Daily_Visitors\n",
    "FROM\n",
    "  project_1.Traffic_RestArea\n",
    "WHERE\n",
    " Route_Name IN ('중부선')\n",
    "ORDER BY\n",
    "  Daily_Visitors DESC\n",
    "LIMIT\n",
    " 5\n",
    "'''\n",
    "df = client.query(sql).to_dataframe()\n",
    "df"
   ]
  },
  {
   "cell_type": "code",
   "execution_count": 78,
   "metadata": {},
   "outputs": [
    {
     "data": {
      "text/html": [
       "<div>\n",
       "<style scoped>\n",
       "    .dataframe tbody tr th:only-of-type {\n",
       "        vertical-align: middle;\n",
       "    }\n",
       "\n",
       "    .dataframe tbody tr th {\n",
       "        vertical-align: top;\n",
       "    }\n",
       "\n",
       "    .dataframe thead th {\n",
       "        text-align: right;\n",
       "    }\n",
       "</style>\n",
       "<table border=\"1\" class=\"dataframe\">\n",
       "  <thead>\n",
       "    <tr style=\"text-align: right;\">\n",
       "      <th></th>\n",
       "      <th>Rest_Area_Name</th>\n",
       "      <th>Daily_Visitors</th>\n",
       "    </tr>\n",
       "  </thead>\n",
       "  <tbody>\n",
       "    <tr>\n",
       "      <th>0</th>\n",
       "      <td>진영(순천)</td>\n",
       "      <td>10831</td>\n",
       "    </tr>\n",
       "    <tr>\n",
       "      <th>1</th>\n",
       "      <td>함안(순천)</td>\n",
       "      <td>10351</td>\n",
       "    </tr>\n",
       "    <tr>\n",
       "      <th>2</th>\n",
       "      <td>문산(순천)</td>\n",
       "      <td>9970</td>\n",
       "    </tr>\n",
       "    <tr>\n",
       "      <th>3</th>\n",
       "      <td>섬진강(부산)</td>\n",
       "      <td>6749</td>\n",
       "    </tr>\n",
       "    <tr>\n",
       "      <th>4</th>\n",
       "      <td>섬진강(순천)</td>\n",
       "      <td>6320</td>\n",
       "    </tr>\n",
       "  </tbody>\n",
       "</table>\n",
       "</div>"
      ],
      "text/plain": [
       "  Rest_Area_Name  Daily_Visitors\n",
       "0         진영(순천)           10831\n",
       "1         함안(순천)           10351\n",
       "2         문산(순천)            9970\n",
       "3        섬진강(부산)            6749\n",
       "4        섬진강(순천)            6320"
      ]
     },
     "execution_count": 78,
     "metadata": {},
     "output_type": "execute_result"
    }
   ],
   "source": [
    "sql = '''\n",
    "SELECT\n",
    "  Rest_Area_Name,\n",
    "  Daily_Visitors\n",
    "FROM\n",
    "  project_1.Traffic_RestArea\n",
    "WHERE\n",
    " Route_Name IN ('남해선')\n",
    "ORDER BY\n",
    "  Daily_Visitors DESC\n",
    "LIMIT\n",
    " 5\n",
    "'''\n",
    "df = client.query(sql).to_dataframe()\n",
    "df"
   ]
  },
  {
   "cell_type": "code",
   "execution_count": 79,
   "metadata": {},
   "outputs": [
    {
     "data": {
      "text/html": [
       "<div>\n",
       "<style scoped>\n",
       "    .dataframe tbody tr th:only-of-type {\n",
       "        vertical-align: middle;\n",
       "    }\n",
       "\n",
       "    .dataframe tbody tr th {\n",
       "        vertical-align: top;\n",
       "    }\n",
       "\n",
       "    .dataframe thead th {\n",
       "        text-align: right;\n",
       "    }\n",
       "</style>\n",
       "<table border=\"1\" class=\"dataframe\">\n",
       "  <thead>\n",
       "    <tr style=\"text-align: right;\">\n",
       "      <th></th>\n",
       "      <th>Rest_Area_Name</th>\n",
       "      <th>Daily_Visitors</th>\n",
       "    </tr>\n",
       "  </thead>\n",
       "  <tbody>\n",
       "    <tr>\n",
       "      <th>0</th>\n",
       "      <td>화성(목포)</td>\n",
       "      <td>18970</td>\n",
       "    </tr>\n",
       "    <tr>\n",
       "      <th>1</th>\n",
       "      <td>행담도</td>\n",
       "      <td>16911</td>\n",
       "    </tr>\n",
       "    <tr>\n",
       "      <th>2</th>\n",
       "      <td>화성(서울)</td>\n",
       "      <td>13292</td>\n",
       "    </tr>\n",
       "    <tr>\n",
       "      <th>3</th>\n",
       "      <td>서산(목포)</td>\n",
       "      <td>8264</td>\n",
       "    </tr>\n",
       "    <tr>\n",
       "      <th>4</th>\n",
       "      <td>고창고인돌(목포)</td>\n",
       "      <td>7663</td>\n",
       "    </tr>\n",
       "  </tbody>\n",
       "</table>\n",
       "</div>"
      ],
      "text/plain": [
       "  Rest_Area_Name  Daily_Visitors\n",
       "0         화성(목포)           18970\n",
       "1            행담도           16911\n",
       "2         화성(서울)           13292\n",
       "3         서산(목포)            8264\n",
       "4      고창고인돌(목포)            7663"
      ]
     },
     "execution_count": 79,
     "metadata": {},
     "output_type": "execute_result"
    }
   ],
   "source": [
    "sql = '''\n",
    "SELECT\n",
    "  Rest_Area_Name,\n",
    "  Daily_Visitors\n",
    "FROM\n",
    "  project_1.Traffic_RestArea\n",
    "WHERE\n",
    " Route_Name IN ('서해안선')\n",
    "ORDER BY\n",
    "  Daily_Visitors DESC\n",
    "LIMIT\n",
    " 5\n",
    "'''\n",
    "df = client.query(sql).to_dataframe()\n",
    "df"
   ]
  },
  {
   "cell_type": "markdown",
   "metadata": {},
   "source": [
    "끝"
   ]
  }
 ],
 "metadata": {
  "kernelspec": {
   "display_name": "mulcam_3_9",
   "language": "python",
   "name": "mulcam_3_9"
  },
  "language_info": {
   "codemirror_mode": {
    "name": "ipython",
    "version": 3
   },
   "file_extension": ".py",
   "mimetype": "text/x-python",
   "name": "python",
   "nbconvert_exporter": "python",
   "pygments_lexer": "ipython3",
   "version": "3.9.18"
  }
 },
 "nbformat": 4,
 "nbformat_minor": 2
}
