{
 "cells": [
  {
   "cell_type": "code",
   "execution_count": null,
   "metadata": {},
   "outputs": [],
   "source": [
    "!pip install google-cloud-bigquery google-auth db-dtypes"
   ]
  },
  {
   "cell_type": "code",
   "execution_count": 1,
   "metadata": {},
   "outputs": [],
   "source": [
    "import seaborn as sns\n",
    "import matplotlib.pyplot as plt\n",
    "plt.rc('font', family='Malgun Gothic')\n",
    "import pandas as pd"
   ]
  },
  {
   "cell_type": "code",
   "execution_count": 2,
   "metadata": {},
   "outputs": [],
   "source": [
    "from google.oauth2 import service_account\n",
    "\n",
    "credentials = service_account.Credentials.from_service_account_file('./multicampus_project_first_account.json')"
   ]
  },
  {
   "cell_type": "code",
   "execution_count": 3,
   "metadata": {},
   "outputs": [],
   "source": [
    "from google.cloud import bigquery\n",
    "\n",
    "client = bigquery.Client(\n",
    "    credentials = credentials,\n",
    "    project = credentials.project_id\n",
    ")"
   ]
  },
  {
   "cell_type": "markdown",
   "metadata": {},
   "source": [
    "==============================================================================================================================================================================================================================="
   ]
  },
  {
   "cell_type": "code",
   "execution_count": 6,
   "metadata": {},
   "outputs": [],
   "source": [
    "# 1번 : 자동차 등록 수 자료\n",
    "# 기준 : 2023년 10월 31일\n",
    "\n",
    "sql = '''\n",
    "SELECT\n",
    "  Year,\n",
    "  Total\n",
    "FROM\n",
    "  project_1.Registration_All\n",
    "'''"
   ]
  },
  {
   "cell_type": "code",
   "execution_count": 8,
   "metadata": {},
   "outputs": [],
   "source": [
    "df = client.query(sql).to_dataframe()"
   ]
  },
  {
   "cell_type": "code",
   "execution_count": null,
   "metadata": {},
   "outputs": [],
   "source": [
    "sns.barplot(\n",
    "    data = df,\n",
    "    x = 'Year',\n",
    "    y = 'Total'\n",
    "    ).set(\n",
    "        title = 'The Number of Registered Vehicles'\n",
    "        )\n",
    "plt.xlabel('Year')   # https://wikidocs.net/92081  x축,y축 레이블 설정\n",
    "plt.ylabel('')\n"
   ]
  },
  {
   "cell_type": "code",
   "execution_count": 11,
   "metadata": {},
   "outputs": [
    {
     "name": "stdout",
     "output_type": "stream",
     "text": [
      "[2.89, 3.44, 4.13, 4.03, 3.43, 3.01, 2.18, 2.78, 2.31, 2.39, 1.84]\n",
      "2.9481818181818182\n"
     ]
    }
   ],
   "source": [
    "# 상승률 계산\n",
    "\n",
    "\n",
    "answer = []\n",
    "num = df['Total']\n",
    "\n",
    "for i in range(len(df['Total'])-1):\n",
    "    answer.append(round((num[i+1]-num[i])/num[i]*100,2))\n",
    "print(answer)\n",
    "print(sum(answer)/len(answer))"
   ]
  },
  {
   "cell_type": "code",
   "execution_count": null,
   "metadata": {},
   "outputs": [],
   "source": [
    "years = [2013,2014,2015,2016,2017,2018,2019,2020,2021,2022,2023]\n",
    "plt.title('The Annual Growth Rate of Registered Vehicles')\n",
    "plt.plot(years,answer)\n",
    "plt.xlim(2012,2024)\n",
    "plt.ylim(0,5)\n",
    "plt.show()\n",
    "\n",
    "# 그래프 그리기 : https://wikidocs.net/92082"
   ]
  },
  {
   "cell_type": "markdown",
   "metadata": {},
   "source": [
    "==============================================================================================================================================================================================================================="
   ]
  },
  {
   "cell_type": "markdown",
   "metadata": {},
   "source": []
  },
  {
   "cell_type": "code",
   "execution_count": 14,
   "metadata": {},
   "outputs": [],
   "source": [
    "# 2번 : 전기차 등록 수 자료\n",
    "# 기준 : 2023년 10월 31일\n",
    "\n",
    "sql = '''\n",
    "SELECT\n",
    "  Year,\n",
    "  Total\n",
    "FROM\n",
    "  project_1.Registration_EV\n",
    "'''"
   ]
  },
  {
   "cell_type": "code",
   "execution_count": 15,
   "metadata": {},
   "outputs": [],
   "source": [
    "df = client.query(sql).to_dataframe()"
   ]
  },
  {
   "cell_type": "code",
   "execution_count": null,
   "metadata": {},
   "outputs": [],
   "source": [
    "plt.xticks(rotation=45)\n",
    "sns.barplot(\n",
    "    data = df,\n",
    "    x = 'Year',\n",
    "    y = 'Total'\n",
    "    ).set(\n",
    "        title = 'The Number of Registered Electric Vehicles'\n",
    "        )\n",
    "plt.xlabel('Year')\n",
    "_=plt.ylabel('')"
   ]
  },
  {
   "cell_type": "code",
   "execution_count": null,
   "metadata": {},
   "outputs": [],
   "source": [
    "# 상승률 계산\n",
    "\n",
    "\n",
    "answer = []\n",
    "num = df['Total']\n",
    "\n",
    "for i in range(len(df['Total'])-1):\n",
    "    answer.append(round((num[i+1]-num[i])/num[i]*100,2))\n",
    "print(answer)\n",
    "print(sum(answer)/len(answer))"
   ]
  },
  {
   "cell_type": "code",
   "execution_count": null,
   "metadata": {},
   "outputs": [],
   "source": [
    "years = [2013,2014,2015,2016,2017,2018,2019,2020,2021,2022,2023]\n",
    "plt.title('The Annual Growth Rate of EV Registrations')\n",
    "plt.plot(years,answer)\n",
    "plt.xlim(2012,2024)\n",
    "plt.ylim(0,300)\n",
    "plt.show()"
   ]
  },
  {
   "cell_type": "markdown",
   "metadata": {},
   "source": [
    "==============================================================================================================================================================================================================================="
   ]
  },
  {
   "cell_type": "code",
   "execution_count": 34,
   "metadata": {},
   "outputs": [],
   "source": [
    "# 3  번 : 전체 충전소 vs 고속도로 충전소 수 비교\n",
    "# 고속도로 휴게소 충전소 수\n",
    "\n",
    "sql = '''\n",
    "SELECT\n",
    "  COUNT(Facility_2)\n",
    "FROM\n",
    "  project_1.ChargingStations\n",
    "WHERE\n",
    "  Facility_2 LIKE '%휴게소%'\n",
    "'''"
   ]
  },
  {
   "cell_type": "code",
   "execution_count": null,
   "metadata": {},
   "outputs": [],
   "source": [
    "df = client.query(sql).to_dataframe()"
   ]
  },
  {
   "cell_type": "code",
   "execution_count": 30,
   "metadata": {},
   "outputs": [],
   "source": [
    "# 전체 충전소 수\n",
    "sql = '''\n",
    "SELECT\n",
    "  COUNT(Facility_2)\n",
    "FROM\n",
    "  project_1.ChargingStations\n",
    "'''"
   ]
  },
  {
   "cell_type": "code",
   "execution_count": null,
   "metadata": {},
   "outputs": [],
   "source": [
    "df = client.query(sql).to_dataframe()"
   ]
  },
  {
   "cell_type": "code",
   "execution_count": null,
   "metadata": {},
   "outputs": [],
   "source": [
    "ratio = [99.48,0.52]\n",
    "labels = ['Total','Highway']\n",
    "colors = ['skyblue','green']\n",
    "\n",
    "plt.pie(ratio,labels = labels, autopct = '%.1f%%',startangle = 130,colors=colors)\n",
    "plt.title('The Number of Registered Charging Stations')\n",
    "plt.show()\n"
   ]
  },
  {
   "cell_type": "markdown",
   "metadata": {},
   "source": [
    "==============================================================================================================================================================================================================================="
   ]
  },
  {
   "cell_type": "code",
   "execution_count": 13,
   "metadata": {},
   "outputs": [],
   "source": [
    "# 4 - 1 번 : 고속도로 평균 충전량\n",
    "sql = '''\n",
    "SELECT\n",
    "  COUNT(Type) AS number,\n",
    "  Type,\n",
    "  AVG(Amount) AS amount,\n",
    "  AVG(TIMESTAMP_DIFF(End_Time,Start_Time,MINUTE)) AS time\n",
    "FROM\n",
    "  `apt-rite-404708.project_1.ChargingData_2023*`\n",
    "WHERE\n",
    "  Station_Name LIKE '%휴게소%'\n",
    "GROUP BY\n",
    "  Type\n",
    "'''"
   ]
  },
  {
   "cell_type": "code",
   "execution_count": 14,
   "metadata": {},
   "outputs": [],
   "source": [
    "df = client.query(sql).to_dataframe()\n",
    "df.columns = ['충전기수', '타입', '충전량', '충전시간']"
   ]
  },
  {
   "cell_type": "code",
   "execution_count": 15,
   "metadata": {},
   "outputs": [],
   "source": [
    "# 4 - 2 번 : 고속도로 충전량 \n",
    "\n",
    "sql = '''\n",
    "SELECT\n",
    "  Type,\n",
    "  Amount\n",
    "FROM\n",
    "  `apt-rite-404708.project_1.ChargingData_2023*`\n",
    "WHERE\n",
    " Station_Name LIKE '%휴게소%'\n",
    "'''\n",
    "\n",
    "df = client.query(sql).to_dataframe()"
   ]
  },
  {
   "cell_type": "code",
   "execution_count": null,
   "metadata": {},
   "outputs": [],
   "source": [
    "plt.figure(figsize=(7, 5))\n",
    "sns.histplot(\n",
    "    data = df,\n",
    "    x = 'Amount',\n",
    "    bins=[x for x in range(0,100,2)]\n",
    "    ).set(\n",
    "        title = 'Average Charging Capacity at Highway Rest Area'\n",
    "    )"
   ]
  },
  {
   "cell_type": "code",
   "execution_count": 17,
   "metadata": {},
   "outputs": [],
   "source": [
    "# 4 - 3 번 : 고속도로 충전시간\n",
    "\n",
    "sql = '''\n",
    "SELECT\n",
    "  Type,\n",
    "  TIMESTAMP_DIFF(End_Time,Start_Time,MINUTE) AS time\n",
    "FROM\n",
    "  `apt-rite-404708.project_1.ChargingData_2023*`\n",
    "WHERE\n",
    " Station_Name LIKE '%휴게소%'\n",
    "'''\n",
    "\n",
    "df = client.query(sql).to_dataframe()"
   ]
  },
  {
   "cell_type": "code",
   "execution_count": null,
   "metadata": {},
   "outputs": [],
   "source": [
    "plt.figure(figsize=(7, 5))\n",
    "sns.histplot(\n",
    "    data = df,\n",
    "    x = 'time',\n",
    "    bins=[x for x in range(0,100,2)]\n",
    "    ).set(\n",
    "        title = 'Average Charging Time at Highway Rest Area'\n",
    "    )"
   ]
  },
  {
   "cell_type": "markdown",
   "metadata": {},
   "source": [
    "==============================================================================================================================================================================================================================="
   ]
  },
  {
   "cell_type": "code",
   "execution_count": 9,
   "metadata": {},
   "outputs": [],
   "source": [
    "# 5번 : 고속도로 통행량\n",
    "\n",
    "sql = '''\n",
    "SELECT\n",
    "  Route_Name,\n",
    "  SUM(Traffic_Volume) AS traffic\n",
    "FROM\n",
    "  project_1.Traffic_2023_11_12\n",
    "GROUP BY\n",
    "  Route_Name\n",
    "ORDER BY\n",
    "  traffic DESC\n",
    "LIMIT\n",
    " 15\n",
    "'''"
   ]
  },
  {
   "cell_type": "code",
   "execution_count": 10,
   "metadata": {},
   "outputs": [],
   "source": [
    "df = client.query(sql).to_dataframe()"
   ]
  },
  {
   "cell_type": "code",
   "execution_count": null,
   "metadata": {},
   "outputs": [],
   "source": [
    "plt.figure(figsize=(6, 5))\n",
    "sns.barplot(\n",
    "    data = df,\n",
    "    x = 'traffic',\n",
    "    y = 'Route_Name'\n",
    ").set(\n",
    "    \n",
    "    title = 'Top 15 Highway Traffic Volume'\n",
    ")\n",
    "plt.xlabel('Traffic Volume')\n",
    "_=plt.ylabel('Highway Name')"
   ]
  },
  {
   "cell_type": "markdown",
   "metadata": {},
   "source": [
    "==============================================================================================================================================================================================================================="
   ]
  },
  {
   "cell_type": "code",
   "execution_count": 4,
   "metadata": {},
   "outputs": [],
   "source": [
    "# 6번 : 고속도로 통행량\n",
    "# 기준 : 2022년 일평균\n",
    "\n",
    "\n",
    "sql = '''\n",
    "SELECT\n",
    "  Section,\n",
    "  SUM(DailyAverage) AS DA\n",
    "FROM\n",
    "  project_1.Traffic_2022\n",
    "GROUP BY\n",
    "  Section\n",
    "ORDER BY\n",
    "  SUM(DailyAverage) DESC\n",
    "LIMIT\n",
    "  15\n",
    "'''"
   ]
  },
  {
   "cell_type": "code",
   "execution_count": 5,
   "metadata": {},
   "outputs": [],
   "source": [
    "df = client.query(sql).to_dataframe()"
   ]
  },
  {
   "cell_type": "code",
   "execution_count": null,
   "metadata": {},
   "outputs": [],
   "source": [
    "plt.figure(figsize=(6, 5))\n",
    "sns.barplot(\n",
    "    data=df,\n",
    "    y='Section',\n",
    "    x='DA'\n",
    ").set(\n",
    "    title = 'Top 15 Daily Highway Segment Traffic Volume'\n",
    ")\n",
    "plt.xlabel('Traffic Volume')\n",
    "plt.ylabel('Highway Segment')"
   ]
  },
  {
   "cell_type": "markdown",
   "metadata": {},
   "source": [
    "==============================================================================================================================================================================================================================="
   ]
  },
  {
   "cell_type": "code",
   "execution_count": 81,
   "metadata": {},
   "outputs": [],
   "source": [
    "# 7번 : 휴게소 이용객\n",
    "# 기준 : 23년 8월 24일\n",
    "\n",
    "sql = '''\n",
    "SELECT\n",
    "  Rest_Area_Name,\n",
    "  Daily_Visitors\n",
    "FROM\n",
    "  project_1.Traffic_RestArea\n",
    "WHERE\n",
    "  Daily_Visitors IS NOT NULL\n",
    "ORDER BY\n",
    "  Daily_Visitors DESC\n",
    "LIMIT\n",
    "  15\n",
    "'''"
   ]
  },
  {
   "cell_type": "code",
   "execution_count": 82,
   "metadata": {},
   "outputs": [],
   "source": [
    "df = client.query(sql).to_dataframe()"
   ]
  },
  {
   "cell_type": "code",
   "execution_count": null,
   "metadata": {},
   "outputs": [],
   "source": [
    "barplot = sns.barplot(\n",
    "    data = df,\n",
    "    y = 'Rest_Area_Name',\n",
    "    x = 'Daily_Visitors'\n",
    ").set(\n",
    "    \n",
    "    title = 'Top 15 Rest Area Visitors'\n",
    ")\n",
    "\n",
    "plt.xlabel('Number of Visitors')\n",
    "plt.ylabel('Rest Area Name')\n",
    "\n",
    "barplot"
   ]
  },
  {
   "cell_type": "markdown",
   "metadata": {},
   "source": [
    "===============================================================================================================================================================================================================================\n",
    "\n",
    "Site Selection\n",
    "\n",
    "고속도로 노선 교통량 상위 10개 -> 그중 노선 상위 10개 -> 그중 휴게소 방문대수 상위 10개"
   ]
  },
  {
   "cell_type": "markdown",
   "metadata": {},
   "source": [
    "==============================================================================================================================================================================================================================="
   ]
  },
  {
   "cell_type": "code",
   "execution_count": null,
   "metadata": {},
   "outputs": [],
   "source": [
    "# 1 : 고속도로 노선 교통량 상위 5개\n",
    "sql = '''\n",
    "SELECT\n",
    "  Route_Name,\n",
    "  SUM(Traffic_Volume) AS traffic\n",
    "FROM\n",
    "  project_1.Traffic_2023_11_12\n",
    "GROUP BY\n",
    "  Route_Name\n",
    "ORDER BY\n",
    "  traffic DESC\n",
    "LIMIT\n",
    " 5\n",
    "'''\n",
    "Highway = client.query(sql).to_dataframe()\n",
    "Highway"
   ]
  },
  {
   "cell_type": "code",
   "execution_count": null,
   "metadata": {},
   "outputs": [],
   "source": [
    "sql = '''\n",
    "SELECT\n",
    "  Rest_Area_Name,\n",
    "  Daily_Visitors\n",
    "FROM\n",
    "  project_1.Traffic_RestArea\n",
    "WHERE\n",
    " Route_Name IN ('경부선')\n",
    "ORDER BY\n",
    "  Daily_Visitors DESC\n",
    "LIMIT\n",
    " 5\n",
    "'''\n",
    "Route_1 = client.query(sql).to_dataframe()\n",
    "Route_1"
   ]
  },
  {
   "cell_type": "code",
   "execution_count": null,
   "metadata": {},
   "outputs": [],
   "source": [
    "sql = '''\n",
    "SELECT\n",
    "  Rest_Area_Name,\n",
    "  Daily_Visitors\n",
    "FROM\n",
    "  project_1.Traffic_RestArea\n",
    "WHERE\n",
    " Route_Name IN ('영동선')\n",
    "ORDER BY\n",
    "  Daily_Visitors DESC\n",
    "LIMIT\n",
    " 5\n",
    "'''\n",
    "Route_2 = client.query(sql).to_dataframe()\n",
    "Route_2"
   ]
  },
  {
   "cell_type": "code",
   "execution_count": null,
   "metadata": {},
   "outputs": [],
   "source": [
    "sql = '''\n",
    "SELECT\n",
    "  Rest_Area_Name,\n",
    "  Daily_Visitors\n",
    "FROM\n",
    "  project_1.Traffic_RestArea\n",
    "WHERE\n",
    " Route_Name IN ('중부선')\n",
    "ORDER BY\n",
    "  Daily_Visitors DESC\n",
    "LIMIT\n",
    " 5\n",
    "'''\n",
    "Route_3 = client.query(sql).to_dataframe()\n",
    "Route_3"
   ]
  },
  {
   "cell_type": "code",
   "execution_count": null,
   "metadata": {},
   "outputs": [],
   "source": [
    "sql = '''\n",
    "SELECT\n",
    "  Rest_Area_Name,\n",
    "  Daily_Visitors\n",
    "FROM\n",
    "  project_1.Traffic_RestArea\n",
    "WHERE\n",
    " Route_Name IN ('남해선')\n",
    "ORDER BY\n",
    "  Daily_Visitors DESC\n",
    "LIMIT\n",
    " 5\n",
    "'''\n",
    "Route_4 = client.query(sql).to_dataframe()\n",
    "Route_4"
   ]
  },
  {
   "cell_type": "code",
   "execution_count": null,
   "metadata": {},
   "outputs": [],
   "source": [
    "sql = '''\n",
    "SELECT\n",
    "  Rest_Area_Name,\n",
    "  Daily_Visitors\n",
    "FROM\n",
    "  project_1.Traffic_RestArea\n",
    "WHERE\n",
    " Route_Name IN ('서해안선')\n",
    "ORDER BY\n",
    "  Daily_Visitors DESC\n",
    "LIMIT\n",
    " 5\n",
    "'''\n",
    "Route_5 = client.query(sql).to_dataframe()\n",
    "Route_5"
   ]
  },
  {
   "cell_type": "code",
   "execution_count": null,
   "metadata": {},
   "outputs": [],
   "source": [
    "Ranking = pd.DataFrame(columns = Highway['Route_Name'])\n",
    "Ranking['경부선'] = Route_1['Rest_Area_Name']\n",
    "Ranking['영동선'] = Route_2['Rest_Area_Name']\n",
    "Ranking['중부선-대전통영선A'] = Route_3['Rest_Area_Name']\n",
    "Ranking['남해선A'] = Route_4['Rest_Area_Name']\n",
    "Ranking['서해안선'] = Route_5['Rest_Area_Name']\n",
    "\n",
    "Ranking\n",
    "\n",
    "#  https://zephyrus1111.tistory.com/33 판다스 표 만들기"
   ]
  },
  {
   "cell_type": "markdown",
   "metadata": {},
   "source": [
    "끝"
   ]
  }
 ],
 "metadata": {
  "kernelspec": {
   "display_name": "mulcam_3_9",
   "language": "python",
   "name": "mulcam_3_9"
  },
  "language_info": {
   "codemirror_mode": {
    "name": "ipython",
    "version": 3
   },
   "file_extension": ".py",
   "mimetype": "text/x-python",
   "name": "python",
   "nbconvert_exporter": "python",
   "pygments_lexer": "ipython3",
   "version": "3.9.18"
  }
 },
 "nbformat": 4,
 "nbformat_minor": 2
}
