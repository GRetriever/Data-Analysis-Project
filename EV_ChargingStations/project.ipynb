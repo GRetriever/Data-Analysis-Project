{
 "cells": [
  {
   "cell_type": "code",
   "execution_count": null,
   "metadata": {},
   "outputs": [],
   "source": [
    "!pip install google-cloud-bigquery google-auth db-dtypes"
   ]
  },
  {
   "cell_type": "code",
   "execution_count": null,
   "metadata": {},
   "outputs": [],
   "source": [
    "import seaborn as sns\n",
    "import matplotlib.pyplot as plt\n",
    "plt.rc('font', family='Malgun Gothic')\n",
    "import pandas as pd"
   ]
  },
  {
   "cell_type": "code",
   "execution_count": null,
   "metadata": {},
   "outputs": [],
   "source": [
    "from google.oauth2 import service_account\n",
    "\n",
    "credentials = service_account.Credentials.from_service_account_file('./multicampus_project_first_account.json')"
   ]
  },
  {
   "cell_type": "code",
   "execution_count": null,
   "metadata": {},
   "outputs": [],
   "source": [
    "from google.cloud import bigquery\n",
    "\n",
    "client = bigquery.Client(\n",
    "    credentials = credentials,\n",
    "    project = credentials.project_id\n",
    ")"
   ]
  },
  {
   "cell_type": "markdown",
   "metadata": {},
   "source": [
    "==============================================================================================================================================================================================================================="
   ]
  },
  {
   "cell_type": "code",
   "execution_count": null,
   "metadata": {},
   "outputs": [],
   "source": [
    "# 1번 : 자동차 등록 수 자료\n",
    "# 기준 : 2023년 10월 31일\n",
    "\n",
    "sql = '''\n",
    "SELECT\n",
    "  Year,\n",
    "  Total\n",
    "FROM\n",
    "  project_1.Registration_All\n",
    "'''"
   ]
  },
  {
   "cell_type": "code",
   "execution_count": null,
   "metadata": {},
   "outputs": [],
   "source": [
    "df = client.query(sql).to_dataframe()\n",
    "df"
   ]
  },
  {
   "cell_type": "code",
   "execution_count": null,
   "metadata": {},
   "outputs": [],
   "source": [
    "sns.barplot(\n",
    "    data = df,\n",
    "    x = 'Year',\n",
    "    y = 'Total'\n",
    "    ).set(\n",
    "        title = '자동차 등록대수'\n",
    "        )\n",
    "plt.xlabel('연도')   # https://wikidocs.net/92081  x축,y축 레이블 설정\n",
    "plt.ylabel('')\n"
   ]
  },
  {
   "cell_type": "code",
   "execution_count": null,
   "metadata": {},
   "outputs": [],
   "source": [
    "# 상승률 계산\n",
    "\n",
    "\n",
    "answer = []\n",
    "num = df['Total']\n",
    "\n",
    "for i in range(len(df['Total'])-1):\n",
    "    answer.append(round((num[i+1]-num[i])/num[i]*100,2))\n",
    "print(answer)\n",
    "print(sum(answer)/len(answer))"
   ]
  },
  {
   "cell_type": "code",
   "execution_count": null,
   "metadata": {},
   "outputs": [],
   "source": [
    "years = [2013,2014,2015,2016,2017,2018,2019,2020,2021,2022,2023]\n",
    "plt.title('자동차 등록대수 연평균 변화율')\n",
    "plt.plot(years,answer)\n",
    "plt.xlim(2012,2024)\n",
    "plt.ylim(0,5)\n",
    "plt.show()\n",
    "\n",
    "# 그래프 그리기 : https://wikidocs.net/92082"
   ]
  },
  {
   "cell_type": "markdown",
   "metadata": {},
   "source": [
    "==============================================================================================================================================================================================================================="
   ]
  },
  {
   "cell_type": "markdown",
   "metadata": {},
   "source": []
  },
  {
   "cell_type": "code",
   "execution_count": null,
   "metadata": {},
   "outputs": [],
   "source": [
    "# 2번 : 전기차 등록 수 자료\n",
    "# 기준 : 2023년 10월 31일\n",
    "\n",
    "sql = '''\n",
    "SELECT\n",
    "  Year,\n",
    "  Total\n",
    "FROM\n",
    "  project_1.Registration_EV\n",
    "'''"
   ]
  },
  {
   "cell_type": "code",
   "execution_count": null,
   "metadata": {},
   "outputs": [],
   "source": [
    "df = client.query(sql).to_dataframe()\n",
    "df"
   ]
  },
  {
   "cell_type": "code",
   "execution_count": null,
   "metadata": {},
   "outputs": [],
   "source": [
    "plt.xticks(rotation=45)\n",
    "sns.barplot(\n",
    "    data = df,\n",
    "    x = 'Year',\n",
    "    y = 'Total'\n",
    "    ).set(\n",
    "        title = '전기차 등록대수'\n",
    "        )\n",
    "plt.xlabel('연도')\n",
    "plt.ylabel('')"
   ]
  },
  {
   "cell_type": "code",
   "execution_count": null,
   "metadata": {},
   "outputs": [],
   "source": [
    "# 상승률 계산\n",
    "\n",
    "\n",
    "answer = []\n",
    "num = df['Total']\n",
    "\n",
    "for i in range(len(df['Total'])-1):\n",
    "    answer.append(round((num[i+1]-num[i])/num[i]*100,2))\n",
    "print(answer)\n",
    "print(sum(answer)/len(answer))"
   ]
  },
  {
   "cell_type": "code",
   "execution_count": null,
   "metadata": {},
   "outputs": [],
   "source": [
    "years = [2013,2014,2015,2016,2017,2018,2019,2020,2021,2022,2023]\n",
    "plt.title('전기차 등록대수 연평균 상승률')\n",
    "plt.plot(years,answer)\n",
    "plt.xlim(2012,2024)\n",
    "plt.ylim(0,300)\n",
    "plt.show()"
   ]
  },
  {
   "cell_type": "markdown",
   "metadata": {},
   "source": [
    "==============================================================================================================================================================================================================================="
   ]
  },
  {
   "cell_type": "code",
   "execution_count": null,
   "metadata": {},
   "outputs": [],
   "source": [
    "# 3  번 : 전체 충전소 vs 고속도로 충전소 수 비교\n",
    "# 기준 : 2023년 11월 14일[Text(0.5, 1.0, 'The Number of Registered EV')]\n",
    "\n",
    "\n",
    "sql = '''\n",
    "SELECT\n",
    "  COUNT(Facility_2)\n",
    "FROM\n",
    "  project_1.ChargingStations\n",
    "WHERE\n",
    "  Facility_2 LIKE '%휴게소%'\n",
    "'''"
   ]
  },
  {
   "cell_type": "code",
   "execution_count": null,
   "metadata": {},
   "outputs": [],
   "source": [
    "df = client.query(sql).to_dataframe()\n",
    "df"
   ]
  },
  {
   "cell_type": "code",
   "execution_count": null,
   "metadata": {},
   "outputs": [],
   "source": [
    "sql = '''\n",
    "SELECT\n",
    "  COUNT(Facility_2)\n",
    "FROM\n",
    "  project_1.ChargingStations\n",
    "'''"
   ]
  },
  {
   "cell_type": "code",
   "execution_count": null,
   "metadata": {},
   "outputs": [],
   "source": [
    "df = client.query(sql).to_dataframe()\n",
    "df"
   ]
  },
  {
   "cell_type": "code",
   "execution_count": null,
   "metadata": {},
   "outputs": [],
   "source": [
    "y = ['총합','고속도로']\n",
    "x = [265457,1390]\n",
    "\n",
    "# sns.set_style('whitegrid')\n",
    "plt.figure(figsize=(8, 5))   # https://rfriend.tistory.com/710\n",
    "bar = sns.barplot(x=x,y=y)\n",
    "plt.title('충전소 등록대수')\n"
   ]
  },
  {
   "cell_type": "code",
   "execution_count": null,
   "metadata": {},
   "outputs": [],
   "source": []
  },
  {
   "cell_type": "code",
   "execution_count": null,
   "metadata": {},
   "outputs": [],
   "source": [
    "ratio = [99.48,0.52]\n",
    "labels = ['총합','고속도로']\n",
    "colors = ['skyblue','green']\n",
    "\n",
    "plt.pie(ratio,labels = labels, autopct = '%.1f%%',startangle = 130,colors=colors)\n",
    "plt.title('전기차 충전소 등록대수')\n",
    "plt.show()\n",
    "\n",
    "# 파이차트 그리기 https://wikidocs.net/92114"
   ]
  },
  {
   "cell_type": "markdown",
   "metadata": {},
   "source": [
    "==============================================================================================================================================================================================================================="
   ]
  },
  {
   "cell_type": "code",
   "execution_count": null,
   "metadata": {},
   "outputs": [],
   "source": [
    "# 4 - 1 번 : 고속도로 평균 충전량\n",
    "#timestamp_diff 구하기 https://dev-jwblog.tistory.com/137\n",
    "\n",
    "sql = '''\n",
    "SELECT\n",
    "  COUNT(Type) AS number,\n",
    "  Type,\n",
    "  AVG(Amount) AS amount,\n",
    "  AVG(TIMESTAMP_DIFF(End_Time,Start_Time,MINUTE)) AS time\n",
    "FROM\n",
    "  `apt-rite-404708.project_1.ChargingData_2023*`\n",
    "WHERE\n",
    "  Station_Name LIKE '%휴게소%'\n",
    "GROUP BY\n",
    "  Type\n",
    "'''"
   ]
  },
  {
   "cell_type": "code",
   "execution_count": null,
   "metadata": {},
   "outputs": [],
   "source": [
    "df = client.query(sql).to_dataframe()\n",
    "df.columns = ['충전기수', '타입', '충전량', '충전시간']\n",
    "df\n",
    "\n",
    "# https://mizykk.tistory.com/131 데이터 열 이름 변경"
   ]
  },
  {
   "cell_type": "code",
   "execution_count": null,
   "metadata": {},
   "outputs": [],
   "source": [
    "# 4 - 2 번 : 고속도로 충전량 \n",
    "\n",
    "sql = '''\n",
    "SELECT\n",
    "  Type,\n",
    "  Amount\n",
    "FROM\n",
    "  `apt-rite-404708.project_1.ChargingData_2023*`\n",
    "WHERE\n",
    " Station_Name LIKE '%휴게소%'\n",
    "'''\n",
    "\n",
    "df = client.query(sql).to_dataframe()\n",
    "df"
   ]
  },
  {
   "cell_type": "code",
   "execution_count": null,
   "metadata": {},
   "outputs": [],
   "source": [
    "plt.figure(figsize=(13, 7))\n",
    "sns.histplot(\n",
    "    data = df,\n",
    "    x = 'Amount',\n",
    "    bins=[x for x in range(0,100,2)]\n",
    "    ).set(\n",
    "        title = '고속도로 전기차 충전량'\n",
    "    )"
   ]
  },
  {
   "cell_type": "code",
   "execution_count": null,
   "metadata": {},
   "outputs": [],
   "source": [
    "# 4 - 3 번 : 고속도로 충전시간\n",
    "\n",
    "sql = '''\n",
    "SELECT\n",
    "  Type,\n",
    "  TIMESTAMP_DIFF(End_Time,Start_Time,MINUTE) AS time\n",
    "FROM\n",
    "  `apt-rite-404708.project_1.ChargingData_2023*`\n",
    "WHERE\n",
    " Station_Name LIKE '%휴게소%'\n",
    "'''\n",
    "\n",
    "df = client.query(sql).to_dataframe()\n",
    "df"
   ]
  },
  {
   "cell_type": "code",
   "execution_count": null,
   "metadata": {},
   "outputs": [],
   "source": [
    "plt.figure(figsize=(13, 7))\n",
    "sns.histplot(\n",
    "    data = df,\n",
    "    x = 'time',\n",
    "    bins=[x for x in range(0,100,2)]\n",
    "    ).set(\n",
    "        title = '고속도로 전기차 충전시간'\n",
    "    )"
   ]
  },
  {
   "cell_type": "code",
   "execution_count": null,
   "metadata": {},
   "outputs": [],
   "source": [
    "# 고속도로 노선 수 \n",
    "sql = '''\n",
    "SELECT\n",
    "  COUNT(Route_Name),\n",
    "  Route_Name\n",
    "FROM\n",
    "  project_1.Traffic_2023_11_12\n",
    "GROUP BY\n",
    "  Route_Name\n",
    "'''\n",
    "\n",
    "df = client.query(sql).to_dataframe()\n",
    "df"
   ]
  },
  {
   "cell_type": "markdown",
   "metadata": {},
   "source": [
    "==============================================================================================================================================================================================================================="
   ]
  },
  {
   "cell_type": "code",
   "execution_count": null,
   "metadata": {},
   "outputs": [],
   "source": [
    "# 5번 : 고속도로 통행량\n",
    "\n",
    "sql = '''\n",
    "SELECT\n",
    "  Route_Name,\n",
    "  SUM(Traffic_Volume) AS traffic\n",
    "FROM\n",
    "  project_1.Traffic_2023_11_12\n",
    "GROUP BY\n",
    "  Route_Name\n",
    "ORDER BY\n",
    "  traffic DESC\n",
    "LIMIT\n",
    " 15\n",
    "'''"
   ]
  },
  {
   "cell_type": "code",
   "execution_count": null,
   "metadata": {},
   "outputs": [],
   "source": [
    "df = client.query(sql).to_dataframe()\n",
    "df"
   ]
  },
  {
   "cell_type": "code",
   "execution_count": null,
   "metadata": {},
   "outputs": [],
   "source": [
    "plt.figure(figsize=(12, 8))\n",
    "sns.barplot(\n",
    "    data = df,\n",
    "    x = 'traffic',\n",
    "    y = 'Route_Name'\n",
    ").set(\n",
    "    \n",
    "    title = '고속도로 교통량 상위 15'\n",
    ")\n",
    "plt.xlabel('교통량')\n",
    "plt.ylabel('노선명')"
   ]
  },
  {
   "cell_type": "markdown",
   "metadata": {},
   "source": [
    "==============================================================================================================================================================================================================================="
   ]
  },
  {
   "cell_type": "code",
   "execution_count": null,
   "metadata": {},
   "outputs": [],
   "source": [
    "# 6번 : 고속도로 통행량\n",
    "# 기준 : 2022년 일평균\n",
    "\n",
    "\n",
    "sql = '''\n",
    "SELECT\n",
    "  Section,\n",
    "  SUM(DailyAverage) AS DA\n",
    "FROM\n",
    "  project_1.Traffic_2022\n",
    "GROUP BY\n",
    "  Section\n",
    "ORDER BY\n",
    "  SUM(DailyAverage) DESC\n",
    "LIMIT\n",
    "  15\n",
    "'''"
   ]
  },
  {
   "cell_type": "code",
   "execution_count": null,
   "metadata": {},
   "outputs": [],
   "source": [
    "df = client.query(sql).to_dataframe()\n",
    "df"
   ]
  },
  {
   "cell_type": "code",
   "execution_count": null,
   "metadata": {},
   "outputs": [],
   "source": [
    "plt.figure(figsize=(10, 7))\n",
    "sns.barplot(\n",
    "    data=df,\n",
    "    y='Section',\n",
    "    x='DA'\n",
    ").set(\n",
    "    title = '고속도로 구간별 일일 교통량 상위'\n",
    ")\n",
    "plt.xlabel('교통량')\n",
    "plt.ylabel('고속도로 구간')"
   ]
  },
  {
   "cell_type": "markdown",
   "metadata": {},
   "source": [
    "==============================================================================================================================================================================================================================="
   ]
  },
  {
   "cell_type": "markdown",
   "metadata": {},
   "source": [
    "이건 좀 아니잖아...............\n",
    "그래프 다 해봤는데 너무많아서 다 이상함\n",
    "결론 : 못씀\n",
    "그럼 우짜라고?"
   ]
  },
  {
   "cell_type": "code",
   "execution_count": null,
   "metadata": {},
   "outputs": [],
   "source": [
    "sql = '''\n",
    "SELECT\n",
    "  COUNT(*)\n",
    "FROM\n",
    " project_1.Traffic_RestArea\n",
    "'''\n",
    "\n",
    "df = client.query(sql).to_dataframe()\n",
    "df"
   ]
  },
  {
   "cell_type": "code",
   "execution_count": null,
   "metadata": {},
   "outputs": [],
   "source": [
    "# 7번 : 휴게소 이용객\n",
    "# 기준 : 23년 8월 24일\n",
    "\n",
    "sql = '''\n",
    "SELECT\n",
    "  Rest_Area_Name,\n",
    "  Daily_Visitors\n",
    "FROM\n",
    "  project_1.Traffic_RestArea\n",
    "WHERE\n",
    "  Daily_Visitors IS NOT NULL\n",
    "ORDER BY\n",
    "  Daily_Visitors DESC\n",
    "LIMIT\n",
    "  15\n",
    "'''"
   ]
  },
  {
   "cell_type": "code",
   "execution_count": null,
   "metadata": {},
   "outputs": [],
   "source": [
    "df = client.query(sql).to_dataframe()\n",
    "df"
   ]
  },
  {
   "cell_type": "code",
   "execution_count": null,
   "metadata": {},
   "outputs": [],
   "source": [
    "barplot = sns.barplot(\n",
    "    data = df,\n",
    "    y = 'Rest_Area_Name',\n",
    "    x = 'Daily_Visitors'\n",
    ").set(\n",
    "    \n",
    "    title = '휴게소 방문객 상위 15'\n",
    ")\n",
    "\n",
    "plt.xlabel('방문객수')\n",
    "plt.ylabel('휴게소명')\n",
    "\n",
    "barplot"
   ]
  },
  {
   "cell_type": "markdown",
   "metadata": {},
   "source": [
    "===============================================================================================================================================================================================================================\n",
    "\n",
    "결론도출 ( 함 해보고 )\n",
    "\n",
    "고속도로 노선 교통량 상위 10개 -> 그중 노선 상위 10개 -> 그중 휴게소 방문대수 상위 10개"
   ]
  },
  {
   "cell_type": "markdown",
   "metadata": {},
   "source": [
    "==============================================================================================================================================================================================================================="
   ]
  },
  {
   "cell_type": "code",
   "execution_count": null,
   "metadata": {},
   "outputs": [],
   "source": [
    "# 1 : 고속도로 노선 교통량 상위 5개\n",
    "sql = '''\n",
    "SELECT\n",
    "  Route_Name,\n",
    "  SUM(Traffic_Volume) AS traffic\n",
    "FROM\n",
    "  project_1.Traffic_2023_11_12\n",
    "GROUP BY\n",
    "  Route_Name\n",
    "ORDER BY\n",
    "  traffic DESC\n",
    "LIMIT\n",
    " 5\n",
    "'''\n",
    "Highway = client.query(sql).to_dataframe()\n",
    "Highway"
   ]
  },
  {
   "cell_type": "code",
   "execution_count": null,
   "metadata": {},
   "outputs": [],
   "source": [
    "sql = '''\n",
    "SELECT\n",
    "  Rest_Area_Name,\n",
    "  Daily_Visitors\n",
    "FROM\n",
    "  project_1.Traffic_RestArea\n",
    "WHERE\n",
    " Route_Name IN ('경부선')\n",
    "ORDER BY\n",
    "  Daily_Visitors DESC\n",
    "LIMIT\n",
    " 5\n",
    "'''\n",
    "Route_1 = client.query(sql).to_dataframe()\n",
    "Route_1"
   ]
  },
  {
   "cell_type": "code",
   "execution_count": null,
   "metadata": {},
   "outputs": [],
   "source": [
    "sql = '''\n",
    "SELECT\n",
    "  Rest_Area_Name,\n",
    "  Daily_Visitors\n",
    "FROM\n",
    "  project_1.Traffic_RestArea\n",
    "WHERE\n",
    " Route_Name IN ('영동선')\n",
    "ORDER BY\n",
    "  Daily_Visitors DESC\n",
    "LIMIT\n",
    " 5\n",
    "'''\n",
    "Route_2 = client.query(sql).to_dataframe()\n",
    "Route_2"
   ]
  },
  {
   "cell_type": "code",
   "execution_count": null,
   "metadata": {},
   "outputs": [],
   "source": [
    "sql = '''\n",
    "SELECT\n",
    "  Rest_Area_Name,\n",
    "  Daily_Visitors\n",
    "FROM\n",
    "  project_1.Traffic_RestArea\n",
    "WHERE\n",
    " Route_Name IN ('중부선')\n",
    "ORDER BY\n",
    "  Daily_Visitors DESC\n",
    "LIMIT\n",
    " 5\n",
    "'''\n",
    "Route_3 = client.query(sql).to_dataframe()\n",
    "Route_3"
   ]
  },
  {
   "cell_type": "code",
   "execution_count": null,
   "metadata": {},
   "outputs": [],
   "source": [
    "sql = '''\n",
    "SELECT\n",
    "  Rest_Area_Name,\n",
    "  Daily_Visitors\n",
    "FROM\n",
    "  project_1.Traffic_RestArea\n",
    "WHERE\n",
    " Route_Name IN ('남해선')\n",
    "ORDER BY\n",
    "  Daily_Visitors DESC\n",
    "LIMIT\n",
    " 5\n",
    "'''\n",
    "Route_4 = client.query(sql).to_dataframe()\n",
    "Route_4"
   ]
  },
  {
   "cell_type": "code",
   "execution_count": null,
   "metadata": {},
   "outputs": [],
   "source": [
    "sql = '''\n",
    "SELECT\n",
    "  Rest_Area_Name,\n",
    "  Daily_Visitors\n",
    "FROM\n",
    "  project_1.Traffic_RestArea\n",
    "WHERE\n",
    " Route_Name IN ('서해안선')\n",
    "ORDER BY\n",
    "  Daily_Visitors DESC\n",
    "LIMIT\n",
    " 5\n",
    "'''\n",
    "Route_5 = client.query(sql).to_dataframe()\n",
    "Route_5"
   ]
  },
  {
   "cell_type": "code",
   "execution_count": null,
   "metadata": {},
   "outputs": [],
   "source": [
    "Ranking = pd.DataFrame(columns = Highway['Route_Name'])\n",
    "Ranking['경부선'] = Route_1['Rest_Area_Name']\n",
    "Ranking['영동선'] = Route_2['Rest_Area_Name']\n",
    "Ranking['중부선-대전통영선A'] = Route_3['Rest_Area_Name']\n",
    "Ranking['남해선A'] = Route_4['Rest_Area_Name']\n",
    "Ranking['서해안선'] = Route_5['Rest_Area_Name']\n",
    "\n",
    "Ranking\n",
    "\n",
    "#  https://zephyrus1111.tistory.com/33 판다스 표 만들기"
   ]
  },
  {
   "cell_type": "markdown",
   "metadata": {},
   "source": [
    "끝"
   ]
  }
 ],
 "metadata": {
  "kernelspec": {
   "display_name": "mulcam_3_9",
   "language": "python",
   "name": "mulcam_3_9"
  },
  "language_info": {
   "codemirror_mode": {
    "name": "ipython",
    "version": 3
   },
   "file_extension": ".py",
   "mimetype": "text/x-python",
   "name": "python",
   "nbconvert_exporter": "python",
   "pygments_lexer": "ipython3",
   "version": "3.9.18"
  }
 },
 "nbformat": 4,
 "nbformat_minor": 2
}
