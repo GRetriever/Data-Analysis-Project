{
 "cells": [
  {
   "cell_type": "markdown",
   "id": "2061499e-e597-4dba-a958-b846a32ddaf3",
   "metadata": {},
   "source": [
    "# practice 4. Logistic Regression \n",
    "\n",
    "데이터 셋 링크: https://www.kaggle.com/datasets/jsphyg/weather-dataset-rattle-package?select=weatherAUS.csv  \n",
    "참고자료: https://www.kaggle.com/code/prashant111/logistic-regression-classifier-tutorial\n",
    "\n",
    "이 데이터 집합에는 호주 전역의 여러 위치에서 약 10년간의 일일 기상 관측 데이터가 포함되어 있습니다. 내일 비가 올지 여부를 나타낸 RainTomorrow 여부를 예측하는 logistic regression 모델을 학습시키고, 성능을 측정하고, 결과를 해석해보세요."
   ]
  },
  {
   "cell_type": "markdown",
   "id": "ccb69bef",
   "metadata": {},
   "source": [
    "- Date : 날짜\n",
    "- Location : 위치\n",
    "- MinTemp : 최저기온\n",
    "- MaxTemp : 최고기온\n",
    "- Rainfall : 강수량\n",
    "- Evaporation : 증발\n",
    "- Shnshine : 하루 동안 해가 떠있는 시간\n",
    "- WindGustDir : 풍향\n",
    "- WindGustSpped : 풍속\n",
    "- WindDir9am : 오전 9시 풍향\n",
    "- WindDir3pm : 오후 3시 풍향\n",
    "- WindSpeed9am : 오전 9시 풍속\n",
    "- WindSpeed3pm : 오후 3시 풍속\n",
    "- Humidity9am : 오전 9시 습도\n",
    "- Humidity3pm : 오후 3시 습도\n",
    "- Pressure9am : 오전 9시 해수면 기압\n",
    "- Pressure3pm : 오후 3시 해수면 기압\n",
    "- Cloud9am : 오전 9시 구름\n",
    "- Cloud3pm : 오후 3시 구름\n",
    "- Temp9am : 오전 9시 기온\n",
    "- Temp3pm : 오후 3시 기온\n",
    "- RainToday : 당일 강수 여부"
   ]
  },
  {
   "cell_type": "code",
   "execution_count": 335,
   "id": "459ee01f-acb8-478f-bd13-01771b1abeef",
   "metadata": {},
   "outputs": [],
   "source": [
    "from utils import load_weather_dataset\n",
    "\n",
    "x_train, x_test, y_train, y_test = load_weather_dataset()"
   ]
  },
  {
   "cell_type": "code",
   "execution_count": 336,
   "id": "81ac8ed5",
   "metadata": {},
   "outputs": [],
   "source": [
    "train = pd.concat([x_train,y_train],axis=1)\n",
    "test = pd.concat([x_test,y_test],axis=1)"
   ]
  },
  {
   "cell_type": "code",
   "execution_count": 337,
   "id": "82a52883",
   "metadata": {},
   "outputs": [],
   "source": [
    "train = train.dropna(subset = ['RainTomorrow'])\n",
    "y_train = train['RainTomorrow']\n",
    "x_train = train.drop('RainTomorrow',axis=1)\n",
    "\n",
    "test = test.dropna(subset = ['RainTomorrow'])\n",
    "y_test = test['RainTomorrow']\n",
    "x_test = test.drop('RainTomorrow',axis=1)"
   ]
  },
  {
   "cell_type": "code",
   "execution_count": null,
   "id": "d1dd4cb0-862c-4c31-88de-08751c93ac58",
   "metadata": {},
   "outputs": [],
   "source": [
    "x_train.columns"
   ]
  },
  {
   "cell_type": "code",
   "execution_count": null,
   "metadata": {},
   "outputs": [],
   "source": [
    "x_train.info()"
   ]
  },
  {
   "cell_type": "code",
   "execution_count": null,
   "id": "c8331130",
   "metadata": {},
   "outputs": [],
   "source": [
    "x_train.isnull().sum()"
   ]
  },
  {
   "cell_type": "code",
   "execution_count": 338,
   "id": "5d309dfc",
   "metadata": {},
   "outputs": [],
   "source": [
    "import pandas as pd\n",
    "\n",
    "x_train['Date'] = pd.to_datetime(x_train['Date'])\n",
    "\n",
    "x_train['Year'] = x_train['Date'].dt.year\n",
    "x_train['Month'] = x_train['Date'].dt.month\n",
    "x_train['Day'] = x_train['Date'].dt.day\n",
    "\n",
    "x_train.drop('Date',axis=1,inplace=True)"
   ]
  },
  {
   "cell_type": "code",
   "execution_count": 339,
   "id": "6f2e95e0",
   "metadata": {},
   "outputs": [],
   "source": [
    "x_test['Date'] = pd.to_datetime(x_test['Date'])\n",
    "\n",
    "x_test['Year'] = x_test['Date'].dt.year\n",
    "x_test['Month'] = x_test['Date'].dt.month\n",
    "x_test['Day'] = x_test['Date'].dt.day\n",
    "\n",
    "x_test.drop('Date',axis=1,inplace=True)"
   ]
  },
  {
   "cell_type": "code",
   "execution_count": 340,
   "id": "3dd70943",
   "metadata": {},
   "outputs": [],
   "source": [
    "continuous = list(x_train.select_dtypes(include=('float','int')).columns)\n",
    "categorical = list(x_train.select_dtypes(include='object').columns)"
   ]
  },
  {
   "cell_type": "code",
   "execution_count": null,
   "id": "0f2a9ab2",
   "metadata": {},
   "outputs": [],
   "source": [
    "x_train[continuous].isnull().sum()"
   ]
  },
  {
   "cell_type": "code",
   "execution_count": 341,
   "id": "e2a8c035",
   "metadata": {},
   "outputs": [],
   "source": [
    "for i in continuous:\n",
    "    x_train[i] = x_train[i].fillna(x_train.groupby(['Location','Month'])[i].transform('mean'))\n",
    "    x_train[i] = x_train[i].fillna(x_train.groupby(['Location'])[i].transform('mean'))\n",
    "    x_train[i] = x_train[i].fillna(x_train.groupby(['Month'])[i].transform('mean'))\n",
    "    x_test[i] = x_test[i].fillna(x_test.groupby(['Location','Month'])[i].transform('mean'))\n",
    "    x_test[i] = x_test[i].fillna(x_test.groupby(['Location'])[i].transform('mean'))\n",
    "    x_test[i] = x_test[i].fillna(x_test.groupby(['Month'])[i].transform('mean'))\n"
   ]
  },
  {
   "cell_type": "code",
   "execution_count": null,
   "id": "1e2a89fb",
   "metadata": {},
   "outputs": [],
   "source": [
    "x_train[continuous].isnull().sum()"
   ]
  },
  {
   "cell_type": "code",
   "execution_count": null,
   "id": "2023cdcf",
   "metadata": {},
   "outputs": [],
   "source": [
    "x_test[continuous].isnull().sum()"
   ]
  },
  {
   "cell_type": "markdown",
   "id": "5bf704c2",
   "metadata": {},
   "source": [
    "==========================================================================================================="
   ]
  },
  {
   "cell_type": "code",
   "execution_count": 342,
   "id": "7fff0d5b",
   "metadata": {},
   "outputs": [],
   "source": [
    "import numpy as np\n",
    "import math"
   ]
  },
  {
   "cell_type": "code",
   "execution_count": null,
   "id": "cb1005e7",
   "metadata": {},
   "outputs": [],
   "source": [
    "x_train[categorical].isnull().sum()"
   ]
  },
  {
   "cell_type": "code",
   "execution_count": 239,
   "id": "efcb066f",
   "metadata": {},
   "outputs": [],
   "source": [
    "wind_dict = x_train.groupby([\"Location\", \"Month\"])['WindGustDir'].agg(pd.Series.mode).to_dict()"
   ]
  },
  {
   "cell_type": "code",
   "execution_count": 343,
   "id": "25f30965",
   "metadata": {},
   "outputs": [],
   "source": [
    "for i in categorical:\n",
    "    wind_dict = x_train.groupby([\"Location\", \"Month\"])[i].agg(pd.Series.mode).to_dict()\n",
    "    for k, v in wind_dict.items():\n",
    "        if isinstance(v, np.ndarray):\n",
    "            city,month = k\n",
    "            result = x_train[x_train['Month'] == month][i].mode().iloc[0]\n",
    "            if len(v) == 0:\n",
    "                wind_dict[k] = result\n",
    "            elif len(v) >= 2:\n",
    "                wind_dict[k] = v[0]\n",
    "    \n",
    "    def most_common_wind(x):\n",
    "        wind = x[i]\n",
    "        if isinstance(wind, str):\n",
    "            return wind\n",
    "        if not math.isnan(wind): \n",
    "            return wind\n",
    "        location = x[\"Location\"]\n",
    "        month = x[\"Month\"]\n",
    "        wind = wind_dict[(location, month)]\n",
    "        return wind            \n",
    "    \n",
    "    x_train[i] = x_train.apply(most_common_wind, axis=1)"
   ]
  },
  {
   "cell_type": "code",
   "execution_count": 344,
   "id": "9f34f32b",
   "metadata": {},
   "outputs": [],
   "source": [
    "for i in categorical:\n",
    "    wind_dict = x_test.groupby([\"Location\", \"Month\"])[i].agg(pd.Series.mode).to_dict()\n",
    "    for k, v in wind_dict.items():\n",
    "        if isinstance(v, np.ndarray):\n",
    "            city,month = k\n",
    "            result = x_test[x_test['Month'] == month][i].mode().iloc[0]\n",
    "            if len(v) == 0:\n",
    "                wind_dict[k] = result\n",
    "            elif len(v) >= 2:\n",
    "                wind_dict[k] = v[0]\n",
    "    \n",
    "    def most_common_wind(x):\n",
    "        wind = x[i]\n",
    "        if isinstance(wind, str):\n",
    "            return wind\n",
    "        if not math.isnan(wind): \n",
    "            return wind\n",
    "        location = x[\"Location\"]\n",
    "        month = x[\"Month\"]\n",
    "        wind = wind_dict[(location, month)]\n",
    "        return wind            \n",
    "    \n",
    "    x_test[i] = x_test.apply(most_common_wind, axis=1)"
   ]
  },
  {
   "cell_type": "code",
   "execution_count": 299,
   "id": "5312def0",
   "metadata": {},
   "outputs": [],
   "source": [
    "from sklearn.preprocessing import LabelEncoder\n",
    "\n",
    "label_encoder = LabelEncoder()"
   ]
  },
  {
   "cell_type": "code",
   "execution_count": 306,
   "id": "9dbfd453",
   "metadata": {},
   "outputs": [],
   "source": [
    "for i in categorical:\n",
    "    x_train[i] = label_encoder.fit_transform(x_train[i])"
   ]
  },
  {
   "cell_type": "code",
   "execution_count": 308,
   "id": "df8d2b47",
   "metadata": {},
   "outputs": [],
   "source": [
    "for i in categorical:\n",
    "    x_test[i] = label_encoder.fit_transform(x_test[i])"
   ]
  },
  {
   "cell_type": "code",
   "execution_count": null,
   "id": "111bfbea",
   "metadata": {},
   "outputs": [],
   "source": []
  },
  {
   "cell_type": "code",
   "execution_count": null,
   "id": "7f04cb91",
   "metadata": {},
   "outputs": [],
   "source": []
  },
  {
   "cell_type": "code",
   "execution_count": null,
   "id": "107357f1",
   "metadata": {},
   "outputs": [],
   "source": []
  },
  {
   "cell_type": "code",
   "execution_count": null,
   "id": "0d797966",
   "metadata": {},
   "outputs": [],
   "source": []
  },
  {
   "cell_type": "code",
   "execution_count": 345,
   "id": "77769468",
   "metadata": {},
   "outputs": [],
   "source": [
    "for i in categorical:\n",
    "    onehot = pd.get_dummies(x_train[i],prefix=i).astype(int)\n",
    "    x_train = pd.concat([x_train,onehot],axis=1)\n",
    "    x_train.drop([i],axis=1,inplace=True)"
   ]
  },
  {
   "cell_type": "code",
   "execution_count": 346,
   "id": "025ee979",
   "metadata": {},
   "outputs": [],
   "source": [
    "for i in categorical:\n",
    "    onehot = pd.get_dummies(x_test[i],prefix=i).astype(int)\n",
    "    x_test = pd.concat([x_test,onehot],axis=1)\n",
    "    x_test.drop([i],axis=1,inplace=True)"
   ]
  },
  {
   "cell_type": "code",
   "execution_count": null,
   "id": "e3365b7e",
   "metadata": {},
   "outputs": [],
   "source": [
    "from matplotlib import pyplot as plt\n",
    "import seaborn as sns\n",
    "\n",
    "plt.figure(figsize=(15,13))\n",
    "\n",
    "for i,variable in enumerate(continuous):\n",
    "    if i == 9:\n",
    "        break\n",
    "    plt.subplot(3,3,i+1)\n",
    "    sns.histplot(data = x_train, x= variable)"
   ]
  },
  {
   "cell_type": "code",
   "execution_count": null,
   "id": "72e45e18",
   "metadata": {},
   "outputs": [],
   "source": [
    "from matplotlib import pyplot as plt\n",
    "import seaborn as sns\n",
    "\n",
    "plt.figure(figsize=(15,13))\n",
    "\n",
    "for i,variable in enumerate(continuous):\n",
    "    if i == 9:\n",
    "        break\n",
    "    plt.subplot(3,3,i+1)\n",
    "    sns.boxplot(data = x_train, x= variable)"
   ]
  },
  {
   "cell_type": "markdown",
   "id": "a5d8885d",
   "metadata": {},
   "source": [
    "mintemp,maxtemp,windgustspeed,windspeed9am,windspeed3pm,humidity9am,humidity3pm,pressure9am,pressure3pm,temp9am,temp3pm = standard scaling\n",
    "rainfall,evaporation,sunshine,cloud9am,cloud3pm = minmax scaling"
   ]
  },
  {
   "cell_type": "code",
   "execution_count": null,
   "id": "5c1c41a0",
   "metadata": {},
   "outputs": [],
   "source": [
    "plt.figure(figsize=(15,13))\n",
    "\n",
    "for i,variable in enumerate(continuous):\n",
    "    if i < 9 or i > 15:\n",
    "        continue\n",
    "    plt.subplot(3,3,i-8)\n",
    "    sns.histplot(data = x_train, x= variable)"
   ]
  },
  {
   "cell_type": "code",
   "execution_count": null,
   "id": "c5bee3d2",
   "metadata": {},
   "outputs": [],
   "source": [
    "plt.figure(figsize=(15,13))\n",
    "\n",
    "for i,variable in enumerate(continuous):\n",
    "    if i < 9 or i > 15:\n",
    "        continue\n",
    "    plt.subplot(3,3,i-8)\n",
    "    sns.boxplot(data = x_train, x= variable)"
   ]
  },
  {
   "cell_type": "code",
   "execution_count": null,
   "id": "49477583",
   "metadata": {},
   "outputs": [],
   "source": [
    "mintemp,maxtemp,windgustspeed,windspeed9am,windspeed3pm,humidity9am,humidity3pm,pressure9am,pressure3pm,temp9am,temp3pm = standard scaling\n",
    "rainfall,evaporation,sunshine,cloud9am,cloud3pm = minmax scaling"
   ]
  },
  {
   "cell_type": "code",
   "execution_count": 347,
   "id": "d9cbb00f",
   "metadata": {},
   "outputs": [],
   "source": [
    "from sklearn.preprocessing import RobustScaler,MinMaxScaler,StandardScaler\n",
    "\n",
    "robust_scaler = RobustScaler()\n",
    "minmax_scaler = MinMaxScaler()\n",
    "standard_scaler = StandardScaler()"
   ]
  },
  {
   "cell_type": "code",
   "execution_count": 357,
   "id": "5a96210a",
   "metadata": {},
   "outputs": [],
   "source": [
    "x_train_scaler = robust_scaler.fit_transform(x_train)\n",
    "x_test_scaler = robust_scaler.transform(x_test)"
   ]
  },
  {
   "cell_type": "code",
   "execution_count": 358,
   "id": "0e4ea6a0",
   "metadata": {},
   "outputs": [],
   "source": [
    "x_train_scaler = pd.DataFrame(\n",
    "    x_train_scaler,\n",
    "    index=x_train.index,\n",
    "    columns=x_train.columns\n",
    ")"
   ]
  },
  {
   "cell_type": "code",
   "execution_count": 359,
   "id": "8b908955",
   "metadata": {},
   "outputs": [],
   "source": [
    "x_test_scaler = pd.DataFrame(\n",
    "    x_test_scaler,\n",
    "    index=x_test.index,\n",
    "    columns=x_test.columns\n",
    ")"
   ]
  },
  {
   "cell_type": "code",
   "execution_count": 351,
   "id": "36d52860",
   "metadata": {},
   "outputs": [],
   "source": [
    "y_train = y_train.map({'Yes': 1, 'No': 0})\n",
    "y_test = y_test.map({'Yes': 1, 'No': 0})"
   ]
  },
  {
   "cell_type": "code",
   "execution_count": 360,
   "id": "7065f0f6",
   "metadata": {},
   "outputs": [
    {
     "name": "stdout",
     "output_type": "stream",
     "text": [
      "Optimization terminated successfully.\n",
      "         Current function value: 0.349028\n",
      "         Iterations 7\n"
     ]
    }
   ],
   "source": [
    "import statsmodels.api as sm\n",
    "\n",
    "x_constant_train = sm.add_constant(x_train_scaler)\n",
    "model = sm.Logit(y_train,x_constant_train)\n",
    "result = model.fit()"
   ]
  },
  {
   "cell_type": "code",
   "execution_count": 361,
   "id": "117d7f62",
   "metadata": {},
   "outputs": [],
   "source": [
    "x_constant_test = sm.add_constant(x_test_scaler)"
   ]
  },
  {
   "cell_type": "code",
   "execution_count": 362,
   "id": "f857326e",
   "metadata": {},
   "outputs": [],
   "source": [
    "from sklearn.metrics import accuracy_score\n",
    "\n",
    "y_train_pred = result.predict(x_constant_train) > 0.5\n",
    "y_test_pred = result.predict(x_constant_test) > 0.5"
   ]
  },
  {
   "cell_type": "code",
   "execution_count": 363,
   "id": "c06ad32f",
   "metadata": {},
   "outputs": [
    {
     "name": "stdout",
     "output_type": "stream",
     "text": [
      "train accuracy 0.8498\n"
     ]
    }
   ],
   "source": [
    "print('train accuracy', round(accuracy_score(y_train,y_train_pred),4))"
   ]
  },
  {
   "cell_type": "code",
   "execution_count": 364,
   "id": "f23292d9",
   "metadata": {},
   "outputs": [
    {
     "name": "stdout",
     "output_type": "stream",
     "text": [
      "train accuracy 0.8468\n"
     ]
    }
   ],
   "source": [
    "print('train accuracy', round(accuracy_score(y_test,y_test_pred),4))"
   ]
  },
  {
   "cell_type": "code",
   "execution_count": 368,
   "id": "37e45eee",
   "metadata": {},
   "outputs": [
    {
     "data": {
      "text/plain": [
       "Humidity3pm             6.028608\n",
       "Pressure9am             3.063113\n",
       "WindGustSpeed           2.200441\n",
       "Location_Adelaide       1.941512\n",
       "Location_Perth          1.827479\n",
       "                          ...   \n",
       "Location_Townsville     0.420266\n",
       "Location_Wollongong     0.404133\n",
       "Location_MountGinini    0.352783\n",
       "Pressure3pm             0.190383\n",
       "const                   0.186210\n",
       "Length: 119, dtype: float64"
      ]
     },
     "execution_count": 368,
     "metadata": {},
     "output_type": "execute_result"
    }
   ],
   "source": [
    "np.exp(result.params).sort_values(ascending=False)"
   ]
  },
  {
   "cell_type": "code",
   "execution_count": null,
   "id": "bf506b87",
   "metadata": {},
   "outputs": [],
   "source": []
  }
 ],
 "metadata": {
  "kernelspec": {
   "display_name": "mulcam_3_9",
   "language": "python",
   "name": "mulcam_3_9"
  },
  "language_info": {
   "codemirror_mode": {
    "name": "ipython",
    "version": 3
   },
   "file_extension": ".py",
   "mimetype": "text/x-python",
   "name": "python",
   "nbconvert_exporter": "python",
   "pygments_lexer": "ipython3",
   "version": "3.9.18"
  }
 },
 "nbformat": 4,
 "nbformat_minor": 5
}
