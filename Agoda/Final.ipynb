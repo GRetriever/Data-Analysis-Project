{
 "cells": [
  {
   "cell_type": "code",
   "execution_count": 1,
   "metadata": {},
   "outputs": [],
   "source": [
    "import pandas as pd"
   ]
  },
  {
   "cell_type": "code",
   "execution_count": 37,
   "metadata": {},
   "outputs": [],
   "source": [
    "five_hotel = pd.read_csv('./data/five_hotel.csv')\n",
    "four_hotel = pd.read_csv('./data/four_hotel.csv')\n",
    "three_hotel = pd.read_csv('./data/three_hotel.csv')"
   ]
  },
  {
   "cell_type": "code",
   "execution_count": 38,
   "metadata": {},
   "outputs": [],
   "source": [
    "five_hotel.at[5,'hotel_location'] = None\n",
    "four_hotel.at[6,'hotel_location'] = None\n",
    "three_hotel.at[5,'hotel_location'] = None"
   ]
  },
  {
   "cell_type": "code",
   "execution_count": 39,
   "metadata": {},
   "outputs": [],
   "source": [
    "three_hotel.at[14,'hotel_location'] = '서울특별시 용산구 한강대로 305'\n",
    "three_hotel.at[21,'hotel_location'] = '서울특별시 중구 동호로 354'\n",
    "three_hotel.at[44,'hotel_location'] = '서울 관악구 남부순환로 1458'\n",
    "three_hotel.at[51,'hotel_location'] = '서울특별시 강남구 역삼동 701-1'\n",
    "three_hotel.at[59,'hotel_location'] = '서울특별시 중구 명동8가길 49'\n",
    "three_hotel.at[60,'hotel_location'] = '서울특별시 성북구 동소문로20나길 39'\n",
    "three_hotel.at[61,'hotel_location'] = '서울 종로구 창경궁로 106'\n",
    "three_hotel.at[63,'hotel_location'] = '서울특별시 중구 퇴계로 337'\n",
    "three_hotel.at[68,'hotel_location'] = '서울 종로구 삼일대로30길 9'\n",
    "three_hotel.at[79,'hotel_location'] = '서울특별시 성동구 도선동 72'\n",
    "three_hotel.at[80,'hotel_location'] = '서울특별시 서초구 나루터로 64'\n",
    "three_hotel.at[84,'hotel_location'] = '서울특별시 영등포구 영등포동3가 12-22'\n",
    "three_hotel.at[85,'hotel_location'] = '서울특별시 송파구 올림픽로32길 7'\n",
    "three_hotel.at[88,'hotel_location'] = '서울특별시 중구 만리동1가 33-1'\n",
    "three_hotel.at[89,'hotel_location'] = '서울특별시 중구 장충단로 198'\n",
    "three_hotel.at[91,'hotel_location'] = '서울특별시 동대문구 천호대로 377'\n",
    "three_hotel.at[95,'hotel_location'] = '서울특별시 중구 명동9길 22'\n",
    "three_hotel.at[108,'hotel_location'] = '서울특별시 중구 퇴계로 107'\n",
    "three_hotel.at[113,'hotel_location'] = '서울 종로구 청계천로 137'\n",
    "three_hotel.at[118,'hotel_location'] = '서울특별시 중구 퇴계로 139'\n",
    "three_hotel.at[126,'hotel_location'] = '서울특별시 중구 퇴계로12길 39-8'\n",
    "three_hotel.at[129,'hotel_location'] = '서울특별시 중구 명동8나길 38'\n",
    "three_hotel.at[132,'hotel_location'] = '서울특별시 중구 세종대로22길 12'\n",
    "three_hotel.at[133,'hotel_location'] = '서울 종로구 돈화문로9길 29'\n",
    "three_hotel.at[134,'hotel_location'] = '서울특별시 노원구 상계6.7동 702-1'\n",
    "three_hotel.at[146,'hotel_location'] = '서울특별시 금천구 독산동 1008-10'\n",
    "three_hotel.at[147,'hotel_location'] = '서울특별시 중구 다동 130'"
   ]
  },
  {
   "cell_type": "code",
   "execution_count": 40,
   "metadata": {},
   "outputs": [],
   "source": [
    "four_hotel.at[23,'hotel_location'] = '서울특별시 동작구 상도로 120'\n",
    "four_hotel.at[58,'hotel_location'] = '서울특별시 중구 장충단로13길 20'\n",
    "four_hotel.at[68,'hotel_location'] = '서울특별시 구로구 신도림동 432-30'\n",
    "four_hotel.at[75,'hotel_location'] = '서울특별시 영등포구 양평로 132'\n",
    "four_hotel.at[82,'hotel_location'] = '서울특별시 중구 동호로 335'\n",
    "four_hotel.at[86,'hotel_location'] = '서울특별시 중구 명동9길 16'\n",
    "four_hotel.at[88,'hotel_location'] = '서울특별시 강남구 도산대로 203'\n",
    "four_hotel.at[90,'hotel_location'] = '서울특별시 중구 명동7가길 22'"
   ]
  },
  {
   "cell_type": "code",
   "execution_count": 41,
   "metadata": {},
   "outputs": [],
   "source": [
    "five_hotel.at[0,'hotel_location'] = '서울특별시 광진구 워커힐로 177'\n",
    "five_hotel.at[6,'hotel_location'] = '서울 광진구 워커힐로 177 비스타 워커힐 서울 1층'\n",
    "five_hotel.at[17,'hotel_location'] = '서울특별시 송파구 올림픽로 300'\n",
    "five_hotel.at[34,'hotel_location'] = '서울특별시 종로구 청계천로 279'"
   ]
  },
  {
   "cell_type": "code",
   "execution_count": 28,
   "metadata": {},
   "outputs": [],
   "source": [
    "three_hotel = three_hotel.drop(123,axis=0)"
   ]
  },
  {
   "cell_type": "code",
   "execution_count": 42,
   "metadata": {},
   "outputs": [],
   "source": [
    "five_hotel.to_csv('./data/five_hotel.csv',index=False,encoding='utf-8')\n",
    "four_hotel.to_csv('./data/four_hotel.csv',index=False,encoding='utf-8')\n",
    "three_hotel.to_csv('./data/three_hotel.csv',index=False,encoding='utf-8')"
   ]
  },
  {
   "cell_type": "code",
   "execution_count": null,
   "metadata": {},
   "outputs": [],
   "source": []
  }
 ],
 "metadata": {
  "kernelspec": {
   "display_name": "mulcam_3_9",
   "language": "python",
   "name": "mulcam_3_9"
  },
  "language_info": {
   "codemirror_mode": {
    "name": "ipython",
    "version": 3
   },
   "file_extension": ".py",
   "mimetype": "text/x-python",
   "name": "python",
   "nbconvert_exporter": "python",
   "pygments_lexer": "ipython3",
   "version": "3.9.18"
  }
 },
 "nbformat": 4,
 "nbformat_minor": 2
}
