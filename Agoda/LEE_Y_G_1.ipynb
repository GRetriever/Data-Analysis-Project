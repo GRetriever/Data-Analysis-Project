{
 "cells": [
  {
   "cell_type": "code",
   "execution_count": 2,
   "metadata": {},
   "outputs": [],
   "source": [
    "import sys\n",
    "import os\n",
    "import numpy as np\n",
    "import pandas as pd\n",
    "import time\n",
    "from tqdm import tqdm_notebook\n",
    "from selenium.webdriver.common.keys import Keys\n",
    "from selenium.webdriver.common.by import By\n",
    "from selenium import webdriver\n",
    "from bs4 import BeautifulSoup\n",
    "import pandas as pd\n",
    "\n",
    "# 웹 드라이버 초기화\n",
    "from selenium.webdriver.chrome.service import Service\n",
    "from selenium import webdriver"
   ]
  },
  {
   "cell_type": "code",
   "execution_count": 3,
   "metadata": {},
   "outputs": [],
   "source": [
    "service = Service(executable_path='./chromedriver.exe')\n",
    "driver = webdriver.Chrome(service=service)\n",
    "\n",
    "#url = 'https://hotels.naver.com/list?placeFileName=place%3ASeoul&adultCnt=2&includeTax=false&sortField=popularityKR&sortDirection=descending&pageIndex=0&onlyCertStarRating=false&starRatings=5'\n",
    "#driver.get(url)\n",
    "#time.sleep(2)\n",
    "\n",
    "#element = driver.find_element(By.CSS_SELECTOR,\"Autocomplete_txt__nb6wT\").click()\n",
    "#titles = drive.find_element(By.CSS_SELECTOR, 'div.box_headline a.link_txt').text # (.)은 클래스를 나타냄\n",
    "#print(titles)"
   ]
  },
  {
   "cell_type": "code",
   "execution_count": 4,
   "metadata": {},
   "outputs": [
    {
     "name": "stdout",
     "output_type": "stream",
     "text": [
      "파라스파라 서울 서울, 대한민국 https://hotels.naver.com/item?hotelFileName=hotel%3AParaspara_Seoul_operated_by_Josun_Hotels_Resorts&adultCnt=2&includeTax=false\n",
      "메이필드 호텔 서울 서울, 대한민국 https://hotels.naver.com/item?hotelFileName=hotel%3AMayfield_Hotel_Resort_Seoul&adultCnt=2&includeTax=false\n",
      "롯데 호텔 월드 서울, 대한민국 https://hotels.naver.com/item?hotelFileName=hotel%3ALotte_Hotel_World&adultCnt=2&includeTax=false\n",
      "웨스틴 조선 서울 서울, 대한민국 https://hotels.naver.com/item?hotelFileName=hotel%3AThe_Westin_Josun_Seoul&adultCnt=2&includeTax=false\n",
      "시그니엘 서울 서울, 대한민국 https://hotels.naver.com/item?hotelFileName=hotel%3ASigniel_Seoul&adultCnt=2&includeTax=false\n",
      "서울신라호텔 서울, 대한민국 https://hotels.naver.com/item?hotelFileName=hotel%3AThe_Shilla_Seoul&adultCnt=2&includeTax=false\n",
      "그랜드 인터컨티넨탈 서울 파르나스 서울, 대한민국 https://hotels.naver.com/item?hotelFileName=hotel%3AGrand_InterContinental_Seoul_Parnas&adultCnt=2&includeTax=false\n",
      "인터컨티넨탈 서울 코엑스 서울, 대한민국 https://hotels.naver.com/item?hotelFileName=hotel%3AInterContinental_Seoul_COEX&adultCnt=2&includeTax=false\n",
      "몬드리안 서울 이태원 서울, 대한민국 https://hotels.naver.com/item?hotelFileName=hotel%3AMondrian_Seoul_Itaewon&adultCnt=2&includeTax=false\n",
      "그랜드 하얏트 서울 서울, 대한민국 https://hotels.naver.com/item?hotelFileName=hotel%3AGrand_Hyatt_Seoul&adultCnt=2&includeTax=false\n",
      "노보텔 스위트 앰배서더 서울 용산 서울, 대한민국 https://hotels.naver.com/item?hotelFileName=hotel%3ANovotel_Suites_Ambassador_Seoul_Yongsan_Seoul_Dragon_City&adultCnt=2&includeTax=false\n",
      "노보텔 앰배서더 서울 용산 서울, 대한민국 https://hotels.naver.com/item?hotelFileName=hotel%3ANovotel_Ambassador_Seoul_Yongsan_Seoul_Dragon_City&adultCnt=2&includeTax=false\n",
      "오크우드 프리미어 코엑스센터 서울, 대한민국 https://hotels.naver.com/item?hotelFileName=hotel%3AOakwood_Premier_Coex_Center&adultCnt=2&includeTax=false\n",
      "그랜드 워커힐 서울 (구, 쉐라톤 그랜드 워커힐 서울) 서울, 대한민국 https://hotels.naver.com/item?hotelFileName=hotel%3AGrand_Walkerhill_Seoul&adultCnt=2&includeTax=false\n",
      "더 플라자 서울, 오토그래프 컬렉션 서울, 대한민국 https://hotels.naver.com/item?hotelFileName=hotel%3ATHE_PLAZA_Seoul_Autograph_Collection&adultCnt=2&includeTax=false\n",
      "비스타 워커힐 서울 (구, W 서울 워커힐) 서울, 대한민국 https://hotels.naver.com/item?hotelFileName=hotel%3AVista_Walkerhill_Seoul&adultCnt=2&includeTax=false\n",
      "롯데 호텔 서울 서울, 대한민국 https://hotels.naver.com/item?hotelFileName=hotel%3ALotte_Hotel_Seoul&adultCnt=2&includeTax=false\n",
      "소피텔 앰배서더 서울 호텔 & 서비스드 레지던스 서울, 대한민국 https://hotels.naver.com/item?hotelFileName=hotel%3ASofitel_Ambassador_Seoul_Hotel_Serviced_Residences&adultCnt=2&includeTax=false\n",
      "JW 메리어트 호텔 서울 서울, 대한민국 https://hotels.naver.com/item?hotelFileName=hotel%3AJW_Marriott_Hotel_Seoul&adultCnt=2&includeTax=false\n",
      "그랜드 머큐어 앰배서더 호텔 앤 레지던스 서울 용산 서울, 대한민국 https://hotels.naver.com/item?hotelFileName=hotel%3AGrand_Mercure_Ambassador_Hotel_and_Residences_Seoul_Yongsan&adultCnt=2&includeTax=false\n",
      "반얀트리 클럽 앤 스파 서울 서울, 대한민국 https://hotels.naver.com/item?hotelFileName=hotel%3ABanyan_Tree_Club_Spa_Seoul&adultCnt=2&includeTax=false\n",
      "콘래드 서울 호텔 서울, 대한민국 https://hotels.naver.com/item?hotelFileName=hotel%3AConrad_Seoul&adultCnt=2&includeTax=false\n",
      "조선 팰리스 서울 강남, 럭셔리 컬렉션 호텔 서울, 대한민국 https://hotels.naver.com/item?hotelFileName=hotel%3AJosun_Palace_a_Luxury_Collection_Hotel_Seoul_Gangnam&adultCnt=2&includeTax=false\n",
      "호텔 나루 서울 엠갤러리 서울, 대한민국 https://hotels.naver.com/item?hotelFileName=hotel%3AHotel_Naru_Seoul_MGallery_Ambassador&adultCnt=2&includeTax=false\n",
      "노보텔 앰배서더 서울 동대문 서울, 대한민국 https://hotels.naver.com/item?hotelFileName=hotel%3ANovotel_Ambassador_Seoul_Dongdaemun_Hotels_Residences&adultCnt=2&includeTax=false\n",
      "파크 하얏트 서울 서울, 대한민국 https://hotels.naver.com/item?hotelFileName=hotel%3APark_Hyatt_Seoul&adultCnt=2&includeTax=false\n",
      "노보텔 앰배서더 서울 강남 서울, 대한민국 https://hotels.naver.com/item?hotelFileName=hotel%3ANovotel_Ambassador_Seoul_Gangnam&adultCnt=2&includeTax=false\n",
      "워커힐 더글라스 하우스 (No Kids Zone) 서울, 대한민국 https://hotels.naver.com/item?hotelFileName=hotel%3AWalkerhill_Douglas_House_No_Kids_Zone&adultCnt=2&includeTax=false\n",
      "JW 메리어트 동대문스퀘어 서울 서울, 대한민국 https://hotels.naver.com/item?hotelFileName=hotel%3AJW_Marriott_Dongdaemun_Square_Seoul&adultCnt=2&includeTax=false\n",
      "안다즈 서울 강남 서울, 대한민국 https://hotels.naver.com/item?hotelFileName=hotel%3AAndaz_Seoul_Gangnam&adultCnt=2&includeTax=false\n",
      "페어몬트 앰배서더 서울 서울, 대한민국 https://hotels.naver.com/item?hotelFileName=hotel%3AFairmont_Ambassador_Seoul&adultCnt=2&includeTax=false\n",
      "포시즌스 호텔 서울 서울, 대한민국 https://hotels.naver.com/item?hotelFileName=hotel%3AFour_Seasons_Hotel_Seoul&adultCnt=2&includeTax=false\n",
      "롯데 호텔 서울 이그제큐티브 타워 서울, 대한민국 https://hotels.naver.com/item?hotelFileName=hotel%3ALotte_Hotel_Seoul_Executive_Tower&adultCnt=2&includeTax=false\n",
      "메리어트 이그제큐티브 아파트먼트 서울 서울, 대한민국 https://hotels.naver.com/item?hotelFileName=hotel%3AMarriott_Executive_Apartments_Yeouido_Park_Centre_Seoul&adultCnt=2&includeTax=false\n",
      "르메르디앙 서울 명동 서울, 대한민국 https://hotels.naver.com/item?hotelFileName=hotel%3ALe_Meridien_Seoul_Myeongdong&adultCnt=2&includeTax=false\n",
      "BS 7 프리 서비스 위드 코지 홈 서울, 대한민국 https://hotels.naver.com/item?hotelFileName=hotel%3ABS_7_Free_services_with_cozy_home&adultCnt=2&includeTax=false\n",
      "온유게스트하우스 서울, 대한민국 https://hotels.naver.com/item?hotelFileName=hotel%3AOn_U&adultCnt=2&includeTax=false\n"
     ]
    }
   ],
   "source": [
    "hotels_url_list =[]\n",
    "hotels_names_list=[]\n",
    "hotels_location_list=[]\n",
    "for i in range(0,2):\n",
    "  url = f'https://hotels.naver.com/list?placeFileName=place%3ASeoul&adultCnt=2&includeTax=false&sortField=popularityKR&sortDirection=descending&pageIndex={i}&onlyCertStarRating=false&starRatings=5'\n",
    "  driver.get(url)\n",
    "  time.sleep(2)\n",
    "  hotels_raw =driver.find_elements(By.CLASS_NAME,\"SearchList_anchor__rKpmX\")\n",
    "  hotels_raw_name = driver.find_elements(By.CLASS_NAME,\"Detail_title__40_dz\")\n",
    "  hotels_raw_lation = driver.find_elements(By.CLASS_NAME,\"Detail_location__u3_N6\")\n",
    "  for j in range(len(hotels_raw)):\n",
    "    hotel_name = hotels_raw_name[j].text\n",
    "    hotel_id = hotels_raw[j].get_attribute('href')\n",
    "    hotel_loaction = hotels_raw_lation[j].text \n",
    "    hotels_url_list.append(hotel_id)\n",
    "    hotels_names_list.append(hotel_name)\n",
    "    hotels_location_list.append(hotel_loaction)\n",
    "    print(hotel_name,hotel_loaction,hotel_id)\n",
    "driver.quit()\n",
    "\n"
   ]
  },
  {
   "cell_type": "code",
   "execution_count": 5,
   "metadata": {},
   "outputs": [],
   "source": [
    "from selenium import webdriver\n",
    "\n",
    "service = Service(executable_path='./chromedriver.exe')\n",
    "driver = webdriver.Chrome(service=service)\n",
    "driver.maximize_window()\n",
    "\n",
    "url = 'https://hotels.naver.com/item/cpReview?hotelFileName=hotel%3ABanyan_Tree_Club_Spa_Seoul&adultCnt=2&includeTax=false&checkIn=2023-12-26&checkOut=2023-12-27'\n",
    "driver.get(url)\n",
    "\n",
    "prev_height = driver.execute_script(\"return document.body.scrollHeight\")\n",
    "#driver.find_element(By.CLASS_NAME,\"common_select__1Bm2v\").click()\n",
    "driver.find_element(By.CSS_SELECTOR,\"#__next > div > div > div.item_container__NoBBg > div > div.TripAdvisor.ExistReview > div.common_SortAndLanguage__dP10j > span.common_language__s0R2j > select\").click()\n",
    "driver.find_element(By.CSS_SELECTOR,\"#__next > div > div > div.item_container__NoBBg > div > div.TripAdvisor.ExistReview > div.common_SortAndLanguage__dP10j > span.common_language__s0R2j > select > option:nth-child(2)\").click()\n",
    "# 웹페이지 맨 아래까지 무한 스크롤\n",
    "while True:\n",
    "    # 스크롤을 화면 가장 아래로 내린다\n",
    "    driver.execute_script(\"window.scrollTo(0,document.body.scrollHeight)\")\n",
    "    \n",
    "    # 페이지 로딩 대기\n",
    "    time.sleep(2)\n",
    "\n",
    "    # 현재 문서 높이를 가져와서 저장\n",
    "    curr_height = driver.execute_script(\"return document.body.scrollHeight\")\n",
    "\n",
    "    if(curr_height == prev_height):\n",
    "        break\n",
    "    else:\n",
    "        prev_height = driver.execute_script(\"return document.body.scrollHeight\")"
   ]
  },
  {
   "cell_type": "code",
   "execution_count": null,
   "metadata": {},
   "outputs": [],
   "source": [
    "import re\n",
    "example_content = \"https://hotels.naver.com/item?hotelFileName=hotel%3ABanyan_Tree_Club_Spa_Seoul&adultCnt=2&includeTax=false\"\n",
    "hotels_url_list\n",
    "pattern = r\"\\%.+?\\&\"\n",
    "hotel_review_id_list=[]\n",
    "for url in hotels_url_list:\n",
    "  hotel_review_id = re.findall(pattern,url)\n",
    "  hotel_review_id_list.append(f\"https://hotels.naver.com/item/cpReview?hotelFileName=hotel{hotel_review_id[0]}adultCnt=2&includeTax=false&checkIn=2023-12-26&checkOut=2023-12-27\")\n",
    "  \n",
    "hotel_review_id_list\n",
    "hotel_review_content = driver.find_elements(By.CLASS_NAME,\"common_txt__2Xcex\")\n",
    "review_content=[]\n",
    "for text in hotel_review_content[6:]:\\\n",
    "  review_content.append(text.text)\n",
    "  \n",
    "review_content"
   ]
  },
  {
   "cell_type": "code",
   "execution_count": null,
   "metadata": {},
   "outputs": [],
   "source": [
    "hotel_review_content = driver.find_elements(By.CLASS_NAME,\"common_txt__2Xcex\")[6:]\n",
    "hotel_review_rate = driver.find_elements(By.CLASS_NAME,\"common_star_txt__3f1Yt\")\n",
    "hotel_review_title = driver.find_elements(By.CLASS_NAME,\"common_title_txt__Kn91_\")\n",
    "review_content=[]\n",
    "for i in range(len(hotel_review_content)):\n",
    "  review_content.append([hotel_review_rate[i].text,hotel_review_title[i].text,hotel_review_content[i].text])\n",
    "  \n",
    "review_content"
   ]
  },
  {
   "cell_type": "code",
   "execution_count": 14,
   "metadata": {},
   "outputs": [
    {
     "data": {
      "text/plain": [
       "325"
      ]
     },
     "execution_count": 14,
     "metadata": {},
     "output_type": "execute_result"
    }
   ],
   "source": [
    "len(review_content)"
   ]
  },
  {
   "cell_type": "code",
   "execution_count": 11,
   "metadata": {},
   "outputs": [
    {
     "ename": "ValueError",
     "evalue": "All arrays must be of the same length",
     "output_type": "error",
     "traceback": [
      "\u001b[1;31m---------------------------------------------------------------------------\u001b[0m",
      "\u001b[1;31mValueError\u001b[0m                                Traceback (most recent call last)",
      "Cell \u001b[1;32mIn[11], line 1\u001b[0m\n\u001b[1;32m----> 1\u001b[0m df \u001b[38;5;241m=\u001b[39m \u001b[43mpd\u001b[49m\u001b[38;5;241;43m.\u001b[39;49m\u001b[43mDataFrame\u001b[49m\u001b[43m(\u001b[49m\u001b[43m{\u001b[49m\u001b[38;5;124;43m'\u001b[39;49m\u001b[38;5;124;43mname\u001b[39;49m\u001b[38;5;124;43m'\u001b[39;49m\u001b[43m:\u001b[49m\u001b[43mhotels_names_list\u001b[49m\u001b[43m,\u001b[49m\u001b[38;5;124;43m'\u001b[39;49m\u001b[38;5;124;43murl\u001b[39;49m\u001b[38;5;124;43m'\u001b[39;49m\u001b[43m:\u001b[49m\u001b[43mhotels_url_list\u001b[49m\u001b[43m,\u001b[49m\u001b[38;5;124;43m'\u001b[39;49m\u001b[38;5;124;43mreview\u001b[39;49m\u001b[38;5;124;43m'\u001b[39;49m\u001b[43m:\u001b[49m\u001b[43mreview_content\u001b[49m\u001b[43m}\u001b[49m\u001b[43m)\u001b[49m\n\u001b[0;32m      2\u001b[0m df\n",
      "File \u001b[1;32mc:\\Users\\xzv22\\.conda\\envs\\mulcam_3_9\\lib\\site-packages\\pandas\\core\\frame.py:736\u001b[0m, in \u001b[0;36mDataFrame.__init__\u001b[1;34m(self, data, index, columns, dtype, copy)\u001b[0m\n\u001b[0;32m    730\u001b[0m     mgr \u001b[38;5;241m=\u001b[39m \u001b[38;5;28mself\u001b[39m\u001b[38;5;241m.\u001b[39m_init_mgr(\n\u001b[0;32m    731\u001b[0m         data, axes\u001b[38;5;241m=\u001b[39m{\u001b[38;5;124m\"\u001b[39m\u001b[38;5;124mindex\u001b[39m\u001b[38;5;124m\"\u001b[39m: index, \u001b[38;5;124m\"\u001b[39m\u001b[38;5;124mcolumns\u001b[39m\u001b[38;5;124m\"\u001b[39m: columns}, dtype\u001b[38;5;241m=\u001b[39mdtype, copy\u001b[38;5;241m=\u001b[39mcopy\n\u001b[0;32m    732\u001b[0m     )\n\u001b[0;32m    734\u001b[0m \u001b[38;5;28;01melif\u001b[39;00m \u001b[38;5;28misinstance\u001b[39m(data, \u001b[38;5;28mdict\u001b[39m):\n\u001b[0;32m    735\u001b[0m     \u001b[38;5;66;03m# GH#38939 de facto copy defaults to False only in non-dict cases\u001b[39;00m\n\u001b[1;32m--> 736\u001b[0m     mgr \u001b[38;5;241m=\u001b[39m \u001b[43mdict_to_mgr\u001b[49m\u001b[43m(\u001b[49m\u001b[43mdata\u001b[49m\u001b[43m,\u001b[49m\u001b[43m \u001b[49m\u001b[43mindex\u001b[49m\u001b[43m,\u001b[49m\u001b[43m \u001b[49m\u001b[43mcolumns\u001b[49m\u001b[43m,\u001b[49m\u001b[43m \u001b[49m\u001b[43mdtype\u001b[49m\u001b[38;5;241;43m=\u001b[39;49m\u001b[43mdtype\u001b[49m\u001b[43m,\u001b[49m\u001b[43m \u001b[49m\u001b[43mcopy\u001b[49m\u001b[38;5;241;43m=\u001b[39;49m\u001b[43mcopy\u001b[49m\u001b[43m,\u001b[49m\u001b[43m \u001b[49m\u001b[43mtyp\u001b[49m\u001b[38;5;241;43m=\u001b[39;49m\u001b[43mmanager\u001b[49m\u001b[43m)\u001b[49m\n\u001b[0;32m    737\u001b[0m \u001b[38;5;28;01melif\u001b[39;00m \u001b[38;5;28misinstance\u001b[39m(data, ma\u001b[38;5;241m.\u001b[39mMaskedArray):\n\u001b[0;32m    738\u001b[0m     \u001b[38;5;28;01mfrom\u001b[39;00m \u001b[38;5;21;01mnumpy\u001b[39;00m\u001b[38;5;21;01m.\u001b[39;00m\u001b[38;5;21;01mma\u001b[39;00m \u001b[38;5;28;01mimport\u001b[39;00m mrecords\n",
      "File \u001b[1;32mc:\\Users\\xzv22\\.conda\\envs\\mulcam_3_9\\lib\\site-packages\\pandas\\core\\internals\\construction.py:503\u001b[0m, in \u001b[0;36mdict_to_mgr\u001b[1;34m(data, index, columns, dtype, typ, copy)\u001b[0m\n\u001b[0;32m    499\u001b[0m     \u001b[38;5;28;01melse\u001b[39;00m:\n\u001b[0;32m    500\u001b[0m         \u001b[38;5;66;03m# dtype check to exclude e.g. range objects, scalars\u001b[39;00m\n\u001b[0;32m    501\u001b[0m         arrays \u001b[38;5;241m=\u001b[39m [x\u001b[38;5;241m.\u001b[39mcopy() \u001b[38;5;28;01mif\u001b[39;00m \u001b[38;5;28mhasattr\u001b[39m(x, \u001b[38;5;124m\"\u001b[39m\u001b[38;5;124mdtype\u001b[39m\u001b[38;5;124m\"\u001b[39m) \u001b[38;5;28;01melse\u001b[39;00m x \u001b[38;5;28;01mfor\u001b[39;00m x \u001b[38;5;129;01min\u001b[39;00m arrays]\n\u001b[1;32m--> 503\u001b[0m \u001b[38;5;28;01mreturn\u001b[39;00m \u001b[43marrays_to_mgr\u001b[49m\u001b[43m(\u001b[49m\u001b[43marrays\u001b[49m\u001b[43m,\u001b[49m\u001b[43m \u001b[49m\u001b[43mcolumns\u001b[49m\u001b[43m,\u001b[49m\u001b[43m \u001b[49m\u001b[43mindex\u001b[49m\u001b[43m,\u001b[49m\u001b[43m \u001b[49m\u001b[43mdtype\u001b[49m\u001b[38;5;241;43m=\u001b[39;49m\u001b[43mdtype\u001b[49m\u001b[43m,\u001b[49m\u001b[43m \u001b[49m\u001b[43mtyp\u001b[49m\u001b[38;5;241;43m=\u001b[39;49m\u001b[43mtyp\u001b[49m\u001b[43m,\u001b[49m\u001b[43m \u001b[49m\u001b[43mconsolidate\u001b[49m\u001b[38;5;241;43m=\u001b[39;49m\u001b[43mcopy\u001b[49m\u001b[43m)\u001b[49m\n",
      "File \u001b[1;32mc:\\Users\\xzv22\\.conda\\envs\\mulcam_3_9\\lib\\site-packages\\pandas\\core\\internals\\construction.py:114\u001b[0m, in \u001b[0;36marrays_to_mgr\u001b[1;34m(arrays, columns, index, dtype, verify_integrity, typ, consolidate)\u001b[0m\n\u001b[0;32m    111\u001b[0m \u001b[38;5;28;01mif\u001b[39;00m verify_integrity:\n\u001b[0;32m    112\u001b[0m     \u001b[38;5;66;03m# figure out the index, if necessary\u001b[39;00m\n\u001b[0;32m    113\u001b[0m     \u001b[38;5;28;01mif\u001b[39;00m index \u001b[38;5;129;01mis\u001b[39;00m \u001b[38;5;28;01mNone\u001b[39;00m:\n\u001b[1;32m--> 114\u001b[0m         index \u001b[38;5;241m=\u001b[39m \u001b[43m_extract_index\u001b[49m\u001b[43m(\u001b[49m\u001b[43marrays\u001b[49m\u001b[43m)\u001b[49m\n\u001b[0;32m    115\u001b[0m     \u001b[38;5;28;01melse\u001b[39;00m:\n\u001b[0;32m    116\u001b[0m         index \u001b[38;5;241m=\u001b[39m ensure_index(index)\n",
      "File \u001b[1;32mc:\\Users\\xzv22\\.conda\\envs\\mulcam_3_9\\lib\\site-packages\\pandas\\core\\internals\\construction.py:677\u001b[0m, in \u001b[0;36m_extract_index\u001b[1;34m(data)\u001b[0m\n\u001b[0;32m    675\u001b[0m lengths \u001b[38;5;241m=\u001b[39m \u001b[38;5;28mlist\u001b[39m(\u001b[38;5;28mset\u001b[39m(raw_lengths))\n\u001b[0;32m    676\u001b[0m \u001b[38;5;28;01mif\u001b[39;00m \u001b[38;5;28mlen\u001b[39m(lengths) \u001b[38;5;241m>\u001b[39m \u001b[38;5;241m1\u001b[39m:\n\u001b[1;32m--> 677\u001b[0m     \u001b[38;5;28;01mraise\u001b[39;00m \u001b[38;5;167;01mValueError\u001b[39;00m(\u001b[38;5;124m\"\u001b[39m\u001b[38;5;124mAll arrays must be of the same length\u001b[39m\u001b[38;5;124m\"\u001b[39m)\n\u001b[0;32m    679\u001b[0m \u001b[38;5;28;01mif\u001b[39;00m have_dicts:\n\u001b[0;32m    680\u001b[0m     \u001b[38;5;28;01mraise\u001b[39;00m \u001b[38;5;167;01mValueError\u001b[39;00m(\n\u001b[0;32m    681\u001b[0m         \u001b[38;5;124m\"\u001b[39m\u001b[38;5;124mMixing dicts with non-Series may lead to ambiguous ordering.\u001b[39m\u001b[38;5;124m\"\u001b[39m\n\u001b[0;32m    682\u001b[0m     )\n",
      "\u001b[1;31mValueError\u001b[0m: All arrays must be of the same length"
     ]
    }
   ],
   "source": [
    "df = pd.DataFrame({'name':hotels_names_list,'url':hotels_url_list})\n",
    "df"
   ]
  },
  {
   "cell_type": "code",
   "execution_count": null,
   "metadata": {},
   "outputs": [],
   "source": []
  }
 ],
 "metadata": {
  "kernelspec": {
   "display_name": "mulcam_3_9",
   "language": "python",
   "name": "mulcam_3_9"
  },
  "language_info": {
   "codemirror_mode": {
    "name": "ipython",
    "version": 3
   },
   "file_extension": ".py",
   "mimetype": "text/x-python",
   "name": "python",
   "nbconvert_exporter": "python",
   "pygments_lexer": "ipython3",
   "version": "3.9.18"
  }
 },
 "nbformat": 4,
 "nbformat_minor": 2
}
