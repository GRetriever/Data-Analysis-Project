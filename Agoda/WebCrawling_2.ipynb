{
 "cells": [
  {
   "cell_type": "code",
   "execution_count": null,
   "metadata": {},
   "outputs": [],
   "source": [
    "!pip install geopy"
   ]
  },
  {
   "cell_type": "code",
   "execution_count": 281,
   "metadata": {},
   "outputs": [],
   "source": [
    "import re\n",
    "import time\n",
    "import folium\n",
    "import pandas as pd\n",
    "from bs4 import BeautifulSoup\n",
    "from selenium import webdriver\n",
    "from geopy.geocoders import Nominatim\n",
    "from selenium.webdriver.common.by import By\n",
    "from selenium.webdriver.common.keys import Keys\n",
    "from selenium.webdriver.support.ui import Select\n",
    "from selenium.webdriver.chrome.service import Service\n",
    "from selenium.webdriver.support.ui import WebDriverWait\n",
    "from webdriver_manager.chrome import ChromeDriverManager\n",
    "from selenium.common.exceptions import NoSuchElementException\n",
    "from selenium.webdriver.support import expected_conditions as EC\n",
    "from selenium.webdriver.common.action_chains import ActionChains\n",
    "from selenium.common.exceptions import ElementClickInterceptedException"
   ]
  },
  {
   "cell_type": "markdown",
   "metadata": {},
   "source": [
    "5성급 호텔"
   ]
  },
  {
   "cell_type": "code",
   "execution_count": null,
   "metadata": {},
   "outputs": [],
   "source": [
    "df = pd.read_csv('./data/hotel_5star_agoda.csv')\n",
    "df.head()"
   ]
  },
  {
   "cell_type": "code",
   "execution_count": null,
   "metadata": {},
   "outputs": [],
   "source": [
    "df['review'] = None\n",
    "df"
   ]
  },
  {
   "cell_type": "code",
   "execution_count": null,
   "metadata": {},
   "outputs": [],
   "source": [
    "urls = df['hotel_url'].tolist()\n",
    "len(urls)"
   ]
  },
  {
   "cell_type": "code",
   "execution_count": null,
   "metadata": {},
   "outputs": [],
   "source": [
    "driver = webdriver.Chrome(service=Service(ChromeDriverManager().install()))"
   ]
  },
  {
   "cell_type": "code",
   "execution_count": null,
   "metadata": {},
   "outputs": [],
   "source": [
    "reviews = []\n",
    "\n",
    "for i in range(9,11):\n",
    "    # 호텔 url 들어가기 \n",
    "    driver.get(urls[i])\n",
    "    time.sleep(5)\n",
    "    \n",
    "    # 언어 변경\n",
    "    try:\n",
    "        language_dropdown = Select(driver.find_element(By.CSS_SELECTOR, '#reviewFilterSection > div.sc-bdfBwQ.sc-gsTCUz.gdcQLK > div.sc-bdfBwQ.sc-gsTCUz.djZOQg > div > div > label > div.sc-bdfBwQ.sc-gsTCUz.bqqCNI > span > select'))\n",
    "        # driver.find_element(By.XPATH, '//*[@id=\"reviewFilterSection\"]/div[1]/div[3]/span/i[2]').click() #21번 전까지\n",
    "        time.sleep(1)\n",
    "    except ElementClickInterceptedException:\n",
    "        continue\n",
    "    \n",
    "    # \"한국어\"를 선택\n",
    "    try:\n",
    "        language_dropdown.select_by_visible_text(\"한국어\")\n",
    "        # driver.find_element(By.XPATH, '//*[@id=\"reviews-language-filter_list\"]/ul/li[2]').click() # 21번 전까지\n",
    "        time.sleep(1)\n",
    "    except ElementClickInterceptedException:\n",
    "        continue\n",
    "    \n",
    "    while True:\n",
    "        star_elements = driver.find_elements(By.CLASS_NAME, 'Review-comment-leftScore')\n",
    "        review_elements = driver.find_elements(By.CLASS_NAME, 'Review-comment-bodyText')\n",
    "\n",
    "        for star_element, review_element in zip(star_elements, review_elements):\n",
    "            score = star_element.text\n",
    "            review = review_element.text\n",
    "            reviews.append([score, review])\n",
    "\n",
    "        # 페이지 넘기기\n",
    "        try:\n",
    "            driver.find_element('xpath','//*[@id=\"reviewSection\"]/div[4]/div/span[3]/i').click()\n",
    "            time.sleep(1)\n",
    "        except ElementClickInterceptedException:\n",
    "            # 다음 페이지가 없으면 while 루프 종료\n",
    "            break\n",
    "        except NoSuchElementException:\n",
    "            break\n",
    "        \n",
    "    df.at[i,'review'] = reviews\n",
    "    reviews = []\n",
    "    \n",
    "    time.sleep(160)\n",
    "    continue"
   ]
  },
  {
   "cell_type": "code",
   "execution_count": null,
   "metadata": {},
   "outputs": [],
   "source": [
    "for i in range(len(urls)):\n",
    "    review_column = df.iloc[i]['review']\n",
    "    \n",
    "    if review_column is not None:\n",
    "        print(f'{i}번째 : ', len(review_column))\n",
    "    else:\n",
    "        print(f'{i}번째 : None.')"
   ]
  },
  {
   "cell_type": "code",
   "execution_count": null,
   "metadata": {},
   "outputs": [],
   "source": [
    "df.to_csv('./data/hotel_5star_agoda_add.csv',index=False,encoding='utf-8')"
   ]
  },
  {
   "cell_type": "markdown",
   "metadata": {},
   "source": [
    "=========================================\n",
    "\n",
    "\n",
    "4성급 호텔\n"
   ]
  },
  {
   "cell_type": "code",
   "execution_count": null,
   "metadata": {},
   "outputs": [],
   "source": [
    "df_4star = pd.read_csv('./data/hotel_4star_agoda.csv')\n",
    "df_4star.head()"
   ]
  },
  {
   "cell_type": "code",
   "execution_count": null,
   "metadata": {},
   "outputs": [],
   "source": [
    "df_4star['review'] = None\n",
    "df_4star.tail()"
   ]
  },
  {
   "cell_type": "code",
   "execution_count": null,
   "metadata": {},
   "outputs": [],
   "source": [
    "urls = df_4star['hotel_url'].tolist()\n",
    "len(urls)"
   ]
  },
  {
   "cell_type": "code",
   "execution_count": null,
   "metadata": {},
   "outputs": [],
   "source": [
    "reviews = []\n",
    "\n",
    "a = 105\n",
    "b = 105\n",
    "l = len(urls)\n",
    "\n",
    "for i in range(a,l):\n",
    "    # 호텔 url 들어가기 \n",
    "    driver.get(urls[i])\n",
    "    time.sleep(5)\n",
    "    \n",
    "    # 언어 변경\n",
    "    try:\n",
    "        language_dropdown = Select(driver.find_element(By.CSS_SELECTOR, '#reviewFilterSection > div.sc-bdfBwQ.sc-gsTCUz.gdcQLK > div.sc-bdfBwQ.sc-gsTCUz.djZOQg > div > div > label > div.sc-bdfBwQ.sc-gsTCUz.bqqCNI > span > select'))\n",
    "        # driver.find_element(By.XPATH, '//*[@id=\"reviewFilterSection\"]/div[1]/div[3]/span').click() #21번 전까지\n",
    "        time.sleep(1)\n",
    "    except ElementClickInterceptedException:\n",
    "        continue\n",
    "\n",
    "    # \"한국어\"를 선택\n",
    "    try:\n",
    "        language_dropdown.select_by_visible_text(\"한국어\")\n",
    "        # driver.find_element(By.XPATH, '//*[@id=\"reviews-language-filter_list\"]/ul/li[3]').click() # 21번 전까지\n",
    "        time.sleep(1)\n",
    "    except ElementClickInterceptedException:\n",
    "        continue\n",
    "    \n",
    "    while True:\n",
    "        star_elements = driver.find_elements(By.CLASS_NAME, 'Review-comment-leftScore')\n",
    "        review_elements = driver.find_elements(By.CLASS_NAME, 'Review-comment-bodyText')\n",
    "\n",
    "        for star_element, review_element in zip(star_elements, review_elements):\n",
    "            score = star_element.text\n",
    "            review = review_element.text\n",
    "            reviews.append([score, review])\n",
    "\n",
    "        # 페이지 넘기기\n",
    "        try:\n",
    "            driver.find_element('xpath','//*[@id=\"reviewSection\"]/div[4]/div/span[3]/i').click()\n",
    "            time.sleep(1)\n",
    "        except ElementClickInterceptedException:\n",
    "            # 다음 페이지가 없으면 while 루프 종료\n",
    "            break\n",
    "        except NoSuchElementException:\n",
    "            break\n",
    "        \n",
    "    df_4star.at[i,'review'] = reviews\n",
    "    reviews = []\n",
    "    \n",
    "    time.sleep(120)"
   ]
  },
  {
   "cell_type": "code",
   "execution_count": null,
   "metadata": {},
   "outputs": [],
   "source": [
    "for i in range(len(urls)):\n",
    "    review_column = df_4star.iloc[i]['review']\n",
    "    \n",
    "    if review_column is not None:\n",
    "        print(f'{i}번째 : ', len(review_column))\n",
    "    else:\n",
    "        print(f'{i}번째 : None.')"
   ]
  },
  {
   "cell_type": "code",
   "execution_count": null,
   "metadata": {},
   "outputs": [],
   "source": [
    "df_4star.to_csv('./data/hotel_4star_agoda_add.csv',index=False,encoding='utf-8')"
   ]
  },
  {
   "cell_type": "markdown",
   "metadata": {},
   "source": [
    "=======================\n",
    "\n",
    "3성급"
   ]
  },
  {
   "cell_type": "code",
   "execution_count": null,
   "metadata": {},
   "outputs": [],
   "source": [
    "df_3star = pd.read_csv('./data/hotel_3star_agoda.csv')"
   ]
  },
  {
   "cell_type": "code",
   "execution_count": null,
   "metadata": {},
   "outputs": [],
   "source": [
    "df_3star['review'] = None"
   ]
  },
  {
   "cell_type": "code",
   "execution_count": null,
   "metadata": {},
   "outputs": [],
   "source": [
    "urls = df_3star['hotel_url'].tolist()"
   ]
  },
  {
   "cell_type": "code",
   "execution_count": null,
   "metadata": {},
   "outputs": [],
   "source": [
    "reviews = []\n",
    "\n",
    "a = 113\n",
    "b = 60\n",
    "l = len(urls)\n",
    "\n",
    "for i in range(l-1,l):\n",
    "    # 호텔 url 들어가기 \n",
    "    driver.get(urls[i])\n",
    "    time.sleep(5)\n",
    "    \n",
    "    \n",
    "    # 언어 변경\n",
    "    try:\n",
    "        language_dropdown = Select(driver.find_element(By.CSS_SELECTOR, '#reviewFilterSection > div.sc-bdfBwQ.sc-gsTCUz.gdcQLK > div.sc-bdfBwQ.sc-gsTCUz.djZOQg > div > div > label > div.sc-bdfBwQ.sc-gsTCUz.bqqCNI > span > select'))\n",
    "        # driver.find_element(By.XPATH, '//*[@id=\"reviewFilterSection\"]/div[1]/div[3]/span').click() #21번 전까지\n",
    "        time.sleep(1)\n",
    "    except ElementClickInterceptedException:\n",
    "        continue\n",
    "\n",
    "    # \"한국어\"를 선택\n",
    "    try:\n",
    "        language_dropdown.select_by_visible_text(\"한국어\")\n",
    "        # driver.find_element(By.XPATH, '//*[@id=\"reviews-language-filter_list\"]/ul/li[3]').click() # 21번 전까지\n",
    "        time.sleep(1)\n",
    "    except ElementClickInterceptedException:\n",
    "        continue\n",
    "    \n",
    "    while True:\n",
    "        star_elements = driver.find_elements(By.CLASS_NAME, 'Review-comment-leftScore')\n",
    "        review_elements = driver.find_elements(By.CLASS_NAME, 'Review-comment-bodyText')\n",
    "\n",
    "        for star_element, review_element in zip(star_elements, review_elements):\n",
    "            score = star_element.text\n",
    "            review = review_element.text\n",
    "            reviews.append([score, review])\n",
    "\n",
    "        # 페이지 넘기기\n",
    "        try:\n",
    "            driver.find_element('xpath','//*[@id=\"reviewSection\"]/div[4]/div/span[3]/i').click()\n",
    "            time.sleep(1)\n",
    "        except ElementClickInterceptedException:\n",
    "            # 다음 페이지가 없으면 while 루프 종료\n",
    "            break\n",
    "        except NoSuchElementException:\n",
    "            break\n",
    "        \n",
    "    df_3star.at[i,'review'] = reviews\n",
    "    reviews = []\n",
    "    \n",
    "    time.sleep(120)"
   ]
  },
  {
   "cell_type": "code",
   "execution_count": null,
   "metadata": {},
   "outputs": [],
   "source": [
    "for i in range(61,len(urls)):\n",
    "    # 호텔 url 들어가기 \n",
    "    driver.get(urls[i])\n",
    "    time.sleep(2)\n",
    "    \n",
    "    # 홈페이지 총점 가져오기\n",
    "    stars = float(driver.find_element('xpath','//*[@id=\"property-critical-root\"]/div/div[5]/div[2]/div[1]/div[1]/div/div[1]/div/div/div/div/div/div/p[1]').text)\n",
    "    df_3star.at[i,'hotel_rate'] = stars\n",
    "        \n",
    "    # 주소\n",
    "    address = driver.find_element('xpath','//*[@id=\"property-main-content\"]/div[1]/div[2]/div[2]/span[1]').text\n",
    "    df_3star.at[i,'hotel_location'] = address\n",
    "    \n",
    "    \n",
    "    # 성급\n",
    "    star = driver.find_elements(By.CSS_SELECTOR,\n",
    "                                    \"#property-main-content > div.Box-sc-kv6pi1-0.cJiLOx.sc-gGmIRh.iyCRmc > div.HeaderCerebrum > div:nth-child(1) > div > span\")\n",
    "    if star:\n",
    "        df_3star.at[i, \"hotel_star\"] = star[0].get_attribute('aria-label')\n",
    "    else:\n",
    "        df_3star.at[i, \"hotel_star\"] = None\n"
   ]
  },
  {
   "cell_type": "code",
   "execution_count": null,
   "metadata": {},
   "outputs": [],
   "source": [
    "for i in range(len(urls)):\n",
    "    review_column = df_3star.iloc[i]['review']\n",
    "    \n",
    "    if review_column is not None:\n",
    "        print(f'{i}번째 : ', len(review_column))\n",
    "    else:\n",
    "        print(f'{i}번째 : None.')"
   ]
  },
  {
   "cell_type": "code",
   "execution_count": null,
   "metadata": {},
   "outputs": [],
   "source": [
    "df_3star.to_csv('./data/hotel_3star_agoda_add.csv',index=False,encoding='utf-8')"
   ]
  },
  {
   "cell_type": "markdown",
   "metadata": {},
   "source": [
    "===========================================================\n",
    "\n",
    "주소 변경"
   ]
  },
  {
   "cell_type": "code",
   "execution_count": null,
   "metadata": {},
   "outputs": [],
   "source": [
    "five_hotel = pd.read_csv('./data/hotel_5star_agoda_add.csv')\n",
    "four_hotel = pd.read_csv('./data/hotel_4star_agoda_add.csv')\n",
    "three_hotel = pd.read_csv('./data/hotel_3star_agoda_add.csv')\n",
    "\n",
    "five_hotel = five_hotel[['hotel_name','hotel_location']]\n",
    "four_hotel = four_hotel[['hotel_name','hotel_location']]\n",
    "three_hotel = three_hotel[['hotel_name','hotel_location']]"
   ]
  },
  {
   "cell_type": "code",
   "execution_count": null,
   "metadata": {},
   "outputs": [],
   "source": [
    "def remove_parentheses(hotel_name):\n",
    "    return re.sub(r'\\([^)]*\\)', '', hotel_name)\n",
    "\n",
    "# 'Hotel_Name' 컬럼에 함수 적용\n",
    "five_hotel['hotel_name'] = five_hotel['hotel_name'].apply(remove_parentheses)\n",
    "four_hotel['hotel_name'] = four_hotel['hotel_name'].apply(remove_parentheses)\n",
    "three_hotel['hotel_name'] = three_hotel['hotel_name'].apply(remove_parentheses)"
   ]
  },
  {
   "cell_type": "code",
   "execution_count": null,
   "metadata": {},
   "outputs": [],
   "source": [
    "five_hotel_address = five_hotel['hotel_location'].tolist()\n",
    "four_hotel_address = five_hotel['hotel_location'].tolist()\n",
    "three_hotel_address = five_hotel['hotel_location'].tolist()\n"
   ]
  },
  {
   "cell_type": "markdown",
   "metadata": {},
   "source": [
    "5성급 주소 변경"
   ]
  },
  {
   "cell_type": "code",
   "execution_count": null,
   "metadata": {},
   "outputs": [],
   "source": [
    "actions = ActionChains(driver)"
   ]
  },
  {
   "cell_type": "code",
   "execution_count": null,
   "metadata": {},
   "outputs": [],
   "source": [
    "driver = webdriver.Chrome(service=Service(ChromeDriverManager().install()))"
   ]
  },
  {
   "cell_type": "code",
   "execution_count": null,
   "metadata": {},
   "outputs": [],
   "source": [
    "urlurl = 'https://www.naver.com'\n",
    "driver.get(urlurl)"
   ]
  },
  {
   "cell_type": "code",
   "execution_count": null,
   "metadata": {},
   "outputs": [],
   "source": [
    "a = 0\n",
    "l = len(five_hotel['hotel_name'])\n",
    "\n",
    "for i in range(a,l):\n",
    "    try:\n",
    "        driver.find_element('xpath','//*[@id=\"nx_search_form\"]/fieldset/button/i').click()\n",
    "        time.sleep(1)\n",
    "        driver.find_element('xpath','//*[@id=\"nx_query\"]').clear()\n",
    "        driver.find_element('xpath','//*[@id=\"nx_query\"]').send_keys(five_hotel.iloc[i]['hotel_name'])\n",
    "        time.sleep(1)\n",
    "        new = driver.find_element('xpath','//*[@id=\"place-main-section-root\"]/section[1]/div/div[3]/div/div/div[1]/div/a/span[1]').text\n",
    "        five_hotel.at[i,'hotel_location'] = new\n",
    "        time.sleep(1)\n",
    "    except:\n",
    "        continue\n",
    "    "
   ]
  },
  {
   "cell_type": "code",
   "execution_count": null,
   "metadata": {},
   "outputs": [],
   "source": [
    "five_hotel.at[0,'hotel_location'] = '서울특별시 광진구 워커힐로 177'\n",
    "five_hotel.at[6,'hotel_location'] = '서울 광진구 워커힐로 177 비스타 워커힐 서울 1층'\n",
    "five_hotel.at[17,'hotel_location'] = '서울특별시 송파구 올림픽로 300'\n",
    "five_hotel.at[34,'hotel_location'] = '서울특별시 종로구 청계천로 279'\n",
    "\n",
    "five_hotel.at[5,'hotel_location'] = ''"
   ]
  },
  {
   "cell_type": "code",
   "execution_count": null,
   "metadata": {},
   "outputs": [],
   "source": [
    "for i in range(len(five_hotel['hotel_location'])):\n",
    "    location = five_hotel.iloc[i]['hotel_location']\n",
    "    \n",
    "    if isinstance(location, str):\n",
    "        a = location.split(' ')\n",
    "        five_hotel.at[i, 'hotel_location'] = \" \".join(a[0:4])\n",
    "    else:\n",
    "        print(f\"{i}번째 : {location}\")\n"
   ]
  },
  {
   "cell_type": "code",
   "execution_count": null,
   "metadata": {},
   "outputs": [],
   "source": [
    "five_hotel"
   ]
  },
  {
   "cell_type": "markdown",
   "metadata": {},
   "source": [
    "4성급 주소 변경"
   ]
  },
  {
   "cell_type": "code",
   "execution_count": null,
   "metadata": {},
   "outputs": [],
   "source": [
    "a = 0\n",
    "l = len(four_hotel['hotel_name'])\n",
    "\n",
    "for i in range(a,l):\n",
    "    try:\n",
    "        driver.find_element('xpath','//*[@id=\"nx_query\"]').clear()\n",
    "        driver.find_element('xpath','//*[@id=\"nx_query\"]').send_keys(four_hotel.iloc[i]['hotel_name'])\n",
    "        time.sleep(1)\n",
    "        driver.find_element('xpath','//*[@id=\"nx_search_form\"]/fieldset/button/i').click()\n",
    "        time.sleep(1)\n",
    "        new = driver.find_element('xpath','//*[@id=\"place-main-section-root\"]/section[1]/div/div[3]/div/div/div[1]/div/a/span[1]').text\n",
    "        four_hotel.at[i,'hotel_location'] = new\n",
    "        time.sleep(1)\n",
    "    except:\n",
    "        continue\n",
    "    "
   ]
  },
  {
   "cell_type": "code",
   "execution_count": null,
   "metadata": {},
   "outputs": [],
   "source": [
    "four_hotel.at[23,'hotel_location'] = '서울특별시 동작구 상도로 120'\n",
    "four_hotel.at[58,'hotel_location'] = '서울특별시 중구 장충단로13길 20'\n",
    "four_hotel.at[68,'hotel_location'] = '서울특별시 구로구 신도림동 432-30'\n",
    "four_hotel.at[75,'hotel_location'] = '서울특별시 영등포구 양평로 132'\n",
    "four_hotel.at[82,'hotel_location'] = '서울특별시 중구 동호로 335'\n",
    "four_hotel.at[86,'hotel_location'] = '서울특별시 중구 명동9길 16'\n",
    "four_hotel.at[88,'hotel_location'] = '서울특별시 강남구 도산대로 203'\n",
    "four_hotel.at[90,'hotel_location'] = '서울특별시 중구 명동7가길 22'"
   ]
  },
  {
   "cell_type": "code",
   "execution_count": null,
   "metadata": {},
   "outputs": [],
   "source": [
    "for i in range(len(four_hotel['hotel_location'])):\n",
    "    location = four_hotel.iloc[i]['hotel_location']\n",
    "    \n",
    "    if isinstance(location, str):\n",
    "        a = location.split(' ')\n",
    "        four_hotel.at[i, 'hotel_location'] = \" \".join(a[0:4])\n",
    "    else:\n",
    "        print(f\"{i}번째 : {location}\")\n"
   ]
  },
  {
   "cell_type": "markdown",
   "metadata": {},
   "source": [
    "3성급 주소 변경"
   ]
  },
  {
   "cell_type": "code",
   "execution_count": null,
   "metadata": {},
   "outputs": [],
   "source": [
    "a = 0\n",
    "l = len(three_hotel['hotel_name'])\n",
    "\n",
    "for i in range(a,l):\n",
    "    try:\n",
    "        driver.find_element('xpath','//*[@id=\"nx_query\"]').clear()\n",
    "        driver.find_element('xpath','//*[@id=\"nx_query\"]').send_keys(three_hotel.iloc[i]['hotel_name'])\n",
    "        time.sleep(1)\n",
    "        driver.find_element('xpath','//*[@id=\"nx_search_form\"]/fieldset/button/i').click()\n",
    "        time.sleep(1)\n",
    "        new = driver.find_element('xpath','//*[@id=\"place-main-section-root\"]/section[1]/div/div[3]/div/div/div[1]/div/a/span[1]').text\n",
    "        three_hotel.at[i,'hotel_location'] = new\n",
    "        time.sleep(3)\n",
    "    except:\n",
    "        continue"
   ]
  },
  {
   "cell_type": "code",
   "execution_count": null,
   "metadata": {},
   "outputs": [],
   "source": [
    "three_hotel.at[14,'hotel_location'] = '서울특별시 용산구 한강대로 305'\n",
    "three_hotel.at[21,'hotel_location'] ='서울특별시 중구 동호로 354'\n",
    "three_hotel.at[44,'hotel_location'] = '서울 관악구 남부순환로 1458'\n",
    "three_hotel.at[51,'hotel_location'] = '서울특별시 강남구 역삼동 701-1'\n",
    "three_hotel.at[59,'hotel_location'] = '서울특별시 중구 명동8가길 49'\n",
    "three_hotel.at[60,'hotel_location'] = '서울특별시 성북구 동소문로20나길 39'\n",
    "three_hotel.at[61,'hotel_location'] = '서울 종로구 창경궁로 106'\n",
    "three_hotel.at[63,'hotel_location'] = '서울특별시 중구 퇴계로 337'\n",
    "three_hotel.at[68,'hotel_location'] = '서울 종로구 삼일대로30길 9'\n",
    "three_hotel.at[79,'hotel_location'] = '서울특별시 성동구 도선동 72'\n",
    "three_hotel.at[80,'hotel_location'] = '서울특별시 서초구 나루터로 64'\n",
    "three_hotel.at[84,'hotel_location'] = '서울특별시 영등포구 영등포동3가 12-22'\n",
    "three_hotel.at[85,'hotel_location'] = '서울특별시 송파구 올림픽로32길 7'\n",
    "three_hotel.at[88,'hotel_location'] = '서울특별시 중구 만리동1가 33-1'\n",
    "three_hotel.at[89,'hotel_location'] = '서울특별시 중구 장충단로 198'\n",
    "three_hotel.at[91,'hotel_location'] = '서울특별시 동대문구 천호대로 377'\n",
    "three_hotel.at[95,'hotel_location'] = '서울특별시 중구 명동9길 22'\n",
    "three_hotel.at[108,'hotel_location'] = '서울특별시 중구 퇴계로 107'\n",
    "three_hotel.at[113,'hotel_location'] = '서울 종로구 청계천로 137'\n",
    "three_hotel.at[118,'hotel_location'] = '서울특별시 중구 퇴계로 139'\n",
    "three_hotel.at[126,'hotel_location'] = '서울특별시 중구 퇴계로12길 39-8'\n",
    "three_hotel.at[129,'hotel_location'] = '서울특별시 중구 명동8나길 38'\n",
    "three_hotel.at[132,'hotel_location'] = '서울특별시 중구 세종대로22길 12'\n",
    "three_hotel.at[133,'hotel_location'] = '서울 종로구 돈화문로9길 29'\n",
    "three_hotel.at[134,'hotel_location'] = '서울특별시 노원구 상계6.7동 702-1'\n",
    "three_hotel.at[146,'hotel_location'] = '서울특별시 금천구 독산동 1008-10'\n",
    "three_hotel.at[147,'hotel_location'] = '서울특별시 중구 다동 130'"
   ]
  },
  {
   "cell_type": "code",
   "execution_count": null,
   "metadata": {},
   "outputs": [],
   "source": [
    "for i in range(len(three_hotel['hotel_location'])):\n",
    "    location = three_hotel.iloc[i]['hotel_location']\n",
    "    \n",
    "    if isinstance(location, str):\n",
    "        a = location.split(' ')\n",
    "        three_hotel.at[i, 'hotel_location'] = \" \".join(a[0:4])\n",
    "    else:\n",
    "        print(f\"{i}번째 : {location}\")"
   ]
  },
  {
   "cell_type": "code",
   "execution_count": null,
   "metadata": {},
   "outputs": [],
   "source": [
    "five_hotel.to_csv('./data/five_hotel.csv',index=False,encoding='utf-8')\n",
    "four_hotel.to_csv('./data/four_hotel.csv',index=False,encoding='utf-8')\n",
    "three_hotel.to_csv('./data/three_hotel.csv',index=False,encoding='utf-8')"
   ]
  },
  {
   "cell_type": "markdown",
   "metadata": {},
   "source": [
    "위도 경도 변경"
   ]
  },
  {
   "cell_type": "code",
   "execution_count": null,
   "metadata": {},
   "outputs": [],
   "source": [
    "five_df = pd.read_csv('./data/five_hotel.csv')\n",
    "four_df = pd.read_csv('./data/four_hotel.csv')\n",
    "three_df = pd.read_csv('./data/three_hotel.csv')"
   ]
  },
  {
   "cell_type": "code",
   "execution_count": null,
   "metadata": {},
   "outputs": [],
   "source": [
    "five_df.at[5,'hotel_location'] = None\n",
    "four_df.at[6,'hotel_location'] = None\n",
    "three_df.at[5,'hotel_location'] = None"
   ]
  },
  {
   "cell_type": "code",
   "execution_count": null,
   "metadata": {},
   "outputs": [],
   "source": [
    "####### 도로명주소 위도 경도 값으로 바꿔주기 ########\n",
    "\n",
    "geo_local = Nominatim(user_agent='South Korea')\n",
    "\n",
    "# 위도, 경도 반환하는 함수\n",
    "def geocoding(address):\n",
    "    try:\n",
    "        geo = geo_local.geocode(address)\n",
    "        x_y = [geo.latitude, geo.longitude]\n",
    "        return x_y\n",
    "\n",
    "    except:\n",
    "        return [0,0]"
   ]
  },
  {
   "cell_type": "code",
   "execution_count": null,
   "metadata": {},
   "outputs": [],
   "source": [
    "five_latitude = []\n",
    "five_longitude =[]\n",
    "\n",
    "for i in five_df['hotel_location'].tolist():\n",
    "    if i is not None:\n",
    "        five_latitude.append(geocoding(i)[0])\n",
    "        five_longitude.append(geocoding(i)[1])\n",
    "    else:\n",
    "        five_latitude.append('')\n",
    "        five_longitude.append('')"
   ]
  },
  {
   "cell_type": "code",
   "execution_count": null,
   "metadata": {},
   "outputs": [],
   "source": [
    "four_latitude = []\n",
    "four_longitude =[]\n",
    "\n",
    "for i in four_df['hotel_location'].tolist():\n",
    "    if i is not None:\n",
    "        four_latitude.append(geocoding(i)[0])\n",
    "        four_longitude.append(geocoding(i)[1])\n",
    "    else:\n",
    "        four_latitude.append('')\n",
    "        four_longitude.append('')"
   ]
  },
  {
   "cell_type": "code",
   "execution_count": null,
   "metadata": {},
   "outputs": [],
   "source": [
    "three_latitude = []\n",
    "three_longitude =[]\n",
    "\n",
    "for i in three_df['hotel_location'].tolist():\n",
    "    if i is not None:\n",
    "        three_latitude.append(geocoding(i)[0])\n",
    "        three_longitude.append(geocoding(i)[1])\n",
    "    else:\n",
    "        three_latitude.append('')\n",
    "        three_longitude.append('')"
   ]
  },
  {
   "cell_type": "code",
   "execution_count": null,
   "metadata": {},
   "outputs": [],
   "source": [
    "for i,lat in enumerate(four_latitude):\n",
    "    if lat == 0:\n",
    "        print(i)"
   ]
  },
  {
   "cell_type": "markdown",
   "metadata": {},
   "source": [
    "지도 표시"
   ]
  },
  {
   "cell_type": "code",
   "execution_count": null,
   "metadata": {},
   "outputs": [],
   "source": [
    "seoul_map = folium.Map(location=[37.5,127],zoom_start=12)"
   ]
  },
  {
   "cell_type": "code",
   "execution_count": null,
   "metadata": {},
   "outputs": [],
   "source": [
    "for i in range(len(four_df['hotel_location'])):\n",
    "    if four_latitude[i] == 0 or four_latitude[i] == '':\n",
    "        continue\n",
    "    else:\n",
    "        folium.Marker(\n",
    "            [four_latitude[i],four_longitude[i]],\n",
    "            popup=folium.Popup(four_df.iloc[i]['hotel_name'],maxWidth=300),\n",
    "            fill_opacity=0.5,\n",
    "            icon=folium.Icon(color='blue')            \n",
    "            ).add_to(seoul_map)"
   ]
  },
  {
   "cell_type": "code",
   "execution_count": null,
   "metadata": {},
   "outputs": [],
   "source": [
    "for i in range(len(five_df['hotel_location'])):\n",
    "    if five_latitude[i] == 0 or five_latitude[i] == '':\n",
    "        continue\n",
    "    else:\n",
    "        folium.Marker(\n",
    "            [five_latitude[i],five_longitude[i]],\n",
    "            popup=folium.Popup(five_df.iloc[i]['hotel_name'],maxWidth=300),\n",
    "            fill_opacity=0.5,\n",
    "            icon=folium.Icon(color='green')            \n",
    "            ).add_to(seoul_map)"
   ]
  },
  {
   "cell_type": "code",
   "execution_count": null,
   "metadata": {},
   "outputs": [],
   "source": [
    "for i in range(len(three_df['hotel_location'])):\n",
    "    if three_latitude[i] == 0 or three_latitude[i] == '':\n",
    "        continue\n",
    "    else:\n",
    "        folium.Marker(\n",
    "            [three_latitude[i],three_longitude[i]],\n",
    "            popup=folium.Popup(three_df.iloc[i]['hotel_name'],maxWidth=300),\n",
    "            fill_opacity=0.5,\n",
    "            icon=folium.Icon(color='darkred')            \n",
    "            ).add_to(seoul_map)"
   ]
  },
  {
   "cell_type": "markdown",
   "metadata": {},
   "source": [
    "EDA"
   ]
  },
  {
   "cell_type": "code",
   "execution_count": 190,
   "metadata": {},
   "outputs": [],
   "source": [
    "# 파일 불러오기\n",
    "hotel_5star_agoda_add = pd.read_csv('./data/hotel_5star_agoda_add.csv')\n",
    "hotel_4star_agoda_add = pd.read_csv('./data/hotel_4star_agoda_add.csv')\n",
    "hotel_3star_agoda_add = pd.read_csv('./data/hotel_3star_agoda_add.csv')\n",
    "\n",
    "five_star_address = pd.read_csv('./data/five_hotel.csv')\n",
    "four_star_address = pd.read_csv('./data/four_hotel.csv')\n",
    "three_star_address = pd.read_csv('./data/three_hotel.csv')"
   ]
  },
  {
   "cell_type": "code",
   "execution_count": null,
   "metadata": {},
   "outputs": [],
   "source": [
    "hotel_3star_agoda_add"
   ]
  },
  {
   "cell_type": "code",
   "execution_count": 191,
   "metadata": {},
   "outputs": [],
   "source": [
    "hotel_5star_agoda_add['hotel_location'] = five_star_address['hotel_location']\n",
    "hotel_4star_agoda_add['hotel_location'] = four_star_address['hotel_location']\n",
    "hotel_3star_agoda_add['hotel_location'] = three_star_address['hotel_location']"
   ]
  },
  {
   "cell_type": "code",
   "execution_count": 192,
   "metadata": {},
   "outputs": [],
   "source": [
    "# 파일 합치기\n",
    "# 주소 정리된 파일 따로 있음\n",
    "hotels = pd.concat([hotel_5star_agoda_add, hotel_4star_agoda_add, hotel_3star_agoda_add], ignore_index=True)"
   ]
  },
  {
   "cell_type": "code",
   "execution_count": 284,
   "metadata": {},
   "outputs": [],
   "source": [
    "hotels.to_csv('./data/hotels.csv',index=False,encoding='utf-8')"
   ]
  },
  {
   "cell_type": "code",
   "execution_count": 193,
   "metadata": {},
   "outputs": [],
   "source": [
    "hotels.at[162,'hotel_location'] = '서울특별시 용산구 한강대로 305'\n",
    "hotels.at[169,'hotel_location'] ='서울특별시 중구 동호로 354'"
   ]
  },
  {
   "cell_type": "code",
   "execution_count": 194,
   "metadata": {},
   "outputs": [],
   "source": [
    "hotels = hotels.drop(271,axis=0)"
   ]
  },
  {
   "cell_type": "code",
   "execution_count": null,
   "metadata": {},
   "outputs": [],
   "source": [
    "hotels.info()"
   ]
  },
  {
   "cell_type": "code",
   "execution_count": null,
   "metadata": {},
   "outputs": [],
   "source": [
    "hotels.isnull().sum()"
   ]
  },
  {
   "cell_type": "code",
   "execution_count": null,
   "metadata": {},
   "outputs": [],
   "source": [
    "hotels.nunique()"
   ]
  },
  {
   "cell_type": "code",
   "execution_count": null,
   "metadata": {},
   "outputs": [],
   "source": [
    "set(hotels['hotel_star'].tolist())"
   ]
  },
  {
   "cell_type": "code",
   "execution_count": 195,
   "metadata": {},
   "outputs": [],
   "source": [
    "# 성급 하나로 통일해주기\n",
    "hotels['hotel_star'] = hotels['hotel_star'].replace({'4.5성급': '4성급'})\n",
    "hotels['hotel_star'] = hotels['hotel_star'].replace({'3.5성급': '3성급'})"
   ]
  },
  {
   "cell_type": "code",
   "execution_count": null,
   "metadata": {},
   "outputs": [],
   "source": [
    "hotels[hotels['review'].isnull()]"
   ]
  },
  {
   "cell_type": "code",
   "execution_count": 197,
   "metadata": {},
   "outputs": [],
   "source": [
    "hotels = hotels.dropna(subset=['review'])"
   ]
  },
  {
   "cell_type": "code",
   "execution_count": null,
   "metadata": {},
   "outputs": [],
   "source": [
    "hotels.isnull().sum()"
   ]
  },
  {
   "cell_type": "code",
   "execution_count": 165,
   "metadata": {},
   "outputs": [],
   "source": [
    "import seaborn as sns\n",
    "from matplotlib import pyplot as plt\n",
    "\n",
    "plt.rc('font',family = 'Malgun Gothic')"
   ]
  },
  {
   "cell_type": "markdown",
   "metadata": {},
   "source": [
    "호텔 성급 별"
   ]
  },
  {
   "cell_type": "code",
   "execution_count": null,
   "metadata": {},
   "outputs": [],
   "source": [
    "hotels['hotel_star'].value_counts()"
   ]
  },
  {
   "cell_type": "code",
   "execution_count": 270,
   "metadata": {},
   "outputs": [
    {
     "name": "stderr",
     "output_type": "stream",
     "text": [
      "C:\\Users\\xzv22\\AppData\\Local\\Temp\\ipykernel_13616\\557135837.py:1: FutureWarning: \n",
      "\n",
      "Passing `palette` without assigning `hue` is deprecated and will be removed in v0.14.0. Assign the `x` variable to `hue` and set `legend=False` for the same effect.\n",
      "\n",
      "  sns.countplot(\n"
     ]
    },
    {
     "data": {
      "text/plain": [
       "Text(2, 144, '144')"
      ]
     },
     "execution_count": 270,
     "metadata": {},
     "output_type": "execute_result"
    },
    {
     "data": {
      "image/png": "[encoded data removed]",
      "text/plain": [
       "<Figure size 640x480 with 1 Axes>"
      ]
     },
     "metadata": {},
     "output_type": "display_data"
    }
   ],
   "source": [
    "sns.countplot(\n",
    "    data = hotels,\n",
    "    x = 'hotel_star',\n",
    "    palette = 'pastel'\n",
    ")\n",
    "plt.title('Count Stars')\n",
    "plt.text(0,37,37,ha='center')\n",
    "plt.text(1,108,108,ha='center')\n",
    "plt.text(2,144,144,ha='center')"
   ]
  },
  {
   "cell_type": "code",
   "execution_count": 272,
   "metadata": {},
   "outputs": [
    {
     "data": {
      "text/plain": [
       "Text(2, 8.154, '8.154')"
      ]
     },
     "execution_count": 272,
     "metadata": {},
     "output_type": "execute_result"
    },
    {
     "data": {
      "image/png": "[encoded data removed]",
      "text/plain": [
       "<Figure size 640x480 with 1 Axes>"
      ]
     },
     "metadata": {},
     "output_type": "display_data"
    }
   ],
   "source": [
    "mean = hotels.groupby('hotel_star')['hotel_rate'].mean().sort_values(ascending=False)\n",
    "\n",
    "sns.barplot(\n",
    "    x = mean.index,\n",
    "    y = mean.values\n",
    ")\n",
    "plt.title('Average Rate by Stars')\n",
    "plt.text(0,8.816,8.816,fontsize=12,ha='center')\n",
    "plt.text(1,8.534,8.534,fontsize=12,ha='center')\n",
    "plt.text(2,8.154,8.154,fontsize=12,ha='center')"
   ]
  },
  {
   "cell_type": "code",
   "execution_count": 273,
   "metadata": {},
   "outputs": [
    {
     "data": {
      "text/plain": [
       "<Axes: xlabel='hotel_star', ylabel='hotel_rate'>"
      ]
     },
     "execution_count": 273,
     "metadata": {},
     "output_type": "execute_result"
    },
    {
     "data": {
      "image/png": "[encoded data removed]",
      "text/plain": [
       "<Figure size 640x480 with 1 Axes>"
      ]
     },
     "metadata": {},
     "output_type": "display_data"
    }
   ],
   "source": [
    "sns.boxplot(\n",
    "    data = hotels,\n",
    "    x = 'hotel_star',\n",
    "    y = 'hotel_rate'\n",
    ")"
   ]
  },
  {
   "cell_type": "code",
   "execution_count": 274,
   "metadata": {},
   "outputs": [],
   "source": [
    "hotels['gu'] = hotels['hotel_location'].str.split(' ', expand=True)[1]\n"
   ]
  },
  {
   "cell_type": "code",
   "execution_count": null,
   "metadata": {},
   "outputs": [],
   "source": [
    "hotels['gu'].value_counts()"
   ]
  },
  {
   "cell_type": "code",
   "execution_count": 276,
   "metadata": {},
   "outputs": [
    {
     "data": {
      "text/plain": [
       "Text(0.5, 1.0, 'Number by District')"
      ]
     },
     "execution_count": 276,
     "metadata": {},
     "output_type": "execute_result"
    },
    {
     "data": {
      "image/png": "[encoded data removed]",
      "text/plain": [
       "<Figure size 700x700 with 1 Axes>"
      ]
     },
     "metadata": {},
     "output_type": "display_data"
    }
   ],
   "source": [
    "plt.figure(figsize=(7,7))\n",
    "plt.pie(\n",
    "    hotels['gu'].value_counts(),\n",
    "    labels = hotels['gu'].value_counts().index,\n",
    "    autopct='%1.1f%%'\n",
    "    )\n",
    "plt.title('Number by District')"
   ]
  },
  {
   "cell_type": "code",
   "execution_count": 277,
   "metadata": {},
   "outputs": [
    {
     "data": {
      "image/png": "[encoded data removed]",
      "text/plain": [
       "<Figure size 1000x500 with 1 Axes>"
      ]
     },
     "metadata": {},
     "output_type": "display_data"
    }
   ],
   "source": [
    "plt.figure(figsize=(10,5))\n",
    "sns.barplot(\n",
    "    hotels['gu'].value_counts()\n",
    "    )\n",
    "_=plt.xticks(rotation=45)"
   ]
  },
  {
   "cell_type": "code",
   "execution_count": 278,
   "metadata": {},
   "outputs": [
    {
     "name": "stderr",
     "output_type": "stream",
     "text": [
      "C:\\Users\\xzv22\\AppData\\Local\\Temp\\ipykernel_13616\\63325564.py:4: FutureWarning: \n",
      "\n",
      "Passing `palette` without assigning `hue` is deprecated and will be removed in v0.14.0. Assign the `x` variable to `hue` and set `legend=False` for the same effect.\n",
      "\n",
      "  sns.barplot(\n",
      "C:\\Users\\xzv22\\AppData\\Local\\Temp\\ipykernel_13616\\63325564.py:11: FutureWarning: \n",
      "\n",
      "Passing `palette` without assigning `hue` is deprecated and will be removed in v0.14.0. Assign the `x` variable to `hue` and set `legend=False` for the same effect.\n",
      "\n",
      "  sns.barplot(\n",
      "C:\\Users\\xzv22\\AppData\\Local\\Temp\\ipykernel_13616\\63325564.py:18: FutureWarning: \n",
      "\n",
      "Passing `palette` without assigning `hue` is deprecated and will be removed in v0.14.0. Assign the `x` variable to `hue` and set `legend=False` for the same effect.\n",
      "\n",
      "  sns.barplot(\n"
     ]
    },
    {
     "data": {
      "text/plain": [
       "Text(0.5, 1.0, '3-Star Hotels')"
      ]
     },
     "execution_count": 278,
     "metadata": {},
     "output_type": "execute_result"
    },
    {
     "data": {
      "image/png": "[encoded data removed]",
      "text/plain": [
       "<Figure size 1500x500 with 3 Axes>"
      ]
     },
     "metadata": {},
     "output_type": "display_data"
    }
   ],
   "source": [
    "plt.figure(figsize=(15,5))\n",
    "\n",
    "plt.subplot(1,3,1)\n",
    "sns.barplot(\n",
    "    hotels[hotels['hotel_star'] == '5성급']['gu'].value_counts().head(5),\n",
    "    palette = 'husl'\n",
    ")\n",
    "plt.title('5-Star Hotels')\n",
    "\n",
    "plt.subplot(1,3,2)\n",
    "sns.barplot(\n",
    "    hotels[hotels['hotel_star'] == '4성급']['gu'].value_counts().head(5),\n",
    "    palette = 'husl'\n",
    ")\n",
    "plt.title('4-Star Hotels')\n",
    "\n",
    "plt.subplot(1,3,3)\n",
    "sns.barplot(\n",
    "    hotels[hotels['hotel_star'] == '3성급']['gu'].value_counts().head(5),\n",
    "    palette = 'husl'\n",
    ")\n",
    "plt.title('3-Star Hotels')"
   ]
  },
  {
   "cell_type": "code",
   "execution_count": 279,
   "metadata": {},
   "outputs": [
    {
     "data": {
      "text/html": [
       "<div>\n",
       "<style scoped>\n",
       "    .dataframe tbody tr th:only-of-type {\n",
       "        vertical-align: middle;\n",
       "    }\n",
       "\n",
       "    .dataframe tbody tr th {\n",
       "        vertical-align: top;\n",
       "    }\n",
       "\n",
       "    .dataframe thead th {\n",
       "        text-align: right;\n",
       "    }\n",
       "</style>\n",
       "<table border=\"1\" class=\"dataframe\">\n",
       "  <thead>\n",
       "    <tr style=\"text-align: right;\">\n",
       "      <th></th>\n",
       "      <th>Unnamed: 0</th>\n",
       "      <th>hotel_name</th>\n",
       "      <th>hotel_star</th>\n",
       "      <th>hotel_rate</th>\n",
       "      <th>hotel_url</th>\n",
       "      <th>hotel_location</th>\n",
       "      <th>review</th>\n",
       "      <th>gu</th>\n",
       "    </tr>\n",
       "  </thead>\n",
       "  <tbody>\n",
       "    <tr>\n",
       "      <th>0</th>\n",
       "      <td>0</td>\n",
       "      <td>그랜드 워커힐 서울 (Grand Walkerhill Seoul)</td>\n",
       "      <td>5성급</td>\n",
       "      <td>8.8</td>\n",
       "      <td>https://www.agoda.com/ko-kr/grand-walkerhill-s...</td>\n",
       "      <td>서울특별시 광진구 워커힐로 177</td>\n",
       "      <td>[['10.0', '오래된 곳이러는 인식이 강해 어릴 적 외에 성인이 된 후 스스로...</td>\n",
       "      <td>광진구</td>\n",
       "    </tr>\n",
       "    <tr>\n",
       "      <th>1</th>\n",
       "      <td>1</td>\n",
       "      <td>스위스 그랜드 호텔 서울 (Swiss Grand Hotel Seoul)</td>\n",
       "      <td>5성급</td>\n",
       "      <td>8.0</td>\n",
       "      <td>https://www.agoda.com/ko-kr/grand-hilton-seoul...</td>\n",
       "      <td>서울 광진구 워커힐로 177</td>\n",
       "      <td>[['10.0', '동생이랑 서울여행 와서 2박 3일 동안 호텔에 머문게 젤 기억에...</td>\n",
       "      <td>광진구</td>\n",
       "    </tr>\n",
       "    <tr>\n",
       "      <th>2</th>\n",
       "      <td>2</td>\n",
       "      <td>메이필드 호텔 서울 (Mayfield Hotel Seoul)</td>\n",
       "      <td>5성급</td>\n",
       "      <td>8.6</td>\n",
       "      <td>https://www.agoda.com/ko-kr/mayfield-hotel/hot...</td>\n",
       "      <td>서울 서대문구 연희로 353</td>\n",
       "      <td>[['10.0', '서울 어떤 호텔보다 직원분들이 친절합니다. 체크인부터 수영장이용...</td>\n",
       "      <td>서대문구</td>\n",
       "    </tr>\n",
       "    <tr>\n",
       "      <th>3</th>\n",
       "      <td>3</td>\n",
       "      <td>워커힐 더글라스 하우스 (성인 전용) (Walkerhill Douglas House...</td>\n",
       "      <td>5성급</td>\n",
       "      <td>9.1</td>\n",
       "      <td>https://www.agoda.com/ko-kr/walkerhill-douglas...</td>\n",
       "      <td>서울 강서구 방화대로 94</td>\n",
       "      <td>[['10.0', '워커힐은 제가 6살때 난생처음 야외 수영장으로 방문했던 곳으로,...</td>\n",
       "      <td>강서구</td>\n",
       "    </tr>\n",
       "    <tr>\n",
       "      <th>4</th>\n",
       "      <td>4</td>\n",
       "      <td>롯데호텔 월드 (Lotte Hotel World)</td>\n",
       "      <td>5성급</td>\n",
       "      <td>8.9</td>\n",
       "      <td>https://www.agoda.com/ko-kr/lotte-hotel-world/...</td>\n",
       "      <td>서울 광진구 워커힐로 177</td>\n",
       "      <td>[['10.0', '지난 여름에 이어서 두번째 방문이었습니다. 롯데월드와 가깝다는 ...</td>\n",
       "      <td>광진구</td>\n",
       "    </tr>\n",
       "    <tr>\n",
       "      <th>...</th>\n",
       "      <td>...</td>\n",
       "      <td>...</td>\n",
       "      <td>...</td>\n",
       "      <td>...</td>\n",
       "      <td>...</td>\n",
       "      <td>...</td>\n",
       "      <td>...</td>\n",
       "      <td>...</td>\n",
       "    </tr>\n",
       "    <tr>\n",
       "      <th>291</th>\n",
       "      <td>143</td>\n",
       "      <td>새턴 호텔 (SATURN HOTEL)</td>\n",
       "      <td>3성급</td>\n",
       "      <td>8.6</td>\n",
       "      <td>https://www.agoda.com/ko-kr/saturn-hotel/hotel...</td>\n",
       "      <td>서울 성동구 자동차시장1길 29</td>\n",
       "      <td>[['10.0', '트윈베드 있는 방으로 예약했는데 무난하게 좋았어요 !']]</td>\n",
       "      <td>성동구</td>\n",
       "    </tr>\n",
       "    <tr>\n",
       "      <th>292</th>\n",
       "      <td>144</td>\n",
       "      <td>호텔 S 신촌 (Hotel S Shinchon)</td>\n",
       "      <td>3성급</td>\n",
       "      <td>8.3</td>\n",
       "      <td>https://www.agoda.com/ko-kr/hotel-s-shinchon/h...</td>\n",
       "      <td>서울 마포구 서강로 128</td>\n",
       "      <td>[['8.0', '최고네요 ㅎㅎㅎ'], ['6.4', '어두운 분위기라 아이랑 같이...</td>\n",
       "      <td>마포구</td>\n",
       "    </tr>\n",
       "    <tr>\n",
       "      <th>293</th>\n",
       "      <td>145</td>\n",
       "      <td>타오 호텔 (Hotel TAO)</td>\n",
       "      <td>3성급</td>\n",
       "      <td>6.6</td>\n",
       "      <td>https://www.agoda.com/ko-kr/hotel-tao/hotel/se...</td>\n",
       "      <td>서울 은평구 통일로 863-24</td>\n",
       "      <td>[['4.0', '해외있을때 예약했는데 투숙당일 연락와서는 싸게 팔고나서 싸게 팔았...</td>\n",
       "      <td>은평구</td>\n",
       "    </tr>\n",
       "    <tr>\n",
       "      <th>294</th>\n",
       "      <td>146</td>\n",
       "      <td>호텔 윈저 (Hotel Windsor)</td>\n",
       "      <td>3성급</td>\n",
       "      <td>9.5</td>\n",
       "      <td>https://www.agoda.com/ko-kr/hotel-windsor/hote...</td>\n",
       "      <td>서울특별시 금천구 독산동 1008-10</td>\n",
       "      <td>[['2.0', '너무 지저분ᆢ침대 바닥에 쓴 콘돔이 돌아다니고 있었음'], ['4...</td>\n",
       "      <td>금천구</td>\n",
       "    </tr>\n",
       "    <tr>\n",
       "      <th>295</th>\n",
       "      <td>147</td>\n",
       "      <td>에이퍼스트호텔 명동 (aFIRST Hotel Myeongdong)</td>\n",
       "      <td>3성급</td>\n",
       "      <td>8.6</td>\n",
       "      <td>https://www.agoda.com/ko-kr/afirst-hotel-myeon...</td>\n",
       "      <td>서울특별시 중구 다동 130</td>\n",
       "      <td>[['10.0', '설 연휴에 가족여행으로 갔는데 쾌적하고 너무 좋았습니다 명동, ...</td>\n",
       "      <td>중구</td>\n",
       "    </tr>\n",
       "  </tbody>\n",
       "</table>\n",
       "<p>289 rows × 8 columns</p>\n",
       "</div>"
      ],
      "text/plain": [
       "     Unnamed: 0                                         hotel_name hotel_star  \\\n",
       "0             0                그랜드 워커힐 서울 (Grand Walkerhill Seoul)        5성급   \n",
       "1             1            스위스 그랜드 호텔 서울 (Swiss Grand Hotel Seoul)        5성급   \n",
       "2             2                  메이필드 호텔 서울 (Mayfield Hotel Seoul)        5성급   \n",
       "3             3  워커힐 더글라스 하우스 (성인 전용) (Walkerhill Douglas House...        5성급   \n",
       "4             4                        롯데호텔 월드 (Lotte Hotel World)        5성급   \n",
       "..          ...                                                ...        ...   \n",
       "291         143                               새턴 호텔 (SATURN HOTEL)        3성급   \n",
       "292         144                         호텔 S 신촌 (Hotel S Shinchon)        3성급   \n",
       "293         145                                  타오 호텔 (Hotel TAO)        3성급   \n",
       "294         146                              호텔 윈저 (Hotel Windsor)        3성급   \n",
       "295         147               에이퍼스트호텔 명동 (aFIRST Hotel Myeongdong)        3성급   \n",
       "\n",
       "     hotel_rate                                          hotel_url  \\\n",
       "0           8.8  https://www.agoda.com/ko-kr/grand-walkerhill-s...   \n",
       "1           8.0  https://www.agoda.com/ko-kr/grand-hilton-seoul...   \n",
       "2           8.6  https://www.agoda.com/ko-kr/mayfield-hotel/hot...   \n",
       "3           9.1  https://www.agoda.com/ko-kr/walkerhill-douglas...   \n",
       "4           8.9  https://www.agoda.com/ko-kr/lotte-hotel-world/...   \n",
       "..          ...                                                ...   \n",
       "291         8.6  https://www.agoda.com/ko-kr/saturn-hotel/hotel...   \n",
       "292         8.3  https://www.agoda.com/ko-kr/hotel-s-shinchon/h...   \n",
       "293         6.6  https://www.agoda.com/ko-kr/hotel-tao/hotel/se...   \n",
       "294         9.5  https://www.agoda.com/ko-kr/hotel-windsor/hote...   \n",
       "295         8.6  https://www.agoda.com/ko-kr/afirst-hotel-myeon...   \n",
       "\n",
       "            hotel_location                                             review  \\\n",
       "0       서울특별시 광진구 워커힐로 177  [['10.0', '오래된 곳이러는 인식이 강해 어릴 적 외에 성인이 된 후 스스로...   \n",
       "1          서울 광진구 워커힐로 177  [['10.0', '동생이랑 서울여행 와서 2박 3일 동안 호텔에 머문게 젤 기억에...   \n",
       "2          서울 서대문구 연희로 353  [['10.0', '서울 어떤 호텔보다 직원분들이 친절합니다. 체크인부터 수영장이용...   \n",
       "3           서울 강서구 방화대로 94  [['10.0', '워커힐은 제가 6살때 난생처음 야외 수영장으로 방문했던 곳으로,...   \n",
       "4          서울 광진구 워커힐로 177  [['10.0', '지난 여름에 이어서 두번째 방문이었습니다. 롯데월드와 가깝다는 ...   \n",
       "..                     ...                                                ...   \n",
       "291      서울 성동구 자동차시장1길 29        [['10.0', '트윈베드 있는 방으로 예약했는데 무난하게 좋았어요 !']]   \n",
       "292         서울 마포구 서강로 128  [['8.0', '최고네요 ㅎㅎㅎ'], ['6.4', '어두운 분위기라 아이랑 같이...   \n",
       "293      서울 은평구 통일로 863-24  [['4.0', '해외있을때 예약했는데 투숙당일 연락와서는 싸게 팔고나서 싸게 팔았...   \n",
       "294  서울특별시 금천구 독산동 1008-10  [['2.0', '너무 지저분ᆢ침대 바닥에 쓴 콘돔이 돌아다니고 있었음'], ['4...   \n",
       "295        서울특별시 중구 다동 130  [['10.0', '설 연휴에 가족여행으로 갔는데 쾌적하고 너무 좋았습니다 명동, ...   \n",
       "\n",
       "       gu  \n",
       "0     광진구  \n",
       "1     광진구  \n",
       "2    서대문구  \n",
       "3     강서구  \n",
       "4     광진구  \n",
       "..    ...  \n",
       "291   성동구  \n",
       "292   마포구  \n",
       "293   은평구  \n",
       "294   금천구  \n",
       "295    중구  \n",
       "\n",
       "[289 rows x 8 columns]"
      ]
     },
     "execution_count": 279,
     "metadata": {},
     "output_type": "execute_result"
    }
   ],
   "source": [
    "hotels"
   ]
  },
  {
   "cell_type": "code",
   "execution_count": null,
   "metadata": {},
   "outputs": [],
   "source": []
  }
 ],
 "metadata": {
  "kernelspec": {
   "display_name": "mulcam_3_9",
   "language": "python",
   "name": "mulcam_3_9"
  },
  "language_info": {
   "codemirror_mode": {
    "name": "ipython",
    "version": 3
   },
   "file_extension": ".py",
   "mimetype": "text/x-python",
   "name": "python",
   "nbconvert_exporter": "python",
   "pygments_lexer": "ipython3",
   "version": "3.9.18"
  }
 },
 "nbformat": 4,
 "nbformat_minor": 2
}
