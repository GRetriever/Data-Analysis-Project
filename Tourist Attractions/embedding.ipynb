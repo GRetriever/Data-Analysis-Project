{
 "cells": [
  {
   "cell_type": "code",
   "execution_count": null,
   "metadata": {},
   "outputs": [],
   "source": [
    "import pandas as pd\n",
    "\n",
    "b = pd.read_csv('./부산/')\n",
    "u = \n",
    "gy \n",
    "j\n",
    "gw"
   ]
  },
  {
   "cell_type": "markdown",
   "metadata": {},
   "source": [
    "========================="
   ]
  },
  {
   "cell_type": "code",
   "execution_count": 7,
   "metadata": {},
   "outputs": [],
   "source": [
    "import requests\n",
    "import json\n",
    "\n",
    "def translate(query):\n",
    "    url = \"https://asia-northeast3-skilled-chalice-402604.cloudfunctions.net/translate\"\n",
    "\n",
    "    headers = {'Content-Type' : 'application/json'}\n",
    "    payload = json.dumps({'queries' : [query]})\n",
    "    translations = requests.post(\n",
    "        url = url,\n",
    "        data = payload,\n",
    "        headers = headers\n",
    "    )\n",
    "    result = translations.json()\n",
    "    return result['translations'][0]"
   ]
  },
  {
   "cell_type": "code",
   "execution_count": 9,
   "metadata": {},
   "outputs": [],
   "source": [
    "pinecone_api_key = getpass()"
   ]
  },
  {
   "cell_type": "code",
   "execution_count": 10,
   "metadata": {},
   "outputs": [],
   "source": [
    "from pinecone import Pinecone\n",
    "\n",
    "pc = Pinecone(api_key = pinecone_api_key)"
   ]
  },
  {
   "cell_type": "code",
   "execution_count": 11,
   "metadata": {},
   "outputs": [],
   "source": [
    "index = pc.Index('books')"
   ]
  },
  {
   "cell_type": "code",
   "execution_count": 12,
   "metadata": {},
   "outputs": [
    {
     "data": {
      "text/plain": [
       "{'dimension': 512,\n",
       " 'index_fullness': 0.18718,\n",
       " 'namespaces': {'': {'vector_count': 18718}},\n",
       " 'total_vector_count': 18718}"
      ]
     },
     "execution_count": 12,
     "metadata": {},
     "output_type": "execute_result"
    }
   ],
   "source": [
    "index.describe_index_stats()"
   ]
  },
  {
   "cell_type": "code",
   "execution_count": 16,
   "metadata": {},
   "outputs": [],
   "source": [
    "from getpass import getpass\n",
    "\n",
    "openai_api_key = getpass(\"OPENAI_TOKEN\")"
   ]
  },
  {
   "cell_type": "code",
   "execution_count": 17,
   "metadata": {},
   "outputs": [],
   "source": [
    "from openai import OpenAI\n",
    "\n",
    "openai_client = OpenAI(api_key=openai_api_key)"
   ]
  },
  {
   "cell_type": "code",
   "execution_count": 18,
   "metadata": {},
   "outputs": [],
   "source": [
    "def get_embedding(text_list):\n",
    "    response = openai_client.embeddings.create(\n",
    "        input=text_list,\n",
    "        model = 'text-embedding-3-small',\n",
    "        dimensions=512\n",
    "    )\n",
    "    return [x.embedding for x in response.data]"
   ]
  },
  {
   "cell_type": "code",
   "execution_count": 56,
   "metadata": {},
   "outputs": [],
   "source": [
    "def recommend(query):\n",
    "    eng_query = translate(query)\n",
    "    query_embedding = get_embedding([eng_query])[0]\n",
    "    results = index.query(\n",
    "        vector = query_embedding,\n",
    "        filter={\n",
    "            'publisher' : {'$in' : ['북박스']}   \n",
    "        },\n",
    "        top_k = 2,\n",
    "        include_metadata = True\n",
    "    )\n",
    "    return results['matches']"
   ]
  },
  {
   "cell_type": "code",
   "execution_count": 57,
   "metadata": {},
   "outputs": [],
   "source": [
    "query = '맛있는 음식 이야기'"
   ]
  },
  {
   "cell_type": "code",
   "execution_count": 59,
   "metadata": {},
   "outputs": [
    {
     "data": {
      "text/plain": [
       "[{'id': '295010',\n",
       "  'metadata': {'authors': '최은영',\n",
       "               'img_url': 'https://image.yes24.com/goods/295010/L',\n",
       "               'published_at': '2002-08',\n",
       "               'publisher': '북박스',\n",
       "               'rating': 9.0,\n",
       "               'review_cnt': 1.0,\n",
       "               'summary': \"천리안 동호회 '천일야화'의 비공개 사이트에 연재된 작품으로 파격적인 내용과 독특한 소재로 \"\n",
       "                          '인해 로맨스 애호가들에게 비상한 관심을 끌었던 작품이다. 개성 강한 인물들의 예측 불허한 삶을 '\n",
       "                          '그리는 이 특별한 소설은 곳곳에 허를 찌르는 대사를 폭탄처럼 숨겨놓았다가 적시에 한번씩 '\n",
       "                          '터뜨림으로써 독자들의 가슴을 단번에 사로잡는 작품이다. 또한 거친 폭풍 같은 남자를 사랑하는 '\n",
       "                          '지고지순한 여인의 따뜻하면서도 꿋꿋한 행보를 강한 반전으로 풀어내 사랑이라는 그릇안에 세상을 '\n",
       "                          '폭넓게 껴안고 있다. 결국 사랑하는 사람들이 서로 합쳐져 하나의 가정을 이룬다는 의미의 '\n",
       "                          '플러스는 가정의 소중함을 끝까지 완성시켜 독자들에게 깊은 여운을 남길 것으로 믿는다.',\n",
       "               'title': '플러스 1',\n",
       "               'translation': 'It was serialized on the private site of the '\n",
       "                              \"clairvoyant club 'Thousand and One Nights', and \"\n",
       "                              'it drew extraordinary attention from romance '\n",
       "                              'lovers due to its unconventional content and '\n",
       "                              'unique subject matter. This special novel, which '\n",
       "                              'depicts the unpredictable lives of characters '\n",
       "                              'with strong personalities, captures the hearts '\n",
       "                              'of readers at once by hiding surprising lines '\n",
       "                              'like bombs and detonating them once at the right '\n",
       "                              'time. In addition, by unraveling the warm yet '\n",
       "                              'firm steps of a noble woman who loves a man like '\n",
       "                              'a rough storm, with a strong twist, she embraces '\n",
       "                              'the world widely in the bowl of love. In the '\n",
       "                              'end, I believe that the plus meaning that loved '\n",
       "                              'ones come together to form a family will '\n",
       "                              'complete the preciousness of the family to the '\n",
       "                              'end and leave a deep impression on the readers.',\n",
       "               'url': 'https://www.yes24.com/Product/Goods/295010'},\n",
       "  'score': 0.361510277,\n",
       "  'values': []},\n",
       " {'id': '2605658',\n",
       "  'metadata': {'authors': '문현주',\n",
       "               'img_url': 'https://image.yes24.com/goods/2605658/L',\n",
       "               'published_at': '2007-06',\n",
       "               'publisher': '북박스',\n",
       "               'rating': 0.0,\n",
       "               'review_cnt': 0.0,\n",
       "               'summary': '\"파스텔 오렌지\"는 첫사랑과 그로 인해 변해가는 인생을 그리는 소설입니다. 주인공 윤주는 어린 '\n",
       "                          '시절 사랑받지 못한 죽음을 지우지 못하면서도 어느 남자와의 첫 키스로써 새로운 사랑을 '\n",
       "                          '갈망합니다. 만남을 일회성 유흥으로 삼는 재혁은 첫사랑을 고집하던 그녀를 사랑하게 되면서 '\n",
       "                          '자신의 인생을 변화시키는데, 어느 곳에서도 기대하지 못하는 예측할 수 없는 사건들이 '\n",
       "                          '벌어집니다. 이 작품은 첫사랑과 변화에 대한 혼잣말처럼 소년, 소녀의 이야기를 애절하게 '\n",
       "                          '풀어내고 있습니다.',\n",
       "               'title': '파스텔 오렌지',\n",
       "               'translation': '\"Pastel Orange\" is a novel about first love and '\n",
       "                              'how life changes. The main character, Yun-ju, '\n",
       "                              'longs for a new love through her first kiss with '\n",
       "                              'a certain man, even though she cannot erase the '\n",
       "                              'death of being unloved as a child. Jae-hyeok, '\n",
       "                              'who takes meeting as a one-time entertainment, '\n",
       "                              'changes his life as he falls in love with her, '\n",
       "                              'who insisted on his first love. Like a self-talk '\n",
       "                              'about first love and change, this work tells the '\n",
       "                              'story of a boy and a girl in a mournful way.',\n",
       "               'url': 'https://www.yes24.com/Product/Goods/2605658'},\n",
       "  'score': 0.335108668,\n",
       "  'values': []}]"
      ]
     },
     "execution_count": 59,
     "metadata": {},
     "output_type": "execute_result"
    }
   ],
   "source": [
    "recommend(query)"
   ]
  },
  {
   "cell_type": "code",
   "execution_count": null,
   "metadata": {},
   "outputs": [],
   "source": []
  },
  {
   "cell_type": "code",
   "execution_count": null,
   "metadata": {},
   "outputs": [],
   "source": []
  },
  {
   "cell_type": "code",
   "execution_count": 1,
   "metadata": {},
   "outputs": [],
   "source": [
    "import requests\n",
    "from bs4 import BeautifulSoup\n",
    "import time"
   ]
  },
  {
   "cell_type": "code",
   "execution_count": 51,
   "metadata": {},
   "outputs": [
    {
     "name": "stdout",
     "output_type": "stream",
     "text": [
      "2\n",
      "3\n",
      "4\n",
      "5\n",
      "6\n",
      "7\n",
      "8\n",
      "9\n",
      "10\n",
      "11\n",
      "12\n",
      "13\n",
      "14\n",
      "15\n"
     ]
    }
   ],
   "source": [
    "url = 'https://korean.visitkorea.or.kr/call'\n",
    "params = {\n",
    "    'cmd': 'TOUR_CONTENT_LIST_VIEW',\n",
    "    'month': 'All',\n",
    "    'areaCode': '6',\n",
    "    'sigunguCode': 'All',\n",
    "    'tagId': 'All',\n",
    "    'sortkind': '1',\n",
    "    'locationx': '0',\n",
    "    'locationy': '0',\n",
    "    'page': '1',\n",
    "    'cnt': '100',\n",
    "    'typeList': 'Tour',\n",
    "    'stampId': '1589345b-b030-11ea-b8bd-020027310001'\n",
    "}\n",
    "\n",
    "all_data = []  # 모든 페이지의 데이터를 저장할 리스트\n",
    "\n",
    "while True:\n",
    "    response = requests.get(url, params=params)\n",
    "    data = response.json()\n",
    "\n",
    "    # 받은 데이터에서 필요한 정보 추출\n",
    "    result_list = data.get('body', {}).get('result', [])\n",
    "    for item in result_list:\n",
    "        img_path = item.get('imgPath', '')\n",
    "        img_url = f'https://cdn.visitkorea.or.kr/img/call?cmd=VIEW&id={img_path}'\n",
    "        \n",
    "        extracted_data = {\n",
    "            '관광지명': item.get('TITLE', ''),\n",
    "            'catch': item.get('catchPhrase', ''),\n",
    "            'addr1': item.get('addr1', ''),\n",
    "            'img': img_url,\n",
    "            'cotid' : item.get('cotId', ''),\n",
    "            'areaCode' : item.get('areaCode', ''),\n",
    "            'cat1' : item.get('cat1', ''),\n",
    "            'cat2' : item.get('cat2', '')\n",
    "        }\n",
    "        \n",
    "        cotid = extracted_data['cotid']\n",
    "        cat1 = extracted_data['cat1']\n",
    "        cat2 = extracted_data['cat2']\n",
    "        areaCode = extracted_data['areaCode']\n",
    "        \n",
    "        new_url = f'https://korean.visitkorea.or.kr/detail/ms_detail.do?cotid={cotid}&big_category={cat1}&mid_category={cat2}&big_area={areaCode}'\n",
    "        response = requests.get(new_url)\n",
    "        html = response.text\n",
    "        soup = BeautifulSoup(html,'html.parser')\n",
    "        description = soup.find('div',class_='blind').text\n",
    "        description = description.replace('\\n','').replace('\\t','')\n",
    "        extracted_data['description'] = description\n",
    "\n",
    "        all_data.append(extracted_data)\n",
    "    \n",
    "    # 다음 페이지로 이동\n",
    "    # if params['page'] in range(0,1000,100):\n",
    "    #     print('time sleep')\n",
    "    #     time.sleep(200)\n",
    "    # else:\n",
    "    \n",
    "    params['page'] = str(int(params['page']) + 1)\n",
    "    print(params['page'])\n",
    "    \n",
    "\n",
    "    # 만약 더 이상 페이지가 없으면 반복문 종료\n",
    "    if not result_list or len(all_data) == 1351:\n",
    "        break"
   ]
  },
  {
   "cell_type": "code",
   "execution_count": 56,
   "metadata": {},
   "outputs": [],
   "source": [
    "import pandas as pd\n",
    "df = pd.DataFrame(all_data)"
   ]
  },
  {
   "cell_type": "code",
   "execution_count": 57,
   "metadata": {},
   "outputs": [
    {
     "data": {
      "text/html": [
       "<div>\n",
       "<style scoped>\n",
       "    .dataframe tbody tr th:only-of-type {\n",
       "        vertical-align: middle;\n",
       "    }\n",
       "\n",
       "    .dataframe tbody tr th {\n",
       "        vertical-align: top;\n",
       "    }\n",
       "\n",
       "    .dataframe thead th {\n",
       "        text-align: right;\n",
       "    }\n",
       "</style>\n",
       "<table border=\"1\" class=\"dataframe\">\n",
       "  <thead>\n",
       "    <tr style=\"text-align: right;\">\n",
       "      <th></th>\n",
       "      <th>관광지명</th>\n",
       "      <th>catch</th>\n",
       "      <th>addr1</th>\n",
       "      <th>img</th>\n",
       "      <th>cotid</th>\n",
       "      <th>areaCode</th>\n",
       "      <th>cat1</th>\n",
       "      <th>cat2</th>\n",
       "      <th>description</th>\n",
       "    </tr>\n",
       "  </thead>\n",
       "  <tbody>\n",
       "    <tr>\n",
       "      <th>0</th>\n",
       "      <td>라마다 앙코르 바이윈덤 부산해운대</td>\n",
       "      <td>해운대의 해변과 도시를 모두 찾는 고객에게 편안한 여행을 선사하는 곳</td>\n",
       "      <td>부산광역시 해운대구 구남로 9</td>\n",
       "      <td>https://cdn.visitkorea.or.kr/img/call?cmd=VIEW...</td>\n",
       "      <td>9be6cf0e-3a4d-439b-97b2-a0c07ca0b3a1</td>\n",
       "      <td>6</td>\n",
       "      <td>B02</td>\n",
       "      <td>B0201</td>\n",
       "      <td>라마다 앙코르 바이윈덤 부산해운대는 세계 최다 호텔을 보유한 윈덤(Wyndham) ...</td>\n",
       "    </tr>\n",
       "    <tr>\n",
       "      <th>1</th>\n",
       "      <td>토북베이커리</td>\n",
       "      <td>빠르지만 재치있고 느리지만 정확하게</td>\n",
       "      <td>부산광역시 강서구 낙동남로 526-1</td>\n",
       "      <td>https://cdn.visitkorea.or.kr/img/call?cmd=VIEW...</td>\n",
       "      <td>4c832d47-15b0-41e7-9108-e9d4f4bc8f94</td>\n",
       "      <td>6</td>\n",
       "      <td>A05</td>\n",
       "      <td>A0502</td>\n",
       "      <td>느리지만 정직한 빵을 만드는 김덕규베이커리에서 새로운 공간으로 부산 강서구에 한옥이...</td>\n",
       "    </tr>\n",
       "    <tr>\n",
       "      <th>2</th>\n",
       "      <td>무목</td>\n",
       "      <td>한식 퓨전 디저트 전문점</td>\n",
       "      <td>부산광역시 금정구 체육공원로 689-22 (두구동)</td>\n",
       "      <td>https://cdn.visitkorea.or.kr/img/call?cmd=VIEW...</td>\n",
       "      <td>834de389-ba5f-4f91-a2b3-17e2c35ff032</td>\n",
       "      <td>6</td>\n",
       "      <td>A05</td>\n",
       "      <td>A0502</td>\n",
       "      <td>무목은 한식 퓨전 디저트 카페다. ‘목적 없이 흘러들어온 쉼의 터’라는 부제로, 다...</td>\n",
       "    </tr>\n",
       "    <tr>\n",
       "      <th>3</th>\n",
       "      <td>부산진 별빛산책길</td>\n",
       "      <td>빛과 함께 걷는 부산 시민공원 야간 명소거리</td>\n",
       "      <td>부산광역시 부산진구 범전동</td>\n",
       "      <td>https://cdn.visitkorea.or.kr/img/call?cmd=VIEW...</td>\n",
       "      <td>b94cbf61-90d5-4f3d-b62e-a4303e397e35</td>\n",
       "      <td>6</td>\n",
       "      <td>A02</td>\n",
       "      <td>A0203</td>\n",
       "      <td>부산진 별빛산책길은 고보조명과 빛 조형물을 이용하여 약 400m의 4개 구역 별 야...</td>\n",
       "    </tr>\n",
       "    <tr>\n",
       "      <th>4</th>\n",
       "      <td>브라운도트호텔 서면범천점</td>\n",
       "      <td>서면 번화가 인근의 편안한 호텔</td>\n",
       "      <td>부산광역시 부산진구 황령대로7번길 20-11 (범천동)</td>\n",
       "      <td>https://cdn.visitkorea.or.kr/img/call?cmd=VIEW...</td>\n",
       "      <td>05d32c9a-2aeb-493a-a6f5-f26070529c42</td>\n",
       "      <td>6</td>\n",
       "      <td>B02</td>\n",
       "      <td>B0201</td>\n",
       "      <td>부산의 상업 중심지인 서면 번화가에서 도보 8분 거리에 위치한 브라운도트호텔 서면범...</td>\n",
       "    </tr>\n",
       "    <tr>\n",
       "      <th>...</th>\n",
       "      <td>...</td>\n",
       "      <td>...</td>\n",
       "      <td>...</td>\n",
       "      <td>...</td>\n",
       "      <td>...</td>\n",
       "      <td>...</td>\n",
       "      <td>...</td>\n",
       "      <td>...</td>\n",
       "      <td>...</td>\n",
       "    </tr>\n",
       "    <tr>\n",
       "      <th>1346</th>\n",
       "      <td>고스락</td>\n",
       "      <td>부산기장 가족단위 조용한 방갈로식당</td>\n",
       "      <td>부산광역시 기장군 장안읍 해맞이로 286</td>\n",
       "      <td>https://cdn.visitkorea.or.kr/img/call?cmd=VIEW...</td>\n",
       "      <td>5fe09751-7bbc-4a98-9fda-50bca0a01d56</td>\n",
       "      <td>6</td>\n",
       "      <td>A05</td>\n",
       "      <td>A0502</td>\n",
       "      <td>부산 기장군 임랑해수욕장 해변에 위치한 고스락은 시원한 바닷바람과 먹는 신선한 요리...</td>\n",
       "    </tr>\n",
       "    <tr>\n",
       "      <th>1347</th>\n",
       "      <td>개화</td>\n",
       "      <td>다양한 중국요리를 선보이다</td>\n",
       "      <td>부산광역시 중구 광복로 21</td>\n",
       "      <td>https://cdn.visitkorea.or.kr/img/call?cmd=VIEW...</td>\n",
       "      <td>de438b3e-fe80-4724-b28b-2d1cbf6061b0</td>\n",
       "      <td>6</td>\n",
       "      <td>A05</td>\n",
       "      <td>A0502</td>\n",
       "      <td>개화는 부산 중구 부평동 1가에 위치한 중국요리 전문점으로 60년 넘는 세월 동안 ...</td>\n",
       "    </tr>\n",
       "    <tr>\n",
       "      <th>1348</th>\n",
       "      <td>좋은쌀로밥짓고</td>\n",
       "      <td>깔끔하고 푸짐한 영양돌솥정식을 맛볼 수 있는 곳</td>\n",
       "      <td>부산광역시 중구 광복중앙로24번길 9</td>\n",
       "      <td>https://cdn.visitkorea.or.kr/img/call?cmd=VIEW...</td>\n",
       "      <td>83a7ffc7-cf90-41d5-90e1-659d5c01d4e7</td>\n",
       "      <td>6</td>\n",
       "      <td>A05</td>\n",
       "      <td>A0502</td>\n",
       "      <td>좋은 쌀로 밥 짓고는 부산 중구에 위치한 한정식 전문점이다.영양 돌솥 정식 단일 메...</td>\n",
       "    </tr>\n",
       "    <tr>\n",
       "      <th>1349</th>\n",
       "      <td>부산 송도해상케이블카</td>\n",
       "      <td>하늘과 바다를 대표하는 비행기와 크루즈의 만남!</td>\n",
       "      <td>부산광역시 서구 송도해변로 171</td>\n",
       "      <td>https://cdn.visitkorea.or.kr/img/call?cmd=VIEW...</td>\n",
       "      <td>983e127f-9fe4-467b-9f41-dd6926fbe9e4</td>\n",
       "      <td>6</td>\n",
       "      <td>A02</td>\n",
       "      <td>A0203</td>\n",
       "      <td>송도해수욕장에 위치한 송도해상케이블카는 우리나라 제1호 공설해수욕장인 송도해수욕장의...</td>\n",
       "    </tr>\n",
       "    <tr>\n",
       "      <th>1350</th>\n",
       "      <td>망산도·유주암·유주비각</td>\n",
       "      <td>가야 김수로왕비의 전설이 전해지는 곳</td>\n",
       "      <td>부산광역시 강서구 송정동</td>\n",
       "      <td>https://cdn.visitkorea.or.kr/img/call?cmd=VIEW...</td>\n",
       "      <td>733dea14-db04-4ec1-9852-42af2ac0c4bc</td>\n",
       "      <td>6</td>\n",
       "      <td>A02</td>\n",
       "      <td>A0201</td>\n",
       "      <td>용원동 앞바다의 작은 섬을 망산도, 이 섬의 동남방 70m 해상의 바위섬을 유주암이...</td>\n",
       "    </tr>\n",
       "  </tbody>\n",
       "</table>\n",
       "<p>1351 rows × 9 columns</p>\n",
       "</div>"
      ],
      "text/plain": [
       "                    관광지명                                   catch  \\\n",
       "0     라마다 앙코르 바이윈덤 부산해운대  해운대의 해변과 도시를 모두 찾는 고객에게 편안한 여행을 선사하는 곳   \n",
       "1                 토북베이커리                     빠르지만 재치있고 느리지만 정확하게   \n",
       "2                     무목                           한식 퓨전 디저트 전문점   \n",
       "3              부산진 별빛산책길                빛과 함께 걷는 부산 시민공원 야간 명소거리   \n",
       "4          브라운도트호텔 서면범천점                       서면 번화가 인근의 편안한 호텔   \n",
       "...                  ...                                     ...   \n",
       "1346                 고스락                     부산기장 가족단위 조용한 방갈로식당   \n",
       "1347                  개화                          다양한 중국요리를 선보이다   \n",
       "1348             좋은쌀로밥짓고              깔끔하고 푸짐한 영양돌솥정식을 맛볼 수 있는 곳   \n",
       "1349         부산 송도해상케이블카              하늘과 바다를 대표하는 비행기와 크루즈의 만남!   \n",
       "1350        망산도·유주암·유주비각                   가야 김수로왕비의 전설이 전해지는 곳    \n",
       "\n",
       "                               addr1  \\\n",
       "0                   부산광역시 해운대구 구남로 9   \n",
       "1               부산광역시 강서구 낙동남로 526-1   \n",
       "2       부산광역시 금정구 체육공원로 689-22 (두구동)   \n",
       "3                     부산광역시 부산진구 범전동   \n",
       "4     부산광역시 부산진구 황령대로7번길 20-11 (범천동)   \n",
       "...                              ...   \n",
       "1346          부산광역시 기장군 장안읍 해맞이로 286   \n",
       "1347                 부산광역시 중구 광복로 21   \n",
       "1348            부산광역시 중구 광복중앙로24번길 9   \n",
       "1349              부산광역시 서구 송도해변로 171   \n",
       "1350                   부산광역시 강서구 송정동   \n",
       "\n",
       "                                                    img  \\\n",
       "0     https://cdn.visitkorea.or.kr/img/call?cmd=VIEW...   \n",
       "1     https://cdn.visitkorea.or.kr/img/call?cmd=VIEW...   \n",
       "2     https://cdn.visitkorea.or.kr/img/call?cmd=VIEW...   \n",
       "3     https://cdn.visitkorea.or.kr/img/call?cmd=VIEW...   \n",
       "4     https://cdn.visitkorea.or.kr/img/call?cmd=VIEW...   \n",
       "...                                                 ...   \n",
       "1346  https://cdn.visitkorea.or.kr/img/call?cmd=VIEW...   \n",
       "1347  https://cdn.visitkorea.or.kr/img/call?cmd=VIEW...   \n",
       "1348  https://cdn.visitkorea.or.kr/img/call?cmd=VIEW...   \n",
       "1349  https://cdn.visitkorea.or.kr/img/call?cmd=VIEW...   \n",
       "1350  https://cdn.visitkorea.or.kr/img/call?cmd=VIEW...   \n",
       "\n",
       "                                     cotid areaCode cat1   cat2  \\\n",
       "0     9be6cf0e-3a4d-439b-97b2-a0c07ca0b3a1        6  B02  B0201   \n",
       "1     4c832d47-15b0-41e7-9108-e9d4f4bc8f94        6  A05  A0502   \n",
       "2     834de389-ba5f-4f91-a2b3-17e2c35ff032        6  A05  A0502   \n",
       "3     b94cbf61-90d5-4f3d-b62e-a4303e397e35        6  A02  A0203   \n",
       "4     05d32c9a-2aeb-493a-a6f5-f26070529c42        6  B02  B0201   \n",
       "...                                    ...      ...  ...    ...   \n",
       "1346  5fe09751-7bbc-4a98-9fda-50bca0a01d56        6  A05  A0502   \n",
       "1347  de438b3e-fe80-4724-b28b-2d1cbf6061b0        6  A05  A0502   \n",
       "1348  83a7ffc7-cf90-41d5-90e1-659d5c01d4e7        6  A05  A0502   \n",
       "1349  983e127f-9fe4-467b-9f41-dd6926fbe9e4        6  A02  A0203   \n",
       "1350  733dea14-db04-4ec1-9852-42af2ac0c4bc        6  A02  A0201   \n",
       "\n",
       "                                            description  \n",
       "0     라마다 앙코르 바이윈덤 부산해운대는 세계 최다 호텔을 보유한 윈덤(Wyndham) ...  \n",
       "1     느리지만 정직한 빵을 만드는 김덕규베이커리에서 새로운 공간으로 부산 강서구에 한옥이...  \n",
       "2     무목은 한식 퓨전 디저트 카페다. ‘목적 없이 흘러들어온 쉼의 터’라는 부제로, 다...  \n",
       "3     부산진 별빛산책길은 고보조명과 빛 조형물을 이용하여 약 400m의 4개 구역 별 야...  \n",
       "4     부산의 상업 중심지인 서면 번화가에서 도보 8분 거리에 위치한 브라운도트호텔 서면범...  \n",
       "...                                                 ...  \n",
       "1346  부산 기장군 임랑해수욕장 해변에 위치한 고스락은 시원한 바닷바람과 먹는 신선한 요리...  \n",
       "1347  개화는 부산 중구 부평동 1가에 위치한 중국요리 전문점으로 60년 넘는 세월 동안 ...  \n",
       "1348  좋은 쌀로 밥 짓고는 부산 중구에 위치한 한정식 전문점이다.영양 돌솥 정식 단일 메...  \n",
       "1349  송도해수욕장에 위치한 송도해상케이블카는 우리나라 제1호 공설해수욕장인 송도해수욕장의...  \n",
       "1350  용원동 앞바다의 작은 섬을 망산도, 이 섬의 동남방 70m 해상의 바위섬을 유주암이...  \n",
       "\n",
       "[1351 rows x 9 columns]"
      ]
     },
     "execution_count": 57,
     "metadata": {},
     "output_type": "execute_result"
    }
   ],
   "source": [
    "df"
   ]
  },
  {
   "cell_type": "code",
   "execution_count": 58,
   "metadata": {},
   "outputs": [],
   "source": [
    "b = pd.read_csv('./data/busan.csv')"
   ]
  },
  {
   "cell_type": "code",
   "execution_count": 71,
   "metadata": {},
   "outputs": [
    {
     "name": "stdout",
     "output_type": "stream",
     "text": [
      "학리항\n",
      "만덕고개누리길전망데크\n",
      "부산충렬사\n",
      "재한유엔기념공원\n",
      "영도하리선착장\n",
      "안적사\n",
      "요산문학관\n",
      "금강사\n",
      "부산차이나타운특구\n",
      "마하사\n",
      "국청사\n",
      "동백섬\n",
      "죽성성당\n",
      "친환경스카이웨이전망대\n",
      "구상반려암\n",
      "월전포구\n",
      "기장해녀촌\n",
      "성암사\n",
      "금정산\n",
      "선암사\n",
      "델타루\n",
      "오륙도\n",
      "법륜사\n",
      "보광사\n",
      "홍법사\n",
      "죽성항\n",
      "소림사\n",
      "연등사\n",
      "내원정사\n",
      "부산이중섭거리\n",
      "대각사\n",
      "청량사\n",
      "봉래산\n",
      "묘심사\n",
      "태종대\n",
      "운수사\n",
      "장안사\n",
      "신선대\n",
      "영주암\n",
      "월명사\n",
      "장산\n",
      "부곡상가시장\n",
      "척판암\n",
      "부산라벤더팜\n",
      "수산과학관\n",
      "허브랑야생화\n",
      "부산범어사\n",
      "미륵사\n",
      "부산민주공원\n",
      "금강암\n",
      "부산롯데월드\n",
      "벡스코\n",
      "금수사\n",
      "금용암\n",
      "해동용궁사\n",
      "부평시장\n",
      "이기대\n",
      "부산올림픽공원\n",
      "문화공감수정\n",
      "두도\n",
      "감천사\n",
      "178\n"
     ]
    }
   ],
   "source": [
    "answer = []\n",
    "names = [i.replace(' ','') for i in df['관광지명'].tolist()]\n",
    "for i in b['관광지명']:\n",
    "    if i in names:\n",
    "        answer.append(i)\n",
    "    else:\n",
    "        print(i)\n",
    "\n",
    "print(len(answer))"
   ]
  },
  {
   "cell_type": "code",
   "execution_count": 67,
   "metadata": {},
   "outputs": [],
   "source": [
    "a = '부산 송도 해수욕장'"
   ]
  },
  {
   "cell_type": "code",
   "execution_count": 70,
   "metadata": {},
   "outputs": [
    {
     "name": "stdout",
     "output_type": "stream",
     "text": [
      "부산송도해수욕장\n"
     ]
    }
   ],
   "source": [
    "print(a.replace(' ',''))"
   ]
  },
  {
   "cell_type": "code",
   "execution_count": null,
   "metadata": {},
   "outputs": [],
   "source": []
  },
  {
   "cell_type": "code",
   "execution_count": null,
   "metadata": {},
   "outputs": [],
   "source": []
  },
  {
   "cell_type": "code",
   "execution_count": null,
   "metadata": {},
   "outputs": [],
   "source": []
  },
  {
   "cell_type": "code",
   "execution_count": 45,
   "metadata": {},
   "outputs": [
    {
     "name": "stdout",
     "output_type": "stream",
     "text": [
      "라마다 앙코르 바이윈덤 부산해운대는 세계 최다 호텔을 보유한 윈덤(Wyndham) 그룹의 글로벌 브랜드 호텔로 해운대역(부산 2호선)에서 바로 앞에 위치해 해운대의 해변과 도시를 모두 찾는 고객에게 가장 편안한 여행의 경험을 선사한다.해운대 해수욕장까지 도보 500m로 아름다운 바다를 가깝게 만날 수 있으며 부산의 맛을 느낄 수 있는 다양한 먹거리도 쉽게 찾을 수 있다. 호텔에서 10분 거리에 위치한 벡스코는 대중교통으로도 이동할 수 있어 비즈니스로 해운대를 방문하시는 고객에게 교통의 편의까지 더하여 최고의 입지를 자랑한다.\n"
     ]
    }
   ],
   "source": [
    "for data in all_data:\n",
    "    cotid = data['cotid']\n",
    "    cat1 = data['cat1']\n",
    "    cat2 = data['cat2']\n",
    "    areaCode = data['areaCode']\n",
    "    \n",
    "    new_url = f'https://korean.visitkorea.or.kr/detail/ms_detail.do?cotid={cotid}&big_category={cat1}&mid_category={cat2}&big_area={areaCode}'\n",
    "    response = requests.get(new_url)\n",
    "    html = response.text\n",
    "    soup = BeautifulSoup(html,'html.parser')\n",
    "    description = soup.find('div',class_='blind').text\n",
    "    description = description.replace('\\n','').replace('\\t','')\n",
    "    print(description)\n",
    "    break    "
   ]
  },
  {
   "cell_type": "code",
   "execution_count": 14,
   "metadata": {},
   "outputs": [
    {
     "data": {
      "text/plain": [
       "{'관광지명': '라마다 앙코르 바이윈덤 부산해운대',\n",
       " 'catch': '해운대의 해변과 도시를 모두 찾는 고객에게 편안한 여행을 선사하는 곳',\n",
       " 'addr1': '부산광역시 해운대구 구남로 9',\n",
       " 'img': 'https://cdn.visitkorea.or.kr/img/call?cmd=VIEW&id=18c244bc-dc04-46d3-8e81-cfe21706935c',\n",
       " 'cotid': '9be6cf0e-3a4d-439b-97b2-a0c07ca0b3a1',\n",
       " 'areaCode': '6',\n",
       " 'cat1': 'B02',\n",
       " 'cat2': 'B0201'}"
      ]
     },
     "execution_count": 14,
     "metadata": {},
     "output_type": "execute_result"
    }
   ],
   "source": [
    "all_data[0]"
   ]
  },
  {
   "cell_type": "code",
   "execution_count": 17,
   "metadata": {},
   "outputs": [],
   "source": [
    "html = response.text"
   ]
  },
  {
   "cell_type": "code",
   "execution_count": 19,
   "metadata": {},
   "outputs": [],
   "source": [
    "soup = BeautifulSoup(html,'html.parser')"
   ]
  },
  {
   "cell_type": "code",
   "execution_count": 23,
   "metadata": {},
   "outputs": [
    {
     "data": {
      "text/plain": [
       "'라마다 앙코르 바이윈덤 부산해운대'"
      ]
     },
     "execution_count": 23,
     "metadata": {},
     "output_type": "execute_result"
    }
   ],
   "source": [
    "soup.find('meta', {'property': 'og:description'}).get('content')"
   ]
  },
  {
   "cell_type": "code",
   "execution_count": 42,
   "metadata": {},
   "outputs": [
    {
     "data": {
      "text/plain": [
       "'\\n\\t\\t\\t\\t라마다 앙코르 바이윈덤 부산해운대는 세계 최다 호텔을 보유한 윈덤(Wyndham) 그룹의 글로벌 브랜드 호텔로 해운대역(부산 2호선)에서 바로 앞에 위치해 해운대의 해변과 도시를 모두 찾는 고객에게 가장 편안한 여행의 경험을 선사한다.\\n해운대 해수욕장까지 도보 500m로 아름다운 바다를 가깝게 만날 수 있으며 부산의 맛을 느낄 수 있는 다양한 먹거리도 쉽게 찾을 수 있다. 호텔에서 10분 거리에 위치한 벡스코는 대중교통으로도 이동할 수 있어 비즈니스로 해운대를 방문하시는 고객에게 교통의 편의까지 더하여 최고의 입지를 자랑한다.\\n\\t\\t\\t'"
      ]
     },
     "execution_count": 42,
     "metadata": {},
     "output_type": "execute_result"
    }
   ],
   "source": [
    "soup.find('div',class_='blind').text"
   ]
  },
  {
   "cell_type": "code",
   "execution_count": 35,
   "metadata": {},
   "outputs": [
    {
     "data": {
      "text/plain": [
       "'라마다 앙코르 바이윈덤 부산해운대는 세계 최다 호텔을 보유한 윈덤(Wyndham) 그룹의 글로벌 브랜드 호텔로 해운대역(부산 2호선)에서 바로 앞에 위치해 해운대의 해변과 도시를 모두 찾는 고객에게 가장 편안한 여행의 경험을 선사한다.\\n해운대 해수욕장까지 도보 500m로 아름다운 바다를 가깝게 만날 수 있으며 부산의 맛을 느낄 수 있는 다양한 먹거리도 쉽게 부산숙소|숙박|해운대구'"
      ]
     },
     "execution_count": 35,
     "metadata": {},
     "output_type": "execute_result"
    }
   ],
   "source": [
    "soup.find('meta', {'name': 'description'}).get('content')"
   ]
  },
  {
   "cell_type": "code",
   "execution_count": null,
   "metadata": {},
   "outputs": [],
   "source": []
  }
 ],
 "metadata": {
  "kernelspec": {
   "display_name": "mulcam_3_9",
   "language": "python",
   "name": "mulcam_3_9"
  },
  "language_info": {
   "codemirror_mode": {
    "name": "ipython",
    "version": 3
   },
   "file_extension": ".py",
   "mimetype": "text/x-python",
   "name": "python",
   "nbconvert_exporter": "python",
   "pygments_lexer": "ipython3",
   "version": "3.9.18"
  }
 },
 "nbformat": 4,
 "nbformat_minor": 2
}
