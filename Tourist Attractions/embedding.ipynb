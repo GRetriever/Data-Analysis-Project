{
 "cells": [
  {
   "cell_type": "markdown",
   "metadata": {},
   "source": [
    "## 부산 description"
   ]
  },
  {
   "cell_type": "code",
   "execution_count": 1,
   "metadata": {},
   "outputs": [],
   "source": [
    "import requests\n",
    "from bs4 import BeautifulSoup\n",
    "import time"
   ]
  },
  {
   "cell_type": "code",
   "execution_count": 2,
   "metadata": {},
   "outputs": [
    {
     "name": "stdout",
     "output_type": "stream",
     "text": [
      "1\n",
      "2\n",
      "3\n",
      "4\n",
      "5\n",
      "6\n",
      "7\n",
      "8\n",
      "9\n",
      "10\n",
      "11\n",
      "12\n",
      "13\n",
      "14\n"
     ]
    }
   ],
   "source": [
    "url = 'https://korean.visitkorea.or.kr/call'\n",
    "params = {\n",
    "    'cmd': 'TOUR_CONTENT_LIST_VIEW',\n",
    "    'month': 'All',\n",
    "    'areaCode': '6',\n",
    "    'sigunguCode': 'All',\n",
    "    'tagId': 'All',\n",
    "    'sortkind': '1',\n",
    "    'locationx': '0',\n",
    "    'locationy': '0',\n",
    "    'page': '1',\n",
    "    'cnt': '100',\n",
    "    'typeList': 'Tour',\n",
    "    'stampId': '1589345b-b030-11ea-b8bd-020027310001'\n",
    "}\n",
    "\n",
    "all_data = []  # 모든 페이지의 데이터를 저장할 리스트\n",
    "\n",
    "while True:\n",
    "    response = requests.get(url, params=params)\n",
    "    data = response.json()\n",
    "\n",
    "    # 받은 데이터에서 필요한 정보 추출\n",
    "    result_list = data.get('body', {}).get('result', [])\n",
    "    for item in result_list:\n",
    "        img_path = item.get('imgPath', '')\n",
    "        img_url = f'https://cdn.visitkorea.or.kr/img/call?cmd=VIEW&id={img_path}'\n",
    "        \n",
    "        extracted_data = {\n",
    "            '관광지명': item.get('TITLE', ''),\n",
    "            'catch': item.get('catchPhrase', ''),\n",
    "            'addr1': item.get('addr1', ''),\n",
    "            'img': img_url,\n",
    "            'cotid' : item.get('cotId', ''),\n",
    "            'areaCode' : item.get('areaCode', ''),\n",
    "            'cat1' : item.get('cat1', ''),\n",
    "            'cat2' : item.get('cat2', '')\n",
    "        }\n",
    "        \n",
    "        cotid = extracted_data['cotid']\n",
    "        cat1 = extracted_data['cat1']\n",
    "        cat2 = extracted_data['cat2']\n",
    "        areaCode = extracted_data['areaCode']\n",
    "        \n",
    "        new_url = f'https://korean.visitkorea.or.kr/detail/ms_detail.do?cotid={cotid}&big_category={cat1}&mid_category={cat2}&big_area={areaCode}'\n",
    "        response = requests.get(new_url)\n",
    "        html = response.text\n",
    "        soup = BeautifulSoup(html,'html.parser')\n",
    "        description = soup.find('div',class_='blind').text\n",
    "        description = description.replace('\\n','').replace('\\t','')\n",
    "        extracted_data['description'] = description\n",
    "\n",
    "        all_data.append(extracted_data)\n",
    "    \n",
    "    # 다음 페이지로 이동\n",
    "    # if params['page'] in range(0,1000,100):\n",
    "    #     print('time sleep')\n",
    "    #     time.sleep(200)\n",
    "    # else:\n",
    "    \n",
    "    print(params['page'])\n",
    "    params['page'] = str(int(params['page']) + 1)\n",
    "    \n",
    "\n",
    "    # 만약 더 이상 페이지가 없으면 반복문 종료\n",
    "    if not result_list or len(all_data) == 1351:\n",
    "        break"
   ]
  },
  {
   "cell_type": "code",
   "execution_count": 3,
   "metadata": {},
   "outputs": [],
   "source": [
    "import pandas as pd\n",
    "df = pd.DataFrame(all_data)"
   ]
  },
  {
   "cell_type": "code",
   "execution_count": 9,
   "metadata": {},
   "outputs": [
    {
     "name": "stderr",
     "output_type": "stream",
     "text": [
      "100%|██████████| 1351/1351 [00:00<00:00, 269974.97it/s]\n"
     ]
    }
   ],
   "source": [
    "from tqdm import tqdm\n",
    "\n",
    "tqdm.pandas()\n",
    "df['관광지명'] = df['관광지명'].progress_apply(lambda x: x.replace(' ',''))"
   ]
  },
  {
   "cell_type": "code",
   "execution_count": 24,
   "metadata": {},
   "outputs": [],
   "source": [
    "import re\n",
    "\n",
    "pattern = re.compile(r'\\([^)]*\\)')\n",
    "\n",
    "df['관광지명'] = df['관광지명'].apply(lambda x: re.sub(pattern, '', x))"
   ]
  },
  {
   "cell_type": "code",
   "execution_count": 6,
   "metadata": {},
   "outputs": [],
   "source": [
    "b = pd.read_csv('./data/busan.csv')"
   ]
  },
  {
   "cell_type": "code",
   "execution_count": 30,
   "metadata": {},
   "outputs": [],
   "source": [
    "b = pd.merge(b,df[['관광지명','catch','description']],on='관광지명',how='left')"
   ]
  },
  {
   "cell_type": "code",
   "execution_count": null,
   "metadata": {},
   "outputs": [
    {
     "data": {
      "text/html": [
       "<div>\n",
       "<style scoped>\n",
       "    .dataframe tbody tr th:only-of-type {\n",
       "        vertical-align: middle;\n",
       "    }\n",
       "\n",
       "    .dataframe tbody tr th {\n",
       "        vertical-align: top;\n",
       "    }\n",
       "\n",
       "    .dataframe thead th {\n",
       "        text-align: right;\n",
       "    }\n",
       "</style>\n",
       "<table border=\"1\" class=\"dataframe\">\n",
       "  <thead>\n",
       "    <tr style=\"text-align: right;\">\n",
       "      <th></th>\n",
       "      <th>관광지명</th>\n",
       "      <th>주소</th>\n",
       "      <th>평균 체류시간</th>\n",
       "      <th>stars</th>\n",
       "      <th>reviews</th>\n",
       "      <th>광역지자체별 거주 방문자 비율</th>\n",
       "      <th>search_number</th>\n",
       "      <th>catch</th>\n",
       "      <th>description</th>\n",
       "    </tr>\n",
       "  </thead>\n",
       "  <tbody>\n",
       "  </tbody>\n",
       "</table>\n",
       "</div>"
      ],
      "text/plain": [
       "Empty DataFrame\n",
       "Columns: [관광지명, 주소, 평균 체류시간, stars, reviews, 광역지자체별 거주 방문자 비율, search_number, catch, description]\n",
       "Index: []"
      ]
     },
     "metadata": {},
     "output_type": "display_data"
    }
   ],
   "source": [
    "b[b.description.isna()]"
   ]
  },
  {
   "cell_type": "code",
   "execution_count": null,
   "metadata": {},
   "outputs": [],
   "source": [
    "df[df['관광지명'].str.contains('')]"
   ]
  },
  {
   "cell_type": "code",
   "execution_count": 72,
   "metadata": {},
   "outputs": [],
   "source": [
    "b.loc[7,['catch','description']] = [df.iloc[1044]['catch'],df.iloc[1044]['description']]\n",
    "b.loc[10,['catch','description']] = [df.iloc[129]['catch'],df.iloc[129]['description']]\n",
    "b.loc[39,['catch','description']] = [df.iloc[1012]['catch'],df.iloc[1012]['description']]\n",
    "b.loc[62,['catch','description']] = [df.iloc[427]['catch'],df.iloc[427]['description']]\n",
    "b.loc[131,['catch','description']] = [df.iloc[797]['catch'],df.iloc[797]['description']]\n",
    "b.loc[196,['catch','description']] = [df.iloc[981]['catch'],df.iloc[981]['description']]\n",
    "b.loc[200,['catch','description']] = [df.iloc[1156]['catch'],df.iloc[1156]['description']]\n",
    "b.loc[204,['catch','description']] = [df.iloc[214]['catch'],df.iloc[214]['description']]\n",
    "b.loc[229,['catch','description']] = [df.iloc[1162]['catch'],df.iloc[1162]['description']]"
   ]
  },
  {
   "cell_type": "code",
   "execution_count": 76,
   "metadata": {},
   "outputs": [],
   "source": [
    "b.to_csv('./부산/basic_info.csv',encoding='utf-8',index=False)"
   ]
  },
  {
   "cell_type": "markdown",
   "metadata": {},
   "source": [
    "## 울산 description"
   ]
  },
  {
   "cell_type": "code",
   "execution_count": 80,
   "metadata": {},
   "outputs": [
    {
     "name": "stdout",
     "output_type": "stream",
     "text": [
      "1\n",
      "2\n",
      "3\n",
      "4\n",
      "5\n",
      "6\n"
     ]
    }
   ],
   "source": [
    "url = 'https://korean.visitkorea.or.kr/call'\n",
    "params = {\n",
    "    'cmd': 'TOUR_CONTENT_LIST_VIEW',\n",
    "    'month': 'All',\n",
    "    'areaCode': '7',\n",
    "    'sigunguCode': 'All',\n",
    "    'tagId': 'All',\n",
    "    'sortkind': '1',\n",
    "    'locationx': '0',\n",
    "    'locationy': '0',\n",
    "    'page': '1',\n",
    "    'cnt': '100',\n",
    "    'typeList': 'Tour',\n",
    "    'stampId': '1589345b-b030-11ea-b8bd-020027310001'\n",
    "}\n",
    "\n",
    "all_data = []  # 모든 페이지의 데이터를 저장할 리스트\n",
    "\n",
    "while True:\n",
    "    response = requests.get(url, params=params)\n",
    "    data = response.json()\n",
    "\n",
    "    # 받은 데이터에서 필요한 정보 추출\n",
    "    result_list = data.get('body', {}).get('result', [])\n",
    "    for item in result_list:\n",
    "        img_path = item.get('imgPath', '')\n",
    "        img_url = f'https://cdn.visitkorea.or.kr/img/call?cmd=VIEW&id={img_path}'\n",
    "        \n",
    "        extracted_data = {\n",
    "            '관광지명': item.get('TITLE', ''),\n",
    "            'catch': item.get('catchPhrase', ''),\n",
    "            'addr1': item.get('addr1', ''),\n",
    "            'img': img_url,\n",
    "            'cotid' : item.get('cotId', ''),\n",
    "            'areaCode' : item.get('areaCode', ''),\n",
    "            'cat1' : item.get('cat1', ''),\n",
    "            'cat2' : item.get('cat2', '')\n",
    "        }\n",
    "        \n",
    "        cotid = extracted_data['cotid']\n",
    "        cat1 = extracted_data['cat1']\n",
    "        cat2 = extracted_data['cat2']\n",
    "        areaCode = extracted_data['areaCode']\n",
    "        \n",
    "        new_url = f'https://korean.visitkorea.or.kr/detail/ms_detail.do?cotid={cotid}&big_category={cat1}&mid_category={cat2}&big_area={areaCode}'\n",
    "        response = requests.get(new_url)\n",
    "        html = response.text\n",
    "        soup = BeautifulSoup(html,'html.parser')\n",
    "        description = soup.find('div',class_='blind').text\n",
    "        description = description.replace('\\n','').replace('\\t','')\n",
    "        extracted_data['description'] = description\n",
    "\n",
    "        all_data.append(extracted_data)\n",
    "    \n",
    "    # 다음 페이지로 이동\n",
    "    # if params['page'] in range(0,1000,100):\n",
    "    #     print('time sleep')\n",
    "    #     time.sleep(200)\n",
    "    # else:\n",
    "    \n",
    "    print(params['page'])\n",
    "    params['page'] = str(int(params['page']) + 1)\n",
    "    \n",
    "\n",
    "    # 만약 더 이상 페이지가 없으면 반복문 종료\n",
    "    if not result_list or len(all_data) == 563:\n",
    "        break"
   ]
  },
  {
   "cell_type": "code",
   "execution_count": 82,
   "metadata": {},
   "outputs": [],
   "source": [
    "df = pd.DataFrame(all_data)"
   ]
  },
  {
   "cell_type": "code",
   "execution_count": 85,
   "metadata": {},
   "outputs": [
    {
     "name": "stderr",
     "output_type": "stream",
     "text": [
      "100%|██████████| 563/563 [00:00<00:00, 281486.85it/s]\n"
     ]
    }
   ],
   "source": [
    "tqdm.pandas()\n",
    "df['관광지명'] = df['관광지명'].progress_apply(lambda x: x.replace(' ',''))\n",
    "\n",
    "pattern = re.compile(r'\\([^)]*\\)')\n",
    "df['관광지명'] = df['관광지명'].apply(lambda x: re.sub(pattern, '', x))"
   ]
  },
  {
   "cell_type": "code",
   "execution_count": 95,
   "metadata": {},
   "outputs": [],
   "source": [
    "u = pd.read_csv('./울산/basic_info.csv')"
   ]
  },
  {
   "cell_type": "code",
   "execution_count": 96,
   "metadata": {},
   "outputs": [],
   "source": [
    "u = pd.merge(u,df[['관광지명','catch','description']],on='관광지명',how='left')"
   ]
  },
  {
   "cell_type": "code",
   "execution_count": null,
   "metadata": {},
   "outputs": [
    {
     "data": {
      "text/html": [
       "<div>\n",
       "<style scoped>\n",
       "    .dataframe tbody tr th:only-of-type {\n",
       "        vertical-align: middle;\n",
       "    }\n",
       "\n",
       "    .dataframe tbody tr th {\n",
       "        vertical-align: top;\n",
       "    }\n",
       "\n",
       "    .dataframe thead th {\n",
       "        text-align: right;\n",
       "    }\n",
       "</style>\n",
       "<table border=\"1\" class=\"dataframe\">\n",
       "  <thead>\n",
       "    <tr style=\"text-align: right;\">\n",
       "      <th></th>\n",
       "      <th>관광지명</th>\n",
       "      <th>주소</th>\n",
       "      <th>평균 체류시간</th>\n",
       "      <th>stars</th>\n",
       "      <th>reviews</th>\n",
       "      <th>광역지자체별 거주 방문자 비율</th>\n",
       "      <th>search_number</th>\n",
       "      <th>catch</th>\n",
       "      <th>description</th>\n",
       "    </tr>\n",
       "  </thead>\n",
       "  <tbody>\n",
       "  </tbody>\n",
       "</table>\n",
       "</div>"
      ],
      "text/plain": [
       "Empty DataFrame\n",
       "Columns: [관광지명, 주소, 평균 체류시간, stars, reviews, 광역지자체별 거주 방문자 비율, search_number, catch, description]\n",
       "Index: []"
      ]
     },
     "metadata": {},
     "output_type": "display_data"
    }
   ],
   "source": [
    "u[u.description.isna()]"
   ]
  },
  {
   "cell_type": "code",
   "execution_count": null,
   "metadata": {},
   "outputs": [],
   "source": [
    "df[df['관광지명'].str.contains('')]"
   ]
  },
  {
   "cell_type": "code",
   "execution_count": 115,
   "metadata": {},
   "outputs": [],
   "source": [
    "u.loc[73,['catch','description']] = [df.iloc[111]['catch'],df.iloc[111]['description']]\n",
    "u.loc[79,['catch','description']] = [df.iloc[1]['catch'],df.iloc[1]['description']]\n",
    "u.loc[82,['catch','description']] = [df.iloc[166]['catch'],df.iloc[166]['description']]\n",
    "u.loc[111,['catch','description']] = [df.iloc[120]['catch'],df.iloc[120]['description']]"
   ]
  },
  {
   "cell_type": "code",
   "execution_count": 118,
   "metadata": {},
   "outputs": [],
   "source": [
    "u.to_csv('./울산/basic_info.csv',encoding='utf-8',index=False)"
   ]
  },
  {
   "cell_type": "markdown",
   "metadata": {},
   "source": [
    "## 경남 description"
   ]
  },
  {
   "cell_type": "code",
   "execution_count": 119,
   "metadata": {},
   "outputs": [
    {
     "name": "stdout",
     "output_type": "stream",
     "text": [
      "1\n",
      "2\n",
      "3\n",
      "4\n",
      "5\n"
     ]
    }
   ],
   "source": [
    "url = 'https://korean.visitkorea.or.kr/call'\n",
    "params = {\n",
    "    'cmd': 'TOUR_CONTENT_LIST_VIEW',\n",
    "    'month': 'All',\n",
    "    'areaCode': '36',\n",
    "    'sigunguCode': '16',\n",
    "    'tagId': 'All',\n",
    "    'sortkind': '1',\n",
    "    'locationx': '0',\n",
    "    'locationy': '0',\n",
    "    'page': '1',\n",
    "    'cnt': '100',\n",
    "    'typeList': 'Tour',\n",
    "    'stampId': '1589345b-b030-11ea-b8bd-020027310001'\n",
    "}\n",
    "\n",
    "all_data = []  # 모든 페이지의 데이터를 저장할 리스트\n",
    "\n",
    "while True:\n",
    "    response = requests.get(url, params=params)\n",
    "    data = response.json()\n",
    "\n",
    "    # 받은 데이터에서 필요한 정보 추출\n",
    "    result_list = data.get('body', {}).get('result', [])\n",
    "    for item in result_list:\n",
    "        img_path = item.get('imgPath', '')\n",
    "        img_url = f'https://cdn.visitkorea.or.kr/img/call?cmd=VIEW&id={img_path}'\n",
    "        \n",
    "        extracted_data = {\n",
    "            '관광지명': item.get('TITLE', ''),\n",
    "            'catch': item.get('catchPhrase', ''),\n",
    "            'addr1': item.get('addr1', ''),\n",
    "            'img': img_url,\n",
    "            'cotid' : item.get('cotId', ''),\n",
    "            'areaCode' : item.get('areaCode', ''),\n",
    "            'cat1' : item.get('cat1', ''),\n",
    "            'cat2' : item.get('cat2', '')\n",
    "        }\n",
    "        \n",
    "        cotid = extracted_data['cotid']\n",
    "        cat1 = extracted_data['cat1']\n",
    "        cat2 = extracted_data['cat2']\n",
    "        areaCode = extracted_data['areaCode']\n",
    "        \n",
    "        new_url = f'https://korean.visitkorea.or.kr/detail/ms_detail.do?cotid={cotid}&big_category={cat1}&mid_category={cat2}&big_area={areaCode}'\n",
    "        response = requests.get(new_url)\n",
    "        html = response.text\n",
    "        soup = BeautifulSoup(html,'html.parser')\n",
    "        description = soup.find('div',class_='blind').text\n",
    "        description = description.replace('\\n','').replace('\\t','')\n",
    "        extracted_data['description'] = description\n",
    "\n",
    "        all_data.append(extracted_data)\n",
    "    \n",
    "    # 다음 페이지로 이동\n",
    "    # if params['page'] in range(0,1000,100):\n",
    "    #     print('time sleep')\n",
    "    #     time.sleep(200)\n",
    "    # else:\n",
    "    \n",
    "    print(params['page'])\n",
    "    params['page'] = str(int(params['page']) + 1)\n",
    "    \n",
    "\n",
    "    # 만약 더 이상 페이지가 없으면 반복문 종료\n",
    "    if not result_list or len(all_data) == 430:\n",
    "        break"
   ]
  },
  {
   "cell_type": "code",
   "execution_count": 122,
   "metadata": {},
   "outputs": [],
   "source": [
    "df = pd.DataFrame(all_data)"
   ]
  },
  {
   "cell_type": "code",
   "execution_count": 124,
   "metadata": {},
   "outputs": [
    {
     "name": "stderr",
     "output_type": "stream",
     "text": [
      "100%|██████████| 430/430 [00:00<00:00, 429928.66it/s]\n"
     ]
    }
   ],
   "source": [
    "tqdm.pandas()\n",
    "df['관광지명'] = df['관광지명'].progress_apply(lambda x: x.replace(' ',''))\n",
    "\n",
    "pattern = re.compile(r'\\([^)]*\\)')\n",
    "df['관광지명'] = df['관광지명'].apply(lambda x: re.sub(pattern, '', x))"
   ]
  },
  {
   "cell_type": "code",
   "execution_count": 125,
   "metadata": {},
   "outputs": [],
   "source": [
    "gy = pd.read_csv('./경남/basic_info.csv')"
   ]
  },
  {
   "cell_type": "code",
   "execution_count": 128,
   "metadata": {},
   "outputs": [],
   "source": [
    "gy = pd.merge(gy,df[['관광지명','catch','description']],on='관광지명',how='left')"
   ]
  },
  {
   "cell_type": "code",
   "execution_count": null,
   "metadata": {},
   "outputs": [
    {
     "data": {
      "text/html": [
       "<div>\n",
       "<style scoped>\n",
       "    .dataframe tbody tr th:only-of-type {\n",
       "        vertical-align: middle;\n",
       "    }\n",
       "\n",
       "    .dataframe tbody tr th {\n",
       "        vertical-align: top;\n",
       "    }\n",
       "\n",
       "    .dataframe thead th {\n",
       "        text-align: right;\n",
       "    }\n",
       "</style>\n",
       "<table border=\"1\" class=\"dataframe\">\n",
       "  <thead>\n",
       "    <tr style=\"text-align: right;\">\n",
       "      <th></th>\n",
       "      <th>관광지명</th>\n",
       "      <th>주소</th>\n",
       "      <th>평균 체류시간</th>\n",
       "      <th>stars</th>\n",
       "      <th>reviews</th>\n",
       "      <th>광역지자체별 거주 방문자 비율</th>\n",
       "      <th>search_number</th>\n",
       "      <th>catch</th>\n",
       "      <th>description</th>\n",
       "    </tr>\n",
       "  </thead>\n",
       "  <tbody>\n",
       "  </tbody>\n",
       "</table>\n",
       "</div>"
      ],
      "text/plain": [
       "Empty DataFrame\n",
       "Columns: [관광지명, 주소, 평균 체류시간, stars, reviews, 광역지자체별 거주 방문자 비율, search_number, catch, description]\n",
       "Index: []"
      ]
     },
     "metadata": {},
     "output_type": "display_data"
    }
   ],
   "source": [
    "gy[gy.description.isna()]"
   ]
  },
  {
   "cell_type": "code",
   "execution_count": null,
   "metadata": {},
   "outputs": [],
   "source": [
    "df[df['관광지명'].str.contains('')]"
   ]
  },
  {
   "cell_type": "code",
   "execution_count": 160,
   "metadata": {},
   "outputs": [],
   "source": [
    "gy.loc[7,['catch','description']] = [df.iloc[27]['catch'],df.iloc[27]['description']]\n",
    "gy.loc[26,['catch','description']] = [df.iloc[133]['catch'],df.iloc[133]['description']]\n",
    "gy.loc[29,['catch','description']] = [df.iloc[36]['catch'],df.iloc[36]['description']]\n",
    "gy.loc[33,['catch','description']] = [df.iloc[351]['catch'],df.iloc[351]['description']]\n",
    "gy.loc[39,['catch','description']] = [df.iloc[256]['catch'],df.iloc[256]['description']]\n",
    "gy.loc[41,['catch','description']] = [df.iloc[20]['catch'],df.iloc[20]['description']]\n",
    "gy.loc[42,['catch','description']] = [df.iloc[376]['catch'],df.iloc[376]['description']]\n",
    "gy.loc[52,['catch','description']] = [df.iloc[44]['catch'],df.iloc[44]['description']]\n",
    "gy.loc[55,['catch','description']] = [df.iloc[324]['catch'],df.iloc[324]['description']]\n",
    "gy.loc[60,['catch','description']] = [df.iloc[7]['catch'],df.iloc[7]['description']]\n",
    "gy.loc[64,['catch','description']] = [df.iloc[84]['catch'],df.iloc[84]['description']]\n",
    "gy.loc[65,['catch','description']] = [df.iloc[382]['catch'],df.iloc[382]['description']]\n",
    "gy.loc[69,['catch','description']] = [df.iloc[352]['catch'],df.iloc[352]['description']]\n",
    "gy.loc[73,['catch','description']] = [df.iloc[342]['catch'],df.iloc[342]['description']]\n",
    "gy.loc[92,['catch','description']] = [df.iloc[109]['catch'],df.iloc[109]['description']]\n",
    "gy.loc[100,['catch','description']] = [df.iloc[119]['catch'],df.iloc[119]['description']]\n"
   ]
  },
  {
   "cell_type": "code",
   "execution_count": 163,
   "metadata": {},
   "outputs": [],
   "source": [
    "gy.to_csv('./경남/basic_info.csv',encoding='utf-8',index=False)"
   ]
  },
  {
   "cell_type": "markdown",
   "metadata": {},
   "source": [
    "## 전남 description"
   ]
  },
  {
   "cell_type": "code",
   "execution_count": 164,
   "metadata": {},
   "outputs": [
    {
     "name": "stdout",
     "output_type": "stream",
     "text": [
      "1\n",
      "2\n",
      "3\n",
      "4\n",
      "5\n"
     ]
    }
   ],
   "source": [
    "url = 'https://korean.visitkorea.or.kr/call'\n",
    "params = {\n",
    "    'cmd': 'TOUR_CONTENT_LIST_VIEW',\n",
    "    'month': 'All',\n",
    "    'areaCode': '38',\n",
    "    'sigunguCode': '13',\n",
    "    'tagId': 'All',\n",
    "    'sortkind': '1',\n",
    "    'locationx': '0',\n",
    "    'locationy': '0',\n",
    "    'page': '1',\n",
    "    'cnt': '100',\n",
    "    'typeList': 'Tour',\n",
    "    'stampId': '1589345b-b030-11ea-b8bd-020027310001'\n",
    "}\n",
    "\n",
    "all_data = []  # 모든 페이지의 데이터를 저장할 리스트\n",
    "\n",
    "while True:\n",
    "    response = requests.get(url, params=params)\n",
    "    data = response.json()\n",
    "\n",
    "    # 받은 데이터에서 필요한 정보 추출\n",
    "    result_list = data.get('body', {}).get('result', [])\n",
    "    for item in result_list:\n",
    "        img_path = item.get('imgPath', '')\n",
    "        img_url = f'https://cdn.visitkorea.or.kr/img/call?cmd=VIEW&id={img_path}'\n",
    "        \n",
    "        extracted_data = {\n",
    "            '관광지명': item.get('TITLE', ''),\n",
    "            'catch': item.get('catchPhrase', ''),\n",
    "            'addr1': item.get('addr1', ''),\n",
    "            'img': img_url,\n",
    "            'cotid' : item.get('cotId', ''),\n",
    "            'areaCode' : item.get('areaCode', ''),\n",
    "            'cat1' : item.get('cat1', ''),\n",
    "            'cat2' : item.get('cat2', '')\n",
    "        }\n",
    "        \n",
    "        cotid = extracted_data['cotid']\n",
    "        cat1 = extracted_data['cat1']\n",
    "        cat2 = extracted_data['cat2']\n",
    "        areaCode = extracted_data['areaCode']\n",
    "        \n",
    "        new_url = f'https://korean.visitkorea.or.kr/detail/ms_detail.do?cotid={cotid}&big_category={cat1}&mid_category={cat2}&big_area={areaCode}'\n",
    "        response = requests.get(new_url)\n",
    "        html = response.text\n",
    "        soup = BeautifulSoup(html,'html.parser')\n",
    "        description = soup.find('div',class_='blind').text\n",
    "        description = description.replace('\\n','').replace('\\t','')\n",
    "        extracted_data['description'] = description\n",
    "\n",
    "        all_data.append(extracted_data)\n",
    "    \n",
    "    # 다음 페이지로 이동\n",
    "    # if params['page'] in range(0,1000,100):\n",
    "    #     print('time sleep')\n",
    "    #     time.sleep(200)\n",
    "    # else:\n",
    "    \n",
    "    print(params['page'])\n",
    "    params['page'] = str(int(params['page']) + 1)\n",
    "    \n",
    "\n",
    "    # 만약 더 이상 페이지가 없으면 반복문 종료\n",
    "    if not result_list or len(all_data) == 474:\n",
    "        break"
   ]
  },
  {
   "cell_type": "code",
   "execution_count": 165,
   "metadata": {},
   "outputs": [],
   "source": [
    "df = pd.DataFrame(all_data)"
   ]
  },
  {
   "cell_type": "code",
   "execution_count": 167,
   "metadata": {},
   "outputs": [
    {
     "name": "stderr",
     "output_type": "stream",
     "text": [
      "100%|██████████| 474/474 [00:00<00:00, 474034.36it/s]\n"
     ]
    }
   ],
   "source": [
    "tqdm.pandas()\n",
    "df['관광지명'] = df['관광지명'].progress_apply(lambda x: x.replace(' ',''))\n",
    "\n",
    "pattern = re.compile(r'\\([^)]*\\)')\n",
    "df['관광지명'] = df['관광지명'].apply(lambda x: re.sub(pattern, '', x))"
   ]
  },
  {
   "cell_type": "code",
   "execution_count": 168,
   "metadata": {},
   "outputs": [],
   "source": [
    "j = pd.read_csv('./전남/basic_info.csv')"
   ]
  },
  {
   "cell_type": "code",
   "execution_count": 170,
   "metadata": {},
   "outputs": [],
   "source": [
    "j = pd.merge(j,df[['관광지명','catch','description']],on='관광지명',how='left')"
   ]
  },
  {
   "cell_type": "code",
   "execution_count": null,
   "metadata": {},
   "outputs": [
    {
     "data": {
      "text/html": [
       "<div>\n",
       "<style scoped>\n",
       "    .dataframe tbody tr th:only-of-type {\n",
       "        vertical-align: middle;\n",
       "    }\n",
       "\n",
       "    .dataframe tbody tr th {\n",
       "        vertical-align: top;\n",
       "    }\n",
       "\n",
       "    .dataframe thead th {\n",
       "        text-align: right;\n",
       "    }\n",
       "</style>\n",
       "<table border=\"1\" class=\"dataframe\">\n",
       "  <thead>\n",
       "    <tr style=\"text-align: right;\">\n",
       "      <th></th>\n",
       "      <th>관광지명</th>\n",
       "      <th>주소</th>\n",
       "      <th>평균 체류시간</th>\n",
       "      <th>stars</th>\n",
       "      <th>reviews</th>\n",
       "      <th>광역지자체별 거주 방문자 비율</th>\n",
       "      <th>search_number</th>\n",
       "      <th>catch</th>\n",
       "      <th>description</th>\n",
       "    </tr>\n",
       "  </thead>\n",
       "  <tbody>\n",
       "  </tbody>\n",
       "</table>\n",
       "</div>"
      ],
      "text/plain": [
       "Empty DataFrame\n",
       "Columns: [관광지명, 주소, 평균 체류시간, stars, reviews, 광역지자체별 거주 방문자 비율, search_number, catch, description]\n",
       "Index: []"
      ]
     },
     "metadata": {},
     "output_type": "display_data"
    }
   ],
   "source": [
    "j[j.description.isna()]"
   ]
  },
  {
   "cell_type": "code",
   "execution_count": null,
   "metadata": {},
   "outputs": [],
   "source": [
    "df[df['관광지명'].str.contains('')]"
   ]
  },
  {
   "cell_type": "code",
   "execution_count": 200,
   "metadata": {},
   "outputs": [],
   "source": [
    "j.loc[9,['catch','description']] = [df.iloc[97]['catch'],df.iloc[97]['description']]\n",
    "j.loc[15,['catch','description']] = [df.iloc[163]['catch'],df.iloc[163]['description']]\n",
    "j.loc[25,['catch','description']] = [df.iloc[98]['catch'],df.iloc[98]['description']]\n",
    "j.loc[28,['catch','description']] = [df.iloc[348]['catch'],df.iloc[348]['description']]\n",
    "j.loc[30,['catch','description']] = [df.iloc[232]['catch'],df.iloc[232]['description']]\n",
    "\n",
    "j.loc[36,['catch','description']] = [df.iloc[341]['catch'],df.iloc[341]['description']]\n",
    "j.loc[37,['catch','description']] = [df.iloc[49]['catch'],df.iloc[49]['description']]\n",
    "j.loc[44,['catch','description']] = [df.iloc[86]['catch'],df.iloc[86]['description']]\n",
    "j.loc[46,['catch','description']] = [df.iloc[48]['catch'],df.iloc[48]['description']]\n",
    "j.loc[59,['catch','description']] = [df.iloc[167]['catch'],df.iloc[167]['description']]\n",
    "\n",
    "j.loc[62,['catch','description']] = [df.iloc[10]['catch'],df.iloc[10]['description']]\n",
    "j.loc[66,['catch','description']] = [df.iloc[220]['catch'],df.iloc[220]['description']]\n",
    "j.loc[67,['catch','description']] = [df.iloc[13]['catch'],df.iloc[13]['description']]\n",
    "j.loc[69,['catch','description']] = [df.iloc[376]['catch'],df.iloc[376]['description']]\n",
    "j.loc[72,['catch','description']] = [df.iloc[418]['catch'],df.iloc[418]['description']]\n",
    "\n",
    "j.loc[73,['catch','description']] = [df.iloc[2]['catch'],df.iloc[2]['description']]\n",
    "j.loc[79,['catch','description']] = [df.iloc[7]['catch'],df.iloc[7]['description']]\n",
    "j.loc[80,['catch','description']] = [df.iloc[55]['catch'],df.iloc[55]['description']]\n",
    "j.loc[82,['catch','description']] = [df.iloc[394]['catch'],df.iloc[394]['description']]\n",
    "j.loc[60,['catch','description']] = [df.iloc[353]['catch'],df.iloc[353]['description']]\n"
   ]
  },
  {
   "cell_type": "code",
   "execution_count": 202,
   "metadata": {},
   "outputs": [],
   "source": [
    "j.to_csv('./전남/basic_info.csv',encoding='utf-8',index=False)"
   ]
  },
  {
   "cell_type": "markdown",
   "metadata": {},
   "source": [
    "## 광주 description"
   ]
  },
  {
   "cell_type": "code",
   "execution_count": 203,
   "metadata": {},
   "outputs": [
    {
     "name": "stdout",
     "output_type": "stream",
     "text": [
      "1\n",
      "2\n",
      "3\n",
      "4\n",
      "5\n"
     ]
    }
   ],
   "source": [
    "url = 'https://korean.visitkorea.or.kr/call'\n",
    "params = {\n",
    "    'cmd': 'TOUR_CONTENT_LIST_VIEW',\n",
    "    'month': 'All',\n",
    "    'areaCode': '5',\n",
    "    'sigunguCode': 'All',\n",
    "    'tagId': 'All',\n",
    "    'sortkind': '1',\n",
    "    'locationx': '0',\n",
    "    'locationy': '0',\n",
    "    'page': '1',\n",
    "    'cnt': '100',\n",
    "    'typeList': 'Tour',\n",
    "    'stampId': '1589345b-b030-11ea-b8bd-020027310001'\n",
    "}\n",
    "\n",
    "all_data = []  # 모든 페이지의 데이터를 저장할 리스트\n",
    "\n",
    "while True:\n",
    "    response = requests.get(url, params=params)\n",
    "    data = response.json()\n",
    "\n",
    "    # 받은 데이터에서 필요한 정보 추출\n",
    "    result_list = data.get('body', {}).get('result', [])\n",
    "    for item in result_list:\n",
    "        img_path = item.get('imgPath', '')\n",
    "        img_url = f'https://cdn.visitkorea.or.kr/img/call?cmd=VIEW&id={img_path}'\n",
    "        \n",
    "        extracted_data = {\n",
    "            '관광지명': item.get('TITLE', ''),\n",
    "            'catch': item.get('catchPhrase', ''),\n",
    "            'addr1': item.get('addr1', ''),\n",
    "            'img': img_url,\n",
    "            'cotid' : item.get('cotId', ''),\n",
    "            'areaCode' : item.get('areaCode', ''),\n",
    "            'cat1' : item.get('cat1', ''),\n",
    "            'cat2' : item.get('cat2', '')\n",
    "        }\n",
    "        \n",
    "        cotid = extracted_data['cotid']\n",
    "        cat1 = extracted_data['cat1']\n",
    "        cat2 = extracted_data['cat2']\n",
    "        areaCode = extracted_data['areaCode']\n",
    "        \n",
    "        new_url = f'https://korean.visitkorea.or.kr/detail/ms_detail.do?cotid={cotid}&big_category={cat1}&mid_category={cat2}&big_area={areaCode}'\n",
    "        response = requests.get(new_url)\n",
    "        html = response.text\n",
    "        soup = BeautifulSoup(html,'html.parser')\n",
    "        description = soup.find('div',class_='blind').text\n",
    "        description = description.replace('\\n','').replace('\\t','')\n",
    "        extracted_data['description'] = description\n",
    "\n",
    "        all_data.append(extracted_data)\n",
    "    \n",
    "    # 다음 페이지로 이동\n",
    "    # if params['page'] in range(0,1000,100):\n",
    "    #     print('time sleep')\n",
    "    #     time.sleep(200)\n",
    "    # else:\n",
    "    \n",
    "    print(params['page'])\n",
    "    params['page'] = str(int(params['page']) + 1)\n",
    "    \n",
    "\n",
    "    # 만약 더 이상 페이지가 없으면 반복문 종료\n",
    "    if not result_list or len(all_data) == 493:\n",
    "        break"
   ]
  },
  {
   "cell_type": "code",
   "execution_count": 205,
   "metadata": {},
   "outputs": [],
   "source": [
    "df = pd.DataFrame(all_data)"
   ]
  },
  {
   "cell_type": "code",
   "execution_count": 207,
   "metadata": {},
   "outputs": [
    {
     "name": "stderr",
     "output_type": "stream",
     "text": [
      "100%|██████████| 493/493 [00:00<00:00, 246165.70it/s]\n"
     ]
    }
   ],
   "source": [
    "tqdm.pandas()\n",
    "df['관광지명'] = df['관광지명'].progress_apply(lambda x: x.replace(' ',''))\n",
    "\n",
    "pattern = re.compile(r'\\([^)]*\\)')\n",
    "df['관광지명'] = df['관광지명'].apply(lambda x: re.sub(pattern, '', x))"
   ]
  },
  {
   "cell_type": "code",
   "execution_count": 208,
   "metadata": {},
   "outputs": [],
   "source": [
    "gw = pd.read_csv('./광주/basic_info.csv')"
   ]
  },
  {
   "cell_type": "code",
   "execution_count": 210,
   "metadata": {},
   "outputs": [],
   "source": [
    "gw = pd.merge(gw,df[['관광지명','catch','description']],on='관광지명',how='left')"
   ]
  },
  {
   "cell_type": "code",
   "execution_count": null,
   "metadata": {},
   "outputs": [
    {
     "data": {
      "text/html": [
       "<div>\n",
       "<style scoped>\n",
       "    .dataframe tbody tr th:only-of-type {\n",
       "        vertical-align: middle;\n",
       "    }\n",
       "\n",
       "    .dataframe tbody tr th {\n",
       "        vertical-align: top;\n",
       "    }\n",
       "\n",
       "    .dataframe thead th {\n",
       "        text-align: right;\n",
       "    }\n",
       "</style>\n",
       "<table border=\"1\" class=\"dataframe\">\n",
       "  <thead>\n",
       "    <tr style=\"text-align: right;\">\n",
       "      <th></th>\n",
       "      <th>관광지명</th>\n",
       "      <th>주소</th>\n",
       "      <th>평균 체류시간</th>\n",
       "      <th>stars</th>\n",
       "      <th>reviews</th>\n",
       "      <th>광역지자체별 거주 방문자 비율</th>\n",
       "      <th>search_number</th>\n",
       "      <th>catch</th>\n",
       "      <th>description</th>\n",
       "    </tr>\n",
       "  </thead>\n",
       "  <tbody>\n",
       "  </tbody>\n",
       "</table>\n",
       "</div>"
      ],
      "text/plain": [
       "Empty DataFrame\n",
       "Columns: [관광지명, 주소, 평균 체류시간, stars, reviews, 광역지자체별 거주 방문자 비율, search_number, catch, description]\n",
       "Index: []"
      ]
     },
     "metadata": {},
     "output_type": "display_data"
    }
   ],
   "source": [
    "gw[gw.description.isna()]"
   ]
  },
  {
   "cell_type": "code",
   "execution_count": null,
   "metadata": {},
   "outputs": [
    {
     "data": {
      "text/html": [
       "<div>\n",
       "<style scoped>\n",
       "    .dataframe tbody tr th:only-of-type {\n",
       "        vertical-align: middle;\n",
       "    }\n",
       "\n",
       "    .dataframe tbody tr th {\n",
       "        vertical-align: top;\n",
       "    }\n",
       "\n",
       "    .dataframe thead th {\n",
       "        text-align: right;\n",
       "    }\n",
       "</style>\n",
       "<table border=\"1\" class=\"dataframe\">\n",
       "  <thead>\n",
       "    <tr style=\"text-align: right;\">\n",
       "      <th></th>\n",
       "      <th>관광지명</th>\n",
       "      <th>catch</th>\n",
       "      <th>addr1</th>\n",
       "      <th>img</th>\n",
       "      <th>cotid</th>\n",
       "      <th>areaCode</th>\n",
       "      <th>cat1</th>\n",
       "      <th>cat2</th>\n",
       "      <th>description</th>\n",
       "    </tr>\n",
       "  </thead>\n",
       "  <tbody>\n",
       "    <tr>\n",
       "      <th>138</th>\n",
       "      <td>하정웅미술관</td>\n",
       "      <td>시간과 공간을 넘나들며 한국 근현대사의 폭을 한층 확장시킨 '하정웅미술관'\\t\\t</td>\n",
       "      <td>광주광역시 서구 상무대로 1165</td>\n",
       "      <td>https://cdn.visitkorea.or.kr/img/call?cmd=VIEW...</td>\n",
       "      <td>97c6b0af-48df-4b62-94db-1c7ae5c6b5f1</td>\n",
       "      <td>5</td>\n",
       "      <td>A02</td>\n",
       "      <td>A0206</td>\n",
       "      <td>광주시립미술관 분관 ''하정웅미술관''은 1981년 3월에 건립되어 ''전남도지사 ...</td>\n",
       "    </tr>\n",
       "  </tbody>\n",
       "</table>\n",
       "</div>"
      ],
      "text/plain": [
       "       관광지명                                          catch  \\\n",
       "138  하정웅미술관  시간과 공간을 넘나들며 한국 근현대사의 폭을 한층 확장시킨 '하정웅미술관'\\t\\t   \n",
       "\n",
       "                  addr1                                                img  \\\n",
       "138  광주광역시 서구 상무대로 1165  https://cdn.visitkorea.or.kr/img/call?cmd=VIEW...   \n",
       "\n",
       "                                    cotid areaCode cat1   cat2  \\\n",
       "138  97c6b0af-48df-4b62-94db-1c7ae5c6b5f1        5  A02  A0206   \n",
       "\n",
       "                                           description  \n",
       "138  광주시립미술관 분관 ''하정웅미술관''은 1981년 3월에 건립되어 ''전남도지사 ...  "
      ]
     },
     "metadata": {},
     "output_type": "display_data"
    }
   ],
   "source": [
    "df[df['관광지명'].str.contains('하정웅미술관')]"
   ]
  },
  {
   "cell_type": "code",
   "execution_count": 231,
   "metadata": {},
   "outputs": [],
   "source": [
    "gw.loc[3,['catch','description']] = [df.iloc[41]['catch'],df.iloc[41]['description']]\n",
    "gw.loc[5,['catch','description']] = [df.iloc[85]['catch'],df.iloc[85]['description']]\n",
    "gw.loc[7,['catch','description']] = [df.iloc[149]['catch'],df.iloc[149]['description']]\n",
    "gw.loc[8,['catch','description']] = [df.iloc[38]['catch'],df.iloc[38]['description']]\n",
    "gw.loc[9,['catch','description']] = [df.iloc[351]['catch'],df.iloc[351]['description']]\n",
    "gw.loc[17,['catch','description']] = [df.iloc[40]['catch'],df.iloc[40]['description']]\n",
    "gw.loc[26,['catch','description']] = [df.iloc[11]['catch'],df.iloc[11]['description']]\n",
    "gw.loc[32,['catch','description']] = [df.iloc[27]['catch'],df.iloc[27]['description']]\n",
    "gw.loc[33,['catch','description']] = [df.iloc[449]['catch'],df.iloc[449]['description']]\n",
    "gw.loc[36,['catch','description']] = [df.iloc[83]['catch'],df.iloc[83]['description']]\n",
    "gw.loc[42,['catch','description']] = [df.iloc[356]['catch'],df.iloc[356]['description']]\n",
    "gw.loc[47,['catch','description']] = [df.iloc[138]['catch'],df.iloc[138]['description']]"
   ]
  },
  {
   "cell_type": "code",
   "execution_count": 233,
   "metadata": {},
   "outputs": [],
   "source": [
    "gw.to_csv('./광주/basic_info.csv',encoding='utf-8',index=False)"
   ]
  },
  {
   "cell_type": "markdown",
   "metadata": {},
   "source": [
    "========================================================================================================================================================================================================================================\n",
    "\n",
    "========================================================================================================================================================================================================================================\n",
    "\n",
    "========================================================================================================================================================================================================================================\n"
   ]
  },
  {
   "cell_type": "markdown",
   "metadata": {},
   "source": [
    "## 번역"
   ]
  },
  {
   "cell_type": "code",
   "execution_count": 1,
   "metadata": {},
   "outputs": [],
   "source": [
    "import pandas as pd\n",
    "\n",
    "busan = pd.read_csv('./data/busan.csv')\n",
    "ulsan = pd.read_csv('./data/ulsan.csv')\n",
    "gyeongnam = pd.read_csv('./data/gyeongnam.csv')\n",
    "jeonnam = pd.read_csv('./data/jeonnam.csv')\n",
    "gwangju = pd.read_csv('./data/gwangju.csv')"
   ]
  },
  {
   "cell_type": "code",
   "execution_count": 2,
   "metadata": {},
   "outputs": [],
   "source": [
    "busan_avg = busan['scores'].sum() / len(busan)\n",
    "ulsan_avg = ulsan['scores'].sum() / len(ulsan)\n",
    "gyeongnam_avg = gyeongnam['scores'].sum() / len(gyeongnam)\n",
    "jeonnam_avg = jeonnam['scores'].sum() / len(jeonnam)\n",
    "gwangju_avg = gwangju['scores'].sum() / len(gwangju)"
   ]
  },
  {
   "cell_type": "code",
   "execution_count": 3,
   "metadata": {},
   "outputs": [],
   "source": [
    "for i in range(len(busan)):\n",
    "    if busan.iloc[i]['scores'] >= busan_avg:\n",
    "        busan.at[i,'구분'] = '숨은 명소'\n",
    "    else:\n",
    "        busan.at[i,'구분'] = '일반 명소'\n",
    "        \n",
    "for i in range(len(ulsan)):\n",
    "    if ulsan.iloc[i]['scores'] >= ulsan_avg:\n",
    "        ulsan.at[i,'구분'] = '숨은 명소'\n",
    "    else:\n",
    "        ulsan.at[i,'구분'] = '일반 명소'\n",
    "        \n",
    "for i in range(len(gyeongnam)):\n",
    "    if gyeongnam.iloc[i]['scores'] >= gyeongnam_avg:\n",
    "        gyeongnam.at[i,'구분'] = '숨은 명소'\n",
    "    else:\n",
    "        gyeongnam.at[i,'구분'] = '일반 명소'\n",
    "        \n",
    "for i in range(len(jeonnam)):\n",
    "    if jeonnam.iloc[i]['scores'] >= jeonnam_avg:\n",
    "        jeonnam.at[i,'구분'] = '숨은 명소'\n",
    "    else:\n",
    "        jeonnam.at[i,'구분'] = '일반 명소'\n",
    "        \n",
    "for i in range(len(gwangju)):\n",
    "    if gwangju.iloc[i]['scores'] >= gwangju_avg:\n",
    "        gwangju.at[i,'구분'] = '숨은 명소'\n",
    "    else:\n",
    "        gwangju.at[i,'구분'] = '일반 명소'"
   ]
  },
  {
   "cell_type": "code",
   "execution_count": 4,
   "metadata": {},
   "outputs": [],
   "source": [
    "all_df = pd.concat([busan,ulsan,gyeongnam,jeonnam,gwangju],ignore_index=True)"
   ]
  },
  {
   "cell_type": "code",
   "execution_count": null,
   "metadata": {},
   "outputs": [],
   "source": [
    "from googletrans import Translator"
   ]
  },
  {
   "cell_type": "code",
   "execution_count": null,
   "metadata": {},
   "outputs": [],
   "source": [
    "from googletrans import Translator\n",
    "\n",
    "translator = Translator()"
   ]
  },
  {
   "cell_type": "code",
   "execution_count": 11,
   "metadata": {},
   "outputs": [],
   "source": [
    "answer = []"
   ]
  },
  {
   "cell_type": "code",
   "execution_count": 23,
   "metadata": {},
   "outputs": [],
   "source": [
    "for i in range(507,len(all_df)):\n",
    "    if pd.isna(all_df.iloc[i]['catch']):\n",
    "        text = all_df.iloc[i]['description']\n",
    "    else:\n",
    "        text = f\"{all_df.iloc[i]['catch']}. {all_df.iloc[i]['description']}\"\n",
    "    text = translator.translate(text,src='ko',dest='en').text\n",
    "    \n",
    "    answer.append(text)"
   ]
  },
  {
   "cell_type": "code",
   "execution_count": 36,
   "metadata": {},
   "outputs": [],
   "source": [
    "all_df['translation'] = answer"
   ]
  },
  {
   "cell_type": "code",
   "execution_count": null,
   "metadata": {},
   "outputs": [],
   "source": [
    "for i in range(len(all_df)):\n",
    "    if all_df.iloc[i]['주소'].startswith('부산'):\n",
    "        all_df.at[i,'지역'] = '부산'\n",
    "    elif all_df.iloc[i]['주소'].startswith('울산'):\n",
    "        all_df.at[i,'지역'] = '울산'\n",
    "    elif all_df.iloc[i]['주소'].startswith('경상'):\n",
    "        all_df.at[i,'지역'] = '경남'\n",
    "    elif all_df.iloc[i]['주소'].startswith('전라'):\n",
    "        all_df.at[i,'지역'] = '전남'\n",
    "    elif all_df.iloc[i]['주소'].startswith('광주'):\n",
    "        all_df.at[i,'지역'] = '광주'"
   ]
  },
  {
   "cell_type": "code",
   "execution_count": 72,
   "metadata": {},
   "outputs": [],
   "source": [
    "all_df['catch'].fillna('',inplace=True)"
   ]
  },
  {
   "cell_type": "code",
   "execution_count": 70,
   "metadata": {},
   "outputs": [],
   "source": [
    "all_df.to_csv('./data/all_df.csv',encoding='utf-8',index=False)"
   ]
  },
  {
   "cell_type": "markdown",
   "metadata": {},
   "source": [
    "## embedding 추출"
   ]
  },
  {
   "cell_type": "code",
   "execution_count": 71,
   "metadata": {},
   "outputs": [],
   "source": [
    "import pandas as pd\n",
    "all_df = pd.read_csv('./data/all_df.csv')"
   ]
  },
  {
   "cell_type": "code",
   "execution_count": 1,
   "metadata": {},
   "outputs": [],
   "source": [
    "from getpass import getpass\n",
    "\n",
    "openai_api_key = getpass(\"OPENAI_TOKEN\")"
   ]
  },
  {
   "cell_type": "code",
   "execution_count": 2,
   "metadata": {},
   "outputs": [],
   "source": [
    "from openai import OpenAI\n",
    "\n",
    "openai_client = OpenAI(api_key=openai_api_key)"
   ]
  },
  {
   "cell_type": "code",
   "execution_count": 3,
   "metadata": {},
   "outputs": [],
   "source": [
    "def get_embedding(text_list):\n",
    "    response = openai_client.embeddings.create(\n",
    "        input=text_list,\n",
    "        model = 'text-embedding-3-small',\n",
    "        dimensions=512\n",
    "    )\n",
    "    return [x.embedding for x in response.data]"
   ]
  },
  {
   "cell_type": "code",
   "execution_count": 16,
   "metadata": {},
   "outputs": [
    {
     "data": {
      "application/vnd.jupyter.widget-view+json": {
       "model_id": "9101bf9083f84d8b83b5ea93c3ac4abe",
       "version_major": 2,
       "version_minor": 0
      },
      "text/plain": [
       "  0%|          | 0/6 [00:00<?, ?it/s]"
      ]
     },
     "metadata": {},
     "output_type": "display_data"
    }
   ],
   "source": [
    "from tqdm.notebook import tqdm\n",
    "\n",
    "embeddings = []\n",
    "for i in tqdm(range(0,len(all_df),100)):\n",
    "    batch = all_df.iloc[i:i+100]\n",
    "    text_list = batch['translation'].tolist()\n",
    "    batch_embeddings = get_embedding(text_list)\n",
    "    embeddings.extend(batch_embeddings)\n",
    "\n",
    "all_df['embeddings'] = embeddings"
   ]
  },
  {
   "cell_type": "code",
   "execution_count": 4,
   "metadata": {},
   "outputs": [],
   "source": [
    "pinecone_api_key = getpass()"
   ]
  },
  {
   "cell_type": "code",
   "execution_count": 5,
   "metadata": {},
   "outputs": [],
   "source": [
    "from pinecone import Pinecone\n",
    "\n",
    "pc = Pinecone(api_key = pinecone_api_key)"
   ]
  },
  {
   "cell_type": "code",
   "execution_count": 6,
   "metadata": {},
   "outputs": [],
   "source": [
    "index = pc.Index('touristattraction')"
   ]
  },
  {
   "cell_type": "code",
   "execution_count": 7,
   "metadata": {},
   "outputs": [
    {
     "data": {
      "text/plain": [
       "{'dimension': 512,\n",
       " 'index_fullness': 0.00578,\n",
       " 'namespaces': {'': {'vector_count': 578}},\n",
       " 'total_vector_count': 578}"
      ]
     },
     "execution_count": 7,
     "metadata": {},
     "output_type": "execute_result"
    }
   ],
   "source": [
    "index.describe_index_stats()"
   ]
  },
  {
   "cell_type": "code",
   "execution_count": 73,
   "metadata": {},
   "outputs": [
    {
     "data": {
      "application/vnd.jupyter.widget-view+json": {
       "model_id": "8edca35a3ceb4c538de24b83a85aabb7",
       "version_major": 2,
       "version_minor": 0
      },
      "text/plain": [
       "  0%|          | 0/6 [00:00<?, ?it/s]"
      ]
     },
     "metadata": {},
     "output_type": "display_data"
    },
    {
     "name": "stdout",
     "output_type": "stream",
     "text": [
      "{'upserted_count': 100}\n",
      "{'upserted_count': 100}\n",
      "{'upserted_count': 100}\n",
      "{'upserted_count': 100}\n",
      "{'upserted_count': 100}\n",
      "{'upserted_count': 78}\n"
     ]
    }
   ],
   "source": [
    "from tqdm.notebook import tqdm\n",
    "\n",
    "meta = ['관광지명','주소','longitude','latitude','scores','img','구분','description','catch','translation','대분류','중분류','소분류','지역']\n",
    "\n",
    "for i in tqdm(range(0,len(all_df),100)):\n",
    "    batch = all_df.iloc[i:i+100]\n",
    "    vectors = []\n",
    "    for j in range(len(batch)):\n",
    "        row = batch.iloc[j]\n",
    "        id_ = row.name\n",
    "        embedding = eval(row['embeddings'])\n",
    "        metadata = row[meta].to_dict()\n",
    "        vectors.append((str(id_),embedding,metadata))\n",
    "    try:\n",
    "        response = index.upsert(vectors)\n",
    "        print(response)\n",
    "    except Exception as e:\n",
    "        print(i,e)"
   ]
  },
  {
   "cell_type": "code",
   "execution_count": null,
   "metadata": {},
   "outputs": [],
   "source": [
    "!pip install google-auth\n",
    "!pip install google-cloud-translate"
   ]
  },
  {
   "cell_type": "code",
   "execution_count": 8,
   "metadata": {},
   "outputs": [],
   "source": [
    "import json\n",
    "\n",
    "with open(\"./data/google_secret.json\") as fr:\n",
    "    google_secret = json.loads(fr.read())"
   ]
  },
  {
   "cell_type": "code",
   "execution_count": 9,
   "metadata": {},
   "outputs": [],
   "source": [
    "from google.oauth2.service_account import Credentials\n",
    "from google.cloud import translate\n",
    "\n",
    "credentials = Credentials.from_service_account_info(google_secret)\n",
    "google_translate_client = translate.TranslationServiceClient(credentials=credentials)"
   ]
  },
  {
   "cell_type": "code",
   "execution_count": 10,
   "metadata": {},
   "outputs": [],
   "source": [
    "def translation(query):\n",
    "    parent = f\"projects/{google_secret['project_id']}/locations/global\"\n",
    "    response = google_translate_client.translate_text(\n",
    "        request={\n",
    "            \"parent\": parent,\n",
    "            \"contents\": [query],\n",
    "            \"mime_type\": \"text/plain\",\n",
    "            \"source_language_code\": \"ko\",\n",
    "            \"target_language_code\": \"en-US\",\n",
    "        }\n",
    "    )\n",
    "    return response.translations[0].translated_text"
   ]
  },
  {
   "cell_type": "code",
   "execution_count": 118,
   "metadata": {},
   "outputs": [
    {
     "name": "stdout",
     "output_type": "stream",
     "text": [
      "A heart-warming travelogue\n"
     ]
    }
   ],
   "source": [
    "query = \"가슴이 따뜻해지는 여행기\"\n",
    "eng_query = translation(query)\n",
    "print(eng_query)"
   ]
  },
  {
   "cell_type": "code",
   "execution_count": 11,
   "metadata": {},
   "outputs": [],
   "source": [
    "def recommend(query):\n",
    "    eng_query = translation(query)\n",
    "    query_embedding = get_embedding([eng_query])[0]\n",
    "    results = index.query(\n",
    "        vector = query_embedding,\n",
    "        filter = {\n",
    "            \"구분\" : {\"$in\" : [\"숨은 명소\"]},\n",
    "            \"지역\" : {\"$in\" : [\"울산\"]}\n",
    "        },\n",
    "        top_k = 3,\n",
    "        include_metadata = True\n",
    "    )\n",
    "    return results['matches']"
   ]
  },
  {
   "cell_type": "code",
   "execution_count": 12,
   "metadata": {},
   "outputs": [],
   "source": [
    "query = '바다가 보이는 전망 좋은 숲속 전망대'"
   ]
  },
  {
   "cell_type": "code",
   "execution_count": 14,
   "metadata": {},
   "outputs": [],
   "source": [
    "items = recommend(query)"
   ]
  },
  {
   "cell_type": "code",
   "execution_count": 19,
   "metadata": {},
   "outputs": [],
   "source": [
    "def generate_prompt(query,items):\n",
    "    item_text = ''\n",
    "    for i,item in enumerate(items):\n",
    "        item_text += f'''\n",
    "추천 결과 : {i+1}\n",
    "관광지명 : {item['metadata']['관광지명']}\n",
    "대분류 : {item['metadata']['대분류']}\n",
    "중분류 : {item['metadata']['중분류']}\n",
    "소분류 : {item['metadata']['소분류']}\n",
    "관광지 설명 : {item['metadata']['description']}\n",
    "'''\n",
    "    item_text = item_text.strip()\n",
    "    prompt = f'''\n",
    "유저가 가고 싶은 관광지에 대한 묘사와 이에 대한 추천 결과가 주어집니다.\n",
    "유저의 입력과 각 추천 결과 관광지명, 분류, 관광지 설명 등을 참고하여 추천사를 작성하세요.\n",
    "당신에 대한 소개를 먼저 하고, 친절한 말투로 작성해주세요.\n",
    "중간 중간 이모지를 적절히 사용해주세요.\n",
    "\n",
    "---\n",
    "유저 입력 : {query}\n",
    "---\n",
    "\n",
    "{item_text}\n",
    "---\n",
    "'''.strip()\n",
    "    return prompt   "
   ]
  },
  {
   "cell_type": "code",
   "execution_count": 20,
   "metadata": {},
   "outputs": [],
   "source": [
    "prompt = generate_prompt(query,items)"
   ]
  },
  {
   "cell_type": "code",
   "execution_count": 21,
   "metadata": {},
   "outputs": [
    {
     "name": "stdout",
     "output_type": "stream",
     "text": [
      "유저가 가고 싶은 관광지에 대한 묘사와 이에 대한 추천 결과가 주어집니다.\n",
      "유저의 입력과 각 추천 결과 관광지명, 분류, 관광지 설명 등을 참고하여 추천사를 작성하세요.\n",
      "당신에 대한 소개를 먼저 하고, 친절한 말투로 작성해주세요.\n",
      "중간 중간 이모지를 적절히 사용해주세요.\n",
      "\n",
      "---\n",
      "유저 입력 : 바다가 보이는 전망 좋은 숲속 전망대\n",
      "---\n",
      "\n",
      "추천 결과 : 1\n",
      "관광지명 : 편백산림욕장\n",
      "대분류 : 자연\n",
      "중분류 : 자연관광지\n",
      "소분류 : 자연휴양림\n",
      "관광지 설명 : 달천동 천마산(해발 236m)은 편백나무 5ha, 소나무 33ha, 잣나무 2ha가 조성되어 있어 주민 휴식처로 각광받고 있다. 천마산 편백 산림욕장은 한국관광공사 선정 [안심 관광지]로 선정된 곳으로 숲해설, 숲체험을 운영 중에 있다. 편백나무는 스트레스 해소와 아토피성 피부염, 알레르기, 노화 방지 등 피부성 질환을 완화하는데 탁월한 효과가 있으며, 편백나무가 심어진 숲길은 산림욕장으로서 인기가 좋다. 이 밖에도 숲속 산책길과 쉼터 테이블 등이 설치되어 있고 주변에는 천마산 등산로를 기준으로 솔 숲길(0.45km)과 성터 옛길(0.4km), 만석골 저수지 및 생태수변 전망데크, 천마산 정상 전망대 등이 마련되어 있다. 천마산 정상에서는 울산 시가지와 동해 바다 쪽에 위치한 중공업 단지를 조망할 수 있다.\n",
      "\n",
      "추천 결과 : 2\n",
      "관광지명 : 솔개공원\n",
      "대분류 : 인문(문화/예술/역사)\n",
      "중분류 : 휴양관광지\n",
      "소분류 : 공원\n",
      "관광지 설명 : 솔개공원은 해안가까지 도보 3분 거리로 이동할 수 있어 방문객, 낚시객들에게 인기 많은 곳이다. 인공적인 조형물을 설치하지 않은 제주도 해안공원을 벤치마킹하여, 아름다운 바다와 더불어 자연친화적 공원을 함께 감상할 수 있게 만들어 이국적인 느낌을 준다. 해안가에서 바다 풍경을 보며 걸을 수 있는 산책로와 앉아서 쉬며 바다 풍경을 조망할 수 있는 벤치는 여행자의 휴식 공간 및 힐링 공간이다. 산책로가 길지는 않지만 바다가 가깝고, 길옆 대나무와 시원하게 자란 소나무를 따라 걸으면서 울산의 바다와 공원을 한껏 즐길 수 있다.\n",
      "\n",
      "추천 결과 : 3\n",
      "관광지명 : 울산입화산참살이숲\n",
      "대분류 : 자연\n",
      "중분류 : 자연관광지\n",
      "소분류 : 자연휴양림\n",
      "관광지 설명 : 입화산은 불꽃을 세우는 산으로 이 산에서 기도하면 다른 산보다 효험이 있다고 하여 소원성취의 촛불이 꺼진 적이 없었다고 한다. 일제 침략 당시 입화산의 수많은 기도처를 보고 이곳이 울산 사람들의 신성한 성소라고 여겨 1915년~1920년에 이 산에 쇠말뚝을 박았으며 광복 이후 입화산 일대 유지들이 쇠말뚝을 뽑았다고 한다.입화산자연휴양림은 숙박시설인 소나무, 참나무, 편백나무 등 숲속의 자연과 어우러진 야영장과 카라반 야영장 별뜨락, 나무를 이용한 모험놀이, 체험시설인 네이처 스포츠, 유명한 시와 노래 작품을 감상하며 산책하는 시와 노래가 있는 길이 있다. 시와 노래가 있는 길을 따라 여유 있게 걷다 보면 대나무숲 체험장도 있다. 또, 피톤치드를 배출한다는 편백나무 숲을 가로지르는 치유의 길에서 산림욕 체험이 가능하다. 그밖에 숲을 탐방하며 숲속 생태를 관찰하고 숲의 소중함을 알게 하는 숲 해설 프로그램, 유아 숲 교육프로그램, 과수체험 프로그램 등을 운영하고 있다.\n",
      "---\n"
     ]
    }
   ],
   "source": [
    "print(prompt)"
   ]
  },
  {
   "cell_type": "code",
   "execution_count": 23,
   "metadata": {},
   "outputs": [],
   "source": [
    "def request_chat_completion(prompt):\n",
    "    response = openai_client.chat.completions.create(\n",
    "        model = 'gpt-3.5-turbo',\n",
    "        messages = [\n",
    "            {'role' : 'system', 'content' : '당신은 관광지를 추천해주는 AI 여행지기 트레블즈입니다'},\n",
    "            {'role' : 'user', 'content' : prompt}\n",
    "        ],\n",
    "        stream = True\n",
    "    )\n",
    "    return response"
   ]
  },
  {
   "cell_type": "code",
   "execution_count": 25,
   "metadata": {},
   "outputs": [
    {
     "name": "stdout",
     "output_type": "stream",
     "text": [
      "🌟 안녕하세요! 저는 여행지를 추천해주는 AI 여행지기 트레블즈입니다. 바다가 보이는 전망 좋은 숲속 전망대를 원하시는군요! 이런 관광지를 사랑하시는 분들에게 많은 관심을 두고 있죠. 제 추천을 통해 특별한 경험을 만들어 드리고 싶어요. 🌲🌊\n",
      "\n",
      "추천해드리는 첫 번째 관광지는 '편백산림욕장'입니다. 이곳은 천마산에 위치한 숲속 휴양지로, 편백나무를 비롯한 다양한 나무들이 자리하고 있어 자연 속에서 힐링을 즐기기에 안성맞춤이에요. 숲해설과 숲체험 프로그램도 운영되어 자연과 소통하는 재미를 느낄 수 있답니다. 또한 천마산 정상 전망대에서는 울산 시가 중공업 단지를 바라볼 수 있어 멋진 전망을 감상할 수 있어요. 🏞️\n",
      "\n",
      "두 번째 추천하는 관광지는 '솔개공원'입니다. 이 곳은 인공 조형물 없이 자연 그대로를 보존한 제주도 해안공원을 벤치마킹하여 조성된 공원으로, 바다를 바라보며 즐길 수 있는 산책로와 바다를 조망할 수 있는 휴식 공간이 자리하고 있어요. 특히 해안가까지 도보로 이동할 수 있는 접근성을 갖추고 있어 방문객들의 인기를 얻고 있답니다. 🏝️\n",
      "\n",
      "마지막으로 추천하는 관광지는 '울산입화산참살이숲'입니다. 이 자연휴양림은 숲속에 자리한 야영장과 힐링 프로그램을 제공해 자연 속에서 소중한 경험을 쌓을 수 있는 곳이에요. 시와 노래가 있는 길을 따라 걷거나 숲속 해설 프로그램을 통해 숲의 소중함을 느끼며 휴식을 취할 수 있답니다. 숲 속의 치유를 느껴보고 싶으시다면 정말 좋은 선택이 될 것 같아요. 🍃\n",
      "\n",
      "숲과 바다가 어우러진 멋진 관광지들이 있지만, 어떤 관광지를 선택하시든 즐거운 여행이 되길 바라며, 행복한 여행 되세요! 만약 궁금한 점이 있으시면 또 문의해주세요. 😊🌟✨"
     ]
    }
   ],
   "source": [
    "response = request_chat_completion(prompt)\n",
    "for chunk in response:\n",
    "    delta = chunk.choices[0].delta\n",
    "    if delta.content:\n",
    "        print(delta.content,end='')"
   ]
  },
  {
   "cell_type": "code",
   "execution_count": null,
   "metadata": {},
   "outputs": [],
   "source": []
  }
 ],
 "metadata": {
  "kernelspec": {
   "display_name": "mulcam_3_9",
   "language": "python",
   "name": "mulcam_3_9"
  },
  "language_info": {
   "codemirror_mode": {
    "name": "ipython",
    "version": 3
   },
   "file_extension": ".py",
   "mimetype": "text/x-python",
   "name": "python",
   "nbconvert_exporter": "python",
   "pygments_lexer": "ipython3",
   "version": "3.9.18"
  }
 },
 "nbformat": 4,
 "nbformat_minor": 2
}
