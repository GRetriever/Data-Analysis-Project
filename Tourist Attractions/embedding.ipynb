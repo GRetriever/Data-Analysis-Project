{
 "cells": [
  {
   "cell_type": "code",
   "execution_count": 7,
   "metadata": {},
   "outputs": [],
   "source": [
    "import requests\n",
    "import json\n",
    "\n",
    "def translate(query):\n",
    "    url = \"https://asia-northeast3-skilled-chalice-402604.cloudfunctions.net/translate\"\n",
    "\n",
    "    headers = {'Content-Type' : 'application/json'}\n",
    "    payload = json.dumps({'queries' : [query]})\n",
    "    translations = requests.post(\n",
    "        url = url,\n",
    "        data = payload,\n",
    "        headers = headers\n",
    "    )\n",
    "    result = translations.json()\n",
    "    return result['translations'][0]"
   ]
  },
  {
   "cell_type": "code",
   "execution_count": 9,
   "metadata": {},
   "outputs": [],
   "source": [
    "pinecone_api_key = getpass()"
   ]
  },
  {
   "cell_type": "code",
   "execution_count": 10,
   "metadata": {},
   "outputs": [],
   "source": [
    "from pinecone import Pinecone\n",
    "\n",
    "pc = Pinecone(api_key = pinecone_api_key)"
   ]
  },
  {
   "cell_type": "code",
   "execution_count": 11,
   "metadata": {},
   "outputs": [],
   "source": [
    "index = pc.Index('books')"
   ]
  },
  {
   "cell_type": "code",
   "execution_count": 12,
   "metadata": {},
   "outputs": [
    {
     "data": {
      "text/plain": [
       "{'dimension': 512,\n",
       " 'index_fullness': 0.18718,\n",
       " 'namespaces': {'': {'vector_count': 18718}},\n",
       " 'total_vector_count': 18718}"
      ]
     },
     "execution_count": 12,
     "metadata": {},
     "output_type": "execute_result"
    }
   ],
   "source": [
    "index.describe_index_stats()"
   ]
  },
  {
   "cell_type": "code",
   "execution_count": 16,
   "metadata": {},
   "outputs": [],
   "source": [
    "from getpass import getpass\n",
    "\n",
    "openai_api_key = getpass(\"OPENAI_TOKEN\")"
   ]
  },
  {
   "cell_type": "code",
   "execution_count": 17,
   "metadata": {},
   "outputs": [],
   "source": [
    "from openai import OpenAI\n",
    "\n",
    "openai_client = OpenAI(api_key=openai_api_key)"
   ]
  },
  {
   "cell_type": "code",
   "execution_count": 18,
   "metadata": {},
   "outputs": [],
   "source": [
    "def get_embedding(text_list):\n",
    "    response = openai_client.embeddings.create(\n",
    "        input=text_list,\n",
    "        model = 'text-embedding-3-small',\n",
    "        dimensions=512\n",
    "    )\n",
    "    return [x.embedding for x in response.data]"
   ]
  },
  {
   "cell_type": "code",
   "execution_count": 56,
   "metadata": {},
   "outputs": [],
   "source": [
    "def recommend(query):\n",
    "    eng_query = translate(query)\n",
    "    query_embedding = get_embedding([eng_query])[0]\n",
    "    results = index.query(\n",
    "        vector = query_embedding,\n",
    "        filter={\n",
    "            'publisher' : {'$in' : ['북박스']}   \n",
    "        },\n",
    "        top_k = 2,\n",
    "        include_metadata = True\n",
    "    )\n",
    "    return results['matches']"
   ]
  },
  {
   "cell_type": "code",
   "execution_count": 57,
   "metadata": {},
   "outputs": [],
   "source": [
    "query = '맛있는 음식 이야기'"
   ]
  },
  {
   "cell_type": "code",
   "execution_count": 59,
   "metadata": {},
   "outputs": [
    {
     "data": {
      "text/plain": [
       "[{'id': '295010',\n",
       "  'metadata': {'authors': '최은영',\n",
       "               'img_url': 'https://image.yes24.com/goods/295010/L',\n",
       "               'published_at': '2002-08',\n",
       "               'publisher': '북박스',\n",
       "               'rating': 9.0,\n",
       "               'review_cnt': 1.0,\n",
       "               'summary': \"천리안 동호회 '천일야화'의 비공개 사이트에 연재된 작품으로 파격적인 내용과 독특한 소재로 \"\n",
       "                          '인해 로맨스 애호가들에게 비상한 관심을 끌었던 작품이다. 개성 강한 인물들의 예측 불허한 삶을 '\n",
       "                          '그리는 이 특별한 소설은 곳곳에 허를 찌르는 대사를 폭탄처럼 숨겨놓았다가 적시에 한번씩 '\n",
       "                          '터뜨림으로써 독자들의 가슴을 단번에 사로잡는 작품이다. 또한 거친 폭풍 같은 남자를 사랑하는 '\n",
       "                          '지고지순한 여인의 따뜻하면서도 꿋꿋한 행보를 강한 반전으로 풀어내 사랑이라는 그릇안에 세상을 '\n",
       "                          '폭넓게 껴안고 있다. 결국 사랑하는 사람들이 서로 합쳐져 하나의 가정을 이룬다는 의미의 '\n",
       "                          '플러스는 가정의 소중함을 끝까지 완성시켜 독자들에게 깊은 여운을 남길 것으로 믿는다.',\n",
       "               'title': '플러스 1',\n",
       "               'translation': 'It was serialized on the private site of the '\n",
       "                              \"clairvoyant club 'Thousand and One Nights', and \"\n",
       "                              'it drew extraordinary attention from romance '\n",
       "                              'lovers due to its unconventional content and '\n",
       "                              'unique subject matter. This special novel, which '\n",
       "                              'depicts the unpredictable lives of characters '\n",
       "                              'with strong personalities, captures the hearts '\n",
       "                              'of readers at once by hiding surprising lines '\n",
       "                              'like bombs and detonating them once at the right '\n",
       "                              'time. In addition, by unraveling the warm yet '\n",
       "                              'firm steps of a noble woman who loves a man like '\n",
       "                              'a rough storm, with a strong twist, she embraces '\n",
       "                              'the world widely in the bowl of love. In the '\n",
       "                              'end, I believe that the plus meaning that loved '\n",
       "                              'ones come together to form a family will '\n",
       "                              'complete the preciousness of the family to the '\n",
       "                              'end and leave a deep impression on the readers.',\n",
       "               'url': 'https://www.yes24.com/Product/Goods/295010'},\n",
       "  'score': 0.361510277,\n",
       "  'values': []},\n",
       " {'id': '2605658',\n",
       "  'metadata': {'authors': '문현주',\n",
       "               'img_url': 'https://image.yes24.com/goods/2605658/L',\n",
       "               'published_at': '2007-06',\n",
       "               'publisher': '북박스',\n",
       "               'rating': 0.0,\n",
       "               'review_cnt': 0.0,\n",
       "               'summary': '\"파스텔 오렌지\"는 첫사랑과 그로 인해 변해가는 인생을 그리는 소설입니다. 주인공 윤주는 어린 '\n",
       "                          '시절 사랑받지 못한 죽음을 지우지 못하면서도 어느 남자와의 첫 키스로써 새로운 사랑을 '\n",
       "                          '갈망합니다. 만남을 일회성 유흥으로 삼는 재혁은 첫사랑을 고집하던 그녀를 사랑하게 되면서 '\n",
       "                          '자신의 인생을 변화시키는데, 어느 곳에서도 기대하지 못하는 예측할 수 없는 사건들이 '\n",
       "                          '벌어집니다. 이 작품은 첫사랑과 변화에 대한 혼잣말처럼 소년, 소녀의 이야기를 애절하게 '\n",
       "                          '풀어내고 있습니다.',\n",
       "               'title': '파스텔 오렌지',\n",
       "               'translation': '\"Pastel Orange\" is a novel about first love and '\n",
       "                              'how life changes. The main character, Yun-ju, '\n",
       "                              'longs for a new love through her first kiss with '\n",
       "                              'a certain man, even though she cannot erase the '\n",
       "                              'death of being unloved as a child. Jae-hyeok, '\n",
       "                              'who takes meeting as a one-time entertainment, '\n",
       "                              'changes his life as he falls in love with her, '\n",
       "                              'who insisted on his first love. Like a self-talk '\n",
       "                              'about first love and change, this work tells the '\n",
       "                              'story of a boy and a girl in a mournful way.',\n",
       "               'url': 'https://www.yes24.com/Product/Goods/2605658'},\n",
       "  'score': 0.335108668,\n",
       "  'values': []}]"
      ]
     },
     "execution_count": 59,
     "metadata": {},
     "output_type": "execute_result"
    }
   ],
   "source": [
    "recommend(query)"
   ]
  },
  {
   "cell_type": "markdown",
   "metadata": {},
   "source": [
    "========================="
   ]
  },
  {
   "cell_type": "markdown",
   "metadata": {},
   "source": [
    "## 부산 description"
   ]
  },
  {
   "cell_type": "code",
   "execution_count": 1,
   "metadata": {},
   "outputs": [],
   "source": [
    "import requests\n",
    "from bs4 import BeautifulSoup\n",
    "import time"
   ]
  },
  {
   "cell_type": "code",
   "execution_count": 2,
   "metadata": {},
   "outputs": [
    {
     "name": "stdout",
     "output_type": "stream",
     "text": [
      "1\n",
      "2\n",
      "3\n",
      "4\n",
      "5\n",
      "6\n",
      "7\n",
      "8\n",
      "9\n",
      "10\n",
      "11\n",
      "12\n",
      "13\n",
      "14\n"
     ]
    }
   ],
   "source": [
    "url = 'https://korean.visitkorea.or.kr/call'\n",
    "params = {\n",
    "    'cmd': 'TOUR_CONTENT_LIST_VIEW',\n",
    "    'month': 'All',\n",
    "    'areaCode': '6',\n",
    "    'sigunguCode': 'All',\n",
    "    'tagId': 'All',\n",
    "    'sortkind': '1',\n",
    "    'locationx': '0',\n",
    "    'locationy': '0',\n",
    "    'page': '1',\n",
    "    'cnt': '100',\n",
    "    'typeList': 'Tour',\n",
    "    'stampId': '1589345b-b030-11ea-b8bd-020027310001'\n",
    "}\n",
    "\n",
    "all_data = []  # 모든 페이지의 데이터를 저장할 리스트\n",
    "\n",
    "while True:\n",
    "    response = requests.get(url, params=params)\n",
    "    data = response.json()\n",
    "\n",
    "    # 받은 데이터에서 필요한 정보 추출\n",
    "    result_list = data.get('body', {}).get('result', [])\n",
    "    for item in result_list:\n",
    "        img_path = item.get('imgPath', '')\n",
    "        img_url = f'https://cdn.visitkorea.or.kr/img/call?cmd=VIEW&id={img_path}'\n",
    "        \n",
    "        extracted_data = {\n",
    "            '관광지명': item.get('TITLE', ''),\n",
    "            'catch': item.get('catchPhrase', ''),\n",
    "            'addr1': item.get('addr1', ''),\n",
    "            'img': img_url,\n",
    "            'cotid' : item.get('cotId', ''),\n",
    "            'areaCode' : item.get('areaCode', ''),\n",
    "            'cat1' : item.get('cat1', ''),\n",
    "            'cat2' : item.get('cat2', '')\n",
    "        }\n",
    "        \n",
    "        cotid = extracted_data['cotid']\n",
    "        cat1 = extracted_data['cat1']\n",
    "        cat2 = extracted_data['cat2']\n",
    "        areaCode = extracted_data['areaCode']\n",
    "        \n",
    "        new_url = f'https://korean.visitkorea.or.kr/detail/ms_detail.do?cotid={cotid}&big_category={cat1}&mid_category={cat2}&big_area={areaCode}'\n",
    "        response = requests.get(new_url)\n",
    "        html = response.text\n",
    "        soup = BeautifulSoup(html,'html.parser')\n",
    "        description = soup.find('div',class_='blind').text\n",
    "        description = description.replace('\\n','').replace('\\t','')\n",
    "        extracted_data['description'] = description\n",
    "\n",
    "        all_data.append(extracted_data)\n",
    "    \n",
    "    # 다음 페이지로 이동\n",
    "    # if params['page'] in range(0,1000,100):\n",
    "    #     print('time sleep')\n",
    "    #     time.sleep(200)\n",
    "    # else:\n",
    "    \n",
    "    print(params['page'])\n",
    "    params['page'] = str(int(params['page']) + 1)\n",
    "    \n",
    "\n",
    "    # 만약 더 이상 페이지가 없으면 반복문 종료\n",
    "    if not result_list or len(all_data) == 1351:\n",
    "        break"
   ]
  },
  {
   "cell_type": "code",
   "execution_count": 3,
   "metadata": {},
   "outputs": [],
   "source": [
    "import pandas as pd\n",
    "df = pd.DataFrame(all_data)"
   ]
  },
  {
   "cell_type": "code",
   "execution_count": 9,
   "metadata": {},
   "outputs": [
    {
     "name": "stderr",
     "output_type": "stream",
     "text": [
      "100%|██████████| 1351/1351 [00:00<00:00, 269974.97it/s]\n"
     ]
    }
   ],
   "source": [
    "from tqdm import tqdm\n",
    "\n",
    "tqdm.pandas()\n",
    "df['관광지명'] = df['관광지명'].progress_apply(lambda x: x.replace(' ',''))"
   ]
  },
  {
   "cell_type": "code",
   "execution_count": 24,
   "metadata": {},
   "outputs": [],
   "source": [
    "import re\n",
    "\n",
    "pattern = re.compile(r'\\([^)]*\\)')\n",
    "\n",
    "df['관광지명'] = df['관광지명'].apply(lambda x: re.sub(pattern, '', x))"
   ]
  },
  {
   "cell_type": "code",
   "execution_count": 6,
   "metadata": {},
   "outputs": [],
   "source": [
    "b = pd.read_csv('./data/busan.csv')"
   ]
  },
  {
   "cell_type": "code",
   "execution_count": 30,
   "metadata": {},
   "outputs": [],
   "source": [
    "b = pd.merge(b,df[['관광지명','catch','description']],on='관광지명',how='left')"
   ]
  },
  {
   "cell_type": "code",
   "execution_count": null,
   "metadata": {},
   "outputs": [
    {
     "data": {
      "text/html": [
       "<div>\n",
       "<style scoped>\n",
       "    .dataframe tbody tr th:only-of-type {\n",
       "        vertical-align: middle;\n",
       "    }\n",
       "\n",
       "    .dataframe tbody tr th {\n",
       "        vertical-align: top;\n",
       "    }\n",
       "\n",
       "    .dataframe thead th {\n",
       "        text-align: right;\n",
       "    }\n",
       "</style>\n",
       "<table border=\"1\" class=\"dataframe\">\n",
       "  <thead>\n",
       "    <tr style=\"text-align: right;\">\n",
       "      <th></th>\n",
       "      <th>관광지명</th>\n",
       "      <th>주소</th>\n",
       "      <th>평균 체류시간</th>\n",
       "      <th>stars</th>\n",
       "      <th>reviews</th>\n",
       "      <th>광역지자체별 거주 방문자 비율</th>\n",
       "      <th>search_number</th>\n",
       "      <th>catch</th>\n",
       "      <th>description</th>\n",
       "    </tr>\n",
       "  </thead>\n",
       "  <tbody>\n",
       "  </tbody>\n",
       "</table>\n",
       "</div>"
      ],
      "text/plain": [
       "Empty DataFrame\n",
       "Columns: [관광지명, 주소, 평균 체류시간, stars, reviews, 광역지자체별 거주 방문자 비율, search_number, catch, description]\n",
       "Index: []"
      ]
     },
     "metadata": {},
     "output_type": "display_data"
    }
   ],
   "source": [
    "b[b.description.isna()]"
   ]
  },
  {
   "cell_type": "code",
   "execution_count": null,
   "metadata": {},
   "outputs": [],
   "source": [
    "df[df['관광지명'].str.contains('')]"
   ]
  },
  {
   "cell_type": "code",
   "execution_count": 72,
   "metadata": {},
   "outputs": [],
   "source": [
    "b.loc[7,['catch','description']] = [df.iloc[1044]['catch'],df.iloc[1044]['description']]\n",
    "b.loc[10,['catch','description']] = [df.iloc[129]['catch'],df.iloc[129]['description']]\n",
    "b.loc[39,['catch','description']] = [df.iloc[1012]['catch'],df.iloc[1012]['description']]\n",
    "b.loc[62,['catch','description']] = [df.iloc[427]['catch'],df.iloc[427]['description']]\n",
    "b.loc[131,['catch','description']] = [df.iloc[797]['catch'],df.iloc[797]['description']]\n",
    "b.loc[196,['catch','description']] = [df.iloc[981]['catch'],df.iloc[981]['description']]\n",
    "b.loc[200,['catch','description']] = [df.iloc[1156]['catch'],df.iloc[1156]['description']]\n",
    "b.loc[204,['catch','description']] = [df.iloc[214]['catch'],df.iloc[214]['description']]\n",
    "b.loc[229,['catch','description']] = [df.iloc[1162]['catch'],df.iloc[1162]['description']]"
   ]
  },
  {
   "cell_type": "code",
   "execution_count": 76,
   "metadata": {},
   "outputs": [],
   "source": [
    "b.to_csv('./부산/basic_info.csv',encoding='utf-8',index=False)"
   ]
  },
  {
   "cell_type": "markdown",
   "metadata": {},
   "source": [
    "## 울산 description"
   ]
  },
  {
   "cell_type": "code",
   "execution_count": 80,
   "metadata": {},
   "outputs": [
    {
     "name": "stdout",
     "output_type": "stream",
     "text": [
      "1\n",
      "2\n",
      "3\n",
      "4\n",
      "5\n",
      "6\n"
     ]
    }
   ],
   "source": [
    "url = 'https://korean.visitkorea.or.kr/call'\n",
    "params = {\n",
    "    'cmd': 'TOUR_CONTENT_LIST_VIEW',\n",
    "    'month': 'All',\n",
    "    'areaCode': '7',\n",
    "    'sigunguCode': 'All',\n",
    "    'tagId': 'All',\n",
    "    'sortkind': '1',\n",
    "    'locationx': '0',\n",
    "    'locationy': '0',\n",
    "    'page': '1',\n",
    "    'cnt': '100',\n",
    "    'typeList': 'Tour',\n",
    "    'stampId': '1589345b-b030-11ea-b8bd-020027310001'\n",
    "}\n",
    "\n",
    "all_data = []  # 모든 페이지의 데이터를 저장할 리스트\n",
    "\n",
    "while True:\n",
    "    response = requests.get(url, params=params)\n",
    "    data = response.json()\n",
    "\n",
    "    # 받은 데이터에서 필요한 정보 추출\n",
    "    result_list = data.get('body', {}).get('result', [])\n",
    "    for item in result_list:\n",
    "        img_path = item.get('imgPath', '')\n",
    "        img_url = f'https://cdn.visitkorea.or.kr/img/call?cmd=VIEW&id={img_path}'\n",
    "        \n",
    "        extracted_data = {\n",
    "            '관광지명': item.get('TITLE', ''),\n",
    "            'catch': item.get('catchPhrase', ''),\n",
    "            'addr1': item.get('addr1', ''),\n",
    "            'img': img_url,\n",
    "            'cotid' : item.get('cotId', ''),\n",
    "            'areaCode' : item.get('areaCode', ''),\n",
    "            'cat1' : item.get('cat1', ''),\n",
    "            'cat2' : item.get('cat2', '')\n",
    "        }\n",
    "        \n",
    "        cotid = extracted_data['cotid']\n",
    "        cat1 = extracted_data['cat1']\n",
    "        cat2 = extracted_data['cat2']\n",
    "        areaCode = extracted_data['areaCode']\n",
    "        \n",
    "        new_url = f'https://korean.visitkorea.or.kr/detail/ms_detail.do?cotid={cotid}&big_category={cat1}&mid_category={cat2}&big_area={areaCode}'\n",
    "        response = requests.get(new_url)\n",
    "        html = response.text\n",
    "        soup = BeautifulSoup(html,'html.parser')\n",
    "        description = soup.find('div',class_='blind').text\n",
    "        description = description.replace('\\n','').replace('\\t','')\n",
    "        extracted_data['description'] = description\n",
    "\n",
    "        all_data.append(extracted_data)\n",
    "    \n",
    "    # 다음 페이지로 이동\n",
    "    # if params['page'] in range(0,1000,100):\n",
    "    #     print('time sleep')\n",
    "    #     time.sleep(200)\n",
    "    # else:\n",
    "    \n",
    "    print(params['page'])\n",
    "    params['page'] = str(int(params['page']) + 1)\n",
    "    \n",
    "\n",
    "    # 만약 더 이상 페이지가 없으면 반복문 종료\n",
    "    if not result_list or len(all_data) == 563:\n",
    "        break"
   ]
  },
  {
   "cell_type": "code",
   "execution_count": 82,
   "metadata": {},
   "outputs": [],
   "source": [
    "df = pd.DataFrame(all_data)"
   ]
  },
  {
   "cell_type": "code",
   "execution_count": 85,
   "metadata": {},
   "outputs": [
    {
     "name": "stderr",
     "output_type": "stream",
     "text": [
      "100%|██████████| 563/563 [00:00<00:00, 281486.85it/s]\n"
     ]
    }
   ],
   "source": [
    "tqdm.pandas()\n",
    "df['관광지명'] = df['관광지명'].progress_apply(lambda x: x.replace(' ',''))\n",
    "\n",
    "pattern = re.compile(r'\\([^)]*\\)')\n",
    "df['관광지명'] = df['관광지명'].apply(lambda x: re.sub(pattern, '', x))"
   ]
  },
  {
   "cell_type": "code",
   "execution_count": 95,
   "metadata": {},
   "outputs": [],
   "source": [
    "u = pd.read_csv('./울산/basic_info.csv')"
   ]
  },
  {
   "cell_type": "code",
   "execution_count": 96,
   "metadata": {},
   "outputs": [],
   "source": [
    "u = pd.merge(u,df[['관광지명','catch','description']],on='관광지명',how='left')"
   ]
  },
  {
   "cell_type": "code",
   "execution_count": null,
   "metadata": {},
   "outputs": [
    {
     "data": {
      "text/html": [
       "<div>\n",
       "<style scoped>\n",
       "    .dataframe tbody tr th:only-of-type {\n",
       "        vertical-align: middle;\n",
       "    }\n",
       "\n",
       "    .dataframe tbody tr th {\n",
       "        vertical-align: top;\n",
       "    }\n",
       "\n",
       "    .dataframe thead th {\n",
       "        text-align: right;\n",
       "    }\n",
       "</style>\n",
       "<table border=\"1\" class=\"dataframe\">\n",
       "  <thead>\n",
       "    <tr style=\"text-align: right;\">\n",
       "      <th></th>\n",
       "      <th>관광지명</th>\n",
       "      <th>주소</th>\n",
       "      <th>평균 체류시간</th>\n",
       "      <th>stars</th>\n",
       "      <th>reviews</th>\n",
       "      <th>광역지자체별 거주 방문자 비율</th>\n",
       "      <th>search_number</th>\n",
       "      <th>catch</th>\n",
       "      <th>description</th>\n",
       "    </tr>\n",
       "  </thead>\n",
       "  <tbody>\n",
       "  </tbody>\n",
       "</table>\n",
       "</div>"
      ],
      "text/plain": [
       "Empty DataFrame\n",
       "Columns: [관광지명, 주소, 평균 체류시간, stars, reviews, 광역지자체별 거주 방문자 비율, search_number, catch, description]\n",
       "Index: []"
      ]
     },
     "metadata": {},
     "output_type": "display_data"
    }
   ],
   "source": [
    "u[u.description.isna()]"
   ]
  },
  {
   "cell_type": "code",
   "execution_count": null,
   "metadata": {},
   "outputs": [],
   "source": [
    "df[df['관광지명'].str.contains('')]"
   ]
  },
  {
   "cell_type": "code",
   "execution_count": 115,
   "metadata": {},
   "outputs": [],
   "source": [
    "u.loc[73,['catch','description']] = [df.iloc[111]['catch'],df.iloc[111]['description']]\n",
    "u.loc[79,['catch','description']] = [df.iloc[1]['catch'],df.iloc[1]['description']]\n",
    "u.loc[82,['catch','description']] = [df.iloc[166]['catch'],df.iloc[166]['description']]\n",
    "u.loc[111,['catch','description']] = [df.iloc[120]['catch'],df.iloc[120]['description']]"
   ]
  },
  {
   "cell_type": "code",
   "execution_count": 118,
   "metadata": {},
   "outputs": [],
   "source": [
    "u.to_csv('./울산/basic_info.csv',encoding='utf-8',index=False)"
   ]
  },
  {
   "cell_type": "markdown",
   "metadata": {},
   "source": [
    "## 경남 description"
   ]
  },
  {
   "cell_type": "code",
   "execution_count": 119,
   "metadata": {},
   "outputs": [
    {
     "name": "stdout",
     "output_type": "stream",
     "text": [
      "1\n",
      "2\n",
      "3\n",
      "4\n",
      "5\n"
     ]
    }
   ],
   "source": [
    "url = 'https://korean.visitkorea.or.kr/call'\n",
    "params = {\n",
    "    'cmd': 'TOUR_CONTENT_LIST_VIEW',\n",
    "    'month': 'All',\n",
    "    'areaCode': '36',\n",
    "    'sigunguCode': '16',\n",
    "    'tagId': 'All',\n",
    "    'sortkind': '1',\n",
    "    'locationx': '0',\n",
    "    'locationy': '0',\n",
    "    'page': '1',\n",
    "    'cnt': '100',\n",
    "    'typeList': 'Tour',\n",
    "    'stampId': '1589345b-b030-11ea-b8bd-020027310001'\n",
    "}\n",
    "\n",
    "all_data = []  # 모든 페이지의 데이터를 저장할 리스트\n",
    "\n",
    "while True:\n",
    "    response = requests.get(url, params=params)\n",
    "    data = response.json()\n",
    "\n",
    "    # 받은 데이터에서 필요한 정보 추출\n",
    "    result_list = data.get('body', {}).get('result', [])\n",
    "    for item in result_list:\n",
    "        img_path = item.get('imgPath', '')\n",
    "        img_url = f'https://cdn.visitkorea.or.kr/img/call?cmd=VIEW&id={img_path}'\n",
    "        \n",
    "        extracted_data = {\n",
    "            '관광지명': item.get('TITLE', ''),\n",
    "            'catch': item.get('catchPhrase', ''),\n",
    "            'addr1': item.get('addr1', ''),\n",
    "            'img': img_url,\n",
    "            'cotid' : item.get('cotId', ''),\n",
    "            'areaCode' : item.get('areaCode', ''),\n",
    "            'cat1' : item.get('cat1', ''),\n",
    "            'cat2' : item.get('cat2', '')\n",
    "        }\n",
    "        \n",
    "        cotid = extracted_data['cotid']\n",
    "        cat1 = extracted_data['cat1']\n",
    "        cat2 = extracted_data['cat2']\n",
    "        areaCode = extracted_data['areaCode']\n",
    "        \n",
    "        new_url = f'https://korean.visitkorea.or.kr/detail/ms_detail.do?cotid={cotid}&big_category={cat1}&mid_category={cat2}&big_area={areaCode}'\n",
    "        response = requests.get(new_url)\n",
    "        html = response.text\n",
    "        soup = BeautifulSoup(html,'html.parser')\n",
    "        description = soup.find('div',class_='blind').text\n",
    "        description = description.replace('\\n','').replace('\\t','')\n",
    "        extracted_data['description'] = description\n",
    "\n",
    "        all_data.append(extracted_data)\n",
    "    \n",
    "    # 다음 페이지로 이동\n",
    "    # if params['page'] in range(0,1000,100):\n",
    "    #     print('time sleep')\n",
    "    #     time.sleep(200)\n",
    "    # else:\n",
    "    \n",
    "    print(params['page'])\n",
    "    params['page'] = str(int(params['page']) + 1)\n",
    "    \n",
    "\n",
    "    # 만약 더 이상 페이지가 없으면 반복문 종료\n",
    "    if not result_list or len(all_data) == 430:\n",
    "        break"
   ]
  },
  {
   "cell_type": "code",
   "execution_count": 122,
   "metadata": {},
   "outputs": [],
   "source": [
    "df = pd.DataFrame(all_data)"
   ]
  },
  {
   "cell_type": "code",
   "execution_count": 124,
   "metadata": {},
   "outputs": [
    {
     "name": "stderr",
     "output_type": "stream",
     "text": [
      "100%|██████████| 430/430 [00:00<00:00, 429928.66it/s]\n"
     ]
    }
   ],
   "source": [
    "tqdm.pandas()\n",
    "df['관광지명'] = df['관광지명'].progress_apply(lambda x: x.replace(' ',''))\n",
    "\n",
    "pattern = re.compile(r'\\([^)]*\\)')\n",
    "df['관광지명'] = df['관광지명'].apply(lambda x: re.sub(pattern, '', x))"
   ]
  },
  {
   "cell_type": "code",
   "execution_count": 125,
   "metadata": {},
   "outputs": [],
   "source": [
    "gy = pd.read_csv('./경남/basic_info.csv')"
   ]
  },
  {
   "cell_type": "code",
   "execution_count": 128,
   "metadata": {},
   "outputs": [],
   "source": [
    "gy = pd.merge(gy,df[['관광지명','catch','description']],on='관광지명',how='left')"
   ]
  },
  {
   "cell_type": "code",
   "execution_count": null,
   "metadata": {},
   "outputs": [
    {
     "data": {
      "text/html": [
       "<div>\n",
       "<style scoped>\n",
       "    .dataframe tbody tr th:only-of-type {\n",
       "        vertical-align: middle;\n",
       "    }\n",
       "\n",
       "    .dataframe tbody tr th {\n",
       "        vertical-align: top;\n",
       "    }\n",
       "\n",
       "    .dataframe thead th {\n",
       "        text-align: right;\n",
       "    }\n",
       "</style>\n",
       "<table border=\"1\" class=\"dataframe\">\n",
       "  <thead>\n",
       "    <tr style=\"text-align: right;\">\n",
       "      <th></th>\n",
       "      <th>관광지명</th>\n",
       "      <th>주소</th>\n",
       "      <th>평균 체류시간</th>\n",
       "      <th>stars</th>\n",
       "      <th>reviews</th>\n",
       "      <th>광역지자체별 거주 방문자 비율</th>\n",
       "      <th>search_number</th>\n",
       "      <th>catch</th>\n",
       "      <th>description</th>\n",
       "    </tr>\n",
       "  </thead>\n",
       "  <tbody>\n",
       "  </tbody>\n",
       "</table>\n",
       "</div>"
      ],
      "text/plain": [
       "Empty DataFrame\n",
       "Columns: [관광지명, 주소, 평균 체류시간, stars, reviews, 광역지자체별 거주 방문자 비율, search_number, catch, description]\n",
       "Index: []"
      ]
     },
     "metadata": {},
     "output_type": "display_data"
    }
   ],
   "source": [
    "gy[gy.description.isna()]"
   ]
  },
  {
   "cell_type": "code",
   "execution_count": null,
   "metadata": {},
   "outputs": [],
   "source": [
    "df[df['관광지명'].str.contains('')]"
   ]
  },
  {
   "cell_type": "code",
   "execution_count": 160,
   "metadata": {},
   "outputs": [],
   "source": [
    "gy.loc[7,['catch','description']] = [df.iloc[27]['catch'],df.iloc[27]['description']]\n",
    "gy.loc[26,['catch','description']] = [df.iloc[133]['catch'],df.iloc[133]['description']]\n",
    "gy.loc[29,['catch','description']] = [df.iloc[36]['catch'],df.iloc[36]['description']]\n",
    "gy.loc[33,['catch','description']] = [df.iloc[351]['catch'],df.iloc[351]['description']]\n",
    "gy.loc[39,['catch','description']] = [df.iloc[256]['catch'],df.iloc[256]['description']]\n",
    "gy.loc[41,['catch','description']] = [df.iloc[20]['catch'],df.iloc[20]['description']]\n",
    "gy.loc[42,['catch','description']] = [df.iloc[376]['catch'],df.iloc[376]['description']]\n",
    "gy.loc[52,['catch','description']] = [df.iloc[44]['catch'],df.iloc[44]['description']]\n",
    "gy.loc[55,['catch','description']] = [df.iloc[324]['catch'],df.iloc[324]['description']]\n",
    "gy.loc[60,['catch','description']] = [df.iloc[7]['catch'],df.iloc[7]['description']]\n",
    "gy.loc[64,['catch','description']] = [df.iloc[84]['catch'],df.iloc[84]['description']]\n",
    "gy.loc[65,['catch','description']] = [df.iloc[382]['catch'],df.iloc[382]['description']]\n",
    "gy.loc[69,['catch','description']] = [df.iloc[352]['catch'],df.iloc[352]['description']]\n",
    "gy.loc[73,['catch','description']] = [df.iloc[342]['catch'],df.iloc[342]['description']]\n",
    "gy.loc[92,['catch','description']] = [df.iloc[109]['catch'],df.iloc[109]['description']]\n",
    "gy.loc[100,['catch','description']] = [df.iloc[119]['catch'],df.iloc[119]['description']]\n"
   ]
  },
  {
   "cell_type": "code",
   "execution_count": 163,
   "metadata": {},
   "outputs": [],
   "source": [
    "gy.to_csv('./경남/basic_info.csv',encoding='utf-8',index=False)"
   ]
  },
  {
   "cell_type": "markdown",
   "metadata": {},
   "source": [
    "## 전남 description"
   ]
  },
  {
   "cell_type": "code",
   "execution_count": 164,
   "metadata": {},
   "outputs": [
    {
     "name": "stdout",
     "output_type": "stream",
     "text": [
      "1\n",
      "2\n",
      "3\n",
      "4\n",
      "5\n"
     ]
    }
   ],
   "source": [
    "url = 'https://korean.visitkorea.or.kr/call'\n",
    "params = {\n",
    "    'cmd': 'TOUR_CONTENT_LIST_VIEW',\n",
    "    'month': 'All',\n",
    "    'areaCode': '38',\n",
    "    'sigunguCode': '13',\n",
    "    'tagId': 'All',\n",
    "    'sortkind': '1',\n",
    "    'locationx': '0',\n",
    "    'locationy': '0',\n",
    "    'page': '1',\n",
    "    'cnt': '100',\n",
    "    'typeList': 'Tour',\n",
    "    'stampId': '1589345b-b030-11ea-b8bd-020027310001'\n",
    "}\n",
    "\n",
    "all_data = []  # 모든 페이지의 데이터를 저장할 리스트\n",
    "\n",
    "while True:\n",
    "    response = requests.get(url, params=params)\n",
    "    data = response.json()\n",
    "\n",
    "    # 받은 데이터에서 필요한 정보 추출\n",
    "    result_list = data.get('body', {}).get('result', [])\n",
    "    for item in result_list:\n",
    "        img_path = item.get('imgPath', '')\n",
    "        img_url = f'https://cdn.visitkorea.or.kr/img/call?cmd=VIEW&id={img_path}'\n",
    "        \n",
    "        extracted_data = {\n",
    "            '관광지명': item.get('TITLE', ''),\n",
    "            'catch': item.get('catchPhrase', ''),\n",
    "            'addr1': item.get('addr1', ''),\n",
    "            'img': img_url,\n",
    "            'cotid' : item.get('cotId', ''),\n",
    "            'areaCode' : item.get('areaCode', ''),\n",
    "            'cat1' : item.get('cat1', ''),\n",
    "            'cat2' : item.get('cat2', '')\n",
    "        }\n",
    "        \n",
    "        cotid = extracted_data['cotid']\n",
    "        cat1 = extracted_data['cat1']\n",
    "        cat2 = extracted_data['cat2']\n",
    "        areaCode = extracted_data['areaCode']\n",
    "        \n",
    "        new_url = f'https://korean.visitkorea.or.kr/detail/ms_detail.do?cotid={cotid}&big_category={cat1}&mid_category={cat2}&big_area={areaCode}'\n",
    "        response = requests.get(new_url)\n",
    "        html = response.text\n",
    "        soup = BeautifulSoup(html,'html.parser')\n",
    "        description = soup.find('div',class_='blind').text\n",
    "        description = description.replace('\\n','').replace('\\t','')\n",
    "        extracted_data['description'] = description\n",
    "\n",
    "        all_data.append(extracted_data)\n",
    "    \n",
    "    # 다음 페이지로 이동\n",
    "    # if params['page'] in range(0,1000,100):\n",
    "    #     print('time sleep')\n",
    "    #     time.sleep(200)\n",
    "    # else:\n",
    "    \n",
    "    print(params['page'])\n",
    "    params['page'] = str(int(params['page']) + 1)\n",
    "    \n",
    "\n",
    "    # 만약 더 이상 페이지가 없으면 반복문 종료\n",
    "    if not result_list or len(all_data) == 474:\n",
    "        break"
   ]
  },
  {
   "cell_type": "code",
   "execution_count": 165,
   "metadata": {},
   "outputs": [],
   "source": [
    "df = pd.DataFrame(all_data)"
   ]
  },
  {
   "cell_type": "code",
   "execution_count": 167,
   "metadata": {},
   "outputs": [
    {
     "name": "stderr",
     "output_type": "stream",
     "text": [
      "100%|██████████| 474/474 [00:00<00:00, 474034.36it/s]\n"
     ]
    }
   ],
   "source": [
    "tqdm.pandas()\n",
    "df['관광지명'] = df['관광지명'].progress_apply(lambda x: x.replace(' ',''))\n",
    "\n",
    "pattern = re.compile(r'\\([^)]*\\)')\n",
    "df['관광지명'] = df['관광지명'].apply(lambda x: re.sub(pattern, '', x))"
   ]
  },
  {
   "cell_type": "code",
   "execution_count": 168,
   "metadata": {},
   "outputs": [],
   "source": [
    "j = pd.read_csv('./전남/basic_info.csv')"
   ]
  },
  {
   "cell_type": "code",
   "execution_count": 170,
   "metadata": {},
   "outputs": [],
   "source": [
    "j = pd.merge(j,df[['관광지명','catch','description']],on='관광지명',how='left')"
   ]
  },
  {
   "cell_type": "code",
   "execution_count": null,
   "metadata": {},
   "outputs": [
    {
     "data": {
      "text/html": [
       "<div>\n",
       "<style scoped>\n",
       "    .dataframe tbody tr th:only-of-type {\n",
       "        vertical-align: middle;\n",
       "    }\n",
       "\n",
       "    .dataframe tbody tr th {\n",
       "        vertical-align: top;\n",
       "    }\n",
       "\n",
       "    .dataframe thead th {\n",
       "        text-align: right;\n",
       "    }\n",
       "</style>\n",
       "<table border=\"1\" class=\"dataframe\">\n",
       "  <thead>\n",
       "    <tr style=\"text-align: right;\">\n",
       "      <th></th>\n",
       "      <th>관광지명</th>\n",
       "      <th>주소</th>\n",
       "      <th>평균 체류시간</th>\n",
       "      <th>stars</th>\n",
       "      <th>reviews</th>\n",
       "      <th>광역지자체별 거주 방문자 비율</th>\n",
       "      <th>search_number</th>\n",
       "      <th>catch</th>\n",
       "      <th>description</th>\n",
       "    </tr>\n",
       "  </thead>\n",
       "  <tbody>\n",
       "  </tbody>\n",
       "</table>\n",
       "</div>"
      ],
      "text/plain": [
       "Empty DataFrame\n",
       "Columns: [관광지명, 주소, 평균 체류시간, stars, reviews, 광역지자체별 거주 방문자 비율, search_number, catch, description]\n",
       "Index: []"
      ]
     },
     "metadata": {},
     "output_type": "display_data"
    }
   ],
   "source": [
    "j[j.description.isna()]"
   ]
  },
  {
   "cell_type": "code",
   "execution_count": null,
   "metadata": {},
   "outputs": [],
   "source": [
    "df[df['관광지명'].str.contains('')]"
   ]
  },
  {
   "cell_type": "code",
   "execution_count": 200,
   "metadata": {},
   "outputs": [],
   "source": [
    "j.loc[9,['catch','description']] = [df.iloc[97]['catch'],df.iloc[97]['description']]\n",
    "j.loc[15,['catch','description']] = [df.iloc[163]['catch'],df.iloc[163]['description']]\n",
    "j.loc[25,['catch','description']] = [df.iloc[98]['catch'],df.iloc[98]['description']]\n",
    "j.loc[28,['catch','description']] = [df.iloc[348]['catch'],df.iloc[348]['description']]\n",
    "j.loc[30,['catch','description']] = [df.iloc[232]['catch'],df.iloc[232]['description']]\n",
    "\n",
    "j.loc[36,['catch','description']] = [df.iloc[341]['catch'],df.iloc[341]['description']]\n",
    "j.loc[37,['catch','description']] = [df.iloc[49]['catch'],df.iloc[49]['description']]\n",
    "j.loc[44,['catch','description']] = [df.iloc[86]['catch'],df.iloc[86]['description']]\n",
    "j.loc[46,['catch','description']] = [df.iloc[48]['catch'],df.iloc[48]['description']]\n",
    "j.loc[59,['catch','description']] = [df.iloc[167]['catch'],df.iloc[167]['description']]\n",
    "\n",
    "j.loc[62,['catch','description']] = [df.iloc[10]['catch'],df.iloc[10]['description']]\n",
    "j.loc[66,['catch','description']] = [df.iloc[220]['catch'],df.iloc[220]['description']]\n",
    "j.loc[67,['catch','description']] = [df.iloc[13]['catch'],df.iloc[13]['description']]\n",
    "j.loc[69,['catch','description']] = [df.iloc[376]['catch'],df.iloc[376]['description']]\n",
    "j.loc[72,['catch','description']] = [df.iloc[418]['catch'],df.iloc[418]['description']]\n",
    "\n",
    "j.loc[73,['catch','description']] = [df.iloc[2]['catch'],df.iloc[2]['description']]\n",
    "j.loc[79,['catch','description']] = [df.iloc[7]['catch'],df.iloc[7]['description']]\n",
    "j.loc[80,['catch','description']] = [df.iloc[55]['catch'],df.iloc[55]['description']]\n",
    "j.loc[82,['catch','description']] = [df.iloc[394]['catch'],df.iloc[394]['description']]\n",
    "j.loc[60,['catch','description']] = [df.iloc[353]['catch'],df.iloc[353]['description']]\n"
   ]
  },
  {
   "cell_type": "code",
   "execution_count": 202,
   "metadata": {},
   "outputs": [],
   "source": [
    "j.to_csv('./전남/basic_info.csv',encoding='utf-8',index=False)"
   ]
  },
  {
   "cell_type": "markdown",
   "metadata": {},
   "source": [
    "## 광주 description"
   ]
  },
  {
   "cell_type": "code",
   "execution_count": 203,
   "metadata": {},
   "outputs": [
    {
     "name": "stdout",
     "output_type": "stream",
     "text": [
      "1\n",
      "2\n",
      "3\n",
      "4\n",
      "5\n"
     ]
    }
   ],
   "source": [
    "url = 'https://korean.visitkorea.or.kr/call'\n",
    "params = {\n",
    "    'cmd': 'TOUR_CONTENT_LIST_VIEW',\n",
    "    'month': 'All',\n",
    "    'areaCode': '5',\n",
    "    'sigunguCode': 'All',\n",
    "    'tagId': 'All',\n",
    "    'sortkind': '1',\n",
    "    'locationx': '0',\n",
    "    'locationy': '0',\n",
    "    'page': '1',\n",
    "    'cnt': '100',\n",
    "    'typeList': 'Tour',\n",
    "    'stampId': '1589345b-b030-11ea-b8bd-020027310001'\n",
    "}\n",
    "\n",
    "all_data = []  # 모든 페이지의 데이터를 저장할 리스트\n",
    "\n",
    "while True:\n",
    "    response = requests.get(url, params=params)\n",
    "    data = response.json()\n",
    "\n",
    "    # 받은 데이터에서 필요한 정보 추출\n",
    "    result_list = data.get('body', {}).get('result', [])\n",
    "    for item in result_list:\n",
    "        img_path = item.get('imgPath', '')\n",
    "        img_url = f'https://cdn.visitkorea.or.kr/img/call?cmd=VIEW&id={img_path}'\n",
    "        \n",
    "        extracted_data = {\n",
    "            '관광지명': item.get('TITLE', ''),\n",
    "            'catch': item.get('catchPhrase', ''),\n",
    "            'addr1': item.get('addr1', ''),\n",
    "            'img': img_url,\n",
    "            'cotid' : item.get('cotId', ''),\n",
    "            'areaCode' : item.get('areaCode', ''),\n",
    "            'cat1' : item.get('cat1', ''),\n",
    "            'cat2' : item.get('cat2', '')\n",
    "        }\n",
    "        \n",
    "        cotid = extracted_data['cotid']\n",
    "        cat1 = extracted_data['cat1']\n",
    "        cat2 = extracted_data['cat2']\n",
    "        areaCode = extracted_data['areaCode']\n",
    "        \n",
    "        new_url = f'https://korean.visitkorea.or.kr/detail/ms_detail.do?cotid={cotid}&big_category={cat1}&mid_category={cat2}&big_area={areaCode}'\n",
    "        response = requests.get(new_url)\n",
    "        html = response.text\n",
    "        soup = BeautifulSoup(html,'html.parser')\n",
    "        description = soup.find('div',class_='blind').text\n",
    "        description = description.replace('\\n','').replace('\\t','')\n",
    "        extracted_data['description'] = description\n",
    "\n",
    "        all_data.append(extracted_data)\n",
    "    \n",
    "    # 다음 페이지로 이동\n",
    "    # if params['page'] in range(0,1000,100):\n",
    "    #     print('time sleep')\n",
    "    #     time.sleep(200)\n",
    "    # else:\n",
    "    \n",
    "    print(params['page'])\n",
    "    params['page'] = str(int(params['page']) + 1)\n",
    "    \n",
    "\n",
    "    # 만약 더 이상 페이지가 없으면 반복문 종료\n",
    "    if not result_list or len(all_data) == 493:\n",
    "        break"
   ]
  },
  {
   "cell_type": "code",
   "execution_count": 205,
   "metadata": {},
   "outputs": [],
   "source": [
    "df = pd.DataFrame(all_data)"
   ]
  },
  {
   "cell_type": "code",
   "execution_count": 207,
   "metadata": {},
   "outputs": [
    {
     "name": "stderr",
     "output_type": "stream",
     "text": [
      "100%|██████████| 493/493 [00:00<00:00, 246165.70it/s]\n"
     ]
    }
   ],
   "source": [
    "tqdm.pandas()\n",
    "df['관광지명'] = df['관광지명'].progress_apply(lambda x: x.replace(' ',''))\n",
    "\n",
    "pattern = re.compile(r'\\([^)]*\\)')\n",
    "df['관광지명'] = df['관광지명'].apply(lambda x: re.sub(pattern, '', x))"
   ]
  },
  {
   "cell_type": "code",
   "execution_count": 208,
   "metadata": {},
   "outputs": [],
   "source": [
    "gw = pd.read_csv('./광주/basic_info.csv')"
   ]
  },
  {
   "cell_type": "code",
   "execution_count": 210,
   "metadata": {},
   "outputs": [],
   "source": [
    "gw = pd.merge(gw,df[['관광지명','catch','description']],on='관광지명',how='left')"
   ]
  },
  {
   "cell_type": "code",
   "execution_count": null,
   "metadata": {},
   "outputs": [
    {
     "data": {
      "text/html": [
       "<div>\n",
       "<style scoped>\n",
       "    .dataframe tbody tr th:only-of-type {\n",
       "        vertical-align: middle;\n",
       "    }\n",
       "\n",
       "    .dataframe tbody tr th {\n",
       "        vertical-align: top;\n",
       "    }\n",
       "\n",
       "    .dataframe thead th {\n",
       "        text-align: right;\n",
       "    }\n",
       "</style>\n",
       "<table border=\"1\" class=\"dataframe\">\n",
       "  <thead>\n",
       "    <tr style=\"text-align: right;\">\n",
       "      <th></th>\n",
       "      <th>관광지명</th>\n",
       "      <th>주소</th>\n",
       "      <th>평균 체류시간</th>\n",
       "      <th>stars</th>\n",
       "      <th>reviews</th>\n",
       "      <th>광역지자체별 거주 방문자 비율</th>\n",
       "      <th>search_number</th>\n",
       "      <th>catch</th>\n",
       "      <th>description</th>\n",
       "    </tr>\n",
       "  </thead>\n",
       "  <tbody>\n",
       "  </tbody>\n",
       "</table>\n",
       "</div>"
      ],
      "text/plain": [
       "Empty DataFrame\n",
       "Columns: [관광지명, 주소, 평균 체류시간, stars, reviews, 광역지자체별 거주 방문자 비율, search_number, catch, description]\n",
       "Index: []"
      ]
     },
     "metadata": {},
     "output_type": "display_data"
    }
   ],
   "source": [
    "gw[gw.description.isna()]"
   ]
  },
  {
   "cell_type": "code",
   "execution_count": null,
   "metadata": {},
   "outputs": [
    {
     "data": {
      "text/html": [
       "<div>\n",
       "<style scoped>\n",
       "    .dataframe tbody tr th:only-of-type {\n",
       "        vertical-align: middle;\n",
       "    }\n",
       "\n",
       "    .dataframe tbody tr th {\n",
       "        vertical-align: top;\n",
       "    }\n",
       "\n",
       "    .dataframe thead th {\n",
       "        text-align: right;\n",
       "    }\n",
       "</style>\n",
       "<table border=\"1\" class=\"dataframe\">\n",
       "  <thead>\n",
       "    <tr style=\"text-align: right;\">\n",
       "      <th></th>\n",
       "      <th>관광지명</th>\n",
       "      <th>catch</th>\n",
       "      <th>addr1</th>\n",
       "      <th>img</th>\n",
       "      <th>cotid</th>\n",
       "      <th>areaCode</th>\n",
       "      <th>cat1</th>\n",
       "      <th>cat2</th>\n",
       "      <th>description</th>\n",
       "    </tr>\n",
       "  </thead>\n",
       "  <tbody>\n",
       "    <tr>\n",
       "      <th>138</th>\n",
       "      <td>하정웅미술관</td>\n",
       "      <td>시간과 공간을 넘나들며 한국 근현대사의 폭을 한층 확장시킨 '하정웅미술관'\\t\\t</td>\n",
       "      <td>광주광역시 서구 상무대로 1165</td>\n",
       "      <td>https://cdn.visitkorea.or.kr/img/call?cmd=VIEW...</td>\n",
       "      <td>97c6b0af-48df-4b62-94db-1c7ae5c6b5f1</td>\n",
       "      <td>5</td>\n",
       "      <td>A02</td>\n",
       "      <td>A0206</td>\n",
       "      <td>광주시립미술관 분관 ''하정웅미술관''은 1981년 3월에 건립되어 ''전남도지사 ...</td>\n",
       "    </tr>\n",
       "  </tbody>\n",
       "</table>\n",
       "</div>"
      ],
      "text/plain": [
       "       관광지명                                          catch  \\\n",
       "138  하정웅미술관  시간과 공간을 넘나들며 한국 근현대사의 폭을 한층 확장시킨 '하정웅미술관'\\t\\t   \n",
       "\n",
       "                  addr1                                                img  \\\n",
       "138  광주광역시 서구 상무대로 1165  https://cdn.visitkorea.or.kr/img/call?cmd=VIEW...   \n",
       "\n",
       "                                    cotid areaCode cat1   cat2  \\\n",
       "138  97c6b0af-48df-4b62-94db-1c7ae5c6b5f1        5  A02  A0206   \n",
       "\n",
       "                                           description  \n",
       "138  광주시립미술관 분관 ''하정웅미술관''은 1981년 3월에 건립되어 ''전남도지사 ...  "
      ]
     },
     "metadata": {},
     "output_type": "display_data"
    }
   ],
   "source": [
    "df[df['관광지명'].str.contains('하정웅미술관')]"
   ]
  },
  {
   "cell_type": "code",
   "execution_count": 231,
   "metadata": {},
   "outputs": [],
   "source": [
    "gw.loc[3,['catch','description']] = [df.iloc[41]['catch'],df.iloc[41]['description']]\n",
    "gw.loc[5,['catch','description']] = [df.iloc[85]['catch'],df.iloc[85]['description']]\n",
    "gw.loc[7,['catch','description']] = [df.iloc[149]['catch'],df.iloc[149]['description']]\n",
    "gw.loc[8,['catch','description']] = [df.iloc[38]['catch'],df.iloc[38]['description']]\n",
    "gw.loc[9,['catch','description']] = [df.iloc[351]['catch'],df.iloc[351]['description']]\n",
    "gw.loc[17,['catch','description']] = [df.iloc[40]['catch'],df.iloc[40]['description']]\n",
    "gw.loc[26,['catch','description']] = [df.iloc[11]['catch'],df.iloc[11]['description']]\n",
    "gw.loc[32,['catch','description']] = [df.iloc[27]['catch'],df.iloc[27]['description']]\n",
    "gw.loc[33,['catch','description']] = [df.iloc[449]['catch'],df.iloc[449]['description']]\n",
    "gw.loc[36,['catch','description']] = [df.iloc[83]['catch'],df.iloc[83]['description']]\n",
    "gw.loc[42,['catch','description']] = [df.iloc[356]['catch'],df.iloc[356]['description']]\n",
    "gw.loc[47,['catch','description']] = [df.iloc[138]['catch'],df.iloc[138]['description']]"
   ]
  },
  {
   "cell_type": "code",
   "execution_count": 233,
   "metadata": {},
   "outputs": [],
   "source": [
    "gw.to_csv('./광주/basic_info.csv',encoding='utf-8',index=False)"
   ]
  },
  {
   "cell_type": "code",
   "execution_count": null,
   "metadata": {},
   "outputs": [],
   "source": []
  },
  {
   "cell_type": "markdown",
   "metadata": {},
   "source": [
    "========================================================================================================================================================================================================================================\n",
    "\n",
    "========================================================================================================================================================================================================================================\n",
    "\n",
    "========================================================================================================================================================================================================================================\n"
   ]
  },
  {
   "cell_type": "code",
   "execution_count": 19,
   "metadata": {},
   "outputs": [],
   "source": [
    "import pandas as pd\n",
    "\n",
    "busan = pd.read_csv('./data/busan.csv')\n",
    "ulsan = pd.read_csv('./data/ulsan.csv')\n",
    "gyeongnam = pd.read_csv('./data/gyeongnam.csv')\n",
    "jeonnam = pd.read_csv('./data/jeonnam.csv')\n",
    "gwangju = pd.read_csv('./data/gwangju.csv')"
   ]
  },
  {
   "cell_type": "code",
   "execution_count": 20,
   "metadata": {},
   "outputs": [],
   "source": [
    "busan_avg = busan['scores'].sum() / len(busan)\n",
    "ulsan_avg = ulsan['scores'].sum() / len(ulsan)\n",
    "gyeongnam_avg = gyeongnam['scores'].sum() / len(gyeongnam)\n",
    "jeonnam_avg = jeonnam['scores'].sum() / len(jeonnam)\n",
    "gwangju_avg = gwangju['scores'].sum() / len(gwangju)"
   ]
  },
  {
   "cell_type": "code",
   "execution_count": 25,
   "metadata": {},
   "outputs": [],
   "source": [
    "for i in range(len(busan)):\n",
    "    if busan.iloc[i]['scores'] >= busan_avg:\n",
    "        busan.at[i,'구분'] = '숨은 명소'\n",
    "    else:\n",
    "        busan.at[i,'구분'] = '일반 명소'\n",
    "        \n",
    "for i in range(len(ulsan)):\n",
    "    if ulsan.iloc[i]['scores'] >= ulsan_avg:\n",
    "        ulsan.at[i,'구분'] = '숨은 명소'\n",
    "    else:\n",
    "        ulsan.at[i,'구분'] = '일반 명소'\n",
    "        \n",
    "for i in range(len(gyeongnam)):\n",
    "    if gyeongnam.iloc[i]['scores'] >= gyeongnam_avg:\n",
    "        gyeongnam.at[i,'구분'] = '숨은 명소'\n",
    "    else:\n",
    "        gyeongnam.at[i,'구분'] = '일반 명소'\n",
    "        \n",
    "for i in range(len(jeonnam)):\n",
    "    if jeonnam.iloc[i]['scores'] >= jeonnam_avg:\n",
    "        jeonnam.at[i,'구분'] = '숨은 명소'\n",
    "    else:\n",
    "        jeonnam.at[i,'구분'] = '일반 명소'\n",
    "        \n",
    "for i in range(len(gwangju)):\n",
    "    if gwangju.iloc[i]['scores'] >= gwangju_avg:\n",
    "        gwangju.at[i,'구분'] = '숨은 명소'\n",
    "    else:\n",
    "        gwangju.at[i,'구분'] = '일반 명소'"
   ]
  },
  {
   "cell_type": "code",
   "execution_count": 40,
   "metadata": {},
   "outputs": [],
   "source": [
    "all_df = pd.concat([busan,ulsan,gyeongnam,jeonnam,gwangju],ignore_index=True)"
   ]
  },
  {
   "cell_type": "code",
   "execution_count": 54,
   "metadata": {},
   "outputs": [
    {
     "data": {
      "text/html": [
       "<div>\n",
       "<style scoped>\n",
       "    .dataframe tbody tr th:only-of-type {\n",
       "        vertical-align: middle;\n",
       "    }\n",
       "\n",
       "    .dataframe tbody tr th {\n",
       "        vertical-align: top;\n",
       "    }\n",
       "\n",
       "    .dataframe thead th {\n",
       "        text-align: right;\n",
       "    }\n",
       "</style>\n",
       "<table border=\"1\" class=\"dataframe\">\n",
       "  <thead>\n",
       "    <tr style=\"text-align: right;\">\n",
       "      <th></th>\n",
       "      <th>관광지명</th>\n",
       "      <th>평균 체류시간</th>\n",
       "      <th>stars</th>\n",
       "      <th>reviews</th>\n",
       "      <th>광역지자체별 거주 방문자 비율</th>\n",
       "      <th>search_number</th>\n",
       "      <th>avg</th>\n",
       "      <th>주소</th>\n",
       "      <th>대분류</th>\n",
       "      <th>중분류</th>\n",
       "      <th>소분류</th>\n",
       "      <th>longitude</th>\n",
       "      <th>latitude</th>\n",
       "      <th>scores</th>\n",
       "      <th>catch</th>\n",
       "      <th>description</th>\n",
       "      <th>img</th>\n",
       "      <th>구분</th>\n",
       "    </tr>\n",
       "  </thead>\n",
       "  <tbody>\n",
       "    <tr>\n",
       "      <th>0</th>\n",
       "      <td>명지동근린공원</td>\n",
       "      <td>164</td>\n",
       "      <td>4.1</td>\n",
       "      <td>8.0</td>\n",
       "      <td>62.5</td>\n",
       "      <td>23200</td>\n",
       "      <td>553.416667</td>\n",
       "      <td>부산광역시 강서구 명지오션시티10로 95</td>\n",
       "      <td>인문(문화/예술/역사)</td>\n",
       "      <td>휴양관광지</td>\n",
       "      <td>공원</td>\n",
       "      <td>128.906657</td>\n",
       "      <td>35.087033</td>\n",
       "      <td>24.909113</td>\n",
       "      <td>도심 속 공원</td>\n",
       "      <td>명지동 근린공원은 명지오션시티에 있는 도심 공원이다. 인근에는 주차장, 축구장, 잔...</td>\n",
       "      <td>https://cdn.visitkorea.or.kr/img/call?cmd=VIEW...</td>\n",
       "      <td>숨은 명소</td>\n",
       "    </tr>\n",
       "    <tr>\n",
       "      <th>1</th>\n",
       "      <td>칠암항</td>\n",
       "      <td>73</td>\n",
       "      <td>4.0</td>\n",
       "      <td>2.0</td>\n",
       "      <td>53.6</td>\n",
       "      <td>18000</td>\n",
       "      <td>234.166667</td>\n",
       "      <td>부산광역시 기장군 일광면 문오성길 510</td>\n",
       "      <td>자연</td>\n",
       "      <td>자연관광지</td>\n",
       "      <td>항구/포구</td>\n",
       "      <td>129.260290</td>\n",
       "      <td>35.298622</td>\n",
       "      <td>24.586122</td>\n",
       "      <td>베이징 올림픽 금메달 신화를 기념하다</td>\n",
       "      <td>칠암항은 방파제가 있는 항으로 야구 방망이와 글러브, 야구공을 형상화 한 야구 등대...</td>\n",
       "      <td>https://cdn.visitkorea.or.kr/img/call?cmd=VIEW...</td>\n",
       "      <td>숨은 명소</td>\n",
       "    </tr>\n",
       "    <tr>\n",
       "      <th>2</th>\n",
       "      <td>학리항</td>\n",
       "      <td>88</td>\n",
       "      <td>4.4</td>\n",
       "      <td>37.0</td>\n",
       "      <td>56.6</td>\n",
       "      <td>9160</td>\n",
       "      <td>681.500000</td>\n",
       "      <td>부산광역시 기장군 일광면 일광읍 학리 251-22</td>\n",
       "      <td>자연</td>\n",
       "      <td>자연관광지</td>\n",
       "      <td>항구/포구</td>\n",
       "      <td>129.247753</td>\n",
       "      <td>35.259973</td>\n",
       "      <td>24.220685</td>\n",
       "      <td>NaN</td>\n",
       "      <td>부산광역시 기장군 일광면 학리에 있는 어항으로 기장 해안가의 오래된 포구이다. 멸치...</td>\n",
       "      <td>https://cdn.visitkorea.or.kr/img/call?cmd=VIEW...</td>\n",
       "      <td>숨은 명소</td>\n",
       "    </tr>\n",
       "    <tr>\n",
       "      <th>3</th>\n",
       "      <td>아미르공원</td>\n",
       "      <td>154</td>\n",
       "      <td>4.0</td>\n",
       "      <td>3.0</td>\n",
       "      <td>53.0</td>\n",
       "      <td>63000</td>\n",
       "      <td>262.000000</td>\n",
       "      <td>부산광역시 영도구 해양로301번길 55</td>\n",
       "      <td>인문(문화/예술/역사)</td>\n",
       "      <td>휴양관광지</td>\n",
       "      <td>공원</td>\n",
       "      <td>129.077442</td>\n",
       "      <td>35.076293</td>\n",
       "      <td>23.708141</td>\n",
       "      <td>푸른 하늘과 에메랄드빛 바다 사이로 초록의 싱그러움이 반짝이는 아름다운 공원</td>\n",
       "      <td>아미르 공원은 1990년 말 부산항 북항 개발과정의 준설토를 매립하여 조성된 동삼혁...</td>\n",
       "      <td>https://cdn.visitkorea.or.kr/img/call?cmd=VIEW...</td>\n",
       "      <td>숨은 명소</td>\n",
       "    </tr>\n",
       "    <tr>\n",
       "      <th>4</th>\n",
       "      <td>부산복천동고분군</td>\n",
       "      <td>183</td>\n",
       "      <td>4.0</td>\n",
       "      <td>1.0</td>\n",
       "      <td>74.3</td>\n",
       "      <td>20100</td>\n",
       "      <td>20.916667</td>\n",
       "      <td>부산광역시 동래구 복천동</td>\n",
       "      <td>인문(문화/예술/역사)</td>\n",
       "      <td>역사관광지</td>\n",
       "      <td>유적지/사적지</td>\n",
       "      <td>129.090682</td>\n",
       "      <td>35.206873</td>\n",
       "      <td>23.631031</td>\n",
       "      <td>가야 시대를 만날 수 있는, 부산 복천동 고분군</td>\n",
       "      <td>부산 복천동 일대의 구릉 위에 있는 가야 때 무덤들이다. 여러 차례에 걸친 발굴조사...</td>\n",
       "      <td>https://cdn.visitkorea.or.kr/img/call?cmd=VIEW...</td>\n",
       "      <td>숨은 명소</td>\n",
       "    </tr>\n",
       "  </tbody>\n",
       "</table>\n",
       "</div>"
      ],
      "text/plain": [
       "       관광지명  평균 체류시간  stars  reviews  광역지자체별 거주 방문자 비율  search_number  \\\n",
       "0   명지동근린공원      164    4.1      8.0              62.5          23200   \n",
       "1       칠암항       73    4.0      2.0              53.6          18000   \n",
       "2       학리항       88    4.4     37.0              56.6           9160   \n",
       "3     아미르공원      154    4.0      3.0              53.0          63000   \n",
       "4  부산복천동고분군      183    4.0      1.0              74.3          20100   \n",
       "\n",
       "          avg                           주소           대분류    중분류      소분류  \\\n",
       "0  553.416667       부산광역시 강서구 명지오션시티10로 95  인문(문화/예술/역사)  휴양관광지       공원   \n",
       "1  234.166667       부산광역시 기장군 일광면 문오성길 510            자연  자연관광지    항구/포구   \n",
       "2  681.500000  부산광역시 기장군 일광면 일광읍 학리 251-22            자연  자연관광지    항구/포구   \n",
       "3  262.000000        부산광역시 영도구 해양로301번길 55  인문(문화/예술/역사)  휴양관광지       공원   \n",
       "4   20.916667                부산광역시 동래구 복천동  인문(문화/예술/역사)  역사관광지  유적지/사적지   \n",
       "\n",
       "    longitude   latitude     scores  \\\n",
       "0  128.906657  35.087033  24.909113   \n",
       "1  129.260290  35.298622  24.586122   \n",
       "2  129.247753  35.259973  24.220685   \n",
       "3  129.077442  35.076293  23.708141   \n",
       "4  129.090682  35.206873  23.631031   \n",
       "\n",
       "                                        catch  \\\n",
       "0                                     도심 속 공원   \n",
       "1                        베이징 올림픽 금메달 신화를 기념하다   \n",
       "2                                         NaN   \n",
       "3  푸른 하늘과 에메랄드빛 바다 사이로 초록의 싱그러움이 반짝이는 아름다운 공원   \n",
       "4                  가야 시대를 만날 수 있는, 부산 복천동 고분군   \n",
       "\n",
       "                                         description  \\\n",
       "0  명지동 근린공원은 명지오션시티에 있는 도심 공원이다. 인근에는 주차장, 축구장, 잔...   \n",
       "1  칠암항은 방파제가 있는 항으로 야구 방망이와 글러브, 야구공을 형상화 한 야구 등대...   \n",
       "2  부산광역시 기장군 일광면 학리에 있는 어항으로 기장 해안가의 오래된 포구이다. 멸치...   \n",
       "3  아미르 공원은 1990년 말 부산항 북항 개발과정의 준설토를 매립하여 조성된 동삼혁...   \n",
       "4  부산 복천동 일대의 구릉 위에 있는 가야 때 무덤들이다. 여러 차례에 걸친 발굴조사...   \n",
       "\n",
       "                                                 img     구분  \n",
       "0  https://cdn.visitkorea.or.kr/img/call?cmd=VIEW...  숨은 명소  \n",
       "1  https://cdn.visitkorea.or.kr/img/call?cmd=VIEW...  숨은 명소  \n",
       "2  https://cdn.visitkorea.or.kr/img/call?cmd=VIEW...  숨은 명소  \n",
       "3  https://cdn.visitkorea.or.kr/img/call?cmd=VIEW...  숨은 명소  \n",
       "4  https://cdn.visitkorea.or.kr/img/call?cmd=VIEW...  숨은 명소  "
      ]
     },
     "execution_count": 54,
     "metadata": {},
     "output_type": "execute_result"
    }
   ],
   "source": [
    "all_df.head()"
   ]
  },
  {
   "cell_type": "code",
   "execution_count": 57,
   "metadata": {},
   "outputs": [
    {
     "data": {
      "text/plain": [
       "True"
      ]
     },
     "execution_count": 57,
     "metadata": {},
     "output_type": "execute_result"
    }
   ],
   "source": [
    "pd.isna(all_df.iloc[2]['catch'])"
   ]
  },
  {
   "cell_type": "code",
   "execution_count": 30,
   "metadata": {},
   "outputs": [],
   "source": [
    "from googletrans import Translator\n",
    "\n",
    "translator = Translator()"
   ]
  },
  {
   "cell_type": "code",
   "execution_count": 64,
   "metadata": {},
   "outputs": [
    {
     "ename": "ReadTimeout",
     "evalue": "The read operation timed out",
     "output_type": "error",
     "traceback": [
      "\u001b[1;31m---------------------------------------------------------------------------\u001b[0m",
      "\u001b[1;31mReadTimeout\u001b[0m                               Traceback (most recent call last)",
      "Cell \u001b[1;32mIn[64], line 8\u001b[0m\n\u001b[0;32m      6\u001b[0m \u001b[38;5;28;01melse\u001b[39;00m:\n\u001b[0;32m      7\u001b[0m     text \u001b[38;5;241m=\u001b[39m \u001b[38;5;124mf\u001b[39m\u001b[38;5;124m\"\u001b[39m\u001b[38;5;132;01m{\u001b[39;00mall_df\u001b[38;5;241m.\u001b[39miloc[i][\u001b[38;5;124m'\u001b[39m\u001b[38;5;124mcatch\u001b[39m\u001b[38;5;124m'\u001b[39m]\u001b[38;5;132;01m}\u001b[39;00m\u001b[38;5;124m. \u001b[39m\u001b[38;5;132;01m{\u001b[39;00mall_df\u001b[38;5;241m.\u001b[39miloc[i][\u001b[38;5;124m'\u001b[39m\u001b[38;5;124mdescription\u001b[39m\u001b[38;5;124m'\u001b[39m]\u001b[38;5;132;01m}\u001b[39;00m\u001b[38;5;124m\"\u001b[39m\n\u001b[1;32m----> 8\u001b[0m text \u001b[38;5;241m=\u001b[39m \u001b[43mtranslator\u001b[49m\u001b[38;5;241;43m.\u001b[39;49m\u001b[43mtranslate\u001b[49m\u001b[43m(\u001b[49m\u001b[43mtext\u001b[49m\u001b[43m,\u001b[49m\u001b[43msrc\u001b[49m\u001b[38;5;241;43m=\u001b[39;49m\u001b[38;5;124;43m'\u001b[39;49m\u001b[38;5;124;43mko\u001b[39;49m\u001b[38;5;124;43m'\u001b[39;49m\u001b[43m,\u001b[49m\u001b[43mdest\u001b[49m\u001b[38;5;241;43m=\u001b[39;49m\u001b[38;5;124;43m'\u001b[39;49m\u001b[38;5;124;43men\u001b[39;49m\u001b[38;5;124;43m'\u001b[39;49m\u001b[43m)\u001b[49m\u001b[38;5;241m.\u001b[39mtext\n\u001b[0;32m     10\u001b[0m answer\u001b[38;5;241m.\u001b[39mappend(text)\n",
      "File \u001b[1;32mc:\\Users\\xzv22\\.conda\\envs\\mulcam_3_9\\lib\\site-packages\\googletrans\\client.py:194\u001b[0m, in \u001b[0;36mTranslator.translate\u001b[1;34m(self, text, dest, src)\u001b[0m\n\u001b[0;32m    191\u001b[0m         \u001b[38;5;28;01mraise\u001b[39;00m \u001b[38;5;167;01mValueError\u001b[39;00m(\u001b[38;5;124m'\u001b[39m\u001b[38;5;124minvalid destination language\u001b[39m\u001b[38;5;124m'\u001b[39m)\n\u001b[0;32m    193\u001b[0m origin \u001b[38;5;241m=\u001b[39m text\n\u001b[1;32m--> 194\u001b[0m data, response \u001b[38;5;241m=\u001b[39m \u001b[38;5;28;43mself\u001b[39;49m\u001b[38;5;241;43m.\u001b[39;49m\u001b[43m_translate\u001b[49m\u001b[43m(\u001b[49m\u001b[43mtext\u001b[49m\u001b[43m,\u001b[49m\u001b[43m \u001b[49m\u001b[43mdest\u001b[49m\u001b[43m,\u001b[49m\u001b[43m \u001b[49m\u001b[43msrc\u001b[49m\u001b[43m)\u001b[49m\n\u001b[0;32m    196\u001b[0m token_found \u001b[38;5;241m=\u001b[39m \u001b[38;5;28;01mFalse\u001b[39;00m\n\u001b[0;32m    197\u001b[0m square_bracket_counts \u001b[38;5;241m=\u001b[39m [\u001b[38;5;241m0\u001b[39m, \u001b[38;5;241m0\u001b[39m]\n",
      "File \u001b[1;32mc:\\Users\\xzv22\\.conda\\envs\\mulcam_3_9\\lib\\site-packages\\googletrans\\client.py:120\u001b[0m, in \u001b[0;36mTranslator._translate\u001b[1;34m(self, text, dest, src)\u001b[0m\n\u001b[0;32m    109\u001b[0m data \u001b[38;5;241m=\u001b[39m {\n\u001b[0;32m    110\u001b[0m     \u001b[38;5;124m'\u001b[39m\u001b[38;5;124mf.req\u001b[39m\u001b[38;5;124m'\u001b[39m: \u001b[38;5;28mself\u001b[39m\u001b[38;5;241m.\u001b[39m_build_rpc_request(text, dest, src),\n\u001b[0;32m    111\u001b[0m }\n\u001b[0;32m    112\u001b[0m params \u001b[38;5;241m=\u001b[39m {\n\u001b[0;32m    113\u001b[0m     \u001b[38;5;124m'\u001b[39m\u001b[38;5;124mrpcids\u001b[39m\u001b[38;5;124m'\u001b[39m: RPC_ID,\n\u001b[0;32m    114\u001b[0m     \u001b[38;5;124m'\u001b[39m\u001b[38;5;124mbl\u001b[39m\u001b[38;5;124m'\u001b[39m: \u001b[38;5;124m'\u001b[39m\u001b[38;5;124mboq_translate-webserver_20201207.13_p0\u001b[39m\u001b[38;5;124m'\u001b[39m,\n\u001b[1;32m   (...)\u001b[0m\n\u001b[0;32m    118\u001b[0m     \u001b[38;5;124m'\u001b[39m\u001b[38;5;124mrt\u001b[39m\u001b[38;5;124m'\u001b[39m: \u001b[38;5;124m'\u001b[39m\u001b[38;5;124mc\u001b[39m\u001b[38;5;124m'\u001b[39m,\n\u001b[0;32m    119\u001b[0m }\n\u001b[1;32m--> 120\u001b[0m r \u001b[38;5;241m=\u001b[39m \u001b[38;5;28;43mself\u001b[39;49m\u001b[38;5;241;43m.\u001b[39;49m\u001b[43mclient\u001b[49m\u001b[38;5;241;43m.\u001b[39;49m\u001b[43mpost\u001b[49m\u001b[43m(\u001b[49m\u001b[43murl\u001b[49m\u001b[43m,\u001b[49m\u001b[43m \u001b[49m\u001b[43mparams\u001b[49m\u001b[38;5;241;43m=\u001b[39;49m\u001b[43mparams\u001b[49m\u001b[43m,\u001b[49m\u001b[43m \u001b[49m\u001b[43mdata\u001b[49m\u001b[38;5;241;43m=\u001b[39;49m\u001b[43mdata\u001b[49m\u001b[43m)\u001b[49m\n\u001b[0;32m    122\u001b[0m \u001b[38;5;28;01mif\u001b[39;00m r\u001b[38;5;241m.\u001b[39mstatus_code \u001b[38;5;241m!=\u001b[39m \u001b[38;5;241m200\u001b[39m \u001b[38;5;129;01mand\u001b[39;00m \u001b[38;5;28mself\u001b[39m\u001b[38;5;241m.\u001b[39mraise_Exception:\n\u001b[0;32m    123\u001b[0m     \u001b[38;5;28;01mraise\u001b[39;00m \u001b[38;5;167;01mException\u001b[39;00m(\u001b[38;5;124m'\u001b[39m\u001b[38;5;124mUnexpected status code \u001b[39m\u001b[38;5;124m\"\u001b[39m\u001b[38;5;132;01m{}\u001b[39;00m\u001b[38;5;124m\"\u001b[39m\u001b[38;5;124m from \u001b[39m\u001b[38;5;132;01m{}\u001b[39;00m\u001b[38;5;124m'\u001b[39m\u001b[38;5;241m.\u001b[39mformat(\n\u001b[0;32m    124\u001b[0m         r\u001b[38;5;241m.\u001b[39mstatus_code, \u001b[38;5;28mself\u001b[39m\u001b[38;5;241m.\u001b[39mservice_urls))\n",
      "File \u001b[1;32mc:\\Users\\xzv22\\.conda\\envs\\mulcam_3_9\\lib\\site-packages\\httpx\\_client.py:824\u001b[0m, in \u001b[0;36mClient.post\u001b[1;34m(self, url, data, files, json, params, headers, cookies, auth, allow_redirects, timeout)\u001b[0m\n\u001b[0;32m    810\u001b[0m \u001b[38;5;28;01mdef\u001b[39;00m \u001b[38;5;21mpost\u001b[39m(\n\u001b[0;32m    811\u001b[0m     \u001b[38;5;28mself\u001b[39m,\n\u001b[0;32m    812\u001b[0m     url: URLTypes,\n\u001b[1;32m   (...)\u001b[0m\n\u001b[0;32m    822\u001b[0m     timeout: typing\u001b[38;5;241m.\u001b[39mUnion[TimeoutTypes, UnsetType] \u001b[38;5;241m=\u001b[39m UNSET,\n\u001b[0;32m    823\u001b[0m ) \u001b[38;5;241m-\u001b[39m\u001b[38;5;241m>\u001b[39m Response:\n\u001b[1;32m--> 824\u001b[0m     \u001b[38;5;28;01mreturn\u001b[39;00m \u001b[38;5;28;43mself\u001b[39;49m\u001b[38;5;241;43m.\u001b[39;49m\u001b[43mrequest\u001b[49m\u001b[43m(\u001b[49m\n\u001b[0;32m    825\u001b[0m \u001b[43m        \u001b[49m\u001b[38;5;124;43m\"\u001b[39;49m\u001b[38;5;124;43mPOST\u001b[39;49m\u001b[38;5;124;43m\"\u001b[39;49m\u001b[43m,\u001b[49m\n\u001b[0;32m    826\u001b[0m \u001b[43m        \u001b[49m\u001b[43murl\u001b[49m\u001b[43m,\u001b[49m\n\u001b[0;32m    827\u001b[0m \u001b[43m        \u001b[49m\u001b[43mdata\u001b[49m\u001b[38;5;241;43m=\u001b[39;49m\u001b[43mdata\u001b[49m\u001b[43m,\u001b[49m\n\u001b[0;32m    828\u001b[0m \u001b[43m        \u001b[49m\u001b[43mfiles\u001b[49m\u001b[38;5;241;43m=\u001b[39;49m\u001b[43mfiles\u001b[49m\u001b[43m,\u001b[49m\n\u001b[0;32m    829\u001b[0m \u001b[43m        \u001b[49m\u001b[43mjson\u001b[49m\u001b[38;5;241;43m=\u001b[39;49m\u001b[43mjson\u001b[49m\u001b[43m,\u001b[49m\n\u001b[0;32m    830\u001b[0m \u001b[43m        \u001b[49m\u001b[43mparams\u001b[49m\u001b[38;5;241;43m=\u001b[39;49m\u001b[43mparams\u001b[49m\u001b[43m,\u001b[49m\n\u001b[0;32m    831\u001b[0m \u001b[43m        \u001b[49m\u001b[43mheaders\u001b[49m\u001b[38;5;241;43m=\u001b[39;49m\u001b[43mheaders\u001b[49m\u001b[43m,\u001b[49m\n\u001b[0;32m    832\u001b[0m \u001b[43m        \u001b[49m\u001b[43mcookies\u001b[49m\u001b[38;5;241;43m=\u001b[39;49m\u001b[43mcookies\u001b[49m\u001b[43m,\u001b[49m\n\u001b[0;32m    833\u001b[0m \u001b[43m        \u001b[49m\u001b[43mauth\u001b[49m\u001b[38;5;241;43m=\u001b[39;49m\u001b[43mauth\u001b[49m\u001b[43m,\u001b[49m\n\u001b[0;32m    834\u001b[0m \u001b[43m        \u001b[49m\u001b[43mallow_redirects\u001b[49m\u001b[38;5;241;43m=\u001b[39;49m\u001b[43mallow_redirects\u001b[49m\u001b[43m,\u001b[49m\n\u001b[0;32m    835\u001b[0m \u001b[43m        \u001b[49m\u001b[43mtimeout\u001b[49m\u001b[38;5;241;43m=\u001b[39;49m\u001b[43mtimeout\u001b[49m\u001b[43m,\u001b[49m\n\u001b[0;32m    836\u001b[0m \u001b[43m    \u001b[49m\u001b[43m)\u001b[49m\n",
      "File \u001b[1;32mc:\\Users\\xzv22\\.conda\\envs\\mulcam_3_9\\lib\\site-packages\\httpx\\_client.py:600\u001b[0m, in \u001b[0;36mClient.request\u001b[1;34m(self, method, url, data, files, json, params, headers, cookies, auth, allow_redirects, timeout)\u001b[0m\n\u001b[0;32m    575\u001b[0m \u001b[38;5;28;01mdef\u001b[39;00m \u001b[38;5;21mrequest\u001b[39m(\n\u001b[0;32m    576\u001b[0m     \u001b[38;5;28mself\u001b[39m,\n\u001b[0;32m    577\u001b[0m     method: \u001b[38;5;28mstr\u001b[39m,\n\u001b[1;32m   (...)\u001b[0m\n\u001b[0;32m    588\u001b[0m     timeout: typing\u001b[38;5;241m.\u001b[39mUnion[TimeoutTypes, UnsetType] \u001b[38;5;241m=\u001b[39m UNSET,\n\u001b[0;32m    589\u001b[0m ) \u001b[38;5;241m-\u001b[39m\u001b[38;5;241m>\u001b[39m Response:\n\u001b[0;32m    590\u001b[0m     request \u001b[38;5;241m=\u001b[39m \u001b[38;5;28mself\u001b[39m\u001b[38;5;241m.\u001b[39mbuild_request(\n\u001b[0;32m    591\u001b[0m         method\u001b[38;5;241m=\u001b[39mmethod,\n\u001b[0;32m    592\u001b[0m         url\u001b[38;5;241m=\u001b[39murl,\n\u001b[1;32m   (...)\u001b[0m\n\u001b[0;32m    598\u001b[0m         cookies\u001b[38;5;241m=\u001b[39mcookies,\n\u001b[0;32m    599\u001b[0m     )\n\u001b[1;32m--> 600\u001b[0m     \u001b[38;5;28;01mreturn\u001b[39;00m \u001b[38;5;28;43mself\u001b[39;49m\u001b[38;5;241;43m.\u001b[39;49m\u001b[43msend\u001b[49m\u001b[43m(\u001b[49m\n\u001b[0;32m    601\u001b[0m \u001b[43m        \u001b[49m\u001b[43mrequest\u001b[49m\u001b[43m,\u001b[49m\u001b[43m \u001b[49m\u001b[43mauth\u001b[49m\u001b[38;5;241;43m=\u001b[39;49m\u001b[43mauth\u001b[49m\u001b[43m,\u001b[49m\u001b[43m \u001b[49m\u001b[43mallow_redirects\u001b[49m\u001b[38;5;241;43m=\u001b[39;49m\u001b[43mallow_redirects\u001b[49m\u001b[43m,\u001b[49m\u001b[43m \u001b[49m\u001b[43mtimeout\u001b[49m\u001b[38;5;241;43m=\u001b[39;49m\u001b[43mtimeout\u001b[49m\u001b[43m,\u001b[49m\n\u001b[0;32m    602\u001b[0m \u001b[43m    \u001b[49m\u001b[43m)\u001b[49m\n",
      "File \u001b[1;32mc:\\Users\\xzv22\\.conda\\envs\\mulcam_3_9\\lib\\site-packages\\httpx\\_client.py:620\u001b[0m, in \u001b[0;36mClient.send\u001b[1;34m(self, request, stream, auth, allow_redirects, timeout)\u001b[0m\n\u001b[0;32m    616\u001b[0m timeout \u001b[38;5;241m=\u001b[39m \u001b[38;5;28mself\u001b[39m\u001b[38;5;241m.\u001b[39mtimeout \u001b[38;5;28;01mif\u001b[39;00m \u001b[38;5;28misinstance\u001b[39m(timeout, UnsetType) \u001b[38;5;28;01melse\u001b[39;00m Timeout(timeout)\n\u001b[0;32m    618\u001b[0m auth \u001b[38;5;241m=\u001b[39m \u001b[38;5;28mself\u001b[39m\u001b[38;5;241m.\u001b[39mbuild_auth(request, auth)\n\u001b[1;32m--> 620\u001b[0m response \u001b[38;5;241m=\u001b[39m \u001b[38;5;28;43mself\u001b[39;49m\u001b[38;5;241;43m.\u001b[39;49m\u001b[43msend_handling_redirects\u001b[49m\u001b[43m(\u001b[49m\n\u001b[0;32m    621\u001b[0m \u001b[43m    \u001b[49m\u001b[43mrequest\u001b[49m\u001b[43m,\u001b[49m\u001b[43m \u001b[49m\u001b[43mauth\u001b[49m\u001b[38;5;241;43m=\u001b[39;49m\u001b[43mauth\u001b[49m\u001b[43m,\u001b[49m\u001b[43m \u001b[49m\u001b[43mtimeout\u001b[49m\u001b[38;5;241;43m=\u001b[39;49m\u001b[43mtimeout\u001b[49m\u001b[43m,\u001b[49m\u001b[43m \u001b[49m\u001b[43mallow_redirects\u001b[49m\u001b[38;5;241;43m=\u001b[39;49m\u001b[43mallow_redirects\u001b[49m\u001b[43m,\u001b[49m\n\u001b[0;32m    622\u001b[0m \u001b[43m\u001b[49m\u001b[43m)\u001b[49m\n\u001b[0;32m    624\u001b[0m \u001b[38;5;28;01mif\u001b[39;00m \u001b[38;5;129;01mnot\u001b[39;00m stream:\n\u001b[0;32m    625\u001b[0m     \u001b[38;5;28;01mtry\u001b[39;00m:\n",
      "File \u001b[1;32mc:\\Users\\xzv22\\.conda\\envs\\mulcam_3_9\\lib\\site-packages\\httpx\\_client.py:647\u001b[0m, in \u001b[0;36mClient.send_handling_redirects\u001b[1;34m(self, request, auth, timeout, allow_redirects, history)\u001b[0m\n\u001b[0;32m    644\u001b[0m \u001b[38;5;28;01mif\u001b[39;00m \u001b[38;5;28mlen\u001b[39m(history) \u001b[38;5;241m>\u001b[39m \u001b[38;5;28mself\u001b[39m\u001b[38;5;241m.\u001b[39mmax_redirects:\n\u001b[0;32m    645\u001b[0m     \u001b[38;5;28;01mraise\u001b[39;00m TooManyRedirects()\n\u001b[1;32m--> 647\u001b[0m response \u001b[38;5;241m=\u001b[39m \u001b[38;5;28;43mself\u001b[39;49m\u001b[38;5;241;43m.\u001b[39;49m\u001b[43msend_handling_auth\u001b[49m\u001b[43m(\u001b[49m\n\u001b[0;32m    648\u001b[0m \u001b[43m    \u001b[49m\u001b[43mrequest\u001b[49m\u001b[43m,\u001b[49m\u001b[43m \u001b[49m\u001b[43mauth\u001b[49m\u001b[38;5;241;43m=\u001b[39;49m\u001b[43mauth\u001b[49m\u001b[43m,\u001b[49m\u001b[43m \u001b[49m\u001b[43mtimeout\u001b[49m\u001b[38;5;241;43m=\u001b[39;49m\u001b[43mtimeout\u001b[49m\u001b[43m,\u001b[49m\u001b[43m \u001b[49m\u001b[43mhistory\u001b[49m\u001b[38;5;241;43m=\u001b[39;49m\u001b[43mhistory\u001b[49m\n\u001b[0;32m    649\u001b[0m \u001b[43m\u001b[49m\u001b[43m)\u001b[49m\n\u001b[0;32m    650\u001b[0m response\u001b[38;5;241m.\u001b[39mhistory \u001b[38;5;241m=\u001b[39m \u001b[38;5;28mlist\u001b[39m(history)\n\u001b[0;32m    652\u001b[0m \u001b[38;5;28;01mif\u001b[39;00m \u001b[38;5;129;01mnot\u001b[39;00m response\u001b[38;5;241m.\u001b[39mis_redirect:\n",
      "File \u001b[1;32mc:\\Users\\xzv22\\.conda\\envs\\mulcam_3_9\\lib\\site-packages\\httpx\\_client.py:684\u001b[0m, in \u001b[0;36mClient.send_handling_auth\u001b[1;34m(self, request, history, auth, timeout)\u001b[0m\n\u001b[0;32m    682\u001b[0m request \u001b[38;5;241m=\u001b[39m \u001b[38;5;28mnext\u001b[39m(auth_flow)\n\u001b[0;32m    683\u001b[0m \u001b[38;5;28;01mwhile\u001b[39;00m \u001b[38;5;28;01mTrue\u001b[39;00m:\n\u001b[1;32m--> 684\u001b[0m     response \u001b[38;5;241m=\u001b[39m \u001b[38;5;28;43mself\u001b[39;49m\u001b[38;5;241;43m.\u001b[39;49m\u001b[43msend_single_request\u001b[49m\u001b[43m(\u001b[49m\u001b[43mrequest\u001b[49m\u001b[43m,\u001b[49m\u001b[43m \u001b[49m\u001b[43mtimeout\u001b[49m\u001b[43m)\u001b[49m\n\u001b[0;32m    685\u001b[0m     \u001b[38;5;28;01mif\u001b[39;00m auth\u001b[38;5;241m.\u001b[39mrequires_response_body:\n\u001b[0;32m    686\u001b[0m         response\u001b[38;5;241m.\u001b[39mread()\n",
      "File \u001b[1;32mc:\\Users\\xzv22\\.conda\\envs\\mulcam_3_9\\lib\\site-packages\\httpx\\_client.py:714\u001b[0m, in \u001b[0;36mClient.send_single_request\u001b[1;34m(self, request, timeout)\u001b[0m\n\u001b[0;32m    705\u001b[0m transport \u001b[38;5;241m=\u001b[39m \u001b[38;5;28mself\u001b[39m\u001b[38;5;241m.\u001b[39mtransport_for_url(request\u001b[38;5;241m.\u001b[39murl)\n\u001b[0;32m    707\u001b[0m \u001b[38;5;28;01mtry\u001b[39;00m:\n\u001b[0;32m    708\u001b[0m     (\n\u001b[0;32m    709\u001b[0m         http_version,\n\u001b[0;32m    710\u001b[0m         status_code,\n\u001b[0;32m    711\u001b[0m         reason_phrase,\n\u001b[0;32m    712\u001b[0m         headers,\n\u001b[0;32m    713\u001b[0m         stream,\n\u001b[1;32m--> 714\u001b[0m     ) \u001b[38;5;241m=\u001b[39m \u001b[43mtransport\u001b[49m\u001b[38;5;241;43m.\u001b[39;49m\u001b[43mrequest\u001b[49m\u001b[43m(\u001b[49m\n\u001b[0;32m    715\u001b[0m \u001b[43m        \u001b[49m\u001b[43mrequest\u001b[49m\u001b[38;5;241;43m.\u001b[39;49m\u001b[43mmethod\u001b[49m\u001b[38;5;241;43m.\u001b[39;49m\u001b[43mencode\u001b[49m\u001b[43m(\u001b[49m\u001b[43m)\u001b[49m\u001b[43m,\u001b[49m\n\u001b[0;32m    716\u001b[0m \u001b[43m        \u001b[49m\u001b[43mrequest\u001b[49m\u001b[38;5;241;43m.\u001b[39;49m\u001b[43murl\u001b[49m\u001b[38;5;241;43m.\u001b[39;49m\u001b[43mraw\u001b[49m\u001b[43m,\u001b[49m\n\u001b[0;32m    717\u001b[0m \u001b[43m        \u001b[49m\u001b[43mheaders\u001b[49m\u001b[38;5;241;43m=\u001b[39;49m\u001b[43mrequest\u001b[49m\u001b[38;5;241;43m.\u001b[39;49m\u001b[43mheaders\u001b[49m\u001b[38;5;241;43m.\u001b[39;49m\u001b[43mraw\u001b[49m\u001b[43m,\u001b[49m\n\u001b[0;32m    718\u001b[0m \u001b[43m        \u001b[49m\u001b[43mstream\u001b[49m\u001b[38;5;241;43m=\u001b[39;49m\u001b[43mrequest\u001b[49m\u001b[38;5;241;43m.\u001b[39;49m\u001b[43mstream\u001b[49m\u001b[43m,\u001b[49m\n\u001b[0;32m    719\u001b[0m \u001b[43m        \u001b[49m\u001b[43mtimeout\u001b[49m\u001b[38;5;241;43m=\u001b[39;49m\u001b[43mtimeout\u001b[49m\u001b[38;5;241;43m.\u001b[39;49m\u001b[43mas_dict\u001b[49m\u001b[43m(\u001b[49m\u001b[43m)\u001b[49m\u001b[43m,\u001b[49m\n\u001b[0;32m    720\u001b[0m \u001b[43m    \u001b[49m\u001b[43m)\u001b[49m\n\u001b[0;32m    721\u001b[0m \u001b[38;5;28;01mexcept\u001b[39;00m HTTPError \u001b[38;5;28;01mas\u001b[39;00m exc:\n\u001b[0;32m    722\u001b[0m     \u001b[38;5;66;03m# Add the original request to any HTTPError unless\u001b[39;00m\n\u001b[0;32m    723\u001b[0m     \u001b[38;5;66;03m# there'a already a request attached in the case of\u001b[39;00m\n\u001b[0;32m    724\u001b[0m     \u001b[38;5;66;03m# a ProxyError.\u001b[39;00m\n\u001b[0;32m    725\u001b[0m     \u001b[38;5;28;01mif\u001b[39;00m exc\u001b[38;5;241m.\u001b[39m_request \u001b[38;5;129;01mis\u001b[39;00m \u001b[38;5;28;01mNone\u001b[39;00m:\n",
      "File \u001b[1;32mc:\\Users\\xzv22\\.conda\\envs\\mulcam_3_9\\lib\\site-packages\\httpcore\\_sync\\connection_pool.py:152\u001b[0m, in \u001b[0;36mSyncConnectionPool.request\u001b[1;34m(self, method, url, headers, stream, timeout)\u001b[0m\n\u001b[0;32m    149\u001b[0m         logger\u001b[38;5;241m.\u001b[39mtrace(\u001b[38;5;124m\"\u001b[39m\u001b[38;5;124mreuse connection=\u001b[39m\u001b[38;5;132;01m%r\u001b[39;00m\u001b[38;5;124m\"\u001b[39m, connection)\n\u001b[0;32m    151\u001b[0m \u001b[38;5;28;01mtry\u001b[39;00m:\n\u001b[1;32m--> 152\u001b[0m     response \u001b[38;5;241m=\u001b[39m \u001b[43mconnection\u001b[49m\u001b[38;5;241;43m.\u001b[39;49m\u001b[43mrequest\u001b[49m\u001b[43m(\u001b[49m\n\u001b[0;32m    153\u001b[0m \u001b[43m        \u001b[49m\u001b[43mmethod\u001b[49m\u001b[43m,\u001b[49m\u001b[43m \u001b[49m\u001b[43murl\u001b[49m\u001b[43m,\u001b[49m\u001b[43m \u001b[49m\u001b[43mheaders\u001b[49m\u001b[38;5;241;43m=\u001b[39;49m\u001b[43mheaders\u001b[49m\u001b[43m,\u001b[49m\u001b[43m \u001b[49m\u001b[43mstream\u001b[49m\u001b[38;5;241;43m=\u001b[39;49m\u001b[43mstream\u001b[49m\u001b[43m,\u001b[49m\u001b[43m \u001b[49m\u001b[43mtimeout\u001b[49m\u001b[38;5;241;43m=\u001b[39;49m\u001b[43mtimeout\u001b[49m\n\u001b[0;32m    154\u001b[0m \u001b[43m    \u001b[49m\u001b[43m)\u001b[49m\n\u001b[0;32m    155\u001b[0m \u001b[38;5;28;01mexcept\u001b[39;00m NewConnectionRequired:\n\u001b[0;32m    156\u001b[0m     connection \u001b[38;5;241m=\u001b[39m \u001b[38;5;28;01mNone\u001b[39;00m\n",
      "File \u001b[1;32mc:\\Users\\xzv22\\.conda\\envs\\mulcam_3_9\\lib\\site-packages\\httpcore\\_sync\\connection.py:78\u001b[0m, in \u001b[0;36mSyncHTTPConnection.request\u001b[1;34m(self, method, url, headers, stream, timeout)\u001b[0m\n\u001b[0;32m     74\u001b[0m \u001b[38;5;28;01massert\u001b[39;00m \u001b[38;5;28mself\u001b[39m\u001b[38;5;241m.\u001b[39mconnection \u001b[38;5;129;01mis\u001b[39;00m \u001b[38;5;129;01mnot\u001b[39;00m \u001b[38;5;28;01mNone\u001b[39;00m\n\u001b[0;32m     75\u001b[0m logger\u001b[38;5;241m.\u001b[39mtrace(\n\u001b[0;32m     76\u001b[0m     \u001b[38;5;124m\"\u001b[39m\u001b[38;5;124mconnection.request method=\u001b[39m\u001b[38;5;132;01m%r\u001b[39;00m\u001b[38;5;124m url=\u001b[39m\u001b[38;5;132;01m%r\u001b[39;00m\u001b[38;5;124m headers=\u001b[39m\u001b[38;5;132;01m%r\u001b[39;00m\u001b[38;5;124m\"\u001b[39m, method, url, headers\n\u001b[0;32m     77\u001b[0m )\n\u001b[1;32m---> 78\u001b[0m \u001b[38;5;28;01mreturn\u001b[39;00m \u001b[38;5;28;43mself\u001b[39;49m\u001b[38;5;241;43m.\u001b[39;49m\u001b[43mconnection\u001b[49m\u001b[38;5;241;43m.\u001b[39;49m\u001b[43mrequest\u001b[49m\u001b[43m(\u001b[49m\u001b[43mmethod\u001b[49m\u001b[43m,\u001b[49m\u001b[43m \u001b[49m\u001b[43murl\u001b[49m\u001b[43m,\u001b[49m\u001b[43m \u001b[49m\u001b[43mheaders\u001b[49m\u001b[43m,\u001b[49m\u001b[43m \u001b[49m\u001b[43mstream\u001b[49m\u001b[43m,\u001b[49m\u001b[43m \u001b[49m\u001b[43mtimeout\u001b[49m\u001b[43m)\u001b[49m\n",
      "File \u001b[1;32mc:\\Users\\xzv22\\.conda\\envs\\mulcam_3_9\\lib\\site-packages\\httpcore\\_sync\\http2.py:118\u001b[0m, in \u001b[0;36mSyncHTTP2Connection.request\u001b[1;34m(self, method, url, headers, stream, timeout)\u001b[0m\n\u001b[0;32m    116\u001b[0m     \u001b[38;5;28mself\u001b[39m\u001b[38;5;241m.\u001b[39mstreams[stream_id] \u001b[38;5;241m=\u001b[39m h2_stream\n\u001b[0;32m    117\u001b[0m     \u001b[38;5;28mself\u001b[39m\u001b[38;5;241m.\u001b[39mevents[stream_id] \u001b[38;5;241m=\u001b[39m []\n\u001b[1;32m--> 118\u001b[0m     \u001b[38;5;28;01mreturn\u001b[39;00m \u001b[43mh2_stream\u001b[49m\u001b[38;5;241;43m.\u001b[39;49m\u001b[43mrequest\u001b[49m\u001b[43m(\u001b[49m\u001b[43mmethod\u001b[49m\u001b[43m,\u001b[49m\u001b[43m \u001b[49m\u001b[43murl\u001b[49m\u001b[43m,\u001b[49m\u001b[43m \u001b[49m\u001b[43mheaders\u001b[49m\u001b[43m,\u001b[49m\u001b[43m \u001b[49m\u001b[43mstream\u001b[49m\u001b[43m,\u001b[49m\u001b[43m \u001b[49m\u001b[43mtimeout\u001b[49m\u001b[43m)\u001b[49m\n\u001b[0;32m    119\u001b[0m \u001b[38;5;28;01mexcept\u001b[39;00m \u001b[38;5;167;01mException\u001b[39;00m:\n\u001b[0;32m    120\u001b[0m     \u001b[38;5;28mself\u001b[39m\u001b[38;5;241m.\u001b[39mmax_streams_semaphore\u001b[38;5;241m.\u001b[39mrelease()\n",
      "File \u001b[1;32mc:\\Users\\xzv22\\.conda\\envs\\mulcam_3_9\\lib\\site-packages\\httpcore\\_sync\\http2.py:292\u001b[0m, in \u001b[0;36mSyncHTTP2Stream.request\u001b[1;34m(self, method, url, headers, stream, timeout)\u001b[0m\n\u001b[0;32m    289\u001b[0m     \u001b[38;5;28mself\u001b[39m\u001b[38;5;241m.\u001b[39msend_body(stream, timeout)\n\u001b[0;32m    291\u001b[0m \u001b[38;5;66;03m# Receive the response.\u001b[39;00m\n\u001b[1;32m--> 292\u001b[0m status_code, headers \u001b[38;5;241m=\u001b[39m \u001b[38;5;28;43mself\u001b[39;49m\u001b[38;5;241;43m.\u001b[39;49m\u001b[43mreceive_response\u001b[49m\u001b[43m(\u001b[49m\u001b[43mtimeout\u001b[49m\u001b[43m)\u001b[49m\n\u001b[0;32m    293\u001b[0m reason_phrase \u001b[38;5;241m=\u001b[39m get_reason_phrase(status_code)\n\u001b[0;32m    294\u001b[0m stream \u001b[38;5;241m=\u001b[39m SyncByteStream(\n\u001b[0;32m    295\u001b[0m     iterator\u001b[38;5;241m=\u001b[39m\u001b[38;5;28mself\u001b[39m\u001b[38;5;241m.\u001b[39mbody_iter(timeout), close_func\u001b[38;5;241m=\u001b[39m\u001b[38;5;28mself\u001b[39m\u001b[38;5;241m.\u001b[39m_response_closed\n\u001b[0;32m    296\u001b[0m )\n",
      "File \u001b[1;32mc:\\Users\\xzv22\\.conda\\envs\\mulcam_3_9\\lib\\site-packages\\httpcore\\_sync\\http2.py:344\u001b[0m, in \u001b[0;36mSyncHTTP2Stream.receive_response\u001b[1;34m(self, timeout)\u001b[0m\n\u001b[0;32m    340\u001b[0m \u001b[38;5;250m\u001b[39m\u001b[38;5;124;03m\"\"\"\u001b[39;00m\n\u001b[0;32m    341\u001b[0m \u001b[38;5;124;03mRead the response status and headers from the network.\u001b[39;00m\n\u001b[0;32m    342\u001b[0m \u001b[38;5;124;03m\"\"\"\u001b[39;00m\n\u001b[0;32m    343\u001b[0m \u001b[38;5;28;01mwhile\u001b[39;00m \u001b[38;5;28;01mTrue\u001b[39;00m:\n\u001b[1;32m--> 344\u001b[0m     event \u001b[38;5;241m=\u001b[39m \u001b[38;5;28;43mself\u001b[39;49m\u001b[38;5;241;43m.\u001b[39;49m\u001b[43mconnection\u001b[49m\u001b[38;5;241;43m.\u001b[39;49m\u001b[43mwait_for_event\u001b[49m\u001b[43m(\u001b[49m\u001b[38;5;28;43mself\u001b[39;49m\u001b[38;5;241;43m.\u001b[39;49m\u001b[43mstream_id\u001b[49m\u001b[43m,\u001b[49m\u001b[43m \u001b[49m\u001b[43mtimeout\u001b[49m\u001b[43m)\u001b[49m\n\u001b[0;32m    345\u001b[0m     \u001b[38;5;28;01mif\u001b[39;00m \u001b[38;5;28misinstance\u001b[39m(event, h2\u001b[38;5;241m.\u001b[39mevents\u001b[38;5;241m.\u001b[39mResponseReceived):\n\u001b[0;32m    346\u001b[0m         \u001b[38;5;28;01mbreak\u001b[39;00m\n",
      "File \u001b[1;32mc:\\Users\\xzv22\\.conda\\envs\\mulcam_3_9\\lib\\site-packages\\httpcore\\_sync\\http2.py:197\u001b[0m, in \u001b[0;36mSyncHTTP2Connection.wait_for_event\u001b[1;34m(self, stream_id, timeout)\u001b[0m\n\u001b[0;32m    195\u001b[0m \u001b[38;5;28;01mwith\u001b[39;00m \u001b[38;5;28mself\u001b[39m\u001b[38;5;241m.\u001b[39mread_lock:\n\u001b[0;32m    196\u001b[0m     \u001b[38;5;28;01mwhile\u001b[39;00m \u001b[38;5;129;01mnot\u001b[39;00m \u001b[38;5;28mself\u001b[39m\u001b[38;5;241m.\u001b[39mevents[stream_id]:\n\u001b[1;32m--> 197\u001b[0m         \u001b[38;5;28;43mself\u001b[39;49m\u001b[38;5;241;43m.\u001b[39;49m\u001b[43mreceive_events\u001b[49m\u001b[43m(\u001b[49m\u001b[43mtimeout\u001b[49m\u001b[43m)\u001b[49m\n\u001b[0;32m    198\u001b[0m \u001b[38;5;28;01mreturn\u001b[39;00m \u001b[38;5;28mself\u001b[39m\u001b[38;5;241m.\u001b[39mevents[stream_id]\u001b[38;5;241m.\u001b[39mpop(\u001b[38;5;241m0\u001b[39m)\n",
      "File \u001b[1;32mc:\\Users\\xzv22\\.conda\\envs\\mulcam_3_9\\lib\\site-packages\\httpcore\\_sync\\http2.py:204\u001b[0m, in \u001b[0;36mSyncHTTP2Connection.receive_events\u001b[1;34m(self, timeout)\u001b[0m\n\u001b[0;32m    200\u001b[0m \u001b[38;5;28;01mdef\u001b[39;00m \u001b[38;5;21mreceive_events\u001b[39m(\u001b[38;5;28mself\u001b[39m, timeout: TimeoutDict) \u001b[38;5;241m-\u001b[39m\u001b[38;5;241m>\u001b[39m \u001b[38;5;28;01mNone\u001b[39;00m:\n\u001b[0;32m    201\u001b[0m \u001b[38;5;250m    \u001b[39m\u001b[38;5;124;03m\"\"\"\u001b[39;00m\n\u001b[0;32m    202\u001b[0m \u001b[38;5;124;03m    Read some data from the network, and update the H2 state.\u001b[39;00m\n\u001b[0;32m    203\u001b[0m \u001b[38;5;124;03m    \"\"\"\u001b[39;00m\n\u001b[1;32m--> 204\u001b[0m     data \u001b[38;5;241m=\u001b[39m \u001b[38;5;28;43mself\u001b[39;49m\u001b[38;5;241;43m.\u001b[39;49m\u001b[43msocket\u001b[49m\u001b[38;5;241;43m.\u001b[39;49m\u001b[43mread\u001b[49m\u001b[43m(\u001b[49m\u001b[38;5;28;43mself\u001b[39;49m\u001b[38;5;241;43m.\u001b[39;49m\u001b[43mREAD_NUM_BYTES\u001b[49m\u001b[43m,\u001b[49m\u001b[43m \u001b[49m\u001b[43mtimeout\u001b[49m\u001b[43m)\u001b[49m\n\u001b[0;32m    205\u001b[0m     events \u001b[38;5;241m=\u001b[39m \u001b[38;5;28mself\u001b[39m\u001b[38;5;241m.\u001b[39mh2_state\u001b[38;5;241m.\u001b[39mreceive_data(data)\n\u001b[0;32m    206\u001b[0m     \u001b[38;5;28;01mfor\u001b[39;00m event \u001b[38;5;129;01min\u001b[39;00m events:\n",
      "File \u001b[1;32mc:\\Users\\xzv22\\.conda\\envs\\mulcam_3_9\\lib\\site-packages\\httpcore\\_backends\\sync.py:62\u001b[0m, in \u001b[0;36mSyncSocketStream.read\u001b[1;34m(self, n, timeout)\u001b[0m\n\u001b[0;32m     60\u001b[0m \u001b[38;5;28;01mwith\u001b[39;00m map_exceptions(exc_map):\n\u001b[0;32m     61\u001b[0m     \u001b[38;5;28mself\u001b[39m\u001b[38;5;241m.\u001b[39msock\u001b[38;5;241m.\u001b[39msettimeout(read_timeout)\n\u001b[1;32m---> 62\u001b[0m     \u001b[38;5;28;01mreturn\u001b[39;00m \u001b[38;5;28mself\u001b[39m\u001b[38;5;241m.\u001b[39msock\u001b[38;5;241m.\u001b[39mrecv(n)\n",
      "File \u001b[1;32mc:\\Users\\xzv22\\.conda\\envs\\mulcam_3_9\\lib\\contextlib.py:137\u001b[0m, in \u001b[0;36m_GeneratorContextManager.__exit__\u001b[1;34m(self, typ, value, traceback)\u001b[0m\n\u001b[0;32m    135\u001b[0m     value \u001b[38;5;241m=\u001b[39m typ()\n\u001b[0;32m    136\u001b[0m \u001b[38;5;28;01mtry\u001b[39;00m:\n\u001b[1;32m--> 137\u001b[0m     \u001b[38;5;28;43mself\u001b[39;49m\u001b[38;5;241;43m.\u001b[39;49m\u001b[43mgen\u001b[49m\u001b[38;5;241;43m.\u001b[39;49m\u001b[43mthrow\u001b[49m\u001b[43m(\u001b[49m\u001b[43mtyp\u001b[49m\u001b[43m,\u001b[49m\u001b[43m \u001b[49m\u001b[43mvalue\u001b[49m\u001b[43m,\u001b[49m\u001b[43m \u001b[49m\u001b[43mtraceback\u001b[49m\u001b[43m)\u001b[49m\n\u001b[0;32m    138\u001b[0m \u001b[38;5;28;01mexcept\u001b[39;00m \u001b[38;5;167;01mStopIteration\u001b[39;00m \u001b[38;5;28;01mas\u001b[39;00m exc:\n\u001b[0;32m    139\u001b[0m     \u001b[38;5;66;03m# Suppress StopIteration *unless* it's the same exception that\u001b[39;00m\n\u001b[0;32m    140\u001b[0m     \u001b[38;5;66;03m# was passed to throw().  This prevents a StopIteration\u001b[39;00m\n\u001b[0;32m    141\u001b[0m     \u001b[38;5;66;03m# raised inside the \"with\" statement from being suppressed.\u001b[39;00m\n\u001b[0;32m    142\u001b[0m     \u001b[38;5;28;01mreturn\u001b[39;00m exc \u001b[38;5;129;01mis\u001b[39;00m \u001b[38;5;129;01mnot\u001b[39;00m value\n",
      "File \u001b[1;32mc:\\Users\\xzv22\\.conda\\envs\\mulcam_3_9\\lib\\site-packages\\httpcore\\_exceptions.py:12\u001b[0m, in \u001b[0;36mmap_exceptions\u001b[1;34m(map)\u001b[0m\n\u001b[0;32m     10\u001b[0m \u001b[38;5;28;01mfor\u001b[39;00m from_exc, to_exc \u001b[38;5;129;01min\u001b[39;00m \u001b[38;5;28mmap\u001b[39m\u001b[38;5;241m.\u001b[39mitems():\n\u001b[0;32m     11\u001b[0m     \u001b[38;5;28;01mif\u001b[39;00m \u001b[38;5;28misinstance\u001b[39m(exc, from_exc):\n\u001b[1;32m---> 12\u001b[0m         \u001b[38;5;28;01mraise\u001b[39;00m to_exc(exc) \u001b[38;5;28;01mfrom\u001b[39;00m \u001b[38;5;28;01mNone\u001b[39;00m\n\u001b[0;32m     13\u001b[0m \u001b[38;5;28;01mraise\u001b[39;00m\n",
      "\u001b[1;31mReadTimeout\u001b[0m: The read operation timed out"
     ]
    }
   ],
   "source": [
    "answer = []\n",
    "\n",
    "for i in range(len(all_df)):\n",
    "    if pd.isna(all_df.iloc[i]['catch']):\n",
    "        text = all_df.iloc[i]['description']\n",
    "    else:\n",
    "        text = f\"{all_df.iloc[i]['catch']}. {all_df.iloc[i]['description']}\"\n",
    "    text = translator.translate(text,src='ko',dest='en').text\n",
    "    \n",
    "    answer.append(text)"
   ]
  },
  {
   "cell_type": "code",
   "execution_count": 68,
   "metadata": {},
   "outputs": [
    {
     "data": {
      "text/plain": [
       "['Park in the city center.Myeongji -dong Neighborhood Park is a city park in Myeongji Ocean City.There are parking lots, soccer fields, grass plazas, and sports equipment, and there is also an infant forest experience center for children to play with their families.At the Infant Forest Experience Center, there are several experience facilities where children can play natural.In summer, you can also run a facility where you can enjoy water.There is a library of Gangseo Miracle and the parking lot is conveniently available.',\n",
       " \"We commemorate the Beijing Olympic gold medal myth.Chilam Port is a famous port with a breakwater, and it is famous when the baseball lighthouse, which embodies baseball bats, gloves, and baseball balls.If you are a baseball fan, it is a unique lighthouse that commemorates the created gold medal myth at the 2008 Beijing Olympics.There is also a memorial to Lotte Giants' cast iron pitcher Choi Dong -won.Breakwater and exploration roads to baseball are well maintained.For reference, there is a yellow lighthouse and a red lighthouse near the white baseball lighthouse, and the red lighthouse is called the seagull lighthouse and the yellow lighthouse is called the eel.\",\n",
       " 'It is a fishing port located in Hak -ri, Ilgwang -myeon, Gijang -gun, Busan.After the famous anti -anchovy port and the chilam port, which is famous for the circuit, there is a breakwater made to protect the fishing boats because it is a large term in Gijang -gun.Live fish are distributed and sold, and you can walk along the beaches connected to Hakri Village, Fishing Village, and the Sunlight Beach in the north.It is also the first place in the country that produced seedlings and succeeded in food for the first time in the country.Large and small breakwaters and red and white lighthouses are a muzzle that creates the landscape of fishing villages.',\n",
       " 'A beautiful park with green freshness between the blue sky and the emerald sea.Amir Park is a park in the Dongsam Innovation City, which was built by the dredged soil of the Busan Port North Port Development Course in late 1990.Born.Located next to the National Maritime Museum of Yeongdo -gu, Amir Park is a place where you can enjoy the open sea in a large lawn, and in the summer, you can walk on a brilliant hydrangea road.This is a healing space.',\n",
       " 'Busan Bokcheon -dong Tombs can meet the Gaya era.These are the tombs of Gaya on the hills of Bokcheon -dong, Busan.More than 40 tombs have been confirmed by several excavation investigations, but most of the tombs still remain under the ground.The form of the tomb is to dig the ground to make a large room, make a wooden tube (togwang neck tomb), a square stone in the ground, and cover the ceiling, and cover the ceiling.There are various types of tombs, including.It is also called the Hak -soong Tombs after the original name of the hill.Since the first 10 universities were discovered by Dong -A University in 1969-1972, Busan University discovered three tombs in the east side of the hills in 1974. Since then, Busan University Museum and Busan Museum are 6th by the Busan University Museum and Busan City Museum in 1980-1994.More than 100 tombs were excavated.These tombs have many large tombs that have not been robbed, and more than 2,000 artifacts have been excavated.The earthenware, including the baked dish (high), Mokhang Ari (Jang Kyung -ho), and soils, are characteristic earthenware in the 4th and 5th centuries of the Nakdong River.Steel armor and helmets have also been excavated.In particular, the single armor from the No. 4 tomb is the first armor found in Korea.The rule excavated in No. 11 was found in a state of fully decoration, which is the first time in Korea.The horse dances found in the tomb of No. 10 were first discovered for a completely equipped practice.These armor and thresholds are like the murals of Goguryeo tombs.In the Bokcheon -dong tomb, it discovers a new tomb style and provides an important clue to the change and flow of the tomb.Initially, the best parts of the body were buried [] and the artifacts with artifacts [副 槨] were used for foods that were used.This is the process of being abolished as a single pit stone and then replaced by a frontal stone room.A considerable amount of earthenware is the standard for Silla and Gaya earthenware.In addition, armor and helmet were excavated.In addition to armor and helmets, many iron armor weapons such as horse armor [甲] and horse head horses have been excavated, and they have been battled using horses at the time.On the floor of the store, there are one or three rows of lines.There is a record of using iron instead of money in the transition of the Three Kingdoms, and it is likely that it was used as a currency at the time, considering that the dump acts as a material for making other steel supplies.',\n",
       " 'From the forest road to the night view.There are two tunnels under the Mandeok Pass and placed the subway, so there is no need to climb.But nowadays, Mandeok Pass is resurrected again.Thanks to the wonderful night view and every corner of the hidden sights.Stop on a steep cliff and float in the air.Standing on the deck and bending down the mountain, Busan is at a glance.I can see Centum City far away, and the blue sea is over.Dongnae -gu to the left, Yeonje -gu and Busanjin -gu to the right are noticed.In the distance, Jangsan, Baesan and Hwangnyeongsan are also visible.I feel rewarded with sweating and walking for about an hour.',\n",
       " \"Folk arts education grounds.The Gudeok Folk Art Museum is located in the park instead of Seodaesin -dong 3 -ga Seo -gu.It was built in Busan to use it as a mountain education center for folk arts for the inheritance of intangible cultural properties and the inheritance of intangible cultural properties and the inheritance of the ancestors.The first basement floor is used by the Gudeok Folk Arts Conservation Association as a full -fledged place, and in 173 pyeong of the play yard, there is a terraced grandstand that can accommodate 1,500 people.Intangible cultural assets are held in Busan Nongak (Busan City Tangi Cultural Property) and Gudeok Manga Sound (Busan City Tangi Cultural Property).The company continues to work on the training of Busan Nongak as well as the development of new folk culture by holding a regular presentation and Busan Folk Art Contest.In the case of Busan Nongak, Busan Nongak has three schools, including Busan Sea Accident School, Busan Information Design High School, and Dongho Information Girls' High School, as well as a designated school..\",\n",
       " \"The place where the spirit of the Imjin War was enshrined.Chungyeolsa Temple is a place where Dongnae -gu, Song Sang -hyun, and Busan Jinjeoma, which were innocent during the Imjin War, were enshrined in Busan.On June 26, 1972, it was designated as a tangible cultural property of Busan Metropolitan City.In 1624 (Artificial 2), the company's name was made by the Cheongyeolsa Temple, and the name was renamed to Chungyeolsa Temple.In 1652 (Hyojong 3) Dongnae Advisor Yoon Mun -ger, in order to teach Song Sang -hyun's school and loyalty to the future school, he established a shrine and built an auditorium, East, and a library.In the case, he built a separate history at the old Songgongsa Temple, and he had plaque of Dong -rae, Yangsan -gun, Cho Young -gyu, and Hyang -ri Songbaek, who were killed together when Song Sang -hyun and Jung -hae were innocent.Currently, Chungyeolsa Temple has ruins such as Chungyeolsa Temple, Yulgakgak, Memorial Hall, Purification Monument, Song Sang -Hyeon Gong RB, and Chungyeol Pagoda.Even now, they will be sacrificed on May 25th, and the lunar calendar will be held at Chungyeolsa Erakseowon on February and August.\",\n",
       " \"The haven of UN forces who participated in the Korean War.* The UN Army's Sabbath, a participant in the Korean War, is the world's only UN Memorial Park, the world's only UN Army Cemetery, where the UN soldiers who have given their lives for the cause of world peace and freedom are asleep.The cemetery was created by the UN Command for the following year of the Korean War, and the UN Army, which was built by the UN Command for the dead, and the cemetery was completed in April of the same year, as the cemetery was completed in April of the same year.The remains of all soldiers began to be buried.In November 1955, the Republic of Korea's National Assembly decided to donate the land to the United Nations and designate the cemetery as a holy place to repay the sacrifice of the UN forces.The United Nations, which received the National Assembly's resolutions from the Korean government, adopted the No. 977 (x) resolution at the United Nations General Assembly to permanently manage the cemetery.In order to protect the freedom and peace of the Republic of Korea during the Korean War, the souls of the 16 countries dispatched to the army and the souls of the UN forces warriors who were killed by the warriors from the five countries were asleep.The dawn of the dawn was buried, but afterwards, the family or the government's request for the family and the government were now buried.The area of the commemorative cemetery is 14.39㏊ (about 45,000 pyeong), and the 12m high UN Army Architecture Pagoda, which was built by the Korean government in 1978, is engraved in Korean and English on the copper plate.In the Commonwealth Arms, which the British government was built as the subject of the British government, they commemorate their noble sacrifice that did not find the body among the warriors of the Commonwealth State.In addition, monuments of Turki (2), Greece (1), and Australia (1) are installed.There are a total of 21 countries, including 16 Combat Support Bureau and 5 Medical Support Bureau.1) Combat Support Bureau (16 countries)Ethiopia, Philippines, Belgium, Luxembourg 2) Medical Support Bureau (5 countries) -Norway, Denmark, India, Italy, Sweden\",\n",
       " \"Dr. Jang Chun, a representative breeder of Korea.It is a memorial that was established at 850-47, Dongnae-gu, Dongnae-gu, Busan, where Dr. Woo Jang-chun, a world-renowned breeder who identified the basic principle of watermelon, was built at 850-47, Dongnae-gu, Dongnae-gu, Busan, where Dr..It is easy to see the process of changing the breeding scholarship in Korea.The second floor was composed of an exhibition room, and in the outdoor yard, the landscaping facility was organized with a well -trimmed landscaping facility, where Dr. Jang Chun's death ceremony is held every year.\",\n",
       " \"Busan's attractions that have a word of mouth to anglers nationwide.Hari Port, located in Yeongdo, the largest island in Busan, has Hari dock and Hari breakwater.We are conducting environmental improvement projects.If you take a boat from Hari dock, four maritime fishing grounds with rest facilities and toilets operated by the Suhyup -dong Sam Fishing Village, Busan, are operated for a fee, and 100 people can be used at once.You should be familiar with and use the departure time and withdrawal time.Various fish species such as Benedom Dome, Black Dome, Jumchi, and Surprise are caught.\",\n",
       " \"A space where you can meet various cultures and art genres.The Kims Art Field Museum of Art is a non -profit private art museum (Busan Metropolitan City Registration Museum) opened on April 1, 2006, and is conducting large and small exhibitions and various cultural arts programs.Kim''s Art Field's Kim is the most surname in Korea and the most familiar to the world, and it means both the general public.It means that we are aiming for a multi -cultural and art space through the genre.There is also a community service program to provide various cultural experience opportunities for cultural aliens.\",\n",
       " \"A harmonious beach with a dense pine forest and a blue sea.Since ancient times, I have been with the Wolbeach Beach.It is said that it was named after two beautiful pine forests of the residents and two of the silver blue plants shining in the moonlight.In Chaseonga, 'Dohwasu runs (鱖 花 水) run (鱖 花 魚 魚;;;;; 獵 獵 獵), and the moon is on the garden.I praised the natural landscape here.Thus, the landscape of this place is regarded as one of Chaseong Palgyeong, which is called Wolho Chuwol (月 湖 月 月), which is wide on the coast.There are many old pings around the white sand beach, forming a blue forest like a folding screen.As a result, the old people also played fishing in the clear water of Imrancheon, and when the moon came to the night at night, he enjoyed playing with a sculpture with his beloved nim.Today, I refined it as a beautiful beach.The beach is known as a pleasant rest for local residents and foreigners in the summer.In addition to the beach, there are many natural sashimi restaurants in the vicinity, so you can enjoy the beauty and taste of nature even if you visit anytime.It is a place to enjoy together.It is a place where you can enjoy the style of train trips by using the Donghae Nambu Line (Wolnae Station) in Busan and to rest with your family or lovers.\",\n",
       " \"A place where families can have various cultural life together.The Sogu Du -Bang Park is located in Yongsu -ri and Banggok -ri, Jeonggwan -eup, Gijang -gun.The name of the so -headed room is named after Kijang -gun Jeonggwan -eup and Cheolma -myeon's terrain is like the shape of a pot lid.The Sogu Bang Park is a park located in the new city of Art, and a walkway is built with a high mountain.Children's playgrounds, outdoor stages, wildflower parks, soccer fields, tennis courts, and badminton courses.There is also a Huangsun -gil where you can walk barefoot on the Sogu Bang Park promenade, and it is also good for walking barefoot.\",\n",
       " 'A feeling that started in 1960.In the current market where Janglim Market is located, the seats that sell vegetables, fruits, and fish, which have been produced nearby since the 1960s, began to occur naturally.In 1990, when the Sinpyeong and Janglim General Industrial Complex was established in Sinpyeong -dong and Janglim -dong, Saha -gu, Busan, the market became more active as many moved.In the late 1990s, the market began to stagnate, but in 2007, the company completed the internal facility improvement project in the 2000s, including the installation of joint warehouse and roof replacement project.',\n",
       " \"Educational and enjoyable time with children.Gupo Children's Transportation Park is an experience facility where children can learn the right traffic culture through various activities.The indoor experience center provides training to prevent safety accidents through animation and video materials as well as theoretical information such as the developmental company of transportation.The outdoor experience training center connected to the walkway is created like a real road, allowing children to learn traffic knowledge while experiencing various traffic situations and driving Minicar directly.It operates free of charge, so the family can feel free to visit and have an educational and enjoyable time with children.\",\n",
       " 'It is an ecological park near the Great Gate where the Seomun River begins.The grassy yard and river forests are well combined with nature, so they are loved as a hidden tent spot.In particular, it is perfect for spending time with children because you can enjoy the open camping or light picnics while watching the Nakdong River in the open nature.There is a ground golf course in the center of the park, and tracks and fitness centers are built around it, so it is good for nearby residents to visit and enjoy the exercise.The toilet is also well established, so there is no inconvenience to stay for a long time.It is suitable for those who want to rest in a leisurely place during the drive, and recently, it is also interested in those who enjoy tea.',\n",
       " 'Military facility in the Japanese colonial period with the painful history of the nation.The outer gun is located at the southern end of Gadeok -do, Gangseo -gu, Busan.In February 1904, the Japanese army, which caused the Russo -Japanese War, set up an outgoing gun as a military base for securing a military base in the Korean Strait, forcing the private house 64.After that, the Japanese military dispatched a third temporary congestion group to build a naval base here, completed the construction, and placed the second squadron of the Jinhae Bay Fortress Battalion.It became a military base in preparation for the Battle with the Russian fleet, and there are many Japanese buildings that are supposed to be military facilities such as insolvency, offices, offices, barracks, and warehouses, and are still used for residents of residents..',\n",
       " 'Korean Christian History Exhibition.The Korean Christian Mission Museum exhibits the gospel activities and history of early missionaries.Since its opening in 2009, it has been developing into a space where you can deeply understand the growth process of Korean Christianity.There is a permanent exhibition room, a special exhibition room where you can see Christian materials such as magazines and photographs, a magazine and a photo of the Korean church, and a folk room where you can see and experience modern and contemporary folklore.Through the exhibition, we look back on the old image of Korean Christianity and introduce the influence of Christianity on the history of modern dawn.In addition, the Bible and hymns produced by countries around the world are displayed to help you understand Christianity.',\n",
       " 'Local adhesive markets that supply agricultural, water and livestock products such as vegetables, fruits and fish.Unlike the natural traditional market, the interlocking market was opened as a real estate developer built a market building and sold it.Since its opening in 1978, the Yeonjong Market has grown into a local closed market that supplies agricultural, water and livestock products such as vegetables, fruits, and fish to local residents through the 1970s and 1980s.The area where the mayor is located in the market was formed early, and there was a high demand for the market, making it a market for local residents.The number of stores is all about 90 small markets.',\n",
       " 'Photographic spots in the millet.The Park Tae -jun Memorial Hall, which Busan City Gijang -gun promoted the construction project since 2011 and officially opened on December 14, 2021, is a complex cultural space of the regional education and regional education in honor of Chairman Park Tae -joon, who has left a great mark in Korean modern and contemporary history.It was built to be used.',\n",
       " 'A beautiful beach with a silver white sand beach and a wide sea.Follow the moon route and walk through Haewoljeong and the cherry blossom complex.At the Songjeong Beach, many events are held every year, including Daeboreum Seaweed Festival, Songjeong Sea Festival, and Songjeong Jukdo Cultural Festival.Also, in Songjeongcheon, which is the boundary with the millet, the iron white road is flying and winter.On the other hand, Jukdo, located at the entrance of the beach, has a dense pine forest and a relaxation space, and a prayer system is opened every year, adding to the eagle -shaped pine -shaped pine -shaped pavilion.The sashimi restaurant handling natural sashimi along the coast is lined up, and the flounder at the end of the coast has a restaurant culture distance, so you can taste another delicacy.Songjeong Beach is popular day by day as a family resort for families and children to be bathed with soft sand, gentle slopes and shallow water.',\n",
       " 'Beautiful night view in the city.The view from the Uam -dong urban forest is very exotic in the Rio de Janeiro, Brazil.In addition, the night view from the urban forest is visible to the Yeongdo Sea and the North Port Bridge, and if you take a night view in the background of the full moon installation, you can take a beautiful silhouette picture, and Busan, which is taken with the moon, is very attractive.',\n",
       " 'Various and delicious jokbal alley formed in the 80s.Busan, which has long been responsible for the table of dock workers, is a place where nutritious pork foods are more nutritious than other cities.There are many pork foods.Among them, the food that has captured the taste of Busan citizens for more than 40 years is jokbal, and in Bupyeong -dong, you can meet jokbal alleys with pork jok feet signboards.The jokbal restaurant, which began in a small shop, has been formed and operated.All day long, they are cooked in a quiet fire, and they are given jokbals that have been flavored with their unique secrets, and recently, cold pork feet aimed at women and young people are becoming popular.It is served with pork jok feet with vegetables such as cucumbers, onions, jellyfish, and garlic mustard sauce.',\n",
       " \"Dadaepo Beach, which features white and soft sand with long weathering.The Nakdong River and the South Coast meet to create a high -quality sand field, sunrise and sunset view.Daepo Beach is a pleasant place where you can enjoy the ecstasy of nature.In addition, the Dadaepo Beach is shallow depth and the water temperature is not tied up for children to play.Recently, people who enjoy marine sports such as paddle boards and kite boarding are full of lively places.After the beach park and ecological trails were created at the Dadaepo Beach, many people visited this place.The beach park begins with a large plaza at the entrance of the beach, and the world's largest dream falls fountain.The fountain of the dream of the dream creates a spectacular view with the fountains of colorful lighting and music.A gorgeous fountain show, which takes place regularly from the end of April to October, is waiting for the night traveler.\",\n",
       " \"A museum where you can see the old appearance of the fishing village.Opened on February 23, 2007, the Busan Fish Village Folk Museum is an exhibition of the fishing village culture travel from the river to the sea.It is composed of Nakdong High Fish Village Folk Room and Busan Fish Village Folk Room, and the life of ancestors who have continued the Nakdong River, the milk line of Busan, and the fishing villages of Busan fishing villages, traditional fishing laws, cultural ruins, and fishing villages.there is.On the first floor of the exhibition hall, it operates a fishing village experience room that allows children to understand and explore the ecology and fishing village culture hidden in the background of Busan's virtual fishing village.\",\n",
       " \"Hwangnyeongsan Observation Shelter.Hwangnyeongsan Mountain (荒 嶺 山) wraps up the city of Busan, and the mountain range, which has been stretched out, gives a green lush forest as a gift.It is a place that provides forests, winds and sky to the hikers who like to walk forest roads, and provides a fascinating world of light for tourists who enjoy the night view.In addition, it is a typical urban mountain in Busan, which is the boundary between Busanjin -gu, Nam -gu, and Suyeong -gu.The mountains are not so wide that they can rise in 2-3 hours.The east side, which has been in the spotlight as an early hiking area of nearby residents, has been in the spotlight as a date course of the Abeks, and West is facing Busanjin -gu.At the foot of the northwest mountain, Jeonpo -dong is located in the center.At the foot of this mountain, Busan citizens' resting place and youth training center are opened.Hwangnyeongsan and Geumryeonsan can be climbed from Daeyeon -dong, Mangi Yeonjeong Jeonpo.The course selection can be decided as a convenient place considering the transportation.\",\n",
       " 'Dadae Pohang is the port of the most west in Busan.It is a small and small port with many small and medium fishing boats without large fishing boats, not like a trade port like Busan Port.There is a plank that auctions the seafood from the sea, and the fish market is also together, so you can buy fresh fish at a reasonable price.Since there are a lot of fishing boats, large processing plants and frozen plants are located around, and there are many sashimi centers, so you can see and taste fresh seafood every season.Along with the Dadae Pohang and the Dadaepo Beach, it is famous for sunrise and sunset, so you can easily see people coming to take pictures.It is especially known as a sunrise spot, and when the sunrise sunset, the wooden dock is built on one side of the port, and the picturesque landscape is produced.If you go up the Mall Wondae Observatory and look at the Dadae Pohang, you can look down at Dadae Pohang, which seems to be surrounded by the mountains.As it is known, there is a growing number of steps to see the beautiful spectacular and fresh seafood.',\n",
       " 'Observatory established to commemorate the poet Kim Min -bu.If you fall to the right in the middle of the 168 steps, you will see the Kim Minbu Observatory where you can see Busan Port at a glance.On one wall of the observatory is engraved with the song of the high school music textbook and the `` waiting mind \\'\\' written by Kim Min -bu.It is a good place to say that it is 9 views of Sanbokdo Road, and Kim Min -bu, a genius poet born by Busan, was born in Jung -dong, Dong -gu.His real name was Kim Byung -seok, and he was a student who was in the middle school entrance exams two times when he was in Bumil -dong Seongnam Elementary School.When I was in Busan Middle School, I was renamed Kim Min -bu. Kim Min -bu won the Sijo Pomegranate in the Dong -A Ilbo Shinchun Literature when he was in the first year of Busan High School, and in April of that year, the 1st National Student Literature Works co -hosted by Busan University and Busan Ilbo.In the competition, he takes up a specialty as a poem in the strawberry field.In the second year of high school, he published his first poetry, Jar, and in the third year, he was proud of his unusual literary talent, including the Sijo 〈Crack \"was elected to the Hankook Ilbo New Year Literature.After graduating from the Korean Department, he joined Busan Cultural Broadcasting Station in 1962 to plan and write a radio program.[Jagalchijimae] is still being broadcast and is the longest program of the broadcaster.In 1965, he moved to Seoul and stood out as a broadcaster in MBC, DBC, and TBC.In 1970, Kim Ja -kyung\\'s Opera was posted on the stage by writing the play of the Opera Ambassador Wonhyo.',\n",
       " 'A beach park with a beautiful night view of Busan Hangae Bridge.Cheonghak Waterfront Park is a small park next to the Cheonghak branch of the Busan Maritime Police Station. It is the first private waterfront park built by Busan Port Corporation and Busan Regional Maritime Port Office.It is also famous as a park that can be seen near the 360 -degree slope, which goes up to Busan Port Bridge and Bridge.In addition to landscaping, sports facilities are well -equipped parks.It is known as a beautiful night view of Busan Hangae Bridge and is emerging as a new famous tourist destination in Yeongdo.The lighting time of the Busan Port Bridge is from 20 minutes to 23:00 after sunset.',\n",
       " 'Oryhne scenic view from the observation deck.The five -wheeled warfare zone at the summit of Obshan goes up 500m (about 20 minutes) from the five -wheeled village (Suwonji Village) and the observatory comes out.If you go up the observatory, it is a beautiful view of the view of the Hoe -dong Suwon area, the Mt.It is said that the name of the five -wheeled group is derived from the theory that the five elderly people with Samgang five -rings are looking at the scenery.The lakes and sansla from the Oryundae Observatory are said to be a superb view.The observation deck has a deck that can be destroyed, and the beautiful mountain peaks and cliffs reflected in the Hoe Dong -ho are the places of the sinus.Hoedong Suwonji is a place where various sightseeing spots are scattered, including Hoe -dong Suwon -ji Dulle -gil, Taesan Mt.',\n",
       " \"A magnificent temple with the largest species of the Orient.Dongmyeong Buddhism, which is located in Yongdang -dong, Yongbisan, was built for the luck of the family of the same name and the family who worked in the industrial field of the same name.While most Korean temples are traditional Korean style, this temple is influenced by Southeast Asia, and the ridge is straightforward and the Buddha's saree found in the high tower of Myanmar, and the wooden statue of the wooden gold buddha is the largest in Korea.It is a Buddhist statue, and it is also about 27 tons in Korea, and it is 6 tons heavier than Emile.The same name is engraved with a dragon on the head of the head, and it is a unique technique that could not be seen in the past.The size of the temple is 498.84m².In the middle of the temple, a special method without pillars was used, four dragon heads were harmonized in the center of the inner ceiling, and both walls were engraved on both walls.On the second floor, Buddhist books are displayed.\",\n",
       " \"There are many restaurants, so I always go to Seomyeon 1st.Seomyeon 1st Street, Busanjin -gu, Busan, is the most busy street and 330m long, from the old Cheonwoojang to the LG Service Center.A pub and a cafe are concentrated around a large signboard that displays written 1 Street.The atmosphere of this place with a pub that reveals a gorgeous neon sign and a food alley is very exciting.There are many young people's cafes, pubs, and cheap and delicious restaurants, so the young people always stop.In addition, there are many amusement facilities that can enjoy leisure such as movie theaters, theaters, and game sites.In Seomyeon 1st Street Street, it is a special stage in spring and autumn to hold a festival.On weekends, various genres of cultural events such as performances of the amateur street orchestra, portrait drawing, and theater are held, and it is also a place for many domestic and overseas tourists.\",\n",
       " 'Forest playground decorated with fairy tales.Andersen Fairy Tale Village, which entered the ceramic tourism healing village in Jangan -eup, Gijang -gun, Busan, is a healing experience space that covers not only children but also adults.You can see the life of Andersen and his work of his work, which are loved by children around the world by writing numerous fairy tales.There are Andersen Garden, which is reproduced in the 18th century Baroque style, and various amusement facilities with children.',\n",
       " \"A port where you can feel the beauty of Haeundae.Mipo Port is a small muzzle located at the eastern edge of the Haeundae Beach, and is a lively place as a small fishing boat that offers fish caught in the nearby sea from early morning and people who want to buy meat and seafood at the marina.There are many sashimi restaurants and stalls where you can taste fresh seafood.It is a quiet port with a small landscape of fishermen who are trimming the net and the nets of the net drying in the sun.Mipo Port, which came out as a male and female protagonist in the movie 'Haeundae' operated a restaurant and a stall, is also a attraction where you can take sashimi and a glass of shochu while looking at the sea.Just above Mipo Port is the railroad tracks of the East Sea Line from a recent entertainment program.There is a growing number of steps to see the open sea along the railroad and to walk on the railroad tracks that are usually not seen.There is a marina where you can ride the Haeundae Tourist Cruise Line on the course to explore Mipo Port -Dongbaek Island -Gwangan Bridge -Igidae -Oryukdo.During the day, you can look around with a cool sea breeze, and at night, there are many people who visit here to take a cruise ship to see the night view around Haeundae.You can start the morning lively and feel comfortable with the midday relaxation and enjoy the wonderful sunsets and night views.\",\n",
       " \"A relaxed rest to enjoy downtown Busan.The Nuribira Shelter is a combination of 'Nuri', which means 'world' and 'to look', and is given in the sense of looking at the mountains, the sea, and the sky of Busan while relaxing.When you arrive at the entrance, you can see the word 'horse', which is based on the origin of the Mt.It is located.In addition, large designs and walls on the right side of the observatory contain Songdo Beach, Gudeok Culture Park, Songdo Coastal Trail, and Cheonmasan Sculpture Park.\",\n",
       " \"Ahn's folk tales are conveyed by Hyo and Monk.It is a temple in Gijang -eup, Gijang -gun, Busan.The Ahn Hyo and the Monk's talents have been handed down together, and have been recorded as the four major nameplates of Gijang Hyun since ancient times, and the Ambassador of Silla was founded.After the independence, it has been lost or died, and then it has been in midway.In the grounds, there are Daeungjeon, Destruction Pagoda, Samsung Gak, and recently built immerosity pagoda.\",\n",
       " \"Healing attractions that are good for chaknicks.Lee Dong -port, a small fishing village, has a large parking lot and well -equipped toilet, making it a rapid place.The picnic, which is enjoyed in the car, looks at the calm beach through the picnic 'chaknick', and the atmosphere will survive even if you eat meat or boil ramen.Even if you do nothing and think nothing, you will be admired in the time of flowing time.Fishing is also available at mobile port.The flounder and school saury are mainly caught.As untact tourist destinations, which can be distant to other tourists, have emerged, more and more people are looking for car camping.\",\n",
       " 'The place where the endless lotus is welcomed.It is a popular place in Busan in summer.It is located in Gijang -gun, Busan and is also called Cheolma Jungri Lotus Park.The lotus flowering period is between July and August, so you can see the lotus full of lotus.You can also see frogs and various insects along with lotus flowers and lotus leaves.Nearby there is a shelter in the inherent forest forest that is good for walking, and there are restaurants that use lotus leaves or kite materials.It is prohibited from eating food in the park, and pets can be accompanied, but the land is tight, so be careful when walking.',\n",
       " \"Yosan Kim Jung -han's life and the footsteps of literature.Yosan Kim Jung -han Literature Museum is a literary museum built to commemorate the teacher Kim Jong -han, the representative literary of Korea, to honor his literature, and enhance the spirit of citizenship.In November 2006, the Yosan Literature Museum was opened next to Saint -Garter to operate an exhibition and commemorative project.The first floor is operated as a seminar room, and the second floor is an exhibition room and a small intestine library, and the 3rd floor is an Yosan Literature Research Institute.Next to the Literature Museum, Kim Jong -han's birthplace was restored to the citizens of the traditional Hanok of the Palm Bung -ro in June 2003. Kim Jong -han was born in 1908, attended the Myeongjeong School of Byeongsa Temple, and graduated from Dongrae High School.I lived in teachers in Namhae, Gyeongnam.In 1936, he served as [Sahachon] in the Chosun Ilbo New Spring Literature, and he wrote various works such as Sandawe Story, Surado, and Sabatjae.In October every month, Yosan Kim Jung -han Literary Festival is held, and various lectures and cultural events are held from time to time.\",\n",
       " \"It will create a attraction that can be used by tourists under the theme of 'Starlight Walk'.It is a memorial park created to leave traces of the village as the existing village in Myeongji area, which has hundreds of years of history, was incorporated into the creation of Myeongji International City.There is a playground where children can play in the park.Mia Tree and Minidal Bench were installed as a work on the reservoir stand in Myeongji Ulim Park, and a tourist attraction was created for tourists under the theme of 'Starlight Walk'.'Starlight Walk' is a fantastic light of the LED and makes the moon where you can sit with trees and uses as a photo zone at night to provide tourists who use Myeongji Ulim Park.\",\n",
       " \"Another attraction where you can see Gwangan Bridge.Samik Beach Waterfront Park, which is at a glance at Gwangalli Beach, is a great place to take a walk or bicycle during the day and colorful night views at night.In particular, Gwangalli Beach, one of Busan's leading night view spots, is the best scenery of Gwangan Bridge, the first two -story maritime bridge in Korea and the largest suspension bridge in Korea.The landscape lighting facilities, which produce more than 100,000 colors of time, day, and season, also add the splendor of the night view.Gwangan Bridge, which is seen at Samik Beach Waterfront Park, is attractive at an angle different from the beach.The pink sunset at sunset can also be appreciated.Every spring, locals and tourists are connected to Samik Beach Cherry Blossom Road, which are deliberately visited by tourists.\",\n",
       " 'Memorial Hall where you can learn the history of sweet potatoes.Yeongdo Joagi Village is the first area where sweet potatoes are grown for the first time in Korea.During the Joseon Dynasty, the telecommunications company Chosom first grown sweet potatoes from Tsushima in Yeongdo, and it was a memorial built to commemorate and announce the historical value and meaning of the sweet potatoes.The first floor of the Yeongdo Chogi Sweet Potato History Memorial Hall is the main exhibition hall, the second floor is a cafe, a cooking experience room, and a training center.In particular, the Chonaegi Sweet Potato History Memorial Hall introduces the radio route of sweet potatoes, the chronology of the historical and sweet potatoes. Sand art video, sweet potato fairy tale story, puzzle kiosk, and sketch interactive.The parks and playgrounds decorated with sculptures and railings of sweet potato models are popular with children, and sweet potato cafes are also impressive.If you walk along the promenade, you will be connected to Bongrae Mountain Dulle -gil (6.5km), and from Friday to Sunday 1 pm to 5 pm, you can hear the interesting and beneficial commentary of the cultural tourism commentator.',\n",
       " \"A hot spring that pursues health promotion with hot spring baths and is the background of webtoons.Huh Sim -cheong is a new type of hot spring health land that pursues health through comfortable and enjoyable hot spring baths, rest and physical training, and was born as a city redevelopment project in Busan in October 1991.Husimcheong's hot spring bath is the largest hot spring facility in the Orient, which can accommodate 3,000 people at the same time as 4,297.54m².Daeongsen -tang operates 40 kinds of natural ingredients and herbal medicines depending on the season and seasonal medicine, including longevity soup, samoktang, celadon tang, celadon, and open -air bath.There are various bathing courses that can be made. It has a large hot spring bath, a natural light ceiling, and a beautiful indoor view with artistic formative beauty, providing a rest that can only be enjoyed in Husimcheong, and a comfortable rest with family in jjimjilbang and additional facilities.You can enjoy it.\",\n",
       " \"Observatory where you can bend the Busan Urban Sea and Busan Port.Cheonmasan Sky Observatory is called 'Photo Restaurant' in Cheonmasan -ro.If you go to the observatory, you can see the sculptures that the couple hold hands and look at the same place because they were also used as the stage of the international market, which mobilized 14 million viewers.In 2019, the Cheonmasan Sanbok Village Road Creation Project was completed, and Cheonmasan -ro was more convenient.The old mood of the Sanbok -do is kept, but it adds a neat figure.Currently, lighting and pedestrian decks are installed in the area of Cheonmasan -ro, allowing you to walk a safe night.\",\n",
       " 'A rare natural ecology in the city is a colony.The area is 56,500㎡.It is a natural park adjacent to the south port, Gamcheon Port on the west side, and the animal quarantine station in front.In the south, Hallyeo Maritime National Park is connected.Located in Amnam -dong, Seo -gu, Busan, Amnam Park is only 4 km from Nampo -dong, a downtown street in Busan.The road, which was called the entrance to the serum, has a superb view of the coast, and can see the Songdo Coast and Busan Southern Port at a glance.On December 30, 1972, it was designated as a park with the Ministry of Construction.However, it was tied up in the military protection area and was opened on April 5, 1996.Since then, the company has invested a total project cost of 3.4 billion won to create facilities and parking lots such as observation decks, cloud bridges, promenades, plazas, and outdoor performance stages.Marine trees form a forest, and the cliffs of rock formations are shaved, making it a superb view with the blue sea.Here, the Neolithic relics, such as combs, were found, such as combs, and the mountain trails that climb along the trail at the entrance are dense pine and can enjoy forest bathing.There are several sports facilities installed in places, and there are facilities for sea fishing on the seaside side.In the future, it plans to create a natural learning center and use it as a culture and ecological learning space.It is a 20 -minute walk from Songdo Beach, and there are two parks and Songlim Park nearby.It is a primitive natural park with a rare natural ecology in the city center, such as sedimentary rocks, primeval forests, 101 wildflowers, and 374 plants, which were formed about 100 million years ago.The mountain trail that goes along the trail at the entrance is lush, so you can enjoy forest baths.There are several sports facilities installed in places, and there are facilities for sea fishing on the seaside side.',\n",
       " 'Geumgang Golgangsa Temple, a traditional temple with history and culture.Geumgangsa is a temple that carries out the Geumgang Banya spirit of Daeseung Buddhism.After that, the Ilbung Alarm Daejongsa did not go here, and it was the first place of adversity, mission, apprenticeship, international Buddhism, education, and law.The fundamentals of the world became a temple known in the world.Geumgangsa was located at the southern shore of Geumjeongsan Mountain, and it is also the performance of Bisan Viya, which has been performed by many monks.Geumgangsa is famous for its beautiful surrounding environment.When you enter the order, you can see the songs of the pine, the fragrance of the pine field, and the tea field valley culture with the popular culture.',\n",
       " \"A place where you can feel the footsteps of the Catholic martyr.The Korean Martial Arts Museum is a Catholic Museum established by the Korean Martyrs 'Sister Sisters in 1946 for the proclamation of the Gospel and the Martyrs' Constitution.It owns more than 4,000 points, including torch.In 1969, in cooperation with Bishop Choi Jae -sun (John), the first parish of the Busan Diocese, the Korea Martial Arts Memorial Hall was opened on September 25, 1982.Since then, in 2009, the five -member martyrs reopened as the Oryun University Korea Martial Arts Museum, and the Busan Diocese has been on the Bokja product (August 2014).It was created as a.The first floor is exhibited in relics and relics related to martyrs, and the center of the four persecution.This is a collection.It was buried in the remains of eight Catholics, including John Lee Jung -sik and his family, who were martyred and martyred at the lunar calendar in August 1868, during the persecution of the Catholicism of Joseon Heungseon Daewon -gun.It has been contributing to the spread of the Catholic history and Korean culture by opening the exhibition and publishing the book. Since 2022, the museum is being built as part of the five -wheeled saint development project.\",\n",
       " 'A good encounter between grass and flowers and trees.It was redeveloped as an arboretum for the facilities used as a landfill in Seokdae from 1987 to 1993.It was created as the largest public arboretum in Korea through the preservation, proliferation and exhibition, forest healing and recreation of tree -friendly sources.There are 11 themes, including forests of life where you can meet various plants and natural elements, herbivores where you can meet donkeys and ostriches, and ecological support for flora and fauna.There is also a blue lawn plaza where children can play freely, making it a great place for the whole family.',\n",
       " 'A small China in Busan, an exotic distance.Busan Shanghai Street is the largest residential area in China, located in Choryang -dong, Dong -gu, where you can meet various cultures and foods in China.During the Japanese colonial period, the Chinese migrated and formed, and there was a Chinese consulate in the past.In 2007, it was designated as the only Chinatown Special Zone in Korea. Recently, Chinese restaurants and dumplings operated by Chinese people are known through SNS.The annual Busan China Town Special District Culture Festival is also attributed to the entrance of Shanghai Street, a sculpture that symbolizes the friendship between Busan and Shanghai.It is running.At the end of Shanghai Street, there is a fairy tale.',\n",
       " 'Beautifully overcoming painful history.At the end of World War II, Japanese troops built a defensive facility to prepare for US landing operations on Busan and the surrounding coasts, and the artificial caves of Gadeok -do Village seemed to have been created in this situation.It is said that the artificial caves of Gadeokdo have been found and made and made with coal mines.The form is the I, T -shaped, and L -shaped caves and connection double caves, and there are also long caves that are intertwined with the interior of the internal passage.Inside the cave, it is a place to reflect on the traces of heartbreaking history by expressing it as a sculpture that makes it easier to understand the situation.',\n",
       " 'Building a circular system for waste and civic environment education center.The Busan Resource Circulation Cooperation Center is a base for the Busan Regional Resource Circulation Policy, which is working to establish a circulation system and to education for citizenship.In the center, the company operates various upcycling training, exhibitions, experiences, and field trips along with the support of resource recycling and resource recycling specialized companies.There is an experience hall and a video theater where you can enjoy the experience.Experienced programs include exciting eco tour buses, living ceramics classes, making your own eco -cups, and youth resource recycling schools.',\n",
       " \"Public educational institutions established in the Joseon Dynasty.Hyanggyo is a public educational institution installed and operated by local finances in the Joseon Dynasty.It also has the functions of the rituals of Seonghyun and the teaching function to educate the larvae to study abroad, and also has social educational functions such as improving the culture of locals.Accordingly, Dongnae Hyanggyo was established in Dongnae, but burned with Dongnae Castle during the Imjin War.In 1605 (ancestors 38), Dongnae -guki Hongjun rebuilt several times and moved to the present position in 1813 (Sunjo 13).According to the record, Dongrae Hyanggyo had one professor of six species and 70 students, and seven texts were given to maintain and manage Hyanggyo.Hyanggyo's building structure consists of a lecture space consisting of half -horizontal, Dongjae, and library, and the facial space consisting of comrades, interns, internal and external gates, and four orders around Daeseongjeon.In the Daesungjeon, which has a prominent seven minutes of China's prominent Yoo Hyun and 18 minutes in Korea, forests are held every year on the day of the lunar calendar.\",\n",
       " \"Busan's first beach.800m long, 50m wide, average depth of 1 ~ 1.5m.Located 3 km from Busan Jagalchi Market, it is the first beach in Busan (1913).Since 2000, the company has expanded its white sand beaches that have been reduced for five years, and installed fountains, and became a beach park.There are fish markets and Amnam Park around.It was the first beach area developed in Busan in 1913. In April 1996, Songdo, which was connected to Amnam Park, an urban natural park opened in the military protection area and Dudo Park, famous for sea fishing, is a lush forest and a strange rock that is preserved in nature.It is also a spectacular view of Busan's symbols, a symbol of Busan, and a quiet sea canon with a distant Yeongdo. It is equipped with various accommodations and foods around them.The Amnam Park on the Songdo Coast is a coastal ecological park, which is a place where you can see the Songdo Coast and Busan Southern Port at a glance, 3.8km promenade, road cafes, and sashimi restaurants.In Bumin -dong 3 -ga, Seo -gu, Busan, there is a temporary water memorial hall used as a presidential residence for three years when Busan was a temporary capital during the Korean War.Songdo is located at the southern end of the General Peninsula of Amam -dong, West, which sent a history of upheaval.\",\n",
       " \"Beautiful temple, one of the Yeonje -gu Office.The founding and transformation of Mahasa, a temple of Korean Buddhist Jogyejong, is recorded in detail to Daeungjeon Sangyangmun, and the 5th -century Ado burn was founded.During the Imjin War, all the temples were burned, and the temple was restored phased in the 18th and 19th centuries.It is a famous spot belonging to the eight scenes designated by the Yeonje -gu Office.In 1965-1970, the monk Moon -sung rebuilt Daeungjeon, Ngjinjeon, Daebang, Yosa, and a restaurant, and in 1984-1985, the monk delayed the bell and middle -aged cancer, and 1995-1998In the year, the monk Kyung -min rebuilt Daewoong and Samsung.Mach's Garam arrangement is a mountain temple, but it has not been able to follow the traditional Garam layout due to the terrain and several renovations, but it is well organized in the narrow grounds, and Daeungjeon is a front and three sides of the army.In -Mahsa Daeungjeon Seokjo -seok Sukjo -san, Machsa Ngjinjeon Seokjo Nahansang, Mahasa Ngjin -jeon Wooden Woodman, Machsa Yeongsan Hoesang -do, Machsa Yeongsan Hoesang -do, Mahasa Eungjin -jeon, Yeongsan Hoesang -do, and Mahasa Ngjinjeon Yeongsan Hoesang -do, and Mahasa Hyeonwang -do are preserved.<Nahan and Comrade Red Bean Porridge, which saved the embers>, <Nahan who drove the sparrow>, and <Unusual Golden Gu> appears, and Mach's Na's narrative comes out.In 16, it shows the new power of Nahan.\",\n",
       " \"Natural recreation forests healing in mountains and sea.Daluman, which is 588 meters above sea level, is the first of the eight captains and is one of the two major mountains of Gijang -gun.There is a huge rock in Mt.The National Daluman Natural Recreation Forest is located at the west side of Mt.Under the feet, it has access to accessibility and convenience, including Haedong Yonggungsa Temple, one of Korea's three generations of Gwaneumseong, where you can see seawater.\",\n",
       " 'Observatory where you can enjoy the beautiful night view of Busan.The Cheonghak drainage space is made according to the observation deck.The night view from the observatory and the lights of Busan Port Bridge are in the spotlight as a photo zone for citizens.In addition, various exercise equipment is installed, which is suitable for walking and jogging.In the vicinity of the Cheonghak Drainage Observatory, there are tourist spots such as Chonaegi Sweet Potato History Park, Nampa Lang -gil 2 Course Trail, and Bongrae Mountain.',\n",
       " 'In the 1970s, the Kum Geum Alley Market was naturally formed by several corrosion shops in the 1970s.It opened in 1975 as a Kumgeum Alley Market, and was registered as a traditional market on April 28, 2005.In 2005, starting the groundbreaking ceremony for the environmental improvement project, the construction of arcade roofs in the market was installed twice until 2007.The store area of the Kum Geum Alley is 5,159㎡, and it is composed of a complex market in the mall.There are 194 stores, and the main products are fruits, vegetables and miscellaneous goods.It is also famous for the market where the president has been to a total of four minutes.',\n",
       " 'A beautiful mural village with six themes.Dakbatgol Mural Village is a mural village with six themes.This area was formed naturally by the settlement of people who lost their lives in 1953 as a large fire in Busan Station.Born.At the end of the mural alley 6, the stairs of the wishes are composed of 192 stairs, and they are called the accordion stairs, and they are called Somang Stairs because they come up and down and make a wish.',\n",
       " 'Ho -guk temple was founded for protection of the country in Geumjeongsanseong.The Kukkuksa was founded by the Silla era costume ambassador (625 ~ 702).In the Kukkuksa Temple, there is a record of [Kukcheongsa Temple, along with Dongnae -gu, Song Sang -hyun, Busanjin Cheng -hae, and Dadaepojin Yun Heung -shin.In light of the Imjin War, it is likely that it was already used as a Sookyeong area of Ui Seung -gun.He was named as the Book of Bureau in the sense of [leading to overcoming the national difficulties with a clean heart, preventing the dirty tramples of the external and protecting the land cleanly.The Kukkuk has recently been in mid -sides.In 1978, he built Samsung angle, and in 1982, he created a three -story stone pagoda in the center of the pond in the pond.In 1992, he built a Daeungjeon, built Yosa in 1998, and built one order in 2010. The Kukkuksa was stored with an iron stamp called \"Geumjeongsan Cultivator\" used by the Chosun Dynasty.This data shows that it was the center of the victory.Both the Kuksa Temple and Hae Wolsa defended the acid, and the head of the head of the head of the head of the government seems to have had a headquarters of Ui Seung -gun, who lived in a strategic base.',\n",
       " 'It is the largest of the existing imaginary yard, with an area of about 20,000m2 on the 5th basement and 13 floors above the ground, and is the largest of the existing imaginary courtyards.There are stays and rooftops.Unlike other imaginary yards centered on indie culture, Sangsangmadang Busan is a complex cultural space that focuses on communication.',\n",
       " \"Chungmu -dong, a traditional market in Busan, is adjacent to Busan South Port.In the past, the market stood at the dawn of the dawn, and has been operating as a permanent market since 1965.It is composed of more than 350 stores, and many shops sell fresh seafood.It consists of a variety of shops, including agricultural products, meat, side dishes, as well as household goods.There are many users because it has a roof.From 2:00 am every day, the most popular guests are Gimhae's alleys, which are famous for the vegetables and side dishes that have been sent directly from Gimhae.In addition, there are a lot of lively and vibrant markets such as Jagalchi Market, Bupyeong Can Market, and International Market.\",\n",
       " 'Camellia islands that can be accompanied by pets.Looking at the open sea at the Haeundae Beach, you turn your eyes to the right side.Originally, it was an island, but it was connected to the land for a long time, but it is still called the Dongbaek Island, and it is reminiscent of the old terrain.I am talking about it.The promenade is built around Dongbaek Island, and the citizens are constantly visiting, and the Haeundae of the Choi Chi -won, the statue, and the fertilizer, the Mermaid of the Legend of the Hwang Ok Princess and the Nurimaru APEC House are soaked everywhere.In addition, the panoramic view of Busan on Dongbaek Island is impressive, and the coastal ends of Mipo side, the moonlight hills, the Gwangan Bridge across the sea and the sky, and the symbol of Busan Sea, are seen at a glance.As the name suggests, where the camellia bloomed in the jicheon so that it was the same as the horseshoe, it is still unchanged in winter and spring, and the red flowers fall into the barrel.',\n",
       " 'Fresh ingredients and fresh sashimi.It is a traditional market in Geumjeong -gu, Busan, and has various items, food materials, restaurants, and sushi restaurants.The Namsan Market is located near Beomeo ministry, and there is a parking lot that can be parked for free next to the market.The products sold in Namsan Market can be believed to be fresh, as well as ingredients, and there is a restaurant where you can enjoy sashimi at a low price that is as low as the center because of the benefits of Busan.',\n",
       " \"Gwangalli Beach is in love with the beautiful night view of Gwangan Bridge.Gwangalli Beach, which is bent in half -moon and clean water quality, is a representative marine park in Busan.There is a total area of 82,000㎡ and a sandy beach of 1.4km long and 25 ~ 110m.The name of Gwangalli Beach is named after Gwangalli, Namchon -myeon, Dongnae -gun, Joseon Dynasty.The president in front of Namchon was called 'Namjang', and the Namjang had a wide sand dunes, so it was named Gwangan by attaching 'An', which means the coast.Since then, the 'An' in Gwangan is rewritten as 'comfortable', which is a virtue of '岸 安'.There are beach parks, youth training centers, and marine sports centers, so you can enjoy a variety of marine sports such as banana boats and windsurfing.Around the beach, there are more than 300 sushi restaurants, sashimi centers, Eonyang firefish, bean sprouts alley and unique cafe streets.Looking at the cafe street from Gwangan Bridge, it is beautifully decorated with illusions as if you are traveling to a city in Europe in a fairy tale.\",\n",
       " 'It is reborn as a resting place for citizens by improving the environment around the Unsucheon.Baekyangsan Well -being Forest, located in Mt. Bukyang, Buk -gu, Busan, is reborn as a resting place for citizens by improving the environment around the Unsucheon.Various facilities, such as the Catholic Forest, Meditation Forest, forest Theme Playground, Deck Shelter, Valley Observatory, Unsucheon Experience Forest Road, and Family Story Forest are good for relaxing body and mind.It is also a good resting place to spend time with children in the forest theme playground in the forest theme playground.',\n",
       " 'The exotic atmosphere is a picture of a picture.Located in Jukseong -ri, Gijang -gun, Busan, Jukseong Cathedral is a drama set built to shoot the 2009 SBS drama “Dream”.The dramas that were aired for a long time were forgotten, but this well -made space has become a must -have place for travelers looking for a captain.The interior of the cathedral is operated as a gallery, so if you luckily overlap with the exhibition schedule, you can experience unexpected attractions.It is a unique atmosphere because of the geographical characteristics located in a small fishing village.The landscape that seems to have moved a beach village in the Middle Ages is like a picture.The white foam, broken over the rock, contrasts with the red roof of the cathedral, attracts the eyes of those who come here at a glance.The most people in the Jukseong Cathedral are the photo zone that seems to have moved the frame of the frame as it is.The blue sea and the sky in the frame make a beautiful background.',\n",
       " \"History of consideration.It is the words of Jogyesa Temple, a direct job of Korean Buddhist Jogyejong.The creation period and the founder are unknown.In 670 (Munmu 10), Wonhyo named Baeksan Sara, and in 19910 (King Seongdeok 9), Choi Chi -won was in secluded in this temple.In 910 AD (9 years of King Seongdeok), the best teacher was secluded in Baeksansa.In 1635 (13 years of artificiality), Haeunseon was renamed Okyeonam, and in 1976, it was renamed Okryon Sailor while midst of Daeungjeon.In 1992, he built a 50 -year -old Maitreya Buddha, and it was a historic location with the Sezon Jinshinsari 12 and the Maitreya Sambu Kyung, brought by the monk of Myanmar.In addition, it was recognized as a temple that is especially necessary to understand the trends of Korea's unique Buddhism, culture, arts and architects.There are various tanghuors, such as the Buddhas of the Three Kingdoms and the Buddha's Buddha, which are believed to be the Buddhist statues of the Silla era.In addition, there is a 15 -meter -high Maitreya Buddha made of 1,500 tons of granite in 1992.This Buddha is the largest stone statue in Korea, and is considered a specialty of Korean Buddhism along with Eunjin Mi -mi.In addition, there are Sari Tower, which enshrined Jinsin Sari 5, and Imjin War Ran Cheondo, which was built to pray for the unknown and unknown died during the Imjin War.\",\n",
       " 'Follow the various wildflowers and the coastal scenery.The Osiria Coastal Trail is well -equipped with the open sea and a shelter where you can see the stylish scenery in the middle.Walking along the various wildflowers and picturesque coastal scenes that bloom every season, it will lead to a lush forest of pine trees.The dense pine forest covers the hot sun in the middle of the day, which can avoid the heat for a while.The sound of the waves that sound through the pine can also cool the body and mind.On one side of the coastal walkway, the Yongwangdan, a shrine that enshrines the dragon king, who protects the eastern sea of Busan, is also eye -catching.It is built on a sheer cliff, creating a magnificent and godly atmosphere.The shaking chair is also built in the place where the dragon king looks, adding to the unique fun of the walk.The promenade received the Minister of Culture and Sports Award in 2019.',\n",
       " \"The degree to execution of the core temples of Busan's mission.Hyewon Jeongsa was founded during the 1925 Japanese colonial period, and Kim Deok -man, who was living in a nearby village, came to the mountain to do the firewood tree, found an old temple, and built a small temple with his wife Kim Soon -im.They shaken up to build a Buddhist Buddha, built a three -piece wooden machine and a golden party, and stayed for 30 years.During the car exploration, the old temples were found at the foot of Myo -Bongsan Mountain, and the temple was rebuilt here, and today's Hyewon Jeongsa was founded.It means a place where people who don't gather in one place and devote themselves, and people who work hard to practice.Hyewon is a garden of wisdom, and it means the garden of Buddhist execution that forms the three classes that must be wiped by the learning of Buddhism and seeking enlightenment.Based on the spirit of the monk's emphasis, the Buddhist colleges, citizens, and alpine scholarships are operated.The day is being developed as a central temple of active practice and mission.\",\n",
       " 'A famous spot where you can enjoy the night view of Busan and nature.The eco -friendly Skyway Observatory located in Choryang -dong, Dong -gu, Busan is a famous spot where you can enjoy the night view of Busan.Natural -friendly deck roads are created to provide rest for local residents.Healing Theme Forest Road, including Singing Road, has been built, so you can enjoy green nature even in the city.',\n",
       " \"Global scale, Asia's only phase cancer.The initiative of the Pedestrian Cancer Cancer is located in the west Jeonpo -dong, located in the center of Busan.In the heart -like cancer, where magma is gradually cooled in the basement, it is universal that the prehistoric tissue of backfast, neutral, and metastasis is displayed, but the phrase gas is white or colorless minerals, white minerals and white minerals and black, or green or colored minerals.Including the surface of the rock, they appear as concentric or flower patterns.The cat is a rare cancer with very low distribution in Korea, and the distribution area of the cats with the initiative structure of all foam is about 0.14 km2, which is not only a phrase cat.It is one of the world's largest among all phase cancer.In addition, the peculiar pet cancer, which is located in the middle of the city center, is the only report in Asia, and is a Busan National Geopark, which is very high in research.\",\n",
       " 'Grilled eel is a small port.Woljeon Pogu is a small port of grilled eel.Small sashimi restaurants and grilled eel houses are gathered around the pogu, and you can see the fishing anglers in the morning.The Woljeon Lighthouse, which was built at the end of the Woljeon Bang, has been in light since September 2009.There is a Walljeon Flower Garden and Woljeon Live Fishery Sales Center, and the Woljeon Flower Garden has a promenade for walking along the beach.',\n",
       " \"Historical Park is well preserved for historic sites and ruins.Suyeong -gu is a long history and tradition, where the natural landscape is an outstanding area, and there is a Geumryeon Mountain with a beautiful mountain, and in the future, there is a beach of Gwangalli Sea Beach.In the Joseon Dynasty, Gyeongsangjwa -do was a very important area of the thief, and it was a very important area for military.Swimming Park was the place where the Navy General Manager, the head of the naval military, who had jurisdiction over the four military offices of the Joseon Dynasty, was now a place where the castle was eliminated.There are three types of tangible cultural properties, three intangible cultural properties such as swimming Ya -ryu, two natural monuments such as Gomsol and Peugeot, and five non -designated cultural properties such as Ahn Yong -bok General.A representative culture where you can see Busan's folklore in one place with the history and education of swimming people, such as General Ahn Yong -bok, who has been confirmed as Dokdo, as well as the history and education of swimming people, including the General Tower of the Chun Yong TowerIt is a ruins park.Although it is a historical symbolic park, it is more friendly as a light walking space for citizens.\",\n",
       " 'A stall village with fresh seafood and porridge that has been raised by Haenyeo.Gijang Haenyeo Village is a seafood sales stall that is formed around Yeonhwa Pogu.It is also called Yeonhwa -ri, Yeonhwari, and Yeonhwa -ri.It is in contact with Jukdo and operates from 9 am to 6 pm, and since ancient times, Haenyeo has sold seafood caught off the coast of the captain.You can see seafood such as sea urchin, abalone, octopus, high school, sea cucumber, dogbul, and shellfish taken every morning.It is famous for its abalone porridge and a lot of amount.In addition, there is a marketplace that sells Gijang aquatic products such as dried fish and Kijangmi Station.It is also a good idea to eat a dish of seafood in a stall and look at the beautiful scenery of Jukdo and the sea.',\n",
       " \"Enjoy the nature of BusanCentum APEC Naru Park is a good park in Busan with clean and convenient facilities.On weekends, you can easily meet picnics, walks and bicycles, lovers, and friends.In particular, the artist's sculpture works are displayed throughout APEC Naru Park.In addition, walking courses along the swimming rivers are also popular, and they start from the entrance of the APEC Naru Park to the left and the left swimming bridge at the end of the park.There is also a bicycle rental station in the park.You can choose your favorite bicycle here and enjoy riding for an hour for 1 hour.The helmet is also free to prevent accidents.\",\n",
       " 'Consideration in Myeongdang, where the legend of turtle rock is located.Seongamsa, located at the foot of Galmibong, a small peak of Mt.In the back mountain of Seongamsa, you can see the rocks of the head and back of the turtle.As a result, many people who have passed the judicial exams, including the judicial examination, have been produced.It is holding a first -day law, a man -in -law, and a jizo -Japanese law.',\n",
       " 'Beautiful beach, one of the eight captains.Daylight Beach is a beach located in Gijang -gun, which is one of the eight of the eight scenes.The sandy beach is unfolded from the places where Icheon River and Icheonpo are in contact with the Hakri phrase.There were more than hundreds of years of old songs around the beach, but now it has disappeared.And in Hakri Village, located at the end of the white beach, the name of the crane has flocked over the old song, but it also disappeared a lot.In the middle of the white beach, there is Samsung University, which is said to have been sought by three saints in Goryeo.Neighborhood tourist destinations include Noodles, Namsan Bongsudae, and Hwanghak University.',\n",
       " 'Traditional market located in Danggam -dong, Busanjin -gu.It is a traditional market located in Danggam -dong, Busanjin -gu.It consists of three markets: the party market, the party market, and the party alley market.Opened in the 1970s, agricultural products, seafood, livestock products, my use, and hanbok are mainly handled and 200 shops are gathered.There is a party market and a party market in the vicinity, and the three markets are also tied together to call it the party market.There are large marts around, but they are not active as before, but there are many cheap and delicious foods such as cold noodles, noodles, and chicken.',\n",
       " 'Geumjeongsan Geopark where you can experience the time travel of Earth.The National Geopark is a park certified by the Minister of Environment (No. 2, No. 2) certified by the Minister of Environment to preserve it and use it for education and tourism.Geumjeongsan National Geopark is a mountain that forms the roots of Busan land formed by the granite of granite, which was produced by magma in the basement about 70 million years ago.For many years, you can enjoy elegant granite terrain such as rock cliffs, Thor, Nama, In -Sellberg, and Blockstream, which have been cut and trimmed by the winds for many years.Most of the acidity is built in the acidity between these calculations.In these calculation and acidic power, many tores (TOR), which is an unusual rock formation, are observed by the exposure of large and small base cancer of Cretaceous Bulguksa granite.The geology that constitutes Geumjeong Mountain is made up of the current sedimentary cancer layer, volcanic rocks that are built or erupted, and then Bulguksa granite and masan rocks that are built into these rocks.Geumjeongsan, which is registered as a national geological park, is a place where the rock formation and nature are well combined to boast of beautiful scenery.',\n",
       " 'Lighthouse where you can feel the beauty of modern architecture.It was one of the manned lighthouses built at the end of Joseon Dynasty and began lighting in December 1909 and was designated as a tangible cultural festival in Busan on September 16, 2003.Because of this, it has a gothic style, which is similar to the form of a French tower, and the entrance is installed with a protruding sloped entrance using wood according to the width of the entry staircase, and the upper board is engraved with the oat flower pattern, a symbol of the Joseon imperial family.The architectural style of Korea, Japan, and Europe is mixed.It is one of the first buildings and materials of modern Western architecture, and it is a cultural property that stands out for historical and architectural values because it retains its prototype much better than other lighthouse.',\n",
       " 'Sunamsa Temple of Millennium, trained by Silla Gallery.Seonamsa is the horse of Beomsa Temple, headquarters of the 14th parish of the Korean Buddhist Jogyejong.In 675 (Silla Munmu 15), Wonhyo (曉) was founded.At the time of its founding, it was called Gukgangsa Temple, and it was said that the galleries were changed to Sunamsa as the galleries wiped the martial arts on the back of the mountain cliffs, and in 1483 (Seongjong 14)do.In 1568 (ancestors 1) Shin Yeon and 1718 (Sukjong 44), Suno was in charge, and in 1918, Dongwoon was held and Hye -soo was in the middle of 1955.The type temple stay is operated (1 or 1 night and 2 days), and various events such as Buddhist Liberal Arts, Wonhyo Choir, Buddhist Volunteer Corps, Pottery Making, and Dragon Prayer are operated.It is a paradise soil with Kannon war, roster warfare, Chilsung, Sanshin angle, Sanshin -gak, Yochae and Jonggak, and it is rumored to be beautiful.The stone bridge in the valley that penetrates through the grounds is paradise, and a small waterfall that flows behind the dragon king is Sunam Falls.Over the sunam waterfall, the sheer rocks stand up, which is called fresh cancer.',\n",
       " \"Small but rich market.It is a small market that sells various foods and food materials.The Namkwang Alley Market, located in Daeyeon 4 -dong, Nam -gu, has about 30 stores and is a small market that sells various items and foods.Long -line seats and stores on both sides of the market alleys sell a variety of products, including fruits, vegetables, and other materials for livestock.The heart of the generous merchants adds to the market's friendliness.Small restaurants all over the place are perfect for filling the hungry stomach and resting for a while.\",\n",
       " 'Touching to become a global base city.Eco Delta City was created to foster the economy and build a new growth engine by fostering a base area using excellent wide -area transportation systems and geopolitical positions.The creation of a complex waterfront space that combines high -quality hydrophilic living environment and residential, commerce, work, arts, and culture provides various future leisure and cultural spaces in the river center, and the government\\'s \"Port Business Valley\" Plan and Busan International Industrial Logistics CityBusan Metropolitan City, K-WATER, and Busan Urban Corporation were jointly participated to create a global base city that reflects the plan.',\n",
       " \"A comprehensive botanical garden where beautiful plants are landscape.It is a botanical garden operated by the first civilian in Korea.The area is 194,480m2, and there are about 2,300 kinds of plants, with about 540 kinds of planted plants, including 20 palms and cactus, among the 560 tropical plants.In addition, the botanical garden has a beautiful plant, and it is equipped with various works and rest facilities using natural stone, which is used as an emotional resort for urban residents, and is used as a botanical research and educational site.There are 12 artificial waterfalls, natural stones and landscaping works in the Geumgang Botanical Garden.Geumgang Park operates a cable car of Geumgang Park, and has a good tourist attraction for tourism such as the Busan Folk Art Museum, which inherits and preserves Dongnae Yagyu, and the Busan Maritime Natural Museum, Korea's first marine natural history museum.\",\n",
       " 'Romantic view of Sanbok Road and a wonderful view of Busan Port.The mailbox was installed here to honor the arts and literary spirit of the poet Cheongma Yuchi -hwan as an observatory on Sanbok -do, Dong -gu, Busan.The Observatory was opened in August 2016 and operates a slow mailbox that is delivered after a year.It is a place.It is a tourist attraction that can be viewed at a glance of Busan Port at a glance, in honor of Cheongma Inchi -hwan, who has been in Dong -gu, and has been in honor of Busan Port at a glance.On the first floor, the second floor, which is designed as a staircase outdoor performance hall, and all sides of the glass, are used for art exhibitions for 89.54㎡.',\n",
       " 'Educational institution built during the Chosun Gwanghae -gun.In 1440 (Sejong 22), it was founded to bonce and oriented the plaque of the current oil, and to rehabilitate local secondary education and the rehabilitation of local residents.He was lost during the Imjin War and was restored to the justice of local forests in 1617, and in 1974 he repaired the Great War.Existing buildings include Daeseongjeon, Myeong -ryundang, Dongjae, Seojae, Poonghwa -lu, Shin Sammun, and Sesimmun.In the Daesungjeon with three front and two -sided bangs, there are five stages of five stars, Songjo 4, and 18 prefectures in Korea.In the Joseon Dynasty, the instructor taught the teachers with all the answers, the nobi, and the history from the state, but now the educational function is eliminated, and in the spring and autumn, the establishment of the stone and the incense are raised in the early days and the full day and the full day.In addition, one school and the life expectancy are in charge of operation.',\n",
       " \"There are various programs that anyone can enjoy together.It is an experience learning botanical garden operated by a social enterprise called safe life.At first, it started as a horticultural therapy program for dementia patients, but now it operates a variety of programs for all individuals, as well as lovers and families.If you make a reservation through the portal site, you can plant and take various kinds of pots such as Yulman and Love Cho.Even if you don't have any experience in the flowers, you can explain it detailed and easy to understand from the beginning to the end, from the beginning to the end, from the beginning to the end.Before and after the experience program, you can take a look around the garden.In the indoor house, there are various kinds of flowers such as geranium and Begonia, so the eyes are pleasant.\",\n",
       " 'Winter migratory birds, Macdo Ecological Park.McDo Ecological Park is a Dunchi area naturally formed from the Nakdong River Bank to the airport lamp, and is designated as 179 (Migratory Bird), Nakdong River, Nakdong River.It has been used as a farmland such as rice farming from the past and is still managed as a migratory and shelter of winter migratory birds.It has made attractions, and it is also equipped with various sports facilities and rest facilities.',\n",
       " 'Hwamyeong Ecological Park shows off its charm in spring and autumn.Hwamyeong Ecological Park is a Dunchi area from the 2nd Nakdong River Bridge to Geumgok -dong, Gupo -dong, Buk -gu, Nakdong River.It is adjacent to Hwamyeong New Town, so it has good access to residents, as well as sports facilities (11 species 38 pages), including baseball fields and soccer fields, tennis courts, basketball courts, and inline skating.In addition, the lowest end, the lotus wetland, the aquatic botanical garden and the promenade, and the deck are good for rest and natural experience.',\n",
       " 'A comprehensive market with many attractions.Namcheon Beach Market, located in Namcheon -dong, is a comprehensive market full of various attractions and food.In the past, the sea was where the sea was located, and an apartment was built on the land that was buried for the creation of a residential area.Opened in 1989, it is a mall building market with more than 200 stores.There are many places that handle seafood such as live fish, seafood, and seafood, and are comprehensive markets that handle various products such as agricultural products, vegetables, groceries, long -stands, restaurants, snacks, rice cakes, imported products, and butcher.It was remodeled and improved the environment such as heating and heating devices so that customers could use it conveniently.',\n",
       " \"Deokpo Market in Sasang -gu, Busan, means 'duck', which means hill, and 'Po', which means port, means the market on the hill.It was named because there was a large muzzle here long ago, and the market was naturally formed as the floating population was concentrated around the pogu.In 2007, however, Deokpo Market changed its meaning to the Blessed Market, not the Market on the Hill.It is said that it is a willingness to be reborn as a market that conveys the blessing of happiness to those who visit with abundant food and attractions.It is close to Deokpo Station on Busan Metro Line 2, and it is a good access market. More than 190 stores have various foods such as dried fish, fruits, vegetables, and side dishes.It is equipped.\",\n",
       " 'Mountain market with a long history and tradition.The Busan Common Fishery Market was opened in 1963 and is responsible for about 30%of domestic fishery products for more than half a century.It is a specialty auction market.The handling items are handled by lotuses (100 kinds of mackerel, cutlass, squid), ocean catches, and imported seafood.It is a place.',\n",
       " 'In the spring, cherry blossoms and rape blossoms are spectacular in the fall.Daejeo Ecological Park is a Dunchi area from the Nakdong River Uan Great Gate to the Gimhae Airport Lamp.It is a place where you can enjoy leisure and relaxation by constructing large and small wetlands, waterways, grasslands, rape blossom complexes, and various sports facilities, including Sindeok Wetlands.At both ends of the park, sports facilities and convenience facilities were placed, and other regions were built with wetlands and grasslands.In particular, the Rape Flower Festival held in April every April at the Rape Landscape Complex (370,000㎡), which is built below Gupo Bridge, is a new spot for many tourists.',\n",
       " 'Ecological park where migratory birds are also resting.Samrak Ecological Park is the largest area of Nakdonggang -gu Dunchi from Umgung -dong, Sasang -gu to Samrak -dong (Gangseo Nakdong Bridge), and natural monuments (Nakdong River Migratory Birds).It is a sports and resting area decorated with grass plaza, wildflower complex, bicycle road, and ecological walking course. Samrak Ecological Park is largely divided into three parts.Second, there is a large natural grassland of reeds and the colony of the reeds (some blindfolds) on the top side, a walkway all over the place.As such, Samrak is the largest Dunchi area (4.72㎢) and has a variety of natural environments and hydrophilic spaces for citizens.',\n",
       " \"From healing to sports.Spo One Park is an open facility that opened the Geumjeong Sports Park, which was built for the Busan Asian Games in 2002, and is a city of 88,000 pyeong.It is a comprehensive sports park with waterfront plazas and forests.One -third of the total site is 400,000 recordings, and mats and small tents are allowed in compliance with the etiquette in the park.In addition, various sports facilities are provided, so you can enjoy the activities you want according to your taste, making it the best place for holiday healing.At the sports center, you can use swimming, golf, fitness, badminton, table tennis and kidsland and cultural classes as indoor sports.The main stadium is used as a homestore for the BNK Sum Women's Basketball Team.Outdoor sports facilities include artificial turf soccer fields, futsal fields, and hardcourt tennis courses with a standard of hardcourt, and a circular jogging road and bicycle along the outside of the park, so you can enjoy simple walks and riding.Bicycles can be rented at the bicycle rental store on the first floor of the tennis stadium.In addition, as a educational facility for youth, there are also educational facilities for the mysterious sex culture center, children's traffic nation, and disaster safety experience center.\",\n",
       " \"Guardian disease that keeps the gateway of Busan Port.Oryukdo is a six -rock island that rises in the strong waves off the coast of Yongho -dong, and is divided into land, shield Island, Solseom, Suri Island, Guoy Island, and Lighthouse Island.Oryukdo was a small peninsula that followed land until 120,000 years ago, but it is believed to have been separated from land due to the erosion of strong waves for many years.This can be seen in that the land, the land and the shield island, and the Sol Island are the same.The name Oryukdo is located in Dongnaeji Sancheonjo, which was compiled in 1740.The peaks and the shape of the Mo are standing side by side in the middle of the sea, so they become six peaks from the east, and in the west, they become five peaks.There is a coastal geological trail that runs from Oryukdo to Igidae Park, which is a 4.7km coastal walk from Oryukdoskywalk to Brothers' Observatory, and has excellent national geological parks with Oryukdo, Oryukdo, Oryukdo, Oryukdosu Walk, and Brothers ObservatoryIt is a tracking course of In Igidae Park.At the younger brother -in -law's observatory, you can see the brilliant night view of Busan's landmark Gwangan Bridge and Haeundae skyscrapers.[Source: Nam -gu Cultural Tourism]\",\n",
       " \"Historical tourist attractions that remember and experience the history of peace and human rights.The forced mobilization museum was established to inspire mature history and to provide national education for human rights and world peace by identifying the reality of forced mobilization during the Japanese colonial period.On the site of 75,465㎡, the 3rd floor of the ground is 4 stories below ground and a total floor area of 12,262㎡, and the government is exhibiting forced mobilization, photographs, and museums collected by the government.The History Museum is a 'memorial and commemorative facility for the survivors', as well as a 'Japanese forced mobilization history education space' and a role of 'eco -friendly resting space for local residents'.It will be designated as the UN Peace Culture Zone along with the UN Memorial Park and the UN Peace Memorial Hall, and will be reborn as a historical tourist attraction that remembers and experiences the history of peace and human rights.\",\n",
       " \"A temple of the school where the spirit of the national spirit has been established.The lawyer is a temple located at Chilsan -dong Hakdae University in Dongnae -gu.Based on it.The appearance of the towering school in the center of Dongnae is surrounded by a dense pine tree that can be seen at a glance that the crane is a great place for cranes.As the home of the movement, it was a place of cultivation of people's rehabilitation and national spirit.In the late 1800s, there were five foamdangs that were opened for the mission of Busan, and all four of them were eliminated, and Dongnae Missionary Party maintained its name, so it was the public so that it had led the unhealthy.It is a temple in the center of mission.The lawyers are located in the city, but the scenery is beautiful and there are many tourist attractions such as Dongnae Bokcheon -dong burial mounds nearby.\",\n",
       " \"It is a place to display a small story on the Choyang Mountain Road.Ibagu Workshop is a living center on Sanbok -do in Busan, and is an exhibition hall where you can examine the history of Sanbok Road.There is a retro uniform on the first floor, where you can experience it directly, and on the second floor, you can enjoy the 'Sanbok Road Landscape' with a wide window.On the wall, there is a space decorated with photos and stories of people living in 'Sanbokdo'.As the refugees settled in Busan in the Korean War, the Pangja Village Village was formed to the mountain of the uphill.Busan Metropolitan Office of Education website)\",\n",
       " \"Temple in the city with clean field facilities.Bokwangsa is a temple of Korean Buddhist Jogyejong at the foot of Mt.It is a modern temple, and has a clean field facility and is located in a place where the city is located in the city to enhance the convenience of visitors.Bogwangsa Daeungjeon is a Buddha's Buddha, a Buddhist statue made around the 18th century.It is presumed to be a Buddha made by a colorful sculpture.The main zone is Amita, and the left and right narrow bodhisattva on both sides consists of three balls, both of whom and the main bodhisattva.\",\n",
       " \"Wonhyo Holy Land, a millennium, is full of leisure and relaxation.The stone pagoda at the foot of Baekwoon Mountain, overlooking the new city of Gijang -gun, Busan, is a temple that can be found when you need to relax and relax in the city.It is the legend of the stone pagoda that Wonhyo and the costume ambassadors passed through Dukjeon Village, Jeonggwan -eup, and saw Maitreya Buddha in Gwangmyeong in the East Sea.In the stone pagoda, where the 3rd floor stone pagoda welcomes, the Buddhist basic doctrine class and scriptures are conducted to enhance the understanding of the Buddha's wisdom and mercy.It is a small temple, but it can be strengthened by the pine trees that are towering towards the blue sky.\",\n",
       " \"Various experiences and rest parks enjoyed in the city forest.It is located at the foot of Mt. Baekyang (642m above sea level), which is close to Seomyeon, the center of Busan.There is a walking course around Seongjigok Suwonji, where the four seasons are lush, and there are always parks full of citizens.It was designated as a Seongjigok Amusement Park in 1971, and in 1978, it was renamed Children's Grand Park in 1978.\",\n",
       " 'A traditional market with culture and marketplace.The Namhang Market is a market formed in the 1960s when people began to live in Yeongdo, Busan, after the Korean War.It is good for convenient shopping because of the combination of enemy and comfortable facilities, mainly handling farms, water and livestock products that are directly sent or cultivated locally.In addition to side dishes such as fish cakes and kimchi, shops that handle daily necessities, clothing and miscellaneous goods are also distributed.There are many customers who are looking for good products at low prices.It is being converted into a cultural space where local residents and merchants can get along.It is good to look around with a famous Samjin Fish Cake Store in Busan.',\n",
       " \"Temple with the largest golden left in Korea.Hongjejejejeja is a life -Buddhist center in life that leads the mind and tired modern people into the Buddha's arms for the geographic conditions located in the suburbs of the city and the natural conditions of the forest.Hong is a farm temple opened on a large farm of about 49,587m² (15,000 pyeong), unlike the existing Sansa.Located at the foot of Cheolma Mountain behind Geumjeongsan Mountain, Hongjejeja opened some of the farms in 2003.Hong is a variety of activities that aims for Buddhism, which is open to Buddhism, modernization, and globalization of Buddhism.The practice of mercy with neighbors, such as the elderly and the boys and girls, and the children and girls, and the short -term festival that instills the dream trees, the foreign missions under the banner of 'the world is one', various cultures for the succession and development of traditional cultureLectures, ruins and cultural experience activities are held.If you know Hongjejeja in advance, you will be able to enjoy your trip more.The places worth looking at the Hongjejejeja are the originals, Daeungjeon, and Kannon.First of all, after passing through a large court, there is an original statue at the entrance of the large lawn yard.Yeouiju is a symbol of the law, and there is a Ssangyong, and on top of it, the clouds show the original statue.\",\n",
       " \"Busan's first modern women's educational institution.Busanjin Ilshinyeo School is the first modern women's educational institution in Busan.The architect's significance is greatly preserved in the archetype of Western modern buildings created in 1909 and the later expansion.Unlike most modern buildings in Busan, the Busanjin Ilshin School building is a Western -style building built by Australian missionaries, and was designated as a monument of Busan in May 2003.The second floor is made of red bricks, but the inside is wrapped in wood.Not only is the technology that stacks bricks outside the building, but the stairs in front of the building are kept in the early 20th century Western -style buildings.The site where the building was sitting was a bit of a hill, and it was also worth noting that it was possible to see the panoramic view of Busan Port when the building was made south on the second floor.He taught English and was in charge of education on various subjects such as Hangul, history, geography, mathematics, psychology, and botanical.In the Japanese colonial period, when the discrimination of discrimination between people and gender was provided, Busanjin Ilshinyeo School was a place where Koreans and women were taught to see the world as Koreans and women.\",\n",
       " 'Venice in Busan, full of colorful photo zones.Janglim Pogu is a hot place in Busan, which is popular with word of mouth on SNS.It belongs to Janglim -dong, Saha -gu, in the administrative district, and the name of Pogu is named Janglim Pogu.The colorful buildings along the muzzle and the small ships that floated resemble Venetian Murano Island, which means Venetian in Busan.On the way to the Dadaepo Beach, the sunset is beautiful, and it is possible to tour the Amisan Observatory and Dadaepo Dream Fountain.',\n",
       " 'Travel in nature.Jukseong Port is a very simple and small side compared to other ports in Busan.The houses are scattered around the port, and the walls are hung on the wall.It is common to dry anchovies throughout the port, and a small vessel is anchored in a small breakwater.On the coast of Jukseong Port, you can see Jukseong Cathedral.It is not a real cathedral, but a drama dream set.It is a specialty of Jukseong Port, and tourists always stop.',\n",
       " 'Cheonghak Market is a traditional market located in Cheonghak -dong, Yeongdo -gu, Busan.In 1971, the tent market was located, but in the 1980s, as it disappeared according to the urbanization plan, the building type and alleys were gradually combined, and it was activated as a complex market for shopping malls used by residents in the neighboring regions.It was recognized as a traditional market in July 2007, with a land area of 3,996m2 and a store area of 2,424㎡, with a total of 100 stores.The main items are agricultural and marine products and livestock -oriented agricultural products, fruits and fish, and also sells clothing and miscellaneous goods.There is a public toilet and an arcade as a customer convenience facility.',\n",
       " 'A place to honor the sublime sacrifice of the UN army.The UN Peace Memorial was built to convey the sacrifice of the veterans as an educational space that can imprint the tragedy and the weight of the Armistice Agreement to descendants who did not experience the reality of war.Three permanent exhibition halls in the memorial hall (UN Korean War Memorial Hall, UN Veterans Memorial Hall, UN International Peace Hall) allows you to understand the cross -section of history and remember the sacrifice and will to maintain peace.In addition, the company is striving to expand the solidarity of peace by being the main focus on various activities such as education and cultural events that can be inherited and developed.',\n",
       " \"Let's explore the paradise of migratory birds, Nakdong River.The Nakdong River Estuary Eco Center is a place where the Nakdong River is harmonized with the sea.It is located in Eulsukdo, a migratory bird.Eulsukdo is divided into Eulsukdo Ecological Park at the top and Eulsukdo Migratory Bird Park at the bottom.It is the core area of the Nakdong River Migratory Bird (Natural Monument) and the central axis of the Nakdong River Estuary Ecological Tourism.At the Nakdong River Estuary Eco Center, it also manages its own program, as well as the Wildlife Treatment Center, an exploration experience center, and Amisan Observatory.*The Nakdong River Estuary Ami Mountain Observatory is a place where you can see the views of the Observation Deck, Exhibition Hall, Seminar Room, Rear Screen, Cafeteria, Souvenirs, Trail Square, and Wings Square.It is easy to see information about terrain and geology.In order to underwear, it is divided into three districts (core preservation districts, buffers, use and education districts).Use and educational districts include picnic plazas, sesame seeds, forests, tours, and southern trails.The core preservation district has artificial migratory habitats such as seawater wetlands and reeds, and access to research, investigation, and management is restricted.Go to (free).Starting from a large bus parking lot, I go to the visit experience center, southern end of exploration, Eulsukdo Bridge, and Memorial Park.For visitors, ecotourism activities such as tidal flats, reeds, search experiences, insects and birds are operated.\",\n",
       " \"The road where the sky and the sea meet, Gadeokdo Yeonbong.It is the tallest place in Gadeokdo, the name that has been attached to a lot of deodeok.Gadeok -do is the largest island belonging to Busan, and is believed to have lived in the Neolithic period, and it is an island that watched Korea's Arin history from the Imjin War and the Japanese colonial period.Yeonbong is a mountain that can be visited in 2-3 hours at a height of 459 meters above sea level.If the mountain is smooth, it is suitable for a family climbing in a family unit, and if you climb close to the summit, you can see the sea and Geoga Bridge at a glance.It is a place where you can feel the listening of the sea at the same time.\",\n",
       " 'A place where you can meet unbeatable natural environment and ecology!.It is a forest located at the foot of Nine Mountain, Busan Gijang Cheolmari, where you can meet unbeatable natural environments and ecology.Nine forests, including bamboo forests, cypress forests, cedar trees, and ginkgo trees, and Geumgangsong, which are 100 to 300 years old.The total area reaches 520,000m2, and it has been a forest that has been around for about 400 years, and only restricted restricted personnel for nature protection can be entered.Unlike amusement parks and amusement parks, you can see only on a line that does not damage nature, but there are also forest experiences and play programs for children, and you can hear forest commentary.',\n",
       " \"The birthplace of Busan public Buddhism, famous for the forest law.The Korean Jogyejong Shaolin was founded by a monk Song Young in 1913, and was acquired by the bhikkun Jung Geum -kwang in 1945, shortly after liberation.In 1948, it was converted into a pure Korean altitude, defending Garam, and activating the missionary activity. Shaolin is the birthplace of Busan's Buddhism and a representative inspector who trained the leadership of the Busan region.It has been continuing for 60 years for the forest law and various laws and prayers.There are prudent, Chilseongdan, toxicity, and Sanshindan, and Daeungjeon has a Buddha statue of Buddha, Guan Yin Bodhisattva, and Bodhisattva.\",\n",
       " \"Culture and Arts Traditional Market.Seodong Maze Market, located in Geumjeong -gu, Busan, is named as a maze.Seodong Market, Seodong Local Market, and Seodong Traditional Alley Market are called `` Culture Tourism Market ''.am.The Seodong Art Creation Space, which opened in June 2012, is equipped with a multi -purpose room, an exhibition room, an artist studio, a lecture room, a small library, a rooftop sky shelter, and an outdoor performance hall.In line with the name of the traditional market, various cultural lectures will be held for market merchants and local residents.There is a lot of eggs that have been located for more than 30 years in the Maze Market, which is one of the top 10 tourist attractions in Geumjeong -gu, Busan.\",\n",
       " \"The garden where Adam and Eve lives, Eden Park.Saha -gu is a breakdown located at the point where the Nakdong River meets Namhae.If you go to Hadan -dong for about 30 minutes by bus from downtown Busan, there is an Eden Park with the lower mountain along the Nakdong River.There are sports facilities and tennis courses that can do light exercise, and Cheongma Yoo Chi -hwan's 'flag' fertilization and civil constitutional equipment and trails.Eulsukdo, famous for the migratory birds, floats in the Nakdong River in front of the park, and there is a native restaurant in the park.It is one of the eight -armed places along with the Dadaepo's Molundae.At the end of the Japanese colonial period, Japanese troops installed coastal bags at the top of the Gangseondae, where artillery troops were stationed, and there were still traces.In 1953, Baek Joon -ho, an elder of Busan Central Church in 1953, built a park.The name of Eden Park was likened to the Garden of Eden where Adam and Eve lived.At first, it was called Eden One, and then naturally turned into Eden Park and reached the present.\",\n",
       " 'Put the open blue sea and the blue sky at a glance.Yeongdo\\'s Sky Observatory is located on the Jeol Young Coastal Promenade, which is known for its good scenery.On the day when the weather is sunny, Tsushima, Geoje Island, and Gadeokdo are visible and connected to the 75 square.It is popular as a dating place for lovers because of its translucent skywalk and couples.In accordance with the name of the Sky Observatory, the blue sea and the blue sky can be captured at a glance.The beach below the observation deck has a gravel beach where you can enjoy snorkeling and a beach promenade that takes about 20 minutes round trip, and is connected to the famous white -to -school culture village, which is also famous for the movie \"Lawyer\" location.In particular, it is attracting attention as a sunset spot in Busan, and has a parking lot and a toilet.',\n",
       " \"Myeongji Market is a representative traditional market in Gangseo, a 50 -year -old tradition.Thanks to the regional advantage of the Nakdong River, it is rich in catch and the distribution distance with the mountainous region is good for maintaining the freshness of live fish and more than 120 stores are open.As the `` Fish Festival '', which is the pride of Myongji Market every year, is held every year, it is known as the representative market of Busan, along with Jagalchi Market, International Market, and Can Tin Market.In the fall, the fat is more than three times more fat than spring, and it is more nutritious.At the festival, there are various participating programs such as Pungmuldan performance, music festival, and slicing.\",\n",
       " 'Waterfront parks that can walk while listening to waves.Sinpyeongso Park, a waterside park that can walk while listening to waves on the rock, is a small and small park, but is a rhythmic coastline, reefs, rocks, and red lighthouse.The deck road on the beach is part of Galmet -gil, a promenade representing Busan.In the center of the park, a stomach is stomach.If you turn the silver -colored key, it seems to take me back from the distant sea.There are sperm that you can relax, you can stay with a meal and stay with a cup of coffee, and you can enjoy children with children, high schools, and crabs.',\n",
       " 'New growth engine of Busan Port.The International Cruise Terminal, which opened in April 2007, has a deep depth of 11.8m to ensure that the super -large passenger ships can safely operate, and have convenient services for facilities and customs facilities related to entry and exit.The International Cruise Terminal, managed by Busan Port Corporation, has a building of 2,568.78㎡ with a land area of 26,839.57㎡.The first floor of the building is CIQ (CustomsS), Immigration, and Quarantine, and three facilities that must go through immigration (3 major procedures) and the first floor waiting room.There is a business office, so it can be used conveniently.In addition, the baggage search and duty -free sidewalks are in the annex two -dong.The International Cruise Terminal is becoming a new growth engine for sightseeing from Busan Port.',\n",
       " 'Shopping mall complex market.Yangjeong Market, located in Yangjeong -dong, Busanjin -gu, consists of 282 stores.The first floor store is a furniture department store, the second floor is a free item store with no limitations in the industry, and the 3rd and 4th floors are the first flowers.It is a medium -sized market and a composite market for housing housing that is registered as a market on September 10, 1994.Many people are mostly looking for a flowering store.Open at 8 am and closes at 8 pm.There are many foods such as tempura, bars, and snacks.There are many stores that use Onnuri gift certificates for the convenience of visitors.',\n",
       " \"A place where you can see the history of Busan Port and Customs.The Busan Customs Museum, where you can see the history of Busan Port and Busan Customs at a glance, is a museum opened in the Busan Headquarters in November 2001.Busan Customs is one of Korea's most historical customs, which opened in 1883, five years after the opening of Busan Port, and in the Customs Museum, the resources related to Busan Customs [History]It is composed of four themes of the chapter I · II], and there are more than 1,200 materials in the 217 pyeong museum, and you can see the realistic video promotion through a separate video promotion room.In the], the process of changing in modern Busan is decorated at a glance, and the Busan Port Model, Dongnae Map, and Busan Customs History are on display at the time of opening.In the 2nd Exhibition Hall [Chapter of Understanding], you can see the Chosun Customs Act before and after the liberation, and the panoramic view of Busan Port in 1958.In the 3rd exhibition room [Information III], the 1960s smuggling data and maritime smuggling field magic vision.It is installed.In the 4th Exhibition Hall [Information II], various items such as stuffed animals such as tigers, leather, drug maker, drug sample, and drug concealment model are displayed.Various promotional materials are also on display.\",\n",
       " 'The representative beach of Busan, which is hot with young heat.* Haeundae Beach, the representative beach of Busan, Haeundae Beach.It is 1.5km long, 30 ~ 50m wide, 1m of average depth, and 58,400m3 of the area. It has a wide white sand and beautiful coastline.The first place I think of is Haeundae Beach.In particular, since large and small buildings and luxury hotels are so towering around the coastline, they are famous for their modern and sophisticated beaches, so they are crowded not only in the summer vacation season but also by young heat and foreign tourists.* Various festivals of Haeundae Beach and enjoyable Haeundae Beach are held every year.In addition, the polar bear swimming competition, which is hosted every winter, has already become a representative winter festival.In addition, various big and small events such as sand works and Busan Sea Festival are held.In addition, there are many attractions such as Dongbaek Island, Oryukdo, Aquarium, Yacht Stadium, BEXCO Dalms, and Drive Course around the beach.You can enjoy it.',\n",
       " 'Temple in the city center where you can enjoy the cultural property Yeongsan Holiday.It is a temple belonging to the Korean Buddhist Jogyejong in the left cheon -dong, Dong -gu, Busan.Many people are looking for temples in the city close to Busan Subway Line 1 and Busanjin Station.It is rare to use lanterns in the name of the temple, and it is a deep discomfort since the old days.Unfortunately, there are no records of the creation or maintenance of the lanterns.It is determined through the mouth of.In 1882, Monk Deoksan was commented on Daewoong, Samsung, and Yo -chae, and called it a lantern.There are tanks such as the statue of the Gwaneum Bodhisattva, the Stone Jizo Bodhisattva, as well as Jizo Tang, Shinjung Tang, Chilsung Tang, and Yeondeungsang Sangsangdo, which is designated as a cultural property material for Busan Metropolitan City.In addition, you can see two stone pagoda and two stone pagoda as the same as one point.',\n",
       " 'Traditional temple located at the foot of Gudeoksan.Naewonjeongsa was designated as a traditional temple in Busan as a temple in the city center.The current governor was founded in 1973.After the founding of the foundation, the first immortality has been created for about 16,500㎡ [5,000 pyeong] for more than 10 years until 1983.In 1985, the Buddhist kindergarten was established as the second immortality.Each year, 600 students are produced every year.Also, in 1990, the company built a 3rd immortality.Naewon Jungsa Temple is a lawyer to accommodate increasing believers, and a modern system for the modernization and rationalization of temples.] There is.Naewon Jeongsa Temple, which was designated as a tangible cultural property of Busan on December 21, 2000, is the seven books of 7 books published in 1632 (Art. 10) and 1649 (Art. 27) Yangsan Tongdosa.It is an important resource for revealing the publication history of numerous seedlings Yeonhwagyeong, which is clearly published as a woodblock of 14 books, including 7 books and three books published in (度).',\n",
       " 'Three Kingdoms History Museum.The Articles of Incorporation Museum was built as a preservation plan for the 4th -5th century ruins and artifacts, including 150 Three Kingdoms House, 73 warehouses, 1 kiln, and 18 tombs, which were investigated during the creation of the Articles of Incorporation.It is a museum that reproduces the appearance of the time.The ruins of Jeonggwan -eup, Cheonggang, Daerari, Gijang -eup, and Cheolma -myeon Gochon ruins exhibited the relics of the Three Kingdoms of the Three Kingdoms, and lived the life of the Three Kingdoms era.I did it.In addition, special planning exhibitions and educational programs provide visitors with various attractions and experiences related to historical culture.',\n",
       " \"Cheon Tae -jong's representative temple and the most high -ranking temple.It is Cheon Tae -jong Temple in Choeup -dong, Busanjin -gu, Busan, and was founded in 1986.Samgwangsa Temple, which is located at the foot of Mt.In addition to the Buddhist Monnie, Guan Yin Bodhisattva, Bodhisattva, and Sangwolwon -gak Injury, more than 10,000 people entered the Supreme Court, Legal Hwa Sammae -dangIt is composed of Daebo Pagoda and Jijangjeon on the 9th floor, 8th Syonbul, 8th, and is the place where Buddhism's modernization, globalization, and popularization are leading in the proper harmony of modern and old traditions.With the proof of the Sangwolwon University investigations, the regular law meeting on the 1st and 2nd month, as well as Samkwang Hangul School, Samgwang Korean Literature School, Samgwangsa Located Gwangmyeong KindergartenIt is held at home and abroad, including photographic exhibitions, Seohwajeon, and invited theater performances, and the number of Shinto is the most common temple in Korea.The 9th floor of Dabo Pagoda, 53 Zonebul 8, which was naked in 1997, is the largest stone pagoda in the Orient with a total height of 14.55m (48 ships) and a total height of 30m..\",\n",
       " 'An exhibition hall that displays materials related to marine life and marine natural history.The Busan Maritime Natural History Museum recognizes the importance of the ocean and collects, preserves, exhibits, and teaches the disappearing precious marine natural history data.The Busan Maritime Natural History Museum, which opened on June 10, 1994, is a specialized museum in the largest and largest marine natural history in Korea.It is collected and exhibited, and many of the collections are international in terms of exhibition value and rare.In April 2003, the second exhibition hall was opened, and the Busan Fish Village Folk Museum was opened on February 23, 2007.The big species, Arafama, the full one of the months, the full fish, the full fish that lives in the sea, the shoulder fossils of the most perfect mesozoic dinosaurs among the dinosaur bone fossils found in Korea.It is housed with a large growing water lizard, a large species, and a crocodile turtle with a very rough and strong teeth, and a third -largest daughter -in -law turtle in the world.',\n",
       " 'The tombs were founded as a practice since they were founded by Unbong Shipbuilding in 1943.It was founded as a part of the Japanese colonial period to institutionalize rebirth in a dark and unhappy time.If you climb the staircase, you will see the 8th floor and Daeungjeon.It is said that it was built in the captain of the Kori Nuclear Power Plant in 2012 in the wooden pagoda on the 9th floor of Hwangryongsa with the hope of peace and safety.It contains the desire to stop the vicious cycle of the peaceful use of nuclear power, the injustice of the individual, and the absurdity of society.In addition, there are tanks and Buddhists designated as Busan Metropolitan City Cultural Heritage, but are not disclosed.',\n",
       " \"Busan branch of Korean Buddhist Jogyejong Songgwangsa.The Gwaneumsa Temple, located in the city center, is a Busan branch of Songgwangsa Temple of Korean Buddhism.On May 1, 1940, a series of monks were built and missioned by a small film called Gwaneumsa on May 1, 1940.Afterwards, he built Yo -chae, sponsored the court, and expanded the capacity, and registered as a Busan branch of Seunggwangsa in 1984.In addition, Gwaneumsa holds `` Tomb Law Yeonhwagyeong '' designated as Busan Metropolitan City Cultural Heritage Data No. 60.It is a Buddhist and bibliographic cultural property that provides important data for the study of Joseon Electric Buddhism and bibliography, and is widely known as a representative of Buddhism.(Source: Naver Encyclopedia Dictionary)\",\n",
       " 'A temple that blends with the beautiful sea scenery.Haedong Mint in Gijang -gun, Busan, is a temple founded in 2000 and is equipped with a mountain sinsin in the form of Daeungjeon, Jigjangjeon, Yosachae and cave.The monk Wooam has completed the Bumum Bumpa (梵 唄), which offers sounds to lead the succession of Korean traditional Buddhism, and has been conveying the teachings of Buddhism.The Bumum Bum Pack, which conveys the word of Buddha by sound, is a unique Korean Buddhist music that comes from mouth to mouth.Located near the beach, it is known as snorkeling, seaweed, or open camping site, but in reality, it is prohibited from installing or installing tents.',\n",
       " 'Lee Joong -seop, a genius painter who depicts the landscape of Beomil -dong.Lee Joong -seop was born in the plains of Pyongan -do in 1916 and became an art teacher at the Wonsan Normal School the following year, when he studied in Japan in 1937.After the Korean War, Lee Joong -seop descends to Busan with his wife and two sons.He lived in Uam -dong Pyranian camp and worked in a dock, and in 1951 he went to Jeju Island with his family.In December of that year, he returned to Busan and built a shack near the Bumil -dong Return Village Village Substation.Because of the extreme life, Lee Jung -seop and Masako had no choice but to break up.In 1952, Masako returned to Japan with a friendly son with a malnutrition.After leaving the family, Lee left alone in Busan and worked as a voodoo worker during the day and lonely at night, but the passion for painting did not disappear.He fought the pubs of Mildawon, Geumgang Cafe, and Dockside Milawon in Gwangbok -dong and shared intimate intersection with Piranon artists to Busan.Although he was a poor painter who solved the meal by drawing a picture in the cigarette pack, he created a masterpiece called Bumil -dong.In the double -seop street, which is built around 553beon -gil, Bumil -dong, his hard life and fierce art world spread out like a panoramic.At the end of the 100 steps, you can read the desperate letter from Lee Joong -seop to his wife Masako at that time.',\n",
       " 'It was the first Japanese temple.Dangaksa Temple is a temple in the city center of Busan, and started as a Busan Byeol -dong, the headquarters of Dongwonjong, Japan.Dongwon Headquarters Busan Byeolwon is a piety of Japanese Buddhism in Japanese Buddhism.After the liberation, Dongbonsa Busan Byeolwon was attributed to the Korean government, and when the government was disposed of property in the government, the land and building of the temple was auctioned as a Gyeongnam Buddhist servant, and was established as a new Korean temple by the founder.It is currently diagonal.The relics before the founding are only Beomjong and Stone Lights, and Daeungjeon or Jinshin Sarita Tower was later built.The current Daeungjeon is a reinforced concrete structure of a special architectural method without intermediate pillars.',\n",
       " \"The temple is located in the Myeongdang of Geumgye Poran.In Myeongji -dong, Busan, there is Cheongnyangsa in the shape of a golden chicken in the form of a golden chicken.Cheongnyangsa, which is located in the place where it is one of the best Myeongdang Myeongdang, is derived from the village's guardian rookie [Dangsan Grandmother].I'm losing.At the place where Dangsan was located, the monk of Jang Yu -am, the governor of the nearby Gimhae nearby, was said to have been built three years later.Cheongnyangsa was called the early Jang Yuam church, and was then renamed as a Yeon -gu, which is named after the appearance of a lotus as if the lotus is floating..Later, in 1959, Hong Kyung -sheng, a pillar of Korean Buddhism, was commented on the origin of the villagers who wanted to be clear in the rainy season, and it was called Cheongnyangsa in 1961.\",\n",
       " 'Observatory where you can see the landscape of the Nakdong River to meet the clear sea.Overlooking the Nakdong River and the Sea, the Amisan Observatory is composed of three floors of the first floor guide desk, seminar room, second floor exhibition hall, 3rd floor indoor observatory and cafeteria.It is a place where you can feel the cool wind, intuition of golden falling, and see the landscape of the Nakdong River to meet the clear sea.',\n",
       " 'A place where you can see the beautiful city at a glance.Hwangnyeongsan Mountain, where the Hwangnyeongsan Observatory is located, is located in Busan (Busanjin -gu, Yeonje -gu, Suyeong -gu, Nam -gu), and it is popular as a long drive course with cherry blossoms on both sides.It also has the best conditions for night tourism by leading to the Hwangyeongsan Observatory.The colorful transmission tower and the cozy light that reveals the observatory makes the city more beautiful.',\n",
       " \"Where there is a lot of merchants.Gamman -dong traditional market consists of 170 stores located in Gamman -dong, Nam -gu, Busan.This is a medium -sized market and a complex market for residential housing.It sells fresh agricultural and marine products and clothing and opens at 8:00 in the morning and closes at 8 pm.Each shop has a different day off, so it's hard to know the exact period of regular holidays.The long -lined house on both sides of the alley is filled with fresh fish, fruits and vegetables, and the heart of the generous merchants who can buy things is a bonus.\",\n",
       " 'A scenic coastal walkway with many things to see.It is a 3km coastal walkway along the coastline below Bongrae Mountain, west of Yeongdo.Originally, the terrain was steep and tough, so it was difficult to access, but in 2001, the walkway was opened in 2001 as part of the public working project to satisfy the tourism needs of citizens.There are various attractions on the scenic jeokyoung coastal promenade, such as Jangseung, stone tower, boat playground, wide sea on the right side of the promenade, and various mosaic tile patterns of walls.In 2014, it was selected as the five major coastal routes of Korea, selected by the Ministry of Land, Transport and Maritime Affairs, and was also selected in Busan in 2021.',\n",
       " \"From the summit, you can see the city of Busan at a glance.Bongrae Mountain is a mountain located in the center of Yeongdo.Bongrae Mountain is a conical mountain in the mountains, showing the characteristic of the old age.There are three peaks in Jobong, Jabong, and Sonbong, and the slopes are steep.At the top of the mountain is a grandmother's body, a grandmother's body, with [Bongrae Mountain Yeongdo Grandmother Legend].According to this, Bongrae Mountain has a “Youngdo Grandma” that keeps the residents peaceful.At the summit, you can see the city of Busan, such as Jung -gu, Seo -gu, and Haeundae -gu at a glance.The surrounding tourist destinations include Bokcheonsa Temple, National Maritime Museum, and Yeongdo Chogi Sweet Potato History Memorial Hall.\",\n",
       " 'Busan Public Arboretum is a good picnic with family.Hwamyeong Arboretum, which was opened as the first public arboretum in Busan in 2011, can be seen at a glance at the foot of Geumjeongsan Mountain.It is a place full of green smells, where you can heal in nature anytime.In the Arboretum, Daecheoncheon is cool, and it feels cool, and everyday worries and stress are going down along the valley water.If you go along the forest path, there is a greenhouse, so it is full of lemon, cactus, and palm trees.The zoo lives with goose, goats, turkey, goats and rabbit chickens.There is no stall, so if you bring a lunch box at home, you can picnic in a deep forest with your family.',\n",
       " 'Efforts to build a cluster in Northeast Asia.On September 18, 2008, the first and largest public seafood wholesale market, opened in Gamcheon Port, an international fishery distribution and logistics center, is a wholesale market with a total floor area of 71,587m2, including 25,000 m/t storage capacity and freezing.It consists of seven buildings, including refrigerated and frozen warehouses with low ice and ice, and large -scale docks that can be simultaneously docked by two 20,000 tons of 20,000 tons.In addition, it is equipped with modern high -tech facilities such as automation of logistics and computerization of transactions, and a prompt and safe operating system is built to supply safe fishery products by reducing logistics costs and hygienic treatment.',\n",
       " \"Observatory is a beautiful light that reveals the city.The Yeongju Sky Sky Observatory Observation Deck was created as part of the “Walking Walking Trail Project” and is one of the night views among Busan citizens.There is a promenade that connects the central park nearby, so it is a great place to walk with a family or dog at night.When you arrive at the Yeongju Sky Snow Observatory, there is a unique sculpture. You can see the characteristics of Busan, which combines the sea, mountains, and cities, in a sculpture tile, 'Sky Eyes overlooking Busan', and the light that reveals the city is like a starlight.The night landscape is even better.\",\n",
       " 'A coma that has more than 100 years of history, a specialized traditional market for fabric.Busanjin Market is famous for its coma and specialized fabrics, and is considered to be the three largest markets nationwide along with Seoul Dongdaemun Market and Daegu Seomun Market.There are more than 1,350 stores that sell as many items and vast kinds of products that are no less than department stores.It started as a permanent market in September 1913, and launched a market prosperity in October 1930.In March 1968, the current Busanjin Market building was started, and the following year, it was transformed into a modernized building on the 2nd basement and 3rd floor.It is open and has many items.In particular, there are more than 600 coma and fabric goods stores, which is a market for Gyeongnam and nationwide wholesalers.It has a separate parking building that can park 1,000 cars.',\n",
       " 'A place where you can meet the beautiful silver silver waves.Seunghaksan is 496m above sea level, and is the back mountain of Dangri -dong to the west of Gudeoksan and the reagent mountain.Saha -gu and Sasang -gu are divided into the summit of Seunghaksan.Seunghak Mountain has a legend that the Ambassador to Goryeo is around the country and watches the mountain.It is a famous place for hikers due to the white rice of the autumn mountain, and the main attractions of Seunghaksan are the pampas grass villages, Jeseokgol forest parks, cypress forests, cedar meditation forests, meteorological stations, and waters (8 places)There are 14 sports facilities, 5 toilets, 4 air guns, 5 observatory decks, 1 stage facility, and 3.38km.The mountaineering course from Gudeoksan to Gubongsan to Jungjeongsan is a good hiking course where you can see downtown Busan at a glance.',\n",
       " \"Multimedia history education for Chosun telecommunications history.Diplomatic envoys dispatched to the Japanese shogunate in Joseon are called Chosun telecommunications.'Communication ()' means 'sharing faith'.Exchange through Chosun Telecommunications is a symbol of the peace and Sunlin friendship of Joseon and Japan based on trust.The Chosun Communications Museum of Telecommunications is a field of historical education to make it easy and fun for anyone who has been dispatched to Japan 12 times from 1607 to 1811 after the Imjin War.It provides opportunities to communicate with history with various exhibition contents and full programs using state -of -the -art multimedia technology.\",\n",
       " 'The center of ecotourism ecological tourism in Nakdong River.Eulsukdo Park consists of Eulsukdo Migratory Bird Park and Eulsukdo Ecological Park at the bottom of the lower part.Eulsukdo Migratory Bird Park is located at the bottom of Eulsukdo in the Cultural Property Protection Zone (Natural Monument-Nakdong River Migratory Bird).In the past, Eulsukdo was used as a cultivated land, manure treatment plant, garbage landfill, and dredged soil.Wetland expansion improvement projects to improve function have been promoted to complete the current wetlands.Eulsukdo Migratory Bird Park plays the role of the central area of the migratory birds and the Nakdong River -gu ecotourism, especially in the restored wetlands, and many migratory birds in winter.At the Nakdong River Estuary Eco Center, you can hear and comment on plants, booklaws, fish, birds, and mammals that live in various information and estuarys of Nakdong River -gu.The Wildlife Treatment Center, which belongs to the Eco Center, plays an important role as a rescue, treatment, and rehabilitation of injured wildlife, and the Nakdong River Exploration Experience Center can enhance the understanding of the Nakdong River and the ecosystem through various educational activities.there is.Eulsuk -do Ecological Park is a park located at the top of Eulsuk -do.The upper part of Eulsukdo, which was used as the Nakdong Gangjun Seoltochi, was established as an ecological park.',\n",
       " \"Bulguksa Temple is located at the foot of Mt. Busan.Okjeongsa Temple is a temple rebuilt in 1907 by the monk Park Phang -hae, where only the temple was founded in the first year of the Constitution (1835).Daluman is famous as the first mountain in Korea.At that time, Park Poo -hae made small thatched houses and crypts on the old temple site, which was received by a village friend.Since then, it has been expanded and renovated, and in 1994, Sri Lanka was held in Sri Lanka and held the Buddha's truth and held on the 3rd floor stone pagoda.In 2020, Gijang -gun created a cypress forest perimeter near Okjeongsa to create a healing space such as a promenade and shelter in the forest to help visitors heal.\",\n",
       " 'Beautiful forest trails and barefoot ocher forest roads.The Dulle -gil of Mt.The ocher forest path is made over 1.7km, so if you walk relaxed, you can complete it in about 30 minutes.On the ocher forest path where you can enjoy the cold texture of the ocher that touches the dense cypress forests, you can walk through the trails and wooden deck promenades in the forest.The Ecological Forest of Mt.Walking on the ocher forest path with bare feet is said to have various effects such as improving blood circulation, improving digestion, improving memory, and preventing insomnia.',\n",
       " \"※ Weekdays are operated by group reservations (20 or more), and 1 week before the reservation, Busan Gyeong -ryong Industrial Complex made a 'disaster safety experience center' using 854㎡ of idle space on the basement of the tennis center court on the 15th.The disaster safety experience center is divided into disaster experience facilities (earthquake experience halls, smoke experience halls, fire extinguishing experience halls, emergency experience halls) and educational exhibition facilities (Orientation Hall, Disaster History Exhibition, and Life Safety Exhibition Hall)The experience hall is a space of the experience center, and 12 volunteers of former firefighters will provide guidance and explanation of disasters and safety.Video learning about types will be learned through videos on various accidents such as natural disasters such as typhoon flood tsunami forest fires and accidents such as fire explosion.You can learn.The terrible disasters of the Sichuan Earthquake, Gupo Train Abalone Accident, Sampoong Department Store collapse, 911 terror, and Daegu subway fire accidents can be held with on -site photos.You can be familiar with it, and you can experience CPR through 'Doll' for CPR.You can also guide the professional instructor to be a vivid experience, and you can also learn how to prepare for emergency situations such as when the legs are broken when the fire is broken.* Acting Experience Center made the same situation as a fire site, and then learned how to find out and escape.The interior of the experience hall is made in the form of a small maze, and when the fire is turned off, all the lamps are turned off and the smoke emitted from the smoke generator fills the maze, the visitors can find and evacuate the exit along the evacuation lights..* It is a space where you can learn how to prevent safety accidents that may occur commonly in the daily life space for life safety.You can learn the types and contrast of thinking.If you reproduce the fire site on the screen on the screen, you can directly operate the fire extinguisher where the water is fired instead of the powder.The digestive period is to be fired only when the safety pin is pulled out like the actual powder fire extinguisher.It is configured to directly enter the kitchen in the space where the kitchen is shaped up and down, and to experience the earthquake that shakes up and down for about one minute, and to learn how to behave in the event of an earthquake.\",\n",
       " 'Beautiful temples with many flowers in all seasons.Eunjinsa, located near Jangancheon, Jangan -eup, is a temple full of 3,000 wildflowers, landscape paintings, and lotus flowers.Eunjinsa is not large, but there are a lot of beautiful flowers while staying.In the summer, orange jacules are welcomed, and the pond in front of the dragon king, where the gods and water protect the sea, are full of carp, and hydrangeas and Macmundong are welcomed.There is also a bodhisattva that symbolizes mercy and blessing with a bag of burns and a smile.Although it is not a large temple, it is well equipped with cute temples such as the Cave Supreme Court, the Social Federation, Pharmacy Buddhism, Sanshinjeon, Jijangjeon, Gwaneumjeon, Gongyangjeon, and Yantang, and there are many attractions such as ponds and waterfalls.',\n",
       " 'It is a complex market for a shopping mall located in Yongho -dong, Nam -gu, Busan.Since then, the merchant association has been formed and registered as a Yongho 2 -dong alley market.In 1973, the Yongho 2 -dong alley market was opened, and in September 2009, it was recognized as a traditional market.It is a mall complex market.The total number of stores is 138, and agricultural, water and livestock products are traded.For convenience, the traditional market Onnuri gift certificate is affiliated.',\n",
       " 'Temple in the city center during the Japanese colonial period.Mystery was founded in 1888 under the name Daeseongsa in Toysung -dong, West.Since 1912, the Japanese colonial period, he has served as Lim Je -jong.The Japanese were sold to Christians after the liberation, and some Shinto moved the Seongbo to the present temple at that time, and by the 1960s, the Kannon Bodhisattva statue, Jizo Bodhisattva statue, and Jonggak were brought back to the tombs.did.Mystery is a temple in the city center located on the Sanbokdo road of Dong -gu, Dong -gu, where Busan Port is at a glance.There are Daeungjeon, Samsung angle, and Jonggak on the grounds.Daeungjeon is a hollow roof of 5 squares on the front and 3 squares on the side.In Daeungjeon, the statue of the Buddha, the Guan Yin Bodhisattva, and the Great Bodhisattva are neglected.In addition, there are Jijang Shi Royal and Prudence, which were produced in 1946.A jiza bodhisattva, which is surrounded by glass protection angle next to Daeungjeon stands with a dong.Later, Samsung is located on the stairs.In each Samsung, there is a stone statue of 30cm in height that appears to be made in Chilseongdo, Sanshindo and modern times.Next to the Bodhisattva Award, there is a modern yo -chae of ‘ㄱ’.',\n",
       " 'Nature -friendly space for local people in the city.Oncheoncheon Citizen Park was established by establishing a natural river creation project from 1997 to 2005 to maintain the devastated hot spring streams of Yeonje -gu Yeonsan -dong as a river close to nature and contribute to the cultivation of emotions of citizens.Plant scenery, lighting and benches, and fitness facilities were established.The park is classified into three sections of natural hydrophilic space, nature learning center, and cultural sports facilities, and provides hot spring streams as a second living space to the basin residents.Onsencheon Citizens Park was officially opened in 2005, and continued to renovate and repair.',\n",
       " 'Fantastic coastal scenery and Korea Strait at a glance.At the end of the Cretaceous, the sedimentary layer accumulated at the lake is a coastal landscape that represents Busan, famous for its rock coasts such as the land, seafood, and coastal caves made by rising sea levels.The trail course leading to coastal plant ecological courses, Taejongdae Observatory, and Yeongdo Maritime Culture Space, which combines various geological records such as the false hornfels, slumps, trees, faults, and bouquets, and scenery such as mysterious natural rock murals and gravel yards.(Source: Busan National Geopark)',\n",
       " 'A place where you can see the beautiful scenery of Cheongsapo.Opened on September 17, 2017.The Cheongsapo Darthdol Observatory, which is located in the middle of the East Sea Nambu Line, which runs from Mipo to Songjeong, is 72.5m long at 20m high from sea level and extends to the sea and is 3 ~ 11.5m wide.The project cost was 4.3 billion won.At the end of the observation deck, you can feel the breathtaking walking on the sea by installing a half -moon -shaped transparent floor.Looking at the five reefs, which are neatly lined up from the observation deck to the maritime lighthouse, you can enjoy the beautiful coastal landscape, sunrise, and the natural scenery of the Cheongsapo. [Source: Haeundae -gu Office Cultural Tour',\n",
       " 'It was established to promote the technology and convenience of the connection between Busan-Geoje and is located in Gadeokdo Marine Park (rest area) in Gadeokdo.You can see the construction process of Gaduk Undersea Tunnel, which is built at 48m in Korea, and the construction of the president, which has an excellent landscape.The first floor has an exhibition hall on the project introduction and construction process, and the second floor is a customer resting place to enjoy the South Sea and Geoga Bridge.When booking a tour of the exhibition hall, you can see the exhibition hall along with the explanation of the professional public relations personnel.',\n",
       " \"Busan's representative traditional wholesale market.Located in Bumil -dong, the center of Busan, the free market is a traditional wholesale market that can represent Busan.It is also sold to general consumers at wholesale prices, so anyone can buy the products needed at low prices.There are more than 1,000 stores in large and small stores in about 10,000 pyeong on the 5th floor of the ground.The shoe store on the first floor is one of the first hands in Busan, and the free market shoe wholesale is widely known nationwide.The second floor store is a wide range of stores who sell all kinds of men's and women's clothing, hanbok, coma blanket, men and women, Meriyas, and socks.The third floor is a flower, harmony, egg, wreath, flower basket, and other household ornaments.In addition, we are always welcoming guests as a wholesale price for daily life such as bowls, electronics and electrical products.In order to provide customers with the convenience of visiting the free market, the size of the parking lot and the rooftop parking lot can be parked at the west parking lot and the rooftop parking lot.\",\n",
       " \"Haegwangsa is a small and simple temple located in front of the Orang University on the Beach.It contains the meaning of 'sea', which means that the word of Buddha is as wide and deep as the sea, and the light of light that reveals the path of rebirth.It is said that the monk Kim Mok -am was founded more than 100 years ago.It was the history of the temple that made the wooden Buddha statue lifting from the sea, and the preservation of wooden Buddha statues that had been submerged in the sea water was not properly.The captain is originally a place that can be exiled in Hanyang (Seoul), so many stories related to exile are hidden.In particular, the story is said that Gosan Yunseon -do was drunk in the midst of the blue sea and the sans.The dragon king standing on the sea is especially famous.\",\n",
       " \"Citizen resting space where art is alive.Gudeok Culture Park, located in Seodain -dong, Seo -gu, Busan, is located in Gudeoksan Forest.It is a natural ecological culture space with various exhibition halls such as Busan Traditional Culture Experience Center, Folk Dormitory, Education History Museum, Dakjongi Craft Exhibition Hall, and Mokseokwon Prize.In particular, the cypress forest is a great place to meditate, and if you take more than four visits after using a variety of spaces in the cultural park, you will be giving a gift from the management room.In addition, the outdoor art museum is also operated, and the Busan public art project 'Uri -dong Art' is being conducted, and the unique art works of local artists are installed throughout the place, adding to the meaning of the citizen's resting place where culture and art live.\",\n",
       " 'A temple that conveys the teachings of the ministry.Transportation is a temple located in Mt. Baeyangsan, Sasang -gu, Busan.Originally called Shinsuam, it was said to have been converted into transportation before the 18th century.Garam was burned down due to the Imjin War, and in 1660, the current Daeungjeon was heavy.Currently, the Lausa Temple is located in Daeungjeon, with Samsung and Yongwanggaks, and Shim Gumdang and Sejin Party are located.In the transport, the cultural ruins such as Daeungjeon, which is designated as a treasure, Daewoongjeon Sukjo Sukjo, and Amita Samjon Island, a cultural property data, are preserved.It operates a temple stay where you can experience Buddhism, ruins, and tea steaming, and Buddhist universities that convey the teachings of the Buddha to the believers and the general public.',\n",
       " \"Considered by Ambassador Wonhyo at the foot of Bulgwangsan.Jangan is a consideration at the foot of Bulgwangsan (659m).Ambassador Wonhyo was founded, called Ssanggyesa, and was called Jangansa in 809.The history of the Goryeo Dynasty was not clear, and it was rebuilt in 1638 that it was burned by the Imjin War in 1592.There are a total of 10 points in Busan's designated tangible cultural property, Busan -si designated monuments, and Busan -designated folk data on the grounds.Nearby tourist destinations include the Fisheries Science Museum, Haedong Yonggungsa Temple, and Kori Nuclear Power Plant Exhibition Hall.\",\n",
       " 'Jasung University Park is located in Busan Jinseongseong.In Bumil -dong, Dong -gu, Busan, there is Busan Jinseong, a local monument.Busan Jinseong, which is commonly called by magneticity, is a place where the dwarf torn down the Busan Castle during the Imjin War, and the Japanese style of the castle in the southeastern part of the castle.After the enemy retreated, the Ming Dynasty of the Ming Dynasty was also a pearl, and it was also called Mangongdae.After the Imjin War, it contracted again and was used as the camp of the left -handed ritual.According to the record, the castle was placed along the mountain of the east and west, and the castle was dragged into the waters, and the trenches were about 20 meters wide, so that the ship was directly touched by the wall.The current appearance of this castle is a purification restoration work in Busan from July 8, 1974 to February 25, 1975, and the alumni, preface, and poles are newly built to oscillate the alumni, the preface gate, the gate, the gate,Each was named and the amount was added.At this time, with Gongchunmun, Geumru -gwan, and Jinnam University, which were newly built by purification work, there were two Japanese walls of Japanese -style Japanese walls that were built during the Imjin War.And in September 1975, the castle was built around the East Gate, and now the Geumru Pavilion in the preface is standing tall, and on the left side of the door, there is a pillar of the southern Yo -hu, and on the right side of the door, the pillar of the gate is stable.',\n",
       " 'Careful beach with pebble.The detection beach next to Busan Taejongdae is a cute beach with 270m long and 40m wide and a pebble that is hard to see in Busan.The beautiful scenery and the sunset on the sea are beautiful and are spotlighted as a view point.It is about 30 minutes away from the city center, so it is accessible.It is also a place that is loved by the divers who come to enjoy skin scuba diving because there are many diving points.The detection beach promenade, which is made up of about 3km along the coastline of the detection beach, is so quiet that it is not too hard to accompany children, and the wildcho flower garden is a good place to be a natural learning center for youth.After a walk, it is a course that should not be missed with fresh grilled clams full of sea smells in the parking lot of Taejongdae Amusement Park.',\n",
       " 'A famous spot of Gadeokdo full of sights.Located in the south of Busan, the opposition dock is located in Gadeokdo, the largest island in Busan.It is close to the South Sea and several mountains, so you can also trek with 5-2 courses in Busan Olle-gil.The Daehang -dong area near Daehang Dock has built and stationed military fortresses for 41 years from the Russo -Japanese War (1904) to the Pacific War.The artificial cave, which Japanese troops forcibly recruited Koreans, were currently developed as tourist resources, but there are traces of painful history during the Japanese colonial period.When the mullet festival is held around the Gadeokdo Port, a demonstration of the 160 -year -old traditional traditional fisherman, the only traditional traditional fishery, is held.Nearby, there are Yeonbong Peak, Jeonggun Village, and Saegie Port.',\n",
       " \"Baeksan Ahn Hee -je's footsteps of the anti -Japanese independence movement.If you descend the stairs from Yongdusan Park, the Baeksan Memorial Hall is located in the former Baeksan Sanghoe.Baeksan Ahn Hee -je (1885 ~ 1943) came to Korea in China and came to Korea in 1914 and set up a trade company, the first Korean trade company, as a national capital, and made a trading business in Busan where Japanese capital came in.It was prepared and used as an important base for the domestic anti -Japanese independence movement.The Baeksan Memorial Hall is exhibited in more than 80 pieces, including the teacher's relics and the old Korean movement, and the bust of Baeksan teacher is built in the nearby Yongdusan Park.\",\n",
       " 'A beautiful place where fresh footsteps live.Sinseondae is a place where the coast of volcanic rock was formed by the erosion of the waves, and the name is derived from the theory that there is a footsteps of white horses on the large rock of the mountain peaks.It was a place where the scenery was excellent enough to be said to have been heard that the sound of freshness was played.The first meeting fee is built.In 1972, it was designated as a designated cultural property monument No. 29 in Busan.There is also a small number of small plants such as untitled.',\n",
       " 'The surrounding landscape is beautiful and suitable for performing.Yeongjuam is a horse of the 14th parish headquarters of the Korean Buddhistjojo, located in Baesan, Suyeong -gu, Busan, and is located at the foot of Baesan located in the center of Busan.It was founded in 1540, and at the time of its founding, it was called a toreis as a crypt, but in 1940, the landscape of the surrounding area was so beautiful that it was suitable for the freshness of Chinese tales.It is named Yeongjuam ().In 1972, the monk and Bumsan monk were in mid -term, and at that time, there was only one in the small human codes.Yeongjuam is an active temple in Buddhist popularization and social welfare projects.Bulguk Land, a Buddhist history welfare corporation, is established to carry out various welfare projects, and Comnet House, which helps people with disabilities,, Senior nursing homes, Sangrak Jeongbae Silverville, Gaeum Geum Social Welfare Center, Yangjeong Youth Training CenterIt operates a welfare facility of, Yeongjuam is composed of Daeungjeon, Cylindrical Conservation, Hwa -gwon (Seungbang), and Samsung.It is a two -story Dapo -based eight -roofed roof building, and the lower floor is used as a temple and a commodity, and the up floor is used as a court.In the Buddhist Buddhism, there is a statue of Geumdong -seok and Kannon Bodhisattva.',\n",
       " 'A park that allows a short rest of the tired heart in the city.Gaya Park is also called the Gaya Walk Park, and it is also called Seo Se -Park Park because it has lived in the vicinity.It is a park that allows you to rest and fit your health by installing various convenience facilities such as promenades, fitness facilities, and benches.On March 1, 2001, General Lee Jong -moo, Tsushima Island, is a monument.It is 2.5m in height and 59cm in width of the podium.At the bottom, there is an article engraved with the words, “Dokdo is our land and Tsushima is Korean land.”',\n",
       " \"Busan's representative traditional market.The Busan Dawn Market, which was formed by Busan Market and Chungmu -dong Dawn Market Merchants in 1982 as a representative traditional market in Gamjeon -dong, Sasang -gu, Busan, is a specialized market for agricultural products.Since 2004, it has been carrying out facility modernization projects such as maintaining facilities through modernization and installing parking lots, and 12,590㎡, building area with 12 floors and one parking lot building.The number of stores is 14,421㎡ and the number of stores is 8,003㎡ and the number of stores is 320.The main items are the comprehensive markets that are handled in various ways, including vegetables, fruits, dried fish, groceries, and miscellaneous goods.\",\n",
       " \"Simple temple located at the foot of daylight.* Wolmyeongsa * Wolmyeongsa is located at the foot of Ilgwangsan -myeon, Gijang -gun, Busan.The head begins with Samdeok Village, a community village of Hansen's disease.In Busan, you can follow National Highway No. 14 (Ulsan) through Balong -dong, enter the cabinet and daylight, or pass through the city center of Busan, and then go through the scenic Haeundae to Songjeong, Captain, and Sungwang -myeon.The daylight, just behind the sunlight sea, and sitting like a folding screen, Sunwangsan is especially beautiful because it is especially beautiful.In 15 minutes, the trees that stretch out towards the sky and the annual green leaves are at the sun mine that surrounds them everywhere.Sungwangsan, which has a generous nature in every goal and has a generous nature, is a mountain in the nearby suburbs of the city, which keeps the cool primitive nature even with the city.If you go back a few flat trails from the center of the city, the people are broken and the trees are dense, and the trees are dense, and the silence of the mountain is conveyed.It is an unknown Taegojong temple where you can find cute and tall surfaces everywhere in the grounds.According to the previous theory, it has been a prayer that has been given a Buddhist statue since ancient times, but at present, it is known only as the execution of the monk of Kim Beom -sung of Beomsa Temple in 1882 (Gojong 19 years).The long -lasting water that rises from the spring is known as a medicine through the mouths of the villagers, and Buddhist artists who are acquainted with Wolmyeongsa are working here.It is good to see.Since the sun of sun mine and the moon of the moonmyeongsa are harmonized, Wolmyeongsa, which is sitting as it is not against the flow of nature, is used as a shelter for climbers who use the steep walking courses that do not have many believers but are not steep or steep starting from the grounds.It is often done.\",\n",
       " 'Geumjeongsanseong is the largest in Korea.Geumjeongsanseong (private) is built along the ridge and valley at the top of Geumjeongsan Mountain, which is 801m above sea level.It is 18,845m in circumference, the largest acid in Korea.It was written in the literature that was accumulated between 1701 and 1703, Sukjong.In 1707, Dongnae adverbs had a wide castle, so they built a neutrality divided into two districts and supplemented facilities such as pole and military high schools.In 1806, Dongnae -si, Oh Han -won, re -repaired the castle and built a new alumni, and made a new door (an attic built on the outside of the gate) in the preface, south gate, and north gate, and deployed a defensive army.In the mountain village, acid makgeolli, Korea Folk Makgeolli No. 1, is produced.To get to Geumjeongsan Fortress, you can use your car or use a public bus.You can use bus 203 in Geumjeong -gu, bus No. 1 in Buk -gu, and bus 90 in Beomsa Temple.',\n",
       " 'Jangsan with Marine City and Gwangan Bridge.Jangsan, which is towering over the sea of the South Sea from the city center of Busan, has a wide range of climbing courses.Haeundae Marine City and Gwangan Bridge are viewed.It is a mountain made of volcanic ash, lava, and chlorine, which is erupied by volcanic activity, and it is a great place where you can enjoy the outstanding coastal city landscape with magnificent terrain such as a variety of volcanic rocks, Jangsan Falls, and Doldong.The residual structure is a volcanic trace, which has high academic value in studying volcanic activists in the southeastern Korean peninsula.In particular, at the foot of Jangsan, there is an observation of rock streams that have long stretched along the slope of the volcanic rock rock.It is divided into nine stems, and it is a famous spot where you can enjoy the scenery of the Namhae and East Sea through the “Re -Song Dugil -gil” that connects each rock.',\n",
       " \"The ship sailing as a sea of science, Busan National Science Museum.The Busan National Science Museum, located in the Oshiria Tourism Complex (Gijang -gun, Busan), has exceeded 5 million cumulative visitors since its opening in December 2015, with an average of 1 million visitors, about 100,000 participants, and a scientific thinking powerIt is playing a role as a base organization for the spread of the science culture of the Southeast Southeast area that contributes to Hamyang.In the Busan National Science Museum, the science and technology of local industries such as automobiles, aerospace, ship, energy, and medical science are more than 90% of the science and technology of local industries.exhibition'.There is a science playground for infants, “Sprout Nuri Hall,” a children's science museum where you can feel the basic science principles and future technologies, and Kim Jin -jae Hall, a planning exhibition hall where visitors are always present with special exhibitions of new themes.In addition, 'Astronomical Tour Hall', which is on a midday night sky trip, the largest 356mm refractive telescope 'astronomical observation station', 'Science Park' to play while playing, 'Little Train', which symbolizes the industrial revolution steam locomotive, and e-sportsThe National Science Museum, such as the RC and Drone Experience Center, and 2 nights and two days of accommodation, have a great place to enjoy science.In order to experience and learn future technologies and cultures that will face the era of the 4th Industrial Revolution, we continue to develop and disseminate advanced education and cultural programs such as artificial intelligence, IoT, and advanced education and cultural programs such as SW, coding, and makers.It is becoming a scientific culture platform in the Boolean area.\",\n",
       " 'A residential complex market near Busan band.The Bugok Shopping Mall Market was formed in 1978 by selling stores of residential complexes.Market distance is formed around the mall building, and the store where the store is located is called [Bugok Shopping Mall Market], and it is also called [Bugok Market] by combining the market distance formed around the mall.In 2005, it was recognized as a traditional market, and there are stores such as dried fish shops, supermarkets, and sushi restaurants in the mall, and there are stores around the market that deals with vegetables, fruits and industrial products.In order to revitalize the traditional market, all stores are accompanied by Onnuri gift certificates.',\n",
       " 'Temple with the record of Ambassador Wonhyo.Chuckpanam is a temple with Song Go -seung -jeon, who predicted the collapse of the Tang Dynasty, Unjesan Taehwasa, with the new power of Ambassador Wonhyo, which was founded with Jangansa Temple..At the time of its founding, it was called [Damunsa], but it was maintained as an affiliated herb of Jangan -sa after being heavy in 1938.The main cultural assets that are stored include Busan City Designated Cultural Heritage Data No. 41st Stone Stone.',\n",
       " 'The only place in Korea is the history and vision of Korean shoes.The Korea Shoes Center is a complex space for culture and business that contains the history and vision of the only Korean shoe in Korea.The first basement floor is used as an exhibition hall where you can know the history of shoes on the first and second floors.The Korean Shoes Hall can be viewed from Monday to Saturday and 10 am to 5 pm by free viewing.If you are 10 or more, you can also make a reservation on the homepage and you can also listen to customized Dawson by age.Weekend events held once a month can be participated by applying in advance on the website.',\n",
       " 'A good park for walking and rest.It is a neighborhood park famous for the tidal flat experience, located in Gangseo -gu, Busan.It has a dense pine forest around the sea galmet road, so the parks that are good for walking and rest are made wide enough to see the end.If the water is missing, it is famous for being able to experience the tidal flats.There are also parks and promenades next to them, so you can enjoy outdoor activities with your family.There is a water playground for children to play around the park.',\n",
       " 'Busan Metropolitan City Quality Certification and Culture Experience Center.Busan Lavender Farm sells fragrant lavender rosemary.Looking at the purple waves makes you feel comfortable.In the autumn season, we will pick up the night.',\n",
       " \"Meet the plane and cruise representing the sky and the sea!The Songdo Hae San Cable Car, located in Songdo Beach, was restored in 29 years to revive the old reputation of Songdo Beach, Korea's No. 1 public beach.Busan Air Cruise operates 39 Cabin Cabin, the latest model, including a transparent crystal cabin from the east Songlim Park to the West Amnam Park.In particular, by operating across the sea, you can enjoy the outstanding scenery of Songdo, Busan.In addition, it offers a variety of theme facilities and attractions such as Korea's first cable car muse, Songdo Doppel Myer World, Asia's first air -in -one, Skywing, and Theme Park Photo Service.\",\n",
       " 'Gadeokdo Observatory in Busan.The opposition observatory is located in the middle of Cheonseong, Gadeok -do, Gangseo -gu, Busan.Along with the song \"My Hometown is Gadeokdo\" by Nam Ki -nam composer, there is a fertilization of Park Sang -ho\\'s “Nakjo from the opposition Observatory”.\\'If you are a hillside in the hillside of Yeonbongbong, the lights are shy and smile.If you dance with a mullet dancing off the coast of the opposition, the exciting fishermen are busy. \\'In the poem that has seen such a feast of seductions such as a stranger, I feel the charm of the opposing observatory.Recently, as a representative of Busan citizens\\' interest in Gadeok -do\\'s new airport, the photo zone in the background of the airplane model and the red camellia flowers on the sea states that \"I was good to come to Gadeokdo.\"',\n",
       " \"A memorial that contains the history of overcoming the period of national difficulties.The Temporary Water Memorial Hall was opened on June 25, 1984 to commemorate Busan's status and historicality, which was greatly called as a temporary waterway in the Korean War, and to inspire the pride of Busan citizens.The presidential residence, which was the central building at the time of opening, was a two -story house of the brick tank, which was built as the Governor's Governor on August 10, 1926, when the Gyeongsangnam -do Metropolitan Government moved from Jinju to Busan in 1925.In the period of water function (1950-53), President Syngman Rhee, the first president of the Republic of Korea, lived.In order to show that the final decision of Korean politics and external diplomatic tasks during the Korean War, the president's office and the parlor have been reproduced in the atmosphere at the time, and the living room of the president and executive secretaries and the living room.In the guest rooms, restaurants and kitchens, you can also get a glimpse of everyday aspects of the president and outside the president.It was opened as a new exhibition hall.The exhibition hall, which is a brown stone house on the first basement floor and the first floor, is decorated with a permanent exhibition room showing the outbreak of the Korean War, the lives of the people of the pirates, and the politics, economy, and culture of Busan during the temporary water period.\",\n",
       " \"A historic temple located at the foot of Geumjeongsan Mountain.* Geumjeongsan's historic temples, Geumjeong sailors * The crushed crops, such as a hundred -year -old, rock formation, and cliffs that seemed to be shaved.There is a wide range of natural parks on the southern side of Geumjeongsan, and it is Geumgang Park, a plenty of shelter of Busan citizens.There are not many temples, hermitage and cultural ruins.Despite the short history, there is a historic temple, which has been commented on large -scale big trees in modern Korean Buddhism, such as Hanam, Hyobong, Gyeongbong, Seongcheol, and Seokju Monk.The example of the big monks of the time gathered in one temple, and when the Gaya Prime Minister of Hapcheon Haeinsa was closed and the monks came to South Korea during the 1950 Korean War, the monks of Hyobong Monk were Geumjeong Sea and his disciple Gusan.It was an opportunity to tin on the master's degree and the winding of this area would be blown away.In addition, Geumjeongsa is a famous place for the first time in modern times, and since ancient times, there have been a lot of rooms in Korea.Fishing has formed a fennel for the fish that are angry again.In 1924, Geumjeongsa Temple was reborn as an orthodox sailor by opening a blue prophet with a high -ranking deity, and opening a sailor for the true players of the unemployed.It was a death penalty?Geumjeongsa's tales and history *Geumjeongsa were founded in 1924 by Geumus.It was a long time ago that there was a temple in the old days, but there was no literature or record, but it was said that the late Joseon Dynasty and Geumjeongsa were located 100 years ago.Unlike now, people are rare and the mountains are rough, so when it comes to rain, the cries of the souls that disappeared from the dew of the brother -in -law were more rare.When the people were rare, the leprosy patients gathered and the villagers were formed, and the originality of the villagers increased, and Dongnaebusa and Geumus were building a crypt and becoming a prayer place.The monk, who was soothed with his dead souls alone, later began to shoot with the power of the believers.Since then, Geumjeongsa has been in mid -sized with the help of Seokju Monk since 1954, and has been transformed into meditation.\",\n",
       " 'A place where you can walk and heal at the same time.For the first time in Yeongnam, a forest of healing was created in Cheolma -myeon, Gijang -gun, Busan, and it is a place where emotional and rest can be made through various healing programs in a natural environment rich in anion and phytoncide.Busan Healing Forest is 153 ha, and it takes about 40 minutes to find a round trip to the central promenade that begins at the entrance visitors center.It operates a program that is suitable for various objects, and takes place in the forest library, heart sharing center, forest healing yard, forest meditation pine wind bath, and prenatal forest.',\n",
       " \"You can see and feel over 250 kinds of marine life.SEA LIFE Busan Aquarium is an aquarium operated by SEA LIFE, the world's largest aquarium brand.SEA LIFE Busan operates a total of eight exhibition halls, including 10,000 marine life of 250 species, and shows a vivid marine ecosystem through shark transparent boats and VR experience zones.It has a total floor area of 4,000 pyeong, from the first basement floor to the 3rd basement floor, and has a facility to experience everything in the tanks, submarine tunnels, and underwater ecosystems.In 2014, internal repairs for rebranding were reorganized to create a friendly environment.\",\n",
       " \"A mountain that looks like a lotus.Geumryeon Mountain, 415m above sea level, is located on the boundary between Yeonje -gu, Suyeong -gu, and Nam -gu, Busan.Geumryon Mountain is located in Geumryeon Youth Training Center, Busan Citizens' Observatory, Busan KBS, Busan Mayor Residence, and Busan Metropolitan City Civil Service Education Center.There is a transmission tower at the top of the mountain, and it can be easily moved to the top of the mountain.It is a great place to see Busan Port, Gwangalli Beach and Gwangan Bridge.It is said that there were temples such as Banyaam and Baramil Dasa in Geumryeon Mountain long ago.\",\n",
       " 'A unique cafe street full of coffee.Busan Seomyeon is a place with various attractions, food and shopping streets.On the other side of Seomyeon 1 Street, which is a busy street, there is a quiet cafe street with more than 30 unique cafes.Originally, Bujeon -dong and Jeonpo -dong were tool shops where there were many shops selling industrial goods and materials such as tools and hardware.Most of them are small cafes operated by individuals, so you can taste a variety of coffee beans and coffee.',\n",
       " \"The island in the clouds.Molundae is a Myeongseung-ji (Busan Metropolitan City Monument), located in the area where the sea is in contact with the sea, and it was an island called 'Molundo' until the 16th century.It looks.Yukgye Island is an island where sand is deposited on the shallow sea between the island and the land. It is a representative example of the Seongsan Ilchulbong Peak of Jeju Island.It is said that the island was attached to the clouds and clouds on the Nakdong River -gu, which is a poetic name of the island in the clouds.In the molesundae, the subtitle layer of the end of the Cretaceous period about 80 million years ago and then Busan's tectonic modification process can be seen at a glance, and various lipid characteristics such as fault, fault cancer, niche, vein, duty, four -layer, and trace fossilsIt is a place to be called the textbook of geology.\",\n",
       " \"A place with history and beautiful night views.Dongnae -eupseongji is a typical Pyeongsanseong form in the form of Pyeongsan Castle in the hills from Mt.It is a representative town with the advantages of flat and flat.Dongrae -eupseong, which is believed to have been accumulated in the early days of Goryeo and Joseon, is the biggest battlefield of the early Imjin War, where all the civil, governments, and troops, including Song Sang -hyun, Dongnae -gu, during the Imjin War in 1592am.In 1731 (Yeongjo 7), which had been neglected after the Imjin War, Dongnae -gu, Jung Mon -seop, built a much larger town than during the Imjin War, considering the importance of Dongnae.It is the origin of Dongnae -eupseong, where the traces remain.(志 喜 喜), the west gate was called Simseong -ru, the south gate was called Mu -ru (無 憂 憂), and the ammunition was called silver.In addition, the southern gate, which was an important gate, was installed with Ikseong.Ongseong (甕 甕, a castle built in front of the gate to protect the gate from the enemy's attack), and the building (將 臺, a building installed in a high terrain in the castle, looking for an enemy outside the castle or commanding a battle)It was equipped with a watchtower and 15 bulu.During the Japanese colonial period, the walls of the plain from the west gate to the south gate were demolished in the name of the city plan, and the walls from the south gate to the alumni were also occupied by private houses, and the castle was only in the mountains centered on Mt.Excavation surveys of various developments in Dongnae -eupseong, through the Imjin War, traces of the castle (Chosun Electric Eupseong), the traces of the castle in the flat area accumulated after the Imjin War, and the castle that was contracted at the end of Joseon Dynasty.It provides valuable clues to research on scale.In Busan, the city is pursuing continuous remuneration and restoration with excavation investigation on places where damage, neglected or remaining castle ruins are confirmed around the existing sacred place.\",\n",
       " 'A space that blends with the sea.* The space that blends with the sea, Minrak Waterfront Park* Suyeong -gu is a long history and tradition.In the future, there is Geumryeon Mountain, which is beautiful, and in the future, there is a beach of Gwangalli Sea Beach.In the Joseon Dynasty, Gyeongsang Saids had a naval thief, which was a very important area.The nomination of swimming was also the subordinate of the thief of the thief, but it was solidified by the current name.The Minrak Waterfront Park, which was built here, began construction in August 1992, and in May 1997, a park of 543m long and 60m wide was completed.The park is the first waterfront park in Korea to combine the sea and a rest area. It is located in the middle of Haeundae and Gwangalli.It can accommodate 40,000 people with an area of 10,000 pyeong, and the floor has colored blocks and has convenient facilities such as flower beds, shade houses and benches.The 3,040m2 stand, where you can watch the sea and watch various events, is a space where seawater can come in during high tide and soak your feet.',\n",
       " \"Korea's first marine fisheries specialty science museum.The Fisheries Science Museum is Korea's first fishery and sea specialty museum opened in 1997.It is mainly to introduce the development process and future of science and technology for marine fisheries, to cultivate young people's exploration of marine fisheries, and to promote fisheries and sea to the people.There are main buildings, ships, and video rooms, which are divided by topic, and more than 1,900 themes under 15 topics.It operates various experience programs such as SEA-SEE Creative Exploration and Biomedical Inquiry Classes for various ages from infants to middle and high school students.In addition, various exhibitions are held on the theme of islands and sea fish, and through this, we will deliver knowledge and fun of fisheries and marine.\",\n",
       " 'It is a park in Myeongji -dong, Gangseo -gu, Busan.It is a hidden cherry blossom spot in Busan.In addition to exercise equipment, there are benches, futsal and basketball courts.There is also a sperm called Boramjeong in the park, so it is a good park for seniors to rest.Anyone can use the futsal farm, which is made of \"Global Park Maintenance Project with foreign workers,\" but it is also a park that considers foreign workers first, with the aim of supporting leisure activities such as sports of foreign workers in the Noksan Industrial Complex and early settlement of the community.',\n",
       " 'A historic traditional market located in Dongnae, the center of Busan.Dongnae Market, which was up to five days in Busan during the Joseon Dynasty, has been leading to the largest traditional market in Dongnae.Most of the shops, such as herbal medicine surrounding the outside of the building, restaurants that rarely raise prices, and fashion miscellaneous goods that can be bargained by love, have at least 40 to 50 years of experience.',\n",
       " \"Children's forest experience playgrounds with dreams and adventures.Herbang Night Hwa is a private forest experience center located in Geumjeongsan, Busan.There is a garden where you can see, feel, and experience.With a natural experience, you can feel healing in nature through a healthy sympathy.\",\n",
       " \"Walking alleys full of emotion.It is the place where the sad life of refugees began, and is now the place where the cultural village community community is located with the villagers.Busan's representative original city seam white Yeol -gil is named as a white snow that is bent at the foot of Bongrae Mountain.In December 2011, he remodeled the old house, and now he has been reborn as an original culture and art village where you can feel the life of Yeongdo.\",\n",
       " 'I feel like walking on the endless sea!The old name of the Oryukdo Skywalk is “Seungdu -hwa”.It was called the victory to say that the victory was like a saddle, and the haenyeo and the locals were called \"narrative.\"After the victory, who loved the sea, made the six islands in order, the bulging part of the victory was narrowed and made the hill of the dairy naru and the mouth.It was also called \"Oryukdo Skywalk\" with the meaning of “walking on the sky”, which was started on September 12, 2013, on September 12, 2013, which is also the boundary between the East Sea and the South Sea.Is a 15m glass bridge that installs an iron beam on a 35m coastal cliff and connects 24 glass plates into horses.The floor glass is a bulletproof glass of 55.49mm with a bulletproof film on four 12mm glass plates, and it is \"safely designed.\"do.The sea unfolded in front of the Skywalk is a beautiful and colorful color of the time, making it a place of photography.',\n",
       " \"Geumjeongsan Millennium Millennium Review.Beomeosa is a temple located at the eastern shore of Geumjeongsan, Busan.It is called the three major temples of Yeongnam along with Hapcheon Haeinsa and Yangsan Tongdosa.In November 2012, based on the devotion and harmony of the soldiers, Jiyu Daejongsa was designated as the first chief and designated as the prime minister.It holds a national treasure [Samguk History], and one of the oldest editions, [Costume School], which is found in Volume 4, is found that the costume ambassador conveys the temples of ten places to establish a Hwaeom Tales.It is mentioned that [Geumjeong Ji -ji], that is, Geumjeongsan Pan -Mansa Temple.[New Jeungdongguk Yeoji Seungram] records that the golden fish came down from the sky and played in the well, and the name was Geumjeongsan and the temple was built there.It is a temple established to realize the ground, and it is a temple that has historically cultivated many high -ranking Daedeok and produced a lot of cultural assets.In addition to the ambassadors of costumes, Ambassador Won Hyo, and Han Yong -un, the monks, etc., have been devoted to the history of Korea.In the 1950s, Dongsan Monk led the Buddhist purification movement, and then led the Korean modern Buddhism.In 2019, the company completed the masterpiece of the Sun Cultural Education Center, which is the long -established project of Beomsa Temple, and the nation's largest temple in 2021.\",\n",
       " 'Temple is located at the highest place in Geumjeongsan.* Temple of Temple, Maitreya Temple, which is the highest in Geumjeongsan Mountain * Maitreya Temple is a temple of the 14th Diocese of Korea Buddhism, located in Geumjeongsan, Geumseong -dong, Geumjeong -gu, Busan.The 15 minutes from the North Gate of Geumjeongsanseong Fortress, Korea\\'s largest acid, is the temple that is located at the highest place in Geumjeongsan Mountain.Geumjeongsanseong Bukmun is located 1.6km from Beomsa Temple and 0.9km south of Goangbong, which is the main peak of Geumjeongsan.Maitreya, which is located in a narrow place where the main ridge, which flows south from the high -peak peak, is trying to climb again toward Won Hyo -bong, it is an authentic mountainous mountain that cannot be climbed without a trail.Geumjeongsan is a mountain adjacent to the big city, so it is convenient to traffic.At the entrance of Jangjeon -dong Botanical Garden, there are many roads for mountain trails such as Sanseong (Dongmun), Sanseong Village, Geumgang Park (Dongsik Botanical Garden)First of all, take a bus from the Geumgang Park to the end of the mountain, and then walk to the north gate by walking to the north gate.Alternatively, you can go to the north gate along the hiking trail, which starts from Beomsa Temple.A magnificent ambong standing behind the millennium of Maitreya Temple.Maitreya, which is located with a screen like a folding screen, is also famous for writing and commented by Wonhyo Monk, and is also famous for writing \\'Win -Win Kyungjong -yo\\', one of \\'Maitreya Sambukyung\\'.Maitreya Temple, which can only be reached from the North Gate of Geumjeongsanseong Fortress, is the most common history and tales among the exquisite peaks of Geumjeongsan Mountain.It is a temple.The huge rock in the middle of the chloride, located in the middle of the grounds, is called `` left rock \\'\\' because it is said to be like a monk.The magnificent and godly shape, which is revealed by the invisible, is enough to give great inspiration.It is degree.If you look down at the peaks of the Geumjeongsan Mountain after drinking a cup of Maitreya Temple, Wonhyo\\'s preaching, \"If you have a heart, you will have various things, and if you don\\'t have a heart, you don\\'t have anything to do.一體 唯心 造) The text comes to mind. * Wonhyo\\'s energy remains.The history of Maitreya began to be overwhelming, and Maitreya is also a famous temple in Navan Prayer Prayer.The traces of embossing the jangjangja of the Jangsam still remain clear, and they have carved the shortcomings of the left side of Jangsam.Miseksa, who is a young monk\\'s trace, is famous for his first -hand prayer prayer with Maitreya Buddha and toxic Buddha.',\n",
       " \"A park for children who are adventurous and dreams.Sasang Neighborhood Park has a variety of theme spaces, making it a good play area for outdoor activities with children.Starting with a clock plaza on the theme of Alice in a fairy tale country, there are small forests in the forest experience hall, a mysterious forest, a children's playground, and an adventure of adventure.The shelter in the top of the playground has a small experience center where you can actually meet animals in fairy tales, giving you a sense of happiness as if you are in a fairy tale.In addition, it is a park where children can play adventures and dreams, such as bounce dome, zip line, floor fountain, ideological garden, and solvil shelter.There is also a walkway for adults.\",\n",
       " 'A lot of memories in the song.Yongdusan is one of the three major mountains of Busan, and in the past, the sea was seen through the dense pine trees, and it was called Songhyeonsan, but the mountain was called the weather to swallow the waggs coming from Japan.Busan Tower Observatory, Lee Chung Mugong statue, Baeksan Ahn Hee -jae statue, Jonggak, flower clock, and dragon shaped statue are installed.If you go up to Yongdusan Park, it is a great view overlooking Busan Port and Yeongdo.',\n",
       " \"A place where you can feel the spirit of the democratization movement.The Democratic Park, which opened on October 16, 1999, the 20th anniversary of the Buma Democratic Uprising, was created to honor the sublime spirit of Busan citizens, which have led to the April 19 Democratic Revolution, Buma Democratic Uprising and the June Uprising.The interior of the democratic park is on the second floor, which is a permanent exhibition room, and on the 3rd floor, there is an unfolding room, and on the first floor, there is a performance hall (large room, a small room).It is used as a complex cultural space such as singing, theater, film, and dance presentation.The external facility is Jangseung -gun, and Jangseung -seok is located in the Jangseung Room, including the National Unification Captain, the National Peaceful Woman, the National Unification General, and the Democratic Peaceful Women's Division.Kiri has a soul, observation deck, and 4.19 square.\",\n",
       " 'A park built with a dense natural forest.Jukdo Park is a park built with a dense natural forest called Songjeong Park.It is located in Jukdo, east of Songjeong Beach, and the name of Jukdo is said to have been given by many bamboo growing so that the exhibition arrow of Gyeongsang -do.Jukdo Park is a place that provides a comfortable resting place not only for tourists who visit the beach as well as local residents.The promenade that runs along the hill along the park is made of smooth stone floor, and various commemorative sculptures are built to provide attractions.There are chairs all over the place, so you can take a break while walking around the park.Long walls are piled up around Song Il -jeong, so it is very suitable for lovers to enjoy romance by enjoying the sun and moonlight that comes to the sea based on the sea.There are two Songjeong Lighthouse, which towers at the entrance of Jukdo Park and forms intense contrast between white and red.',\n",
       " 'A temple that can have a leisurely rest while enjoying the Geumgang Manpan.Geumgangam (庵), a mountain rock, is unknown to the exact founding regiment, but in 1803 (Sunjo 3), it was mediated by the Ambassador of Beomsa Temple.In 1899, there was a record that the monk Oh Sung -wol opened the sailor for the first time in Beomsa Temple, Geumgangam, and it was significant in that it was a starting point for Geumgangam.The mission of Geumgangam was found in the 1800s and the remaining watermunmunmuns were found to guess the midsole of Beomsa Temple Geumgangam.In the 1980s, the wall wave was mainly known as Beomsa Temple Geumgangam.This gradually began to expand the world, and for about seven years from 1984 to 1991, Jung -yeo, a wall of the wall, led the midsole immortality.Hangul fluids and styles, which are characteristic of Beomsa Temple Geumgangam, were also caught at this time.Geumgangam goes to the north gate of Geumjeongsan on the left side of Beomeosa Temple, and you can see Beomeosa Daesungam and go along Daeseongam and climb the rocky valley.',\n",
       " 'Leave the visual arts centered on the value and connect people.It is a state -of -the -art contemporary art museum opened on March 20, 1998, aimed at the spread of the art population and the promotion of art creation.It is aimed at an open art museum that provides various cultural enjoyment opportunities to general citizens by conducting various genres of works and various social education programs.There is an outdoor sculpture park.The exhibition room is a opening and closing structure so that the interior can be properly used according to the contents of the exhibition, including 13 exhibition rooms and 160 auditoriums.At the Museum of Art, the Museum of Art is an event venue for the Biennale (Contemporary Art Exhibition) festival held every other year.',\n",
       " \"Cool in the forest!Exciting thrill !.The world of magic and fantasy!Lotte World Adventure opened in Busan.It is prepared to fully enjoy the refreshing and thrill of the forest.When you 'amusement park', you can always experience a fun and exciting performance and parade that comes to mind.Busan Lotte World has been built in Busan, the second largest city in Korea, and is convenient to access public transportation.Lotte World Busan is packed with six theme zones.There is a talking tree in the center of Tinkerpols Zone, Fairy Village, which tells Animatronics technology to tell a story about six themes in the park.The Royal Garden John's Lori Castle, located at the highest place in Lotte World, is directed in the water, and with a panoramic view of Busan, you can enjoy the sea in front of the captain at a glance.Other players, especially Giant Digger and Giant Splash, are already word of mouth.In addition to the attractions for adults, there are also rides for families with infants.Regardless of the weather, it is placed indoors to enjoy safely with the child.The parade, which is the highlight of the amusement park, is held twice a day and about 30 minutes.\",\n",
       " 'A park where you can see and feel history.The central park is an integrated park in 1986 to effectively manage and provide better rest for citizens.The old Daecheong Park is located at the foot of Gubongsan Mountain, and there are the Busan Democratic Uprising Memorial Hall, Democratic Park, and Chung Hon Pagoda, the mandatory who died for the country after the founding of the Republic of Korea.The district is located at the foot of Gudeoksan and Umgwangsan.Tourist destinations around the park include Yongdusan Park, Bok Byeongsan Sports Park, and Jagalchi Market.',\n",
       " \"International exhibition halls held various exhibitions and performances.BEXCO, located in Haeundae -gu, Busan, is an international exhibition and convention center opened in September 2001 (the second exhibition hall was opened in June 2012).BEXCO's facilities consist of the first exhibition hall (5 holes), the second exhibition hall (6 holes), 13 convention halls, 19 convention halls, and Oritorium, a large performance hall.It is equipped with professional exhibition halls, multipurpose halls, outdoor exhibition halls, and permanent exhibition halls as a space.It is a representative exhibition hall in Korea that hold various regular events and performances such as Busan Comic World, Busan International Motor Show, G-STAR, and Busan International Railway Technology Industry Exhibition.\",\n",
       " \"A temple where you can meet Wonhyo's ideas.The Kumsua is also famous for its headquarters of Hyojong, Korea Buddhist Buddhism.This place, which was commented by Won Hyo -jong, Jong -jong, who was registered in 2003, was established as a place of many of the masters who wanted to support the maintenance of Ambassador Wonhyo and the encyclopedia.It is no exaggeration to say that it is a representative temple that shines.The Gumgye -san Geumsa Temple is now raising the banner of illegal Hongpo before this historical site.After the Imjin War and Jeong Yu -ran of the Gilgil -do, the ancestor of the Joseon Dynasty asked the mission to be reinforced to Japan in 1604 and the June 37th year.To this end, there was a place where the missionary ambassador who stayed at the foot of Gugye -san, Busan, was admired by the taste and scenery.Since then, a disciple who followed the ambassador built a rock and called it 'Geumsuam'.The Kumsua has played its role as a national temple related to national luck from the background of its founding.Even when the missionary ambassador stayed here and moved to Japan, he returned to Korea with more than 3,500 Koreans who were caught in war, and during the Korean War, he built a refugee camp in the grounds and shared the pain of the people.It is a memorial law meeting every year by building a national representation of the country in the grounds of the gold investigation, and 33 national representatives of the declaration of independence and 22 patriotic independent branches such as Ahn Jung -geun, Kim Jak -jin, Ahn Chang -ho, and Yoon Bong -gil.It will be clear.\",\n",
       " 'Observatory where you can see the landscape and time of Busan Maritime.It is an observatory where you can see the landscape and time of Busan Maritime.It keeps the most Busan -like appearance of Busan, represented by Piransu and marine cities.It is a place where you can pass by bus 86, which connects two regions of Seomyeon and Nampo -dong, a representative tourist destination in Busan.Buses that are good at bent roads are only available in Busan.The natural scenery, the modern landscape, the cultural landscape, and the future landscape can be seen in the four themes along the coast.',\n",
       " \"The space of dreams and hopes where the history and the future of the ocean are fused.The National Maritime Museum is the world's first comprehensive marine museum opened in 2012.Although there are several museums related to maritime countries around the world, they are specialized in specific areas such as marine history and ships.Unlike this, the National Maritime Museum operates an exhibition hall in various fields.Through exhibitions such as the activities of marine people, changes in marine consciousness, the history of marine science, the appearance of traditional our ships, and marine exploration equipment, we deliver a wide range of knowledge of marine history, figures, cultures, science, and creatures.In addition, there are Aquarabs, Marine Experience Center, and Children's Museum for Marine Biology Exhibition.\",\n",
       " \"Gijang market that reveals its characteristics every season.The Gijang Market is located around Darari, Gijang -eup, and was transformed into a modern permanent market in 1985, according to the market modernization plan.The Gijanggun Gijang Market is a low street that suits the word 'authors' rather than the word 'market'.In addition, the millet market is the sea market.The characteristic of the millet market is that each season has a distinctive intestine.It is famous for forming seaweed and anchovies in spring and cutlass in autumn.Especially in two months before and after Chuseok, the millet cuts have a good taste.The price is cheaper, and wholesale merchants and consumers from all over the country will fill the market alley.Seafood in the Gijang Market is also cheaper than the nation's largest seafood market, and is also famous for its frequent use of people in the neighborhood.\",\n",
       " \"Nature, art, and art coexist.It consists of the first basement floor, the exhibition room of the first and second floors, the three -story archive room and work space.It exhibits contemporary art, nature and ecology, including new media art.The characteristics are revealed from the exterior.The vertical garden, which planted 175 kinds of plants that grow in Korea by botrick blanc, color the exterior walls of the building.The museum was completed in 2017 with a total floor area of 15,312㎡ on a 29,900㎡ site.It consists of three floors including the exhibition space (5,780㎡) on the first basement, the first floor and the second floor, the storage, seminar and experience room, children's reading space, archive room, academic room, and office.The Busan Museum of Contemporary Art is a public 'contemporary art museum' centered on contemporary art.It will serve as an art museum, such as collecting art works and academic events.\",\n",
       " \"Citizens' resting space.Daeshin Park, located in Seodain -dong, Seo -gu, Busan, was opened in 1968 as a neighborhood park after becoming a water supply source in Busan.The public has been banned from entering the public for a long time.Thanks to this, more than 70 years of trees such as cedar, cypress and cherry trees have been lush.It is good for forest bathing, so more than 4,000 citizens are looking for.In addition to various sports facilities, there are various amenities such as archery, reservoir, spring water, and trails, making it popular as a resting place for citizens.In addition, there is a Bongsudae at the summit of the park peak, and the Bonghwa is made every year, and the Busan Port and Yeongdo are at a glance at Bongsu University.There are public facilities such as Gudeok Library, Gudeok Night Camp, and Gudeok Folk Art Museum.\",\n",
       " \"A calm sea wave is a rest.If you go along the Haeundae Dalyan Hill in the direction of Songjeong, Cheongsapo is the bottom right.There are three small guns along the coast between Busan and Songjeong.Along with Gudeokpo and Mipo, Cheongsapo is the small port.Cheongsapo is famous for its high quality seaweed, and the sunrise here is already well known for its beautiful.On the surrounding rocks around the coast of Cheongsapo, there are always crowds of Gang Tae -gong who have been flocking to fishing, especially in autumn, where mackerel is seasoned.And the East Sea Southern Line stretches along the coast, and sometimes the horns are ringing, making the trains running more and more quiet and quiet.The railroad is a beach railroad track, which is only two of the nation, and is also known as the filming location of the movie 'Blue Arts'.In addition, it is also a good place to taste the fresh seafood that was freshly caught with a secluded pogu in a restaurant and sushi restaurant that lined up to one side of the port.The original name of Cheongsapo was the building of blue snake.The legend of the name was a good couple who lived in the village, and when a husband who lived in the village lived in the sea, he died in the sea, and the wife climbed on the coastal rock and waited for her husband every day.It is a tender legend that he sent his wife to the East Sea Yonggung and met her dead husband.However, it is not good to enter the word snake in the village nomination, so recently it has been changed to the name of 'blue sand.'\",\n",
       " \"History, culture, and nature are harmonized.Busan Citizens Park was created as a topic of five activities: memory, culture, pleasure, nature, and participation.As a place of new public landscape, healing, deposit, and new possibilities in Busan, the new form of high -tech parks that are not unprecedented in the world are 473,911㎡, and of which, it is located in the central area of the park.The Hayaria Lawn Square area is about 40,000㎡ (6 times the soccer field).In the park, convenience facilities such as park history hall, park information center, fountain (4 places), plaza (6 places), children's play facilities (9 places), cafes (3 places), convenience stores (2 places), and toilets (22 places)This is equipped.Busan Citizen Park is a space for a world -class luxury park that Busan citizens and Korean people as well as foreigners are looking for.\",\n",
       " \"Rest and historical and cultural experience space.Busan's representative shelter peace parks were planted as a blue space by planting 30,000 trees such as camellia and pine trees.There is a fountain that rises into the sky in the middle of the park, so you can enjoy the water in the summer, and at night, you can spend time with your lover in the backdrop of a beautiful shining fountain.\",\n",
       " 'Temple in the city center is famous for praying for offspring.Geumyongam is a small hermitage of Mt. Seolmi, and is a temple that is assimilated with nature as if it was buried alone in the Mt.Geumyong (金 蓉) is a gold lotus, which is named after the Buddhist thoughts, along with the symbol of the representative Buddhist ideology along with the lotus, Geumgang -seok, or gold.Under the name of the law, it was called Geumyongam at the foot of Mt.The name Geumyongam originated from Geumyongsan, the nickname of Mt. Sokmisan, and consists of Geumdang, a chloride, Samsung, and a cylinder and incense hall.In 1992, the chloride exhibition of chloride is in the form of an arm roof of 3 squares on the front and two sides on the side.There is.The Samsung angle is a one -on -one and two -sided double roofs, and the Chilsung Tang, Sanshin Tang, and Toxic Tang are enclosed.In each Samsung, there is a three -god grandmother tanghwa, which is not a statue, but three women.Three grandmothers are widely known for their experience in those who wish to win for a long time.There is a private expenses with the upper body of Daebong, which was built on May 20, 1939 on the slope under the temple wall.',\n",
       " \"It is an international fishery market and a symbolic landmark of Busan.Jagalchi Market is a coastal pain in Nampo -dong and Chungmu -dong, Jung -gu.There is a theory that the name of Jagalchi comes from the gravel coast, and that it is derived from the name of the fish species, which is traded as a live fish because it handles only live fish.The selling is rare, and on the first floor of the Shindonga Food Market, which opened in 1980, you can taste live fish and fresh and delicious sashimi on the spot.It is emerging as a specialty of the market.The growth of this place was growing in 1889 when the Japanese established a Busan Fisheries Co.As the merchants gathered, the merchants of Jagalchi market gradually sought modernization.As a result, Busan's fish market was divided into Busan Fisheries Co., Ltd. and Busan Fish Cooperative Consignment Plant in North Port.Small merchants dealing with catches gathered around the Busan Fishery Consignment Plant to form the current Jagalchi market.\",\n",
       " 'The largest traditional market in Busan.The Bujeon Market is a medium -sized market formed by the piranians all over the country after the Korean War.Six markets, including the Impression Market, the Bujeon Market, the Seomyeon General Market, the Bujeon Ginseng Market, the Bujeon Market, and the Busan Electronic Shopping Mall formed a huge buzzword market town.It sells back.Since it is handled from wholesale to sleeves, there are many products, especially when it is Kim Jang -cheol, so you can buy cabbage, radish, and seasonings at a reasonable price.In Busan Subway Line 1 Bujeon Station and the high -speed railway Donghae Line Bujeon Station, the traffic is convenient and located in the center of Busan.good night.',\n",
       " \"A complex culture and art space where you can see the night view of the fantastic Haeundae.The Bay 101 is a complex cultural and art space that boasts the night view of Haeundae, and the beautiful sea, mountains, and modern buildings coexist.It is a famous tourist attraction in Busan where you can see colorful skyscrapers at night. It is located at the entrance of Haeundae Dongbaek Island.The Bay 101 has a variety of facilities such as a cafe where you can enjoy brunch, drinks, etc.In addition, it operates a yacht tour, so you can see the night view of the beautiful Haeundae on a 120 km / h yacht.Many tourists are looking for a photo zone attraction for taking a nice picture using Haeundae's night view or skyscrapers.\",\n",
       " 'Haedong Yonggungsa Temple, an exaggerated place to make a wish.Haedong Yonggungsa is the founding of Nagong Ambassador, who was the king of King Kongmin in 1376, and is one of the three Korean Three Daegwan -sung -seongji.It has a deeper meaning of faith than anywhere else.It was lost due to the illness of the Imjin War, and in the early 1930s, Tongdosa\\'s Unkang was midsized.In 1974, the monk Jeong -am, who became the head of this temple, originated to restore it to the quantity, and made a hundred days prayer.It was.Existing buildings include Daeungjeon, excavation, Yongwangdang (Yonggungdan), Beomjonggak, and Yosachae.Daeung -jeon was in mid -1970s.The Oyster Party next to Daeungjeon is called the Maitreyajeon and has been enshrined since the founding of Maitreya.In front of Daeungjeon, there is a 3rd floor stone pagoda.Originally, there was a 3m high rock (Maitreya Rock), and as the temple was ruined during the Imjin War and destroyed by the construction of a coastal guard network during the Korean War, Jeongam gathered the stone wall and built a damaged rock wall in 1990.The Bulsari 7th department brought from Sri Lanka was sealed.In addition, the single stone is the largest stone statue of Korea, which is about 10m high, and the pharmacist, also called the Donghae Gatbawi Buddha.At the entrance of the temple, there is a traffic safety origin tower and a 108 staircase, and there is a Dalma statue at the beginning of the stairs.The traffic stability tower, which is sealed and wishes for all of us, is careful to drive.Chun -won Lee Kwang -soo, who praised the scenery, and the poem of the famous Naung Hwa -san, who sang, \"See me, live silently, and Changgong see me and live without a tee.\"After passing through the Yongmun Grottoes, the staircase limit is sorted by the staircase limit, and the dark blue sea is admired and joy itself.On the left is a pharmacist\\'s stone on the white tiger rock, and a little further, the sunrise is the first sunrise.',\n",
       " \"A historic 40 staircase containing the mourning and perfume of the Korean War refugees.The 40 -step cultural tourism theme distance is about 450 meters from Kookmin Bank's Jungang -dong branch to 40 stairs to 40 steps and Palseong tourism.During the Korean War, it was created to foster new tourist attractions by reproducing the historic 40 stairs of the refugees and nostalgia to fit the atmosphere of the 50s and 60s.After establishing a basic plan for the Street Project, the construction began on June 5, 2003, and completed the civil engineering construction on April 20, 2004.It was made with that.『40 Stair Culture and Tourism Theme Street』 was selected as the best street in Busan in June 2004 and won the project cost of 300 million won.It is hoped that it will improve the status of the cultural tourism center of the brazier.40 is located in Jung -gu, Busan, which was the center of traffic and administration during the June 25 evacuation in 1950, and many refugees lived around and lived around them.It is also a marketplace that sells relief supplies from the pier in front of the wharf, and was famous for the reunion of the family who broke up during the evacuation, and used it as a material of 'Gyeongsang Doa' sung by Park Jae -hong in 1951.It was the most friendly place for more than 100,000 refugees who lived in the back mountains of Yeongju -dong, Donggwang -dong, and Bosu -dong.The staircase plaza and the crossing plaza were installed and the distance was established. The total length is 140m.In order to symbolize Busan Port, the Sora step plaza and the dock plaza were installed in front of the Sora Stairs under the theme of the sea road, and the street was 120m long.'The Gate of Peace' is located at the entrance of the train track, and the small lamps used in the evacuation period are symbolized that the 40 -staircase culture tourism theme streets are brightened by enduring the time of hardship and becoming a lamp that does not go out forever.\",\n",
       " 'The street where the Pusan International Film Festival began, the cultural space of citizens.Nampo -dong theaters were created after the 8.15 Liberation, and in the 1960s, more than 20 theaters were concentrated around the BIFF Square.On September 13, 1996, the 1st Busan International Film Festival was held to create a small but prestigious film festival, and the film festival was held to renovate the theater and name the BIFF Square.In the BIFF Square, the eve of the Busan International Film Festival was held, and it was used as the main stage of the BIFF event, such as hand -printing events for famous filmmakers, but as the film hall was created in Haeundae, major events such as the opening ceremony were moved there,There is a lot of remains and the movie screening continues.Like this place, the opening theater is concentrated in one place, as well as in Asia, as well as in Europe, and has infinite potential.As it becomes a space, many young people are looking for a lot, so the regional business is playing a big role in regaining.',\n",
       " \"Korea's first night market is held.Busan Bupyeong Market is also called the can market.In the name of the tin can, the US military was pushed with military materials, and all kinds of products were pushed together with military materials, and various canned foods such as fruits and fish were imported.At the time, imported goods were supplied as a major market in Toyae.The market is so large and there is no foreign goods, so the dodge market is called the international market.am.Currently, some foreign electronics products such as Yangju, Clothing, Ornaments, Accessories, Fashion goods and Mini Cassets are also handled.It operates up to minute.In the 110 -meter market street, there are 11 local local foods, six multicultural foods including Japan and the Philippines, and 13 new clothing, accessories and stages.At the entrance of Bupyeong Cannon Market and the range of the market, there are also various attractions such as magic and other performances twice a day, and gorgeous LED lights are welcomed next to the market.\",\n",
       " \"Museum exhibits the history and artifacts of Busan.Since its opening on July 11, 1978, the Busan Museum has been leading the inheritance of traditional culture in Busan, including the collection, preservation, exhibition, research, excavation, investigation, and museum education.Busan's representative comprehensive history museum, which has specialized museums such as the Bokcheon Museum, Dongsam -dong Paingo General Exhibition Hall, Busan Modern History Museum, and Temporary Water Memorial Hall, has a total of 45,000 relics, and more than 1,300 artifacts are permanently exhibited.The Busan Museum established the Busan Museum in 2002 and tried to meet the needs of citizens in culture.The main projects of the Busan Museum are the heads of comprehensive cultural education such as researching cultural assets, education, special exhibitions such as children and adult lectures, museum universities, special exhibitions, cultural property preservation and management, and collection of data collection research.\",\n",
       " 'The only way to connect the upper town of Choryang -dong and the lower neighborhood.It is a shortcut to the fastest down from Sanbok Road to Busan Port.It is a dazzling staircase with a height of six floors, which is one of the representative features of Sanbok Road.There are 168 stairs and three wells under the stairs.Currently, only one well used as a drinking water remains, and you can imagine a long line of water to receive water when there was a lack of water.It is said that it was a meeting place for everyone in all ages, such as water crabs and water jar, and it was a source of rumors.',\n",
       " 'Lee Ki -dae with a long history and beautiful scenery.Various volcanic rocks, volcanic ash, and vast volcanic ash, which were accumulated by the volcanic activity of Ansan Cancer, which were intense about 80 million years ago, are made with seafood, wave -style land, and sea caves developed by the erosion of the waves..The trail course that runs from the coast to the Oryukdo provides a variety of geological and terrain landscapes such as copper mines, stone holes, horsetail structures, and Hamgakseokseokgak.',\n",
       " \"Traditional traditional market in Haeundae Tourism Zone.The Haeundae Traditional Market is adjacent to the Haeundae Beach, which is a famous spot for many tourists in the summer season.It is a traditional market where tourists who visit Haeundae Beach, one of Busan's largest tourist destinations, visit for food and shopping.It handles a variety of items such as household goods, seafood, and fruits, and forms phosphoric acid in front of shops such as tteokbokki, fried, kalguksu, pretzel, and pork soup.In addition to various corrosion distances, live fish sashimi and bear eel grilled, it is a market full of food and attractions.In addition to Haeundae Beach, there are various tourist attractions such as Dongbaek Island, Nurimaru, and Dalmen Road.\",\n",
       " 'Busan representative traditional market contains many stories of Korean modern and contemporary history.The Busan International Market was formed by the marketplace in 1945, using the international market position as the marketplace to trade the goods left by the Japanese and the goods brought by the Japanese.After the Korean War, the refugees were in business, and they were initially called the Totte Market, and in 1948, they built a building and handled the goods from the US military forces in 1950..Thus, from the 1950s to the 1990s, it was boomed with various products such as overseas goods, US military munitions, imported smuggling, and electronics.Today, it is a tourist product in Busan, which is a variety of sights, including the alley, red bean shaved ice alley, cosmetics alley, food alley, and props alley.The international market is divided into A and B -dong, and there are six tools in the form of a second -floor shopping street.A total of 12 buildings and upper and lower layers consist of 24 spaces.The international market like a maze can lose its sense of direction if you are the first person to come, and then you can see where it is now on a two -story bridge.The bridge is connected to 12 buildings, and another attraction of the market view from here.',\n",
       " 'The park to commemorate the 24th Seoul Olympics.* Park, Busan Olympic Garden, which celebrates the 24th Seoul Olympics, was established on the 97,000㎡ site in July 1988 to commemorate the 24th Seoul Olympic Yacht Game in Suyeong Bay.The Olympic Garden has a variety of cultural facilities such as outdoor sculpture parks, bicycle play yards, grass plazas, automotive outdoor theaters (Cine Park), and trails.There is a long -connected promenade around the yacht stadium, and there is an outdoor sculpture park with various sculptures along the promenade to see various sculptures.And you can relax under the lush and large tree shade that is planted in a spacious lawn square.In addition, there is a bicycle path in the park, so not only tourists but also Busan citizens use it.',\n",
       " \"Modern wooden building with old stories.Cultural Empathy (Cultural Affairs: Busan's Japanese House) is a Japanese -style building built in 1943. There are three gates with double roofs in a large land and one body to the south.The right side of the porch is made of bricks (tide), and most of them are made of Japanese wooden houses.Currently, some of the first floor are converted into ondol rooms, but on the second floor, there are ridges (Yeonjawa), a rainy season, and tatami rooms.In addition, the interior of the tatami is preserved in detail, including Doconoma, Tsukesh Show, Myeongjangji, Tadami, and Japanese window patterns.It is well equipped with exterior elements of high -end Japanese buildings, and in particular, the composition and decommission of space are characterized by thoroughly following the form of Japanese traditional houses on the second floor.It is a space that is regarded as an important place for modern housing architects and living history research during the Japanese colonial period.\",\n",
       " 'Traditional market with history.In the early 1960s, the beginning of the written market was that merchants made a deposit in Busan and built a temporary building.It has been a traditional market for more than 60 years in the middle of the busy streets, and there are original shops such as kalguksu, pork soup, and old chicken, which are known as restaurants, and trendy shops prepared for these days.You can taste the traditional taste of tradition and trendy menus for these days.The nearest subway station is Seomyeon Station, Buam Station, and Jeonpo Station, making it easy to access.The nearby attractions include the Hwangnyeongsan Observation Shelter, the Chosun Telecommunications History Museum, the National Busan Gugak Center, Samgwangsa Temple, Lee Joong -seop Cultural Street, and Busan Coffee Museum.',\n",
       " \"Temple is famous for hydrangea.Taejongsa is a temple in Taejongdae Park and is a Korean Buddhist Jogyejong temple built in 1976.In September 1983, with the introduction of Sri Lanka Korean student Oh Byung -moon, the Sri Lankan government donated and raised the Buddha's Jinshin Sari 1 and Barisu Tree Tree, and the Buddhist and Growths were raised here.It is a place where flowers are in full bloom from June to September, which is flowering.The big monk who likes to grow flowers has been collected and planted in Sansa for over 40 years, and has been planted as the first hydrangea in Korea.In addition, the Buddhist events and special events such as Baekjungjung, Saints, and regular events are held.\",\n",
       " 'Traditional market with 100 years of history.The Bongrae Market was naturally formed during the Japanese colonial period, and it was a traditional market that was naturally formed during the Japanese colonial period, but as the Busan Bridge was created, the market was incorporated into the road and the size became smaller, and the South Port market was created across the side.The business has been reduced.However, food companies such as Samjin Foods and Sincere Foods, which have more than 50 years of history and traditions, have been loved by their surroundings and are keeping their positions in Bongrae.It is a traditional market that is carrying out various activities to revitalize the market, including sisterhood relationships with nearby companies, including presidential elections.In 2017, it was selected as a cultural tourism market, and to promote Bongrae Market as a specialized market linked to its own resources (tourism, culture, arts, and special products), promote cultural space development, tourism product development, cultural contents development, and cultural performancesTherefore, we are striving to revitalize. In the Bongrae Market, there are Samjin Fish Cake Headquarters, a fish cake, which boasts history and tradition, so many tourists visit.There is.',\n",
       " 'An island where you can meet a variety of unique geological structures.Dudo is an island about 500m southeast of the West Songdo Peninsula, and the name Dudo is derived from the Daegari Island, and people in the neighborhood are still called Daesa Island.Dudo is a heaven of the seagulls, and the rocks of Dudo are turned into gray due to the excretion and nest of the seagull.Various native plants such as camellia, hidden, sea plants, sea corals, and seagulls, a symbol of Busan, are a lot of seagulls.You can see unique and diverse geological records such as negative, dancing, faults, and bouquets.It is also located close to the land, and it is also a favorite place for anglers to find it.',\n",
       " 'The distance of youth feels the heat of youth.Gwangbok -ro Culture Fashion Street is a place where it was used as a road that was a river in the past, and clothes shops were gathered on both sides of the road and were named as Gwangbok -ro Culture Fashion Street.It is about 600m from the Nonghyup Busan branch where the Gwangbok -ro begins to the entrance of the international market food alley, and it is a place where Korean clothing and shoes are gathered.It is a place to find.Gwangbok -ro Culture Fashion Street is hosted by Jung -gu Office, and has been conducting a winter tree festival since December every year.You can enjoy the festival relaxed.Gwangbok -ro Culture Fashion Street You can feel youth and vitality by visiting culture, fashion and restaurants.',\n",
       " 'The train station in Songjeong -dong with the sea.It is a train station in Songjeong -dong, Haeundae -gu, Busan.It is belonged to the southern Line of the East Sea, which is laid for seafood and resource transportation on the east coast.The East Sea Line was opened in Gyeongju and Pohang in 1918, and Busan, Ulsan, and Gyeongju in 1935, which has been the foot of people for many years.In particular, the landscape outside the window running along the sea was in the hands.Songjeong Station began operating as a simple station where station officials were deployed in 1934 and promoted to normal station in 1941.At this time, it seems that the history is newly built, and it retains the architectural characteristics of the 1940s train station similar to Unsan Station and Dankon Station.In 1976, cargo was suspended, but it was designated as a registered cultural property for the railroad history value.Recently, many tourists are looking for newly renovated as the starting station and last stop of the Haeundae Beach train using the old railroads of the East Sea southern Line.',\n",
       " \"Gopchang alley with plain lamb giblets.Both Mountains Haeundae and Nampo -dong on Busan.The main of the food trip is Nampo -dong, of which Jagalchi is considered the best.Because if you go to Jagalchi Market, you can taste various dried fish and fish, as well as various sashimi to grilled fish.Where is that?Naturally, he has a giblets alley that blows up the idea that there will be only sashimi.For lovers, this is a paradise and heaven.If you've seen Jagalchi Market several times, let's get out of the fish and go to the Yang Gopchang house around Shindong Aster.You can taste the savory and chewy giblets baked on briquettes.\",\n",
       " 'A park where you can put down fatigue for a while.It is a park in Hwajeon -dong, Gangseo -gu, Busan.In 1995, Busan was promoted to Busan Metropolitan City, becoming Hwajeon -dong, Hwajeon -dong, Gangseo -gu, Busan.Hwajeon Park helps the Busan Urban Development Corporation invested 1,305 million won for 400 days from March 4, 2009, and helped with 2,800 people, including 1 company, Gilpyeong Co., Ltd., and Green Landscaping Co., Ltd.24,000 trees were planted in 16,112㎡ of land.It is a valuable resting place for workers in Busan citizens and workers in Hwajeon Industrial Complex.',\n",
       " \"A temple with a spring that does not dry even in drought.* The monk's execution, Gamcheonsa Temple * Even though the drought, the water does not dry out, and the water rises all year round from the underground rock and used it as a drinking water for nearby residents.Gamcheon, which is named as a `` Cheon -ja, '' because the water tastes sweet, and is constantly rising.Gamcheonsa, which is located in the background of the gentle ridge of Mt. Myo Bongsan, the main mountain of Yeonje -gu, is located in the residential complex of Yeonsan -dong because it was founded as a power to solve the thirsty thirst of rebirth.Gamcheonsa's water tastes from the mouth of people is also famous for being a male of Yeonje -dong, which is recognized by Yeonje -gu Office, and it is known as a city temple that does not stop.Gamcheonsa, which is located side by side with a narrow alley between the affairs and a narrow alley, is also known as a Kannon Prayer because of the achievement of the prayer of the Guan Yin Bodhisattva in Daeungjeon.Although the history of the creation is small and the history of the creation is short, it is also a condition that is also welcoming many people.Means *Gamro, which praises the Buddha's great mercy and falls out of heaven, is not only a sweetness, but also a medicine that goes beyond death.It is often referred to as ‘감 水’ and ‘감 水’ and ‘감 水’ and ‘감 水’ and ‘감 水’ ’, and it is also called the“ rain of nectar ”.As such, 'Gamro' is now a measure of the law by us, as well as the source of new life that contains the desperate desire of many people.\",\n",
       " 'A market that provides fresh and high -quality agricultural products at a low price.The Daegong Agricultural and Fishery Market, which provides fresh and high -quality agricultural products at Ulsan Dong -gu at a low price, is largely divided into two zones (A, B line).One area is a restaurant, and the other area is mainly used by people who come to see the market.It is not large and it takes a lot of time, so you can look around and see the market.The Great Song Agricultural and Marine Products Market, formed in 1991, was a very prosperous market as the Eastern economy was activated, but now it has been reduced, but residents are conveniently used as the only agricultural and fishery market in Dong -gu, Ulsan.Ulsan University and Ilsan Beach are nearby.',\n",
       " 'Cute Mongdol and Blue Pigui Beach.Mongdols are gathered at the beach in Buk -gu.If you run about 20 minutes north of the coastal road from the main road, you will meet, and Gangdong Hwamam Jusangjeolli is located north of Gangdong Mongdol Beach and leads to Shinmyeong Beach.The Gangdol Mongdol Beach is quite loud on the waves of the rare Mongdol beach on the east coast, and the good thing about the Mongdol beach is that it is easy to walk and the soles of the feet are not cumbersome.The beach environment, toilets, drinking shops, and sinks are cleanly managed, and it is also used as a camping site.',\n",
       " \"A scenic reservoir near Ganjeolgot.Magun Reservoir is located in the highest place in Seosaeng -myeon, Ulju -gun.It was also called the volcanic reservoir, which was the origin of volcanic streams.Volcano is a stream that meets Hyoamcheon and flows into the sea.In this place, where the water is clear and the surrounding landscape is beautiful, there is a perimeter road where you can turn around the reservoir.Half of the perimeter roads are deck roads and half of them are made of general roads.There is a sperm at the starting point and you can walk without boring because it is moderately bent.There is a sign of 'No way' at the point of money at almost one wheel, which is the dirt road from here to the embankment.To go to the embankment, it's easier to get from the starting point.It is a good place to walk or outing, and there is a healing village that can be auto camping and glamping around.\",\n",
       " 'Transportation center of Gyeongju, Ulsan, Miryang, and Yangsan.Eonyang -eup, which was in a very important location of Gyeongju, Ulsan, Miryang, and Yangsan, refers to a castle that protects the residents and functions as a military and administrative function.Eonyang -eupseong, which is designated privately, is a town of Eonyanghyeon, Joseon Dynasty, and the entire circumference is about 1,726m, and each gate has a retaining wall, a wall that wraps the gate round.Along with the Joseon Dynasty, Gyeongju -eupseong and Namwon -eupseong, they remain as a rare flat town.The movie ru, the south gate of Eonyang -eup, was first restored from the alumni Mangwolru, the West Gate Ailo, the North Moon Gun Gunmun, and the south Moon Jinnam -ru.The movie base is a beautiful pavilion built on the wall, and you can see the panoramic view at a glance by going up the stairs next to it.',\n",
       " 'The best healthy hot spring bath.Beomseo Hot Spring is a 100% natural hot spring water, which is the best water quality and natural water soup from 1,000m natural rock.In particular, with the alkaline water quality of the pH.6, even if you use a little soap, the skin is good and the skin is soft and soft even after bathing.Cion, sodium, calcium, potassium, magnesium, etc., and an ion bicarbonate, and carbonated, which contains a large amount of ingredients that are beneficial to the human body allows you to protect beautiful skin and health.It is the best health hot spring bath with excellent efficacy for neuralgia rheumatism, gastrointestinal diseases, gynecological diseases, chronic constipation, fatigue, headache, insomnia, and atopy.',\n",
       " 'The largest hot spring complex in Ulsan.The hot spring is a large hot spring complex located at the foot of Sinbulsan, the Alps in Yeongnam, Sangbuk -myeon, Ulju -gun, Ulju -gun.The official name is the District Protection District, and is also called Shinbulsan Hot Spring.The hot spring water quality is an alkaline heavy cloth elected from 600 ~ 800m underground, and contains calcium, and is effective for various dermatitis and neuralgia digestive diseases, bronchitis, hypertension, and skin care, and especially the mineral water that can be drinked as drinking water.You can enjoy the joy of hiking and rest in connection with Yeongchuksan, Gasan, and Jaecyeongsan, including tourist attractions such as the embroidery cave country, Sakcheonjeong, Silla temple Seoknamsa, and Tongdosa.It is a goblin road that is seen as an uphill due to the illusion of the illusion.If you leave the car with a neutral at the point where the START sign is, the car rises uphill as if the car slides.',\n",
       " 'Quiet and quiet reservoir to walk.It is a reservoir located in the Munjuk -ri River, Cheongnyang -eup, Ulju -gun, Ulsan.Doohyeon Reservoir is made of flat, not uphill, so you can take a casual walk.The promenade consists of 5 courses, and there are convenience facilities such as sperm and sports facilities all over the place, so it is good for light exercise as well as walking.Because the walking course is not long, you can slowly look around and walk around and feel one with nature.If you walk along the promenade, you can see Munsusan Mountain, and you can take a picture against the reservoir.There are many famous restaurants and pretty cafes around.',\n",
       " \"The river and history of the Seomjin River, the River and Life of Seomjin River.Ulsan Big Bari House, which gives Ulsan citizens and tourists a variety of attractions, is a cultural complex space that exhibits and sells tourism products.Ulsan Big Approach is the representative character of Ulsan who won the grand prize at the 2nd Woori Village Championship in 2019.On the first floor, there is a souvenir shop with a tourist information center and Ulsan big baby character.The second floor is an exhibition space decorated with various props on the theme of Ulsan's big baby.In particular, the big baby room, filled with princess beds and cute props, is the favorite place for young children.The third floor is a studio of the flowering stage.If you are looking for retro costumes, you can create a different style by creating a variety of styles if you are looking for a lover, friends and family.Prior reservations are required when using the studio.If you leave a big baby house and walk a little, there is a big baby shopping street in Ulsan.\",\n",
       " 'Ulsan representative fish tank.The defensive port, designated as a national fishing port in 1971, is the representative fishing port of Ulsan with a large site and auction house.In addition to defense, various fish species such as cutlass, mackerel, and anchovies are caught, and you can buy fresh seafood at nearby fish markets and sashimi centers.The promenade along the breakwater is also a good way to take a picture, and the sea road that leads to the defense port, Daewangam Park, Crying Lighthouse, and Ilsan Beach is also a romantic landscape.In order to revitalize tourism resources, northern watershed murals, floor designs and parking lots were established, and the village museum was opened.It is a resting place for Ulsan citizens and provides many attractions for tourists.',\n",
       " \"Gyeongsang -do Byeong -do Byeongjaksa -yeol's Garrison.Ulsan Byeongseong, which was built in 1417 (Taejong 17), was a typical town of the Joseon Dynasty, which was accumulated using low hills below 45m above sea level.The total plane shape is oval, and the castle is about 1.2km in circumference and about 3.7m high.At the time of the first construction, it was equipped with only basic facilities such as a woman (墻: low fence installed on the walls to protect the body from the enemy), and then came to Sejong and Munjongdae and came to Ongseong (甕 甕: 雉 雉)· A number of defense facilities such as moat (垓 垓) were installed.There are records that there were wells, ditches, and warehouses as internal facilities.In the past, the Gyeongsang -seok also put a red flag around the circumference to move the position of theft of the soldiers to Gibaksanseong.At this time, one of the flags flew south on the whirlwind, and it was said that it was the current barracks position.It is said that the castle is a talent that is projected to prevent the invasion of the external and to protect the village by building the castle on the feng shui geographic road.The castle, which has long been in charge of the southeast coast defense of the country, is located in the Daman Army, which was stationed near the Imjin War and Jeong Yu -ran.It was damaged by building the Ulsan dwarf.As the urban development project was carried out in modern times, only the castle ruins remained, but since 2010, the restoration project has been in progress.\",\n",
       " \"It is a place to honor the achievements of Hangul scholar Choi Hyun -bae who kept Korean.The Olsol Memorial Hall was opened to honor the achievements of Olsol Choi Hyun -bae, an independence activist who kept Korean and writings, and Hangul scholar who walked for the lifetime and informatization.Ossol Choi Hyun -bae prepared [Korean spelling unification plan] and worked hard on establishing standard words and compiling Korean dictionary.In addition, there was an effort of Choi Hyun -bae, Choi Hyun -bae, until Hunminjeongeum became Hangul today by laying the foundation for the Korean language policy and dedicated to the Hangul movement.The Memorial Hall is a permanent exhibition room where Oosol Choi Hyun -bae's books and articles have been displayed for the rest of their lives, as well as Hangul rooms where various Korean books can be viewed, various Hangul play and experience rooms for children, and assorted rooms.It has a video room.In particular, the permanent exhibition room was reorganized in March 2023 and became a much more pleasant space than at the time of the opening, and various materials can easily understand the life of the lives.You can also experience [Making your own visit with electronic typewriter] in the experience space in the exhibition room.In the outdoor space on the 2nd floor of the memorial hall, Ossol Choi Hyun -bae and the birthplace of grown up are together to see his life at a glance.\",\n",
       " \"The Yeongpyeong Children's Park, which was created to restore the damaged hills ecologically and to prepare for the leisure activities and resting space of the residents, is an outing space where you can have time for communication and healing with your family and friends in beautiful nature.There's a free rail sledding that you can go down on a sled, a playground with a sandy sandy field for children who like sand, and a complex slide giant tree where you can go back to concentricity and enjoy exciting adventures.Romantic picnics will be enjoyed at the large lawn plaza, and one day you spend while experiencing natural experiences at the Ulsan Theme Plant Arboretum.\",\n",
       " \"Silla's loyalty Park Je -sang and the vow who enshrined the family.It is one of the rare vows as a vow that depends on Silla's loyalty Park Je -sang and his family.The origin of Chisan Seowon begins with [Shinsmosa], which was built on the head of Mukjangsan, Gyeongju, Gyeongju, to be sacrificed.In the Joseon Dynasty, he was re -established in Dudong -myeon, where the new mosa was led by the Yeongjo 16 years (1745).I was ordered to bring the brothers who went to the ball.Park Je -sang went to Goguryeo and brought the decryption first, and then went to the Korean country to rescue Massage, and he was burned at the end of the severe torture.In the east of Du -dong -myeon Manga -ri, Park Je -sang's wife waited for her husband with her two daughters, and she became a mangseok seat, and the legend that the soul became a bird and hidden and hidden.After that, King Nulji has been prove to Park Je -sang, and his wife has been involved in his wife.The nearest Memorial Hall of Chisan Seowon is exhibited in the Three Kingdoms Era, the international situation of the 4th and 5th centuries, and the performance of Park Je -sang.\",\n",
       " \"A quiet beach where you can look into the quiet sea.It is a small beach on the east coast of Seosaeng -myeon, Ulju -gun, Ulsan.Solgae Beach is a small and small beach with a very fine sand.It's a bit less accessible to Ulsan's outskirts, but it's perfect if you want a beach that is not crowded.Compared to nearby beaches, you can feel different from the beach, which is small but crowded with many people.You can walk the coast on the deck walkway at the beach, and there are also facilities that you can enjoy leisure to be adjacent to the beach.\",\n",
       " 'It has an outdoor stage so you can enjoy various performances.Deoksin Park is a small city neighborhood park in Onsan -eup, Ulju -gun, and has built a park on a triangular land.You can use the sports facilities in the park at any time, and the park floor is flat, so it is safe for children to enjoy skateboards and inline skates.In the spring, you can enjoy cherry blossoms.In addition, it is equipped with an outdoor stage, so you can enjoy various performances.In particular, the toilet in Deoksino Park is a public toilet in the public toilet, and can be used with more relief by completing the improvement of crime prevention design.',\n",
       " \"Complex recreational space for family outings.Bulgogi Farm Farm Fish Village Theme Park is a complex resort space that created waterside space, plaza space, and Korean beef bulgogi theme hall on 94,397㎡ of Sangbuk -myeon.There is a reservoir in the middle of the park, and there is a reed ecological park and a buttercup water purification center, as well as a walkway, an observation deck, and an observation deck.The park plaza has a children's playground, a tent bench, and a picnic table, making it perfect for family outing.In addition, Hanwoo Bulgogi Theme Museum, which is built in the form of traditional Hanok, can be found in Korean beef bulgogi, and there are also Korean beef cabinets that can taste the excellent meat bulgogi produced in Ulju -gun at a low price.It is the best place for a family outing where you can enjoy your mouth and play happily for children.\",\n",
       " 'A good place to rest with phytoncide.Dalcheon -dong Cheonma Mountain (236m above sea level) is a cypress 5ha, pine 33 ha, and pine 2 ha.Cheonmasan Cypress Forest Beach is selected as the Korea Tourism Organization [Tourist Tourism Destinations] and is operating forest commentary and forest experience.Cypress is excellent in relieving skin diseases such as stress relief, atopic dermatitis, allergies, and anti -aging, and the forest path with cypress is popular as a forest bath.In addition, there are trails and shelter tables in the forest..At the summit of Cheonmasan, you can see the Heavy Industries Complex located on the Ulsan city and the East Sea.',\n",
       " \"Education for 'children who know stars'.The Children's Observatory has been established in 25 places nationwide since its launch in 2003 as a children's astronomical observatory under Yonsei University.The Ulsan Children's Observatory was opened for 13th in May 2017.It has excellent astronomical observation facilities, and is provided with education and celestial observations for stars and universe, as well as children, youth and the general public.It is a space where scientific knowledge hidden in the universe through a systematic astronomical program of four years.Children can easily meet stars, and it is a place of education that can learn both spatial perception and astronomical knowledge through the practice of making astronomical -related creativity.For children, the mystery of the universe and the wisdom of humanity can show the stars and worlds of the universe.\",\n",
       " 'A glimpse of the lives of embankment and Silla people in the past.When you enter the Yaksa -dong embankment exhibition hall, the trapezoidal layer of the trapezoid, which is a cross -section of the huge embankment, fills the front of the exhibition hall.Yaksa -dong embankment is a repair facility built at the end of the Three Kingdoms period (6-7 centuries) at the end of the Three Kingdoms era.As a result of confirming the construction method in an excavation survey over two years, the embankment is not simply stacked soil, but a very complex structure like a modern dam.Ancient civil engineering techniques, such as a high viscous silts and factions on the processed foundation ground, and an ancient civil engineering technique, such as the lobe method using the leaf -run thin branches, are considered to have important academic value.It is amazing and interesting that the new lines knew that calcium carbonate, which was collected from the downstream of the Taehwa River, could meet the soil more firmly by meeting moisture.In addition to the ruins of the embankment, the exhibition hall also exhibits excavated products such as farm equipment and earthenware that can know the lives of local people at the time.',\n",
       " \"Let's follow Ko Bok -soo's footsteps !.Walking along the Gobok -gil, which is built in Jung -gu, Jung -gu, Ulsan, and a 150m in the Sashimi Street, you will talk about old buildings and old alleys armed with retro sensitivity.The Goboksu Music Center, which was decorated with an old family house, is operated as a complex cultural space on the first floor on the first floor.It was designed to enjoy the life of Golsan and his wife, Golden Sim, and his wife, Golden Sim.The Goboksu Music Center is also perfect for taking a retro -style emotional picture by decorating the gramophone, piano, etc., which can feel the atmosphere of the flowering period, and the interior.In Ulsan, Go Bok -soo is held every year for the development of Korea's popular songs and the achievements of Mr. Ko Bok -soo, who left a big footsteps in Korean songs.You can relax while enjoying drinks in Seongnam Salon on the second floor.\",\n",
       " 'A small pond with mysterious legends.The charcoal nail ecological park is located in Jung -gu, Ulsan.This charcoal is small enough to be called a small vantyi nail.']"
      ]
     },
     "execution_count": 68,
     "metadata": {},
     "output_type": "execute_result"
    }
   ],
   "source": [
    "answer"
   ]
  },
  {
   "cell_type": "code",
   "execution_count": null,
   "metadata": {},
   "outputs": [],
   "source": []
  }
 ],
 "metadata": {
  "kernelspec": {
   "display_name": "mulcam_3_9",
   "language": "python",
   "name": "mulcam_3_9"
  },
  "language_info": {
   "codemirror_mode": {
    "name": "ipython",
    "version": 3
   },
   "file_extension": ".py",
   "mimetype": "text/x-python",
   "name": "python",
   "nbconvert_exporter": "python",
   "pygments_lexer": "ipython3",
   "version": "3.9.18"
  }
 },
 "nbformat": 4,
 "nbformat_minor": 2
}
