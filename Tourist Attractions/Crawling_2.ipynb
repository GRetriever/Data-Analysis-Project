{
 "cells": [
  {
   "cell_type": "code",
   "execution_count": 7,
   "metadata": {},
   "outputs": [
    {
     "data": {
      "text/html": [
       "<div>\n",
       "<style scoped>\n",
       "    .dataframe tbody tr th:only-of-type {\n",
       "        vertical-align: middle;\n",
       "    }\n",
       "\n",
       "    .dataframe tbody tr th {\n",
       "        vertical-align: top;\n",
       "    }\n",
       "\n",
       "    .dataframe thead th {\n",
       "        text-align: right;\n",
       "    }\n",
       "</style>\n",
       "<table border=\"1\" class=\"dataframe\">\n",
       "  <thead>\n",
       "    <tr style=\"text-align: right;\">\n",
       "      <th></th>\n",
       "      <th>광역시/도</th>\n",
       "      <th>시/군/구</th>\n",
       "      <th>관광지명</th>\n",
       "      <th>도로명주소</th>\n",
       "      <th>중분류 카테고리</th>\n",
       "      <th>소분류 카테고리</th>\n",
       "      <th>검색건수</th>\n",
       "    </tr>\n",
       "  </thead>\n",
       "  <tbody>\n",
       "    <tr>\n",
       "      <th>0</th>\n",
       "      <td>부산광역시</td>\n",
       "      <td>해운대구</td>\n",
       "      <td>신세계백화점센텀시티점</td>\n",
       "      <td>부산 해운대구 센텀남대로 35-0</td>\n",
       "      <td>쇼핑</td>\n",
       "      <td>백화점</td>\n",
       "      <td>605647</td>\n",
       "    </tr>\n",
       "    <tr>\n",
       "      <th>1</th>\n",
       "      <td>부산광역시</td>\n",
       "      <td>강서구</td>\n",
       "      <td>김해국제공항</td>\n",
       "      <td>부산 강서구 공항진입로 108-0</td>\n",
       "      <td>기타관광</td>\n",
       "      <td>교통시설</td>\n",
       "      <td>566549</td>\n",
       "    </tr>\n",
       "    <tr>\n",
       "      <th>2</th>\n",
       "      <td>부산광역시</td>\n",
       "      <td>기장군</td>\n",
       "      <td>롯데프리미엄아울렛동부산점</td>\n",
       "      <td>부산 기장군 기장해안로 147-0</td>\n",
       "      <td>쇼핑</td>\n",
       "      <td>쇼핑몰</td>\n",
       "      <td>518962</td>\n",
       "    </tr>\n",
       "    <tr>\n",
       "      <th>3</th>\n",
       "      <td>부산광역시</td>\n",
       "      <td>부산진구</td>\n",
       "      <td>롯데백화점부산본점</td>\n",
       "      <td>부산 부산진구 가야대로 772-0</td>\n",
       "      <td>쇼핑</td>\n",
       "      <td>백화점</td>\n",
       "      <td>393188</td>\n",
       "    </tr>\n",
       "    <tr>\n",
       "      <th>4</th>\n",
       "      <td>부산광역시</td>\n",
       "      <td>강서구</td>\n",
       "      <td>김해공항국내선청사</td>\n",
       "      <td>부산 강서구 공항진입로 108-0</td>\n",
       "      <td>기타관광</td>\n",
       "      <td>교통시설</td>\n",
       "      <td>376896</td>\n",
       "    </tr>\n",
       "    <tr>\n",
       "      <th>...</th>\n",
       "      <td>...</td>\n",
       "      <td>...</td>\n",
       "      <td>...</td>\n",
       "      <td>...</td>\n",
       "      <td>...</td>\n",
       "      <td>...</td>\n",
       "      <td>...</td>\n",
       "    </tr>\n",
       "    <tr>\n",
       "      <th>495</th>\n",
       "      <td>부산광역시</td>\n",
       "      <td>사하구</td>\n",
       "      <td>을숙도인라인스케이트장</td>\n",
       "      <td>부산 사하구 낙동남로1233번길 38-0</td>\n",
       "      <td>레저스포츠</td>\n",
       "      <td>육상레저스포츠</td>\n",
       "      <td>1696</td>\n",
       "    </tr>\n",
       "    <tr>\n",
       "      <th>496</th>\n",
       "      <td>부산광역시</td>\n",
       "      <td>해운대구</td>\n",
       "      <td>반송공원</td>\n",
       "      <td>부산 해운대구 반송순환로 100-53</td>\n",
       "      <td>문화관광</td>\n",
       "      <td>도시공원</td>\n",
       "      <td>1695</td>\n",
       "    </tr>\n",
       "    <tr>\n",
       "      <th>497</th>\n",
       "      <td>부산광역시</td>\n",
       "      <td>동구</td>\n",
       "      <td>금수사</td>\n",
       "      <td>부산 동구 망양로 533-1</td>\n",
       "      <td>역사관광</td>\n",
       "      <td>종교성지</td>\n",
       "      <td>1685</td>\n",
       "    </tr>\n",
       "    <tr>\n",
       "      <th>498</th>\n",
       "      <td>부산광역시</td>\n",
       "      <td>금정구</td>\n",
       "      <td>선동잔디구장</td>\n",
       "      <td>부산 금정구</td>\n",
       "      <td>문화관광</td>\n",
       "      <td>레저스포츠시설</td>\n",
       "      <td>1683</td>\n",
       "    </tr>\n",
       "    <tr>\n",
       "      <th>499</th>\n",
       "      <td>부산광역시</td>\n",
       "      <td>기장군</td>\n",
       "      <td>바모스승마클럽</td>\n",
       "      <td>부산 기장군 병산1길 102-108</td>\n",
       "      <td>레저스포츠</td>\n",
       "      <td>육상레저스포츠</td>\n",
       "      <td>1681</td>\n",
       "    </tr>\n",
       "  </tbody>\n",
       "</table>\n",
       "<p>500 rows × 7 columns</p>\n",
       "</div>"
      ],
      "text/plain": [
       "     광역시/도 시/군/구           관광지명                   도로명주소 중분류 카테고리 소분류 카테고리  \\\n",
       "0    부산광역시  해운대구    신세계백화점센텀시티점      부산 해운대구 센텀남대로 35-0       쇼핑      백화점   \n",
       "1    부산광역시   강서구         김해국제공항      부산 강서구 공항진입로 108-0     기타관광     교통시설   \n",
       "2    부산광역시   기장군  롯데프리미엄아울렛동부산점      부산 기장군 기장해안로 147-0       쇼핑      쇼핑몰   \n",
       "3    부산광역시  부산진구      롯데백화점부산본점      부산 부산진구 가야대로 772-0       쇼핑      백화점   \n",
       "4    부산광역시   강서구      김해공항국내선청사      부산 강서구 공항진입로 108-0     기타관광     교통시설   \n",
       "..     ...   ...            ...                     ...      ...      ...   \n",
       "495  부산광역시   사하구    을숙도인라인스케이트장  부산 사하구 낙동남로1233번길 38-0    레저스포츠  육상레저스포츠   \n",
       "496  부산광역시  해운대구           반송공원    부산 해운대구 반송순환로 100-53     문화관광     도시공원   \n",
       "497  부산광역시    동구            금수사         부산 동구 망양로 533-1     역사관광     종교성지   \n",
       "498  부산광역시   금정구         선동잔디구장                  부산 금정구     문화관광  레저스포츠시설   \n",
       "499  부산광역시   기장군        바모스승마클럽     부산 기장군 병산1길 102-108    레저스포츠  육상레저스포츠   \n",
       "\n",
       "       검색건수  \n",
       "0    605647  \n",
       "1    566549  \n",
       "2    518962  \n",
       "3    393188  \n",
       "4    376896  \n",
       "..      ...  \n",
       "495    1696  \n",
       "496    1695  \n",
       "497    1685  \n",
       "498    1683  \n",
       "499    1681  \n",
       "\n",
       "[500 rows x 7 columns]"
      ]
     },
     "execution_count": 7,
     "metadata": {},
     "output_type": "execute_result"
    }
   ],
   "source": [
    "import pandas as pd\n",
    "\n",
    "df = pd.read_csv('./data/busan_rankings_by_searchnumbers.csv',encoding='utf-8')\n",
    "df.drop(['순위'],axis=1,inplace=True)\n",
    "df"
   ]
  },
  {
   "cell_type": "code",
   "execution_count": 177,
   "metadata": {},
   "outputs": [
    {
     "data": {
      "text/plain": [
       "array(['백화점', '교통시설', '쇼핑몰', '자연경관(하천/해양)', '종교성지', '전시시설', '시장', '역사유적지',\n",
       "       '대형마트', '테마공원', '레저스포츠시설', '도시공원', '웰니스관광', '기타관광', '육상레저스포츠',\n",
       "       '수상레저스포츠', '공연시설', '복합관광시설', '기타문화관광지', '랜드마크관광', '데이트코스',\n",
       "       '기타레저스포츠', '자연공원', '기타쇼핑시설', '자연경관(산)', '면세점', '자연생태', '농/산/어촌체험',\n",
       "       '전문매장/상가'], dtype=object)"
      ]
     },
     "execution_count": 177,
     "metadata": {},
     "output_type": "execute_result"
    }
   ],
   "source": [
    "# 카테고리 확인\n",
    "df['소분류 카테고리'].unique()"
   ]
  },
  {
   "cell_type": "code",
   "execution_count": null,
   "metadata": {},
   "outputs": [],
   "source": [
    "# 데이터 검사\n",
    "df[df['소분류 카테고리'].str.contains('쇼핑몰')]"
   ]
  },
  {
   "cell_type": "code",
   "execution_count": 8,
   "metadata": {},
   "outputs": [],
   "source": [
    "# 불필요한 장소 지우기\n",
    "df = df[~df['소분류 카테고리'].str.contains('교통시설|면세점|레저스포츠시설|공연시설|백화점|대형마트|쇼핑몰')].reset_index(drop=True)"
   ]
  },
  {
   "cell_type": "code",
   "execution_count": 10,
   "metadata": {},
   "outputs": [],
   "source": [
    "stars = []\n",
    "reviews = []"
   ]
  },
  {
   "cell_type": "code",
   "execution_count": null,
   "metadata": {},
   "outputs": [],
   "source": [
    "from selenium import webdriver\n",
    "from selenium.webdriver.common.by import By\n",
    "from selenium.webdriver.support.ui import WebDriverWait\n",
    "from selenium.webdriver.support import expected_conditions as EC\n",
    "from webdriver_manager.chrome import ChromeDriverManager\n",
    "from selenium.webdriver.chrome.service import Service\n",
    "\n",
    "\n",
    "for i in df['관광지명']:\n",
    "    url = f'https://www.google.co.kr/maps/search/부산{i}'\n",
    "    service = Service(executable_path='./data/chromedriver.exe')\n",
    "    driver = webdriver.Chrome(service=Service(ChromeDriverManager().install()))\n",
    "    driver.get(url)\n",
    "    \n",
    "    try:\n",
    "        # 해당 클래스명이 나타날 때까지 최대 10초 대기\n",
    "        element = WebDriverWait(driver, 10).until(\n",
    "            EC.presence_of_element_located((By.CLASS_NAME, 'F7nice'))\n",
    "        )\n",
    "        \n",
    "        star = element.text.split('\\n')[0]\n",
    "        review = element.text.split('\\n')[1][1:-1]\n",
    "        \n",
    "        stars.append(star)\n",
    "        reviews.append(review)\n",
    "    except:\n",
    "        check = input('일치하는 가게를 클릭 후 y를 눌러주세요(이외 멈춤)')\n",
    "        if check.upper() == 'Y':\n",
    "            star = driver.find_element(By.CLASS_NAME, 'F7nice').text.split('\\n')[0]\n",
    "            review = driver.find_element(By.CLASS_NAME, 'F7nice').text.split('\\n')[1][1:-1]\n",
    "            \n",
    "            stars.append(star)\n",
    "            reviews.append(review)\n",
    "        else:\n",
    "            stars.append(None)\n",
    "            reviews.append(None)\n",
    "\n",
    "    driver.quit()\n",
    "    print(f'평점 수 : {len(stars)}', '|', f'리뷰 수 : {len(reviews)}')\n"
   ]
  },
  {
   "cell_type": "code",
   "execution_count": 6,
   "metadata": {},
   "outputs": [
    {
     "name": "stdout",
     "output_type": "stream",
     "text": [
      "총 데이터 수 : 385\n",
      "=========================================\n",
      "평점 수 : 14\n",
      "리뷰 수 : 14\n",
      "=========================================\n",
      "총 None값 수 : 0\n",
      "총 None값 수 : 0\n"
     ]
    }
   ],
   "source": [
    "print(f'총 데이터 수 : {len(df)}')\n",
    "print('=========================================')\n",
    "print(f'평점 수 : {len(stars)}')\n",
    "print(f'리뷰 수 : {len(reviews)}')\n",
    "print('=========================================')\n",
    "print(f'총 None값 수 : {stars.count(None)}')\n",
    "print(f'총 None값 수 : {reviews.count(None)}')"
   ]
  },
  {
   "cell_type": "code",
   "execution_count": null,
   "metadata": {},
   "outputs": [],
   "source": [
    "for i in df['관광지명']:\n",
    "    url = f'https://www.google.co.kr/maps/search/부산{i}'\n",
    "    service = Service(executable_path='./data/chromedriver.exe')\n",
    "    driver = webdriver.Chrome(service=Service(ChromeDriverManager().install()))\n",
    "    driver.get(url)\n",
    "    \n",
    "    try:\n",
    "        # 해당 클래스명이 나타날 때까지 최대 10초 대기\n",
    "        element = WebDriverWait(driver, 10).until(\n",
    "            EC.presence_of_element_located((By.CLASS_NAME, 'F7nice'))\n",
    "        )\n",
    "        \n",
    "        star = element.text.split('\\n')[0]\n",
    "        review = element.text.split('\\n')[1][1:-1]\n",
    "        \n",
    "        stars.append(star)\n",
    "        reviews.append(review)\n",
    "    except:\n",
    "        check = input('일치하는 가게를 클릭 후 y를 눌러주세요(이외 멈춤)')\n",
    "        if check.upper() == 'Y':\n",
    "            star = driver.find_element(By.CLASS_NAME, 'F7nice').text.split('\\n')[0]\n",
    "            review = driver.find_element(By.CLASS_NAME, 'F7nice').text.split('\\n')[1][1:-1]\n",
    "            \n",
    "            stars.append(star)\n",
    "            reviews.append(review)\n",
    "        else:\n",
    "            stars.append(None)\n",
    "            reviews.append(None)\n",
    "\n",
    "    driver.quit()\n",
    "    print(f'평점 수 : {len(stars)}', '|', f'리뷰 수 : {len(reviews)}')\n"
   ]
  },
  {
   "cell_type": "code",
   "execution_count": null,
   "metadata": {},
   "outputs": [],
   "source": []
  },
  {
   "cell_type": "code",
   "execution_count": 163,
   "metadata": {},
   "outputs": [
    {
     "data": {
      "text/plain": [
       "<selenium.webdriver.remote.webelement.WebElement (session=\"c3960a5479942bef3da06fa5dfc9fed1\", element=\"BF185D206D5297DC90D1E740A70FCF57_element_1378\")>"
      ]
     },
     "execution_count": 163,
     "metadata": {},
     "output_type": "execute_result"
    }
   ],
   "source": [
    "driver.find_element(By.CLASS_NAME,'F7nice')"
   ]
  },
  {
   "cell_type": "code",
   "execution_count": 123,
   "metadata": {},
   "outputs": [],
   "source": [
    "url = 'https://www.google.co.kr/maps/search/태종대'"
   ]
  },
  {
   "cell_type": "code",
   "execution_count": 124,
   "metadata": {},
   "outputs": [],
   "source": [
    "service = Service(executable_path='./data/chromedriver.exe')\n",
    "\n",
    "driver = webdriver.Chrome(service=Service(ChromeDriverManager().install()))\n",
    "\n",
    "driver.get(url)"
   ]
  },
  {
   "cell_type": "code",
   "execution_count": 164,
   "metadata": {},
   "outputs": [
    {
     "data": {
      "text/plain": [
       "'3.7'"
      ]
     },
     "execution_count": 164,
     "metadata": {},
     "output_type": "execute_result"
    }
   ],
   "source": [
    "driver.find_element(By.CLASS_NAME,'F7nice').text.split('\\n')[0]"
   ]
  },
  {
   "cell_type": "code",
   "execution_count": 165,
   "metadata": {},
   "outputs": [
    {
     "data": {
      "text/plain": [
       "'253'"
      ]
     },
     "execution_count": 165,
     "metadata": {},
     "output_type": "execute_result"
    }
   ],
   "source": [
    "driver.find_element(By.CLASS_NAME,'F7nice').text.split('\\n')[1][1:-1]"
   ]
  },
  {
   "cell_type": "code",
   "execution_count": 140,
   "metadata": {},
   "outputs": [],
   "source": [
    "check=input('일치하는 가게를 클릭 후 y를 눌러주세요(이외 멈춤)')\n",
    "if check.upper()=='Y':\n",
    "    now_url=driver.current_url\n",
    "else:\n",
    "    pass"
   ]
  },
  {
   "cell_type": "code",
   "execution_count": null,
   "metadata": {},
   "outputs": [],
   "source": []
  },
  {
   "cell_type": "code",
   "execution_count": null,
   "metadata": {},
   "outputs": [],
   "source": []
  },
  {
   "cell_type": "code",
   "execution_count": null,
   "metadata": {},
   "outputs": [],
   "source": []
  },
  {
   "cell_type": "code",
   "execution_count": null,
   "metadata": {},
   "outputs": [],
   "source": []
  },
  {
   "cell_type": "code",
   "execution_count": 38,
   "metadata": {},
   "outputs": [
    {
     "name": "stderr",
     "output_type": "stream",
     "text": [
      "'unzip'��(��) ���� �Ǵ� �ܺ� ����, ������ �� �ִ� ���α׷�, �Ǵ�\n",
      "��ġ ������ �ƴմϴ�.\n"
     ]
    }
   ],
   "source": [
    "!unzip './data/20240221161649_동구_202301-202312_데이터랩_다운로드.zip' -d '/content'"
   ]
  },
  {
   "cell_type": "code",
   "execution_count": null,
   "metadata": {},
   "outputs": [],
   "source": []
  }
 ],
 "metadata": {
  "kernelspec": {
   "display_name": "mulcam_3_9",
   "language": "python",
   "name": "mulcam_3_9"
  },
  "language_info": {
   "codemirror_mode": {
    "name": "ipython",
    "version": 3
   },
   "file_extension": ".py",
   "mimetype": "text/x-python",
   "name": "python",
   "nbconvert_exporter": "python",
   "pygments_lexer": "ipython3",
   "version": "3.9.18"
  }
 },
 "nbformat": 4,
 "nbformat_minor": 2
}
