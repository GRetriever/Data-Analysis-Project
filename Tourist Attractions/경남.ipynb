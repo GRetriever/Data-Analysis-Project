{
 "cells": [
  {
   "cell_type": "code",
   "execution_count": 58,
   "metadata": {},
   "outputs": [],
   "source": [
    "import os\n",
    "import pandas as pd\n",
    "\n",
    "import warnings\n",
    "warnings.filterwarnings('ignore')"
   ]
  },
  {
   "cell_type": "code",
   "execution_count": 70,
   "metadata": {},
   "outputs": [],
   "source": [
    "names = os.listdir('./경남')"
   ]
  },
  {
   "cell_type": "code",
   "execution_count": 71,
   "metadata": {},
   "outputs": [],
   "source": [
    "names = [name[:-4] for name in names]"
   ]
  },
  {
   "cell_type": "code",
   "execution_count": null,
   "metadata": {},
   "outputs": [],
   "source": [
    "names"
   ]
  },
  {
   "cell_type": "code",
   "execution_count": 74,
   "metadata": {},
   "outputs": [],
   "source": [
    "df_경상남도 = pd.DataFrame()\n",
    "\n",
    "for name in names:\n",
    "    df = pd.read_csv(f'./경상남도/{name}.csv',encoding='ANSI')\n",
    "    df_경상남도 = pd.concat([df_경상남도,df],ignore_index=True)"
   ]
  },
  {
   "cell_type": "markdown",
   "metadata": {},
   "source": [
    "==================================================================================================\n",
    "\n",
    "==================================================================================================\n",
    "\n",
    "=================================================================================================="
   ]
  },
  {
   "cell_type": "code",
   "execution_count": null,
   "metadata": {},
   "outputs": [],
   "source": [
    "# 파일명 변경\n",
    "\n",
    "folder_names = os.listdir('./경남/')\n",
    "\n",
    "for folder_name in folder_names:\n",
    "    file_names = os.listdir(f'./경남/{folder_name}')\n",
    "    for file_name in file_names:\n",
    "        split_file_name = file_name.replace('.csv','').split('_')\n",
    "        os.rename(f'./경남/{folder_name}/{file_name}',f'./경남/{folder_name}/{folder_name}_{split_file_name[1]}.csv')"
   ]
  },
  {
   "cell_type": "markdown",
   "metadata": {},
   "source": [
    "==================================================================================================\n",
    "\n",
    "==================================================================================================\n",
    "\n",
    "=================================================================================================="
   ]
  },
  {
   "cell_type": "markdown",
   "metadata": {},
   "source": [
    "### 데이터프레임 합치기\n",
    "### 관광지 기본정보"
   ]
  },
  {
   "cell_type": "code",
   "execution_count": null,
   "metadata": {},
   "outputs": [],
   "source": [
    "basic_info = pd.DataFrame()\n",
    "\n",
    "for folder_name in folder_names:\n",
    "    df = pd.read_csv(f'./경남/{folder_name}/{folder_name}_관광지 기본정보.csv',encoding='ANSI')\n",
    "    basic_info = pd.concat([basic_info,df],ignore_index=True)"
   ]
  },
  {
   "cell_type": "code",
   "execution_count": null,
   "metadata": {},
   "outputs": [],
   "source": [
    "basic_info.to_csv('./경남/basic_info.csv',encoding='utf-8',index=False)"
   ]
  },
  {
   "cell_type": "markdown",
   "metadata": {},
   "source": [
    "### 데이터프레임 합치기\n",
    "\n",
    "### 내비게이션"
   ]
  },
  {
   "cell_type": "code",
   "execution_count": null,
   "metadata": {},
   "outputs": [],
   "source": [
    "navi_info = pd.DataFrame()\n",
    "\n",
    "for folder_name in folder_names:\n",
    "    df = pd.read_csv(f'./경남/{folder_name}/{folder_name}_내비게이션 목적지 검색량 추이.csv',encoding='ANSI',index_col=0)\n",
    "    df = df.rename(columns={df.columns[0] : folder_name}).transpose()\n",
    "    df['관광지명'] = folder_name\n",
    "    navi_info = pd.concat([navi_info,df])"
   ]
  },
  {
   "cell_type": "code",
   "execution_count": null,
   "metadata": {},
   "outputs": [],
   "source": [
    "order = ['관광지명',202301,202302, 202303, 202304,202305, 202306, 202307, 202308,202309, 202310, 202311, 202312]\n",
    "navi_info = navi_info[order]"
   ]
  },
  {
   "cell_type": "code",
   "execution_count": null,
   "metadata": {},
   "outputs": [],
   "source": [
    "navi_info.to_csv('./경남/navi_info.csv',encoding='utf-8',index=False)"
   ]
  },
  {
   "cell_type": "markdown",
   "metadata": {},
   "source": [
    "### 데이터프레임 합치기\n",
    "### 방문자 거주지별 분포"
   ]
  },
  {
   "cell_type": "code",
   "execution_count": null,
   "metadata": {},
   "outputs": [],
   "source": [
    "order = ['관광지명','광역지자체명', '기초지자체명', '광역지자체별 거주 방문자 비율', '기초지자체별 거주 방문자 비율']\n",
    "\n",
    "visit_info = pd.DataFrame()\n",
    "\n",
    "for folder_name in folder_names:\n",
    "    df = pd.read_csv(f'./경남/{folder_name}/{folder_name}_방문자 거주지별 분포.csv',encoding='ANSI')\n",
    "    df['관광지명'] = folder_name\n",
    "    df = df[order]\n",
    "    \n",
    "    visit_info = pd.concat([visit_info,df],ignore_index=True)"
   ]
  },
  {
   "cell_type": "code",
   "execution_count": null,
   "metadata": {},
   "outputs": [],
   "source": [
    "visit_info.to_csv('./경남/visit_info.csv',encoding='utf-8',index=False)"
   ]
  },
  {
   "cell_type": "markdown",
   "metadata": {},
   "source": [
    "### 데이터프레임 합치기\n",
    "### 성별"
   ]
  },
  {
   "cell_type": "code",
   "execution_count": null,
   "metadata": {},
   "outputs": [],
   "source": [
    "order = ['관광지명','연령대', '남성방문 비율', '여성방문 비율']\n",
    "\n",
    "gender_info = pd.DataFrame()\n",
    "\n",
    "for folder_name in folder_names:\n",
    "    df = pd.read_csv(f'./경남/{folder_name}/{folder_name}_성·연령별 방문자.csv',encoding='ANSI')\n",
    "    df['관광지명'] = folder_name\n",
    "    df = df[order]\n",
    "    gender_info = pd.concat([gender_info,df],ignore_index=True)"
   ]
  },
  {
   "cell_type": "code",
   "execution_count": null,
   "metadata": {},
   "outputs": [],
   "source": [
    "gender_info.to_csv('./경남/gender_info.csv',encoding='utf-8',index=False)"
   ]
  },
  {
   "cell_type": "markdown",
   "metadata": {},
   "source": [
    "### 데이터 가져오기\n",
    "### 위치정보"
   ]
  },
  {
   "cell_type": "code",
   "execution_count": null,
   "metadata": {},
   "outputs": [],
   "source": [
    "import requests\n",
    "from bs4 import BeautifulSoup\n",
    "import time"
   ]
  },
  {
   "cell_type": "code",
   "execution_count": null,
   "metadata": {},
   "outputs": [],
   "source": [
    "url = 'https://datalab.visitkorea.or.kr/visualize/getTempleteData.do'\n",
    "city_code = [48125,48127,48123,48121,48129]\n",
    "\n",
    "all = []\n",
    "\n",
    "for i in city_code:\n",
    "    params = {\n",
    "        \"SIDO_CD\": 29,\n",
    "        \"SGG_CD\": i,\n",
    "        \"BASE_YM1\": 2010,\n",
    "        \"BASE_YM2\": 2022,\n",
    "        \"CONT_NM\": \"\",\n",
    "        \"KTO_CATE_LCLS_CD\": \"\",\n",
    "        \"KTO_CATE_MCLS_CD\": \"\",\n",
    "        \"firstIndex\": float('nan'),\n",
    "        \"pageIndex\": 1,\n",
    "        \"recordCountPerPage\": 10,\n",
    "        \"orderSelect\": \"\",\n",
    "        \"orderValue\": \"asc\",\n",
    "        \"contentList\": \"전체\",\n",
    "        \"noTheme\": \"\",\n",
    "        \"qid\": \"LN_05_01_011\"\n",
    "    }\n",
    "\n",
    "    response = requests.get(url,params=params)\n",
    "    data = response.json()\n",
    "    \n",
    "    for item in data.get('list', []):\n",
    "        result = {\n",
    "            '관광지명': item.get('CONT_NM'),\n",
    "            '주소': item.get('TAR_ADDR_NM'),\n",
    "            '대분류': item.get('KTO_CATE_LCLS_NM'),\n",
    "            '중분류': item.get('KTO_CATE_MCLS_NM'),\n",
    "            '소분류': item.get('KTO_CATE_SCLS_NM'),\n",
    "            'longitude': item.get('XCRD'),\n",
    "            'latitude': item.get('YCRD')\n",
    "        }\n",
    "        all.append(result)\n",
    "        \n",
    "    if len(all) == 101:\n",
    "        break"
   ]
  },
  {
   "cell_type": "code",
   "execution_count": null,
   "metadata": {},
   "outputs": [],
   "source": [
    "df = pd.DataFrame(all)"
   ]
  },
  {
   "cell_type": "code",
   "execution_count": null,
   "metadata": {},
   "outputs": [],
   "source": [
    "df = pd.merge(basic_info,df,on='관광지명',how='outer')"
   ]
  },
  {
   "cell_type": "code",
   "execution_count": null,
   "metadata": {},
   "outputs": [],
   "source": [
    "df.to_csv('./경남/location_info.csv',encoding='utf-8',index=False)"
   ]
  },
  {
   "cell_type": "markdown",
   "metadata": {},
   "source": [
    "==================================================================================================\n",
    "\n",
    "==================================================================================================\n",
    "\n",
    "=================================================================================================="
   ]
  },
  {
   "cell_type": "code",
   "execution_count": null,
   "metadata": {},
   "outputs": [],
   "source": [
    "from selenium import webdriver\n",
    "from selenium.webdriver.common.by import By\n",
    "from selenium.webdriver.support.ui import WebDriverWait\n",
    "from selenium.webdriver.support import expected_conditions as EC\n",
    "from webdriver_manager.chrome import ChromeDriverManager\n",
    "from selenium.webdriver.chrome.service import Service\n",
    "\n",
    "stars = []\n",
    "reviews = []\n",
    "\n",
    "for i in basic_info['관광지명']:\n",
    "    url = f'https://www.google.co.kr/maps/search/{i}'\n",
    "    service = Service(executable_path='./data/chromedriver.exe')\n",
    "    driver = webdriver.Chrome(service=Service(ChromeDriverManager().install()))\n",
    "    driver.get(url)\n",
    "    \n",
    "    try:\n",
    "        # 해당 클래스명이 나타날 때까지 최대 10초 대기\n",
    "        element = WebDriverWait(driver, 10).until(\n",
    "            EC.presence_of_element_located((By.CLASS_NAME, 'F7nice'))\n",
    "        )\n",
    "        \n",
    "        star = element.text.split('\\n')[0]\n",
    "        review = element.text.split('\\n')[1][1:-1]\n",
    "        \n",
    "        stars.append(star)\n",
    "        reviews.append(review)\n",
    "    except:\n",
    "        check = input('일치하는 장소를 클릭 후 y를 눌러주세요(이외 None)')\n",
    "        if check.upper() == 'Y':\n",
    "            star = driver.find_element(By.CLASS_NAME, 'F7nice').text.split('\\n')[0]\n",
    "            review = driver.find_element(By.CLASS_NAME, 'F7nice').text.split('\\n')[1][1:-1]\n",
    "            \n",
    "            stars.append(star)\n",
    "            reviews.append(review)\n",
    "        else:\n",
    "            stars.append(None)\n",
    "            reviews.append(None)\n",
    "    \n",
    "    driver.quit()\n",
    "    print(f'평점 수 : {len(stars)}','|',f'리뷰 수 : {len(reviews)}','|',f'관광지 명 : {i}','|', f'별점 : {star}','|',f'리뷰 : {review}')\n",
    "    \n",
    "    star = None\n",
    "    review = None"
   ]
  },
  {
   "cell_type": "code",
   "execution_count": null,
   "metadata": {},
   "outputs": [
    {
     "name": "stdout",
     "output_type": "stream",
     "text": [
      "총 데이터 수 : 49\n",
      "=========================================\n",
      "평점 수 : 49\n",
      "리뷰 수 : 49\n",
      "=========================================\n",
      "총 None값 수 : 2\n",
      "총 None값 수 : 2\n"
     ]
    }
   ],
   "source": [
    "print(f'총 데이터 수 : {len(basic_info)}')\n",
    "print('=========================================')\n",
    "print(f'평점 수 : {len(stars)}')\n",
    "print(f'리뷰 수 : {len(reviews)}')\n",
    "print('=========================================')\n",
    "print(f'총 None값 수 : {stars.count(None)}')\n",
    "print(f'총 None값 수 : {reviews.count(None)}')"
   ]
  },
  {
   "cell_type": "code",
   "execution_count": null,
   "metadata": {},
   "outputs": [],
   "source": [
    "basic_info['stars'] = stars\n",
    "basic_info['reviews'] = reviews"
   ]
  },
  {
   "cell_type": "code",
   "execution_count": null,
   "metadata": {},
   "outputs": [],
   "source": [
    "basic_info.to_csv('./경남/basic_info.csv',encoding='utf-8',index=False)"
   ]
  },
  {
   "cell_type": "markdown",
   "metadata": {},
   "source": [
    "### 리뷰, 체류시간 -> 숫자 값으로 변경"
   ]
  },
  {
   "cell_type": "code",
   "execution_count": null,
   "metadata": {},
   "outputs": [],
   "source": [
    "time = []\n",
    "\n",
    "for i in basic_info['평균 체류시간']:\n",
    "    i = i.replace('시간','').replace('분','').strip()\n",
    "    i = i.split(' ')\n",
    "    time.append((int(i[0]) * 60) + int(i[1]))\n",
    "    \n",
    "basic_info['평균 체류시간'] = time"
   ]
  },
  {
   "cell_type": "code",
   "execution_count": null,
   "metadata": {},
   "outputs": [],
   "source": [
    "reviews_to_int = []\n",
    "\n",
    "for i in basic_info['reviews']:\n",
    "    if type(i) == type(None):\n",
    "        reviews_to_int.append(i)\n",
    "        continue\n",
    "    if type(i) in (float,int):\n",
    "        reviews_to_int.append(i)\n",
    "    else:\n",
    "        i = i.replace(',','')\n",
    "        i = int(i)\n",
    "        reviews_to_int.append(i)\n",
    "\n",
    "basic_info['reviews'] = reviews_to_int"
   ]
  },
  {
   "cell_type": "code",
   "execution_count": null,
   "metadata": {},
   "outputs": [],
   "source": [
    "basic_info.to_csv('./경남/basic_info.csv',encoding='utf-8',index=False)"
   ]
  },
  {
   "cell_type": "markdown",
   "metadata": {},
   "source": [
    "### None값 -> 관광지별 평균"
   ]
  },
  {
   "cell_type": "code",
   "execution_count": null,
   "metadata": {},
   "outputs": [],
   "source": [
    "navi_info.set_index('관광지명',inplace=True)"
   ]
  },
  {
   "cell_type": "code",
   "execution_count": null,
   "metadata": {},
   "outputs": [],
   "source": [
    "navi_info = navi_info.apply(lambda row: row.fillna(int(row.mean())), axis=1)"
   ]
  },
  {
   "cell_type": "code",
   "execution_count": null,
   "metadata": {},
   "outputs": [],
   "source": [
    "navi_info.to_csv('./경남/navi_info.csv',encoding='utf-8',index=False)"
   ]
  },
  {
   "cell_type": "markdown",
   "metadata": {},
   "source": [
    "### 광역지자체별 거주 방문자 비율"
   ]
  },
  {
   "cell_type": "code",
   "execution_count": null,
   "metadata": {},
   "outputs": [],
   "source": [
    "visit_info.dropna(subset=['광역지자체명'], axis=0,inplace=True)"
   ]
  },
  {
   "cell_type": "code",
   "execution_count": null,
   "metadata": {},
   "outputs": [],
   "source": [
    "names = visit_info['관광지명'].tolist()\n",
    "\n",
    "local_visit = visit_info[visit_info['광역지자체명'].str.contains('광주')].groupby('관광지명')[['광역지자체별 거주 방문자 비율']].mean()\n",
    "local_visit = local_visit.reset_index()\n",
    "\n",
    "local_visit.loc[local_visit['관광지명'].isin(names)]"
   ]
  },
  {
   "cell_type": "code",
   "execution_count": null,
   "metadata": {},
   "outputs": [],
   "source": [
    "basic_info['광역지자체별 거주 방문자 비율'] = local_visit['광역지자체별 거주 방문자 비율']"
   ]
  },
  {
   "cell_type": "code",
   "execution_count": null,
   "metadata": {},
   "outputs": [],
   "source": [
    "basic_info.to_csv('./경남/basic_info.csv',encoding='utf-8',index=False)"
   ]
  },
  {
   "cell_type": "markdown",
   "metadata": {},
   "source": [
    "===============================================================================================================\n",
    "\n",
    "===============================================================================================================\n",
    "\n",
    "==============================================================================================================="
   ]
  },
  {
   "cell_type": "code",
   "execution_count": null,
   "metadata": {},
   "outputs": [],
   "source": [
    "from selenium import webdriver\n",
    "from selenium.webdriver.chrome.service import Service\n",
    "import time\n",
    "from selenium.webdriver.common.action_chains import ActionChains\n",
    "from webdriver_manager.chrome import ChromeDriverManager\n",
    "from selenium.webdriver.common.by import By\n",
    "\n",
    "search_number = []\n",
    "for i in basic_info['관광지명']:\n",
    "    if not i.startswith('창원'):\n",
    "        i = '창원 ' + i\n",
    "    url = f'https://www.google.com/search?q={i}'\n",
    "    service = Service(executable_path='./data/chromedriver.exe')\n",
    "    driver = webdriver.Chrome(service=Service(ChromeDriverManager().install()))\n",
    "    driver.get(url)\n",
    "    time.sleep(2)\n",
    "\n",
    "    search_number.append(driver.find_element(By.ID, 'result-stats').text)\n",
    "\n",
    "basic_info['search_number'] = search_number"
   ]
  },
  {
   "cell_type": "code",
   "execution_count": null,
   "metadata": {},
   "outputs": [],
   "source": [
    "search_number = []\n",
    "for index,i in enumerate(basic_info['관광지명']):\n",
    "    if basic_info.iloc[index]['search_number']:\n",
    "        continue\n",
    "    if not i.startswith('창원'):\n",
    "        i = '창원 ' + i\n",
    "    url = f'https://www.google.com/search?q={i}'\n",
    "    service = Service(executable_path='./data/chromedriver.exe')\n",
    "    driver = webdriver.Chrome(service=Service(ChromeDriverManager().install()))\n",
    "    driver.get(url)\n",
    "    time.sleep(2)\n",
    "\n",
    "    # search_number.append(driver.find_element(By.ID, 'result-stats').text)\n",
    "    basic_info.loc[index,'search_number'] = driver.find_element(By.ID, 'result-stats').text"
   ]
  },
  {
   "cell_type": "code",
   "execution_count": null,
   "metadata": {},
   "outputs": [],
   "source": [
    "import re\n",
    "\n",
    "pattern = re.compile(r'\\([^)]*\\)')\n",
    "\n",
    "basic_info['search_number'] = basic_info['search_number'].apply(lambda x: re.sub(pattern,'',x).strip())\n",
    "\n",
    "basic_info['search_number'] = basic_info['search_number'].apply(lambda x: int(x.replace('개','').replace(',','')[7:]))"
   ]
  },
  {
   "cell_type": "code",
   "execution_count": null,
   "metadata": {},
   "outputs": [],
   "source": [
    "basic_info.to_csv('./경남/basic_info.csv',encoding='utf-8',index=False)"
   ]
  },
  {
   "cell_type": "markdown",
   "metadata": {},
   "source": [
    "===============================================================================================================\n",
    "\n",
    "===============================================================================================================\n",
    "\n",
    "==============================================================================================================="
   ]
  },
  {
   "cell_type": "code",
   "execution_count": 1,
   "metadata": {},
   "outputs": [],
   "source": [
    "import pandas as pd\n",
    "\n",
    "basic_info = pd.read_csv('./경남/basic_info.csv')\n",
    "gender_info = pd.read_csv('./경남/gender_info.csv')\n",
    "location_info = pd.read_csv('./경남/location_info.csv')\n",
    "navi_info = pd.read_csv('./경남/navi_info.csv')\n",
    "visit_info = pd.read_csv('./경남/visit_info.csv')"
   ]
  },
  {
   "cell_type": "code",
   "execution_count": 2,
   "metadata": {},
   "outputs": [],
   "source": [
    "totals = []\n",
    "avgs = []\n",
    "\n",
    "for i in range(len(navi_info)):\n",
    "    total = navi_info.iloc[i][1:].sum()\n",
    "    avg = navi_info.iloc[i][1:].mean()\n",
    "    \n",
    "    totals.append(total)\n",
    "    avgs.append(avg)\n",
    "navi_info['sum'] = totals\n",
    "navi_info['avg'] = avgs"
   ]
  },
  {
   "cell_type": "code",
   "execution_count": 3,
   "metadata": {},
   "outputs": [],
   "source": [
    "df = pd.DataFrame()\n",
    "df = pd.concat([basic_info,navi_info[['sum','avg']]],axis=1)\n",
    "df = pd.merge(df,location_info,on='관광지명',how='inner')"
   ]
  },
  {
   "cell_type": "code",
   "execution_count": 4,
   "metadata": {},
   "outputs": [],
   "source": [
    "import numpy as np\n",
    "score = []\n",
    "\n",
    "for i in range(len(df)):\n",
    "    if pd.isna(df.iloc[i]['stars']):\n",
    "        star = 0\n",
    "    else:\n",
    "        star = df.iloc[i]['stars'] * 1.2\n",
    "    \n",
    "    if pd.isna(df.iloc[i]['reviews']):\n",
    "        review = 0\n",
    "    else:\n",
    "        review = np.log1p(max(df['reviews'])) - np.log1p(df.iloc[i]['reviews']) * 1.1\n",
    "    \n",
    "    search = np.log1p(max(df['search_number'])) - np.log1p(df.iloc[i]['search_number'])\n",
    "    \n",
    "    if pd.isna(df.iloc[0]['광역지자체별 거주 방문자 비율']):\n",
    "        visit = 0\n",
    "    else:\n",
    "        visit = np.log1p(df.iloc[i]['광역지자체별 거주 방문자 비율']) * 1.1\n",
    "    time = np.log1p(df.iloc[i]['평균 체류시간']) * 0.8\n",
    "    navi = np.log1p(max(df['avg'])) - np.log1p(df.iloc[i]['avg'])\n",
    "    all = star+review+search+visit+time-navi\n",
    "    if df.iloc[i]['소분류'] == '산':\n",
    "        score.append(all*0.9)\n",
    "    elif df.iloc[i]['소분류'] == '사찰':\n",
    "        score.append(all*0.9)\n",
    "    else:\n",
    "        score.append(all)\n",
    "\n",
    "df['scores'] = score"
   ]
  },
  {
   "cell_type": "code",
   "execution_count": 5,
   "metadata": {},
   "outputs": [],
   "source": [
    "first = df.sort_values(by='scores',ascending=False)"
   ]
  },
  {
   "cell_type": "code",
   "execution_count": 6,
   "metadata": {},
   "outputs": [],
   "source": [
    "first.to_csv('./gyeongnam.csv',encoding='utf-8',index=False)"
   ]
  },
  {
   "cell_type": "code",
   "execution_count": 24,
   "metadata": {},
   "outputs": [
    {
     "data": {
      "text/plain": [
       "['무학산',\n",
       " '몽고정',\n",
       " '마산로봇랜드',\n",
       " '창동예술촌',\n",
       " '창원과학체험관',\n",
       " '대광사(창원)',\n",
       " '기업사랑공원',\n",
       " '정병산',\n",
       " '창원올림픽공원',\n",
       " '진해드림파크',\n",
       " '실리도',\n",
       " '창원시립진해박물관',\n",
       " '시루봉',\n",
       " '창원시립마산박물관',\n",
       " '진해해양공원',\n",
       " '상상길(창원)',\n",
       " '창원의집',\n",
       " '에너지환경과학공원에너지전시관',\n",
       " '창원시립마산음악관',\n",
       " '창원마법의정원',\n",
       " '추산근린공원',\n",
       " '백월산',\n",
       " '수치해안',\n",
       " '장어구이거리',\n",
       " '삼포항']"
      ]
     },
     "execution_count": 24,
     "metadata": {},
     "output_type": "execute_result"
    }
   ],
   "source": [
    "first['관광지명'].tail(25).tolist()"
   ]
  },
  {
   "cell_type": "code",
   "execution_count": 25,
   "metadata": {},
   "outputs": [
    {
     "data": {
      "text/plain": [
       "['마금산원탕',\n",
       " '장복산조각공원',\n",
       " '성흥사계곡',\n",
       " '주기철목사기념관',\n",
       " '주남저수지(철새도래지)',\n",
       " '본포수변생태공원',\n",
       " '산호공원(용마공원)시(詩)의거리',\n",
       " '대산플라워랜드',\n",
       " '마산향교',\n",
       " '창원봉곡시장',\n",
       " '창원편백치유의숲',\n",
       " '저도콰이강의다리(스카이워크)',\n",
       " '속천항',\n",
       " '진해현관아및객사유지',\n",
       " '사화공원',\n",
       " '가포수변공원',\n",
       " '마산오동동아구찜거리',\n",
       " 'CECO창원컨벤션센터',\n",
       " '대방녹지공원',\n",
       " '웅천도요지전시관',\n",
       " '불모산노을전망대',\n",
       " '창원성산패총',\n",
       " '북면수변생태공원',\n",
       " '창원역사민속관',\n",
       " '명서전통시장']"
      ]
     },
     "execution_count": 25,
     "metadata": {},
     "output_type": "execute_result"
    }
   ],
   "source": [
    "first['관광지명'].head(25).tolist()"
   ]
  },
  {
   "cell_type": "code",
   "execution_count": 13,
   "metadata": {},
   "outputs": [],
   "source": [
    "import folium\n",
    "\n",
    "gyeongnam_map = folium.Map(location=[35.2279728,128.681882],zoom_start=11)"
   ]
  },
  {
   "cell_type": "code",
   "execution_count": 14,
   "metadata": {},
   "outputs": [],
   "source": [
    "for i in range(len(first)):\n",
    "    if i == 30:\n",
    "        break\n",
    "    folium.Marker(\n",
    "            [first.iloc[i]['latitude'],first.iloc[i]['longitude']],\n",
    "            popup=folium.Popup(first.iloc[i]['관광지명'],maxWidth=300),\n",
    "            fill_opacity=0.5,\n",
    "            icon=folium.Icon(color='blue')            \n",
    "            ).add_to(gyeongnam_map)"
   ]
  },
  {
   "cell_type": "code",
   "execution_count": null,
   "metadata": {},
   "outputs": [],
   "source": [
    "gyeongnam_map"
   ]
  },
  {
   "cell_type": "markdown",
   "metadata": {},
   "source": [
    "==================================================================================================\n",
    "\n",
    "==================================================================================================\n",
    "\n",
    "=================================================================================================="
   ]
  },
  {
   "cell_type": "code",
   "execution_count": 1,
   "metadata": {},
   "outputs": [],
   "source": [
    "import pandas as pd\n",
    "import os"
   ]
  },
  {
   "cell_type": "code",
   "execution_count": 28,
   "metadata": {},
   "outputs": [],
   "source": [
    "# 파일이 있는 디렉토리 설정\n",
    "directory = \"./경남/대중교통\"\n",
    "\n",
    "# 모든 CSV 파일 목록 가져오기\n",
    "file_list = [file for file in os.listdir(directory) if file.endswith('.csv')]\n",
    "\n",
    "# 모든 CSV 파일을 담을 빈 DataFrame 생성\n",
    "combined_df = pd.DataFrame()\n",
    "\n",
    "# 각 CSV 파일을 순회하면서 데이터를 합치기\n",
    "for file in file_list:\n",
    "    file_path = os.path.join(directory, file)\n",
    "    \n",
    "    # 관광지 명 추출\n",
    "    landmark_name = file.split('_')[1]  # 파일명에서 '_'를 기준으로 분리하여 첫 번째 요소를 관광지 명으로 사용\n",
    "    landmark_name = landmark_name.replace('.csv', '')\n",
    "    \n",
    "    # CSV 파일을 DataFrame으로 읽기\n",
    "    df = pd.read_csv(file_path, encoding=\"cp949\")\n",
    "    \n",
    "    # 관광지 명 컬럼 추가\n",
    "    df['관광지명'] = landmark_name\n",
    "    \n",
    "    # 현재 파일의 데이터를 합치기\n",
    "    combined_df = pd.concat([combined_df, df], ignore_index=True)\n",
    "\n",
    "# 결과를 CSV 파일로 저장하기\n",
    "# combined_df.to_csv('combined_data.csv', index=False, encoding=\"utf-8\")\n",
    "\n",
    "# print(\"합쳐진 데이터를 combined_data.csv로 저장했습니다.\")"
   ]
  },
  {
   "cell_type": "code",
   "execution_count": 29,
   "metadata": {},
   "outputs": [],
   "source": [
    "total_column = []\n",
    "for i in range(len(combined_df)):\n",
    "    total = combined_df.iloc[i][6:-2].sum()\n",
    "    total_column.append(total)\n",
    "\n",
    "combined_df['total'] = total_column"
   ]
  },
  {
   "cell_type": "code",
   "execution_count": 30,
   "metadata": {},
   "outputs": [],
   "source": [
    "# 관광지명으로 그룹화하여 총 승객수를 구하고 새로운 컬럼으로 추가\n",
    "total_passengers_by_landmark = combined_df.groupby('관광지명')['total'].sum().reset_index()\n",
    "total_passengers_by_landmark.rename(columns={'total': '총 승객수'}, inplace=True)\n",
    "\n",
    "# 기존 데이터프레임에 총 승객수 컬럼 추가\n",
    "df = pd.merge(combined_df, total_passengers_by_landmark, on='관광지명', how='left')"
   ]
  },
  {
   "cell_type": "code",
   "execution_count": 31,
   "metadata": {},
   "outputs": [],
   "source": [
    "bus = df.groupby('관광지명')[['노선']].nunique().reset_index()"
   ]
  },
  {
   "cell_type": "code",
   "execution_count": 32,
   "metadata": {},
   "outputs": [],
   "source": [
    "new_df = df[['관광지명', '총 승객수']]\n",
    "new_df = new_df.drop_duplicates()"
   ]
  },
  {
   "cell_type": "code",
   "execution_count": 33,
   "metadata": {},
   "outputs": [],
   "source": [
    "new_df = pd.merge(new_df,bus,on='관광지명',how='inner')"
   ]
  },
  {
   "cell_type": "code",
   "execution_count": 34,
   "metadata": {},
   "outputs": [],
   "source": [
    "for i in range(len(new_df)):\n",
    "    if new_df.iloc[i]['관광지명'] in first.head(25)['관광지명'].tolist():\n",
    "        new_df.loc[i,'구분'] = '숨은 명소'\n",
    "    else:\n",
    "        new_df.loc[i,'구분'] = '일반 명소'"
   ]
  },
  {
   "cell_type": "code",
   "execution_count": 42,
   "metadata": {},
   "outputs": [],
   "source": [
    "new_df.to_csv('./경남/bus_info.csv',encoding='utf-8',index=False)"
   ]
  },
  {
   "cell_type": "code",
   "execution_count": 35,
   "metadata": {},
   "outputs": [
    {
     "name": "stdout",
     "output_type": "stream",
     "text": [
      "40\n",
      "20\n",
      "20\n"
     ]
    }
   ],
   "source": [
    "print(len(new_df))\n",
    "print(len(new_df[new_df['구분']=='일반 명소']))\n",
    "print(len(new_df[new_df['구분']=='숨은 명소']))\n"
   ]
  },
  {
   "cell_type": "code",
   "execution_count": 36,
   "metadata": {},
   "outputs": [
    {
     "data": {
      "text/html": [
       "<div>\n",
       "<style scoped>\n",
       "    .dataframe tbody tr th:only-of-type {\n",
       "        vertical-align: middle;\n",
       "    }\n",
       "\n",
       "    .dataframe tbody tr th {\n",
       "        vertical-align: top;\n",
       "    }\n",
       "\n",
       "    .dataframe thead th {\n",
       "        text-align: right;\n",
       "    }\n",
       "</style>\n",
       "<table border=\"1\" class=\"dataframe\">\n",
       "  <thead>\n",
       "    <tr style=\"text-align: right;\">\n",
       "      <th></th>\n",
       "      <th>관광지명</th>\n",
       "      <th>총 승객수</th>\n",
       "      <th>노선</th>\n",
       "      <th>구분</th>\n",
       "    </tr>\n",
       "  </thead>\n",
       "  <tbody>\n",
       "    <tr>\n",
       "      <th>29</th>\n",
       "      <td>창원시립진해박물관</td>\n",
       "      <td>43191</td>\n",
       "      <td>14</td>\n",
       "      <td>일반 명소</td>\n",
       "    </tr>\n",
       "    <tr>\n",
       "      <th>4</th>\n",
       "      <td>에너지환경과학공원에너지전시관</td>\n",
       "      <td>14007</td>\n",
       "      <td>11</td>\n",
       "      <td>일반 명소</td>\n",
       "    </tr>\n",
       "    <tr>\n",
       "      <th>0</th>\n",
       "      <td>몽고정</td>\n",
       "      <td>11226</td>\n",
       "      <td>53</td>\n",
       "      <td>일반 명소</td>\n",
       "    </tr>\n",
       "    <tr>\n",
       "      <th>9</th>\n",
       "      <td>창원시립마산박물관</td>\n",
       "      <td>10425</td>\n",
       "      <td>11</td>\n",
       "      <td>일반 명소</td>\n",
       "    </tr>\n",
       "    <tr>\n",
       "      <th>21</th>\n",
       "      <td>상상길(창원)</td>\n",
       "      <td>8794</td>\n",
       "      <td>13</td>\n",
       "      <td>일반 명소</td>\n",
       "    </tr>\n",
       "    <tr>\n",
       "      <th>22</th>\n",
       "      <td>창동예술촌</td>\n",
       "      <td>8794</td>\n",
       "      <td>13</td>\n",
       "      <td>일반 명소</td>\n",
       "    </tr>\n",
       "    <tr>\n",
       "      <th>14</th>\n",
       "      <td>기업사랑공원</td>\n",
       "      <td>4253</td>\n",
       "      <td>18</td>\n",
       "      <td>일반 명소</td>\n",
       "    </tr>\n",
       "    <tr>\n",
       "      <th>34</th>\n",
       "      <td>창원과학체험관</td>\n",
       "      <td>4253</td>\n",
       "      <td>18</td>\n",
       "      <td>일반 명소</td>\n",
       "    </tr>\n",
       "    <tr>\n",
       "      <th>35</th>\n",
       "      <td>창원올림픽공원</td>\n",
       "      <td>4253</td>\n",
       "      <td>18</td>\n",
       "      <td>일반 명소</td>\n",
       "    </tr>\n",
       "    <tr>\n",
       "      <th>26</th>\n",
       "      <td>창원시립마산음악관</td>\n",
       "      <td>4062</td>\n",
       "      <td>5</td>\n",
       "      <td>일반 명소</td>\n",
       "    </tr>\n",
       "    <tr>\n",
       "      <th>20</th>\n",
       "      <td>장어구이거리</td>\n",
       "      <td>3862</td>\n",
       "      <td>13</td>\n",
       "      <td>일반 명소</td>\n",
       "    </tr>\n",
       "    <tr>\n",
       "      <th>3</th>\n",
       "      <td>무학산</td>\n",
       "      <td>3519</td>\n",
       "      <td>5</td>\n",
       "      <td>일반 명소</td>\n",
       "    </tr>\n",
       "    <tr>\n",
       "      <th>19</th>\n",
       "      <td>추산근린공원</td>\n",
       "      <td>3282</td>\n",
       "      <td>4</td>\n",
       "      <td>일반 명소</td>\n",
       "    </tr>\n",
       "    <tr>\n",
       "      <th>27</th>\n",
       "      <td>시루봉</td>\n",
       "      <td>2255</td>\n",
       "      <td>2</td>\n",
       "      <td>일반 명소</td>\n",
       "    </tr>\n",
       "    <tr>\n",
       "      <th>23</th>\n",
       "      <td>정병산</td>\n",
       "      <td>2074</td>\n",
       "      <td>1</td>\n",
       "      <td>일반 명소</td>\n",
       "    </tr>\n",
       "    <tr>\n",
       "      <th>36</th>\n",
       "      <td>진해드림파크</td>\n",
       "      <td>1649</td>\n",
       "      <td>4</td>\n",
       "      <td>일반 명소</td>\n",
       "    </tr>\n",
       "    <tr>\n",
       "      <th>30</th>\n",
       "      <td>대광사(창원)</td>\n",
       "      <td>818</td>\n",
       "      <td>7</td>\n",
       "      <td>일반 명소</td>\n",
       "    </tr>\n",
       "    <tr>\n",
       "      <th>11</th>\n",
       "      <td>백월산</td>\n",
       "      <td>594</td>\n",
       "      <td>10</td>\n",
       "      <td>일반 명소</td>\n",
       "    </tr>\n",
       "    <tr>\n",
       "      <th>17</th>\n",
       "      <td>창원마법의정원</td>\n",
       "      <td>256</td>\n",
       "      <td>11</td>\n",
       "      <td>일반 명소</td>\n",
       "    </tr>\n",
       "    <tr>\n",
       "      <th>38</th>\n",
       "      <td>진해해양공원</td>\n",
       "      <td>176</td>\n",
       "      <td>2</td>\n",
       "      <td>일반 명소</td>\n",
       "    </tr>\n",
       "  </tbody>\n",
       "</table>\n",
       "</div>"
      ],
      "text/plain": [
       "               관광지명  총 승객수  노선     구분\n",
       "29        창원시립진해박물관  43191  14  일반 명소\n",
       "4   에너지환경과학공원에너지전시관  14007  11  일반 명소\n",
       "0               몽고정  11226  53  일반 명소\n",
       "9         창원시립마산박물관  10425  11  일반 명소\n",
       "21          상상길(창원)   8794  13  일반 명소\n",
       "22            창동예술촌   8794  13  일반 명소\n",
       "14           기업사랑공원   4253  18  일반 명소\n",
       "34          창원과학체험관   4253  18  일반 명소\n",
       "35          창원올림픽공원   4253  18  일반 명소\n",
       "26        창원시립마산음악관   4062   5  일반 명소\n",
       "20           장어구이거리   3862  13  일반 명소\n",
       "3               무학산   3519   5  일반 명소\n",
       "19           추산근린공원   3282   4  일반 명소\n",
       "27              시루봉   2255   2  일반 명소\n",
       "23              정병산   2074   1  일반 명소\n",
       "36           진해드림파크   1649   4  일반 명소\n",
       "30          대광사(창원)    818   7  일반 명소\n",
       "11              백월산    594  10  일반 명소\n",
       "17          창원마법의정원    256  11  일반 명소\n",
       "38           진해해양공원    176   2  일반 명소"
      ]
     },
     "execution_count": 36,
     "metadata": {},
     "output_type": "execute_result"
    }
   ],
   "source": [
    "new_df[new_df['구분']=='일반 명소'].sort_values(by='총 승객수',ascending=False)"
   ]
  },
  {
   "cell_type": "code",
   "execution_count": 37,
   "metadata": {},
   "outputs": [
    {
     "data": {
      "text/html": [
       "<div>\n",
       "<style scoped>\n",
       "    .dataframe tbody tr th:only-of-type {\n",
       "        vertical-align: middle;\n",
       "    }\n",
       "\n",
       "    .dataframe tbody tr th {\n",
       "        vertical-align: top;\n",
       "    }\n",
       "\n",
       "    .dataframe thead th {\n",
       "        text-align: right;\n",
       "    }\n",
       "</style>\n",
       "<table border=\"1\" class=\"dataframe\">\n",
       "  <thead>\n",
       "    <tr style=\"text-align: right;\">\n",
       "      <th></th>\n",
       "      <th>관광지명</th>\n",
       "      <th>총 승객수</th>\n",
       "      <th>노선</th>\n",
       "      <th>구분</th>\n",
       "    </tr>\n",
       "  </thead>\n",
       "  <tbody>\n",
       "    <tr>\n",
       "      <th>16</th>\n",
       "      <td>대산플라워랜드</td>\n",
       "      <td>17</td>\n",
       "      <td>1</td>\n",
       "      <td>숨은 명소</td>\n",
       "    </tr>\n",
       "    <tr>\n",
       "      <th>39</th>\n",
       "      <td>본포수변생태공원</td>\n",
       "      <td>23</td>\n",
       "      <td>2</td>\n",
       "      <td>숨은 명소</td>\n",
       "    </tr>\n",
       "    <tr>\n",
       "      <th>6</th>\n",
       "      <td>성흥사계곡</td>\n",
       "      <td>30</td>\n",
       "      <td>1</td>\n",
       "      <td>숨은 명소</td>\n",
       "    </tr>\n",
       "    <tr>\n",
       "      <th>5</th>\n",
       "      <td>대방녹지공원</td>\n",
       "      <td>83</td>\n",
       "      <td>2</td>\n",
       "      <td>숨은 명소</td>\n",
       "    </tr>\n",
       "    <tr>\n",
       "      <th>15</th>\n",
       "      <td>속천항</td>\n",
       "      <td>87</td>\n",
       "      <td>2</td>\n",
       "      <td>숨은 명소</td>\n",
       "    </tr>\n",
       "    <tr>\n",
       "      <th>18</th>\n",
       "      <td>북면수변생태공원</td>\n",
       "      <td>171</td>\n",
       "      <td>5</td>\n",
       "      <td>숨은 명소</td>\n",
       "    </tr>\n",
       "    <tr>\n",
       "      <th>25</th>\n",
       "      <td>사화공원</td>\n",
       "      <td>250</td>\n",
       "      <td>1</td>\n",
       "      <td>숨은 명소</td>\n",
       "    </tr>\n",
       "    <tr>\n",
       "      <th>2</th>\n",
       "      <td>가포수변공원</td>\n",
       "      <td>275</td>\n",
       "      <td>6</td>\n",
       "      <td>숨은 명소</td>\n",
       "    </tr>\n",
       "    <tr>\n",
       "      <th>7</th>\n",
       "      <td>장복산조각공원</td>\n",
       "      <td>286</td>\n",
       "      <td>6</td>\n",
       "      <td>숨은 명소</td>\n",
       "    </tr>\n",
       "    <tr>\n",
       "      <th>28</th>\n",
       "      <td>주남저수지(철새도래지)</td>\n",
       "      <td>306</td>\n",
       "      <td>5</td>\n",
       "      <td>숨은 명소</td>\n",
       "    </tr>\n",
       "    <tr>\n",
       "      <th>8</th>\n",
       "      <td>창원봉곡시장</td>\n",
       "      <td>583</td>\n",
       "      <td>3</td>\n",
       "      <td>숨은 명소</td>\n",
       "    </tr>\n",
       "    <tr>\n",
       "      <th>12</th>\n",
       "      <td>불모산노을전망대</td>\n",
       "      <td>610</td>\n",
       "      <td>15</td>\n",
       "      <td>숨은 명소</td>\n",
       "    </tr>\n",
       "    <tr>\n",
       "      <th>31</th>\n",
       "      <td>창원편백치유의숲</td>\n",
       "      <td>818</td>\n",
       "      <td>7</td>\n",
       "      <td>숨은 명소</td>\n",
       "    </tr>\n",
       "    <tr>\n",
       "      <th>13</th>\n",
       "      <td>진해현관아및객사유지</td>\n",
       "      <td>1131</td>\n",
       "      <td>12</td>\n",
       "      <td>숨은 명소</td>\n",
       "    </tr>\n",
       "    <tr>\n",
       "      <th>33</th>\n",
       "      <td>웅천도요지전시관</td>\n",
       "      <td>2080</td>\n",
       "      <td>5</td>\n",
       "      <td>숨은 명소</td>\n",
       "    </tr>\n",
       "    <tr>\n",
       "      <th>1</th>\n",
       "      <td>창원성산패총</td>\n",
       "      <td>2538</td>\n",
       "      <td>11</td>\n",
       "      <td>숨은 명소</td>\n",
       "    </tr>\n",
       "    <tr>\n",
       "      <th>37</th>\n",
       "      <td>산호공원(용마공원)시(詩)의거리</td>\n",
       "      <td>3171</td>\n",
       "      <td>40</td>\n",
       "      <td>숨은 명소</td>\n",
       "    </tr>\n",
       "    <tr>\n",
       "      <th>32</th>\n",
       "      <td>CECO창원컨벤션센터</td>\n",
       "      <td>4388</td>\n",
       "      <td>8</td>\n",
       "      <td>숨은 명소</td>\n",
       "    </tr>\n",
       "    <tr>\n",
       "      <th>10</th>\n",
       "      <td>마금산원탕</td>\n",
       "      <td>5665</td>\n",
       "      <td>16</td>\n",
       "      <td>숨은 명소</td>\n",
       "    </tr>\n",
       "    <tr>\n",
       "      <th>24</th>\n",
       "      <td>주기철목사기념관</td>\n",
       "      <td>5725</td>\n",
       "      <td>6</td>\n",
       "      <td>숨은 명소</td>\n",
       "    </tr>\n",
       "  </tbody>\n",
       "</table>\n",
       "</div>"
      ],
      "text/plain": [
       "                 관광지명  총 승객수  노선     구분\n",
       "16            대산플라워랜드     17   1  숨은 명소\n",
       "39           본포수변생태공원     23   2  숨은 명소\n",
       "6               성흥사계곡     30   1  숨은 명소\n",
       "5              대방녹지공원     83   2  숨은 명소\n",
       "15                속천항     87   2  숨은 명소\n",
       "18           북면수변생태공원    171   5  숨은 명소\n",
       "25               사화공원    250   1  숨은 명소\n",
       "2              가포수변공원    275   6  숨은 명소\n",
       "7             장복산조각공원    286   6  숨은 명소\n",
       "28       주남저수지(철새도래지)    306   5  숨은 명소\n",
       "8              창원봉곡시장    583   3  숨은 명소\n",
       "12           불모산노을전망대    610  15  숨은 명소\n",
       "31           창원편백치유의숲    818   7  숨은 명소\n",
       "13         진해현관아및객사유지   1131  12  숨은 명소\n",
       "33           웅천도요지전시관   2080   5  숨은 명소\n",
       "1              창원성산패총   2538  11  숨은 명소\n",
       "37  산호공원(용마공원)시(詩)의거리   3171  40  숨은 명소\n",
       "32        CECO창원컨벤션센터   4388   8  숨은 명소\n",
       "10              마금산원탕   5665  16  숨은 명소\n",
       "24           주기철목사기념관   5725   6  숨은 명소"
      ]
     },
     "execution_count": 37,
     "metadata": {},
     "output_type": "execute_result"
    }
   ],
   "source": [
    "new_df[new_df['구분']=='숨은 명소'].sort_values(by='총 승객수',ascending=True)"
   ]
  },
  {
   "cell_type": "code",
   "execution_count": 38,
   "metadata": {},
   "outputs": [
    {
     "name": "stdout",
     "output_type": "stream",
     "text": [
      "총 승객수 p-value: 0.0827681788949117, 등분산 가정 만족\n",
      "노선 p-value: 0.5569778089684754, 등분산 가정 만족\n"
     ]
    }
   ],
   "source": [
    "from scipy import stats\n",
    "\n",
    "test_names = ['총 승객수','노선']\n",
    "\n",
    "p = new_df[new_df['구분'] == '일반 명소'][['총 승객수','노선']]\n",
    "up = new_df[new_df['구분'] == '숨은 명소'][['총 승객수','노선']]\n",
    "\n",
    "for test_name in test_names:\n",
    "    statistic,p_value = stats.levene(p[test_name], up[test_name])\n",
    "    if p_value > 0.05:\n",
    "        print(f\"{test_name} p-value: {p_value}, 등분산 가정 만족\")\n",
    "    else:\n",
    "        print(f\"{test_name} p-value: {p_value}, 이분산 가정 만족\")"
   ]
  },
  {
   "cell_type": "code",
   "execution_count": 39,
   "metadata": {},
   "outputs": [
    {
     "name": "stdout",
     "output_type": "stream",
     "text": [
      "총 승객수 0.021621175045603406 귀무가설 기각\n"
     ]
    }
   ],
   "source": [
    "for test_name in test_names[0:1]:\n",
    "    t_statistic,pvalue = stats.ttest_ind(\n",
    "        a = p[test_name],\n",
    "        b = up[test_name],\n",
    "        alternative = 'two-sided',\n",
    "        equal_var = True\n",
    ")\n",
    "    if pvalue<0.05:\n",
    "        print(test_name,pvalue,'귀무가설 기각')\n",
    "    else:\n",
    "        print(test_name,pvalue,'귀무가설 기각 불가')"
   ]
  },
  {
   "cell_type": "code",
   "execution_count": 40,
   "metadata": {},
   "outputs": [
    {
     "name": "stdout",
     "output_type": "stream",
     "text": [
      "노선 0.22238833297978491 귀무가설 기각 불가\n"
     ]
    }
   ],
   "source": [
    "for test_name in test_names[1:]:\n",
    "    t_statistic,pvalue = stats.ttest_ind(\n",
    "        a = p[test_name],\n",
    "        b = up[test_name],\n",
    "        alternative = 'two-sided',\n",
    "        equal_var = True\n",
    ")\n",
    "    if pvalue<0.05:\n",
    "        print(test_name,pvalue,'귀무가설 기각')\n",
    "    else:\n",
    "        print(test_name,pvalue,'귀무가설 기각 불가')"
   ]
  },
  {
   "cell_type": "markdown",
   "metadata": {},
   "source": [
    "=========================================================================================================\n",
    "\n",
    "=========================================================================================================\n",
    "\n",
    "========================================================================================================="
   ]
  },
  {
   "cell_type": "code",
   "execution_count": 12,
   "metadata": {},
   "outputs": [],
   "source": [
    "import requests\n",
    "from bs4 import BeautifulSoup\n",
    "import time"
   ]
  },
  {
   "cell_type": "code",
   "execution_count": 13,
   "metadata": {},
   "outputs": [
    {
     "name": "stdout",
     "output_type": "stream",
     "text": [
      "1\n",
      "2\n",
      "3\n",
      "4\n",
      "5\n"
     ]
    }
   ],
   "source": [
    "url = 'https://korean.visitkorea.or.kr/call'\n",
    "params = {\n",
    "    'cmd': 'TOUR_CONTENT_LIST_VIEW',\n",
    "    'month': 'All',\n",
    "    'areaCode': '36',\n",
    "    'sigunguCode': '16',\n",
    "    'tagId': 'All',\n",
    "    'sortkind': '1',\n",
    "    'locationx': '0',\n",
    "    'locationy': '0',\n",
    "    'page': '1',\n",
    "    'cnt': '100',\n",
    "    'typeList': 'Tour',\n",
    "    'stampId': '1589345b-b030-11ea-b8bd-020027310001'\n",
    "}\n",
    "\n",
    "all_data = []  # 모든 페이지의 데이터를 저장할 리스트\n",
    "\n",
    "while True:\n",
    "    response = requests.get(url, params=params)\n",
    "    data = response.json()\n",
    "\n",
    "    # 받은 데이터에서 필요한 정보 추출\n",
    "    result_list = data.get('body', {}).get('result', [])\n",
    "    for item in result_list:\n",
    "        img_path = item.get('imgPath', '')\n",
    "        img_url = f'https://cdn.visitkorea.or.kr/img/call?cmd=VIEW&id={img_path}'\n",
    "        \n",
    "        extracted_data = {\n",
    "            '관광지명': item.get('TITLE', ''),\n",
    "            # 'catch': item.get('catchPhrase', ''),\n",
    "            # 'addr1': item.get('addr1', ''),\n",
    "            'img': img_url,\n",
    "            # 'cotid' : item.get('cotId', ''),\n",
    "            # 'areaCode' : item.get('areaCode', ''),\n",
    "            # 'cat1' : item.get('cat1', ''),\n",
    "            # 'cat2' : item.get('cat2', '')\n",
    "        }\n",
    "        \n",
    "        # cotid = extracted_data['cotid']\n",
    "        # cat1 = extracted_data['cat1']\n",
    "        # cat2 = extracted_data['cat2']\n",
    "        # areaCode = extracted_data['areaCode']\n",
    "        \n",
    "        # new_url = f'https://korean.visitkorea.or.kr/detail/ms_detail.do?cotid={cotid}&big_category={cat1}&mid_category={cat2}&big_area={areaCode}'\n",
    "        # response = requests.get(new_url)\n",
    "        # html = response.text\n",
    "        # soup = BeautifulSoup(html,'html.parser')\n",
    "        # description = soup.find('div',class_='blind').text\n",
    "        # description = description.replace('\\n','').replace('\\t','')\n",
    "        # extracted_data['description'] = description\n",
    "\n",
    "        all_data.append(extracted_data)\n",
    "    \n",
    "    # 다음 페이지로 이동\n",
    "    # if params['page'] in range(0,1000,100):\n",
    "    #     print('time sleep')\n",
    "    #     time.sleep(200)\n",
    "    # else:\n",
    "    \n",
    "    print(params['page'])\n",
    "    params['page'] = str(int(params['page']) + 1)\n",
    "    \n",
    "\n",
    "    # 만약 더 이상 페이지가 없으면 반복문 종료\n",
    "    if not result_list or len(all_data) == 430:\n",
    "        break"
   ]
  },
  {
   "cell_type": "code",
   "execution_count": 3,
   "metadata": {},
   "outputs": [],
   "source": [
    "import pandas as pd\n",
    "\n",
    "g = pd.read_csv('./data/gyeongnam.csv')\n",
    "gg = pd.read_csv('./경남/basic_info.csv')"
   ]
  },
  {
   "cell_type": "code",
   "execution_count": 8,
   "metadata": {},
   "outputs": [],
   "source": [
    "gg = gg.drop_duplicates('관광지명')"
   ]
  },
  {
   "cell_type": "code",
   "execution_count": 10,
   "metadata": {},
   "outputs": [],
   "source": [
    "g = pd.merge(g,gg[['관광지명','catch','description']],on='관광지명',how='left')"
   ]
  },
  {
   "cell_type": "code",
   "execution_count": 14,
   "metadata": {},
   "outputs": [],
   "source": [
    "df = pd.DataFrame(all_data)"
   ]
  },
  {
   "cell_type": "code",
   "execution_count": 15,
   "metadata": {},
   "outputs": [
    {
     "data": {
      "text/html": [
       "<div>\n",
       "<style scoped>\n",
       "    .dataframe tbody tr th:only-of-type {\n",
       "        vertical-align: middle;\n",
       "    }\n",
       "\n",
       "    .dataframe tbody tr th {\n",
       "        vertical-align: top;\n",
       "    }\n",
       "\n",
       "    .dataframe thead th {\n",
       "        text-align: right;\n",
       "    }\n",
       "</style>\n",
       "<table border=\"1\" class=\"dataframe\">\n",
       "  <thead>\n",
       "    <tr style=\"text-align: right;\">\n",
       "      <th></th>\n",
       "      <th>관광지명</th>\n",
       "      <th>img</th>\n",
       "    </tr>\n",
       "  </thead>\n",
       "  <tbody>\n",
       "    <tr>\n",
       "      <th>0</th>\n",
       "      <td>대풍삼대육곳간</td>\n",
       "      <td>https://cdn.visitkorea.or.kr/img/call?cmd=VIEW...</td>\n",
       "    </tr>\n",
       "    <tr>\n",
       "      <th>1</th>\n",
       "      <td>브라운도트호텔 마산오동동점</td>\n",
       "      <td>https://cdn.visitkorea.or.kr/img/call?cmd=VIEW...</td>\n",
       "    </tr>\n",
       "    <tr>\n",
       "      <th>2</th>\n",
       "      <td>대산미술관</td>\n",
       "      <td>https://cdn.visitkorea.or.kr/img/call?cmd=VIEW...</td>\n",
       "    </tr>\n",
       "    <tr>\n",
       "      <th>3</th>\n",
       "      <td>블랙스톤 벨포레 목장</td>\n",
       "      <td>https://cdn.visitkorea.or.kr/img/call?cmd=VIEW...</td>\n",
       "    </tr>\n",
       "    <tr>\n",
       "      <th>4</th>\n",
       "      <td>창원실내수영장</td>\n",
       "      <td>https://cdn.visitkorea.or.kr/img/call?cmd=VIEW...</td>\n",
       "    </tr>\n",
       "    <tr>\n",
       "      <th>...</th>\n",
       "      <td>...</td>\n",
       "      <td>...</td>\n",
       "    </tr>\n",
       "    <tr>\n",
       "      <th>425</th>\n",
       "      <td>월영대</td>\n",
       "      <td>https://cdn.visitkorea.or.kr/img/call?cmd=VIEW...</td>\n",
       "    </tr>\n",
       "    <tr>\n",
       "      <th>426</th>\n",
       "      <td>도남서원</td>\n",
       "      <td>https://cdn.visitkorea.or.kr/img/call?cmd=VIEW...</td>\n",
       "    </tr>\n",
       "    <tr>\n",
       "      <th>427</th>\n",
       "      <td>창원향교</td>\n",
       "      <td>https://cdn.visitkorea.or.kr/img/call?cmd=VIEW...</td>\n",
       "    </tr>\n",
       "    <tr>\n",
       "      <th>428</th>\n",
       "      <td>삼정자동마애불</td>\n",
       "      <td>https://cdn.visitkorea.or.kr/img/call?cmd=VIEW...</td>\n",
       "    </tr>\n",
       "    <tr>\n",
       "      <th>429</th>\n",
       "      <td>브라운핸즈 마산점</td>\n",
       "      <td>https://cdn.visitkorea.or.kr/img/call?cmd=VIEW...</td>\n",
       "    </tr>\n",
       "  </tbody>\n",
       "</table>\n",
       "<p>430 rows × 2 columns</p>\n",
       "</div>"
      ],
      "text/plain": [
       "               관광지명                                                img\n",
       "0           대풍삼대육곳간  https://cdn.visitkorea.or.kr/img/call?cmd=VIEW...\n",
       "1    브라운도트호텔 마산오동동점  https://cdn.visitkorea.or.kr/img/call?cmd=VIEW...\n",
       "2             대산미술관  https://cdn.visitkorea.or.kr/img/call?cmd=VIEW...\n",
       "3       블랙스톤 벨포레 목장  https://cdn.visitkorea.or.kr/img/call?cmd=VIEW...\n",
       "4           창원실내수영장  https://cdn.visitkorea.or.kr/img/call?cmd=VIEW...\n",
       "..              ...                                                ...\n",
       "425             월영대  https://cdn.visitkorea.or.kr/img/call?cmd=VIEW...\n",
       "426            도남서원  https://cdn.visitkorea.or.kr/img/call?cmd=VIEW...\n",
       "427            창원향교  https://cdn.visitkorea.or.kr/img/call?cmd=VIEW...\n",
       "428         삼정자동마애불  https://cdn.visitkorea.or.kr/img/call?cmd=VIEW...\n",
       "429       브라운핸즈 마산점  https://cdn.visitkorea.or.kr/img/call?cmd=VIEW...\n",
       "\n",
       "[430 rows x 2 columns]"
      ]
     },
     "execution_count": 15,
     "metadata": {},
     "output_type": "execute_result"
    }
   ],
   "source": [
    "df"
   ]
  },
  {
   "cell_type": "code",
   "execution_count": 16,
   "metadata": {},
   "outputs": [
    {
     "name": "stderr",
     "output_type": "stream",
     "text": [
      "100%|██████████| 430/430 [00:00<00:00, 429928.66it/s]\n"
     ]
    }
   ],
   "source": [
    "from tqdm import tqdm\n",
    "import re\n",
    "\n",
    "tqdm.pandas()\n",
    "df['관광지명'] = df['관광지명'].progress_apply(lambda x: x.replace(' ',''))\n",
    "\n",
    "pattern = re.compile(r'\\([^)]*\\)')\n",
    "df['관광지명'] = df['관광지명'].apply(lambda x: re.sub(pattern, '', x))"
   ]
  },
  {
   "cell_type": "code",
   "execution_count": 18,
   "metadata": {},
   "outputs": [],
   "source": [
    "g = pd.merge(g,df,on='관광지명',how='left')"
   ]
  },
  {
   "cell_type": "code",
   "execution_count": 43,
   "metadata": {},
   "outputs": [
    {
     "data": {
      "text/html": [
       "<div>\n",
       "<style scoped>\n",
       "    .dataframe tbody tr th:only-of-type {\n",
       "        vertical-align: middle;\n",
       "    }\n",
       "\n",
       "    .dataframe tbody tr th {\n",
       "        vertical-align: top;\n",
       "    }\n",
       "\n",
       "    .dataframe thead th {\n",
       "        text-align: right;\n",
       "    }\n",
       "</style>\n",
       "<table border=\"1\" class=\"dataframe\">\n",
       "  <thead>\n",
       "    <tr style=\"text-align: right;\">\n",
       "      <th></th>\n",
       "      <th>관광지명</th>\n",
       "      <th>주소_x</th>\n",
       "      <th>평균 체류시간</th>\n",
       "      <th>stars</th>\n",
       "      <th>reviews</th>\n",
       "      <th>광역지자체별 거주 방문자 비율</th>\n",
       "      <th>search_number</th>\n",
       "      <th>sum</th>\n",
       "      <th>avg</th>\n",
       "      <th>주소_y</th>\n",
       "      <th>대분류</th>\n",
       "      <th>중분류</th>\n",
       "      <th>소분류</th>\n",
       "      <th>longitude</th>\n",
       "      <th>latitude</th>\n",
       "      <th>scores</th>\n",
       "      <th>catch</th>\n",
       "      <th>description</th>\n",
       "      <th>img</th>\n",
       "    </tr>\n",
       "  </thead>\n",
       "  <tbody>\n",
       "    <tr>\n",
       "      <th>32</th>\n",
       "      <td>해양드라마세트장('역적'촬영지해양드라마세트장)</td>\n",
       "      <td>경상남도 창원시 마산합포구</td>\n",
       "      <td>116</td>\n",
       "      <td>4.0</td>\n",
       "      <td>1366.0</td>\n",
       "      <td>72.8</td>\n",
       "      <td>6330</td>\n",
       "      <td>11168.0</td>\n",
       "      <td>1015.272727</td>\n",
       "      <td>경상남도 창원시 마산합포구 구산면 석곡리 산183-2</td>\n",
       "      <td>인문(문화/예술/역사)</td>\n",
       "      <td>체험관광지</td>\n",
       "      <td>이색체험</td>\n",
       "      <td>128.543852</td>\n",
       "      <td>35.111143</td>\n",
       "      <td>19.218802</td>\n",
       "      <td>가시대 해안마을 모습을 재현한 세트장</td>\n",
       "      <td>해양드라마세트장은 타임머신을 타고 가야 시대로 거슬러 올라가는 여행지이다. 마산의 ...</td>\n",
       "      <td>NaN</td>\n",
       "    </tr>\n",
       "  </tbody>\n",
       "</table>\n",
       "</div>"
      ],
      "text/plain": [
       "                         관광지명            주소_x  평균 체류시간  stars  reviews  \\\n",
       "32  해양드라마세트장('역적'촬영지해양드라마세트장)  경상남도 창원시 마산합포구      116    4.0   1366.0   \n",
       "\n",
       "    광역지자체별 거주 방문자 비율  search_number      sum          avg  \\\n",
       "32              72.8           6330  11168.0  1015.272727   \n",
       "\n",
       "                             주소_y           대분류    중분류   소분류   longitude  \\\n",
       "32  경상남도 창원시 마산합포구 구산면 석곡리 산183-2  인문(문화/예술/역사)  체험관광지  이색체험  128.543852   \n",
       "\n",
       "     latitude     scores                 catch  \\\n",
       "32  35.111143  19.218802  가시대 해안마을 모습을 재현한 세트장   \n",
       "\n",
       "                                          description  img  \n",
       "32  해양드라마세트장은 타임머신을 타고 가야 시대로 거슬러 올라가는 여행지이다. 마산의 ...  NaN  "
      ]
     },
     "execution_count": 43,
     "metadata": {},
     "output_type": "execute_result"
    }
   ],
   "source": [
    "g[g.img.isna()]"
   ]
  },
  {
   "cell_type": "code",
   "execution_count": 45,
   "metadata": {},
   "outputs": [],
   "source": [
    "g.loc[82,'img'] = df.iloc[27]['img']\n",
    "g.loc[45,'img'] = df.iloc[133]['img']\n",
    "g.loc[60,'img'] = df.iloc[36]['img']\n",
    "g.loc[6,'img'] = df.iloc[351]['img']\n",
    "g.loc[92,'img'] = df.iloc[256]['img']\n",
    "\n",
    "g.loc[48,'img'] = df.iloc[20]['img']\n",
    "g.loc[37,'img'] = df.iloc[376]['img']\n",
    "g.loc[61,'img'] = df.iloc[44]['img']\n",
    "g.loc[72,'img'] = df.iloc[324]['img']\n",
    "g.loc[42,'img'] = df.iloc[7]['img']\n",
    "\n",
    "g.loc[68,'img'] = df.iloc[84]['img']\n",
    "g.loc[11,'img'] = df.iloc[382]['img']\n",
    "g.loc[4,'img'] = df.iloc[352]['img']\n",
    "g.loc[70,'img'] = df.iloc[342]['img']\n",
    "g.loc[85,'img'] = df.iloc[109]['img']\n",
    "\n",
    "g.loc[32,'img'] = df.iloc[119]['img']"
   ]
  },
  {
   "cell_type": "code",
   "execution_count": 51,
   "metadata": {},
   "outputs": [],
   "source": [
    "g = g.drop(['주소_x','sum'],axis=1).rename(columns={'주소_y':'주소'}).drop_duplicates('관광지명')"
   ]
  },
  {
   "cell_type": "code",
   "execution_count": 53,
   "metadata": {},
   "outputs": [],
   "source": [
    "g.to_csv('./data/gyeongnam.csv',encoding='utf-8',index=False)"
   ]
  }
 ],
 "metadata": {
  "kernelspec": {
   "display_name": "mulcam_3_9",
   "language": "python",
   "name": "mulcam_3_9"
  },
  "language_info": {
   "codemirror_mode": {
    "name": "ipython",
    "version": 3
   },
   "file_extension": ".py",
   "mimetype": "text/x-python",
   "name": "python",
   "nbconvert_exporter": "python",
   "pygments_lexer": "ipython3",
   "version": "3.9.18"
  }
 },
 "nbformat": 4,
 "nbformat_minor": 2
}
