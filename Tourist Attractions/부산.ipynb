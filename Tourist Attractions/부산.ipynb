{
 "cells": [
  {
   "cell_type": "code",
   "execution_count": 7,
   "metadata": {},
   "outputs": [],
   "source": [
    "import os\n",
    "import pandas as pd"
   ]
  },
  {
   "cell_type": "code",
   "execution_count": 12,
   "metadata": {},
   "outputs": [],
   "source": [
    "# 파일명 변경\n",
    "\n",
    "folder_names = os.listdir('./data/')\n",
    "\n",
    "for folder_name in folder_names:\n",
    "    file_names = os.listdir(f'./data/{folder_name}')\n",
    "    for file_name in file_names:\n",
    "        split_file_name = file_name.replace('.csv','').split('_')\n",
    "        os.rename(f'./data/{folder_name}/{file_name}',f'./data/{folder_name}/{folder_name}_{split_file_name[1]}.csv')"
   ]
  },
  {
   "cell_type": "markdown",
   "metadata": {},
   "source": [
    "### 데이터프레임 합치기\n",
    "### 관광지 기본정보"
   ]
  },
  {
   "cell_type": "code",
   "execution_count": null,
   "metadata": {},
   "outputs": [],
   "source": [
    "folder_names = os.listdir('./data/')\n",
    "folder_names"
   ]
  },
  {
   "cell_type": "code",
   "execution_count": 3,
   "metadata": {},
   "outputs": [],
   "source": [
    "basic_info = pd.DataFrame()\n",
    "\n",
    "for folder_name in folder_names:\n",
    "    df = pd.read_csv(f'./data/{folder_name}/{folder_name}_관광지 기본정보.csv',encoding='ANSI')\n",
    "    basic_info = pd.concat([basic_info,df],ignore_index=True)"
   ]
  },
  {
   "cell_type": "code",
   "execution_count": 223,
   "metadata": {},
   "outputs": [],
   "source": [
    "basic_info.to_csv('./basic_info.csv',encoding='utf-8')"
   ]
  },
  {
   "cell_type": "markdown",
   "metadata": {},
   "source": [
    "### 데이터프레임 합치기\n",
    "\n",
    "### 내비게이션"
   ]
  },
  {
   "cell_type": "code",
   "execution_count": 176,
   "metadata": {},
   "outputs": [
    {
     "data": {
      "text/plain": [
       "239"
      ]
     },
     "execution_count": 176,
     "metadata": {},
     "output_type": "execute_result"
    }
   ],
   "source": [
    "folder_names = os.listdir('./zipfile/data/')\n",
    "len(folder_names)"
   ]
  },
  {
   "cell_type": "code",
   "execution_count": 177,
   "metadata": {},
   "outputs": [],
   "source": [
    "navi_info = pd.DataFrame()\n",
    "\n",
    "for folder_name in folder_names:\n",
    "    df = pd.read_csv(f'./zipfile/data/{folder_name}/{folder_name}_내비게이션 목적지 검색량 추이.csv',encoding='ANSI',index_col=0)\n",
    "    df = df.rename(columns={df.columns[0] : folder_name}).transpose()\n",
    "    df['관광지명'] = folder_name\n",
    "    navi_info = pd.concat([navi_info,df])"
   ]
  },
  {
   "cell_type": "code",
   "execution_count": 178,
   "metadata": {},
   "outputs": [],
   "source": [
    "navi_info.to_csv('./data_2/navi_info.csv',encoding='utf-8',index=False)"
   ]
  },
  {
   "cell_type": "code",
   "execution_count": 5,
   "metadata": {},
   "outputs": [],
   "source": [
    "navi_info = pd.DataFrame()\n",
    "\n",
    "for folder_name in folder_names:\n",
    "    df = pd.read_csv(f'./data/{folder_name}/{folder_name}_내비게이션 목적지 검색량 추이.csv',encoding='ANSI',index_col=0)\n",
    "    df = df.rename(columns={df.columns[0] : folder_name}).transpose()\n",
    "    navi_info = pd.concat([navi_info,df])"
   ]
  },
  {
   "cell_type": "code",
   "execution_count": 7,
   "metadata": {},
   "outputs": [],
   "source": [
    "navi_info.to_csv('./navi_info.csv',encoding='utf-8',index=False)"
   ]
  },
  {
   "cell_type": "markdown",
   "metadata": {},
   "source": [
    "### 데이터프레임 합치기\n",
    "### 방문자 거주지별 분포"
   ]
  },
  {
   "cell_type": "code",
   "execution_count": 8,
   "metadata": {},
   "outputs": [],
   "source": [
    "\n",
    "new_order = ['관광지명','광역지자체명', '기초지자체명', '광역지자체별 거주 방문자 비율', '기초지자체별 거주 방문자 비율']\n",
    "\n",
    "visit_info = pd.DataFrame()\n",
    "\n",
    "for folder_name in folder_names:\n",
    "    df = pd.read_csv(f'./data/{folder_name}/{folder_name}_방문자 거주지별 분포.csv',encoding='ANSI')\n",
    "    df['관광지명'] = folder_name\n",
    "    df = df[new_order]\n",
    "    \n",
    "    visit_info = pd.concat([visit_info,df],ignore_index=True)"
   ]
  },
  {
   "cell_type": "code",
   "execution_count": 10,
   "metadata": {},
   "outputs": [],
   "source": [
    "visit_info.to_csv('./visit_info.csv',encoding='utf-8',index=False)"
   ]
  },
  {
   "cell_type": "markdown",
   "metadata": {},
   "source": [
    "### 데이터프레임 합치기\n",
    "### 성별"
   ]
  },
  {
   "cell_type": "code",
   "execution_count": null,
   "metadata": {},
   "outputs": [],
   "source": [
    "folder_names = os.listdir('./busan_zipfile/data/')\n",
    "len(folder_names)"
   ]
  },
  {
   "cell_type": "code",
   "execution_count": 59,
   "metadata": {},
   "outputs": [],
   "source": [
    "new_order = ['관광지명','연령대', '남성방문 비율', '여성방문 비율']\n",
    "\n",
    "gender_info = pd.DataFrame()\n",
    "\n",
    "for folder_name in folder_names:\n",
    "    df = pd.read_csv(f'./busan_zipfile/data/{folder_name}/{folder_name}_성·연령별 방문자.csv',encoding='ANSI')\n",
    "    df['관광지명'] = folder_name\n",
    "    df = df[new_order]\n",
    "    \n",
    "    gender_info = pd.concat([gender_info,df],ignore_index=True)"
   ]
  },
  {
   "cell_type": "code",
   "execution_count": 61,
   "metadata": {},
   "outputs": [],
   "source": [
    "gender_info.to_csv('./data_2/gender_info.csv',encoding='utf-8',index=False)"
   ]
  },
  {
   "cell_type": "markdown",
   "metadata": {},
   "source": [
    "==================================================================================================\n",
    "\n",
    "==================================================================================================\n",
    "\n",
    "=================================================================================================="
   ]
  },
  {
   "cell_type": "code",
   "execution_count": 4,
   "metadata": {},
   "outputs": [
    {
     "data": {
      "text/html": [
       "<div>\n",
       "<style scoped>\n",
       "    .dataframe tbody tr th:only-of-type {\n",
       "        vertical-align: middle;\n",
       "    }\n",
       "\n",
       "    .dataframe tbody tr th {\n",
       "        vertical-align: top;\n",
       "    }\n",
       "\n",
       "    .dataframe thead th {\n",
       "        text-align: right;\n",
       "    }\n",
       "</style>\n",
       "<table border=\"1\" class=\"dataframe\">\n",
       "  <thead>\n",
       "    <tr style=\"text-align: right;\">\n",
       "      <th></th>\n",
       "      <th>Unnamed: 0</th>\n",
       "      <th>관광지명</th>\n",
       "      <th>주소</th>\n",
       "      <th>평균 체류시간</th>\n",
       "    </tr>\n",
       "  </thead>\n",
       "  <tbody>\n",
       "    <tr>\n",
       "      <th>0</th>\n",
       "      <td>0</td>\n",
       "      <td>168계단</td>\n",
       "      <td>부산광역시 동구</td>\n",
       "      <td>3시간 4분</td>\n",
       "    </tr>\n",
       "    <tr>\n",
       "      <th>1</th>\n",
       "      <td>1</td>\n",
       "      <td>40계단문화관광테마거리</td>\n",
       "      <td>부산광역시 중구</td>\n",
       "      <td>1시간 36분</td>\n",
       "    </tr>\n",
       "    <tr>\n",
       "      <th>2</th>\n",
       "      <td>2</td>\n",
       "      <td>BIFF광장</td>\n",
       "      <td>부산광역시 중구</td>\n",
       "      <td>1시간 22분</td>\n",
       "    </tr>\n",
       "    <tr>\n",
       "      <th>3</th>\n",
       "      <td>3</td>\n",
       "      <td>KT&amp;G상상마당부산</td>\n",
       "      <td>부산광역시 부산진구</td>\n",
       "      <td>1시간 28분</td>\n",
       "    </tr>\n",
       "    <tr>\n",
       "      <th>4</th>\n",
       "      <td>4</td>\n",
       "      <td>SEALIFE부산아쿠아리움</td>\n",
       "      <td>부산광역시 해운대구</td>\n",
       "      <td>0시간 59분</td>\n",
       "    </tr>\n",
       "    <tr>\n",
       "      <th>...</th>\n",
       "      <td>...</td>\n",
       "      <td>...</td>\n",
       "      <td>...</td>\n",
       "      <td>...</td>\n",
       "    </tr>\n",
       "    <tr>\n",
       "      <th>234</th>\n",
       "      <td>234</td>\n",
       "      <td>화명수목원</td>\n",
       "      <td>부산광역시 북구</td>\n",
       "      <td>1시간 8분</td>\n",
       "    </tr>\n",
       "    <tr>\n",
       "      <th>235</th>\n",
       "      <td>235</td>\n",
       "      <td>화전공원</td>\n",
       "      <td>부산광역시 강서구</td>\n",
       "      <td>2시간 53분</td>\n",
       "    </tr>\n",
       "    <tr>\n",
       "      <th>236</th>\n",
       "      <td>236</td>\n",
       "      <td>황령산</td>\n",
       "      <td>부산광역시 부산진구</td>\n",
       "      <td>2시간 1분</td>\n",
       "    </tr>\n",
       "    <tr>\n",
       "      <th>237</th>\n",
       "      <td>237</td>\n",
       "      <td>황령산전망대</td>\n",
       "      <td>부산광역시 남구</td>\n",
       "      <td>0시간 38분</td>\n",
       "    </tr>\n",
       "    <tr>\n",
       "      <th>238</th>\n",
       "      <td>238</td>\n",
       "      <td>흰여울문화마을</td>\n",
       "      <td>부산광역시 영도구</td>\n",
       "      <td>0시간 48분</td>\n",
       "    </tr>\n",
       "  </tbody>\n",
       "</table>\n",
       "<p>239 rows × 4 columns</p>\n",
       "</div>"
      ],
      "text/plain": [
       "     Unnamed: 0            관광지명          주소   평균 체류시간\n",
       "0             0           168계단    부산광역시 동구   3시간 4분 \n",
       "1             1    40계단문화관광테마거리    부산광역시 중구  1시간 36분 \n",
       "2             2          BIFF광장    부산광역시 중구  1시간 22분 \n",
       "3             3      KT&G상상마당부산  부산광역시 부산진구  1시간 28분 \n",
       "4             4  SEALIFE부산아쿠아리움  부산광역시 해운대구  0시간 59분 \n",
       "..          ...             ...         ...       ...\n",
       "234         234           화명수목원    부산광역시 북구   1시간 8분 \n",
       "235         235            화전공원   부산광역시 강서구  2시간 53분 \n",
       "236         236             황령산  부산광역시 부산진구   2시간 1분 \n",
       "237         237          황령산전망대    부산광역시 남구  0시간 38분 \n",
       "238         238         흰여울문화마을   부산광역시 영도구  0시간 48분 \n",
       "\n",
       "[239 rows x 4 columns]"
      ]
     },
     "execution_count": 4,
     "metadata": {},
     "output_type": "execute_result"
    }
   ],
   "source": [
    "import pandas as pd\n",
    "\n",
    "basic_info = pd.read_csv('./data_2/basic_info.csv')\n",
    "basic_info"
   ]
  },
  {
   "cell_type": "code",
   "execution_count": 5,
   "metadata": {},
   "outputs": [],
   "source": [
    "stars = []\n",
    "reviews = []"
   ]
  },
  {
   "cell_type": "code",
   "execution_count": null,
   "metadata": {},
   "outputs": [],
   "source": [
    "from selenium import webdriver\n",
    "from selenium.webdriver.common.by import By\n",
    "from selenium.webdriver.support.ui import WebDriverWait\n",
    "from selenium.webdriver.support import expected_conditions as EC\n",
    "from webdriver_manager.chrome import ChromeDriverManager\n",
    "from selenium.webdriver.chrome.service import Service\n",
    "\n",
    "\n",
    "for i in basic_info['관광지명']:\n",
    "    url = f'https://www.google.co.kr/maps/search/{i}'\n",
    "    service = Service(executable_path='./data/chromedriver.exe')\n",
    "    driver = webdriver.Chrome(service=Service(ChromeDriverManager().install()))\n",
    "    driver.get(url)\n",
    "    \n",
    "    try:\n",
    "        # 해당 클래스명이 나타날 때까지 최대 10초 대기\n",
    "        element = WebDriverWait(driver, 10).until(\n",
    "            EC.presence_of_element_located((By.CLASS_NAME, 'F7nice'))\n",
    "        )\n",
    "        \n",
    "        star = element.text.split('\\n')[0]\n",
    "        review = element.text.split('\\n')[1][1:-1]\n",
    "        \n",
    "        stars.append(star)\n",
    "        reviews.append(review)\n",
    "    except:\n",
    "        check = input('일치하는 장소를 클릭 후 y를 눌러주세요(이외 None)')\n",
    "        if check.upper() == 'Y':\n",
    "            star = driver.find_element(By.CLASS_NAME, 'F7nice').text.split('\\n')[0]\n",
    "            review = driver.find_element(By.CLASS_NAME, 'F7nice').text.split('\\n')[1][1:-1]\n",
    "            \n",
    "            stars.append(star)\n",
    "            reviews.append(review)\n",
    "        else:\n",
    "            stars.append(None)\n",
    "            reviews.append(None)\n",
    "    \n",
    "    driver.quit()\n",
    "    print(f'평점 수 : {len(stars)}','|',f'리뷰 수 : {len(reviews)}','|',f'관광지 명 : {i}','|', f'별점 : {star}','|',f'리뷰 : {review}')\n",
    "    \n",
    "    star = None\n",
    "    review = None"
   ]
  },
  {
   "cell_type": "code",
   "execution_count": 8,
   "metadata": {},
   "outputs": [
    {
     "name": "stdout",
     "output_type": "stream",
     "text": [
      "총 데이터 수 : 239\n",
      "=========================================\n",
      "평점 수 : 239\n",
      "리뷰 수 : 239\n",
      "=========================================\n",
      "총 None값 수 : 6\n",
      "총 None값 수 : 6\n"
     ]
    }
   ],
   "source": [
    "print(f'총 데이터 수 : {len(basic_info)}')\n",
    "print('=========================================')\n",
    "print(f'평점 수 : {len(stars)}')\n",
    "print(f'리뷰 수 : {len(reviews)}')\n",
    "print('=========================================')\n",
    "print(f'총 None값 수 : {stars.count(None)}')\n",
    "print(f'총 None값 수 : {reviews.count(None)}')"
   ]
  },
  {
   "cell_type": "code",
   "execution_count": 11,
   "metadata": {},
   "outputs": [],
   "source": [
    "basic_info['stars'] = stars\n",
    "basic_info['reviews'] = reviews"
   ]
  },
  {
   "cell_type": "code",
   "execution_count": 18,
   "metadata": {},
   "outputs": [],
   "source": [
    "basic_info = basic_info.drop('Unnamed: 0',axis=1)"
   ]
  },
  {
   "cell_type": "code",
   "execution_count": 22,
   "metadata": {},
   "outputs": [],
   "source": [
    "basic_info.to_csv('./basic_info_with_reviews.csv',encoding='utf-8',index=False)"
   ]
  },
  {
   "cell_type": "markdown",
   "metadata": {},
   "source": [
    "==============================================================================================================================\n",
    "\n",
    "==============================================================================================================================\n",
    "\n",
    "=============================================================================================================================="
   ]
  },
  {
   "cell_type": "markdown",
   "metadata": {},
   "source": [
    "### 리뷰, 체류시간 -> 숫자 값으로 변경"
   ]
  },
  {
   "cell_type": "code",
   "execution_count": 181,
   "metadata": {},
   "outputs": [],
   "source": [
    "import pandas as pd\n",
    "\n",
    "basic_info = pd.read_csv('./data_2/basic_info_with_reviews.csv')\n",
    "gender_info = pd.read_csv('./data_2/gender_info.csv')\n",
    "navi_info = pd.read_csv('./data_2/navi_info.csv')\n",
    "visit_info = pd.read_csv('./data_2/visit_info.csv')"
   ]
  },
  {
   "cell_type": "code",
   "execution_count": 46,
   "metadata": {},
   "outputs": [],
   "source": [
    "time = []\n",
    "\n",
    "for i in basic_info['평균 체류시간']:\n",
    "    i = i.replace('시간','').replace('분','').strip()\n",
    "    i = i.split(' ')\n",
    "    time.append((int(i[0]) * 60) + int(i[1]))\n",
    "    \n",
    "basic_info['평균 체류시간'] = time"
   ]
  },
  {
   "cell_type": "code",
   "execution_count": 69,
   "metadata": {},
   "outputs": [],
   "source": [
    "reviews_to_int = []\n",
    "\n",
    "for i in basic_info['reviews']:\n",
    "    if type(i) == float:\n",
    "        reviews_to_int.append(i)\n",
    "    else:\n",
    "        i = i.replace(',','')\n",
    "        i = int(i)\n",
    "        reviews_to_int.append(i)\n",
    "\n",
    "basic_info['reviews'] = reviews_to_int"
   ]
  },
  {
   "cell_type": "code",
   "execution_count": 76,
   "metadata": {},
   "outputs": [],
   "source": [
    "basic_info.to_csv('./data_2/basic_info_with_reviews.csv',encoding='utf-8',index=False)"
   ]
  },
  {
   "cell_type": "markdown",
   "metadata": {},
   "source": [
    "### None값 -> 관광지별 평균"
   ]
  },
  {
   "cell_type": "code",
   "execution_count": 182,
   "metadata": {},
   "outputs": [],
   "source": [
    "new_order = ['관광지명','202301', '202302', '202303', '202304', '202305', '202306', '202307','202308', '202309', '202310', '202311', '202312']\n",
    "navi_info = navi_info[new_order]"
   ]
  },
  {
   "cell_type": "code",
   "execution_count": 183,
   "metadata": {},
   "outputs": [],
   "source": [
    "navi_info.set_index('관광지명',inplace=True)"
   ]
  },
  {
   "cell_type": "code",
   "execution_count": 185,
   "metadata": {},
   "outputs": [],
   "source": [
    "navi_info = navi_info.apply(lambda row: row.fillna(int(row.mean())), axis=1)"
   ]
  },
  {
   "cell_type": "code",
   "execution_count": 186,
   "metadata": {},
   "outputs": [],
   "source": [
    "navi_info.to_csv('./data_2/navi_info.csv',encoding='utf-8',index=True)"
   ]
  },
  {
   "cell_type": "markdown",
   "metadata": {},
   "source": [
    "==============================================================================================================================\n",
    "\n",
    "==============================================================================================================================\n",
    "\n",
    "=============================================================================================================================="
   ]
  },
  {
   "cell_type": "code",
   "execution_count": 6,
   "metadata": {},
   "outputs": [],
   "source": [
    "import requests\n",
    "from bs4 import BeautifulSoup\n",
    "import time"
   ]
  },
  {
   "cell_type": "code",
   "execution_count": 15,
   "metadata": {},
   "outputs": [],
   "source": [
    "url = 'https://datalab.visitkorea.or.kr/visualize/getTempleteData.do'\n",
    "\n",
    "params = {\n",
    "    \"SIDO_CD\": 26,\n",
    "    \"SGG_CD\": \"\",\n",
    "    \"BASE_YM1\": 2010,\n",
    "    \"BASE_YM2\": 2022,\n",
    "    \"CONT_NM\": \"\",\n",
    "    \"KTO_CATE_LCLS_CD\": \"\",\n",
    "    \"KTO_CATE_MCLS_CD\": \"\",\n",
    "    \"firstIndex\": float('nan'),\n",
    "    \"pageIndex\": 1,\n",
    "    \"recordCountPerPage\": 10,\n",
    "    \"orderSelect\": \"\",\n",
    "    \"orderValue\": \"asc\",\n",
    "    \"contentList\": \"전체\",\n",
    "    \"noTheme\": \"\",\n",
    "    \"qid\": \"LN_05_01_011\"\n",
    "}\n",
    "\n",
    "response = requests.get(url,params=params)"
   ]
  },
  {
   "cell_type": "code",
   "execution_count": 8,
   "metadata": {},
   "outputs": [],
   "source": [
    "data = response.json()"
   ]
  },
  {
   "cell_type": "code",
   "execution_count": null,
   "metadata": {},
   "outputs": [],
   "source": [
    "all = []\n",
    "\n",
    "while True:\n",
    "    for item in data.get('list', []):\n",
    "        result = {\n",
    "            'CONT_NM': item.get('CONT_NM'),\n",
    "            'TAR_ADDR_NM': item.get('TAR_ADDR_NM'),\n",
    "            'KTO_CATE_LCLS_NM': item.get('KTO_CATE_LCLS_NM'),\n",
    "            'KTO_CATE_MCLS_NM': item.get('KTO_CATE_MCLS_NM'),\n",
    "            'KTO_CATE_SCLS_NM': item.get('KTO_CATE_SCLS_NM'),\n",
    "            'XCRD': item.get('XCRD'),\n",
    "            'YCRD': item.get('YCRD')\n",
    "        }\n",
    "        all.append(result)\n",
    "        \n",
    "    params['pageIndex'] += 1\n",
    "    \n",
    "    time.sleep(5)\n",
    "    \n",
    "    if len(all) == 239:\n",
    "        break"
   ]
  },
  {
   "cell_type": "code",
   "execution_count": 11,
   "metadata": {},
   "outputs": [],
   "source": [
    "import pandas as pd\n",
    "\n",
    "df = pd.DataFrame(all)"
   ]
  },
  {
   "cell_type": "code",
   "execution_count": 12,
   "metadata": {},
   "outputs": [],
   "source": [
    "df.to_csv('./data_2/location.csv',encoding='utf-8',index=False)"
   ]
  },
  {
   "cell_type": "markdown",
   "metadata": {},
   "source": [
    "===============================================================================================================\n",
    "\n",
    "===============================================================================================================\n",
    "\n",
    "==============================================================================================================="
   ]
  },
  {
   "cell_type": "code",
   "execution_count": 4,
   "metadata": {},
   "outputs": [],
   "source": [
    "import pandas as pd\n",
    "from matplotlib import pyplot as plt\n",
    "import seaborn as sns\n",
    "plt.rc('font', family='Malgun Gothic')\n",
    "\n",
    "import warnings\n",
    "warnings.filterwarnings('ignore')"
   ]
  },
  {
   "cell_type": "code",
   "execution_count": 89,
   "metadata": {},
   "outputs": [],
   "source": [
    "basic_info = pd.read_csv('./data_2/basic_info_with_reviews.csv')\n",
    "gender_info = pd.read_csv('./data_2/gender_info.csv')\n",
    "navi_info = pd.read_csv('./data_2/navi_info.csv')\n",
    "visit_info = pd.read_csv('./data_2/visit_info.csv')\n",
    "location_info = pd.read_csv('./data_2/location.csv')"
   ]
  },
  {
   "cell_type": "code",
   "execution_count": 78,
   "metadata": {},
   "outputs": [],
   "source": [
    "totals = []\n",
    "avgs = []\n",
    "\n",
    "for i in range(len(navi_info)):\n",
    "    total = navi_info.iloc[i][1:].sum()\n",
    "    avg = navi_info.iloc[i][1:].mean()\n",
    "    \n",
    "    totals.append(total)\n",
    "    avgs.append(avg)"
   ]
  },
  {
   "cell_type": "code",
   "execution_count": 79,
   "metadata": {},
   "outputs": [],
   "source": [
    "navi_info['sum'] = totals\n",
    "navi_info['avg'] = avgs"
   ]
  },
  {
   "cell_type": "markdown",
   "metadata": {},
   "source": [
    "===============================================================================================================\n",
    "\n",
    "===============================================================================================================\n",
    "\n",
    "==============================================================================================================="
   ]
  },
  {
   "cell_type": "code",
   "execution_count": 50,
   "metadata": {},
   "outputs": [],
   "source": [
    "from selenium import webdriver\n",
    "from selenium.webdriver.chrome.service import Service\n",
    "import time\n",
    "from selenium.webdriver.common.action_chains import ActionChains\n",
    "from webdriver_manager.chrome import ChromeDriverManager\n",
    "from selenium.webdriver.common.by import By\n",
    "\n",
    "search_number = []\n",
    "for i in basic_info['관광지명']:\n",
    "    if not i.startswith('부산'):\n",
    "        i = '부산 ' + i\n",
    "    url = f'https://www.google.com/search?q={i}'\n",
    "    service = Service(executable_path='./data/chromedriver.exe')\n",
    "    driver = webdriver.Chrome(service=Service(ChromeDriverManager().install()))\n",
    "    driver.get(url)\n",
    "    time.sleep(2)\n",
    "\n",
    "    search_number.append(driver.find_element(By.ID, 'result-stats').text)\n",
    "\n",
    "basic_info['search_number'] = search_number"
   ]
  },
  {
   "cell_type": "code",
   "execution_count": 72,
   "metadata": {},
   "outputs": [],
   "source": [
    "search_number = []\n",
    "for index,i in enumerate(basic_info['관광지명']):\n",
    "    if basic_info.iloc[index]['search_number']:\n",
    "        continue\n",
    "    if not i.startswith('부산'):\n",
    "        i = '부산 ' + i\n",
    "    url = f'https://www.google.com/search?q={i}'\n",
    "    service = Service(executable_path='./data/chromedriver.exe')\n",
    "    driver = webdriver.Chrome(service=Service(ChromeDriverManager().install()))\n",
    "    driver.get(url)\n",
    "    time.sleep(2)\n",
    "\n",
    "    # search_number.append(driver.find_element(By.ID, 'result-stats').text)\n",
    "    basic_info.loc[index,'search_number'] = driver.find_element(By.ID, 'result-stats').text"
   ]
  },
  {
   "cell_type": "code",
   "execution_count": 105,
   "metadata": {},
   "outputs": [],
   "source": [
    "import re\n",
    "\n",
    "pattern = re.compile(r'\\([^)]*\\)')\n",
    "\n",
    "basic_info['search_number'] = basic_info['search_number'].apply(lambda x: re.sub(pattern, '', x))\n",
    "basic_info['search_number'] = basic_info['search_number'].apply(lambda x: x[7:-1])"
   ]
  },
  {
   "cell_type": "code",
   "execution_count": 109,
   "metadata": {},
   "outputs": [],
   "source": [
    "basic_info['search_number'] = basic_info['search_number'].apply(lambda x: re.sub(r'개', '', x))"
   ]
  },
  {
   "cell_type": "code",
   "execution_count": 115,
   "metadata": {},
   "outputs": [],
   "source": [
    "basic_info['search_number'] = basic_info['search_number'].apply(lambda x: int(x.replace(',','')))"
   ]
  },
  {
   "cell_type": "code",
   "execution_count": 129,
   "metadata": {},
   "outputs": [],
   "source": [
    "basic_info.to_csv('./data_2/basic_info_with_reviews.csv',encoding='utf-8',index=False)"
   ]
  },
  {
   "cell_type": "markdown",
   "metadata": {},
   "source": [
    "===============================================================================================================\n",
    "\n",
    "===============================================================================================================\n",
    "\n",
    "==============================================================================================================="
   ]
  },
  {
   "cell_type": "code",
   "execution_count": 4,
   "metadata": {},
   "outputs": [],
   "source": [
    "import pandas as pd"
   ]
  },
  {
   "cell_type": "code",
   "execution_count": 5,
   "metadata": {},
   "outputs": [],
   "source": [
    "basic_info = pd.read_csv('./부산/basic_info.csv')\n",
    "gender_info = pd.read_csv('./부산/gender_info.csv')\n",
    "navi_info = pd.read_csv('./부산/navi_info.csv')\n",
    "visit_info = pd.read_csv('./부산/visit_info.csv')\n",
    "location_info = pd.read_csv('./부산/location_info.csv')"
   ]
  },
  {
   "cell_type": "code",
   "execution_count": 3,
   "metadata": {},
   "outputs": [],
   "source": [
    "visit_info.dropna(subset=['광역지자체명'], axis=0,inplace=True)\n",
    "names = visit_info['관광지명'].tolist()\n",
    "\n",
    "local_visit = visit_info[visit_info['광역지자체명'].str.contains('부산')].groupby('관광지명')[['광역지자체별 거주 방문자 비율']].mean()\n",
    "local_visit = local_visit.reset_index()"
   ]
  },
  {
   "cell_type": "code",
   "execution_count": 4,
   "metadata": {},
   "outputs": [],
   "source": [
    "basic_info['광역지자체별 거주 방문자 비율'] = local_visit['광역지자체별 거주 방문자 비율']"
   ]
  },
  {
   "cell_type": "code",
   "execution_count": 5,
   "metadata": {},
   "outputs": [],
   "source": [
    "totals = []\n",
    "avgs = []\n",
    "\n",
    "for i in range(len(navi_info)):\n",
    "    total = navi_info.iloc[i][1:].sum()\n",
    "    avg = navi_info.iloc[i][1:].mean()\n",
    "    \n",
    "    totals.append(total)\n",
    "    avgs.append(avg)\n",
    "navi_info['sum'] = totals\n",
    "navi_info['avg'] = avgs"
   ]
  },
  {
   "cell_type": "code",
   "execution_count": 18,
   "metadata": {},
   "outputs": [],
   "source": [
    "location_info = location_info.rename(columns={'CONT_NM': '관광지명', 'TAR_ADDR_NM': '주소', 'KTO_CATE_LCLS_NM': '대분류', 'KTO_CATE_MCLS_NM': '중분류', 'KTO_CATE_SCLS_NM': '소분류', 'XCRD' : 'longitude', 'YCRD' : 'latitude'})"
   ]
  },
  {
   "cell_type": "code",
   "execution_count": 7,
   "metadata": {},
   "outputs": [],
   "source": [
    "import re\n",
    "\n",
    "pattern = re.compile(r'\\([^)]*\\)')\n",
    "\n",
    "basic_info['관광지명'] = basic_info['관광지명'].apply(lambda x: re.sub(pattern, '', x))\n",
    "location_info['관광지명'] = location_info['관광지명'].apply(lambda x: re.sub(pattern, '', x))\n",
    "visit_info['관광지명'] = visit_info['관광지명'].apply(lambda x: re.sub(pattern, '', x))"
   ]
  },
  {
   "cell_type": "code",
   "execution_count": 8,
   "metadata": {},
   "outputs": [],
   "source": [
    "df = pd.DataFrame()"
   ]
  },
  {
   "cell_type": "code",
   "execution_count": 9,
   "metadata": {},
   "outputs": [],
   "source": [
    "df = pd.concat([basic_info,navi_info[['sum','avg']]],axis=1)"
   ]
  },
  {
   "cell_type": "code",
   "execution_count": 10,
   "metadata": {},
   "outputs": [],
   "source": [
    "df = pd.merge(df,location_info,on='관광지명',how='inner')"
   ]
  },
  {
   "cell_type": "code",
   "execution_count": 20,
   "metadata": {},
   "outputs": [
    {
     "data": {
      "text/html": [
       "<div>\n",
       "<style scoped>\n",
       "    .dataframe tbody tr th:only-of-type {\n",
       "        vertical-align: middle;\n",
       "    }\n",
       "\n",
       "    .dataframe tbody tr th {\n",
       "        vertical-align: top;\n",
       "    }\n",
       "\n",
       "    .dataframe thead th {\n",
       "        text-align: right;\n",
       "    }\n",
       "</style>\n",
       "<table border=\"1\" class=\"dataframe\">\n",
       "  <thead>\n",
       "    <tr style=\"text-align: right;\">\n",
       "      <th></th>\n",
       "      <th>평균 체류시간</th>\n",
       "      <th>stars</th>\n",
       "      <th>reviews</th>\n",
       "      <th>search_number</th>\n",
       "      <th>광역지자체별 거주 방문자 비율</th>\n",
       "      <th>sum</th>\n",
       "      <th>avg</th>\n",
       "      <th>longitude</th>\n",
       "      <th>latitude</th>\n",
       "    </tr>\n",
       "  </thead>\n",
       "  <tbody>\n",
       "    <tr>\n",
       "      <th>count</th>\n",
       "      <td>239.000000</td>\n",
       "      <td>233.000000</td>\n",
       "      <td>233.00000</td>\n",
       "      <td>2.390000e+02</td>\n",
       "      <td>239.000000</td>\n",
       "      <td>239.000000</td>\n",
       "      <td>239.000000</td>\n",
       "      <td>239.000000</td>\n",
       "      <td>239.000000</td>\n",
       "    </tr>\n",
       "    <tr>\n",
       "      <th>mean</th>\n",
       "      <td>104.920502</td>\n",
       "      <td>4.244206</td>\n",
       "      <td>1385.04721</td>\n",
       "      <td>7.520314e+05</td>\n",
       "      <td>62.297908</td>\n",
       "      <td>16550.447699</td>\n",
       "      <td>1379.203975</td>\n",
       "      <td>129.072049</td>\n",
       "      <td>35.163086</td>\n",
       "    </tr>\n",
       "    <tr>\n",
       "      <th>std</th>\n",
       "      <td>46.716897</td>\n",
       "      <td>0.273031</td>\n",
       "      <td>3375.29869</td>\n",
       "      <td>2.589280e+06</td>\n",
       "      <td>14.161516</td>\n",
       "      <td>37049.609650</td>\n",
       "      <td>3087.467471</td>\n",
       "      <td>0.093770</td>\n",
       "      <td>0.076956</td>\n",
       "    </tr>\n",
       "    <tr>\n",
       "      <th>min</th>\n",
       "      <td>16.000000</td>\n",
       "      <td>3.000000</td>\n",
       "      <td>1.00000</td>\n",
       "      <td>6.700000e+02</td>\n",
       "      <td>20.800000</td>\n",
       "      <td>36.000000</td>\n",
       "      <td>3.000000</td>\n",
       "      <td>128.809631</td>\n",
       "      <td>35.000647</td>\n",
       "    </tr>\n",
       "    <tr>\n",
       "      <th>25%</th>\n",
       "      <td>73.000000</td>\n",
       "      <td>4.100000</td>\n",
       "      <td>48.00000</td>\n",
       "      <td>2.695000e+04</td>\n",
       "      <td>53.800000</td>\n",
       "      <td>542.000000</td>\n",
       "      <td>45.166667</td>\n",
       "      <td>129.027611</td>\n",
       "      <td>35.104642</td>\n",
       "    </tr>\n",
       "    <tr>\n",
       "      <th>50%</th>\n",
       "      <td>94.000000</td>\n",
       "      <td>4.300000</td>\n",
       "      <td>203.00000</td>\n",
       "      <td>1.090000e+05</td>\n",
       "      <td>65.700000</td>\n",
       "      <td>3183.000000</td>\n",
       "      <td>265.250000</td>\n",
       "      <td>129.062351</td>\n",
       "      <td>35.154317</td>\n",
       "    </tr>\n",
       "    <tr>\n",
       "      <th>75%</th>\n",
       "      <td>134.500000</td>\n",
       "      <td>4.400000</td>\n",
       "      <td>1063.00000</td>\n",
       "      <td>3.435000e+05</td>\n",
       "      <td>73.150000</td>\n",
       "      <td>12807.000000</td>\n",
       "      <td>1067.250000</td>\n",
       "      <td>129.116345</td>\n",
       "      <td>35.213901</td>\n",
       "    </tr>\n",
       "    <tr>\n",
       "      <th>max</th>\n",
       "      <td>328.000000</td>\n",
       "      <td>5.000000</td>\n",
       "      <td>24051.00000</td>\n",
       "      <td>3.220000e+07</td>\n",
       "      <td>87.900000</td>\n",
       "      <td>235888.000000</td>\n",
       "      <td>19657.333333</td>\n",
       "      <td>129.276526</td>\n",
       "      <td>35.376051</td>\n",
       "    </tr>\n",
       "  </tbody>\n",
       "</table>\n",
       "</div>"
      ],
      "text/plain": [
       "          평균 체류시간       stars      reviews  search_number  광역지자체별 거주 방문자 비율  \\\n",
       "count  239.000000  233.000000    233.00000   2.390000e+02        239.000000   \n",
       "mean   104.920502    4.244206   1385.04721   7.520314e+05         62.297908   \n",
       "std     46.716897    0.273031   3375.29869   2.589280e+06         14.161516   \n",
       "min     16.000000    3.000000      1.00000   6.700000e+02         20.800000   \n",
       "25%     73.000000    4.100000     48.00000   2.695000e+04         53.800000   \n",
       "50%     94.000000    4.300000    203.00000   1.090000e+05         65.700000   \n",
       "75%    134.500000    4.400000   1063.00000   3.435000e+05         73.150000   \n",
       "max    328.000000    5.000000  24051.00000   3.220000e+07         87.900000   \n",
       "\n",
       "                 sum           avg   longitude    latitude  \n",
       "count     239.000000    239.000000  239.000000  239.000000  \n",
       "mean    16550.447699   1379.203975  129.072049   35.163086  \n",
       "std     37049.609650   3087.467471    0.093770    0.076956  \n",
       "min        36.000000      3.000000  128.809631   35.000647  \n",
       "25%       542.000000     45.166667  129.027611   35.104642  \n",
       "50%      3183.000000    265.250000  129.062351   35.154317  \n",
       "75%     12807.000000   1067.250000  129.116345   35.213901  \n",
       "max    235888.000000  19657.333333  129.276526   35.376051  "
      ]
     },
     "execution_count": 20,
     "metadata": {},
     "output_type": "execute_result"
    }
   ],
   "source": [
    "df.describe()"
   ]
  },
  {
   "cell_type": "code",
   "execution_count": 205,
   "metadata": {},
   "outputs": [],
   "source": [
    "import folium\n",
    "\n",
    "busan_map = folium.Map(location=[35.115225,129.042243],zoom_start=11)"
   ]
  },
  {
   "cell_type": "code",
   "execution_count": 207,
   "metadata": {},
   "outputs": [],
   "source": [
    "for i in range(len(df['관광지명'])):\n",
    "    folium.Marker(\n",
    "            [df.iloc[i]['latitude'],df.iloc[i]['longitude']],\n",
    "            popup=folium.Popup(df.iloc[i]['관광지명'],maxWidth=300),\n",
    "            fill_opacity=0.5,\n",
    "            icon=folium.Icon(color='blue')            \n",
    "            ).add_to(busan_map)"
   ]
  },
  {
   "cell_type": "code",
   "execution_count": null,
   "metadata": {},
   "outputs": [],
   "source": [
    "busan_map"
   ]
  },
  {
   "cell_type": "code",
   "execution_count": 11,
   "metadata": {},
   "outputs": [],
   "source": [
    "df = df.dropna()"
   ]
  },
  {
   "cell_type": "code",
   "execution_count": 11,
   "metadata": {},
   "outputs": [],
   "source": [
    "import numpy as np\n",
    "score = []\n",
    "\n",
    "for i in range(len(df)):\n",
    "    if pd.isna(df.iloc[i]['stars']):\n",
    "        star = 0\n",
    "    else:\n",
    "        star = df.iloc[i]['stars'] * 1.2\n",
    "    if pd.isna(df.iloc[i]['reviews']):\n",
    "        review = 0\n",
    "    else:\n",
    "        review = np.log1p(max(df['reviews'])) - np.log1p(df.iloc[i]['reviews']) * 1.1\n",
    "    search = np.log1p(max(df['search_number'])) - np.log1p(df.iloc[i]['search_number'])\n",
    "    visit = np.log1p(df.iloc[i]['광역지자체별 거주 방문자 비율']) * 1.1\n",
    "    time = np.log1p(df.iloc[i]['평균 체류시간']) * 0.8\n",
    "    navi = np.log1p(max(df['avg'])) - np.log1p(df.iloc[i]['avg'])\n",
    "    all = star+review+search+visit+time-navi\n",
    "    # if not df['주소_x'].str.contains('진구|해운대|사하구|북구|동래').iloc[i]:\n",
    "    #     all *= 1.1\n",
    "    if df.iloc[i]['소분류'] == '산':\n",
    "        score.append(all*0.9)\n",
    "    elif df.iloc[i]['소분류'] == '사찰':\n",
    "        score.append(all*0.9)\n",
    "    else:\n",
    "        score.append(all)\n",
    "\n",
    "df['scores'] = score"
   ]
  },
  {
   "cell_type": "code",
   "execution_count": 13,
   "metadata": {},
   "outputs": [],
   "source": [
    "first = df.sort_values(by='scores',ascending=False)"
   ]
  },
  {
   "cell_type": "code",
   "execution_count": 15,
   "metadata": {},
   "outputs": [],
   "source": [
    "first.to_csv('./busan.csv',encoding='utf-8',index=False)"
   ]
  },
  {
   "cell_type": "code",
   "execution_count": 31,
   "metadata": {},
   "outputs": [
    {
     "data": {
      "text/plain": [
       "['평화공원',\n",
       " '금용암',\n",
       " '부산자갈치시장',\n",
       " '부산부전시장',\n",
       " '더베이101',\n",
       " '해동용궁사',\n",
       " '40계단문화관광테마거리',\n",
       " 'BIFF광장',\n",
       " '부평시장',\n",
       " '부산박물관',\n",
       " '168계단',\n",
       " '이기대',\n",
       " '부산해운대시장',\n",
       " '국제시장',\n",
       " '부산올림픽공원',\n",
       " '문화공감수정',\n",
       " '서면시장',\n",
       " '태종사',\n",
       " '영도봉래시장/봉래시장',\n",
       " '두도',\n",
       " '광복로문화패션거리',\n",
       " '송정역',\n",
       " '부산자갈치양곱창골목',\n",
       " '화전공원',\n",
       " '감천사']"
      ]
     },
     "execution_count": 31,
     "metadata": {},
     "output_type": "execute_result"
    }
   ],
   "source": [
    "first['관광지명'].tail(25).tolist()"
   ]
  },
  {
   "cell_type": "code",
   "execution_count": 37,
   "metadata": {},
   "outputs": [],
   "source": [
    "import folium\n",
    "\n",
    "busan_map = folium.Map(location=[35.115225,129.042243],zoom_start=11)"
   ]
  },
  {
   "cell_type": "code",
   "execution_count": 38,
   "metadata": {},
   "outputs": [],
   "source": [
    "for i in range(len(first)):\n",
    "    if i == 30:\n",
    "        break\n",
    "    folium.Marker(\n",
    "            [first.iloc[i]['latitude'],first.iloc[i]['longitude']],\n",
    "            popup=folium.Popup(first.iloc[i]['관광지명'],maxWidth=300),\n",
    "            fill_opacity=0.5,\n",
    "            icon=folium.Icon(color='blue')            \n",
    "            ).add_to(busan_map)"
   ]
  },
  {
   "cell_type": "code",
   "execution_count": null,
   "metadata": {},
   "outputs": [],
   "source": [
    "busan_map"
   ]
  },
  {
   "cell_type": "markdown",
   "metadata": {},
   "source": [
    "==============================================================================\n",
    "\n",
    "==============================================================================\n",
    "\n",
    "=============================================================================="
   ]
  },
  {
   "cell_type": "code",
   "execution_count": 2,
   "metadata": {},
   "outputs": [],
   "source": [
    "import requests\n",
    "from bs4 import BeautifulSoup\n",
    "import pandas as pd\n",
    "from tqdm.notebook import tqdm"
   ]
  },
  {
   "cell_type": "code",
   "execution_count": 3,
   "metadata": {},
   "outputs": [],
   "source": [
    "basic_info = pd.read_csv('./부산/basic_info.csv')\n",
    "gender_info = pd.read_csv('./부산/gender_info.csv')\n",
    "navi_info = pd.read_csv('./부산/navi_info.csv')\n",
    "visit_info = pd.read_csv('./부산/visit_info.csv')\n",
    "location_info = pd.read_csv('./부산/location_info.csv')"
   ]
  },
  {
   "cell_type": "code",
   "execution_count": null,
   "metadata": {},
   "outputs": [],
   "source": [
    "# 네이버 블로그 글 가져오기\n",
    "\n",
    "# url을 soup로 만들기\n",
    "def url_to_soup(url):\n",
    "    response = requests.get(url)\n",
    "    html = response.text\n",
    "    soup = BeautifulSoup(html,'html.parser')\n",
    "    return soup\n",
    "\n",
    "# 블로그 리뷰\n",
    "blog_review = []\n",
    "\n",
    "for i in tqdm(basic_info['관광지명']):\n",
    "    # 각 여행지 검색\n",
    "    url = f'https://search.naver.com/search.naver?ssc=tab.blog.all&sm=tab_jum&query={i}'\n",
    "    soup = url_to_soup(url)\n",
    "    \n",
    "    # 각 블로그별 url 가져오기\n",
    "    titles = soup.findAll('div', class_ = 'title_area')\n",
    "    urls = []\n",
    "    for title in titles:\n",
    "        links = title.find('a',class_='title_link')\n",
    "        link = links.get('href')\n",
    "        urls.append(link)\n",
    "\n",
    "    # 블로그별 리뷰 가져오기\n",
    "    reviews = []\n",
    "    for blog_url in urls[:25]:\n",
    "        soup = url_to_soup(blog_url)\n",
    "        if soup.find('iframe'):\n",
    "            src = soup.find('iframe').get('src')\n",
    "            head = 'https://blog.naver.com/'\n",
    "            real_url = head + src\n",
    "            \n",
    "            soup = url_to_soup(real_url)\n",
    "            main_container = soup.find('div', attrs={'class': 'se-main-container'})\n",
    "            \n",
    "            if main_container:\n",
    "                review = main_container.get_text().replace('\\n', '')\n",
    "                reviews.append(review)\n",
    "            else:\n",
    "                print(f\"Couldn't find the 'se-main-container' class on {real_url}\")\n",
    "    \n",
    "    blog_review.append(reviews)"
   ]
  },
  {
   "cell_type": "code",
   "execution_count": null,
   "metadata": {},
   "outputs": [],
   "source": [
    "for i,num in enumerate(blog_review):\n",
    "    if len(num) < 25:\n",
    "        print(i,len(num))"
   ]
  },
  {
   "cell_type": "code",
   "execution_count": 26,
   "metadata": {},
   "outputs": [],
   "source": [
    "df = pd.DataFrame()"
   ]
  },
  {
   "cell_type": "code",
   "execution_count": 31,
   "metadata": {},
   "outputs": [],
   "source": [
    "df['관광지명'] = basic_info['관광지명']\n",
    "df['블로그리뷰'] = blog_review"
   ]
  },
  {
   "cell_type": "code",
   "execution_count": 36,
   "metadata": {},
   "outputs": [],
   "source": [
    "df.to_csv('./부산/blog_review.csv',encoding='utf-8',index=False)"
   ]
  },
  {
   "cell_type": "code",
   "execution_count": 43,
   "metadata": {},
   "outputs": [
    {
     "data": {
      "text/html": [
       "<div>\n",
       "<style scoped>\n",
       "    .dataframe tbody tr th:only-of-type {\n",
       "        vertical-align: middle;\n",
       "    }\n",
       "\n",
       "    .dataframe tbody tr th {\n",
       "        vertical-align: top;\n",
       "    }\n",
       "\n",
       "    .dataframe thead th {\n",
       "        text-align: right;\n",
       "    }\n",
       "</style>\n",
       "<table border=\"1\" class=\"dataframe\">\n",
       "  <thead>\n",
       "    <tr style=\"text-align: right;\">\n",
       "      <th></th>\n",
       "      <th>관광지명</th>\n",
       "      <th>주소</th>\n",
       "      <th>평균 체류시간</th>\n",
       "      <th>stars</th>\n",
       "      <th>reviews</th>\n",
       "      <th>search_number</th>\n",
       "    </tr>\n",
       "  </thead>\n",
       "  <tbody>\n",
       "    <tr>\n",
       "      <th>0</th>\n",
       "      <td>168계단</td>\n",
       "      <td>부산광역시 동구</td>\n",
       "      <td>184</td>\n",
       "      <td>4.2</td>\n",
       "      <td>1948.0</td>\n",
       "      <td>253000</td>\n",
       "    </tr>\n",
       "    <tr>\n",
       "      <th>1</th>\n",
       "      <td>40계단문화관광테마거리</td>\n",
       "      <td>부산광역시 중구</td>\n",
       "      <td>96</td>\n",
       "      <td>3.8</td>\n",
       "      <td>1705.0</td>\n",
       "      <td>134000</td>\n",
       "    </tr>\n",
       "    <tr>\n",
       "      <th>2</th>\n",
       "      <td>BIFF광장</td>\n",
       "      <td>부산광역시 중구</td>\n",
       "      <td>82</td>\n",
       "      <td>4.1</td>\n",
       "      <td>17771.0</td>\n",
       "      <td>107000</td>\n",
       "    </tr>\n",
       "    <tr>\n",
       "      <th>3</th>\n",
       "      <td>KT&amp;G상상마당부산</td>\n",
       "      <td>부산광역시 부산진구</td>\n",
       "      <td>88</td>\n",
       "      <td>4.5</td>\n",
       "      <td>280.0</td>\n",
       "      <td>293000</td>\n",
       "    </tr>\n",
       "    <tr>\n",
       "      <th>4</th>\n",
       "      <td>SEALIFE부산아쿠아리움</td>\n",
       "      <td>부산광역시 해운대구</td>\n",
       "      <td>59</td>\n",
       "      <td>4.2</td>\n",
       "      <td>8067.0</td>\n",
       "      <td>76200</td>\n",
       "    </tr>\n",
       "    <tr>\n",
       "      <th>...</th>\n",
       "      <td>...</td>\n",
       "      <td>...</td>\n",
       "      <td>...</td>\n",
       "      <td>...</td>\n",
       "      <td>...</td>\n",
       "      <td>...</td>\n",
       "    </tr>\n",
       "    <tr>\n",
       "      <th>234</th>\n",
       "      <td>화명수목원</td>\n",
       "      <td>부산광역시 북구</td>\n",
       "      <td>68</td>\n",
       "      <td>4.4</td>\n",
       "      <td>1282.0</td>\n",
       "      <td>245000</td>\n",
       "    </tr>\n",
       "    <tr>\n",
       "      <th>235</th>\n",
       "      <td>화전공원</td>\n",
       "      <td>부산광역시 강서구</td>\n",
       "      <td>173</td>\n",
       "      <td>NaN</td>\n",
       "      <td>NaN</td>\n",
       "      <td>176000</td>\n",
       "    </tr>\n",
       "    <tr>\n",
       "      <th>236</th>\n",
       "      <td>황령산</td>\n",
       "      <td>부산광역시 부산진구</td>\n",
       "      <td>121</td>\n",
       "      <td>5.0</td>\n",
       "      <td>5.0</td>\n",
       "      <td>249000</td>\n",
       "    </tr>\n",
       "    <tr>\n",
       "      <th>237</th>\n",
       "      <td>황령산전망대</td>\n",
       "      <td>부산광역시 남구</td>\n",
       "      <td>38</td>\n",
       "      <td>4.6</td>\n",
       "      <td>3512.0</td>\n",
       "      <td>118000</td>\n",
       "    </tr>\n",
       "    <tr>\n",
       "      <th>238</th>\n",
       "      <td>흰여울문화마을</td>\n",
       "      <td>부산광역시 영도구</td>\n",
       "      <td>48</td>\n",
       "      <td>4.4</td>\n",
       "      <td>7094.0</td>\n",
       "      <td>160000</td>\n",
       "    </tr>\n",
       "  </tbody>\n",
       "</table>\n",
       "<p>239 rows × 6 columns</p>\n",
       "</div>"
      ],
      "text/plain": [
       "               관광지명          주소  평균 체류시간  stars  reviews  search_number\n",
       "0             168계단    부산광역시 동구      184    4.2   1948.0         253000\n",
       "1      40계단문화관광테마거리    부산광역시 중구       96    3.8   1705.0         134000\n",
       "2            BIFF광장    부산광역시 중구       82    4.1  17771.0         107000\n",
       "3        KT&G상상마당부산  부산광역시 부산진구       88    4.5    280.0         293000\n",
       "4    SEALIFE부산아쿠아리움  부산광역시 해운대구       59    4.2   8067.0          76200\n",
       "..              ...         ...      ...    ...      ...            ...\n",
       "234           화명수목원    부산광역시 북구       68    4.4   1282.0         245000\n",
       "235            화전공원   부산광역시 강서구      173    NaN      NaN         176000\n",
       "236             황령산  부산광역시 부산진구      121    5.0      5.0         249000\n",
       "237          황령산전망대    부산광역시 남구       38    4.6   3512.0         118000\n",
       "238         흰여울문화마을   부산광역시 영도구       48    4.4   7094.0         160000\n",
       "\n",
       "[239 rows x 6 columns]"
      ]
     },
     "execution_count": 43,
     "metadata": {},
     "output_type": "execute_result"
    }
   ],
   "source": [
    "basic_info"
   ]
  },
  {
   "cell_type": "markdown",
   "metadata": {},
   "source": [
    "==================================================================================================\n",
    "\n",
    "==================================================================================================\n",
    "\n",
    "=================================================================================================="
   ]
  },
  {
   "cell_type": "code",
   "execution_count": 34,
   "metadata": {},
   "outputs": [],
   "source": [
    "import pandas as pd\n",
    "import os"
   ]
  },
  {
   "cell_type": "code",
   "execution_count": 35,
   "metadata": {},
   "outputs": [],
   "source": [
    "# 파일이 있는 디렉토리 설정\n",
    "directory = \"./부산/대중교통\"\n",
    "\n",
    "# 모든 CSV 파일 목록 가져오기\n",
    "file_list = [file for file in os.listdir(directory) if file.endswith('.csv')]\n",
    "\n",
    "# 모든 CSV 파일을 담을 빈 DataFrame 생성\n",
    "combined_df = pd.DataFrame()\n",
    "\n",
    "# 각 CSV 파일을 순회하면서 데이터를 합치기\n",
    "for file in file_list:\n",
    "    file_path = os.path.join(directory, file)\n",
    "    \n",
    "    # 관광지 명 추출\n",
    "    landmark_name = file.split('_')[1]  # 파일명에서 '_'를 기준으로 분리하여 첫 번째 요소를 관광지 명으로 사용\n",
    "    landmark_name = landmark_name.replace('.csv', '')\n",
    "    \n",
    "    # CSV 파일을 DataFrame으로 읽기\n",
    "    df = pd.read_csv(file_path, encoding=\"cp949\")\n",
    "    \n",
    "    # 관광지 명 컬럼 추가\n",
    "    df['관광지명'] = landmark_name\n",
    "    \n",
    "    # 현재 파일의 데이터를 합치기\n",
    "    combined_df = pd.concat([combined_df, df], ignore_index=True)\n",
    "\n",
    "# 결과를 CSV 파일로 저장하기\n",
    "# combined_df.to_csv('combined_data.csv', index=False, encoding=\"utf-8\")\n",
    "\n",
    "# print(\"합쳐진 데이터를 combined_data.csv로 저장했습니다.\")"
   ]
  },
  {
   "cell_type": "code",
   "execution_count": 38,
   "metadata": {},
   "outputs": [],
   "source": [
    "total_column = []\n",
    "for i in range(len(combined_df)):\n",
    "    total = combined_df.iloc[i][6:-2].sum()\n",
    "    total_column.append(total)\n",
    "\n",
    "combined_df['total'] = total_column"
   ]
  },
  {
   "cell_type": "code",
   "execution_count": 51,
   "metadata": {},
   "outputs": [],
   "source": [
    "# 관광지명으로 그룹화하여 총 승객수를 구하고 새로운 컬럼으로 추가\n",
    "total_passengers_by_landmark = combined_df.groupby('관광지명')['total'].sum().reset_index()\n",
    "total_passengers_by_landmark.rename(columns={'total': '총 승객수'}, inplace=True)\n",
    "\n",
    "# 기존 데이터프레임에 총 승객수 컬럼 추가\n",
    "df = pd.merge(combined_df, total_passengers_by_landmark, on='관광지명', how='left')"
   ]
  },
  {
   "cell_type": "code",
   "execution_count": 55,
   "metadata": {},
   "outputs": [],
   "source": [
    "bus = df.groupby('관광지명')[['노선']].nunique().reset_index()"
   ]
  },
  {
   "cell_type": "code",
   "execution_count": 57,
   "metadata": {},
   "outputs": [],
   "source": [
    "new_df = df[['관광지명', '총 승객수']]\n",
    "new_df = new_df.drop_duplicates()"
   ]
  },
  {
   "cell_type": "code",
   "execution_count": 59,
   "metadata": {},
   "outputs": [],
   "source": [
    "new_df = pd.merge(new_df,bus,on='관광지명',how='inner')"
   ]
  },
  {
   "cell_type": "code",
   "execution_count": 61,
   "metadata": {},
   "outputs": [],
   "source": [
    "for i in range(len(new_df)):\n",
    "    if new_df.iloc[i]['관광지명'] in first.head(25)['관광지명'].tolist():\n",
    "        new_df.loc[i,'구분'] = '숨은 명소'\n",
    "    else:\n",
    "        new_df.loc[i,'구분'] = '일반 명소'"
   ]
  },
  {
   "cell_type": "code",
   "execution_count": null,
   "metadata": {},
   "outputs": [],
   "source": [
    "new_df"
   ]
  },
  {
   "cell_type": "code",
   "execution_count": 70,
   "metadata": {},
   "outputs": [],
   "source": [
    "# new_df.to_csv('./부산/bus_info.csv',encoding='utf-8',index=False)"
   ]
  },
  {
   "cell_type": "code",
   "execution_count": 71,
   "metadata": {},
   "outputs": [
    {
     "name": "stdout",
     "output_type": "stream",
     "text": [
      "숨은 명소 3.55\n",
      "명소 7.9\n"
     ]
    }
   ],
   "source": [
    "print('숨은 명소', new_df[new_df['구분']=='숨은 명소']['노선'].sum() / len(new_df[new_df['구분']=='숨은 명소']))\n",
    "print('명소', new_df[new_df['구분']=='일반 명소']['노선'].sum() / len(new_df[new_df['구분']=='일반 명소']))"
   ]
  },
  {
   "cell_type": "code",
   "execution_count": 73,
   "metadata": {},
   "outputs": [
    {
     "name": "stdout",
     "output_type": "stream",
     "text": [
      "숨은 명소 7365.0\n",
      "명소 42276.5\n"
     ]
    }
   ],
   "source": [
    "print('숨은 명소', new_df[new_df['구분']=='숨은 명소']['총 승객수'].sum() / len(new_df[new_df['구분']=='숨은 명소']))\n",
    "print('명소', new_df[new_df['구분']=='일반 명소']['총 승객수'].sum() / len(new_df[new_df['구분']=='일반 명소']))"
   ]
  },
  {
   "cell_type": "code",
   "execution_count": 77,
   "metadata": {},
   "outputs": [
    {
     "name": "stdout",
     "output_type": "stream",
     "text": [
      "총 승객수 p-value: 0.04121680028572161, 이분산 가정 만족\n",
      "노선 p-value: 0.06741296134971786, 등분산 가정 만족\n"
     ]
    }
   ],
   "source": [
    "from scipy import stats\n",
    "\n",
    "test_names = ['총 승객수','노선']\n",
    "\n",
    "p = new_df[new_df['구분'] == '일반 명소'][['총 승객수','노선']]\n",
    "up = new_df[new_df['구분'] == '숨은 명소'][['총 승객수','노선']]\n",
    "\n",
    "for test_name in test_names:\n",
    "    statistic,p_value = stats.levene(p[test_name], up[test_name])\n",
    "    if p_value > 0.05:\n",
    "        print(f\"{test_name} p-value: {p_value}, 등분산 가정 만족\")\n",
    "    else:\n",
    "        print(f\"{test_name} p-value: {p_value}, 이분산 가정 만족\")"
   ]
  },
  {
   "cell_type": "code",
   "execution_count": 78,
   "metadata": {},
   "outputs": [
    {
     "name": "stdout",
     "output_type": "stream",
     "text": [
      "총 승객수 0.026547892367400128 귀무가설 기각\n"
     ]
    }
   ],
   "source": [
    "for test_name in test_names[0:1]:\n",
    "    t_statistic,pvalue = stats.ttest_ind(\n",
    "        a = p[test_name],\n",
    "        b = up[test_name],\n",
    "        alternative = 'two-sided',  # 양측검정, 기본적\n",
    "        equal_var = False\n",
    ")\n",
    "    if pvalue<0.05:\n",
    "        print(test_name,pvalue,'귀무가설 기각')\n",
    "    else:\n",
    "        print(test_name,pvalue,'귀무가설 기각 불가')\n",
    "    break"
   ]
  },
  {
   "cell_type": "code",
   "execution_count": 80,
   "metadata": {},
   "outputs": [
    {
     "name": "stdout",
     "output_type": "stream",
     "text": [
      "노선 0.03078096342153267 귀무가설 기각\n"
     ]
    }
   ],
   "source": [
    "for test_name in test_names[1:]:\n",
    "    t_statistic,pvalue = stats.ttest_ind(\n",
    "        a = p[test_name],\n",
    "        b = up[test_name],\n",
    "        alternative = 'two-sided',  # 양측검정, 기본적\n",
    "        equal_var = True\n",
    ")\n",
    "    if pvalue<0.05:\n",
    "        print(test_name,pvalue,'귀무가설 기각')\n",
    "    else:\n",
    "        print(test_name,pvalue,'귀무가설 기각 불가')"
   ]
  },
  {
   "cell_type": "code",
   "execution_count": null,
   "metadata": {},
   "outputs": [],
   "source": []
  },
  {
   "cell_type": "code",
   "execution_count": 2,
   "metadata": {},
   "outputs": [],
   "source": [
    "import pandas as pd\n",
    "\n",
    "basic_info = pd.read_csv('./부산/basic_info.csv')\n",
    "navi_info = pd.read_csv('./부산/navi_info.csv')\n",
    "visit_info = pd.read_csv('./부산/visit_info.csv')\n",
    "location_info = pd.read_csv('./부산/location_info.csv')\n",
    "bus_info = pd.read_csv('./부산/bus_info.csv')"
   ]
  },
  {
   "cell_type": "code",
   "execution_count": 3,
   "metadata": {},
   "outputs": [
    {
     "data": {
      "text/html": [
       "<div>\n",
       "<style scoped>\n",
       "    .dataframe tbody tr th:only-of-type {\n",
       "        vertical-align: middle;\n",
       "    }\n",
       "\n",
       "    .dataframe tbody tr th {\n",
       "        vertical-align: top;\n",
       "    }\n",
       "\n",
       "    .dataframe thead th {\n",
       "        text-align: right;\n",
       "    }\n",
       "</style>\n",
       "<table border=\"1\" class=\"dataframe\">\n",
       "  <thead>\n",
       "    <tr style=\"text-align: right;\">\n",
       "      <th></th>\n",
       "      <th>관광지명</th>\n",
       "      <th>주소</th>\n",
       "      <th>평균 체류시간</th>\n",
       "      <th>stars</th>\n",
       "      <th>reviews</th>\n",
       "      <th>search_number</th>\n",
       "      <th>광역지자체별 거주 방문자 비율</th>\n",
       "      <th>catch</th>\n",
       "      <th>description</th>\n",
       "    </tr>\n",
       "  </thead>\n",
       "  <tbody>\n",
       "    <tr>\n",
       "      <th>0</th>\n",
       "      <td>명지동근린공원</td>\n",
       "      <td>부산광역시 강서구</td>\n",
       "      <td>164</td>\n",
       "      <td>4.1</td>\n",
       "      <td>8.0</td>\n",
       "      <td>23200</td>\n",
       "      <td>62.5</td>\n",
       "      <td>도심 속 공원</td>\n",
       "      <td>명지동 근린공원은 명지오션시티에 있는 도심 공원이다. 인근에는 주차장, 축구장, 잔...</td>\n",
       "    </tr>\n",
       "    <tr>\n",
       "      <th>1</th>\n",
       "      <td>칠암항</td>\n",
       "      <td>부산광역시 기장군</td>\n",
       "      <td>73</td>\n",
       "      <td>4.0</td>\n",
       "      <td>2.0</td>\n",
       "      <td>18000</td>\n",
       "      <td>53.6</td>\n",
       "      <td>베이징 올림픽 금메달 신화를 기념하다</td>\n",
       "      <td>칠암항은 방파제가 있는 항으로 야구 방망이와 글러브, 야구공을 형상화 한 야구 등대...</td>\n",
       "    </tr>\n",
       "    <tr>\n",
       "      <th>2</th>\n",
       "      <td>학리항</td>\n",
       "      <td>부산광역시 기장군</td>\n",
       "      <td>88</td>\n",
       "      <td>4.4</td>\n",
       "      <td>37.0</td>\n",
       "      <td>9160</td>\n",
       "      <td>56.6</td>\n",
       "      <td>NaN</td>\n",
       "      <td>부산광역시 기장군 일광면 학리에 있는 어항으로 기장 해안가의 오래된 포구이다. 멸치...</td>\n",
       "    </tr>\n",
       "    <tr>\n",
       "      <th>3</th>\n",
       "      <td>아미르공원</td>\n",
       "      <td>부산광역시 영도구</td>\n",
       "      <td>154</td>\n",
       "      <td>4.0</td>\n",
       "      <td>3.0</td>\n",
       "      <td>63000</td>\n",
       "      <td>53.0</td>\n",
       "      <td>푸른 하늘과 에메랄드빛 바다 사이로 초록의 싱그러움이 반짝이는 아름다운 공원</td>\n",
       "      <td>아미르 공원은 1990년 말 부산항 북항 개발과정의 준설토를 매립하여 조성된 동삼혁...</td>\n",
       "    </tr>\n",
       "    <tr>\n",
       "      <th>4</th>\n",
       "      <td>부산복천동고분군</td>\n",
       "      <td>부산광역시 동래구</td>\n",
       "      <td>183</td>\n",
       "      <td>4.0</td>\n",
       "      <td>1.0</td>\n",
       "      <td>20100</td>\n",
       "      <td>74.3</td>\n",
       "      <td>가야 시대를 만날 수 있는, 부산 복천동 고분군</td>\n",
       "      <td>부산 복천동 일대의 구릉 위에 있는 가야 때 무덤들이다. 여러 차례에 걸친 발굴조사...</td>\n",
       "    </tr>\n",
       "    <tr>\n",
       "      <th>...</th>\n",
       "      <td>...</td>\n",
       "      <td>...</td>\n",
       "      <td>...</td>\n",
       "      <td>...</td>\n",
       "      <td>...</td>\n",
       "      <td>...</td>\n",
       "      <td>...</td>\n",
       "      <td>...</td>\n",
       "      <td>...</td>\n",
       "    </tr>\n",
       "    <tr>\n",
       "      <th>235</th>\n",
       "      <td>광복로문화패션거리</td>\n",
       "      <td>부산광역시 중구</td>\n",
       "      <td>75</td>\n",
       "      <td>NaN</td>\n",
       "      <td>NaN</td>\n",
       "      <td>18900</td>\n",
       "      <td>69.8</td>\n",
       "      <td>젊음의 열기가 느껴지는 거리</td>\n",
       "      <td>광복로문화패션거리는 과거 하천이었던 곳을 복개하여 도로로 사용하고 있는 곳이며, 도...</td>\n",
       "    </tr>\n",
       "    <tr>\n",
       "      <th>236</th>\n",
       "      <td>송정역</td>\n",
       "      <td>부산광역시 해운대구</td>\n",
       "      <td>84</td>\n",
       "      <td>NaN</td>\n",
       "      <td>NaN</td>\n",
       "      <td>268000</td>\n",
       "      <td>47.7</td>\n",
       "      <td>바다가 보이는 송정동의 기차역</td>\n",
       "      <td>부산 해운대구 송정동에 있는 기차역이다. 동해안의 해산물과 자원 수송을 목적으로 부...</td>\n",
       "    </tr>\n",
       "    <tr>\n",
       "      <th>237</th>\n",
       "      <td>부산자갈치양곱창골목</td>\n",
       "      <td>부산광역시 중구</td>\n",
       "      <td>67</td>\n",
       "      <td>NaN</td>\n",
       "      <td>NaN</td>\n",
       "      <td>12000</td>\n",
       "      <td>70.0</td>\n",
       "      <td>담백한 양곱창이 맛있는 곱창 골목</td>\n",
       "      <td>부산 여행의 양대산맥 해운대와 남포동. 먹거리 여행의 메인은 남포동이고, 그중에서도...</td>\n",
       "    </tr>\n",
       "    <tr>\n",
       "      <th>238</th>\n",
       "      <td>화전공원</td>\n",
       "      <td>부산광역시 강서구</td>\n",
       "      <td>173</td>\n",
       "      <td>NaN</td>\n",
       "      <td>NaN</td>\n",
       "      <td>176000</td>\n",
       "      <td>55.1</td>\n",
       "      <td>피로를 잠시 내려놓을 수 있는 공원</td>\n",
       "      <td>부산 강서구 화전동에 있는 공원이다. 1995년 부산직할시가 부산광역시로 승격되면서...</td>\n",
       "    </tr>\n",
       "    <tr>\n",
       "      <th>239</th>\n",
       "      <td>감천사</td>\n",
       "      <td>부산광역시 연제구</td>\n",
       "      <td>262</td>\n",
       "      <td>NaN</td>\n",
       "      <td>NaN</td>\n",
       "      <td>941000</td>\n",
       "      <td>72.3</td>\n",
       "      <td>가뭄에도 물이 마르지 않는 샘이 있는 사찰</td>\n",
       "      <td>* 비구니 스님의 수행도량, 감천사 *극심한 가뭄에도 물이 마르지 않고 지하 암반에...</td>\n",
       "    </tr>\n",
       "  </tbody>\n",
       "</table>\n",
       "<p>240 rows × 9 columns</p>\n",
       "</div>"
      ],
      "text/plain": [
       "           관광지명          주소  평균 체류시간  stars  reviews  search_number  \\\n",
       "0       명지동근린공원   부산광역시 강서구      164    4.1      8.0          23200   \n",
       "1           칠암항   부산광역시 기장군       73    4.0      2.0          18000   \n",
       "2           학리항   부산광역시 기장군       88    4.4     37.0           9160   \n",
       "3         아미르공원   부산광역시 영도구      154    4.0      3.0          63000   \n",
       "4      부산복천동고분군   부산광역시 동래구      183    4.0      1.0          20100   \n",
       "..          ...         ...      ...    ...      ...            ...   \n",
       "235   광복로문화패션거리    부산광역시 중구       75    NaN      NaN          18900   \n",
       "236         송정역  부산광역시 해운대구       84    NaN      NaN         268000   \n",
       "237  부산자갈치양곱창골목    부산광역시 중구       67    NaN      NaN          12000   \n",
       "238        화전공원   부산광역시 강서구      173    NaN      NaN         176000   \n",
       "239         감천사   부산광역시 연제구      262    NaN      NaN         941000   \n",
       "\n",
       "     광역지자체별 거주 방문자 비율                                       catch  \\\n",
       "0                62.5                                     도심 속 공원   \n",
       "1                53.6                        베이징 올림픽 금메달 신화를 기념하다   \n",
       "2                56.6                                         NaN   \n",
       "3                53.0  푸른 하늘과 에메랄드빛 바다 사이로 초록의 싱그러움이 반짝이는 아름다운 공원   \n",
       "4                74.3                  가야 시대를 만날 수 있는, 부산 복천동 고분군   \n",
       "..                ...                                         ...   \n",
       "235              69.8                             젊음의 열기가 느껴지는 거리   \n",
       "236              47.7                            바다가 보이는 송정동의 기차역   \n",
       "237              70.0                          담백한 양곱창이 맛있는 곱창 골목   \n",
       "238              55.1                         피로를 잠시 내려놓을 수 있는 공원   \n",
       "239              72.3                     가뭄에도 물이 마르지 않는 샘이 있는 사찰   \n",
       "\n",
       "                                           description  \n",
       "0    명지동 근린공원은 명지오션시티에 있는 도심 공원이다. 인근에는 주차장, 축구장, 잔...  \n",
       "1    칠암항은 방파제가 있는 항으로 야구 방망이와 글러브, 야구공을 형상화 한 야구 등대...  \n",
       "2    부산광역시 기장군 일광면 학리에 있는 어항으로 기장 해안가의 오래된 포구이다. 멸치...  \n",
       "3    아미르 공원은 1990년 말 부산항 북항 개발과정의 준설토를 매립하여 조성된 동삼혁...  \n",
       "4    부산 복천동 일대의 구릉 위에 있는 가야 때 무덤들이다. 여러 차례에 걸친 발굴조사...  \n",
       "..                                                 ...  \n",
       "235  광복로문화패션거리는 과거 하천이었던 곳을 복개하여 도로로 사용하고 있는 곳이며, 도...  \n",
       "236  부산 해운대구 송정동에 있는 기차역이다. 동해안의 해산물과 자원 수송을 목적으로 부...  \n",
       "237  부산 여행의 양대산맥 해운대와 남포동. 먹거리 여행의 메인은 남포동이고, 그중에서도...  \n",
       "238  부산 강서구 화전동에 있는 공원이다. 1995년 부산직할시가 부산광역시로 승격되면서...  \n",
       "239  * 비구니 스님의 수행도량, 감천사 *극심한 가뭄에도 물이 마르지 않고 지하 암반에...  \n",
       "\n",
       "[240 rows x 9 columns]"
      ]
     },
     "execution_count": 3,
     "metadata": {},
     "output_type": "execute_result"
    }
   ],
   "source": [
    "basic_info"
   ]
  },
  {
   "cell_type": "code",
   "execution_count": 4,
   "metadata": {},
   "outputs": [],
   "source": [
    "import requests\n",
    "from bs4 import BeautifulSoup\n",
    "import time"
   ]
  },
  {
   "cell_type": "code",
   "execution_count": 110,
   "metadata": {},
   "outputs": [
    {
     "name": "stdout",
     "output_type": "stream",
     "text": [
      "1\n",
      "2\n",
      "3\n",
      "4\n",
      "5\n",
      "6\n",
      "7\n",
      "8\n",
      "9\n"
     ]
    }
   ],
   "source": [
    "url = 'https://korean.visitkorea.or.kr/call'\n",
    "params = {\n",
    "    'cmd': 'TOUR_CONTENT_LIST_VIEW',\n",
    "    'month': 'All',\n",
    "    'areaCode': '6',\n",
    "    'sigunguCode': 'All',\n",
    "    'tagId': 'All',\n",
    "    'sortkind': '1',\n",
    "    'locationx': '0',\n",
    "    'locationy': '0',\n",
    "    'page': '1',\n",
    "    'cnt': '100',\n",
    "    'typeList': 'Tour',\n",
    "    'stampId': '1589345b-b030-11ea-b8bd-020027310001'\n",
    "}\n",
    "\n",
    "all_data = []  # 모든 페이지의 데이터를 저장할 리스트\n",
    "\n",
    "while True:\n",
    "    response = requests.get(url, params=params)\n",
    "    data = response.json()\n",
    "\n",
    "    # 받은 데이터에서 필요한 정보 추출\n",
    "    result_list = data.get('body', {}).get('result', [])\n",
    "    for item in result_list:\n",
    "        img_path = item.get('imgPath', '')\n",
    "        img_url = f'https://cdn.visitkorea.or.kr/img/call?cmd=VIEW&id={img_path}'\n",
    "        \n",
    "        extracted_data = {\n",
    "            '관광지명': item.get('TITLE', ''),\n",
    "            'catch': item.get('catchPhrase', ''),\n",
    "            'addr1': item.get('addr1', ''),\n",
    "            'img': img_url,\n",
    "            'cotid' : item.get('cotId', ''),\n",
    "            'areaCode' : item.get('areaCode', ''),\n",
    "            'cat1' : item.get('cat1', ''),\n",
    "            'cat2' : item.get('cat2', '')\n",
    "        }\n",
    "        \n",
    "        cotid = extracted_data['cotid']\n",
    "        cat1 = extracted_data['cat1']\n",
    "        cat2 = extracted_data['cat2']\n",
    "        areaCode = extracted_data['areaCode']\n",
    "        \n",
    "        new_url = f'https://korean.visitkorea.or.kr/detail/ms_detail.do?cotid={cotid}&big_category={cat1}&mid_category={cat2}&big_area={areaCode}'\n",
    "        response = requests.get(new_url)\n",
    "        html = response.text\n",
    "        soup = BeautifulSoup(html,'html.parser')\n",
    "        description = soup.find('div',class_='blind').text\n",
    "        description = description.replace('\\n','').replace('\\t','')\n",
    "        extracted_data['description'] = description\n",
    "\n",
    "        all_data.append(extracted_data)\n",
    "    \n",
    "    print(params['page'])\n",
    "    params['page'] = str(int(params['page']) + 1)\n",
    "    \n",
    "    if '아이리' in [data['관광지명'] for data in all_data]:\n",
    "        break\n",
    "\n",
    "    # 만약 더 이상 페이지가 없으면 반복문 종료\n",
    "    if not result_list or len(all_data) == 1351:\n",
    "        break"
   ]
  },
  {
   "cell_type": "code",
   "execution_count": 111,
   "metadata": {},
   "outputs": [],
   "source": [
    "import pandas as pd\n",
    "\n",
    "df = pd.DataFrame(all_data)"
   ]
  },
  {
   "cell_type": "code",
   "execution_count": 13,
   "metadata": {},
   "outputs": [
    {
     "name": "stderr",
     "output_type": "stream",
     "text": [
      "100%|██████████| 1351/1351 [00:00<00:00, 450044.06it/s]\n"
     ]
    }
   ],
   "source": [
    "from tqdm import tqdm\n",
    "import re\n",
    "\n",
    "tqdm.pandas()\n",
    "df['관광지명'] = df['관광지명'].progress_apply(lambda x: x.replace(' ',''))\n",
    "\n",
    "pattern = re.compile(r'\\([^)]*\\)')\n",
    "df['관광지명'] = df['관광지명'].apply(lambda x: re.sub(pattern, '', x))"
   ]
  },
  {
   "cell_type": "code",
   "execution_count": 83,
   "metadata": {},
   "outputs": [],
   "source": [
    "b = pd.read_csv('./data/busan.csv')"
   ]
  },
  {
   "cell_type": "code",
   "execution_count": 84,
   "metadata": {},
   "outputs": [],
   "source": [
    "bb = pd.read_csv('./부산/basic_info.csv')"
   ]
  },
  {
   "cell_type": "code",
   "execution_count": 85,
   "metadata": {},
   "outputs": [],
   "source": [
    "bb = bb.drop_duplicates('관광지명')"
   ]
  },
  {
   "cell_type": "code",
   "execution_count": 86,
   "metadata": {},
   "outputs": [],
   "source": [
    "b = pd.merge(b,bb[['관광지명','catch','description']],on='관광지명',how='left')"
   ]
  },
  {
   "cell_type": "code",
   "execution_count": 87,
   "metadata": {},
   "outputs": [],
   "source": [
    "b = pd.merge(b,df[['관광지명','img']],on='관광지명',how='left')"
   ]
  },
  {
   "cell_type": "code",
   "execution_count": null,
   "metadata": {},
   "outputs": [],
   "source": [
    "b.isnull().sum()"
   ]
  },
  {
   "cell_type": "code",
   "execution_count": null,
   "metadata": {},
   "outputs": [],
   "source": [
    "b.loc[7,'img'] = df.iloc[1044]['img']\n",
    "b.loc[10,'img'] = df.iloc[129]['img']\n",
    "b.loc[39,'img'] = df.iloc[1012]['img']\n",
    "b.loc[62,'img'] = df.iloc[427]['img']\n",
    "b.loc[131,'img'] = df.iloc[797]['img']\n",
    "b.loc[196,'img'] = df.iloc[981]['img']\n",
    "b.loc[200,'img'] = df.iloc[1156]['img']\n",
    "b.loc[204,'img'] = df.iloc[214]['img']\n",
    "b.loc[229,'img'] = df.iloc[1162]['img']"
   ]
  },
  {
   "cell_type": "code",
   "execution_count": 115,
   "metadata": {},
   "outputs": [],
   "source": [
    "b.loc[193,['catch','description','img']] = [df.iloc[866]['catch'],df.iloc[866]['description'],df.iloc[866]['img']]"
   ]
  },
  {
   "cell_type": "code",
   "execution_count": 98,
   "metadata": {},
   "outputs": [],
   "source": [
    "index_5_description = '만덕고개길 아래로 터널이 2개나 뚫리고 지하철까지 놓이면서 이제는 굳이 오를 필요가 없어진 길. 하지만 요즘 만덕고개길이 다시 부활하고 있다. 발아래로 펼쳐지는 멋진 야경과 구석구석 숨어 있는 다양한 볼거리 덕분에. 가파른 절벽 위에 세워 마치 공중에 붕 떠 있는 듯 아찔하다. 데크 위에 서서 산 아래를 굽어보니 부산이 한눈에 들어온다. 멀리 센텀시티가 보이고 그 뒤로 푸른 바다가 넘실댄다. 왼쪽으로 동래구, 오른쪽으로 연제구와 부산진구가 눈에 들어온다. 멀리 장산과 배산, 황령산도 보인다. 땀을 흘리며 한 시간 남짓 고갯길을 걸어온 보람이 비로소 느껴진다.'\n",
    "index_5_catch = '숲길 산책에 야경까지'\n",
    "index_5_img = 'https://www.visitbusan.net/uploadImgs/files/cntnts/20210917160703645'\n",
    "\n",
    "index_177_description = '향기로운 라벤더 로즈마리 재배 판매하는 부산라벤더팜. 보라빛 물결을 바라보면 마음이 편안해집니다. 가을시즌에는 밤줍기를 진행합니다.'\n",
    "index_177_catch = '부산광역시 품질인증 문화체험장'\n",
    "index_177_img = 'https://www.visitbusan.net/uploadImgs/files/cntnts/20200901180951954'\n"
   ]
  },
  {
   "cell_type": "code",
   "execution_count": 99,
   "metadata": {},
   "outputs": [],
   "source": [
    "b.loc[5,['catch','description','img']] = [index_5_catch,index_5_description,index_5_img]\n",
    "b.loc[177,['catch','description','img']] = [index_177_catch,index_177_description,index_177_img]"
   ]
  },
  {
   "cell_type": "code",
   "execution_count": 125,
   "metadata": {},
   "outputs": [],
   "source": [
    "b = b.drop(['주소_x'],axis=1).drop_duplicates('관광지명').rename(columns={'주소_y' : '주소'})"
   ]
  },
  {
   "cell_type": "code",
   "execution_count": 126,
   "metadata": {},
   "outputs": [],
   "source": [
    "b.to_csv('./data/busan.csv',encoding='utf-8',index=False)"
   ]
  },
  {
   "cell_type": "code",
   "execution_count": null,
   "metadata": {},
   "outputs": [],
   "source": []
  },
  {
   "cell_type": "code",
   "execution_count": null,
   "metadata": {},
   "outputs": [],
   "source": []
  },
  {
   "cell_type": "code",
   "execution_count": null,
   "metadata": {},
   "outputs": [],
   "source": [
    "from PIL import Image\n",
    "import requests\n",
    "from io import BytesIO\n",
    "from IPython.display import display  # Jupyter Notebook에서 이미지를 표시하기 위한 모듈\n",
    "\n",
    "url = 'https://cdn.visitkorea.or.kr/img/call?cmd=VIEW&id=2d81aa7e-8111-4b5f-a28a-2e3ebfd3db22'\n",
    "\n",
    "response = requests.get(url)\n",
    "image = Image.open(BytesIO(response.content))\n",
    "\n",
    "display(image)"
   ]
  },
  {
   "cell_type": "code",
   "execution_count": null,
   "metadata": {},
   "outputs": [],
   "source": []
  }
 ],
 "metadata": {
  "kernelspec": {
   "display_name": "mulcam_3_9",
   "language": "python",
   "name": "mulcam_3_9"
  },
  "language_info": {
   "codemirror_mode": {
    "name": "ipython",
    "version": 3
   },
   "file_extension": ".py",
   "mimetype": "text/x-python",
   "name": "python",
   "nbconvert_exporter": "python",
   "pygments_lexer": "ipython3",
   "version": "3.9.18"
  }
 },
 "nbformat": 4,
 "nbformat_minor": 2
}
