{
 "cells": [
  {
   "cell_type": "code",
   "execution_count": 106,
   "metadata": {},
   "outputs": [],
   "source": [
    "import os\n",
    "import pandas as pd"
   ]
  },
  {
   "cell_type": "code",
   "execution_count": null,
   "metadata": {},
   "outputs": [],
   "source": [
    "# 파일명 변경\n",
    "\n",
    "folder_names = os.listdir('./광주/')\n",
    "\n",
    "for folder_name in folder_names:\n",
    "    file_names = os.listdir(f'./광주/{folder_name}')\n",
    "    for file_name in file_names:\n",
    "        split_file_name = file_name.replace('.csv','').split('_')\n",
    "        os.rename(f'./광주/{folder_name}/{file_name}',f'./광주/{folder_name}/{folder_name}_{split_file_name[1]}.csv')"
   ]
  },
  {
   "cell_type": "markdown",
   "metadata": {},
   "source": [
    "### 데이터프레임 합치기\n",
    "### 관광지 기본정보"
   ]
  },
  {
   "cell_type": "code",
   "execution_count": null,
   "metadata": {},
   "outputs": [],
   "source": [
    "basic_info = pd.DataFrame()\n",
    "\n",
    "for folder_name in folder_names:\n",
    "    df = pd.read_csv(f'./광주/{folder_name}/{folder_name}_관광지 기본정보.csv',encoding='ANSI')\n",
    "    basic_info = pd.concat([basic_info,df],ignore_index=True)"
   ]
  },
  {
   "cell_type": "code",
   "execution_count": null,
   "metadata": {},
   "outputs": [],
   "source": [
    "basic_info"
   ]
  },
  {
   "cell_type": "code",
   "execution_count": null,
   "metadata": {},
   "outputs": [],
   "source": [
    "basic_info.to_csv('./광주/basic_info.csv',encoding='utf-8',index=False)"
   ]
  },
  {
   "cell_type": "markdown",
   "metadata": {},
   "source": [
    "### 데이터프레임 합치기\n",
    "\n",
    "### 내비게이션"
   ]
  },
  {
   "cell_type": "code",
   "execution_count": null,
   "metadata": {},
   "outputs": [],
   "source": [
    "navi_info = pd.DataFrame()\n",
    "\n",
    "for folder_name in folder_names:\n",
    "    df = pd.read_csv(f'./광주/{folder_name}/{folder_name}_내비게이션 목적지 검색량 추이.csv',encoding='ANSI',index_col=0)\n",
    "    df = df.rename(columns={df.columns[0] : folder_name}).transpose()\n",
    "    df['관광지명'] = folder_name\n",
    "    navi_info = pd.concat([navi_info,df])"
   ]
  },
  {
   "cell_type": "code",
   "execution_count": null,
   "metadata": {},
   "outputs": [],
   "source": [
    "order = [202401,202302, 202303, 202304,202305, 202306, 202307, 202308,202309, 202310, 202311, 202312, '관광지명']\n",
    "navi_info = navi_info[order]"
   ]
  },
  {
   "cell_type": "code",
   "execution_count": 134,
   "metadata": {},
   "outputs": [],
   "source": [
    "order = [202301,202302, 202303, 202304,202305, 202306, 202307, 202308,202309, 202310, 202311, 202312, '관광지명']\n",
    "navi_info.columns = order"
   ]
  },
  {
   "cell_type": "code",
   "execution_count": 136,
   "metadata": {},
   "outputs": [],
   "source": [
    "order = ['관광지명',202301,202302, 202303, 202304,202305, 202306, 202307, 202308,202309, 202310, 202311, 202312]\n",
    "navi_info = navi_info[order]"
   ]
  },
  {
   "cell_type": "code",
   "execution_count": 138,
   "metadata": {},
   "outputs": [],
   "source": [
    "navi_info.to_csv('./광주/navi_info.csv',encoding='utf-8',index=False)"
   ]
  },
  {
   "cell_type": "markdown",
   "metadata": {},
   "source": [
    "### 데이터프레임 합치기\n",
    "### 방문자 거주지별 분포"
   ]
  },
  {
   "cell_type": "code",
   "execution_count": null,
   "metadata": {},
   "outputs": [],
   "source": [
    "order = ['관광지명','광역지자체명', '기초지자체명', '광역지자체별 거주 방문자 비율', '기초지자체별 거주 방문자 비율']\n",
    "\n",
    "visit_info = pd.DataFrame()\n",
    "\n",
    "for folder_name in folder_names:\n",
    "    df = pd.read_csv(f'./광주/{folder_name}/{folder_name}_방문자 거주지별 분포.csv',encoding='ANSI')\n",
    "    df['관광지명'] = folder_name\n",
    "    df = df[order]\n",
    "    \n",
    "    visit_info = pd.concat([visit_info,df],ignore_index=True)"
   ]
  },
  {
   "cell_type": "code",
   "execution_count": null,
   "metadata": {},
   "outputs": [],
   "source": [
    "visit_info.to_csv('./광주/visit_info.csv',encoding='utf-8',index=False)"
   ]
  },
  {
   "cell_type": "markdown",
   "metadata": {},
   "source": [
    "### 데이터프레임 합치기\n",
    "### 성별"
   ]
  },
  {
   "cell_type": "code",
   "execution_count": null,
   "metadata": {},
   "outputs": [],
   "source": [
    "order = ['관광지명','연령대', '남성방문 비율', '여성방문 비율']\n",
    "\n",
    "gender_info = pd.DataFrame()\n",
    "\n",
    "for folder_name in folder_names:\n",
    "    df = pd.read_csv(f'./광주/{folder_name}/{folder_name}_성·연령별 방문자.csv',encoding='ANSI')\n",
    "    df['관광지명'] = folder_name\n",
    "    df = df[order]\n",
    "    gender_info = pd.concat([gender_info,df],ignore_index=True)"
   ]
  },
  {
   "cell_type": "code",
   "execution_count": null,
   "metadata": {},
   "outputs": [
    {
     "data": {
      "text/html": [
       "<div>\n",
       "<style scoped>\n",
       "    .dataframe tbody tr th:only-of-type {\n",
       "        vertical-align: middle;\n",
       "    }\n",
       "\n",
       "    .dataframe tbody tr th {\n",
       "        vertical-align: top;\n",
       "    }\n",
       "\n",
       "    .dataframe thead th {\n",
       "        text-align: right;\n",
       "    }\n",
       "</style>\n",
       "<table border=\"1\" class=\"dataframe\">\n",
       "  <thead>\n",
       "    <tr style=\"text-align: right;\">\n",
       "      <th></th>\n",
       "      <th>관광지명</th>\n",
       "      <th>연령대</th>\n",
       "      <th>남성방문 비율</th>\n",
       "      <th>여성방문 비율</th>\n",
       "    </tr>\n",
       "  </thead>\n",
       "  <tbody>\n",
       "    <tr>\n",
       "      <th>0</th>\n",
       "      <td>1913송정역시장</td>\n",
       "      <td>70세 이상</td>\n",
       "      <td>4.3</td>\n",
       "      <td>3.0</td>\n",
       "    </tr>\n",
       "    <tr>\n",
       "      <th>1</th>\n",
       "      <td>1913송정역시장</td>\n",
       "      <td>60~69세</td>\n",
       "      <td>8.8</td>\n",
       "      <td>5.4</td>\n",
       "    </tr>\n",
       "    <tr>\n",
       "      <th>2</th>\n",
       "      <td>1913송정역시장</td>\n",
       "      <td>50~59세</td>\n",
       "      <td>12.5</td>\n",
       "      <td>8.5</td>\n",
       "    </tr>\n",
       "    <tr>\n",
       "      <th>3</th>\n",
       "      <td>1913송정역시장</td>\n",
       "      <td>40~49세</td>\n",
       "      <td>9.8</td>\n",
       "      <td>5.9</td>\n",
       "    </tr>\n",
       "    <tr>\n",
       "      <th>4</th>\n",
       "      <td>1913송정역시장</td>\n",
       "      <td>30~39세</td>\n",
       "      <td>9.9</td>\n",
       "      <td>7.2</td>\n",
       "    </tr>\n",
       "    <tr>\n",
       "      <th>...</th>\n",
       "      <td>...</td>\n",
       "      <td>...</td>\n",
       "      <td>...</td>\n",
       "      <td>...</td>\n",
       "    </tr>\n",
       "    <tr>\n",
       "      <th>387</th>\n",
       "      <td>환벽당</td>\n",
       "      <td>40~49세</td>\n",
       "      <td>7.6</td>\n",
       "      <td>7.0</td>\n",
       "    </tr>\n",
       "    <tr>\n",
       "      <th>388</th>\n",
       "      <td>환벽당</td>\n",
       "      <td>30~39세</td>\n",
       "      <td>4.2</td>\n",
       "      <td>4.9</td>\n",
       "    </tr>\n",
       "    <tr>\n",
       "      <th>389</th>\n",
       "      <td>환벽당</td>\n",
       "      <td>20~29세</td>\n",
       "      <td>4.7</td>\n",
       "      <td>5.2</td>\n",
       "    </tr>\n",
       "    <tr>\n",
       "      <th>390</th>\n",
       "      <td>환벽당</td>\n",
       "      <td>10~19세</td>\n",
       "      <td>1.2</td>\n",
       "      <td>1.1</td>\n",
       "    </tr>\n",
       "    <tr>\n",
       "      <th>391</th>\n",
       "      <td>환벽당</td>\n",
       "      <td>0~9세</td>\n",
       "      <td>0.3</td>\n",
       "      <td>0.6</td>\n",
       "    </tr>\n",
       "  </tbody>\n",
       "</table>\n",
       "<p>392 rows × 4 columns</p>\n",
       "</div>"
      ],
      "text/plain": [
       "          관광지명     연령대  남성방문 비율  여성방문 비율\n",
       "0    1913송정역시장  70세 이상      4.3      3.0\n",
       "1    1913송정역시장  60~69세      8.8      5.4\n",
       "2    1913송정역시장  50~59세     12.5      8.5\n",
       "3    1913송정역시장  40~49세      9.8      5.9\n",
       "4    1913송정역시장  30~39세      9.9      7.2\n",
       "..         ...     ...      ...      ...\n",
       "387        환벽당  40~49세      7.6      7.0\n",
       "388        환벽당  30~39세      4.2      4.9\n",
       "389        환벽당  20~29세      4.7      5.2\n",
       "390        환벽당  10~19세      1.2      1.1\n",
       "391        환벽당    0~9세      0.3      0.6\n",
       "\n",
       "[392 rows x 4 columns]"
      ]
     },
     "execution_count": 33,
     "metadata": {},
     "output_type": "execute_result"
    }
   ],
   "source": [
    "gender_info"
   ]
  },
  {
   "cell_type": "code",
   "execution_count": null,
   "metadata": {},
   "outputs": [],
   "source": [
    "gender_info.to_csv('./광주/gender_info.csv',encoding='utf-8',index=False)"
   ]
  },
  {
   "cell_type": "markdown",
   "metadata": {},
   "source": [
    "### 데이터 가져오기\n",
    "### 위치정보"
   ]
  },
  {
   "cell_type": "code",
   "execution_count": null,
   "metadata": {},
   "outputs": [],
   "source": [
    "import requests\n",
    "from bs4 import BeautifulSoup\n",
    "import time"
   ]
  },
  {
   "cell_type": "code",
   "execution_count": null,
   "metadata": {},
   "outputs": [],
   "source": [
    "url = 'https://datalab.visitkorea.or.kr/visualize/getTempleteData.do'\n",
    "\n",
    "params = {\n",
    "    \"SIDO_CD\": 29,\n",
    "    \"SGG_CD\": \"\",\n",
    "    \"BASE_YM1\": 2010,\n",
    "    \"BASE_YM2\": 2022,\n",
    "    \"CONT_NM\": \"\",\n",
    "    \"KTO_CATE_LCLS_CD\": \"\",\n",
    "    \"KTO_CATE_MCLS_CD\": \"\",\n",
    "    \"firstIndex\": float('nan'),\n",
    "    \"pageIndex\": 1,\n",
    "    \"recordCountPerPage\": 10,\n",
    "    \"orderSelect\": \"\",\n",
    "    \"orderValue\": \"asc\",\n",
    "    \"contentList\": \"전체\",\n",
    "    \"noTheme\": \"\",\n",
    "    \"qid\": \"LN_05_01_011\"\n",
    "}\n",
    "\n",
    "response = requests.get(url,params=params)\n",
    "data = response.json()"
   ]
  },
  {
   "cell_type": "code",
   "execution_count": null,
   "metadata": {},
   "outputs": [],
   "source": [
    "all = []\n",
    "\n",
    "while True:\n",
    "    for item in data.get('list', []):\n",
    "        result = {\n",
    "            '관광지명': item.get('CONT_NM'),\n",
    "            '주소': item.get('TAR_ADDR_NM'),\n",
    "            '대분류': item.get('KTO_CATE_LCLS_NM'),\n",
    "            '중분류': item.get('KTO_CATE_MCLS_NM'),\n",
    "            '소분류': item.get('KTO_CATE_SCLS_NM'),\n",
    "            'longitude': item.get('XCRD'),\n",
    "            'latitude': item.get('YCRD')\n",
    "        }\n",
    "        all.append(result)\n",
    "        \n",
    "    params['pageIndex'] += 1\n",
    "    \n",
    "    time.sleep(5)\n",
    "    \n",
    "    if len(all) == 49:\n",
    "        break"
   ]
  },
  {
   "cell_type": "code",
   "execution_count": null,
   "metadata": {},
   "outputs": [],
   "source": [
    "df = pd.DataFrame(all)"
   ]
  },
  {
   "cell_type": "code",
   "execution_count": null,
   "metadata": {},
   "outputs": [],
   "source": [
    "df.to_csv('./광주/location_info.csv',encoding='utf-8',index=False)"
   ]
  },
  {
   "cell_type": "markdown",
   "metadata": {},
   "source": [
    "==================================================================================================\n",
    "\n",
    "==================================================================================================\n",
    "\n",
    "=================================================================================================="
   ]
  },
  {
   "cell_type": "code",
   "execution_count": null,
   "metadata": {},
   "outputs": [],
   "source": [
    "import pandas as pd\n",
    "\n",
    "basic_info = pd.read_csv('./광주/basic_info.csv')\n",
    "gender_info = pd.read_csv('./광주/gender_info.csv')\n",
    "location_info = pd.read_csv('./광주/location_info.csv')\n",
    "navi_info = pd.read_csv('./광주/navi_info.csv')\n",
    "visit_info = pd.read_csv('./광주/visit_info.csv')"
   ]
  },
  {
   "cell_type": "code",
   "execution_count": null,
   "metadata": {},
   "outputs": [
    {
     "name": "stdout",
     "output_type": "stream",
     "text": [
      "평점 수 : 1 | 리뷰 수 : 1 | 관광지 명 : 1913송정역시장 | 별점 : 3.9 | 리뷰 : 4,489\n",
      "평점 수 : 2 | 리뷰 수 : 2 | 관광지 명 : 5·18기념공원 | 별점 : 4.4 | 리뷰 : 654\n",
      "평점 수 : 3 | 리뷰 수 : 3 | 관광지 명 : 5·18민주화운동기록관 | 별점 : 4.1 | 리뷰 : 9\n",
      "평점 수 : 4 | 리뷰 수 : 4 | 관광지 명 : 고싸움놀이전수회관 | 별점 : 4.1 | 리뷰 : 7\n",
      "평점 수 : 5 | 리뷰 수 : 5 | 관광지 명 : 광주공원 | 별점 : 4.1 | 리뷰 : 445\n",
      "평점 수 : 6 | 리뷰 수 : 6 | 관광지 명 : 광주대인시장(대인예술시장) | 별점 : 3.9 | 리뷰 : 1,288\n",
      "평점 수 : 7 | 리뷰 수 : 7 | 관광지 명 : 광주비엔날레전시관 | 별점 : 4.3 | 리뷰 : 261\n",
      "평점 수 : 8 | 리뷰 수 : 8 | 관광지 명 : 광주사직공원 | 별점 : 4.3 | 리뷰 : 985\n",
      "평점 수 : 9 | 리뷰 수 : 9 | 관광지 명 : 광주서강사 | 별점 : None | 리뷰 : None\n",
      "평점 수 : 10 | 리뷰 수 : 10 | 관광지 명 : 광주송정공원 | 별점 : 4.5 | 리뷰 : 22\n",
      "평점 수 : 11 | 리뷰 수 : 11 | 관광지 명 : 광주수완호수공원 | 별점 : 4.1 | 리뷰 : 560\n",
      "평점 수 : 12 | 리뷰 수 : 12 | 관광지 명 : 광주시립미술관 | 별점 : 4.4 | 리뷰 : 1,031\n",
      "평점 수 : 13 | 리뷰 수 : 13 | 관광지 명 : 광주시민의숲 | 별점 : 3.9 | 리뷰 : 7\n",
      "평점 수 : 14 | 리뷰 수 : 14 | 관광지 명 : 광주양동시장 | 별점 : 4.1 | 리뷰 : 900\n",
      "평점 수 : 15 | 리뷰 수 : 15 | 관광지 명 : 광주역사민속박물관 | 별점 : 4.3 | 리뷰 : 407\n",
      "평점 수 : 16 | 리뷰 수 : 16 | 관광지 명 : 광주예술의거리 | 별점 : 4.1 | 리뷰 : 153\n",
      "평점 수 : 17 | 리뷰 수 : 17 | 관광지 명 : 광주패밀리랜드 | 별점 : 4.2 | 리뷰 : 605\n",
      "평점 수 : 18 | 리뷰 수 : 18 | 관광지 명 : 광주포충사 | 별점 : 4.4 | 리뷰 : 382\n",
      "평점 수 : 19 | 리뷰 수 : 19 | 관광지 명 : 광주호 | 별점 : 3.8 | 리뷰 : 12\n",
      "평점 수 : 20 | 리뷰 수 : 20 | 관광지 명 : 광주호호수생태원 | 별점 : 4.5 | 리뷰 : 2,633\n",
      "평점 수 : 21 | 리뷰 수 : 21 | 관광지 명 : 국립광주과학관 | 별점 : 4.4 | 리뷰 : 1,993\n",
      "평점 수 : 22 | 리뷰 수 : 22 | 관광지 명 : 국립광주박물관 | 별점 : 4.4 | 리뷰 : 1,320\n",
      "평점 수 : 23 | 리뷰 수 : 23 | 관광지 명 : 국립아시아문화전당 | 별점 : 4.6 | 리뷰 : 444\n",
      "평점 수 : 24 | 리뷰 수 : 24 | 관광지 명 : 김대중컨벤션센터 | 별점 : 4.1 | 리뷰 : 2,735\n",
      "평점 수 : 25 | 리뷰 수 : 25 | 관광지 명 : 남광주시장 | 별점 : 3.9 | 리뷰 : 1,713\n",
      "평점 수 : 26 | 리뷰 수 : 26 | 관광지 명 : 남도향토음식박물관·호남문화자료전시관 | 별점 : 4.2 | 리뷰 : 89\n",
      "평점 수 : 27 | 리뷰 수 : 27 | 관광지 명 : 도림사(광주) | 별점 : None | 리뷰 : None\n",
      "평점 수 : 28 | 리뷰 수 : 28 | 관광지 명 : 동명동카페거리 | 별점 : 4.1 | 리뷰 : 215\n",
      "평점 수 : 29 | 리뷰 수 : 29 | 관광지 명 : 무각사 | 별점 : 4.4 | 리뷰 : 452\n",
      "평점 수 : 30 | 리뷰 수 : 30 | 관광지 명 : 빛고을농촌테마공원 | 별점 : 4.6 | 리뷰 : 157\n",
      "평점 수 : 31 | 리뷰 수 : 31 | 관광지 명 : 사직공원전망타워 | 별점 : 4.3 | 리뷰 : 985\n",
      "평점 수 : 32 | 리뷰 수 : 32 | 관광지 명 : 송산유원지 | 별점 : 4.0 | 리뷰 : 691\n",
      "평점 수 : 33 | 리뷰 수 : 33 | 관광지 명 : 신광사(광주) | 별점 : 3.8 | 리뷰 : 5\n",
      "평점 수 : 34 | 리뷰 수 : 34 | 관광지 명 : 약사암(광주) | 별점 : 5.0 | 리뷰 : 1\n",
      "평점 수 : 35 | 리뷰 수 : 35 | 관광지 명 : 오리요리의거리 | 별점 : 3.0 | 리뷰 : 2\n",
      "평점 수 : 36 | 리뷰 수 : 36 | 관광지 명 : 운천저수지 | 별점 : 3.8 | 리뷰 : 4\n",
      "평점 수 : 37 | 리뷰 수 : 37 | 관광지 명 : 원각사(광주) | 별점 : 4.6 | 리뷰 : 22\n",
      "평점 수 : 38 | 리뷰 수 : 38 | 관광지 명 : 원효사 | 별점 : 4.4 | 리뷰 : 526\n",
      "평점 수 : 39 | 리뷰 수 : 39 | 관광지 명 : 월봉서원 | 별점 : 4.5 | 리뷰 : 154\n",
      "평점 수 : 40 | 리뷰 수 : 40 | 관광지 명 : 유애서원 | 별점 : 5.0 | 리뷰 : 1\n",
      "평점 수 : 41 | 리뷰 수 : 41 | 관광지 명 : 전일빌딩245 | 별점 : 4.7 | 리뷰 : 563\n",
      "평점 수 : 42 | 리뷰 수 : 42 | 관광지 명 : 중외공원 | 별점 : 4.5 | 리뷰 : 684\n",
      "평점 수 : 43 | 리뷰 수 : 43 | 관광지 명 : 증심사(광주) | 별점 : 4.3 | 리뷰 : 542\n",
      "평점 수 : 44 | 리뷰 수 : 44 | 관광지 명 : 지산유원지 | 별점 : 3.9 | 리뷰 : 990\n",
      "평점 수 : 45 | 리뷰 수 : 45 | 관광지 명 : 충장사 | 별점 : 4.5 | 리뷰 : 11\n",
      "평점 수 : 46 | 리뷰 수 : 46 | 관광지 명 : 푸른길분수공원 | 별점 : 4.5 | 리뷰 : 10\n",
      "평점 수 : 47 | 리뷰 수 : 47 | 관광지 명 : 풍암호수공원 | 별점 : 4.4 | 리뷰 : 1,983\n",
      "평점 수 : 48 | 리뷰 수 : 48 | 관광지 명 : 하정웅미술관(광주) | 별점 : 4.3 | 리뷰 : 203\n",
      "평점 수 : 49 | 리뷰 수 : 49 | 관광지 명 : 환벽당 | 별점 : 4.2 | 리뷰 : 22\n"
     ]
    }
   ],
   "source": [
    "from selenium import webdriver\n",
    "from selenium.webdriver.common.by import By\n",
    "from selenium.webdriver.support.ui import WebDriverWait\n",
    "from selenium.webdriver.support import expected_conditions as EC\n",
    "from webdriver_manager.chrome import ChromeDriverManager\n",
    "from selenium.webdriver.chrome.service import Service\n",
    "\n",
    "stars = []\n",
    "reviews = []\n",
    "\n",
    "for i in basic_info['관광지명']:\n",
    "    url = f'https://www.google.co.kr/maps/search/{i}'\n",
    "    service = Service(executable_path='./data/chromedriver.exe')\n",
    "    driver = webdriver.Chrome(service=Service(ChromeDriverManager().install()))\n",
    "    driver.get(url)\n",
    "    \n",
    "    try:\n",
    "        # 해당 클래스명이 나타날 때까지 최대 10초 대기\n",
    "        element = WebDriverWait(driver, 10).until(\n",
    "            EC.presence_of_element_located((By.CLASS_NAME, 'F7nice'))\n",
    "        )\n",
    "        \n",
    "        star = element.text.split('\\n')[0]\n",
    "        review = element.text.split('\\n')[1][1:-1]\n",
    "        \n",
    "        stars.append(star)\n",
    "        reviews.append(review)\n",
    "    except:\n",
    "        check = input('일치하는 장소를 클릭 후 y를 눌러주세요(이외 None)')\n",
    "        if check.upper() == 'Y':\n",
    "            star = driver.find_element(By.CLASS_NAME, 'F7nice').text.split('\\n')[0]\n",
    "            review = driver.find_element(By.CLASS_NAME, 'F7nice').text.split('\\n')[1][1:-1]\n",
    "            \n",
    "            stars.append(star)\n",
    "            reviews.append(review)\n",
    "        else:\n",
    "            stars.append(None)\n",
    "            reviews.append(None)\n",
    "    \n",
    "    driver.quit()\n",
    "    print(f'평점 수 : {len(stars)}','|',f'리뷰 수 : {len(reviews)}','|',f'관광지 명 : {i}','|', f'별점 : {star}','|',f'리뷰 : {review}')\n",
    "    \n",
    "    star = None\n",
    "    review = None"
   ]
  },
  {
   "cell_type": "code",
   "execution_count": null,
   "metadata": {},
   "outputs": [
    {
     "name": "stdout",
     "output_type": "stream",
     "text": [
      "총 데이터 수 : 49\n",
      "=========================================\n",
      "평점 수 : 49\n",
      "리뷰 수 : 49\n",
      "=========================================\n",
      "총 None값 수 : 2\n",
      "총 None값 수 : 2\n"
     ]
    }
   ],
   "source": [
    "print(f'총 데이터 수 : {len(basic_info)}')\n",
    "print('=========================================')\n",
    "print(f'평점 수 : {len(stars)}')\n",
    "print(f'리뷰 수 : {len(reviews)}')\n",
    "print('=========================================')\n",
    "print(f'총 None값 수 : {stars.count(None)}')\n",
    "print(f'총 None값 수 : {reviews.count(None)}')"
   ]
  },
  {
   "cell_type": "code",
   "execution_count": null,
   "metadata": {},
   "outputs": [],
   "source": [
    "basic_info['stars'] = stars\n",
    "basic_info['reviews'] = reviews"
   ]
  },
  {
   "cell_type": "code",
   "execution_count": null,
   "metadata": {},
   "outputs": [],
   "source": [
    "basic_info.to_csv('./광주/basic_info.csv',encoding='utf-8',index=False)"
   ]
  },
  {
   "cell_type": "markdown",
   "metadata": {},
   "source": [
    "### 리뷰, 체류시간 -> 숫자 값으로 변경"
   ]
  },
  {
   "cell_type": "code",
   "execution_count": null,
   "metadata": {},
   "outputs": [],
   "source": [
    "time = []\n",
    "\n",
    "for i in basic_info['평균 체류시간']:\n",
    "    i = i.replace('시간','').replace('분','').strip()\n",
    "    i = i.split(' ')\n",
    "    time.append((int(i[0]) * 60) + int(i[1]))\n",
    "    \n",
    "basic_info['평균 체류시간'] = time"
   ]
  },
  {
   "cell_type": "code",
   "execution_count": null,
   "metadata": {},
   "outputs": [],
   "source": [
    "reviews_to_int = []\n",
    "\n",
    "for i in basic_info['reviews']:\n",
    "    if type(i) == type(None):\n",
    "        reviews_to_int.append(i)\n",
    "        continue\n",
    "    if type(i) in (float,int):\n",
    "        reviews_to_int.append(i)\n",
    "    else:\n",
    "        i = i.replace(',','')\n",
    "        i = int(i)\n",
    "        reviews_to_int.append(i)\n",
    "\n",
    "basic_info['reviews'] = reviews_to_int"
   ]
  },
  {
   "cell_type": "code",
   "execution_count": null,
   "metadata": {},
   "outputs": [],
   "source": [
    "basic_info.to_csv('./광주/basic_info.csv',encoding='utf-8',index=False)"
   ]
  },
  {
   "cell_type": "markdown",
   "metadata": {},
   "source": [
    "### None값 -> 관광지별 평균"
   ]
  },
  {
   "cell_type": "code",
   "execution_count": null,
   "metadata": {},
   "outputs": [],
   "source": [
    "navi_info.set_index('관광지명',inplace=True)"
   ]
  },
  {
   "cell_type": "code",
   "execution_count": null,
   "metadata": {},
   "outputs": [],
   "source": [
    "navi_info = navi_info.apply(lambda row: row.fillna(int(row.mean())), axis=1)"
   ]
  },
  {
   "cell_type": "code",
   "execution_count": null,
   "metadata": {},
   "outputs": [],
   "source": [
    "navi_info.to_csv('./광주/navi_info.csv',encoding='utf-8',index=False)"
   ]
  },
  {
   "cell_type": "markdown",
   "metadata": {},
   "source": [
    "### 광역지자체별 거주 방문자 비율"
   ]
  },
  {
   "cell_type": "code",
   "execution_count": null,
   "metadata": {},
   "outputs": [],
   "source": [
    "visit_info.dropna(subset=['광역지자체명'], axis=0,inplace=True)"
   ]
  },
  {
   "cell_type": "code",
   "execution_count": null,
   "metadata": {},
   "outputs": [],
   "source": [
    "names = visit_info['관광지명'].tolist()\n",
    "\n",
    "local_visit = visit_info[visit_info['광역지자체명'].str.contains('광주')].groupby('관광지명')[['광역지자체별 거주 방문자 비율']].mean()\n",
    "local_visit = local_visit.reset_index()\n",
    "\n",
    "local_visit.loc[local_visit['관광지명'].isin(names)]"
   ]
  },
  {
   "cell_type": "code",
   "execution_count": null,
   "metadata": {},
   "outputs": [],
   "source": [
    "basic_info['광역지자체별 거주 방문자 비율'] = local_visit['광역지자체별 거주 방문자 비율']"
   ]
  },
  {
   "cell_type": "code",
   "execution_count": null,
   "metadata": {},
   "outputs": [],
   "source": [
    "basic_info"
   ]
  },
  {
   "cell_type": "markdown",
   "metadata": {},
   "source": [
    "===============================================================================================================\n",
    "\n",
    "===============================================================================================================\n",
    "\n",
    "==============================================================================================================="
   ]
  },
  {
   "cell_type": "code",
   "execution_count": null,
   "metadata": {},
   "outputs": [],
   "source": [
    "from selenium import webdriver\n",
    "from selenium.webdriver.chrome.service import Service\n",
    "import time\n",
    "from selenium.webdriver.common.action_chains import ActionChains\n",
    "from webdriver_manager.chrome import ChromeDriverManager\n",
    "from selenium.webdriver.common.by import By\n",
    "\n",
    "search_number = []\n",
    "for i in basic_info['관광지명']:\n",
    "    if not i.startswith('광주'):\n",
    "        i = '광주 ' + i\n",
    "    url = f'https://www.google.com/search?q={i}'\n",
    "    service = Service(executable_path='./data/chromedriver.exe')\n",
    "    driver = webdriver.Chrome(service=Service(ChromeDriverManager().install()))\n",
    "    driver.get(url)\n",
    "    time.sleep(2)\n",
    "\n",
    "    search_number.append(driver.find_element(By.ID, 'result-stats').text)\n",
    "\n",
    "basic_info['search_number'] = search_number"
   ]
  },
  {
   "cell_type": "code",
   "execution_count": null,
   "metadata": {},
   "outputs": [],
   "source": [
    "search_number = []\n",
    "for index,i in enumerate(basic_info['관광지명']):\n",
    "    if basic_info.iloc[index]['search_number']:\n",
    "        continue\n",
    "    if not i.startswith('광주'):\n",
    "        i = '광주 ' + i\n",
    "    url = f'https://www.google.com/search?q={i}'\n",
    "    service = Service(executable_path='./data/chromedriver.exe')\n",
    "    driver = webdriver.Chrome(service=Service(ChromeDriverManager().install()))\n",
    "    driver.get(url)\n",
    "    time.sleep(2)\n",
    "\n",
    "    # search_number.append(driver.find_element(By.ID, 'result-stats').text)\n",
    "    basic_info.loc[index,'search_number'] = driver.find_element(By.ID, 'result-stats').text"
   ]
  },
  {
   "cell_type": "code",
   "execution_count": null,
   "metadata": {},
   "outputs": [],
   "source": [
    "import re\n",
    "\n",
    "pattern = re.compile(r'\\([^)]*\\)')\n",
    "\n",
    "basic_info['search_number'] = basic_info['search_number'].apply(lambda x: re.sub(pattern,'',x).strip())\n",
    "\n",
    "basic_info['search_number'] = basic_info['search_number'].apply(lambda x: int(x.replace('개','').replace(',','')[7:]))"
   ]
  },
  {
   "cell_type": "code",
   "execution_count": null,
   "metadata": {},
   "outputs": [],
   "source": [
    "basic_info.to_csv('./광주/basic_info.csv',encoding='utf-8',index=False)"
   ]
  },
  {
   "cell_type": "markdown",
   "metadata": {},
   "source": [
    "===============================================================================================================\n",
    "\n",
    "===============================================================================================================\n",
    "\n",
    "==============================================================================================================="
   ]
  },
  {
   "cell_type": "code",
   "execution_count": 1,
   "metadata": {},
   "outputs": [],
   "source": [
    "import pandas as pd\n",
    "\n",
    "basic_info = pd.read_csv('./광주/basic_info.csv')\n",
    "gender_info = pd.read_csv('./광주/gender_info.csv')\n",
    "location_info = pd.read_csv('./광주/location_info.csv')\n",
    "navi_info = pd.read_csv('./광주/navi_info.csv')\n",
    "visit_info = pd.read_csv('./광주/visit_info.csv')"
   ]
  },
  {
   "cell_type": "code",
   "execution_count": 2,
   "metadata": {},
   "outputs": [],
   "source": [
    "totals = []\n",
    "avgs = []\n",
    "\n",
    "for i in range(len(navi_info)):\n",
    "    total = navi_info.iloc[i][1:].sum()\n",
    "    avg = navi_info.iloc[i][1:].mean()\n",
    "    \n",
    "    totals.append(total)\n",
    "    avgs.append(avg)\n",
    "navi_info['sum'] = totals\n",
    "navi_info['avg'] = avgs"
   ]
  },
  {
   "cell_type": "code",
   "execution_count": 3,
   "metadata": {},
   "outputs": [],
   "source": [
    "df = pd.DataFrame()\n",
    "df = pd.concat([basic_info,navi_info[['sum','avg']]],axis=1)\n",
    "df = pd.merge(df,location_info,on='관광지명',how='inner')"
   ]
  },
  {
   "cell_type": "code",
   "execution_count": 4,
   "metadata": {},
   "outputs": [],
   "source": [
    "import numpy as np\n",
    "score = []\n",
    "\n",
    "for i in range(len(df)):\n",
    "    if pd.isna(df.iloc[i]['stars']):\n",
    "        star = 0\n",
    "    else:\n",
    "        star = df.iloc[i]['stars'] * 1.2\n",
    "        \n",
    "    if df.iloc[i]['reviews']:\n",
    "        review = 0\n",
    "    else:\n",
    "        review = np.log1p(max(df['reviews'])) - np.log1p(df.iloc[i]['reviews']) * 1.1\n",
    "    search = np.log1p(max(df['search_number'])) - np.log1p(df.iloc[i]['search_number'])\n",
    "    if pd.isna(df.iloc[0]['광역지자체별 거주 방문자 비율']):\n",
    "        visit = 0\n",
    "    else:\n",
    "        visit = np.log1p(df.iloc[i]['광역지자체별 거주 방문자 비율']) * 1.1\n",
    "    time = np.log1p(df.iloc[i]['평균 체류시간']) * 0.8\n",
    "    navi = np.log1p(max(df['avg'])) - np.log1p(df.iloc[i]['avg'])\n",
    "    all = star+review+search+visit+time-navi\n",
    "    \n",
    "    score.append(all)\n",
    "\n",
    "df['scores'] = score"
   ]
  },
  {
   "cell_type": "code",
   "execution_count": 5,
   "metadata": {},
   "outputs": [],
   "source": [
    "first = df.sort_values(by='scores',ascending=False)"
   ]
  },
  {
   "cell_type": "code",
   "execution_count": 7,
   "metadata": {},
   "outputs": [],
   "source": [
    "first.to_csv('./gwangju.csv',encoding='utf-8',index=False)"
   ]
  },
  {
   "cell_type": "code",
   "execution_count": null,
   "metadata": {},
   "outputs": [],
   "source": [
    "first['관광지명'].tail(25).tolist()"
   ]
  },
  {
   "cell_type": "code",
   "execution_count": null,
   "metadata": {},
   "outputs": [],
   "source": [
    "first['관광지명'].head(25).tolist()"
   ]
  },
  {
   "cell_type": "code",
   "execution_count": 166,
   "metadata": {},
   "outputs": [],
   "source": [
    "import folium\n",
    "\n",
    "gwangju_map = folium.Map(location=[35.1599785,126.8513072],zoom_start=11)"
   ]
  },
  {
   "cell_type": "code",
   "execution_count": 167,
   "metadata": {},
   "outputs": [],
   "source": [
    "for i in range(len(first)):\n",
    "    if i == 30:\n",
    "        break\n",
    "    folium.Marker(\n",
    "            [first.iloc[i]['latitude'],first.iloc[i]['longitude']],\n",
    "            popup=folium.Popup(first.iloc[i]['관광지명'],maxWidth=300),\n",
    "            fill_opacity=0.5,\n",
    "            icon=folium.Icon(color='blue')            \n",
    "            ).add_to(gwangju_map)"
   ]
  },
  {
   "cell_type": "code",
   "execution_count": null,
   "metadata": {},
   "outputs": [],
   "source": [
    "gwangju_map"
   ]
  },
  {
   "cell_type": "code",
   "execution_count": null,
   "metadata": {},
   "outputs": [],
   "source": []
  },
  {
   "cell_type": "code",
   "execution_count": 118,
   "metadata": {},
   "outputs": [],
   "source": [
    "import pandas as pd\n",
    "import os"
   ]
  },
  {
   "cell_type": "code",
   "execution_count": 119,
   "metadata": {},
   "outputs": [],
   "source": [
    "# 파일이 있는 디렉토리 설정\n",
    "directory = \"./광주/대중교통\"\n",
    "\n",
    "# 모든 CSV 파일 목록 가져오기\n",
    "file_list = [file for file in os.listdir(directory) if file.endswith('.csv')]\n",
    "\n",
    "# 모든 CSV 파일을 담을 빈 DataFrame 생성\n",
    "combined_df = pd.DataFrame()\n",
    "\n",
    "# 각 CSV 파일을 순회하면서 데이터를 합치기\n",
    "for file in file_list:\n",
    "    file_path = os.path.join(directory, file)\n",
    "    \n",
    "    # 관광지 명 추출\n",
    "    landmark_name = file.split('_')[1]  # 파일명에서 '_'를 기준으로 분리하여 첫 번째 요소를 관광지 명으로 사용\n",
    "    landmark_name = landmark_name.replace('.csv', '')\n",
    "    \n",
    "    # CSV 파일을 DataFrame으로 읽기\n",
    "    df = pd.read_csv(file_path, encoding=\"cp949\")\n",
    "    \n",
    "    # 관광지 명 컬럼 추가\n",
    "    df['관광지명'] = landmark_name\n",
    "    \n",
    "    # 현재 파일의 데이터를 합치기\n",
    "    combined_df = pd.concat([combined_df, df], ignore_index=True)\n",
    "\n",
    "# 결과를 CSV 파일로 저장하기\n",
    "# combined_df.to_csv('combined_data.csv', index=False, encoding=\"utf-8\")\n",
    "\n",
    "# print(\"합쳐진 데이터를 combined_data.csv로 저장했습니다.\")"
   ]
  },
  {
   "cell_type": "code",
   "execution_count": 120,
   "metadata": {},
   "outputs": [],
   "source": [
    "total_column = []\n",
    "for i in range(len(combined_df)):\n",
    "    total = combined_df.iloc[i][6:-2].sum()\n",
    "    total_column.append(total)\n",
    "\n",
    "combined_df['total'] = total_column"
   ]
  },
  {
   "cell_type": "code",
   "execution_count": 121,
   "metadata": {},
   "outputs": [],
   "source": [
    "# 관광지명으로 그룹화하여 총 승객수를 구하고 새로운 컬럼으로 추가\n",
    "total_passengers_by_landmark = combined_df.groupby('관광지명')['total'].sum().reset_index()\n",
    "total_passengers_by_landmark.rename(columns={'total': '총 승객수'}, inplace=True)\n",
    "\n",
    "# 기존 데이터프레임에 총 승객수 컬럼 추가\n",
    "df = pd.merge(combined_df, total_passengers_by_landmark, on='관광지명', how='left')"
   ]
  },
  {
   "cell_type": "code",
   "execution_count": 122,
   "metadata": {},
   "outputs": [],
   "source": [
    "bus = df.groupby('관광지명')[['노선']].nunique().reset_index()"
   ]
  },
  {
   "cell_type": "code",
   "execution_count": 123,
   "metadata": {},
   "outputs": [],
   "source": [
    "new_df = df[['관광지명', '총 승객수']]\n",
    "new_df = new_df.drop_duplicates()"
   ]
  },
  {
   "cell_type": "code",
   "execution_count": 124,
   "metadata": {},
   "outputs": [],
   "source": [
    "new_df = pd.merge(new_df,bus,on='관광지명',how='inner')"
   ]
  },
  {
   "cell_type": "code",
   "execution_count": 125,
   "metadata": {},
   "outputs": [],
   "source": [
    "for i in range(len(new_df)):\n",
    "    if new_df.iloc[i]['관광지명'] in first.head(25)['관광지명'].tolist():\n",
    "        new_df.loc[i,'구분'] = '숨은 명소'\n",
    "    else:\n",
    "        new_df.loc[i,'구분'] = '일반 명소'"
   ]
  },
  {
   "cell_type": "code",
   "execution_count": 137,
   "metadata": {},
   "outputs": [
    {
     "data": {
      "text/plain": [
       "49"
      ]
     },
     "execution_count": 137,
     "metadata": {},
     "output_type": "execute_result"
    }
   ],
   "source": [
    "len(basic_info)"
   ]
  },
  {
   "cell_type": "code",
   "execution_count": 126,
   "metadata": {},
   "outputs": [
    {
     "name": "stdout",
     "output_type": "stream",
     "text": [
      "15\n",
      "15\n"
     ]
    }
   ],
   "source": [
    "print(len(new_df[new_df['구분'] == '일반 명소'].sort_values(by='총 승객수',ascending=False)))\n",
    "print(len(new_df[new_df['구분'] == '숨은 명소'].sort_values(by='총 승객수',ascending=False)))"
   ]
  },
  {
   "cell_type": "code",
   "execution_count": 134,
   "metadata": {},
   "outputs": [
    {
     "data": {
      "text/html": [
       "<div>\n",
       "<style scoped>\n",
       "    .dataframe tbody tr th:only-of-type {\n",
       "        vertical-align: middle;\n",
       "    }\n",
       "\n",
       "    .dataframe tbody tr th {\n",
       "        vertical-align: top;\n",
       "    }\n",
       "\n",
       "    .dataframe thead th {\n",
       "        text-align: right;\n",
       "    }\n",
       "</style>\n",
       "<table border=\"1\" class=\"dataframe\">\n",
       "  <thead>\n",
       "    <tr style=\"text-align: right;\">\n",
       "      <th></th>\n",
       "      <th>관광지명</th>\n",
       "      <th>총 승객수</th>\n",
       "      <th>노선</th>\n",
       "      <th>구분</th>\n",
       "    </tr>\n",
       "  </thead>\n",
       "  <tbody>\n",
       "    <tr>\n",
       "      <th>1</th>\n",
       "      <td>5·18기념공원</td>\n",
       "      <td>2266</td>\n",
       "      <td>3</td>\n",
       "      <td>일반 명소</td>\n",
       "    </tr>\n",
       "    <tr>\n",
       "      <th>4</th>\n",
       "      <td>국립광주박물관</td>\n",
       "      <td>688</td>\n",
       "      <td>3</td>\n",
       "      <td>일반 명소</td>\n",
       "    </tr>\n",
       "    <tr>\n",
       "      <th>5</th>\n",
       "      <td>광주시민의숲</td>\n",
       "      <td>257</td>\n",
       "      <td>1</td>\n",
       "      <td>일반 명소</td>\n",
       "    </tr>\n",
       "    <tr>\n",
       "      <th>6</th>\n",
       "      <td>오리요리의거리</td>\n",
       "      <td>55356</td>\n",
       "      <td>11</td>\n",
       "      <td>일반 명소</td>\n",
       "    </tr>\n",
       "    <tr>\n",
       "      <th>7</th>\n",
       "      <td>광주사직공원</td>\n",
       "      <td>15998</td>\n",
       "      <td>5</td>\n",
       "      <td>일반 명소</td>\n",
       "    </tr>\n",
       "    <tr>\n",
       "      <th>9</th>\n",
       "      <td>신광사(광주)</td>\n",
       "      <td>5658</td>\n",
       "      <td>5</td>\n",
       "      <td>일반 명소</td>\n",
       "    </tr>\n",
       "    <tr>\n",
       "      <th>10</th>\n",
       "      <td>동명동카페거리</td>\n",
       "      <td>2893</td>\n",
       "      <td>4</td>\n",
       "      <td>일반 명소</td>\n",
       "    </tr>\n",
       "    <tr>\n",
       "      <th>13</th>\n",
       "      <td>광주서광사</td>\n",
       "      <td>12995</td>\n",
       "      <td>8</td>\n",
       "      <td>일반 명소</td>\n",
       "    </tr>\n",
       "    <tr>\n",
       "      <th>14</th>\n",
       "      <td>푸른길분수공원</td>\n",
       "      <td>12995</td>\n",
       "      <td>8</td>\n",
       "      <td>일반 명소</td>\n",
       "    </tr>\n",
       "    <tr>\n",
       "      <th>16</th>\n",
       "      <td>약사암(광주)</td>\n",
       "      <td>576</td>\n",
       "      <td>2</td>\n",
       "      <td>일반 명소</td>\n",
       "    </tr>\n",
       "    <tr>\n",
       "      <th>17</th>\n",
       "      <td>광주송정공원</td>\n",
       "      <td>32928</td>\n",
       "      <td>14</td>\n",
       "      <td>일반 명소</td>\n",
       "    </tr>\n",
       "    <tr>\n",
       "      <th>18</th>\n",
       "      <td>광주수완호수공원</td>\n",
       "      <td>1292</td>\n",
       "      <td>5</td>\n",
       "      <td>일반 명소</td>\n",
       "    </tr>\n",
       "    <tr>\n",
       "      <th>20</th>\n",
       "      <td>광주시립미술관</td>\n",
       "      <td>688</td>\n",
       "      <td>3</td>\n",
       "      <td>일반 명소</td>\n",
       "    </tr>\n",
       "    <tr>\n",
       "      <th>21</th>\n",
       "      <td>광주예술의거리</td>\n",
       "      <td>33432</td>\n",
       "      <td>12</td>\n",
       "      <td>일반 명소</td>\n",
       "    </tr>\n",
       "    <tr>\n",
       "      <th>29</th>\n",
       "      <td>광주공원</td>\n",
       "      <td>7305</td>\n",
       "      <td>6</td>\n",
       "      <td>일반 명소</td>\n",
       "    </tr>\n",
       "  </tbody>\n",
       "</table>\n",
       "</div>"
      ],
      "text/plain": [
       "        관광지명  총 승객수  노선     구분\n",
       "1   5·18기념공원   2266   3  일반 명소\n",
       "4    국립광주박물관    688   3  일반 명소\n",
       "5     광주시민의숲    257   1  일반 명소\n",
       "6    오리요리의거리  55356  11  일반 명소\n",
       "7     광주사직공원  15998   5  일반 명소\n",
       "9    신광사(광주)   5658   5  일반 명소\n",
       "10   동명동카페거리   2893   4  일반 명소\n",
       "13     광주서광사  12995   8  일반 명소\n",
       "14   푸른길분수공원  12995   8  일반 명소\n",
       "16   약사암(광주)    576   2  일반 명소\n",
       "17    광주송정공원  32928  14  일반 명소\n",
       "18  광주수완호수공원   1292   5  일반 명소\n",
       "20   광주시립미술관    688   3  일반 명소\n",
       "21   광주예술의거리  33432  12  일반 명소\n",
       "29      광주공원   7305   6  일반 명소"
      ]
     },
     "execution_count": 134,
     "metadata": {},
     "output_type": "execute_result"
    }
   ],
   "source": [
    "new_df[new_df['구분'] == '일반 명소']"
   ]
  },
  {
   "cell_type": "code",
   "execution_count": 135,
   "metadata": {},
   "outputs": [
    {
     "data": {
      "text/html": [
       "<div>\n",
       "<style scoped>\n",
       "    .dataframe tbody tr th:only-of-type {\n",
       "        vertical-align: middle;\n",
       "    }\n",
       "\n",
       "    .dataframe tbody tr th {\n",
       "        vertical-align: top;\n",
       "    }\n",
       "\n",
       "    .dataframe thead th {\n",
       "        text-align: right;\n",
       "    }\n",
       "</style>\n",
       "<table border=\"1\" class=\"dataframe\">\n",
       "  <thead>\n",
       "    <tr style=\"text-align: right;\">\n",
       "      <th></th>\n",
       "      <th>관광지명</th>\n",
       "      <th>총 승객수</th>\n",
       "      <th>노선</th>\n",
       "      <th>구분</th>\n",
       "    </tr>\n",
       "  </thead>\n",
       "  <tbody>\n",
       "    <tr>\n",
       "      <th>0</th>\n",
       "      <td>김대중컨벤션센터</td>\n",
       "      <td>4473</td>\n",
       "      <td>6</td>\n",
       "      <td>숨은 명소</td>\n",
       "    </tr>\n",
       "    <tr>\n",
       "      <th>2</th>\n",
       "      <td>광주호호수생태원</td>\n",
       "      <td>133</td>\n",
       "      <td>2</td>\n",
       "      <td>숨은 명소</td>\n",
       "    </tr>\n",
       "    <tr>\n",
       "      <th>3</th>\n",
       "      <td>국립광주과학관</td>\n",
       "      <td>906</td>\n",
       "      <td>8</td>\n",
       "      <td>숨은 명소</td>\n",
       "    </tr>\n",
       "    <tr>\n",
       "      <th>8</th>\n",
       "      <td>광주대인시장(대인예술시장)</td>\n",
       "      <td>8833</td>\n",
       "      <td>11</td>\n",
       "      <td>숨은 명소</td>\n",
       "    </tr>\n",
       "    <tr>\n",
       "      <th>11</th>\n",
       "      <td>송산유원지</td>\n",
       "      <td>1430</td>\n",
       "      <td>3</td>\n",
       "      <td>숨은 명소</td>\n",
       "    </tr>\n",
       "    <tr>\n",
       "      <th>12</th>\n",
       "      <td>증심사(광주)</td>\n",
       "      <td>136</td>\n",
       "      <td>1</td>\n",
       "      <td>숨은 명소</td>\n",
       "    </tr>\n",
       "    <tr>\n",
       "      <th>15</th>\n",
       "      <td>광주비엔날레전시관</td>\n",
       "      <td>3658</td>\n",
       "      <td>3</td>\n",
       "      <td>숨은 명소</td>\n",
       "    </tr>\n",
       "    <tr>\n",
       "      <th>19</th>\n",
       "      <td>빛고을농촌테마공원</td>\n",
       "      <td>24</td>\n",
       "      <td>3</td>\n",
       "      <td>숨은 명소</td>\n",
       "    </tr>\n",
       "    <tr>\n",
       "      <th>22</th>\n",
       "      <td>광주패밀리랜드</td>\n",
       "      <td>1507</td>\n",
       "      <td>5</td>\n",
       "      <td>숨은 명소</td>\n",
       "    </tr>\n",
       "    <tr>\n",
       "      <th>23</th>\n",
       "      <td>무각사</td>\n",
       "      <td>13626</td>\n",
       "      <td>5</td>\n",
       "      <td>숨은 명소</td>\n",
       "    </tr>\n",
       "    <tr>\n",
       "      <th>24</th>\n",
       "      <td>월봉서원</td>\n",
       "      <td>36</td>\n",
       "      <td>1</td>\n",
       "      <td>숨은 명소</td>\n",
       "    </tr>\n",
       "    <tr>\n",
       "      <th>25</th>\n",
       "      <td>지산유원지</td>\n",
       "      <td>207</td>\n",
       "      <td>2</td>\n",
       "      <td>숨은 명소</td>\n",
       "    </tr>\n",
       "    <tr>\n",
       "      <th>26</th>\n",
       "      <td>광주포충사</td>\n",
       "      <td>127</td>\n",
       "      <td>4</td>\n",
       "      <td>숨은 명소</td>\n",
       "    </tr>\n",
       "    <tr>\n",
       "      <th>27</th>\n",
       "      <td>풍암호수공원</td>\n",
       "      <td>4248</td>\n",
       "      <td>6</td>\n",
       "      <td>숨은 명소</td>\n",
       "    </tr>\n",
       "    <tr>\n",
       "      <th>28</th>\n",
       "      <td>고싸움놀이전수회관</td>\n",
       "      <td>125</td>\n",
       "      <td>4</td>\n",
       "      <td>숨은 명소</td>\n",
       "    </tr>\n",
       "  </tbody>\n",
       "</table>\n",
       "</div>"
      ],
      "text/plain": [
       "              관광지명  총 승객수  노선     구분\n",
       "0         김대중컨벤션센터   4473   6  숨은 명소\n",
       "2         광주호호수생태원    133   2  숨은 명소\n",
       "3          국립광주과학관    906   8  숨은 명소\n",
       "8   광주대인시장(대인예술시장)   8833  11  숨은 명소\n",
       "11           송산유원지   1430   3  숨은 명소\n",
       "12         증심사(광주)    136   1  숨은 명소\n",
       "15       광주비엔날레전시관   3658   3  숨은 명소\n",
       "19       빛고을농촌테마공원     24   3  숨은 명소\n",
       "22         광주패밀리랜드   1507   5  숨은 명소\n",
       "23             무각사  13626   5  숨은 명소\n",
       "24            월봉서원     36   1  숨은 명소\n",
       "25           지산유원지    207   2  숨은 명소\n",
       "26           광주포충사    127   4  숨은 명소\n",
       "27          풍암호수공원   4248   6  숨은 명소\n",
       "28       고싸움놀이전수회관    125   4  숨은 명소"
      ]
     },
     "execution_count": 135,
     "metadata": {},
     "output_type": "execute_result"
    }
   ],
   "source": [
    "new_df[new_df['구분'] == '숨은 명소']"
   ]
  },
  {
   "cell_type": "code",
   "execution_count": 129,
   "metadata": {},
   "outputs": [
    {
     "name": "stdout",
     "output_type": "stream",
     "text": [
      "총 승객수 p-value: 0.028710059036753034, 이분산 가정 만족\n",
      "노선 p-value: 0.3037958515807606, 등분산 가정 만족\n"
     ]
    }
   ],
   "source": [
    "from scipy import stats\n",
    "\n",
    "test_names = ['총 승객수','노선']\n",
    "\n",
    "p = new_df[new_df['구분'] == '일반 명소'][['총 승객수','노선']]\n",
    "up = new_df[new_df['구분'] == '숨은 명소'][['총 승객수','노선']]\n",
    "\n",
    "for test_name in test_names:\n",
    "    statistic,p_value = stats.levene(p[test_name], up[test_name])\n",
    "    if p_value > 0.05:\n",
    "        print(f\"{test_name} p-value: {p_value}, 등분산 가정 만족\")\n",
    "    else:\n",
    "        print(f\"{test_name} p-value: {p_value}, 이분산 가정 만족\")"
   ]
  },
  {
   "cell_type": "code",
   "execution_count": 130,
   "metadata": {},
   "outputs": [
    {
     "name": "stdout",
     "output_type": "stream",
     "text": [
      "총 승객수 0.03848493616035898 귀무가설 기각\n"
     ]
    }
   ],
   "source": [
    "for test_name in test_names[0:1]:\n",
    "    t_statistic,pvalue = stats.ttest_ind(\n",
    "        a = p[test_name],\n",
    "        b = up[test_name],\n",
    "        alternative = 'two-sided',\n",
    "        equal_var = False\n",
    ")\n",
    "    if pvalue<0.05:\n",
    "        print(test_name,pvalue,'귀무가설 기각')\n",
    "    else:\n",
    "        print(test_name,pvalue,'귀무가설 기각 불가')"
   ]
  },
  {
   "cell_type": "code",
   "execution_count": 131,
   "metadata": {},
   "outputs": [
    {
     "name": "stdout",
     "output_type": "stream",
     "text": [
      "노선 0.16535680219011004 귀무가설 기각 불가\n"
     ]
    }
   ],
   "source": [
    "for test_name in test_names[1:]:\n",
    "    t_statistic,pvalue = stats.ttest_ind(\n",
    "        a = p[test_name],\n",
    "        b = up[test_name],\n",
    "        alternative = 'two-sided',\n",
    "        equal_var = True\n",
    ")\n",
    "    if pvalue<0.05:\n",
    "        print(test_name,pvalue,'귀무가설 기각')\n",
    "    else:\n",
    "        print(test_name,pvalue,'귀무가설 기각 불가')"
   ]
  },
  {
   "cell_type": "code",
   "execution_count": 132,
   "metadata": {},
   "outputs": [],
   "source": [
    "new_df.to_csv('./광주/bus_info.csv',encoding='utf-8',index=False)"
   ]
  },
  {
   "cell_type": "code",
   "execution_count": null,
   "metadata": {},
   "outputs": [],
   "source": []
  },
  {
   "cell_type": "markdown",
   "metadata": {},
   "source": [
    "======================================================================================================================================================\n",
    "\n",
    "======================================================================================================================================================\n",
    "\n",
    "======================================================================================================================================================"
   ]
  },
  {
   "cell_type": "code",
   "execution_count": 9,
   "metadata": {},
   "outputs": [],
   "source": [
    "import requests\n",
    "from bs4 import BeautifulSoup"
   ]
  },
  {
   "cell_type": "code",
   "execution_count": 10,
   "metadata": {},
   "outputs": [
    {
     "name": "stdout",
     "output_type": "stream",
     "text": [
      "1\n",
      "2\n",
      "3\n",
      "4\n",
      "5\n"
     ]
    }
   ],
   "source": [
    "url = 'https://korean.visitkorea.or.kr/call'\n",
    "params = {\n",
    "    'cmd': 'TOUR_CONTENT_LIST_VIEW',\n",
    "    'month': 'All',\n",
    "    'areaCode': '5',\n",
    "    'sigunguCode': 'All',\n",
    "    'tagId': 'All',\n",
    "    'sortkind': '1',\n",
    "    'locationx': '0',\n",
    "    'locationy': '0',\n",
    "    'page': '1',\n",
    "    'cnt': '100',\n",
    "    'typeList': 'Tour',\n",
    "    'stampId': '1589345b-b030-11ea-b8bd-020027310001'\n",
    "}\n",
    "\n",
    "all_data = []  # 모든 페이지의 데이터를 저장할 리스트\n",
    "\n",
    "while True:\n",
    "    response = requests.get(url, params=params)\n",
    "    data = response.json()\n",
    "\n",
    "    # 받은 데이터에서 필요한 정보 추출\n",
    "    result_list = data.get('body', {}).get('result', [])\n",
    "    for item in result_list:\n",
    "        img_path = item.get('imgPath', '')\n",
    "        img_url = f'https://cdn.visitkorea.or.kr/img/call?cmd=VIEW&id={img_path}'\n",
    "        \n",
    "        extracted_data = {\n",
    "            '관광지명': item.get('TITLE', ''),\n",
    "            # 'catch': item.get('catchPhrase', ''),\n",
    "            # 'addr1': item.get('addr1', ''),\n",
    "            'img': img_url,\n",
    "            # 'cotid' : item.get('cotId', ''),\n",
    "            # 'areaCode' : item.get('areaCode', ''),\n",
    "            # 'cat1' : item.get('cat1', ''),\n",
    "            # 'cat2' : item.get('cat2', '')\n",
    "        }\n",
    "        \n",
    "        # cotid = extracted_data['cotid']\n",
    "        # cat1 = extracted_data['cat1']\n",
    "        # cat2 = extracted_data['cat2']\n",
    "        # areaCode = extracted_data['areaCode']\n",
    "        \n",
    "        # new_url = f'https://korean.visitkorea.or.kr/detail/ms_detail.do?cotid={cotid}&big_category={cat1}&mid_category={cat2}&big_area={areaCode}'\n",
    "        # response = requests.get(new_url)\n",
    "        # html = response.text\n",
    "        # soup = BeautifulSoup(html,'html.parser')\n",
    "        # description = soup.find('div',class_='blind').text\n",
    "        # description = description.replace('\\n','').replace('\\t','')\n",
    "        # extracted_data['description'] = description\n",
    "\n",
    "        all_data.append(extracted_data)\n",
    "    \n",
    "    # 다음 페이지로 이동\n",
    "    # if params['page'] in range(0,1000,100):\n",
    "    #     print('time sleep')\n",
    "    #     time.sleep(200)\n",
    "    # else:\n",
    "    \n",
    "    print(params['page'])\n",
    "    params['page'] = str(int(params['page']) + 1)\n",
    "    \n",
    "\n",
    "    # 만약 더 이상 페이지가 없으면 반복문 종료\n",
    "    if not result_list or len(all_data) == 493:\n",
    "        break"
   ]
  },
  {
   "cell_type": "code",
   "execution_count": 3,
   "metadata": {},
   "outputs": [],
   "source": [
    "import pandas as pd\n",
    "\n",
    "g = pd.read_csv('./data/gwangju.csv')\n",
    "gg = pd.read_csv('./광주/basic_info.csv')"
   ]
  },
  {
   "cell_type": "code",
   "execution_count": 7,
   "metadata": {},
   "outputs": [],
   "source": [
    "g = pd.merge(g,gg[['관광지명','catch','description']],on='관광지명',how='left')"
   ]
  },
  {
   "cell_type": "code",
   "execution_count": null,
   "metadata": {},
   "outputs": [],
   "source": [
    "df = pd.DataFrame(all_data)"
   ]
  },
  {
   "cell_type": "code",
   "execution_count": 13,
   "metadata": {},
   "outputs": [
    {
     "name": "stderr",
     "output_type": "stream",
     "text": [
      "100%|██████████| 493/493 [00:00<00:00, 492448.65it/s]\n"
     ]
    }
   ],
   "source": [
    "import re\n",
    "from tqdm import tqdmly(lambda x: re.sub(pattern, '', x))\n",
    "\n",
    "tqdm.pandas()\n",
    "df['관광지명'] = df['관광지명'].progress_apply(lambda x: x.replace(' ',''))\n",
    "\n",
    "pattern = re.compile(r'\\([^)]*\\)')\n",
    "df['관광지명'] = df['관광지명'].app"
   ]
  },
  {
   "cell_type": "code",
   "execution_count": 16,
   "metadata": {},
   "outputs": [],
   "source": [
    "g = pd.merge(g,df,on='관광지명',how='left')"
   ]
  },
  {
   "cell_type": "code",
   "execution_count": 36,
   "metadata": {},
   "outputs": [
    {
     "data": {
      "text/html": [
       "<div>\n",
       "<style scoped>\n",
       "    .dataframe tbody tr th:only-of-type {\n",
       "        vertical-align: middle;\n",
       "    }\n",
       "\n",
       "    .dataframe tbody tr th {\n",
       "        vertical-align: top;\n",
       "    }\n",
       "\n",
       "    .dataframe thead th {\n",
       "        text-align: right;\n",
       "    }\n",
       "</style>\n",
       "<table border=\"1\" class=\"dataframe\">\n",
       "  <thead>\n",
       "    <tr style=\"text-align: right;\">\n",
       "      <th></th>\n",
       "      <th>관광지명</th>\n",
       "    </tr>\n",
       "  </thead>\n",
       "  <tbody>\n",
       "  </tbody>\n",
       "</table>\n",
       "</div>"
      ],
      "text/plain": [
       "Empty DataFrame\n",
       "Columns: [관광지명]\n",
       "Index: []"
      ]
     },
     "execution_count": 36,
     "metadata": {},
     "output_type": "execute_result"
    }
   ],
   "source": [
    "g[g.img.isna()][['관광지명']]"
   ]
  },
  {
   "cell_type": "code",
   "execution_count": 35,
   "metadata": {},
   "outputs": [],
   "source": [
    "g.loc[18,'img'] = df.iloc[41]['img']\n",
    "g.loc[17,'img'] = df.iloc[85]['img']\n",
    "g.loc[30,'img'] = df.iloc[149]['img']\n",
    "g.loc[48,'img'] = df.iloc[38]['img']\n",
    "g.loc[42,'img'] = df.iloc[351]['img']\n",
    "g.loc[1,'img'] = df.iloc[40]['img']\n",
    "g.loc[47,'img'] = df.iloc[11]['img']\n",
    "g.loc[26,'img'] = df.iloc[27]['img']\n",
    "g.loc[40,'img'] = df.iloc[449]['img']\n",
    "g.loc[14,'img'] = df.iloc[83]['img']\n",
    "g.loc[19,'img'] = df.iloc[356]['img']\n",
    "g.loc[25,'img'] = df.iloc[138]['img']"
   ]
  },
  {
   "cell_type": "code",
   "execution_count": 42,
   "metadata": {},
   "outputs": [],
   "source": [
    "g = g.drop(['주소_x','sum'],axis=1).rename(columns={'주소_y':'주소'})"
   ]
  },
  {
   "cell_type": "code",
   "execution_count": 43,
   "metadata": {},
   "outputs": [],
   "source": [
    "g.to_csv('./data/gwangju.csv',encoding='utf-8',index=False)"
   ]
  },
  {
   "cell_type": "code",
   "execution_count": null,
   "metadata": {},
   "outputs": [],
   "source": []
  },
  {
   "cell_type": "code",
   "execution_count": 1,
   "metadata": {},
   "outputs": [],
   "source": [
    "import pandas as pd\n",
    "\n",
    "df = pd.read_csv('./광주/bus_info.csv')"
   ]
  },
  {
   "cell_type": "code",
   "execution_count": 4,
   "metadata": {},
   "outputs": [],
   "source": [
    "from selenium import webdriver\n",
    "from selenium.webdriver.chrome.service import Service\n",
    "import time\n",
    "from selenium.webdriver.common.action_chains import ActionChains\n",
    "from webdriver_manager.chrome import ChromeDriverManager\n",
    "from selenium.webdriver.common.by import By\n",
    "from selenium.webdriver.common.keys import Keys\n",
    "import re"
   ]
  },
  {
   "cell_type": "code",
   "execution_count": 10,
   "metadata": {},
   "outputs": [
    {
     "name": "stdout",
     "output_type": "stream",
     "text": [
      "김대중컨벤션센터 :: 총:33분 버스:24 지하철:0 걷가:9 요금:1,250 환승:0\n",
      "5·18기념공원 :: 총:29분 버스:18 지하철:0 걷가:12 요금:1,700 환승:1\n",
      "광주호호수생태원 :: 총:49분 버스:33 지하철:0 걷가:6 요금:None 환승:1\n",
      "국립광주과학관 :: 총:44분 버스:32 지하철:0 걷가:11 요금:None 환승:1\n",
      "국립광주박물관 :: 총:19분 버스:12 지하철:0 걷가:5 요금:1,250 환승:1\n",
      "광주시민의숲 :: 총:54분 버스:33 지하철:0 걷가:20 요금:1,250 환승:1\n",
      "오리요리의거리 :: 총:15분 버스:3 지하철:0 걷가:11 요금:1,250 환승:0\n",
      "광주사직공원 :: 총:31분 버스:15 지하철:0 걷가:15 요금:1,250 환승:1\n",
      "광주대인시장(대인예술시장) :: 총:11분 버스:6 지하철:0 걷가:6 요금:1,250 환승:0\n",
      "신광사(광주) :: 총:32분 버스:8 지하철:0 걷가:24 요금:1,250 환승:0\n",
      "동명동카페거리 :: 총:18분 버스:6 지하철:0 걷가:11 요금:1,250 환승:0\n",
      "송산유원지 :: 총:57분 버스:46 지하철:0 걷가:10 요금:1,250 환승:1\n",
      "증심사(광주) :: 총:21분 버스:14 지하철:0 걷가:6 요금:1,250 환승:0\n",
      "광주서광사 :: 총:23분 버스:12 지하철:0 걷가:11 요금:1,250 환승:0\n",
      "푸른길분수공원 :: 총:19분 버스:12 지하철:0 걷가:8 요금:1,250 환승:0\n",
      "광주비엔날레전시관 :: 총:26분 버스:12 지하철:0 걷가:13 요금:1,250 환승:1\n",
      "약사암(광주) :: 총:1시간27분 버스:23 지하철:0 걷가:64 요금:1,700 환승:0\n",
      "광주송정공원 :: 총:47분 버스:39 지하철:0 걷가:8 요금:1,250 환승:1\n",
      "광주수완호수공원 :: 총:41분 버스:29 지하철:0 걷가:12 요금:1,250 환승:0\n",
      "빛고을농촌테마공원 :: 총:52분 버스:38 지하철:0 걷가:13 요금:1,250 환승:1\n",
      "광주시립미술관 :: 총:27분 버스:9 지하철:0 걷가:18 요금:1,250 환승:1\n",
      "광주예술의거리 :: 총:18분 버스:11 지하철:0 걷가:8 요금:1,250 환승:0\n",
      "광주패밀리랜드 :: 총:55분 버스:26 지하철:0 걷가:25 요금:1,250 환승:1\n",
      "무각사 :: 총:36분 버스:20 지하철:0 걷가:16 요금:None 환승:0\n",
      "월봉서원 :: 총:1시간14분 버스:58 지하철:0 걷가:15 요금:1,250 환승:0\n",
      "지산유원지 :: 총:38분 버스:23 지하철:0 걷가:15 요금:1,250 환승:0\n",
      "광주포충사 :: 총:51분 버스:42 지하철:0 걷가:9 요금:1,250 환승:1\n",
      "풍암호수공원 :: 총:55분 버스:41 지하철:0 걷가:14 요금:1,250 환승:0\n",
      "고싸움놀이전수회관 :: 총:1시간5분 버스:48 지하철:0 걷가:14 요금:1,250 환승:2\n",
      "광주공원 :: 총:27분 버스:14 지하철:0 걷가:12 요금:1,250 환승:1\n"
     ]
    }
   ],
   "source": [
    "for i in range(len(df)):\n",
    "    url = 'https://map.naver.com/p/directions/14127476.0146588,4186379.4066277,%EA%B4%91%EC%A3%BC%EC%97%AD%20%EA%B4%91%EC%A3%BC%EC%84%A0,11630524,PLACE_POI/-/-/transit?c=14.20,0,0,0,dh'\n",
    "    service = Service(executable_path='./data/chromedriver.exe')\n",
    "    driver = webdriver.Chrome(service=Service(ChromeDriverManager().install()))\n",
    "    driver.get(url)\n",
    "    time.sleep(3)\n",
    "    \n",
    "    try : \n",
    "        for j in range(0, 5):\n",
    "            elements = driver.find_elements(By.ID, f'input_search:r{j}:')\n",
    "            if not elements:\n",
    "                continue\n",
    "            if elements:\n",
    "                if df.iloc[i]['관광지명'].startswith('광주'):\n",
    "                    time.sleep(3)\n",
    "                    driver.find_element(By.ID,f'input_search:r{j+1}:').send_keys(df.iloc[i]['관광지명'])\n",
    "                else:\n",
    "                    time.sleep(3)\n",
    "                    driver.find_element(By.ID,f'input_search:r{j+1}:').send_keys('광주',' ', df.iloc[i]['관광지명'])\n",
    "\n",
    "                time.sleep(3)\n",
    "                driver.find_element(By.ID,f'input_search:r{j+1}:').send_keys(Keys.ENTER)\n",
    "                time.sleep(2)\n",
    "                place_click = driver.find_element(By.CSS_SELECTOR,\"button.btn_direction.search.active\").click()\n",
    "                time.sleep(2)\n",
    "                \n",
    "                a = driver.find_element(By.CLASS_NAME,'item_btn').text\n",
    "                \n",
    "                total_time = re.search(r\"최적\\n(\\d+시간\\d+분|\\d+분|\\d+시간)\", a).group(1)\n",
    "                walking_time = sum(map(int,re.findall(r'도보\\n(\\d+)', a)))\n",
    "                if re.search(r'([\\d,]+)원', a):\n",
    "                    fare = re.search(r'([\\d,]+)원', a).group(1)\n",
    "                else:\n",
    "                    fare = None\n",
    "                bus_time = sum(int(i) for i in re.findall(r'버스\\n(\\d+)', a[:a.find('도착정보')]))\n",
    "                subway_time = sum(int(l) for l in re.findall(r'지하철\\n(\\d+?)분', a[:a.find('도착정보')]))\n",
    "                transfer = len(re.findall(r'버스\\n(\\d+)', a[:a.find('도착정보')])) + len(re.findall(r'지하철\\n(\\d+?)분', a[:a.find('도착정보')])) -1\n",
    "                \n",
    "                df.at[i,'total_time'] = total_time\n",
    "                df.at[i,'walking_time'] = walking_time\n",
    "                df.at[i,'fare'] = fare\n",
    "                df.at[i,'bus_time'] = bus_time\n",
    "                df.at[i,'subway_time'] = subway_time\n",
    "                df.at[i,'transfer'] = transfer\n",
    "            break\n",
    "    except : \n",
    "        check = input('장소 클릭')\n",
    "        if check.upper() == 'Y':\n",
    "            a = driver.find_element(By.CLASS_NAME,'item_btn').text\n",
    "            \n",
    "            total_time = re.search(r\"최적\\n(\\d+시간\\d+분|\\d+분|\\d+시간)\", a).group(1)\n",
    "            walking_time = sum(map(int,re.findall(r'도보\\n(\\d+)', a)))\n",
    "            if re.search(r'([\\d,]+)원', a):\n",
    "                fare = re.search(r'([\\d,]+)원', a).group(1)\n",
    "            else:\n",
    "                fare = None\n",
    "            bus_time = sum(int(i) for i in re.findall(r'버스\\n(\\d+)', a[:a.find('도착정보')]))\n",
    "            subway_time = sum(int(l) for l in re.findall(r'지하철\\n(\\d+?)분', a[:a.find('도착정보')]))\n",
    "            transfer = len(re.findall(r'버스\\n(\\d+)', a[:a.find('도착정보')])) + len(re.findall(r'지하철\\n(\\d+?)분', a[:a.find('도착정보')])) -1\n",
    "                \n",
    "            df.at[i,'total_time'] = total_time\n",
    "            df.at[i,'walking_time'] = walking_time\n",
    "            df.at[i,'fare'] = fare\n",
    "            df.at[i,'bus_time'] = bus_time\n",
    "            df.at[i,'subway_time'] = subway_time\n",
    "            df.at[i,'transfer'] = transfer\n",
    "        else:\n",
    "            df.at[i,'total_time'] = None\n",
    "            df.at[i,'walking_time'] = None\n",
    "            df.at[i,'fare'] = None\n",
    "            df.at[i,'bus_time'] = None\n",
    "            df.at[i,'subway_time'] = None\n",
    "            df.at[i,'transfer'] = None\n",
    "\n",
    "    print(f\"{df.iloc[i]['관광지명']} :: 총:{total_time} 버스:{bus_time} 지하철:{subway_time} 걷가:{walking_time} 요금:{fare} 환승:{transfer}\")\n",
    "    driver.quit()"
   ]
  },
  {
   "cell_type": "code",
   "execution_count": 6,
   "metadata": {},
   "outputs": [],
   "source": [
    "url = 'https://map.naver.com/p/directions/14127476.0146588,4186379.4066277,%EA%B4%91%EC%A3%BC%EC%97%AD%20%EA%B4%91%EC%A3%BC%EC%84%A0,11630524,PLACE_POI/-/-/transit?c=14.20,0,0,0,dh'\n",
    "service = Service(executable_path='./data/chromedriver.exe')\n",
    "driver = webdriver.Chrome(service=Service(ChromeDriverManager().install()))\n",
    "driver.get(url)\n",
    "time.sleep(3)"
   ]
  },
  {
   "cell_type": "code",
   "execution_count": 12,
   "metadata": {},
   "outputs": [],
   "source": [
    "df.to_csv('./광주/bus_info.csv',encoding='utf-8',index=False)"
   ]
  },
  {
   "cell_type": "code",
   "execution_count": null,
   "metadata": {},
   "outputs": [],
   "source": []
  }
 ],
 "metadata": {
  "kernelspec": {
   "display_name": "mulcam_3_9",
   "language": "python",
   "name": "mulcam_3_9"
  },
  "language_info": {
   "codemirror_mode": {
    "name": "ipython",
    "version": 3
   },
   "file_extension": ".py",
   "mimetype": "text/x-python",
   "name": "python",
   "nbconvert_exporter": "python",
   "pygments_lexer": "ipython3",
   "version": "3.9.18"
  }
 },
 "nbformat": 4,
 "nbformat_minor": 2
}
