{
 "cells": [
  {
   "cell_type": "code",
   "execution_count": 325,
   "metadata": {},
   "outputs": [],
   "source": [
    "import time\n",
    "import pandas as pd\n",
    "from selenium import webdriver\n",
    "from selenium.webdriver.common.by import By\n",
    "from selenium.webdriver.common.keys import Keys\n",
    "from selenium.webdriver.chrome.service import Service\n",
    "from webdriver_manager.chrome import ChromeDriverManager\n",
    "from selenium.common.exceptions import ElementClickInterceptedException"
   ]
  },
  {
   "cell_type": "code",
   "execution_count": 230,
   "metadata": {},
   "outputs": [],
   "source": [
    "# 크롬 접속\n",
    "driver = webdriver.Chrome(service=Service(ChromeDriverManager().install()))"
   ]
  },
  {
   "cell_type": "code",
   "execution_count": 303,
   "metadata": {},
   "outputs": [],
   "source": [
    "# 아고다 접속\n",
    "url = 'https://www.agoda.com/ko-kr/'\n",
    "driver.get(url)"
   ]
  },
  {
   "cell_type": "code",
   "execution_count": 169,
   "metadata": {},
   "outputs": [],
   "source": [
    "# 광고 제거\n",
    "driver.find_element('xpath','/html/body/div[12]/div[2]/div[3]/button[2]').click()"
   ]
  },
  {
   "cell_type": "code",
   "execution_count": 304,
   "metadata": {},
   "outputs": [],
   "source": [
    "# 검색창 클릭\n",
    "driver.find_element('xpath','//*[@id=\"textInput\"]').click()"
   ]
  },
  {
   "cell_type": "code",
   "execution_count": 305,
   "metadata": {},
   "outputs": [],
   "source": [
    "# 서울 입력\n",
    "driver.find_element('xpath','//*[@id=\"textInput\"]').send_keys('서울')"
   ]
  },
  {
   "cell_type": "code",
   "execution_count": 306,
   "metadata": {},
   "outputs": [],
   "source": [
    "# 서울 클릭\n",
    "driver.find_element('xpath','//*[@id=\"SearchBoxContainer\"]/div[1]/div/div[2]/div/div/div[6]/div/div/ul/li[1]').click()"
   ]
  },
  {
   "cell_type": "code",
   "execution_count": 307,
   "metadata": {},
   "outputs": [],
   "source": [
    "# 날짜 자동입력\n",
    "\n",
    "actions = ActionChains(driver)\n",
    "\n",
    "actions.send_keys(Keys.SPACE).perform()\n",
    "actions.send_keys(Keys.SPACE).perform()"
   ]
  },
  {
   "cell_type": "code",
   "execution_count": 308,
   "metadata": {},
   "outputs": [],
   "source": [
    "# 검색하기\n",
    "driver.find_element('xpath','//*[@id=\"SearchBoxContainer\"]/div[2]/div/button').click()"
   ]
  },
  {
   "cell_type": "code",
   "execution_count": 309,
   "metadata": {},
   "outputs": [],
   "source": [
    "# 탭 이동\n",
    "driver.switch_to.window(driver.window_handles[0])\n",
    "\n",
    "# 탭 닫기\n",
    "driver.close()\n",
    "\n",
    "# 탭 바꾸기\n",
    "driver.switch_to.window(driver.window_handles[0])"
   ]
  },
  {
   "cell_type": "code",
   "execution_count": 310,
   "metadata": {},
   "outputs": [],
   "source": [
    "# 호텔 체크\n",
    "driver.find_element('xpath','//*[@id=\"SideBarLocationFilters\"]/div[3]/div[2]/ul/li[1]/span/span[1]/span').click()"
   ]
  },
  {
   "cell_type": "code",
   "execution_count": 311,
   "metadata": {},
   "outputs": [],
   "source": [
    "# 5성급 체크\n",
    "driver.find_element('xpath','//*[@id=\"SideBarLocationFilters\"]/div[7]/div[2]/ul/li[1]/span/span[1]/span').click()"
   ]
  },
  {
   "cell_type": "code",
   "execution_count": 312,
   "metadata": {},
   "outputs": [],
   "source": [
    "# 스크롤 다운\n",
    "from selenium.webdriver.common.action_chains import ActionChains\n",
    "\n",
    "actions = ActionChains(driver)\n",
    "last_height = driver.execute_script('return document.body.scrollHeight')\n",
    "while True:\n",
    "    for _ in range (20):\n",
    "        actions.send_keys(Keys.SPACE).perform()\n",
    "        time.sleep(1)\n",
    "    new_height = driver.execute_script('return document.body.scrollHeight')\n",
    "    if new_height == last_height:\n",
    "        break\n",
    "    last_height = new_height\n"
   ]
  },
  {
   "cell_type": "code",
   "execution_count": 313,
   "metadata": {},
   "outputs": [
    {
     "data": {
      "text/plain": [
       "40"
      ]
     },
     "execution_count": 313,
     "metadata": {},
     "output_type": "execute_result"
    }
   ],
   "source": [
    "# 호텔명 가져오기\n",
    "names = []\n",
    "\n",
    "name_elements = driver.find_elements(By.CSS_SELECTOR, '.sc-jrAGrp.sc-kEjbxe.eDlaBj.dscgss')\n",
    "\n",
    "for element in name_elements:\n",
    "    text = element.text\n",
    "    names.append(text)\n",
    "\n",
    "len(names)"
   ]
  },
  {
   "cell_type": "code",
   "execution_count": 316,
   "metadata": {},
   "outputs": [
    {
     "data": {
      "text/plain": [
       "40"
      ]
     },
     "execution_count": 316,
     "metadata": {},
     "output_type": "execute_result"
    }
   ],
   "source": [
    "#호텔 url 가져오기\n",
    "urls = []\n",
    "\n",
    "url_elements = driver.find_elements(By.CLASS_NAME, 'PropertyCard__Link')\n",
    "for element in url_elements:\n",
    "    url = element.get_attribute('href')\n",
    "    urls.append(url)\n",
    "len(urls)"
   ]
  },
  {
   "cell_type": "code",
   "execution_count": null,
   "metadata": {},
   "outputs": [],
   "source": [
    "df = pd.DataFrame({'name':names,'url':urls})\n",
    "df"
   ]
  },
  {
   "cell_type": "code",
   "execution_count": null,
   "metadata": {},
   "outputs": [],
   "source": [
    "# 주소, 별점, 리뷰 가져오기\n",
    "\n",
    "address = []\n",
    "stars = []\n",
    "reviews = []\n",
    "\n",
    "for i in range(len(urls)):\n",
    "    # 호텔 url 들어가기 \n",
    "    driver.get(urls[i])\n",
    "    time.sleep(5)\n",
    "    \n",
    "    # 주소 가져오기\n",
    "    address.append(driver.find_element('xpath','//*[@id=\"property-main-content\"]/div[1]/div[2]/div[2]/span[1]').text)\n",
    "    \n",
    "    # 이용후기 누르기\n",
    "    driver.find_element('xpath','//*[@id=\"hotelNavBar\"]/div/ul/li[4]/button/span').click()\n",
    "    time.sleep(2)\n",
    "\n",
    "    while True:\n",
    "        # 별점 가져오기\n",
    "        star_elements = driver.find_elements(By.CLASS_NAME,'Review-comment-leftScore')\n",
    "        for element in star_elements:\n",
    "            star = element.text\n",
    "            stars.append(star)\n",
    "            \n",
    "        # 리뷰 가져오기\n",
    "        review_elements = driver.find_elements(By.CLASS_NAME,'Review-comment-bodyText')\n",
    "        for element in review_elements:\n",
    "            review = element.text\n",
    "            reviews.append(review)\n",
    "        \n",
    "        # 페이지 넘기기\n",
    "        # driver.find_element('xpath','//*[@id=\"reviewSection\"]/div[4]/div/span[3]/i').click()\n",
    "        # time.sleep(1)\n",
    "\n",
    "        try:\n",
    "            driver.find_element('xpath','//*[@id=\"reviewSection\"]/div[4]/div/span[3]/i').click()\n",
    "            time.sleep(1)\n",
    "        except ElementClickInterceptedException:\n",
    "            # 다음 페이지가 없으면 while 루프 종료\n",
    "            break\n",
    "    \n",
    "    # 데이터 추가하기\n",
    "    df[]\n",
    "    \n",
    "    # 다음 호텔로 넘어가기\n",
    "    continue"
   ]
  },
  {
   "cell_type": "code",
   "execution_count": 296,
   "metadata": {},
   "outputs": [
    {
     "data": {
      "text/plain": [
       "1129"
      ]
     },
     "execution_count": 296,
     "metadata": {},
     "output_type": "execute_result"
    }
   ],
   "source": [
    "len(stars)"
   ]
  },
  {
   "cell_type": "code",
   "execution_count": 292,
   "metadata": {},
   "outputs": [
    {
     "data": {
      "text/plain": [
       "1129"
      ]
     },
     "execution_count": 292,
     "metadata": {},
     "output_type": "execute_result"
    }
   ],
   "source": [
    "len(reviews)"
   ]
  },
  {
   "cell_type": "code",
   "execution_count": 294,
   "metadata": {},
   "outputs": [
    {
     "data": {
      "text/plain": [
       "['워커힐로 177, 광진, 서울, 대한민국, 04963']"
      ]
     },
     "execution_count": 294,
     "metadata": {},
     "output_type": "execute_result"
    }
   ],
   "source": [
    "address"
   ]
  },
  {
   "cell_type": "code",
   "execution_count": null,
   "metadata": {},
   "outputs": [],
   "source": [
    "names"
   ]
  },
  {
   "cell_type": "code",
   "execution_count": null,
   "metadata": {},
   "outputs": [],
   "source": [
    "urls"
   ]
  },
  {
   "cell_type": "code",
   "execution_count": null,
   "metadata": {},
   "outputs": [],
   "source": [
    "df = pd.DataFrame({'name':names,'url':urls,'address':address}"
   ]
  },
  {
   "cell_type": "code",
   "execution_count": null,
   "metadata": {},
   "outputs": [],
   "source": []
  },
  {
   "cell_type": "code",
   "execution_count": 243,
   "metadata": {},
   "outputs": [],
   "source": [
    "driver.find_element('xpath','//*[@id=\"reviewSection\"]/div[4]/div/span[3]/i').click()"
   ]
  },
  {
   "cell_type": "code",
   "execution_count": null,
   "metadata": {},
   "outputs": [],
   "source": []
  },
  {
   "cell_type": "code",
   "execution_count": null,
   "metadata": {},
   "outputs": [],
   "source": []
  },
  {
   "cell_type": "code",
   "execution_count": 15,
   "metadata": {},
   "outputs": [],
   "source": [
    "\n",
    "driver.find_element('xpath','//*[@id=\"textInput\"]').send_keys(Keys.ENTER)"
   ]
  },
  {
   "cell_type": "code",
   "execution_count": 14,
   "metadata": {},
   "outputs": [
    {
     "ename": "ElementNotInteractableException",
     "evalue": "Message: element not interactable\n  (Session info: chrome=120.0.6099.110)\nStacktrace:\n\tGetHandleVerifier [0x01196EE3+174339]\n\t(No symbol) [0x010C0A51]\n\t(No symbol) [0x00DD6E8A]\n\t(No symbol) [0x00E0A6B1]\n\t(No symbol) [0x00E02B4E]\n\t(No symbol) [0x00E2700C]\n\t(No symbol) [0x00E025B0]\n\t(No symbol) [0x00E27414]\n\t(No symbol) [0x00E3A104]\n\t(No symbol) [0x00E26DA6]\n\t(No symbol) [0x00E01034]\n\t(No symbol) [0x00E01F8D]\n\tGetHandleVerifier [0x01234B1C+820540]\n\tsqlite3_dbdata_init [0x012F53EE+653550]\n\tsqlite3_dbdata_init [0x012F4E09+652041]\n\tsqlite3_dbdata_init [0x012E97CC+605388]\n\tsqlite3_dbdata_init [0x012F5D9B+656027]\n\t(No symbol) [0x010CFE6C]\n\t(No symbol) [0x010C83B8]\n\t(No symbol) [0x010C84DD]\n\t(No symbol) [0x010B5818]\n\tBaseThreadInitThunk [0x773AFCC9+25]\n\tRtlGetAppContainerNamedObjectPath [0x77847C6E+286]\n\tRtlGetAppContainerNamedObjectPath [0x77847C3E+238]\n",
     "output_type": "error",
     "traceback": [
      "\u001b[1;31m---------------------------------------------------------------------------\u001b[0m",
      "\u001b[1;31mElementNotInteractableException\u001b[0m           Traceback (most recent call last)",
      "Cell \u001b[1;32mIn[14], line 1\u001b[0m\n\u001b[1;32m----> 1\u001b[0m \u001b[43mdriver\u001b[49m\u001b[38;5;241;43m.\u001b[39;49m\u001b[43mfind_element\u001b[49m\u001b[43m(\u001b[49m\u001b[38;5;124;43m'\u001b[39;49m\u001b[38;5;124;43mxpath\u001b[39;49m\u001b[38;5;124;43m'\u001b[39;49m\u001b[43m,\u001b[49m\u001b[38;5;124;43m'\u001b[39;49m\u001b[38;5;124;43m//*[@id=\u001b[39;49m\u001b[38;5;124;43m\"\u001b[39;49m\u001b[38;5;124;43mdrone-icon-container\u001b[39;49m\u001b[38;5;124;43m\"\u001b[39;49m\u001b[38;5;124;43m]\u001b[39;49m\u001b[38;5;124;43m'\u001b[39;49m\u001b[43m)\u001b[49m\u001b[38;5;241;43m.\u001b[39;49m\u001b[43mclick\u001b[49m\u001b[43m(\u001b[49m\u001b[43m)\u001b[49m\n",
      "File \u001b[1;32mc:\\Users\\xzv22\\.conda\\envs\\mulcam_3_9\\lib\\site-packages\\selenium\\webdriver\\remote\\webelement.py:93\u001b[0m, in \u001b[0;36mWebElement.click\u001b[1;34m(self)\u001b[0m\n\u001b[0;32m     91\u001b[0m \u001b[38;5;28;01mdef\u001b[39;00m \u001b[38;5;21mclick\u001b[39m(\u001b[38;5;28mself\u001b[39m) \u001b[38;5;241m-\u001b[39m\u001b[38;5;241m>\u001b[39m \u001b[38;5;28;01mNone\u001b[39;00m:\n\u001b[0;32m     92\u001b[0m \u001b[38;5;250m    \u001b[39m\u001b[38;5;124;03m\"\"\"Clicks the element.\"\"\"\u001b[39;00m\n\u001b[1;32m---> 93\u001b[0m     \u001b[38;5;28;43mself\u001b[39;49m\u001b[38;5;241;43m.\u001b[39;49m\u001b[43m_execute\u001b[49m\u001b[43m(\u001b[49m\u001b[43mCommand\u001b[49m\u001b[38;5;241;43m.\u001b[39;49m\u001b[43mCLICK_ELEMENT\u001b[49m\u001b[43m)\u001b[49m\n",
      "File \u001b[1;32mc:\\Users\\xzv22\\.conda\\envs\\mulcam_3_9\\lib\\site-packages\\selenium\\webdriver\\remote\\webelement.py:394\u001b[0m, in \u001b[0;36mWebElement._execute\u001b[1;34m(self, command, params)\u001b[0m\n\u001b[0;32m    392\u001b[0m     params \u001b[38;5;241m=\u001b[39m {}\n\u001b[0;32m    393\u001b[0m params[\u001b[38;5;124m\"\u001b[39m\u001b[38;5;124mid\u001b[39m\u001b[38;5;124m\"\u001b[39m] \u001b[38;5;241m=\u001b[39m \u001b[38;5;28mself\u001b[39m\u001b[38;5;241m.\u001b[39m_id\n\u001b[1;32m--> 394\u001b[0m \u001b[38;5;28;01mreturn\u001b[39;00m \u001b[38;5;28;43mself\u001b[39;49m\u001b[38;5;241;43m.\u001b[39;49m\u001b[43m_parent\u001b[49m\u001b[38;5;241;43m.\u001b[39;49m\u001b[43mexecute\u001b[49m\u001b[43m(\u001b[49m\u001b[43mcommand\u001b[49m\u001b[43m,\u001b[49m\u001b[43m \u001b[49m\u001b[43mparams\u001b[49m\u001b[43m)\u001b[49m\n",
      "File \u001b[1;32mc:\\Users\\xzv22\\.conda\\envs\\mulcam_3_9\\lib\\site-packages\\selenium\\webdriver\\remote\\webdriver.py:344\u001b[0m, in \u001b[0;36mWebDriver.execute\u001b[1;34m(self, driver_command, params)\u001b[0m\n\u001b[0;32m    342\u001b[0m response \u001b[38;5;241m=\u001b[39m \u001b[38;5;28mself\u001b[39m\u001b[38;5;241m.\u001b[39mcommand_executor\u001b[38;5;241m.\u001b[39mexecute(driver_command, params)\n\u001b[0;32m    343\u001b[0m \u001b[38;5;28;01mif\u001b[39;00m response:\n\u001b[1;32m--> 344\u001b[0m     \u001b[38;5;28;43mself\u001b[39;49m\u001b[38;5;241;43m.\u001b[39;49m\u001b[43merror_handler\u001b[49m\u001b[38;5;241;43m.\u001b[39;49m\u001b[43mcheck_response\u001b[49m\u001b[43m(\u001b[49m\u001b[43mresponse\u001b[49m\u001b[43m)\u001b[49m\n\u001b[0;32m    345\u001b[0m     response[\u001b[38;5;124m\"\u001b[39m\u001b[38;5;124mvalue\u001b[39m\u001b[38;5;124m\"\u001b[39m] \u001b[38;5;241m=\u001b[39m \u001b[38;5;28mself\u001b[39m\u001b[38;5;241m.\u001b[39m_unwrap_value(response\u001b[38;5;241m.\u001b[39mget(\u001b[38;5;124m\"\u001b[39m\u001b[38;5;124mvalue\u001b[39m\u001b[38;5;124m\"\u001b[39m, \u001b[38;5;28;01mNone\u001b[39;00m))\n\u001b[0;32m    346\u001b[0m     \u001b[38;5;28;01mreturn\u001b[39;00m response\n",
      "File \u001b[1;32mc:\\Users\\xzv22\\.conda\\envs\\mulcam_3_9\\lib\\site-packages\\selenium\\webdriver\\remote\\errorhandler.py:229\u001b[0m, in \u001b[0;36mErrorHandler.check_response\u001b[1;34m(self, response)\u001b[0m\n\u001b[0;32m    227\u001b[0m         alert_text \u001b[38;5;241m=\u001b[39m value[\u001b[38;5;124m\"\u001b[39m\u001b[38;5;124malert\u001b[39m\u001b[38;5;124m\"\u001b[39m]\u001b[38;5;241m.\u001b[39mget(\u001b[38;5;124m\"\u001b[39m\u001b[38;5;124mtext\u001b[39m\u001b[38;5;124m\"\u001b[39m)\n\u001b[0;32m    228\u001b[0m     \u001b[38;5;28;01mraise\u001b[39;00m exception_class(message, screen, stacktrace, alert_text)  \u001b[38;5;66;03m# type: ignore[call-arg]  # mypy is not smart enough here\u001b[39;00m\n\u001b[1;32m--> 229\u001b[0m \u001b[38;5;28;01mraise\u001b[39;00m exception_class(message, screen, stacktrace)\n",
      "\u001b[1;31mElementNotInteractableException\u001b[0m: Message: element not interactable\n  (Session info: chrome=120.0.6099.110)\nStacktrace:\n\tGetHandleVerifier [0x01196EE3+174339]\n\t(No symbol) [0x010C0A51]\n\t(No symbol) [0x00DD6E8A]\n\t(No symbol) [0x00E0A6B1]\n\t(No symbol) [0x00E02B4E]\n\t(No symbol) [0x00E2700C]\n\t(No symbol) [0x00E025B0]\n\t(No symbol) [0x00E27414]\n\t(No symbol) [0x00E3A104]\n\t(No symbol) [0x00E26DA6]\n\t(No symbol) [0x00E01034]\n\t(No symbol) [0x00E01F8D]\n\tGetHandleVerifier [0x01234B1C+820540]\n\tsqlite3_dbdata_init [0x012F53EE+653550]\n\tsqlite3_dbdata_init [0x012F4E09+652041]\n\tsqlite3_dbdata_init [0x012E97CC+605388]\n\tsqlite3_dbdata_init [0x012F5D9B+656027]\n\t(No symbol) [0x010CFE6C]\n\t(No symbol) [0x010C83B8]\n\t(No symbol) [0x010C84DD]\n\t(No symbol) [0x010B5818]\n\tBaseThreadInitThunk [0x773AFCC9+25]\n\tRtlGetAppContainerNamedObjectPath [0x77847C6E+286]\n\tRtlGetAppContainerNamedObjectPath [0x77847C3E+238]\n"
     ]
    }
   ],
   "source": [
    "driver.find_element('xpath','//*[@id=\"drone-icon-container\"]').click()"
   ]
  },
  {
   "cell_type": "code",
   "execution_count": null,
   "metadata": {},
   "outputs": [],
   "source": []
  }
 ],
 "metadata": {
  "kernelspec": {
   "display_name": "mulcam_3_9",
   "language": "python",
   "name": "mulcam_3_9"
  },
  "language_info": {
   "codemirror_mode": {
    "name": "ipython",
    "version": 3
   },
   "file_extension": ".py",
   "mimetype": "text/x-python",
   "name": "python",
   "nbconvert_exporter": "python",
   "pygments_lexer": "ipython3",
   "version": "3.9.18"
  }
 },
 "nbformat": 4,
 "nbformat_minor": 2
}
