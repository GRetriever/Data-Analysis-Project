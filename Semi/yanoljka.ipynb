{
 "cells": [
  {
   "cell_type": "code",
   "execution_count": 1,
   "metadata": {},
   "outputs": [],
   "source": [
    "import time\n",
    "import pandas as pd\n",
    "from selenium import webdriver\n",
    "from selenium.webdriver.common.by import By\n",
    "from selenium.webdriver.common.keys import Keys\n",
    "from selenium.webdriver.support.ui import Select\n",
    "from selenium.webdriver.chrome.service import Service\n",
    "from webdriver_manager.chrome import ChromeDriverManager\n",
    "from selenium.common.exceptions import NoSuchElementException\n",
    "from selenium.webdriver.common.action_chains import ActionChains\n",
    "from selenium.common.exceptions import ElementClickInterceptedException\n"
   ]
  },
  {
   "cell_type": "markdown",
   "metadata": {},
   "source": [
    "5성급 호텔 리뷰 웹크롤링"
   ]
  },
  {
   "cell_type": "code",
   "execution_count": 104,
   "metadata": {},
   "outputs": [],
   "source": [
    "# 크롬 접속\n",
    "driver = webdriver.Chrome(service=Service(ChromeDriverManager().install()))"
   ]
  },
  {
   "cell_type": "code",
   "execution_count": 25,
   "metadata": {},
   "outputs": [],
   "source": [
    "# 아고다 접속\n",
    "url = 'https://www.agoda.com/ko-kr/'\n",
    "driver.get(url)"
   ]
  },
  {
   "cell_type": "code",
   "execution_count": 26,
   "metadata": {},
   "outputs": [],
   "source": [
    "# 광고 제거\n",
    "driver.find_element('xpath','/html/body/div[12]/div[2]/div[3]/button[2]').click()"
   ]
  },
  {
   "cell_type": "code",
   "execution_count": 27,
   "metadata": {},
   "outputs": [],
   "source": [
    "# 검색창 클릭\n",
    "driver.find_element('xpath','//*[@id=\"textInput\"]').click()"
   ]
  },
  {
   "cell_type": "code",
   "execution_count": 28,
   "metadata": {},
   "outputs": [],
   "source": [
    "# 서울 입력\n",
    "driver.find_element('xpath','//*[@id=\"textInput\"]').send_keys('서울')"
   ]
  },
  {
   "cell_type": "code",
   "execution_count": 29,
   "metadata": {},
   "outputs": [],
   "source": [
    "# 서울 클릭\n",
    "driver.find_element('xpath','//*[@id=\"SearchBoxContainer\"]/div[1]/div/div[2]/div/div/div[6]/div/div/ul/li[1]').click()"
   ]
  },
  {
   "cell_type": "code",
   "execution_count": 30,
   "metadata": {},
   "outputs": [],
   "source": [
    "# 날짜 자동입력\n",
    "\n",
    "actions = ActionChains(driver)\n",
    "\n",
    "actions.send_keys(Keys.SPACE).perform()\n",
    "actions.send_keys(Keys.SPACE).perform()"
   ]
  },
  {
   "cell_type": "code",
   "execution_count": 31,
   "metadata": {},
   "outputs": [],
   "source": [
    "# 검색하기\n",
    "driver.find_element('xpath','//*[@id=\"SearchBoxContainer\"]/div[2]/div/button').click()"
   ]
  },
  {
   "cell_type": "code",
   "execution_count": 32,
   "metadata": {},
   "outputs": [],
   "source": [
    "# 탭 이동\n",
    "driver.switch_to.window(driver.window_handles[0])\n",
    "\n",
    "# 탭 닫기\n",
    "driver.close()\n",
    "\n",
    "# 탭 바꾸기\n",
    "driver.switch_to.window(driver.window_handles[0])"
   ]
  },
  {
   "cell_type": "code",
   "execution_count": 33,
   "metadata": {},
   "outputs": [],
   "source": [
    "# 호텔 체크\n",
    "driver.find_element(By.CSS_SELECTOR,'#SideBarLocationFilters > div:nth-child(2) > div.filter-items > ul > li:nth-child(1) > span > span:nth-child(1) > span').click()"
   ]
  },
  {
   "cell_type": "code",
   "execution_count": 34,
   "metadata": {},
   "outputs": [],
   "source": [
    "# 5성급 체크\n",
    "driver.find_element(By.CSS_SELECTOR,'#SideBarLocationFilters > div:nth-child(3) > div.filter-items > ul > li:nth-child(1) > span > span:nth-child(1) > span').click()"
   ]
  },
  {
   "cell_type": "code",
   "execution_count": 35,
   "metadata": {},
   "outputs": [],
   "source": [
    "# 스크롤 다운\n",
    "actions = ActionChains(driver)\n",
    "last_height = driver.execute_script('return document.body.scrollHeight')\n",
    "while True:\n",
    "    for _ in range (15):\n",
    "        actions.send_keys(Keys.SPACE).perform()\n",
    "        time.sleep(1)\n",
    "    new_height = driver.execute_script('return document.body.scrollHeight')\n",
    "    if new_height == last_height:\n",
    "        break\n",
    "    last_height = new_height\n"
   ]
  },
  {
   "cell_type": "code",
   "execution_count": 36,
   "metadata": {},
   "outputs": [
    {
     "data": {
      "text/plain": [
       "38"
      ]
     },
     "execution_count": 36,
     "metadata": {},
     "output_type": "execute_result"
    }
   ],
   "source": [
    "# 호텔명 가져오기\n",
    "names = []\n",
    "\n",
    "name_elements = driver.find_elements(By.CSS_SELECTOR, '.sc-jrAGrp.sc-kEjbxe.eDlaBj.dscgss')\n",
    "\n",
    "for element in name_elements:\n",
    "    text = element.text\n",
    "    names.append(text)\n",
    "\n",
    "len(names)"
   ]
  },
  {
   "cell_type": "code",
   "execution_count": 37,
   "metadata": {},
   "outputs": [
    {
     "data": {
      "text/plain": [
       "38"
      ]
     },
     "execution_count": 37,
     "metadata": {},
     "output_type": "execute_result"
    }
   ],
   "source": [
    "#호텔 url 가져오기\n",
    "urls = []\n",
    "\n",
    "url_elements = driver.find_elements(By.CLASS_NAME, 'PropertyCard__Link')\n",
    "for element in url_elements:\n",
    "    url = element.get_attribute('href')\n",
    "    urls.append(url)\n",
    "len(urls)"
   ]
  },
  {
   "cell_type": "code",
   "execution_count": 38,
   "metadata": {},
   "outputs": [],
   "source": [
    "df = pd.DataFrame({\n",
    "    'name':names,\n",
    "    'url':urls,\n",
    "    'address':None,\n",
    "    'rating':None,\n",
    "    'review_rating':None,\n",
    "    'review_star' : None,\n",
    "    'review':None\n",
    "})"
   ]
  },
  {
   "cell_type": "code",
   "execution_count": 550,
   "metadata": {},
   "outputs": [],
   "source": [
    "\n",
    "# from selenium.webdriver.support.ui import WebDriverWait\n",
    "# from selenium.webdriver.support import expected_conditions as EC"
   ]
  },
  {
   "cell_type": "code",
   "execution_count": 559,
   "metadata": {},
   "outputs": [],
   "source": [
    "driver.find_element(By.CSS_SELECTOR,'#reviewFilterSection > div.sc-bdfBwQ.sc-gsTCUz.gdcQLK > div.sc-bdfBwQ.sc-gsTCUz.djZOQg > div > div > label > div.sc-bdfBwQ.sc-gsTCUz.bqqCNI > span > select').click()"
   ]
  },
  {
   "cell_type": "code",
   "execution_count": 560,
   "metadata": {},
   "outputs": [],
   "source": [
    "# 언어 선택 드롭다운 찾기\n",
    "language_dropdown = Select(driver.find_element(By.CSS_SELECTOR, '#reviewFilterSection > div.sc-bdfBwQ.sc-gsTCUz.gdcQLK > div.sc-bdfBwQ.sc-gsTCUz.djZOQg > div > div > label > div.sc-bdfBwQ.sc-gsTCUz.bqqCNI > span > select'))\n",
    "\n",
    "# \"한국어\" 선택\n",
    "language_dropdown.select_by_visible_text(\"한국어\")"
   ]
  },
  {
   "cell_type": "code",
   "execution_count": 93,
   "metadata": {},
   "outputs": [
    {
     "ename": "NoSuchElementException",
     "evalue": "Message: no such element: Unable to locate element: {\"method\":\"css selector\",\"selector\":\"#reviewFilterSection > div.sc-bdfBwQ.sc-gsTCUz.gdcQLK > div.sc-bdfBwQ.sc-gsTCUz.djZOQg > div > div > label > div.sc-bdfBwQ.sc-gsTCUz.bqqCNI > span > select\"}\n  (Session info: chrome=120.0.6099.110); For documentation on this error, please visit: https://www.selenium.dev/documentation/webdriver/troubleshooting/errors#no-such-element-exception\nStacktrace:\n\tGetHandleVerifier [0x006D6EE3+174339]\n\t(No symbol) [0x00600A51]\n\t(No symbol) [0x00316FF6]\n\t(No symbol) [0x00349876]\n\t(No symbol) [0x00349C2C]\n\t(No symbol) [0x0037BD42]\n\t(No symbol) [0x00367054]\n\t(No symbol) [0x0037A104]\n\t(No symbol) [0x00366DA6]\n\t(No symbol) [0x00341034]\n\t(No symbol) [0x00341F8D]\n\tGetHandleVerifier [0x00774B1C+820540]\n\tsqlite3_dbdata_init [0x008353EE+653550]\n\tsqlite3_dbdata_init [0x00834E09+652041]\n\tsqlite3_dbdata_init [0x008297CC+605388]\n\tsqlite3_dbdata_init [0x00835D9B+656027]\n\t(No symbol) [0x0060FE6C]\n\t(No symbol) [0x006083B8]\n\t(No symbol) [0x006084DD]\n\t(No symbol) [0x005F5818]\n\tBaseThreadInitThunk [0x773AFCC9+25]\n\tRtlGetAppContainerNamedObjectPath [0x77847C6E+286]\n\tRtlGetAppContainerNamedObjectPath [0x77847C3E+238]\n",
     "output_type": "error",
     "traceback": [
      "\u001b[1;31m---------------------------------------------------------------------------\u001b[0m",
      "\u001b[1;31mNoSuchElementException\u001b[0m                    Traceback (most recent call last)",
      "Cell \u001b[1;32mIn[93], line 27\u001b[0m\n\u001b[0;32m     25\u001b[0m \u001b[38;5;66;03m# 언어 변경\u001b[39;00m\n\u001b[0;32m     26\u001b[0m \u001b[38;5;28;01mtry\u001b[39;00m:\n\u001b[1;32m---> 27\u001b[0m     language_dropdown \u001b[38;5;241m=\u001b[39m Select(\u001b[43mdriver\u001b[49m\u001b[38;5;241;43m.\u001b[39;49m\u001b[43mfind_element\u001b[49m\u001b[43m(\u001b[49m\u001b[43mBy\u001b[49m\u001b[38;5;241;43m.\u001b[39;49m\u001b[43mCSS_SELECTOR\u001b[49m\u001b[43m,\u001b[49m\u001b[43m \u001b[49m\u001b[38;5;124;43m'\u001b[39;49m\u001b[38;5;124;43m#reviewFilterSection > div.sc-bdfBwQ.sc-gsTCUz.gdcQLK > div.sc-bdfBwQ.sc-gsTCUz.djZOQg > div > div > label > div.sc-bdfBwQ.sc-gsTCUz.bqqCNI > span > select\u001b[39;49m\u001b[38;5;124;43m'\u001b[39;49m\u001b[43m)\u001b[49m)\n\u001b[0;32m     28\u001b[0m     \u001b[38;5;66;03m# driver.find_element(By.XPATH, '//*[@id=\"reviewFilterSection\"]/div[1]/div[3]/span/i[2]').click() #21번 전까지\u001b[39;00m\n\u001b[0;32m     29\u001b[0m     time\u001b[38;5;241m.\u001b[39msleep(\u001b[38;5;241m2\u001b[39m)\n",
      "File \u001b[1;32mc:\\Users\\xzv22\\.conda\\envs\\mulcam_3_9\\lib\\site-packages\\selenium\\webdriver\\remote\\webdriver.py:738\u001b[0m, in \u001b[0;36mWebDriver.find_element\u001b[1;34m(self, by, value)\u001b[0m\n\u001b[0;32m    735\u001b[0m     by \u001b[38;5;241m=\u001b[39m By\u001b[38;5;241m.\u001b[39mCSS_SELECTOR\n\u001b[0;32m    736\u001b[0m     value \u001b[38;5;241m=\u001b[39m \u001b[38;5;124mf\u001b[39m\u001b[38;5;124m'\u001b[39m\u001b[38;5;124m[name=\u001b[39m\u001b[38;5;124m\"\u001b[39m\u001b[38;5;132;01m{\u001b[39;00mvalue\u001b[38;5;132;01m}\u001b[39;00m\u001b[38;5;124m\"\u001b[39m\u001b[38;5;124m]\u001b[39m\u001b[38;5;124m'\u001b[39m\n\u001b[1;32m--> 738\u001b[0m \u001b[38;5;28;01mreturn\u001b[39;00m \u001b[38;5;28;43mself\u001b[39;49m\u001b[38;5;241;43m.\u001b[39;49m\u001b[43mexecute\u001b[49m\u001b[43m(\u001b[49m\u001b[43mCommand\u001b[49m\u001b[38;5;241;43m.\u001b[39;49m\u001b[43mFIND_ELEMENT\u001b[49m\u001b[43m,\u001b[49m\u001b[43m \u001b[49m\u001b[43m{\u001b[49m\u001b[38;5;124;43m\"\u001b[39;49m\u001b[38;5;124;43musing\u001b[39;49m\u001b[38;5;124;43m\"\u001b[39;49m\u001b[43m:\u001b[49m\u001b[43m \u001b[49m\u001b[43mby\u001b[49m\u001b[43m,\u001b[49m\u001b[43m \u001b[49m\u001b[38;5;124;43m\"\u001b[39;49m\u001b[38;5;124;43mvalue\u001b[39;49m\u001b[38;5;124;43m\"\u001b[39;49m\u001b[43m:\u001b[49m\u001b[43m \u001b[49m\u001b[43mvalue\u001b[49m\u001b[43m}\u001b[49m\u001b[43m)\u001b[49m[\u001b[38;5;124m\"\u001b[39m\u001b[38;5;124mvalue\u001b[39m\u001b[38;5;124m\"\u001b[39m]\n",
      "File \u001b[1;32mc:\\Users\\xzv22\\.conda\\envs\\mulcam_3_9\\lib\\site-packages\\selenium\\webdriver\\remote\\webdriver.py:344\u001b[0m, in \u001b[0;36mWebDriver.execute\u001b[1;34m(self, driver_command, params)\u001b[0m\n\u001b[0;32m    342\u001b[0m response \u001b[38;5;241m=\u001b[39m \u001b[38;5;28mself\u001b[39m\u001b[38;5;241m.\u001b[39mcommand_executor\u001b[38;5;241m.\u001b[39mexecute(driver_command, params)\n\u001b[0;32m    343\u001b[0m \u001b[38;5;28;01mif\u001b[39;00m response:\n\u001b[1;32m--> 344\u001b[0m     \u001b[38;5;28;43mself\u001b[39;49m\u001b[38;5;241;43m.\u001b[39;49m\u001b[43merror_handler\u001b[49m\u001b[38;5;241;43m.\u001b[39;49m\u001b[43mcheck_response\u001b[49m\u001b[43m(\u001b[49m\u001b[43mresponse\u001b[49m\u001b[43m)\u001b[49m\n\u001b[0;32m    345\u001b[0m     response[\u001b[38;5;124m\"\u001b[39m\u001b[38;5;124mvalue\u001b[39m\u001b[38;5;124m\"\u001b[39m] \u001b[38;5;241m=\u001b[39m \u001b[38;5;28mself\u001b[39m\u001b[38;5;241m.\u001b[39m_unwrap_value(response\u001b[38;5;241m.\u001b[39mget(\u001b[38;5;124m\"\u001b[39m\u001b[38;5;124mvalue\u001b[39m\u001b[38;5;124m\"\u001b[39m, \u001b[38;5;28;01mNone\u001b[39;00m))\n\u001b[0;32m    346\u001b[0m     \u001b[38;5;28;01mreturn\u001b[39;00m response\n",
      "File \u001b[1;32mc:\\Users\\xzv22\\.conda\\envs\\mulcam_3_9\\lib\\site-packages\\selenium\\webdriver\\remote\\errorhandler.py:229\u001b[0m, in \u001b[0;36mErrorHandler.check_response\u001b[1;34m(self, response)\u001b[0m\n\u001b[0;32m    227\u001b[0m         alert_text \u001b[38;5;241m=\u001b[39m value[\u001b[38;5;124m\"\u001b[39m\u001b[38;5;124malert\u001b[39m\u001b[38;5;124m\"\u001b[39m]\u001b[38;5;241m.\u001b[39mget(\u001b[38;5;124m\"\u001b[39m\u001b[38;5;124mtext\u001b[39m\u001b[38;5;124m\"\u001b[39m)\n\u001b[0;32m    228\u001b[0m     \u001b[38;5;28;01mraise\u001b[39;00m exception_class(message, screen, stacktrace, alert_text)  \u001b[38;5;66;03m# type: ignore[call-arg]  # mypy is not smart enough here\u001b[39;00m\n\u001b[1;32m--> 229\u001b[0m \u001b[38;5;28;01mraise\u001b[39;00m exception_class(message, screen, stacktrace)\n",
      "\u001b[1;31mNoSuchElementException\u001b[0m: Message: no such element: Unable to locate element: {\"method\":\"css selector\",\"selector\":\"#reviewFilterSection > div.sc-bdfBwQ.sc-gsTCUz.gdcQLK > div.sc-bdfBwQ.sc-gsTCUz.djZOQg > div > div > label > div.sc-bdfBwQ.sc-gsTCUz.bqqCNI > span > select\"}\n  (Session info: chrome=120.0.6099.110); For documentation on this error, please visit: https://www.selenium.dev/documentation/webdriver/troubleshooting/errors#no-such-element-exception\nStacktrace:\n\tGetHandleVerifier [0x006D6EE3+174339]\n\t(No symbol) [0x00600A51]\n\t(No symbol) [0x00316FF6]\n\t(No symbol) [0x00349876]\n\t(No symbol) [0x00349C2C]\n\t(No symbol) [0x0037BD42]\n\t(No symbol) [0x00367054]\n\t(No symbol) [0x0037A104]\n\t(No symbol) [0x00366DA6]\n\t(No symbol) [0x00341034]\n\t(No symbol) [0x00341F8D]\n\tGetHandleVerifier [0x00774B1C+820540]\n\tsqlite3_dbdata_init [0x008353EE+653550]\n\tsqlite3_dbdata_init [0x00834E09+652041]\n\tsqlite3_dbdata_init [0x008297CC+605388]\n\tsqlite3_dbdata_init [0x00835D9B+656027]\n\t(No symbol) [0x0060FE6C]\n\t(No symbol) [0x006083B8]\n\t(No symbol) [0x006084DD]\n\t(No symbol) [0x005F5818]\n\tBaseThreadInitThunk [0x773AFCC9+25]\n\tRtlGetAppContainerNamedObjectPath [0x77847C6E+286]\n\tRtlGetAppContainerNamedObjectPath [0x77847C3E+238]\n"
     ]
    }
   ],
   "source": [
    "# 주소, 별점, 리뷰 가져오기\n",
    "\n",
    "address = []\n",
    "scores = []\n",
    "reviews = []\n",
    "\n",
    "for i in range(len(urls)):\n",
    "    # 호텔 url 들어가기 \n",
    "    driver.get(urls[i])\n",
    "    time.sleep(6)\n",
    "    \n",
    "    # 주소 가져오기\n",
    "    try:\n",
    "        address.append(driver.find_element('xpath','//*[@id=\"property-main-content\"]/div[1]/div[2]/div[2]/span[1]').text)\n",
    "    except ElementClickInterceptedException:\n",
    "        continue\n",
    "    \n",
    "    # 이용후기 누르기\n",
    "    try:\n",
    "        driver.find_element(By.XPATH, '//*[@id=\"hotelNavBar\"]/div/ul/li[4]/button/span').click()\n",
    "        time.sleep(2)\n",
    "    except ElementClickInterceptedException:\n",
    "        continue\n",
    "    \n",
    "    # 언어 변경\n",
    "    try:\n",
    "        language_dropdown = Select(driver.find_element(By.CSS_SELECTOR, '#reviewFilterSection > div.sc-bdfBwQ.sc-gsTCUz.gdcQLK > div.sc-bdfBwQ.sc-gsTCUz.djZOQg > div > div > label > div.sc-bdfBwQ.sc-gsTCUz.bqqCNI > span > select'))\n",
    "        # driver.find_element(By.XPATH, '//*[@id=\"reviewFilterSection\"]/div[1]/div[3]/span/i[2]').click() #21번 전까지\n",
    "        time.sleep(2)\n",
    "    except ElementClickInterceptedException:\n",
    "        continue\n",
    "    \n",
    "    # \"한국어\"를 선택\n",
    "    try:\n",
    "        language_dropdown.select_by_visible_text(\"한국어\")\n",
    "        # driver.find_element(By.XPATH, '//*[@id=\"reviews-language-filter_list\"]/ul/li[2]').click() # 21번 전까지\n",
    "        time.sleep(2)\n",
    "    except ElementClickInterceptedException:\n",
    "        continue\n",
    "    \n",
    "    while True:\n",
    "        # 별점 가져오기\n",
    "        star_elements = driver.find_elements(By.CLASS_NAME,'Review-comment-leftScore')\n",
    "        for element in star_elements:\n",
    "            score = element.text\n",
    "            scores.append(score)\n",
    "            \n",
    "        # 리뷰 가져오기\n",
    "        review_elements = driver.find_elements(By.CLASS_NAME,'Review-comment-bodyText')\n",
    "        for element in review_elements:\n",
    "            review = element.text\n",
    "            reviews.append(review)\n",
    "            \n",
    "        # 페이지 넘기기\n",
    "        try:\n",
    "            driver.find_element('xpath','//*[@id=\"reviewSection\"]/div[4]/div/span[3]/i').click()\n",
    "            time.sleep(2)\n",
    "        except ElementClickInterceptedException:\n",
    "            # 다음 페이지가 없으면 while 루프 종료\n",
    "            break\n",
    "    \n",
    "    # 데이터 추가하기\n",
    "    if len(address) == 1:\n",
    "        df.iloc[i]['address'] = address\n",
    "        address = []\n",
    "     \n",
    "    if len(scores) > 0:\n",
    "        df.iloc[i]['review_rating'] = int(sum(map(float,scores))) / len(scores)\n",
    "        df.iloc[i]['review_star'] = scores\n",
    "        scores = []\n",
    "    \n",
    "    if len(reviews) > 0:\n",
    "        df.iloc[i]['review'] = reviews\n",
    "        reviews = []\n",
    "    \n",
    "    # 다음 호텔로 넘어가기\n",
    "    continue"
   ]
  },
  {
   "cell_type": "code",
   "execution_count": null,
   "metadata": {},
   "outputs": [],
   "source": [
    "df"
   ]
  },
  {
   "cell_type": "code",
   "execution_count": null,
   "metadata": {},
   "outputs": [],
   "source": []
  },
  {
   "cell_type": "code",
   "execution_count": null,
   "metadata": {},
   "outputs": [],
   "source": [
    "# 데이터 따로 입력해주기\n",
    "\n",
    "stars = []\n",
    "address = []\n",
    "scores = []\n",
    "reviews = []\n",
    "\n",
    "for i in range(1,2):\n",
    "    # 호텔 url 들어가기 \n",
    "    driver.get(urls[i])\n",
    "    time.sleep(10)\n",
    "    \n",
    "    # 주소\n",
    "    address.append(driver.find_element('xpath','//*[@id=\"property-main-content\"]/div[1]/div[2]/div[2]/span[1]').text)\n",
    "        \n",
    "    while True:\n",
    "        # 별점 가져오기\n",
    "        star_elements = driver.find_elements(By.CLASS_NAME,'Review-comment-leftScore')\n",
    "        for element in star_elements:\n",
    "            score = element.text\n",
    "            scores.append(score)\n",
    "            \n",
    "        # 리뷰 가져오기\n",
    "        review_elements = driver.find_elements(By.CLASS_NAME,'Review-comment-bodyText')\n",
    "        for element in review_elements:\n",
    "            review = element.text\n",
    "            reviews.append(review)\n",
    "            \n",
    "        # 페이지 넘기기\n",
    "        try:\n",
    "            driver.find_element('xpath','//*[@id=\"reviewSection\"]/div[4]/div/span[3]/i').click()\n",
    "            time.sleep(2)\n",
    "        except ElementClickInterceptedException:\n",
    "            # 다음 페이지가 없으면 while 루프 종료\n",
    "            break\n",
    "\n",
    "    # 데이터 추가하기\n",
    "    if len(address) == 1:\n",
    "        df.iloc[i]['address'] = address\n",
    "        address = []\n",
    "     \n",
    "    if len(scores) > 0:\n",
    "        df.iloc[i]['review_rating'] = int(sum(map(float,scores))) / len(scores)\n",
    "        df.iloc[i]['review_star'] = scores\n",
    "        scores = []\n",
    "    \n",
    "    if len(reviews) > 0:\n",
    "        df.iloc[i]['review'] = reviews\n",
    "        reviews = []\n",
    "        \n",
    "    # 다음 호텔로 넘어가기\n",
    "    continue"
   ]
  },
  {
   "cell_type": "code",
   "execution_count": 103,
   "metadata": {},
   "outputs": [],
   "source": [
    "# 호텔 url 들어가기 \n",
    "driver.get(urls[1])\n",
    "time.sleep(10)"
   ]
  },
  {
   "cell_type": "code",
   "execution_count": null,
   "metadata": {},
   "outputs": [],
   "source": [
    "# 데이터 따로 입력해주기\n",
    "\n",
    "stars = []\n",
    "address = []\n",
    "scores = []\n",
    "reviews = []\n",
    "\n",
    "\n",
    "\n",
    "    \n",
    "# 주소\n",
    "address.append(driver.find_element('xpath','//*[@id=\"property-main-content\"]/div[1]/div[2]/div[2]/span[1]').text)\n",
    "    \n",
    "while True:\n",
    "    # 별점 가져오기\n",
    "    star_elements = driver.find_elements(By.CLASS_NAME,'Review-comment-leftScore')\n",
    "    for element in star_elements:\n",
    "        score = element.text\n",
    "        scores.append(score)\n",
    "        \n",
    "    # 리뷰 가져오기\n",
    "    review_elements = driver.find_elements(By.CLASS_NAME,'Review-comment-bodyText')\n",
    "    for element in review_elements:\n",
    "        review = element.text\n",
    "        reviews.append(review)\n",
    "        \n",
    "    # 페이지 넘기기\n",
    "    try:\n",
    "        driver.find_element('xpath','//*[@id=\"reviewSection\"]/div[4]/div/span[3]/i').click()\n",
    "        time.sleep(2)\n",
    "    except ElementClickInterceptedException:\n",
    "        # 다음 페이지가 없으면 while 루프 종료\n",
    "        break\n",
    "\n",
    "# 데이터 추가하기\n",
    "if len(address) == 1:\n",
    "    df.iloc[i]['address'] = address\n",
    "    address = []\n",
    "    \n",
    "if len(scores) > 0:\n",
    "    df.iloc[i]['review_rating'] = int(sum(map(float,scores))) / len(scores)\n",
    "    df.iloc[i]['review_star'] = scores\n",
    "    scores = []\n",
    "\n",
    "if len(reviews) > 0:\n",
    "    df.iloc[i]['review'] = reviews\n",
    "    reviews = []\n",
    "    \n",
    "# 다음 호텔로 넘어가기\n",
    "continue"
   ]
  },
  {
   "cell_type": "code",
   "execution_count": 72,
   "metadata": {},
   "outputs": [],
   "source": [
    "stars = []\n",
    "\n",
    "for i in range(len(urls)):\n",
    "    # 호텔 url 들어가기 \n",
    "    driver.get(urls[i])\n",
    "    time.sleep(2)\n",
    "    \n",
    "    # 홈페이지 총점 가져오기\n",
    "    try :\n",
    "        stars.append(float(driver.find_element('xpath','//*[@id=\"property-critical-root\"]/div/div[5]/div[2]/div[1]/div[1]/div/div[1]/div/div/div/div/div/div/p[1]').text))\n",
    "    except NoSuchElementException:\n",
    "        stars.append('')\n",
    "\n",
    "# 데이터 추가하기\n",
    "df['rating'] = stars"
   ]
  },
  {
   "cell_type": "code",
   "execution_count": 622,
   "metadata": {},
   "outputs": [],
   "source": [
    "df.to_csv('./data/Five_Stars_Hotels.csv',index=False)"
   ]
  },
  {
   "cell_type": "markdown",
   "metadata": {},
   "source": [
    "==================================================================================================================================="
   ]
  },
  {
   "cell_type": "markdown",
   "metadata": {},
   "source": [
    "4성급 호텔 웹크롤링"
   ]
  },
  {
   "cell_type": "code",
   "execution_count": 100,
   "metadata": {},
   "outputs": [
    {
     "data": {
      "text/html": [
       "<div>\n",
       "<style scoped>\n",
       "    .dataframe tbody tr th:only-of-type {\n",
       "        vertical-align: middle;\n",
       "    }\n",
       "\n",
       "    .dataframe tbody tr th {\n",
       "        vertical-align: top;\n",
       "    }\n",
       "\n",
       "    .dataframe thead th {\n",
       "        text-align: right;\n",
       "    }\n",
       "</style>\n",
       "<table border=\"1\" class=\"dataframe\">\n",
       "  <thead>\n",
       "    <tr style=\"text-align: right;\">\n",
       "      <th></th>\n",
       "      <th>name</th>\n",
       "      <th>url</th>\n",
       "      <th>address</th>\n",
       "      <th>rating</th>\n",
       "      <th>review_rating</th>\n",
       "      <th>review_star</th>\n",
       "      <th>review</th>\n",
       "    </tr>\n",
       "  </thead>\n",
       "  <tbody>\n",
       "    <tr>\n",
       "      <th>0</th>\n",
       "      <td>그랜드 워커힐 서울 (Grand Walkerhill Seoul)</td>\n",
       "      <td>https://www.agoda.com/ko-kr/grand-walkerhill-s...</td>\n",
       "      <td>[워커힐로 177, 광진, 서울, 대한민국, 04963]</td>\n",
       "      <td>8.8</td>\n",
       "      <td>9.12234</td>\n",
       "      <td>[10.0, 10.0, 10.0, 10.0, 10.0, 10.0, 10.0, 10....</td>\n",
       "      <td>[오래된 곳이러는 인식이 강해 어릴 적 외에 성인이 된 후 스스로 선택해 가 본 적...</td>\n",
       "    </tr>\n",
       "    <tr>\n",
       "      <th>1</th>\n",
       "      <td>스위스 그랜드 호텔 서울 (Swiss Grand Hotel Seoul)</td>\n",
       "      <td>https://www.agoda.com/ko-kr/grand-hilton-seoul...</td>\n",
       "      <td>[서대문구 연희로 353, 서대문, 서울, 대한민국, 03650]</td>\n",
       "      <td>8.0</td>\n",
       "      <td>9.9</td>\n",
       "      <td>[10.0, 10.0, 10.0, 9.6, 9.6, 10.0, 10.0, 10.0,...</td>\n",
       "      <td>[동생이랑 서울여행 와서 2박 3일 동안 호텔에 머문게 젤 기억에 남을 정도로 편하...</td>\n",
       "    </tr>\n",
       "    <tr>\n",
       "      <th>2</th>\n",
       "      <td>메이필드 호텔 서울 (Mayfield Hotel Seoul)</td>\n",
       "      <td>https://www.agoda.com/ko-kr/mayfield-hotel/hot...</td>\n",
       "      <td>None</td>\n",
       "      <td>8.6</td>\n",
       "      <td>None</td>\n",
       "      <td>None</td>\n",
       "      <td>None</td>\n",
       "    </tr>\n",
       "    <tr>\n",
       "      <th>3</th>\n",
       "      <td>워커힐 더글라스 하우스 (성인 전용) (Walkerhill Douglas House...</td>\n",
       "      <td>https://www.agoda.com/ko-kr/walkerhill-douglas...</td>\n",
       "      <td>None</td>\n",
       "      <td>9.1</td>\n",
       "      <td>None</td>\n",
       "      <td>None</td>\n",
       "      <td>None</td>\n",
       "    </tr>\n",
       "    <tr>\n",
       "      <th>4</th>\n",
       "      <td>롯데호텔 월드 (Lotte Hotel World)</td>\n",
       "      <td>https://www.agoda.com/ko-kr/lotte-hotel-world/...</td>\n",
       "      <td>None</td>\n",
       "      <td>8.9</td>\n",
       "      <td>None</td>\n",
       "      <td>None</td>\n",
       "      <td>None</td>\n",
       "    </tr>\n",
       "  </tbody>\n",
       "</table>\n",
       "</div>"
      ],
      "text/plain": [
       "                                                name  \\\n",
       "0                그랜드 워커힐 서울 (Grand Walkerhill Seoul)   \n",
       "1            스위스 그랜드 호텔 서울 (Swiss Grand Hotel Seoul)   \n",
       "2                  메이필드 호텔 서울 (Mayfield Hotel Seoul)   \n",
       "3  워커힐 더글라스 하우스 (성인 전용) (Walkerhill Douglas House...   \n",
       "4                        롯데호텔 월드 (Lotte Hotel World)   \n",
       "\n",
       "                                                 url  \\\n",
       "0  https://www.agoda.com/ko-kr/grand-walkerhill-s...   \n",
       "1  https://www.agoda.com/ko-kr/grand-hilton-seoul...   \n",
       "2  https://www.agoda.com/ko-kr/mayfield-hotel/hot...   \n",
       "3  https://www.agoda.com/ko-kr/walkerhill-douglas...   \n",
       "4  https://www.agoda.com/ko-kr/lotte-hotel-world/...   \n",
       "\n",
       "                                address rating review_rating  \\\n",
       "0       [워커힐로 177, 광진, 서울, 대한민국, 04963]    8.8       9.12234   \n",
       "1  [서대문구 연희로 353, 서대문, 서울, 대한민국, 03650]    8.0           9.9   \n",
       "2                                  None    8.6          None   \n",
       "3                                  None    9.1          None   \n",
       "4                                  None    8.9          None   \n",
       "\n",
       "                                         review_star  \\\n",
       "0  [10.0, 10.0, 10.0, 10.0, 10.0, 10.0, 10.0, 10....   \n",
       "1  [10.0, 10.0, 10.0, 9.6, 9.6, 10.0, 10.0, 10.0,...   \n",
       "2                                               None   \n",
       "3                                               None   \n",
       "4                                               None   \n",
       "\n",
       "                                              review  \n",
       "0  [오래된 곳이러는 인식이 강해 어릴 적 외에 성인이 된 후 스스로 선택해 가 본 적...  \n",
       "1  [동생이랑 서울여행 와서 2박 3일 동안 호텔에 머문게 젤 기억에 남을 정도로 편하...  \n",
       "2                                               None  \n",
       "3                                               None  \n",
       "4                                               None  "
      ]
     },
     "execution_count": 100,
     "metadata": {},
     "output_type": "execute_result"
    }
   ],
   "source": [
    "df.head()"
   ]
  },
  {
   "cell_type": "code",
   "execution_count": 105,
   "metadata": {},
   "outputs": [
    {
     "data": {
      "text/plain": [
       "752"
      ]
     },
     "execution_count": 105,
     "metadata": {},
     "output_type": "execute_result"
    }
   ],
   "source": [
    "len(df.iloc[0]['review'])"
   ]
  },
  {
   "cell_type": "code",
   "execution_count": 102,
   "metadata": {},
   "outputs": [
    {
     "data": {
      "text/plain": [
       "10"
      ]
     },
     "execution_count": 102,
     "metadata": {},
     "output_type": "execute_result"
    }
   ],
   "source": [
    "len(df.iloc[1]['review_star'])"
   ]
  },
  {
   "cell_type": "code",
   "execution_count": null,
   "metadata": {},
   "outputs": [],
   "source": []
  }
 ],
 "metadata": {
  "kernelspec": {
   "display_name": "mulcam_3_9",
   "language": "python",
   "name": "mulcam_3_9"
  },
  "language_info": {
   "codemirror_mode": {
    "name": "ipython",
    "version": 3
   },
   "file_extension": ".py",
   "mimetype": "text/x-python",
   "name": "python",
   "nbconvert_exporter": "python",
   "pygments_lexer": "ipython3",
   "version": "3.9.18"
  }
 },
 "nbformat": 4,
 "nbformat_minor": 2
}
