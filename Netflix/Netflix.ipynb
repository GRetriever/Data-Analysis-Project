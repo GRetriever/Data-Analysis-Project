{
 "cells": [
  {
   "cell_type": "code",
   "execution_count": 1,
   "metadata": {},
   "outputs": [],
   "source": [
    "import pandas as pd\n",
    "import numpy as np\n",
    "import seaborn as sns\n",
    "from matplotlib import pyplot as plt"
   ]
  },
  {
   "cell_type": "code",
   "execution_count": 2,
   "metadata": {},
   "outputs": [
    {
     "data": {
      "text/html": [
       "<div>\n",
       "<style scoped>\n",
       "    .dataframe tbody tr th:only-of-type {\n",
       "        vertical-align: middle;\n",
       "    }\n",
       "\n",
       "    .dataframe tbody tr th {\n",
       "        vertical-align: top;\n",
       "    }\n",
       "\n",
       "    .dataframe thead th {\n",
       "        text-align: right;\n",
       "    }\n",
       "</style>\n",
       "<table border=\"1\" class=\"dataframe\">\n",
       "  <thead>\n",
       "    <tr style=\"text-align: right;\">\n",
       "      <th></th>\n",
       "      <th>Title</th>\n",
       "      <th>Genre</th>\n",
       "      <th>Premiere</th>\n",
       "      <th>Runtime</th>\n",
       "      <th>IMDB Score</th>\n",
       "      <th>Language</th>\n",
       "    </tr>\n",
       "  </thead>\n",
       "  <tbody>\n",
       "    <tr>\n",
       "      <th>0</th>\n",
       "      <td>Enter the Anime</td>\n",
       "      <td>Documentary</td>\n",
       "      <td>August 5, 2019</td>\n",
       "      <td>58</td>\n",
       "      <td>2.5</td>\n",
       "      <td>English/Japanese</td>\n",
       "    </tr>\n",
       "    <tr>\n",
       "      <th>1</th>\n",
       "      <td>Dark Forces</td>\n",
       "      <td>Thriller</td>\n",
       "      <td>August 21, 2020</td>\n",
       "      <td>81</td>\n",
       "      <td>2.6</td>\n",
       "      <td>Spanish</td>\n",
       "    </tr>\n",
       "    <tr>\n",
       "      <th>2</th>\n",
       "      <td>The App</td>\n",
       "      <td>Science fiction/Drama</td>\n",
       "      <td>December 26, 2019</td>\n",
       "      <td>79</td>\n",
       "      <td>2.6</td>\n",
       "      <td>Italian</td>\n",
       "    </tr>\n",
       "    <tr>\n",
       "      <th>3</th>\n",
       "      <td>The Open House</td>\n",
       "      <td>Horror thriller</td>\n",
       "      <td>January 19, 2018</td>\n",
       "      <td>94</td>\n",
       "      <td>3.2</td>\n",
       "      <td>English</td>\n",
       "    </tr>\n",
       "    <tr>\n",
       "      <th>4</th>\n",
       "      <td>Kaali Khuhi</td>\n",
       "      <td>Mystery</td>\n",
       "      <td>October 30, 2020</td>\n",
       "      <td>90</td>\n",
       "      <td>3.4</td>\n",
       "      <td>Hindi</td>\n",
       "    </tr>\n",
       "    <tr>\n",
       "      <th>...</th>\n",
       "      <td>...</td>\n",
       "      <td>...</td>\n",
       "      <td>...</td>\n",
       "      <td>...</td>\n",
       "      <td>...</td>\n",
       "      <td>...</td>\n",
       "    </tr>\n",
       "    <tr>\n",
       "      <th>579</th>\n",
       "      <td>Taylor Swift: Reputation Stadium Tour</td>\n",
       "      <td>Concert Film</td>\n",
       "      <td>December 31, 2018</td>\n",
       "      <td>125</td>\n",
       "      <td>8.4</td>\n",
       "      <td>English</td>\n",
       "    </tr>\n",
       "    <tr>\n",
       "      <th>580</th>\n",
       "      <td>Winter on Fire: Ukraine's Fight for Freedom</td>\n",
       "      <td>Documentary</td>\n",
       "      <td>October 9, 2015</td>\n",
       "      <td>91</td>\n",
       "      <td>8.4</td>\n",
       "      <td>English/Ukranian/Russian</td>\n",
       "    </tr>\n",
       "    <tr>\n",
       "      <th>581</th>\n",
       "      <td>Springsteen on Broadway</td>\n",
       "      <td>One-man show</td>\n",
       "      <td>December 16, 2018</td>\n",
       "      <td>153</td>\n",
       "      <td>8.5</td>\n",
       "      <td>English</td>\n",
       "    </tr>\n",
       "    <tr>\n",
       "      <th>582</th>\n",
       "      <td>Emicida: AmarElo - It's All For Yesterday</td>\n",
       "      <td>Documentary</td>\n",
       "      <td>December 8, 2020</td>\n",
       "      <td>89</td>\n",
       "      <td>8.6</td>\n",
       "      <td>Portuguese</td>\n",
       "    </tr>\n",
       "    <tr>\n",
       "      <th>583</th>\n",
       "      <td>David Attenborough: A Life on Our Planet</td>\n",
       "      <td>Documentary</td>\n",
       "      <td>October 4, 2020</td>\n",
       "      <td>83</td>\n",
       "      <td>9.0</td>\n",
       "      <td>English</td>\n",
       "    </tr>\n",
       "  </tbody>\n",
       "</table>\n",
       "<p>584 rows × 6 columns</p>\n",
       "</div>"
      ],
      "text/plain": [
       "                                           Title                  Genre  \\\n",
       "0                                Enter the Anime            Documentary   \n",
       "1                                    Dark Forces               Thriller   \n",
       "2                                        The App  Science fiction/Drama   \n",
       "3                                 The Open House        Horror thriller   \n",
       "4                                    Kaali Khuhi                Mystery   \n",
       "..                                           ...                    ...   \n",
       "579        Taylor Swift: Reputation Stadium Tour           Concert Film   \n",
       "580  Winter on Fire: Ukraine's Fight for Freedom            Documentary   \n",
       "581                      Springsteen on Broadway           One-man show   \n",
       "582    Emicida: AmarElo - It's All For Yesterday            Documentary   \n",
       "583     David Attenborough: A Life on Our Planet            Documentary   \n",
       "\n",
       "              Premiere  Runtime  IMDB Score                  Language  \n",
       "0       August 5, 2019       58         2.5          English/Japanese  \n",
       "1      August 21, 2020       81         2.6                   Spanish  \n",
       "2    December 26, 2019       79         2.6                   Italian  \n",
       "3     January 19, 2018       94         3.2                   English  \n",
       "4     October 30, 2020       90         3.4                     Hindi  \n",
       "..                 ...      ...         ...                       ...  \n",
       "579  December 31, 2018      125         8.4                   English  \n",
       "580    October 9, 2015       91         8.4  English/Ukranian/Russian  \n",
       "581  December 16, 2018      153         8.5                   English  \n",
       "582   December 8, 2020       89         8.6                Portuguese  \n",
       "583    October 4, 2020       83         9.0                   English  \n",
       "\n",
       "[584 rows x 6 columns]"
      ]
     },
     "execution_count": 2,
     "metadata": {},
     "output_type": "execute_result"
    }
   ],
   "source": [
    "df = pd.read_csv('./data/NetflixOriginals.csv',encoding='\"ISO-8859-1\"')\n",
    "df"
   ]
  },
  {
   "cell_type": "markdown",
   "metadata": {},
   "source": [
    "기본 EDA \n",
    "\n",
    "1. 기초통계\n",
    "2. 결측치 확인\n",
    "3. 컬럼별 종류 개수\n",
    "4. 장르별 개수 상위\n",
    "5. 개봉일 범위\n",
    "6. 연도별 개봉수\n",
    "7. 월별 개봉수\n",
    "8. 장르별 런타임\n",
    "9. 장르별 스코어\n",
    "10. 언어별 스코어\n",
    "11. 언어 개수\n",
    "12. 다중언어 개수\n",
    "13. 월별 스코어"
   ]
  },
  {
   "cell_type": "code",
   "execution_count": null,
   "metadata": {},
   "outputs": [],
   "source": [
    "df.describe()"
   ]
  },
  {
   "cell_type": "code",
   "execution_count": null,
   "metadata": {},
   "outputs": [],
   "source": [
    "df.isnull().sum()"
   ]
  },
  {
   "cell_type": "code",
   "execution_count": null,
   "metadata": {},
   "outputs": [],
   "source": [
    "df.nunique()\n",
    "\n",
    "# 장르 115개"
   ]
  },
  {
   "cell_type": "code",
   "execution_count": null,
   "metadata": {},
   "outputs": [],
   "source": [
    "df.value_counts(df['Genre'])[:20]\n",
    "\n",
    "# 장르별 개수 상위 20개"
   ]
  },
  {
   "cell_type": "code",
   "execution_count": null,
   "metadata": {},
   "outputs": [],
   "source": [
    "df['Premiere'] = pd.to_datetime(df['Premiere'])\n",
    "df['Premiere']\n",
    "\n",
    "# 날짜 정렬"
   ]
  },
  {
   "cell_type": "code",
   "execution_count": null,
   "metadata": {},
   "outputs": [],
   "source": [
    "df.sort_values(by='Premiere')\n",
    "\n",
    "# 개봉일 범위"
   ]
  },
  {
   "cell_type": "code",
   "execution_count": null,
   "metadata": {},
   "outputs": [],
   "source": [
    "df.groupby(df['Premiere'].dt.to_period(\"Y\")).size()\n",
    "\n",
    "# 연도별 개봉 개수"
   ]
  },
  {
   "cell_type": "code",
   "execution_count": null,
   "metadata": {},
   "outputs": [],
   "source": [
    "df.groupby(df['Premiere'].dt.month).size()\n",
    "\n",
    "# 월별 개봉 개수"
   ]
  },
  {
   "cell_type": "code",
   "execution_count": null,
   "metadata": {},
   "outputs": [],
   "source": [
    "df.groupby(['Genre'])['Runtime'].mean().sort_values(ascending=False)[:20]\n",
    "\n",
    "# 장르별 런타임"
   ]
  },
  {
   "cell_type": "code",
   "execution_count": null,
   "metadata": {},
   "outputs": [],
   "source": [
    "# 장르별 스코어\n",
    "\n",
    "df.groupby(['Genre'])['IMDB Score'].mean().sort_values(ascending=False).iloc[:10]"
   ]
  },
  {
   "cell_type": "code",
   "execution_count": null,
   "metadata": {},
   "outputs": [],
   "source": [
    "# 언어별 스코어\n",
    "\n",
    "df.groupby(['Language'])['IMDB Score'].mean().sort_values(ascending=False).iloc[:20]\n",
    "# 38개 (뒤에 .shape 하면 나옴)"
   ]
  },
  {
   "cell_type": "code",
   "execution_count": null,
   "metadata": {},
   "outputs": [],
   "source": [
    "# 언어 개수\n",
    "\n",
    "df.value_counts(df['Language'])[:20]"
   ]
  },
  {
   "cell_type": "code",
   "execution_count": null,
   "metadata": {},
   "outputs": [],
   "source": [
    "# 다중 언어 개수\n",
    "\n",
    "MultiLingual_df = df[df['Language'].str.contains('/')]\n",
    "MultiLingual_df.groupby(['Language'])['IMDB Score'].mean().sort_values(ascending=False)\n",
    "# 16개"
   ]
  },
  {
   "cell_type": "code",
   "execution_count": 68,
   "metadata": {},
   "outputs": [],
   "source": [
    "monthly_basis_score = df.groupby(df['Premiere'].dt.month)['IMDB Score'].mean()\n",
    "\n",
    "# 월별 스코어"
   ]
  },
  {
   "cell_type": "markdown",
   "metadata": {},
   "source": [
    "기법 사용 , 제언"
   ]
  },
  {
   "cell_type": "markdown",
   "metadata": {},
   "source": [
    "월별 score 계산 --> 8월 낮음 --> 분석"
   ]
  },
  {
   "cell_type": "code",
   "execution_count": null,
   "metadata": {},
   "outputs": [],
   "source": [
    "# 8월 가장 낮음\n",
    "\n",
    "score = np.array([6.0027027027027025,\n",
    " 6.117948717948717,\n",
    " 6.322916666666667,\n",
    " 6.04920634920635,\n",
    " 6.2132075471698105,\n",
    " 6.582857142857142,\n",
    " 6.091176470588234,\n",
    " 6.481132075471699,\n",
    " 6.522077922077922,\n",
    " 6.398245614035088,\n",
    " 6.2745098039215685])\n",
    "\n",
    "print(score.mean(),score.std(ddof=1))"
   ]
  },
  {
   "cell_type": "markdown",
   "metadata": {},
   "source": [
    "one sided ztest 선정\n",
    "\n",
    "이유\n",
    "1. 모분산 알고 있음\n",
    "2. ch_06번 젤리 문제, ch_07번의 수학 문제와 구성이 유사함 (평균 값 비교)\n",
    "3. z테스트 선정하는데 가장 큰 어려움은 정규분포를 따르는지 모르는 거였음\n",
    "        하지만 중심극한정리에 의해 크기가 충분히 크면 정규분포를 따른다"
   ]
  },
  {
   "cell_type": "code",
   "execution_count": 245,
   "metadata": {},
   "outputs": [
    {
     "data": {
      "text/plain": [
       "-9.890605286996074"
      ]
     },
     "execution_count": 245,
     "metadata": {},
     "output_type": "execute_result"
    }
   ],
   "source": [
    "# 검정통계량 계산\n",
    "\n",
    "(5.951351351351351 - 6.277816455695082) / (0.20077736867761145 / 37**0.5)"
   ]
  },
  {
   "cell_type": "markdown",
   "metadata": {},
   "source": [
    "정규분포표에는 -4까지 나옴\n",
    "숫자가 크다는건 그만큼 자명한 사실이라는 의미?????????????\n",
    "\n",
    "\n",
    "이유 분석\n"
   ]
  },
  {
   "cell_type": "code",
   "execution_count": 74,
   "metadata": {},
   "outputs": [
    {
     "data": {
      "text/plain": [
       "Premiere\n",
       "1     6.002703\n",
       "2     6.117949\n",
       "3     6.322917\n",
       "4     6.049206\n",
       "5     6.213208\n",
       "6     6.582857\n",
       "7     6.091176\n",
       "8     5.951351\n",
       "9     6.481132\n",
       "10    6.522078\n",
       "11    6.398246\n",
       "12    6.274510\n",
       "Name: IMDB Score, dtype: float64"
      ]
     },
     "execution_count": 74,
     "metadata": {},
     "output_type": "execute_result"
    }
   ],
   "source": [
    "monthly_basis_score = df.groupby(df['Premiere'].dt.month)['IMDB Score'].mean()\n",
    "monthly_basis_score"
   ]
  },
  {
   "cell_type": "markdown",
   "metadata": {},
   "source": [
    "가정\n",
    "\n",
    "1. 장르가 영향을 미쳤다\n",
    "    - 8월의 장르 비율은 나머지의 비율과 달라야 한다.\n",
    "2. 런타임이 영향을 미쳤다\n",
    "3. 언어가 영향을 미쳤다\n",
    "4. 그 외"
   ]
  },
  {
   "cell_type": "code",
   "execution_count": 8,
   "metadata": {},
   "outputs": [
    {
     "data": {
      "text/plain": [
       "Genre\n",
       "Documentary        9\n",
       "Comedy             8\n",
       "Drama              5\n",
       "Thriller           2\n",
       "Romantic comedy    2\n",
       "Name: count, dtype: int64"
      ]
     },
     "execution_count": 8,
     "metadata": {},
     "output_type": "execute_result"
    }
   ],
   "source": [
    "# 1-1 8월의 장르\n",
    "\n",
    "august_genre = df[df['Premiere'].dt.month == 8]['Genre'].value_counts()\n",
    "\n",
    "august_genre_big = august_genre[august_genre > 1]\n",
    "august_genre_small = august_genre[august_genre <= 1].sum()\n",
    "\n",
    "august_genre_big"
   ]
  },
  {
   "cell_type": "code",
   "execution_count": null,
   "metadata": {},
   "outputs": [],
   "source": [
    "plt.pie(august_genre)"
   ]
  },
  {
   "cell_type": "code",
   "execution_count": 14,
   "metadata": {},
   "outputs": [
    {
     "data": {
      "text/plain": [
       "Genre\n",
       "Documentary                             150\n",
       "Drama                                    72\n",
       "Comedy                                   41\n",
       "Romantic comedy                          37\n",
       "Thriller                                 31\n",
       "                                       ... \n",
       "Comedy/Horror                             1\n",
       "Romantic comedy-drama                     1\n",
       "Political thriller                        1\n",
       "Superhero-Comedy                          1\n",
       "Animation/Christmas/Comedy/Adventure      1\n",
       "Name: count, Length: 111, dtype: int64"
      ]
     },
     "execution_count": 14,
     "metadata": {},
     "output_type": "execute_result"
    }
   ],
   "source": [
    "# 1-2 나머지의 장르\n",
    "\n",
    "rest_genre = df[df['Premiere'].dt.month != 8]['Genre'].value_counts()\n",
    "\n",
    "rest_genre"
   ]
  },
  {
   "cell_type": "code",
   "execution_count": null,
   "metadata": {},
   "outputs": [],
   "source": [
    "plt.pie(rest_genre)"
   ]
  },
  {
   "cell_type": "markdown",
   "metadata": {},
   "source": [
    "1. 장르 비슷함 -> 무의미\n",
    "\n",
    "============================\n",
    "\n",
    "2. 런타임이 영향을 미쳤다"
   ]
  },
  {
   "cell_type": "code",
   "execution_count": 16,
   "metadata": {},
   "outputs": [],
   "source": [
    "# 8월 런타임과 나머지 런타임\n",
    "august_runtime = df[df['Premiere'].dt.month == 8]['Runtime'].mean()\n",
    "rest_runtime = df[df['Premiere'].dt.month != 8]['Runtime'].mean()"
   ]
  },
  {
   "cell_type": "code",
   "execution_count": 22,
   "metadata": {},
   "outputs": [
    {
     "data": {
      "text/plain": [
       "Premiere\n",
       "1      94.459459\n",
       "2      96.410256\n",
       "3      94.229167\n",
       "4      94.380952\n",
       "5      92.150943\n",
       "6     101.171429\n",
       "7      96.882353\n",
       "8      86.972973\n",
       "9      87.264151\n",
       "10     94.324675\n",
       "11     95.017544\n",
       "12     91.843137\n",
       "Name: Runtime, dtype: float64"
      ]
     },
     "execution_count": 22,
     "metadata": {},
     "output_type": "execute_result"
    }
   ],
   "source": [
    "df.groupby(df['Premiere'].dt.month)['Runtime'].mean()"
   ]
  },
  {
   "cell_type": "markdown",
   "metadata": {},
   "source": [
    "2. 런타임이 짧다!\n",
    "\n",
    "=============\n",
    "\n",
    "3. 언어가 영향을 미쳤다"
   ]
  },
  {
   "cell_type": "code",
   "execution_count": 31,
   "metadata": {},
   "outputs": [
    {
     "data": {
      "text/plain": [
       "Language\n",
       "English             26\n",
       "Hindi                4\n",
       "Spanish              3\n",
       "French               2\n",
       "English/Japanese     1\n",
       "Indonesian           1\n",
       "Name: count, dtype: int64"
      ]
     },
     "execution_count": 31,
     "metadata": {},
     "output_type": "execute_result"
    }
   ],
   "source": [
    "august_language = df[df['Premiere'].dt.month == 8]['Language'].value_counts()\n",
    "august_language"
   ]
  },
  {
   "cell_type": "code",
   "execution_count": 28,
   "metadata": {},
   "outputs": [],
   "source": [
    "rest_language = df[df['Premiere'].dt.month != 8]['Language'].value_counts()"
   ]
  },
  {
   "cell_type": "code",
   "execution_count": null,
   "metadata": {},
   "outputs": [],
   "source": [
    "plt.pie(august_language)"
   ]
  },
  {
   "cell_type": "code",
   "execution_count": null,
   "metadata": {},
   "outputs": [],
   "source": [
    "plt.pie(rest_language)"
   ]
  },
  {
   "cell_type": "markdown",
   "metadata": {},
   "source": [
    "3. 언어 차이 없음"
   ]
  },
  {
   "cell_type": "code",
   "execution_count": null,
   "metadata": {},
   "outputs": [],
   "source": [
    "\n"
   ]
  },
  {
   "cell_type": "markdown",
   "metadata": {},
   "source": [
    "erwer"
   ]
  },
  {
   "cell_type": "markdown",
   "metadata": {},
   "source": []
  }
 ],
 "metadata": {
  "kernelspec": {
   "display_name": "mulcam_3_9",
   "language": "python",
   "name": "mulcam_3_9"
  },
  "language_info": {
   "codemirror_mode": {
    "name": "ipython",
    "version": 3
   },
   "file_extension": ".py",
   "mimetype": "text/x-python",
   "name": "python",
   "nbconvert_exporter": "python",
   "pygments_lexer": "ipython3",
   "version": "3.9.18"
  }
 },
 "nbformat": 4,
 "nbformat_minor": 2
}
