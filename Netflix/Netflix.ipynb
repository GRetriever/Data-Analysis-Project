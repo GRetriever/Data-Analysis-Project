{
 "cells": [
  {
   "cell_type": "code",
   "execution_count": null,
   "metadata": {},
   "outputs": [],
   "source": [
    "import pandas as pd\n",
    "import numpy as np\n",
    "import seaborn as sns\n",
    "from matplotlib import pyplot as plt\n",
    "from scipy import stats"
   ]
  },
  {
   "cell_type": "code",
   "execution_count": null,
   "metadata": {},
   "outputs": [],
   "source": [
    "df = pd.read_csv('./data/NetflixOriginals.csv',encoding='\"ISO-8859-1\"')\n",
    "df"
   ]
  },
  {
   "cell_type": "code",
   "execution_count": null,
   "metadata": {},
   "outputs": [],
   "source": [
    "df['Premiere'] = pd.to_datetime(df['Premiere'])\n",
    "\n",
    "# 날짜 정렬"
   ]
  },
  {
   "cell_type": "markdown",
   "metadata": {},
   "source": [
    "기본 EDA \n",
    "\n",
    "1. 기초통계\n",
    "2. 결측치 확인\n",
    "3. 컬럼별 종류 개수\n",
    "4. 장르별 개수 상위\n",
    "5. 개봉일 범위  xxxxx\n",
    "6. 연도별 개봉수\n",
    "7. 월별 개봉수\n",
    "8. 장르별 런타임\n",
    "9. 장르별 스코어\n",
    "10. 언어별 스코어\n",
    "11. 언어 개수\n",
    "12. 다중언어 개수  xxxxxxxxx\n",
    "13. 월별 스코어"
   ]
  },
  {
   "cell_type": "code",
   "execution_count": null,
   "metadata": {},
   "outputs": [],
   "source": [
    "# 1번\n",
    "df.describe()"
   ]
  },
  {
   "cell_type": "code",
   "execution_count": null,
   "metadata": {},
   "outputs": [],
   "source": [
    "# 2번\n",
    "df.isnull().sum()"
   ]
  },
  {
   "cell_type": "code",
   "execution_count": null,
   "metadata": {},
   "outputs": [],
   "source": [
    "# 3번\n",
    "df.nunique()"
   ]
  },
  {
   "cell_type": "code",
   "execution_count": null,
   "metadata": {},
   "outputs": [],
   "source": [
    "# 4번\n",
    "\n",
    "\n",
    "plt.figure(figsize=(8,5))\n",
    "df.value_counts(df['Genre'])[:10].plot(\n",
    "    kind='bar',\n",
    "    width=0.7,\n",
    "    color = sns.color_palette('winter'),\n",
    "    alpha = 0.4\n",
    ")\n",
    "plt.title('TOP 10 Genre')\n",
    "_=plt.xticks(rotation=45)"
   ]
  },
  {
   "cell_type": "code",
   "execution_count": null,
   "metadata": {},
   "outputs": [],
   "source": [
    "# 6번\n",
    "\n",
    "df.groupby(df['Premiere'].dt.to_period(\"Y\")).size().plot(kind='bar',color = sns.color_palette('winter'),alpha = 0.4)\n",
    "_=plt.xticks(rotation=45)\n",
    "\n",
    "# 연도별 개봉 개수"
   ]
  },
  {
   "cell_type": "code",
   "execution_count": null,
   "metadata": {},
   "outputs": [],
   "source": [
    "# 7번\n",
    "\n",
    "df.groupby(df['Premiere'].dt.month).size().plot(kind='bar',color=sns.color_palette('winter'),alpha=0.7)\n",
    "_=plt.xticks(rotation=0)\n",
    "# 월별 개봉 개수"
   ]
  },
  {
   "cell_type": "code",
   "execution_count": null,
   "metadata": {},
   "outputs": [],
   "source": [
    "# 8번\n",
    "\n",
    "df.groupby(['Genre'])['Runtime'].mean().sort_values(ascending=True)[-15:].plot(kind='barh')"
   ]
  },
  {
   "cell_type": "code",
   "execution_count": null,
   "metadata": {},
   "outputs": [],
   "source": [
    "df['Runtime'].plot(kind='hist',bins=np.arange(0,150,3))"
   ]
  },
  {
   "cell_type": "code",
   "execution_count": null,
   "metadata": {},
   "outputs": [],
   "source": [
    "# 9번\n",
    "# 장르별 스코어\n",
    "\n",
    "df.groupby(['Genre'])['IMDB Score'].mean().sort_values().iloc[-10:].plot(kind='barh')"
   ]
  },
  {
   "cell_type": "code",
   "execution_count": null,
   "metadata": {},
   "outputs": [],
   "source": [
    "# 10번\n",
    "# 언어별 스코어\n",
    "\n",
    "df.groupby(['Language'])['IMDB Score'].mean().sort_values(ascending=False).iloc[:20].plot(kind='barh')\n",
    "# 38개 (뒤에 .shape 하면 나옴)"
   ]
  },
  {
   "cell_type": "code",
   "execution_count": null,
   "metadata": {},
   "outputs": [],
   "source": [
    "# 11번\n",
    "# 언어 개수\n",
    "\n",
    "df.value_counts(df['Language'])[:20].plot(kind='pie')"
   ]
  },
  {
   "cell_type": "code",
   "execution_count": null,
   "metadata": {},
   "outputs": [],
   "source": [
    "# 12번 xxxxxxxxxxxxxxxxxxxxx\n",
    "# 다중 언어 개수\n",
    "\n",
    "MultiLingual_df = df[df['Language'].str.contains('/')]\n",
    "MultiLingual_df.groupby(['Language'])['IMDB Score'].mean().sort_values(ascending=False)\n",
    "# 16개"
   ]
  },
  {
   "cell_type": "code",
   "execution_count": null,
   "metadata": {},
   "outputs": [],
   "source": [
    "# 13번\n",
    "\n",
    "monthly_average_score = df.groupby(df['Premiere'].dt.month)['IMDB Score'].mean()\n",
    "\n",
    "sns.set_style('whitegrid')\n",
    "monthly_score.plot(kind='bar',color = sns.color_palette('winter'),alpha=0.6)\n",
    "plt.xlabel('Month')\n",
    "plt.ylabel('Score')\n",
    "plt.title('Monthly Average Score')\n",
    "_=plt.xticks(rotation=0)\n",
    "\n",
    "# 월별 스코어"
   ]
  },
  {
   "cell_type": "code",
   "execution_count": null,
   "metadata": {},
   "outputs": [],
   "source": [
    "monthly_score.nlargest(12)"
   ]
  },
  {
   "cell_type": "code",
   "execution_count": null,
   "metadata": {},
   "outputs": [],
   "source": [
    "# 연도별 평균 점수\n",
    "\n",
    "yearly_average_score = df.groupby(df['Premiere'].dt.year)['IMDB Score'].mean()\n",
    "\n",
    "yearly_average_score.plot(kind='bar',color = sns.color_palette('winter'),alpha=0.6)\n",
    "plt.xlabel('Genre')\n",
    "plt.ylabel('Count')\n",
    "plt.title('Yearly Average Score')\n",
    "_=plt.xticks(rotation=0)\n",
    "\n"
   ]
  },
  {
   "cell_type": "code",
   "execution_count": null,
   "metadata": {},
   "outputs": [],
   "source": [
    "yearly_average_score.mean()"
   ]
  },
  {
   "cell_type": "markdown",
   "metadata": {},
   "source": [
    "기법 사용 , 제언"
   ]
  },
  {
   "cell_type": "markdown",
   "metadata": {},
   "source": [
    "월별 score 계산 --> 8월 낮음 / 6월 가장 높음--> 분석"
   ]
  },
  {
   "cell_type": "markdown",
   "metadata": {},
   "source": [
    "귀무가설 : 8월 평균 == 나머지 평균\n",
    "\n",
    "대립가설 : 8월 평균 != 나머지 평균"
   ]
  },
  {
   "cell_type": "markdown",
   "metadata": {},
   "source": [
    "one sample t-test 선정\n",
    "\n",
    "이유\n",
    "1. 모집단이 정규분포 따르는지 모름\n",
    "2. 모분산 모름????"
   ]
  },
  {
   "cell_type": "code",
   "execution_count": null,
   "metadata": {},
   "outputs": [],
   "source": [
    "monthly_basis_score"
   ]
  },
  {
   "cell_type": "code",
   "execution_count": null,
   "metadata": {},
   "outputs": [],
   "source": [
    "# 6월 가장 높음\n",
    "\n",
    "scores = np.array([6.0027027 , 6.11794872, 6.32291667, 6.04920635, 6.21320755,\n",
    "       6.09117647, 5.951351, 6.48113208, 6.52207792,\n",
    "       6.39824561, 6.2745098 ])\n",
    "\n",
    "print(scores.mean(),scores.std(ddof=1))"
   ]
  },
  {
   "cell_type": "code",
   "execution_count": null,
   "metadata": {},
   "outputs": [],
   "source": [
    "june_score = 6.58285714"
   ]
  },
  {
   "cell_type": "code",
   "execution_count": null,
   "metadata": {},
   "outputs": [],
   "source": [
    "# 검정통계량 계산\n",
    "\n",
    "(5.951351351351351 - 6.277816455695082) / (0.20077736867761145 / 37**0.5)"
   ]
  },
  {
   "cell_type": "markdown",
   "metadata": {},
   "source": [
    "t 분포표\n",
    "\n",
    "단측\n",
    "\n",
    "자유도 30 : 1.697\n",
    "자유도 40 : 1.684\n",
    "\n",
    "양측\n",
    "\n",
    "자유도 30 : 2.042\n",
    "자유도 40 : 2.021\n",
    "\n",
    "귀무가설 기각 가능!"
   ]
  },
  {
   "cell_type": "code",
   "execution_count": null,
   "metadata": {},
   "outputs": [],
   "source": [
    "monthly_basis_score.values"
   ]
  },
  {
   "cell_type": "code",
   "execution_count": null,
   "metadata": {},
   "outputs": [],
   "source": [
    "t_statistics,p_value = stats.ttest_1samp(scores,june_score)\n",
    "t_statistics,p_value"
   ]
  },
  {
   "cell_type": "markdown",
   "metadata": {},
   "source": [
    "p_value 0.05보다 낮다 ==> 귀무가설 기각, 대립가설 채택 가능"
   ]
  },
  {
   "cell_type": "markdown",
   "metadata": {},
   "source": [
    "원인 분석"
   ]
  },
  {
   "cell_type": "code",
   "execution_count": null,
   "metadata": {},
   "outputs": [],
   "source": [
    "monthly_basis_score = df.groupby(df['Premiere'].dt.month)['IMDB Score'].mean()\n",
    "monthly_basis_score.sort_values(ascending=False)"
   ]
  },
  {
   "cell_type": "markdown",
   "metadata": {},
   "source": [
    "가정\n",
    "\n",
    "1. 장르가 영향을 미쳤다\n",
    "    - 8월의 장르 비율은 나머지의 비율과 달라야 한다.\n",
    "    \n",
    "        -> 장르 비율 비슷함 :의미 없음\n",
    "    \n",
    "\n",
    "2. 런타임이 영향을 미쳤다\n",
    "    - 8월 런타임은 나머지 런타임과 달라야 한다\n",
    "    \n",
    "        -> 8월 런타임 짧다 : 의미 있음?\n",
    "\n",
    "\n",
    "3. 언어가 영향을 미쳤다\n",
    "    - 8월 언어는 나머지 언어와 달라야 한다\n",
    "\n",
    "        -> 언어 차이 없음\n",
    "4. 그 외"
   ]
  },
  {
   "cell_type": "code",
   "execution_count": null,
   "metadata": {},
   "outputs": [],
   "source": [
    "# 1-1 8월의 장르\n",
    "\n",
    "august_genre = df[df['Premiere'].dt.month == 8]['Genre'].value_counts()\n",
    "\n",
    "august_genre_big = august_genre[august_genre > 1]\n",
    "august_genre_small = august_genre[august_genre <= 1].sum()\n",
    "\n",
    "august_genre_big"
   ]
  },
  {
   "cell_type": "code",
   "execution_count": null,
   "metadata": {},
   "outputs": [],
   "source": [
    "plt.pie(august_genre)"
   ]
  },
  {
   "cell_type": "code",
   "execution_count": null,
   "metadata": {},
   "outputs": [],
   "source": [
    "# 1-2 나머지의 장르\n",
    "\n",
    "rest_genre = df[df['Premiere'].dt.month != 8]['Genre'].value_counts()\n",
    "\n",
    "rest_genre"
   ]
  },
  {
   "cell_type": "code",
   "execution_count": null,
   "metadata": {},
   "outputs": [],
   "source": [
    "plt.pie(rest_genre)"
   ]
  },
  {
   "cell_type": "markdown",
   "metadata": {},
   "source": [
    "1. 장르 비슷함 -> 무의미\n",
    "\n",
    "============================\n",
    "\n",
    "2. 런타임이 영향을 미쳤다"
   ]
  },
  {
   "cell_type": "code",
   "execution_count": null,
   "metadata": {},
   "outputs": [],
   "source": [
    "# 8월 런타임과 나머지 런타임\n",
    "august_runtime = df[df['Premiere'].dt.month == 8]['Runtime'].mean()\n",
    "rest_runtime = df[df['Premiere'].dt.month != 8]['Runtime'].mean()"
   ]
  },
  {
   "cell_type": "code",
   "execution_count": null,
   "metadata": {},
   "outputs": [],
   "source": [
    "df.groupby(df['Premiere'].dt.month)['Runtime'].mean()"
   ]
  },
  {
   "cell_type": "markdown",
   "metadata": {},
   "source": [
    "2. 런타임이 짧다!\n",
    "\n",
    "=============\n",
    "\n",
    "3. 언어가 영향을 미쳤다"
   ]
  },
  {
   "cell_type": "code",
   "execution_count": null,
   "metadata": {},
   "outputs": [],
   "source": [
    "august_language = df[df['Premiere'].dt.month == 8]['Language'].value_counts()\n",
    "august_language"
   ]
  },
  {
   "cell_type": "code",
   "execution_count": null,
   "metadata": {},
   "outputs": [],
   "source": [
    "rest_language = df[df['Premiere'].dt.month != 8]['Language'].value_counts()"
   ]
  },
  {
   "cell_type": "code",
   "execution_count": null,
   "metadata": {},
   "outputs": [],
   "source": [
    "plt.pie(august_language)"
   ]
  },
  {
   "cell_type": "code",
   "execution_count": null,
   "metadata": {},
   "outputs": [],
   "source": [
    "plt.pie(rest_language)"
   ]
  },
  {
   "cell_type": "markdown",
   "metadata": {},
   "source": [
    "3. 언어 차이 없음"
   ]
  },
  {
   "cell_type": "markdown",
   "metadata": {},
   "source": [
    "documenatry 월별 스코어"
   ]
  },
  {
   "cell_type": "code",
   "execution_count": null,
   "metadata": {},
   "outputs": [],
   "source": [
    "df[df['Genre']=='Documentary'].groupby(df['Premiere'].dt.month)['IMDB Score'].mean()"
   ]
  },
  {
   "cell_type": "code",
   "execution_count": null,
   "metadata": {},
   "outputs": [],
   "source": [
    "# 다큐멘터리 월 평균 점수\n",
    "documentary_monthly_score = df[df['Genre']=='Documentary'].groupby(df['Premiere'].dt.month)['IMDB Score'].mean()\n",
    "\n",
    "documentary_monthly_score.plot(kind='line')\n",
    "plt.title('Documentary Monthly Score')"
   ]
  },
  {
   "cell_type": "code",
   "execution_count": null,
   "metadata": {},
   "outputs": [],
   "source": [
    "sns.scatterplot(\n",
    "    data=df,\n",
    "    x='Premiere',\n",
    "    y='IMDB Score'\n",
    "    ).set(\n",
    "        title = 'IMDV Score by Premiere'\n",
    "    )"
   ]
  },
  {
   "cell_type": "code",
   "execution_count": null,
   "metadata": {},
   "outputs": [],
   "source": []
  }
 ],
 "metadata": {
  "kernelspec": {
   "display_name": "mulcam_3_9",
   "language": "python",
   "name": "mulcam_3_9"
  },
  "language_info": {
   "codemirror_mode": {
    "name": "ipython",
    "version": 3
   },
   "file_extension": ".py",
   "mimetype": "text/x-python",
   "name": "python",
   "nbconvert_exporter": "python",
   "pygments_lexer": "ipython3",
   "version": "3.9.18"
  }
 },
 "nbformat": 4,
 "nbformat_minor": 2
}
