{
 "cells": [
  {
   "cell_type": "code",
   "execution_count": 1,
   "metadata": {},
   "outputs": [],
   "source": [
    "import pandas as pd\n",
    "import numpy as np\n",
    "import seaborn as sns\n",
    "from matplotlib import pyplot as plt\n",
    "from scipy import stats"
   ]
  },
  {
   "cell_type": "code",
   "execution_count": 2,
   "metadata": {},
   "outputs": [
    {
     "data": {
      "text/html": [
       "<div>\n",
       "<style scoped>\n",
       "    .dataframe tbody tr th:only-of-type {\n",
       "        vertical-align: middle;\n",
       "    }\n",
       "\n",
       "    .dataframe tbody tr th {\n",
       "        vertical-align: top;\n",
       "    }\n",
       "\n",
       "    .dataframe thead th {\n",
       "        text-align: right;\n",
       "    }\n",
       "</style>\n",
       "<table border=\"1\" class=\"dataframe\">\n",
       "  <thead>\n",
       "    <tr style=\"text-align: right;\">\n",
       "      <th></th>\n",
       "      <th>Title</th>\n",
       "      <th>Genre</th>\n",
       "      <th>Premiere</th>\n",
       "      <th>Runtime</th>\n",
       "      <th>IMDB Score</th>\n",
       "      <th>Language</th>\n",
       "    </tr>\n",
       "  </thead>\n",
       "  <tbody>\n",
       "    <tr>\n",
       "      <th>0</th>\n",
       "      <td>Enter the Anime</td>\n",
       "      <td>Documentary</td>\n",
       "      <td>August 5, 2019</td>\n",
       "      <td>58</td>\n",
       "      <td>2.5</td>\n",
       "      <td>English/Japanese</td>\n",
       "    </tr>\n",
       "    <tr>\n",
       "      <th>1</th>\n",
       "      <td>Dark Forces</td>\n",
       "      <td>Thriller</td>\n",
       "      <td>August 21, 2020</td>\n",
       "      <td>81</td>\n",
       "      <td>2.6</td>\n",
       "      <td>Spanish</td>\n",
       "    </tr>\n",
       "    <tr>\n",
       "      <th>2</th>\n",
       "      <td>The App</td>\n",
       "      <td>Science fiction/Drama</td>\n",
       "      <td>December 26, 2019</td>\n",
       "      <td>79</td>\n",
       "      <td>2.6</td>\n",
       "      <td>Italian</td>\n",
       "    </tr>\n",
       "    <tr>\n",
       "      <th>3</th>\n",
       "      <td>The Open House</td>\n",
       "      <td>Horror thriller</td>\n",
       "      <td>January 19, 2018</td>\n",
       "      <td>94</td>\n",
       "      <td>3.2</td>\n",
       "      <td>English</td>\n",
       "    </tr>\n",
       "    <tr>\n",
       "      <th>4</th>\n",
       "      <td>Kaali Khuhi</td>\n",
       "      <td>Mystery</td>\n",
       "      <td>October 30, 2020</td>\n",
       "      <td>90</td>\n",
       "      <td>3.4</td>\n",
       "      <td>Hindi</td>\n",
       "    </tr>\n",
       "    <tr>\n",
       "      <th>...</th>\n",
       "      <td>...</td>\n",
       "      <td>...</td>\n",
       "      <td>...</td>\n",
       "      <td>...</td>\n",
       "      <td>...</td>\n",
       "      <td>...</td>\n",
       "    </tr>\n",
       "    <tr>\n",
       "      <th>579</th>\n",
       "      <td>Taylor Swift: Reputation Stadium Tour</td>\n",
       "      <td>Concert Film</td>\n",
       "      <td>December 31, 2018</td>\n",
       "      <td>125</td>\n",
       "      <td>8.4</td>\n",
       "      <td>English</td>\n",
       "    </tr>\n",
       "    <tr>\n",
       "      <th>580</th>\n",
       "      <td>Winter on Fire: Ukraine's Fight for Freedom</td>\n",
       "      <td>Documentary</td>\n",
       "      <td>October 9, 2015</td>\n",
       "      <td>91</td>\n",
       "      <td>8.4</td>\n",
       "      <td>English/Ukranian/Russian</td>\n",
       "    </tr>\n",
       "    <tr>\n",
       "      <th>581</th>\n",
       "      <td>Springsteen on Broadway</td>\n",
       "      <td>One-man show</td>\n",
       "      <td>December 16, 2018</td>\n",
       "      <td>153</td>\n",
       "      <td>8.5</td>\n",
       "      <td>English</td>\n",
       "    </tr>\n",
       "    <tr>\n",
       "      <th>582</th>\n",
       "      <td>Emicida: AmarElo - It's All For Yesterday</td>\n",
       "      <td>Documentary</td>\n",
       "      <td>December 8, 2020</td>\n",
       "      <td>89</td>\n",
       "      <td>8.6</td>\n",
       "      <td>Portuguese</td>\n",
       "    </tr>\n",
       "    <tr>\n",
       "      <th>583</th>\n",
       "      <td>David Attenborough: A Life on Our Planet</td>\n",
       "      <td>Documentary</td>\n",
       "      <td>October 4, 2020</td>\n",
       "      <td>83</td>\n",
       "      <td>9.0</td>\n",
       "      <td>English</td>\n",
       "    </tr>\n",
       "  </tbody>\n",
       "</table>\n",
       "<p>584 rows × 6 columns</p>\n",
       "</div>"
      ],
      "text/plain": [
       "                                           Title                  Genre  \\\n",
       "0                                Enter the Anime            Documentary   \n",
       "1                                    Dark Forces               Thriller   \n",
       "2                                        The App  Science fiction/Drama   \n",
       "3                                 The Open House        Horror thriller   \n",
       "4                                    Kaali Khuhi                Mystery   \n",
       "..                                           ...                    ...   \n",
       "579        Taylor Swift: Reputation Stadium Tour           Concert Film   \n",
       "580  Winter on Fire: Ukraine's Fight for Freedom            Documentary   \n",
       "581                      Springsteen on Broadway           One-man show   \n",
       "582    Emicida: AmarElo - It's All For Yesterday            Documentary   \n",
       "583     David Attenborough: A Life on Our Planet            Documentary   \n",
       "\n",
       "              Premiere  Runtime  IMDB Score                  Language  \n",
       "0       August 5, 2019       58         2.5          English/Japanese  \n",
       "1      August 21, 2020       81         2.6                   Spanish  \n",
       "2    December 26, 2019       79         2.6                   Italian  \n",
       "3     January 19, 2018       94         3.2                   English  \n",
       "4     October 30, 2020       90         3.4                     Hindi  \n",
       "..                 ...      ...         ...                       ...  \n",
       "579  December 31, 2018      125         8.4                   English  \n",
       "580    October 9, 2015       91         8.4  English/Ukranian/Russian  \n",
       "581  December 16, 2018      153         8.5                   English  \n",
       "582   December 8, 2020       89         8.6                Portuguese  \n",
       "583    October 4, 2020       83         9.0                   English  \n",
       "\n",
       "[584 rows x 6 columns]"
      ]
     },
     "execution_count": 2,
     "metadata": {},
     "output_type": "execute_result"
    }
   ],
   "source": [
    "df = pd.read_csv('./data/NetflixOriginals.csv',encoding='\"ISO-8859-1\"')\n",
    "df"
   ]
  },
  {
   "cell_type": "code",
   "execution_count": 3,
   "metadata": {},
   "outputs": [],
   "source": [
    "df['Premiere'] = pd.to_datetime(df['Premiere'])\n",
    "\n",
    "# 날짜 정렬"
   ]
  },
  {
   "cell_type": "markdown",
   "metadata": {},
   "source": [
    "기본 EDA \n",
    "\n",
    "1. 기초통계\n",
    "2. 결측치 확인\n",
    "3. 컬럼별 종류 개수\n",
    "4. 장르별 개수 상위\n",
    "5. 개봉일 범위  xxxxx\n",
    "6. 연도별 개봉수\n",
    "7. 월별 개봉수\n",
    "8. 장르별 런타임\n",
    "9. 장르별 스코어\n",
    "10. 언어별 스코어\n",
    "11. 언어 개수\n",
    "12. 다중언어 개수  xxxxxxxxx\n",
    "13. 월별 스코어"
   ]
  },
  {
   "cell_type": "code",
   "execution_count": null,
   "metadata": {},
   "outputs": [],
   "source": [
    "# 1번\n",
    "df.describe()"
   ]
  },
  {
   "cell_type": "code",
   "execution_count": null,
   "metadata": {},
   "outputs": [],
   "source": [
    "# 2번\n",
    "df.isnull().sum()"
   ]
  },
  {
   "cell_type": "code",
   "execution_count": null,
   "metadata": {},
   "outputs": [],
   "source": [
    "# 3번\n",
    "df.nunique()"
   ]
  },
  {
   "cell_type": "code",
   "execution_count": null,
   "metadata": {},
   "outputs": [],
   "source": [
    "# 4번\n",
    "\n",
    "\n",
    "plt.figure(figsize=(8,5))\n",
    "df.value_counts(df['Genre'])[:10].plot(\n",
    "    kind='bar',\n",
    "    width=0.7,\n",
    "    color = sns.color_palette('winter'),\n",
    "    alpha = 0.4\n",
    ")\n",
    "plt.title('TOP 10 Genre')\n",
    "_=plt.xticks(rotation=45)"
   ]
  },
  {
   "cell_type": "code",
   "execution_count": null,
   "metadata": {},
   "outputs": [],
   "source": [
    "# 6번\n",
    "\n",
    "df.groupby(df['Premiere'].dt.to_period(\"Y\")).size().plot(kind='bar',color = sns.color_palette('winter'),alpha = 0.4)\n",
    "_=plt.xticks(rotation=45)\n",
    "\n",
    "# 연도별 개봉 개수"
   ]
  },
  {
   "cell_type": "code",
   "execution_count": null,
   "metadata": {},
   "outputs": [],
   "source": [
    "# 7번\n",
    "\n",
    "df.groupby(df['Premiere'].dt.month).size().plot(kind='bar',color=sns.color_palette('winter'),alpha=0.7)\n",
    "_=plt.xticks(rotation=0)\n",
    "# 월별 개봉 개수"
   ]
  },
  {
   "cell_type": "code",
   "execution_count": null,
   "metadata": {},
   "outputs": [],
   "source": [
    "# 8번\n",
    "\n",
    "df.groupby(['Genre'])['Runtime'].mean().sort_values(ascending=True)[-15:].plot(kind='barh')"
   ]
  },
  {
   "cell_type": "code",
   "execution_count": null,
   "metadata": {},
   "outputs": [],
   "source": [
    "df['Runtime'].plot(kind='hist',bins=np.arange(0,150,3))"
   ]
  },
  {
   "cell_type": "code",
   "execution_count": null,
   "metadata": {},
   "outputs": [],
   "source": [
    "# 9번\n",
    "# 장르별 스코어\n",
    "\n",
    "df.groupby(['Genre'])['IMDB Score'].mean().sort_values().iloc[-10:].plot(kind='barh')"
   ]
  },
  {
   "cell_type": "code",
   "execution_count": null,
   "metadata": {},
   "outputs": [],
   "source": [
    "# 10번\n",
    "# 언어별 스코어\n",
    "\n",
    "df.groupby(['Language'])['IMDB Score'].mean().sort_values(ascending=False).iloc[:20].plot(kind='barh')\n",
    "# 38개 (뒤에 .shape 하면 나옴)"
   ]
  },
  {
   "cell_type": "code",
   "execution_count": null,
   "metadata": {},
   "outputs": [],
   "source": [
    "# 11번\n",
    "# 언어 개수\n",
    "\n",
    "df.value_counts(df['Language'])[:20].plot(kind='pie')"
   ]
  },
  {
   "cell_type": "code",
   "execution_count": null,
   "metadata": {},
   "outputs": [],
   "source": [
    "# 12번 xxxxxxxxxxxxxxxxxxxxx\n",
    "# 다중 언어 개수\n",
    "\n",
    "MultiLingual_df = df[df['Language'].str.contains('/')]\n",
    "MultiLingual_df.groupby(['Language'])['IMDB Score'].mean().sort_values(ascending=False)\n",
    "# 16개"
   ]
  },
  {
   "cell_type": "code",
   "execution_count": null,
   "metadata": {},
   "outputs": [],
   "source": [
    "# 13번\n",
    "\n",
    "monthly_average_score = df.groupby(df['Premiere'].dt.month)['IMDB Score'].mean()\n",
    "\n",
    "sns.set_style('whitegrid')\n",
    "monthly_score.plot(kind='bar',color = sns.color_palette('winter'),alpha=0.6)\n",
    "plt.xlabel('Month')\n",
    "plt.ylabel('Score')\n",
    "plt.title('Monthly Average Score')\n",
    "_=plt.xticks(rotation=0)\n",
    "\n",
    "# 월별 스코어"
   ]
  },
  {
   "cell_type": "code",
   "execution_count": null,
   "metadata": {},
   "outputs": [],
   "source": [
    "monthly_score.nlargest(12)"
   ]
  },
  {
   "cell_type": "code",
   "execution_count": null,
   "metadata": {},
   "outputs": [],
   "source": [
    "# 연도별 평균 점수\n",
    "\n",
    "yearly_average_score = df.groupby(df['Premiere'].dt.year)['IMDB Score'].mean()\n",
    "\n",
    "yearly_average_score.plot(kind='bar',color = sns.color_palette('winter'),alpha=0.6)\n",
    "plt.xlabel('Genre')\n",
    "plt.ylabel('Count')\n",
    "plt.title('Yearly Average Score')\n",
    "_=plt.xticks(rotation=0)\n",
    "\n"
   ]
  },
  {
   "cell_type": "code",
   "execution_count": null,
   "metadata": {},
   "outputs": [],
   "source": [
    "yearly_average_score.mean()"
   ]
  },
  {
   "cell_type": "markdown",
   "metadata": {},
   "source": [
    "기법 사용 , 제언"
   ]
  },
  {
   "cell_type": "markdown",
   "metadata": {},
   "source": [
    "월별 score 계산 --> 8월 낮음 / 6월 가장 높음--> 분석"
   ]
  },
  {
   "cell_type": "markdown",
   "metadata": {},
   "source": [
    "귀무가설 : 8월 평균 == 나머지 평균\n",
    "\n",
    "대립가설 : 8월 평균 != 나머지 평균"
   ]
  },
  {
   "cell_type": "markdown",
   "metadata": {},
   "source": [
    "one sample t-test 선정\n",
    "\n",
    "이유\n",
    "1. 모집단이 정규분포 따르는지 모름\n",
    "2. 모분산 모름????"
   ]
  },
  {
   "cell_type": "code",
   "execution_count": null,
   "metadata": {},
   "outputs": [],
   "source": [
    "monthly_basis_score"
   ]
  },
  {
   "cell_type": "code",
   "execution_count": null,
   "metadata": {},
   "outputs": [],
   "source": [
    "# 6월 가장 높음\n",
    "\n",
    "scores = np.array([6.0027027 , 6.11794872, 6.32291667, 6.04920635, 6.21320755,\n",
    "       6.09117647, 5.951351, 6.48113208, 6.52207792,\n",
    "       6.39824561, 6.2745098 ])\n",
    "\n",
    "print(scores.mean(),scores.std(ddof=1))"
   ]
  },
  {
   "cell_type": "code",
   "execution_count": null,
   "metadata": {},
   "outputs": [],
   "source": [
    "june_score = 6.58285714"
   ]
  },
  {
   "cell_type": "code",
   "execution_count": null,
   "metadata": {},
   "outputs": [],
   "source": [
    "# 검정통계량 계산\n",
    "\n",
    "(5.951351351351351 - 6.277816455695082) / (0.20077736867761145 / 37**0.5)"
   ]
  },
  {
   "cell_type": "markdown",
   "metadata": {},
   "source": [
    "t 분포표\n",
    "\n",
    "단측\n",
    "\n",
    "자유도 30 : 1.697\n",
    "자유도 40 : 1.684\n",
    "\n",
    "양측\n",
    "\n",
    "자유도 30 : 2.042\n",
    "자유도 40 : 2.021\n",
    "\n",
    "귀무가설 기각 가능!"
   ]
  },
  {
   "cell_type": "code",
   "execution_count": null,
   "metadata": {},
   "outputs": [],
   "source": [
    "monthly_basis_score.values"
   ]
  },
  {
   "cell_type": "code",
   "execution_count": null,
   "metadata": {},
   "outputs": [],
   "source": [
    "t_statistics,p_value = stats.ttest_1samp(scores,june_score)\n",
    "t_statistics,p_value"
   ]
  },
  {
   "cell_type": "markdown",
   "metadata": {},
   "source": [
    "p_value 0.05보다 낮다 ==> 귀무가설 기각, 대립가설 채택 가능"
   ]
  },
  {
   "cell_type": "markdown",
   "metadata": {},
   "source": [
    "원인 분석"
   ]
  },
  {
   "cell_type": "code",
   "execution_count": null,
   "metadata": {},
   "outputs": [],
   "source": [
    "monthly_basis_score = df.groupby(df['Premiere'].dt.month)['IMDB Score'].mean()\n",
    "monthly_basis_score.sort_values(ascending=False)"
   ]
  },
  {
   "cell_type": "markdown",
   "metadata": {},
   "source": [
    "가정\n",
    "\n",
    "1. 장르가 영향을 미쳤다\n",
    "    - 8월의 장르 비율은 나머지의 비율과 달라야 한다.\n",
    "    \n",
    "        -> 장르 비율 비슷함 :의미 없음\n",
    "    \n",
    "\n",
    "2. 런타임이 영향을 미쳤다\n",
    "    - 8월 런타임은 나머지 런타임과 달라야 한다\n",
    "    \n",
    "        -> 8월 런타임 짧다 : 의미 있음?\n",
    "\n",
    "\n",
    "3. 언어가 영향을 미쳤다\n",
    "    - 8월 언어는 나머지 언어와 달라야 한다\n",
    "\n",
    "        -> 언어 차이 없음\n",
    "4. 그 외"
   ]
  },
  {
   "cell_type": "code",
   "execution_count": null,
   "metadata": {},
   "outputs": [],
   "source": [
    "# 1-1 8월의 장르\n",
    "\n",
    "august_genre = df[df['Premiere'].dt.month == 8]['Genre'].value_counts()\n",
    "\n",
    "august_genre_big = august_genre[august_genre > 1]\n",
    "august_genre_small = august_genre[august_genre <= 1].sum()\n",
    "\n",
    "august_genre_big"
   ]
  },
  {
   "cell_type": "code",
   "execution_count": null,
   "metadata": {},
   "outputs": [],
   "source": [
    "plt.pie(august_genre)"
   ]
  },
  {
   "cell_type": "code",
   "execution_count": null,
   "metadata": {},
   "outputs": [],
   "source": [
    "# 1-2 나머지의 장르\n",
    "\n",
    "rest_genre = df[df['Premiere'].dt.month != 8]['Genre'].value_counts()\n",
    "\n",
    "rest_genre"
   ]
  },
  {
   "cell_type": "code",
   "execution_count": null,
   "metadata": {},
   "outputs": [],
   "source": [
    "plt.pie(rest_genre)"
   ]
  },
  {
   "cell_type": "markdown",
   "metadata": {},
   "source": [
    "1. 장르 비슷함 -> 무의미\n",
    "\n",
    "============================\n",
    "\n",
    "2. 런타임이 영향을 미쳤다"
   ]
  },
  {
   "cell_type": "code",
   "execution_count": null,
   "metadata": {},
   "outputs": [],
   "source": [
    "# 8월 런타임과 나머지 런타임\n",
    "august_runtime = df[df['Premiere'].dt.month == 8]['Runtime'].mean()\n",
    "rest_runtime = df[df['Premiere'].dt.month != 8]['Runtime'].mean()"
   ]
  },
  {
   "cell_type": "code",
   "execution_count": null,
   "metadata": {},
   "outputs": [],
   "source": [
    "df.groupby(df['Premiere'].dt.month)['Runtime'].mean()"
   ]
  },
  {
   "cell_type": "markdown",
   "metadata": {},
   "source": [
    "2. 런타임이 짧다!\n",
    "\n",
    "=============\n",
    "\n",
    "3. 언어가 영향을 미쳤다"
   ]
  },
  {
   "cell_type": "code",
   "execution_count": null,
   "metadata": {},
   "outputs": [],
   "source": [
    "august_language = df[df['Premiere'].dt.month == 8]['Language'].value_counts()\n",
    "august_language"
   ]
  },
  {
   "cell_type": "code",
   "execution_count": null,
   "metadata": {},
   "outputs": [],
   "source": [
    "rest_language = df[df['Premiere'].dt.month != 8]['Language'].value_counts()"
   ]
  },
  {
   "cell_type": "code",
   "execution_count": null,
   "metadata": {},
   "outputs": [],
   "source": [
    "plt.pie(august_language)"
   ]
  },
  {
   "cell_type": "code",
   "execution_count": null,
   "metadata": {},
   "outputs": [],
   "source": [
    "plt.pie(rest_language)"
   ]
  },
  {
   "cell_type": "markdown",
   "metadata": {},
   "source": [
    "3. 언어 차이 없음"
   ]
  },
  {
   "cell_type": "markdown",
   "metadata": {},
   "source": [
    "추가 시각화\n",
    "\n",
    "documenatry 월별 스코어\n",
    "스코어 스캐터"
   ]
  },
  {
   "cell_type": "code",
   "execution_count": null,
   "metadata": {},
   "outputs": [],
   "source": [
    "df[df['Genre']=='Documentary'].groupby(df['Premiere'].dt.month)['IMDB Score'].mean()"
   ]
  },
  {
   "cell_type": "code",
   "execution_count": null,
   "metadata": {},
   "outputs": [],
   "source": [
    "# 다큐멘터리 월 평균 점수\n",
    "documentary_monthly_score = df[df['Genre']=='Documentary'].groupby(df['Premiere'].dt.month)['IMDB Score'].mean()\n",
    "\n",
    "documentary_monthly_score.plot(kind='line')\n",
    "plt.title('Documentary Monthly Score')"
   ]
  },
  {
   "cell_type": "code",
   "execution_count": null,
   "metadata": {},
   "outputs": [],
   "source": [
    "sns.scatterplot(\n",
    "    data=df,\n",
    "    x='Premiere',\n",
    "    y='IMDB Score'\n",
    "    ).set(\n",
    "        title = 'IMDV Score by Premiere'\n",
    "    )"
   ]
  },
  {
   "cell_type": "code",
   "execution_count": 5,
   "metadata": {},
   "outputs": [
    {
     "name": "stdout",
     "output_type": "stream",
     "text": [
      "IMDB Score p-value: 0.6591983078250134, 등분산 가정 만족\n"
     ]
    }
   ],
   "source": [
    "# 등분산성 검정\n",
    "test_names = [\"IMDB Score\"]\n",
    "\n",
    "june_scores = df[(df['Premiere'].dt.month == 10) & (df['Genre'] == 'Documentary')][['IMDB Score']]\n",
    "rest_scores = df[(df['Premiere'].dt.month != 10) & (df['Genre'] == 'Documentary')][['IMDB Score']]\n",
    "for test_name in test_names:\n",
    "    _, p_value_levene = stats.levene(june_scores[test_name], rest_scores[test_name])\n",
    "    if p_value_levene > 0.05:\n",
    "        print(f\"{test_name} p-value: {p_value_levene}, 등분산 가정 만족\")\n",
    "    else:\n",
    "        print(f\"{test_name} p-value: {p_value_levene}, 이분산 가정 만족\")"
   ]
  },
  {
   "cell_type": "code",
   "execution_count": 7,
   "metadata": {},
   "outputs": [
    {
     "name": "stdout",
     "output_type": "stream",
     "text": [
      "p-value: [0.01185071]\n",
      "귀무 가설 기각: [ True]\n"
     ]
    }
   ],
   "source": [
    "t_statistic, p_value = stats.ttest_ind(\n",
    "    a=june_scores,\n",
    "    b=rest_scores,\n",
    "    alternative=\"two-sided\",\n",
    "    equal_var=True\n",
    ")\n",
    "\n",
    "print(f\"p-value: {p_value}\")\n",
    "print(f\"귀무 가설 기각: {p_value < 0.05}\")"
   ]
  },
  {
   "cell_type": "code",
   "execution_count": 8,
   "metadata": {},
   "outputs": [
    {
     "name": "stdout",
     "output_type": "stream",
     "text": [
      "IMDB Score p-value: 0.009114190007489658, 이분산 가정 만족\n"
     ]
    }
   ],
   "source": [
    "from scipy import stats\n",
    "\n",
    "test_names = [\"IMDB Score\"]\n",
    "\n",
    "documentary_scores = df[df['Genre'] == 'Documentary'][['IMDB Score']]\n",
    "drama_scores = df[df['Genre'] != 'Documentary'][['IMDB Score']]\n",
    "\n",
    "for test_name in test_names:\n",
    "    _, p_value_levene = stats.levene(documentary_scores[test_name], drama_scores[test_name])\n",
    "    if p_value_levene > 0.05:\n",
    "        print(f\"{test_name} p-value: {p_value_levene}, 등분산 가정 만족\")\n",
    "    else:\n",
    "        print(f\"{test_name} p-value: {p_value_levene}, 이분산 가정 만족\")"
   ]
  },
  {
   "cell_type": "code",
   "execution_count": 9,
   "metadata": {},
   "outputs": [
    {
     "name": "stdout",
     "output_type": "stream",
     "text": [
      "p-value: [2.56613755e-25]\n",
      "귀무 가설 기각: [ True]\n"
     ]
    }
   ],
   "source": [
    "t_statistic, p_value = stats.ttest_ind(\n",
    "    a=documentary_scores,\n",
    "    b=drama_scores,\n",
    "    alternative=\"two-sided\",\n",
    "    equal_var=False\n",
    ")\n",
    "\n",
    "print(f\"p-value: {p_value}\")\n",
    "print(f\"귀무 가설 기각: {p_value < 0.05}\")"
   ]
  },
  {
   "cell_type": "code",
   "execution_count": 10,
   "metadata": {},
   "outputs": [
    {
     "name": "stdout",
     "output_type": "stream",
     "text": [
      "IMDB Score p-value: 0.11077329074514781, 등분산 가정 만족\n"
     ]
    }
   ],
   "source": [
    "test_names = [\"IMDB Score\"]\n",
    "english_scores = df[df['Language'].str.contains('English')][['IMDB Score']]\n",
    "other_scores = df[~df['Language'].str.contains('English')][['IMDB Score']]\n",
    "for test_name in test_names:\n",
    "    _, p_value_levene = stats.levene(english_scores[test_name], other_scores[test_name])\n",
    "    if p_value_levene > 0.05:\n",
    "        print(f\"{test_name} p-value: {p_value_levene}, 등분산 가정 만족\")\n",
    "    else:\n",
    "        print(f\"{test_name} p-value: {p_value_levene}, 이분산 가정 만족\")"
   ]
  },
  {
   "cell_type": "code",
   "execution_count": 11,
   "metadata": {},
   "outputs": [
    {
     "name": "stdout",
     "output_type": "stream",
     "text": [
      "p-value: [2.43741418e-06]\n",
      "귀무 가설 기각: [ True]\n"
     ]
    }
   ],
   "source": [
    "t_statistic, p_value = stats.ttest_ind(\n",
    "    a=english_scores,\n",
    "    b=other_scores,\n",
    "    alternative=\"two-sided\",\n",
    "    equal_var=False\n",
    ")\n",
    "\n",
    "print(f\"p-value: {p_value}\")\n",
    "print(f\"귀무 가설 기각: {p_value < 0.05}\")"
   ]
  },
  {
   "cell_type": "code",
   "execution_count": null,
   "metadata": {},
   "outputs": [],
   "source": []
  }
 ],
 "metadata": {
  "kernelspec": {
   "display_name": "mulcam_3_9",
   "language": "python",
   "name": "mulcam_3_9"
  },
  "language_info": {
   "codemirror_mode": {
    "name": "ipython",
    "version": 3
   },
   "file_extension": ".py",
   "mimetype": "text/x-python",
   "name": "python",
   "nbconvert_exporter": "python",
   "pygments_lexer": "ipython3",
   "version": "3.9.18"
  }
 },
 "nbformat": 4,
 "nbformat_minor": 2
}
